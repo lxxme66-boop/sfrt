{
 "cells": [
  {
   "cell_type": "markdown",
   "id": "f1cf716b",
   "metadata": {},
   "source": [
    "# 根据质量评估，筛选出来最终数据样本"
   ]
  },
  {
   "cell_type": "code",
   "execution_count": null,
   "id": "8557020d",
   "metadata": {},
   "outputs": [
    {
     "name": "stdout",
     "output_type": "stream",
     "text": [
      "Found 1219 high quality entries\n",
      "Found 1629 medium quality entries\n",
      "Need 1181 more entries from medium quality data\n",
      "Successfully saved 2400 entries to outputs_final_examples/sft_v1_01.jsonl\n"
     ]
    }
   ],
   "source": [
    "from utils.data_filter import filter_data\n",
    "input_file = \"outputs_excel/results_all_01.jsonl\"  # 替换为您的输入文件路径\n",
    "output_file = \"outputs_final_examples/response_v1_01.jsonl\"  # 替换为您想要的输出文件路径\n",
    "filter_data(input_file, output_file, target_count=2400)"
   ]
  },
  {
   "cell_type": "code",
   "execution_count": 3,
   "id": "0cc0f9a9",
   "metadata": {},
   "outputs": [
    {
     "name": "stdout",
     "output_type": "stream",
     "text": [
      "合并完成，结果已保存到 outputs_final_examples/results_all_02.jsonl\n"
     ]
    }
   ],
   "source": [
    "from utils.data_file import merge_jsonl_files\n",
    "\n",
    "# 要合并的jsonl文件列表\n",
    "input_files = [\n",
    "    'outputs_excel/results03_2_v2.jsonl', \n",
    "    'outputs_excel/results_744_v2.jsonl', \n",
    "    'outputs_excel/results02_1_v2.jsonl', \n",
    "]\n",
    "\n",
    "# 合并后的输出文件\n",
    "output_file = \"outputs_final_examples/results_all_02.jsonl\"\n",
    "\n",
    "# 调用合并函数\n",
    "merge_jsonl_files(input_files, output_file)\n",
    "print(f\"合并完成，结果已保存到 {output_file}\")"
   ]
  },
  {
   "cell_type": "code",
   "execution_count": 4,
   "id": "d72de1be",
   "metadata": {},
   "outputs": [
    {
     "name": "stdout",
     "output_type": "stream",
     "text": [
      "Found 1209 high quality entries\n",
      "Found 1639 medium quality entries\n",
      "Need 1191 more entries from medium quality data\n",
      "Successfully saved 2400 entries to outputs_final_examples/response_v1_02.jsonl\n"
     ]
    }
   ],
   "source": [
    "from utils.data_filter import filter_data\n",
    "input_file = \"outputs_final_examples/results_all_02.jsonl\"  # 替换为您的输入文件路径\n",
    "output_file = \"outputs_final_examples/response_v1_02.jsonl\"  # 替换为您想要的输出文件路径\n",
    "filter_data(input_file, output_file, target_count=2400)"
   ]
  }
 ],
 "metadata": {
  "kernelspec": {
   "display_name": "raft",
   "language": "python",
   "name": "python3"
  },
  "language_info": {
   "codemirror_mode": {
    "name": "ipython",
    "version": 3
   },
   "file_extension": ".py",
   "mimetype": "text/x-python",
   "name": "python",
   "nbconvert_exporter": "python",
   "pygments_lexer": "ipython3",
   "version": "3.10.17"
  }
 },
 "nbformat": 4,
 "nbformat_minor": 5
}

{
 "cells": [
  {
   "cell_type": "markdown",
   "id": "17c8cf75",
   "metadata": {},
   "source": [
    "# 数据合成流程 迭代新流程"
   ]
  },
  {
   "cell_type": "code",
   "execution_count": 5,
   "id": "52e18640",
   "metadata": {},
   "outputs": [
    {
     "name": "stdout",
     "output_type": "stream",
     "text": [
      "len(file_names): 277\n"
     ]
    },
    {
     "name": "stderr",
     "output_type": "stream",
     "text": [
      "Chunking: 100%|██████████| 1/1 [00:00<00:00, 58.79file/s, chunks=9]\n"
     ]
    },
    {
     "name": "stdout",
     "output_type": "stream",
     "text": [
      "Chunks saved to outputs_chunks/article_chunks03.json\n"
     ]
    },
    {
     "name": "stderr",
     "output_type": "stream",
     "text": [
      "Chunking: 100%|██████████| 1/1 [00:00<00:00, 64.47file/s, chunks=26]"
     ]
    },
    {
     "name": "stdout",
     "output_type": "stream",
     "text": [
      "Chunks saved to outputs_chunks/article_chunks03.json\n",
      "len(chunks_all) = 35\n"
     ]
    },
    {
     "name": "stderr",
     "output_type": "stream",
     "text": [
      "\n"
     ]
    }
   ],
   "source": [
    "from utils.article_chunks import gen_chunks\n",
    "\n",
    "data_dir = \"data\"\n",
    "chunks_path = \"outputs_chunks/article_chunks03.json\"\n",
    "article_chunks = gen_chunks(data_dir, chunks_path, start_idx=5, end_idx=7)"
   ]
  },
  {
   "cell_type": "code",
   "execution_count": 2,
   "id": "66368dc8",
   "metadata": {},
   "outputs": [
    {
     "name": "stdout",
     "output_type": "stream",
     "text": [
      "len(articles) = 2\n",
      "processing 12.9英寸高分辨率多色TFT—LCD_师庆华_llm_correct.md\n"
     ]
    },
    {
     "name": "stderr",
     "output_type": "stream",
     "text": [
      "Questioning:  33%|███▎      | 1/3 [00:19<00:38, 19.21s/file, chunks=8]"
     ]
    },
    {
     "name": "stdout",
     "output_type": "stream",
     "text": [
      "processing 12.9英寸高分辨率多色TFT—LCD_师庆华_llm_correct.md questions 2\n",
      "Questions saved to outputs_questions/article_questions03.json\n"
     ]
    },
    {
     "name": "stderr",
     "output_type": "stream",
     "text": [
      "Questioning:  67%|██████▋   | 2/3 [00:24<00:12, 12.21s/file, chunks=8]\n"
     ]
    },
    {
     "name": "stdout",
     "output_type": "stream",
     "text": [
      "processing 12.9英寸高分辨率多色TFT—LCD_师庆华_llm_correct.md questions 2\n",
      "Questions saved to outputs_questions/article_questions03.json\n",
      "done 12.9英寸高分辨率多色TFT—LCD_师庆华_llm_correct.md questions.\n",
      "processing 125mm彩色AMOLED的多晶硅TFT基板_孟志国_llm_correct.md\n"
     ]
    },
    {
     "name": "stderr",
     "output_type": "stream",
     "text": [
      "Questioning:  14%|█▍        | 1/7 [00:22<02:13, 22.21s/file, chunks=24]"
     ]
    },
    {
     "name": "stdout",
     "output_type": "stream",
     "text": [
      "processing 125mm彩色AMOLED的多晶硅TFT基板_孟志国_llm_correct.md questions 2\n",
      "Questions saved to outputs_questions/article_questions03.json\n"
     ]
    },
    {
     "name": "stderr",
     "output_type": "stream",
     "text": [
      "Questioning:  29%|██▊       | 2/7 [00:46<01:57, 23.54s/file, chunks=24]"
     ]
    },
    {
     "name": "stdout",
     "output_type": "stream",
     "text": [
      "processing 125mm彩色AMOLED的多晶硅TFT基板_孟志国_llm_correct.md questions 3\n",
      "Questions saved to outputs_questions/article_questions03.json\n"
     ]
    },
    {
     "name": "stderr",
     "output_type": "stream",
     "text": [
      "Questioning:  43%|████▎     | 3/7 [00:47<00:53, 13.26s/file, chunks=24]"
     ]
    },
    {
     "name": "stdout",
     "output_type": "stream",
     "text": [
      "processing 125mm彩色AMOLED的多晶硅TFT基板_孟志国_llm_correct.md questions 2\n",
      "Questions saved to outputs_questions/article_questions03.json\n"
     ]
    },
    {
     "name": "stderr",
     "output_type": "stream",
     "text": [
      "Questioning:  57%|█████▋    | 4/7 [01:02<00:41, 13.83s/file, chunks=24]"
     ]
    },
    {
     "name": "stdout",
     "output_type": "stream",
     "text": [
      "processing 125mm彩色AMOLED的多晶硅TFT基板_孟志国_llm_correct.md questions 2\n",
      "Questions saved to outputs_questions/article_questions03.json\n"
     ]
    },
    {
     "name": "stderr",
     "output_type": "stream",
     "text": [
      "Questioning:  71%|███████▏  | 5/7 [01:06<00:20, 10.40s/file, chunks=24]"
     ]
    },
    {
     "name": "stdout",
     "output_type": "stream",
     "text": [
      "processing 125mm彩色AMOLED的多晶硅TFT基板_孟志国_llm_correct.md questions 2\n",
      "Questions saved to outputs_questions/article_questions03.json\n"
     ]
    },
    {
     "name": "stderr",
     "output_type": "stream",
     "text": [
      "Questioning:  86%|████████▌ | 6/7 [01:24<00:14, 14.03s/file, chunks=24]"
     ]
    },
    {
     "name": "stdout",
     "output_type": "stream",
     "text": [
      "processing 125mm彩色AMOLED的多晶硅TFT基板_孟志国_llm_correct.md questions 2\n",
      "Questions saved to outputs_questions/article_questions03.json\n",
      "done 125mm彩色AMOLED的多晶硅TFT基板_孟志国_llm_correct.md questions.\n"
     ]
    },
    {
     "name": "stderr",
     "output_type": "stream",
     "text": [
      "\n"
     ]
    }
   ],
   "source": [
    "from utils.query_generation import build_openai_client_chat, gen_query\n",
    "chunks_path = \"outputs_chunks/article_chunks03.json\"\n",
    "chat_model = build_openai_client_chat()\n",
    "questions_path = \"outputs_questions/article_questions03.json\"\n",
    "gen_query(chunks_path, chat_model, questions_path)"
   ]
  },
  {
   "cell_type": "code",
   "execution_count": 3,
   "id": "2fffbe6b",
   "metadata": {},
   "outputs": [
    {
     "name": "stderr",
     "output_type": "stream",
     "text": [
      "Answering:  25%|██▌       | 1/4 [00:32<01:36, 32.33s/file]"
     ]
    },
    {
     "name": "stdout",
     "output_type": "stream",
     "text": [
      "Questions saved to outputs_answers/article_answers03.json\n"
     ]
    },
    {
     "name": "stderr",
     "output_type": "stream",
     "text": [
      "Answering:  50%|█████     | 2/4 [00:35<00:30, 15.16s/file]"
     ]
    },
    {
     "name": "stdout",
     "output_type": "stream",
     "text": [
      "Questions saved to outputs_answers/article_answers03.json\n"
     ]
    },
    {
     "name": "stderr",
     "output_type": "stream",
     "text": [
      "Answering:  75%|███████▌  | 3/4 [00:56<00:17, 17.90s/file]"
     ]
    },
    {
     "name": "stdout",
     "output_type": "stream",
     "text": [
      "Questions saved to outputs_answers/article_answers03.json\n"
     ]
    },
    {
     "name": "stderr",
     "output_type": "stream",
     "text": [
      "Answering: 100%|██████████| 4/4 [01:16<00:00, 19.11s/file]\n"
     ]
    },
    {
     "name": "stdout",
     "output_type": "stream",
     "text": [
      "Questions saved to outputs_answers/article_answers03.json\n",
      "done 12.9英寸高分辨率多色TFT—LCD_师庆华_llm_correct.md answers.\n"
     ]
    },
    {
     "name": "stderr",
     "output_type": "stream",
     "text": [
      "Answering:   8%|▊         | 1/13 [00:35<07:02, 35.24s/file]"
     ]
    },
    {
     "name": "stdout",
     "output_type": "stream",
     "text": [
      "Questions saved to outputs_answers/article_answers03.json\n"
     ]
    },
    {
     "name": "stderr",
     "output_type": "stream",
     "text": [
      "Answering:  15%|█▌        | 2/13 [00:38<03:03, 16.72s/file]"
     ]
    },
    {
     "name": "stdout",
     "output_type": "stream",
     "text": [
      "Questions saved to outputs_answers/article_answers03.json\n"
     ]
    },
    {
     "name": "stderr",
     "output_type": "stream",
     "text": [
      "Answering:  23%|██▎       | 3/13 [01:03<03:24, 20.41s/file]"
     ]
    },
    {
     "name": "stdout",
     "output_type": "stream",
     "text": [
      "Questions saved to outputs_answers/article_answers03.json\n"
     ]
    },
    {
     "name": "stderr",
     "output_type": "stream",
     "text": [
      "Answering:  31%|███       | 4/13 [01:14<02:30, 16.68s/file]"
     ]
    },
    {
     "name": "stdout",
     "output_type": "stream",
     "text": [
      "Questions saved to outputs_answers/article_answers03.json\n"
     ]
    },
    {
     "name": "stderr",
     "output_type": "stream",
     "text": [
      "Answering:  38%|███▊      | 5/13 [01:31<02:14, 16.76s/file]"
     ]
    },
    {
     "name": "stdout",
     "output_type": "stream",
     "text": [
      "Questions saved to outputs_answers/article_answers03.json\n"
     ]
    },
    {
     "name": "stderr",
     "output_type": "stream",
     "text": [
      "Answering:  46%|████▌     | 6/13 [01:48<01:58, 16.91s/file]"
     ]
    },
    {
     "name": "stdout",
     "output_type": "stream",
     "text": [
      "Questions saved to outputs_answers/article_answers03.json\n"
     ]
    },
    {
     "name": "stderr",
     "output_type": "stream",
     "text": [
      "Answering:  54%|█████▍    | 7/13 [02:06<01:42, 17.09s/file]"
     ]
    },
    {
     "name": "stdout",
     "output_type": "stream",
     "text": [
      "Questions saved to outputs_answers/article_answers03.json\n"
     ]
    },
    {
     "name": "stderr",
     "output_type": "stream",
     "text": [
      "Answering:  62%|██████▏   | 8/13 [02:20<01:20, 16.12s/file]"
     ]
    },
    {
     "name": "stdout",
     "output_type": "stream",
     "text": [
      "Questions saved to outputs_answers/article_answers03.json\n"
     ]
    },
    {
     "name": "stderr",
     "output_type": "stream",
     "text": [
      "Answering:  69%|██████▉   | 9/13 [02:28<00:54, 13.75s/file]"
     ]
    },
    {
     "name": "stdout",
     "output_type": "stream",
     "text": [
      "Questions saved to outputs_answers/article_answers03.json\n"
     ]
    },
    {
     "name": "stderr",
     "output_type": "stream",
     "text": [
      "Answering:  77%|███████▋  | 10/13 [02:51<00:49, 16.63s/file]"
     ]
    },
    {
     "name": "stdout",
     "output_type": "stream",
     "text": [
      "Questions saved to outputs_answers/article_answers03.json\n"
     ]
    },
    {
     "name": "stderr",
     "output_type": "stream",
     "text": [
      "Answering:  85%|████████▍ | 11/13 [02:59<00:27, 13.89s/file]"
     ]
    },
    {
     "name": "stdout",
     "output_type": "stream",
     "text": [
      "Questions saved to outputs_answers/article_answers03.json\n"
     ]
    },
    {
     "name": "stderr",
     "output_type": "stream",
     "text": [
      "Answering:  92%|█████████▏| 12/13 [03:23<00:16, 16.78s/file]"
     ]
    },
    {
     "name": "stdout",
     "output_type": "stream",
     "text": [
      "Questions saved to outputs_answers/article_answers03.json\n"
     ]
    },
    {
     "name": "stderr",
     "output_type": "stream",
     "text": [
      "Answering: 100%|██████████| 13/13 [03:46<00:00, 17.43s/file]"
     ]
    },
    {
     "name": "stdout",
     "output_type": "stream",
     "text": [
      "Questions saved to outputs_answers/article_answers03.json\n",
      "done 125mm彩色AMOLED的多晶硅TFT基板_孟志国_llm_correct.md answers.\n"
     ]
    },
    {
     "name": "stderr",
     "output_type": "stream",
     "text": [
      "\n"
     ]
    }
   ],
   "source": [
    "from utils.answer_generation import build_openai_client_chat, gen_answer\n",
    "chat_model = build_openai_client_chat()\n",
    "questions_path = \"outputs_questions/article_questions03.json\"\n",
    "answers_path = \"outputs_answers/article_answers03.json\"\n",
    "gen_answer(questions_path, chat_model, answers_path)"
   ]
  },
  {
   "cell_type": "code",
   "execution_count": 4,
   "id": "ce596d31",
   "metadata": {},
   "outputs": [
    {
     "name": "stdout",
     "output_type": "stream",
     "text": [
      "Syndatas saved to outputs_syndatas/syndatas04.json\n",
      "Syndatas saved to outputs_syndatas/syndatas04_instruction.json\n",
      "done 12.9英寸高分辨率多色TFT—LCD_师庆华_llm_correct.md syndata.\n",
      "Syndatas saved to outputs_syndatas/syndatas04.json\n",
      "Syndatas saved to outputs_syndatas/syndatas04_instruction.json\n",
      "done 125mm彩色AMOLED的多晶硅TFT基板_孟志国_llm_correct.md syndata.\n"
     ]
    }
   ],
   "source": [
    "from utils.data_synthesis import syn_data\n",
    "\n",
    "chunks_path = \"outputs_chunks/article_chunks03.json\"\n",
    "answers_path = \"outputs_answers/article_answers03.json\"\n",
    "syndatas_path = \"outputs_syndatas/syndatas04.json\"\n",
    "syn_data(chunks_path, answers_path, syndatas_path, num_distract=4)"
   ]
  },
  {
   "cell_type": "code",
   "execution_count": 1,
   "id": "36eda064",
   "metadata": {},
   "outputs": [],
   "source": [
    "from utils.article_chunks import gen_chunks\n",
    "from utils.common_utils import build_openai_client_chat\n",
    "from utils.query_generation import gen_query\n",
    "from utils.answer_generation import gen_answer\n",
    "from utils.data_synthesis import syn_data\n",
    "def data_synthesis_pipeline(data_dir, chunks_path, questions_path, answers_path, syndatas_path, num_distract=4, start_idx=7, end_idx=9):\n",
    "    gen_chunks(data_dir, chunks_path, start_idx, end_idx)\n",
    "    chat_model = build_openai_client_chat()\n",
    "    gen_query(chunks_path, chat_model, questions_path)\n",
    "    gen_answer(questions_path, chat_model, answers_path)\n",
    "    syn_data(chunks_path, answers_path, syndatas_path, num_distract)\n",
    "    "
   ]
  },
  {
   "cell_type": "code",
   "execution_count": 2,
   "id": "319df04f",
   "metadata": {},
   "outputs": [],
   "source": [
    "import nest_asyncio\n",
    "nest_asyncio.apply()\n",
    "import asyncio"
   ]
  },
  {
   "cell_type": "code",
   "execution_count": null,
   "id": "c8935adb",
   "metadata": {},
   "outputs": [
    {
     "name": "stderr",
     "output_type": "stream",
     "text": [
      "Answering:  25%|██▌       | 1/4 [00:27<01:23, 27.80s/file]"
     ]
    },
    {
     "name": "stdout",
     "output_type": "stream",
     "text": [
      "Questions saved to outputs_answers/article_answers04.json\n"
     ]
    },
    {
     "name": "stderr",
     "output_type": "stream",
     "text": [
      "Answering:  50%|█████     | 2/4 [00:37<00:34, 17.42s/file]"
     ]
    },
    {
     "name": "stdout",
     "output_type": "stream",
     "text": [
      "Questions saved to outputs_answers/article_answers04.json\n"
     ]
    },
    {
     "name": "stderr",
     "output_type": "stream",
     "text": [
      "Answering:  75%|███████▌  | 3/4 [01:07<00:22, 22.87s/file]"
     ]
    },
    {
     "name": "stdout",
     "output_type": "stream",
     "text": [
      "Questions saved to outputs_answers/article_answers04.json\n"
     ]
    },
    {
     "name": "stderr",
     "output_type": "stream",
     "text": [
      "Answering: 100%|██████████| 4/4 [01:08<00:00, 17.21s/file]\n"
     ]
    },
    {
     "name": "stdout",
     "output_type": "stream",
     "text": [
      "Questions saved to outputs_answers/article_answers04.json\n",
      "done 128×64点阵式OLED的驱动电路_董桂芳_llm_correct.md answers.\n"
     ]
    },
    {
     "name": "stderr",
     "output_type": "stream",
     "text": [
      "Answering:  20%|██        | 1/5 [00:33<02:14, 33.60s/file]"
     ]
    },
    {
     "name": "stdout",
     "output_type": "stream",
     "text": [
      "Questions saved to outputs_answers/article_answers04.json\n"
     ]
    },
    {
     "name": "stderr",
     "output_type": "stream",
     "text": [
      "Answering:  40%|████      | 2/5 [00:42<00:57, 19.16s/file]"
     ]
    },
    {
     "name": "stdout",
     "output_type": "stream",
     "text": [
      "Questions saved to outputs_answers/article_answers04.json\n"
     ]
    },
    {
     "name": "stderr",
     "output_type": "stream",
     "text": [
      "Answering:  60%|██████    | 3/5 [00:58<00:35, 17.87s/file]"
     ]
    },
    {
     "name": "stdout",
     "output_type": "stream",
     "text": [
      "Questions saved to outputs_answers/article_answers04.json\n"
     ]
    },
    {
     "name": "stderr",
     "output_type": "stream",
     "text": [
      "Answering:  80%|████████  | 4/5 [01:06<00:13, 13.68s/file]"
     ]
    },
    {
     "name": "stdout",
     "output_type": "stream",
     "text": [
      "Questions saved to outputs_answers/article_answers04.json\n"
     ]
    },
    {
     "name": "stderr",
     "output_type": "stream",
     "text": [
      "Answering: 100%|██████████| 5/5 [01:35<00:00, 19.11s/file]\n"
     ]
    },
    {
     "name": "stdout",
     "output_type": "stream",
     "text": [
      "Questions saved to outputs_answers/article_answers04.json\n",
      "done 13.8英寸高分辨率多色TFT—LCD_王阳_llm_correct.md answers.\n",
      "Syndatas saved to outputs_syndatas/syndatas05.json\n",
      "Syndatas saved to outputs_syndatas/syndatas05_instruction.json\n",
      "done 128×64点阵式OLED的驱动电路_董桂芳_llm_correct.md syndata.\n",
      "Syndatas saved to outputs_syndatas/syndatas05.json\n",
      "Syndatas saved to outputs_syndatas/syndatas05_instruction.json\n",
      "done 13.8英寸高分辨率多色TFT—LCD_王阳_llm_correct.md syndata.\n"
     ]
    },
    {
     "ename": "TypeError",
     "evalue": "An asyncio.Future, a coroutine or an awaitable is required",
     "output_type": "error",
     "traceback": [
      "\u001b[1;31m---------------------------------------------------------------------------\u001b[0m",
      "\u001b[1;31mTypeError\u001b[0m                                 Traceback (most recent call last)",
      "Cell \u001b[1;32mIn[3], line 6\u001b[0m\n\u001b[0;32m      4\u001b[0m answers_path \u001b[38;5;241m=\u001b[39m \u001b[38;5;124m\"\u001b[39m\u001b[38;5;124moutputs_answers/article_answers04.json\u001b[39m\u001b[38;5;124m\"\u001b[39m\n\u001b[0;32m      5\u001b[0m syndatas_path \u001b[38;5;241m=\u001b[39m \u001b[38;5;124m\"\u001b[39m\u001b[38;5;124moutputs_syndatas/syndatas05.json\u001b[39m\u001b[38;5;124m\"\u001b[39m\n\u001b[1;32m----> 6\u001b[0m \u001b[43masyncio\u001b[49m\u001b[38;5;241;43m.\u001b[39;49m\u001b[43mrun\u001b[49m\u001b[43m(\u001b[49m\u001b[43mdata_synthesis_pipeline\u001b[49m\u001b[43m(\u001b[49m\u001b[43mdata_dir\u001b[49m\u001b[43m,\u001b[49m\u001b[43m \u001b[49m\u001b[43mchunks_path\u001b[49m\u001b[43m,\u001b[49m\u001b[43m \u001b[49m\u001b[43mquestions_path\u001b[49m\u001b[43m,\u001b[49m\u001b[43m \u001b[49m\u001b[43manswers_path\u001b[49m\u001b[43m,\u001b[49m\u001b[43m \u001b[49m\u001b[43msyndatas_path\u001b[49m\u001b[43m,\u001b[49m\u001b[43m \u001b[49m\u001b[43mnum_distract\u001b[49m\u001b[38;5;241;43m=\u001b[39;49m\u001b[38;5;241;43m4\u001b[39;49m\u001b[43m,\u001b[49m\u001b[43m \u001b[49m\u001b[43mstart_idx\u001b[49m\u001b[38;5;241;43m=\u001b[39;49m\u001b[38;5;241;43m7\u001b[39;49m\u001b[43m,\u001b[49m\u001b[43m \u001b[49m\u001b[43mend_idx\u001b[49m\u001b[38;5;241;43m=\u001b[39;49m\u001b[38;5;241;43m9\u001b[39;49m\u001b[43m)\u001b[49m\u001b[43m)\u001b[49m\n",
      "File \u001b[1;32md:\\Miniconda3\\envs\\raft\\lib\\site-packages\\nest_asyncio.py:28\u001b[0m, in \u001b[0;36m_patch_asyncio.<locals>.run\u001b[1;34m(main, debug)\u001b[0m\n\u001b[0;32m     26\u001b[0m loop \u001b[38;5;241m=\u001b[39m asyncio\u001b[38;5;241m.\u001b[39mget_event_loop()\n\u001b[0;32m     27\u001b[0m loop\u001b[38;5;241m.\u001b[39mset_debug(debug)\n\u001b[1;32m---> 28\u001b[0m task \u001b[38;5;241m=\u001b[39m \u001b[43masyncio\u001b[49m\u001b[38;5;241;43m.\u001b[39;49m\u001b[43mensure_future\u001b[49m\u001b[43m(\u001b[49m\u001b[43mmain\u001b[49m\u001b[43m)\u001b[49m\n\u001b[0;32m     29\u001b[0m \u001b[38;5;28;01mtry\u001b[39;00m:\n\u001b[0;32m     30\u001b[0m     \u001b[38;5;28;01mreturn\u001b[39;00m loop\u001b[38;5;241m.\u001b[39mrun_until_complete(task)\n",
      "File \u001b[1;32md:\\Miniconda3\\envs\\raft\\lib\\asyncio\\tasks.py:615\u001b[0m, in \u001b[0;36mensure_future\u001b[1;34m(coro_or_future, loop)\u001b[0m\n\u001b[0;32m    610\u001b[0m \u001b[38;5;28;01mdef\u001b[39;00m\u001b[38;5;250m \u001b[39m\u001b[38;5;21mensure_future\u001b[39m(coro_or_future, \u001b[38;5;241m*\u001b[39m, loop\u001b[38;5;241m=\u001b[39m\u001b[38;5;28;01mNone\u001b[39;00m):\n\u001b[0;32m    611\u001b[0m \u001b[38;5;250m    \u001b[39m\u001b[38;5;124;03m\"\"\"Wrap a coroutine or an awaitable in a future.\u001b[39;00m\n\u001b[0;32m    612\u001b[0m \n\u001b[0;32m    613\u001b[0m \u001b[38;5;124;03m    If the argument is a Future, it is returned directly.\u001b[39;00m\n\u001b[0;32m    614\u001b[0m \u001b[38;5;124;03m    \"\"\"\u001b[39;00m\n\u001b[1;32m--> 615\u001b[0m     \u001b[38;5;28;01mreturn\u001b[39;00m \u001b[43m_ensure_future\u001b[49m\u001b[43m(\u001b[49m\u001b[43mcoro_or_future\u001b[49m\u001b[43m,\u001b[49m\u001b[43m \u001b[49m\u001b[43mloop\u001b[49m\u001b[38;5;241;43m=\u001b[39;49m\u001b[43mloop\u001b[49m\u001b[43m)\u001b[49m\n",
      "File \u001b[1;32md:\\Miniconda3\\envs\\raft\\lib\\asyncio\\tasks.py:630\u001b[0m, in \u001b[0;36m_ensure_future\u001b[1;34m(coro_or_future, loop)\u001b[0m\n\u001b[0;32m    628\u001b[0m         called_wrap_awaitable \u001b[38;5;241m=\u001b[39m \u001b[38;5;28;01mTrue\u001b[39;00m\n\u001b[0;32m    629\u001b[0m     \u001b[38;5;28;01melse\u001b[39;00m:\n\u001b[1;32m--> 630\u001b[0m         \u001b[38;5;28;01mraise\u001b[39;00m \u001b[38;5;167;01mTypeError\u001b[39;00m(\u001b[38;5;124m'\u001b[39m\u001b[38;5;124mAn asyncio.Future, a coroutine or an awaitable \u001b[39m\u001b[38;5;124m'\u001b[39m\n\u001b[0;32m    631\u001b[0m                         \u001b[38;5;124m'\u001b[39m\u001b[38;5;124mis required\u001b[39m\u001b[38;5;124m'\u001b[39m)\n\u001b[0;32m    633\u001b[0m \u001b[38;5;28;01mif\u001b[39;00m loop \u001b[38;5;129;01mis\u001b[39;00m \u001b[38;5;28;01mNone\u001b[39;00m:\n\u001b[0;32m    634\u001b[0m     loop \u001b[38;5;241m=\u001b[39m events\u001b[38;5;241m.\u001b[39m_get_event_loop(stacklevel\u001b[38;5;241m=\u001b[39m\u001b[38;5;241m4\u001b[39m)\n",
      "\u001b[1;31mTypeError\u001b[0m: An asyncio.Future, a coroutine or an awaitable is required"
     ]
    }
   ],
   "source": [
    "data_dir = \"data\"\n",
    "chunks_path = \"outputs_chunks/article_chunks04.json\"\n",
    "questions_path = \"outputs_questions/article_questions04.json\"\n",
    "answers_path = \"outputs_answers/article_answers04.json\"\n",
    "syndatas_path = \"outputs_syndatas/syndatas05.json\"\n",
    "data_synthesis_pipeline(data_dir, chunks_path, questions_path, answers_path, syndatas_path, num_distract=4, start_idx=7, end_idx=9)"
   ]
  },
  {
   "cell_type": "code",
   "execution_count": 3,
   "id": "7a2a4106",
   "metadata": {},
   "outputs": [
    {
     "name": "stdout",
     "output_type": "stream",
     "text": [
      "[1, 2, 3]\n"
     ]
    }
   ],
   "source": [
    "test = [1, 2, 3, 4, 5]\n",
    "s, e = 1, 3\n",
    "s, e = 1, None\n",
    "s, e = None, 3\n",
    "print(test[s:e])"
   ]
  }
 ],
 "metadata": {
  "kernelspec": {
   "display_name": "raft",
   "language": "python",
   "name": "python3"
  },
  "language_info": {
   "codemirror_mode": {
    "name": "ipython",
    "version": 3
   },
   "file_extension": ".py",
   "mimetype": "text/x-python",
   "name": "python",
   "nbconvert_exporter": "python",
   "pygments_lexer": "ipython3",
   "version": "3.10.17"
  }
 },
 "nbformat": 4,
 "nbformat_minor": 5
}

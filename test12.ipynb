{
 "cells": [
  {
   "cell_type": "markdown",
   "id": "00f7d45c",
   "metadata": {},
   "source": [
    "# 重新构建数据生成流程 - 批量逻辑\n",
    "1. 问题生成流程\n",
    "2. 答案生成流程"
   ]
  },
  {
   "cell_type": "markdown",
   "id": "7cc7d53d",
   "metadata": {},
   "source": [
    "具体流程：\n",
    "0. 生成所有文章的chunk，并保存chunk数据集, chunk,chunk_id,source ,doc_id\n",
    "1. 先批量生成问题，问题评估是否合格\n",
    "2. 再批量生成答案，答案评估是否合格\n",
    "3. chunk数据集构建 chunk,chunk_id,source ,doc_id\n",
    "4. 问题数据集构建 [{chunk_*4, chunk_id, source}], question\n",
    "5. 答案数据集构建 [{chunk_*4+chunk_d4, chunk_id, source}], question, answer\n",
    "6. 问题生成数据集 [{chunk_*4, chunk_id, source}] -> question1, question2\n",
    "6. 答案生成数据集 [{chunk_*4, chunk_id, source}], question -> content, reasoning_content\n",
    "7. 构建sft数据集 [{chunk_*4+chunk_d4, chunk_id, source}], question -> content, reasoning_content"
   ]
  },
  {
   "cell_type": "markdown",
   "id": "78c63aa9",
   "metadata": {},
   "source": [
    "## 生成所有文章的chunk"
   ]
  },
  {
   "cell_type": "code",
   "execution_count": 2,
   "id": "99d2e5d5",
   "metadata": {},
   "outputs": [
    {
     "name": "stderr",
     "output_type": "stream",
     "text": [
      "d:\\Miniconda3\\envs\\raft\\lib\\site-packages\\tqdm\\auto.py:21: TqdmWarning: IProgress not found. Please update jupyter and ipywidgets. See https://ipywidgets.readthedocs.io/en/stable/user_install.html\n",
      "  from .autonotebook import tqdm as notebook_tqdm\n"
     ]
    },
    {
     "name": "stdout",
     "output_type": "stream",
     "text": [
      "len(file_names): 277\n"
     ]
    },
    {
     "name": "stderr",
     "output_type": "stream",
     "text": [
      "Chunking: 100%|██████████| 1/1 [00:00<00:00, 44.56file/s, chunks=34]\n"
     ]
    },
    {
     "name": "stdout",
     "output_type": "stream",
     "text": [
      "Chunks saved to outputs_chunks/article_chunks02.json\n"
     ]
    },
    {
     "name": "stderr",
     "output_type": "stream",
     "text": [
      "Chunking: 100%|██████████| 1/1 [00:00<00:00, 69.96file/s, chunks=26]\n"
     ]
    },
    {
     "name": "stdout",
     "output_type": "stream",
     "text": [
      "Chunks saved to outputs_chunks/article_chunks02.json\n"
     ]
    },
    {
     "name": "stderr",
     "output_type": "stream",
     "text": [
      "Chunking: 100%|██████████| 1/1 [00:00<00:00, 53.54file/s, chunks=37]\n"
     ]
    },
    {
     "name": "stdout",
     "output_type": "stream",
     "text": [
      "Chunks saved to outputs_chunks/article_chunks02.json\n"
     ]
    },
    {
     "name": "stderr",
     "output_type": "stream",
     "text": [
      "Chunking: 100%|██████████| 1/1 [00:00<00:00, 111.11file/s, chunks=24]\n"
     ]
    },
    {
     "name": "stdout",
     "output_type": "stream",
     "text": [
      "Chunks saved to outputs_chunks/article_chunks02.json\n"
     ]
    },
    {
     "name": "stderr",
     "output_type": "stream",
     "text": [
      "Chunking: 100%|██████████| 1/1 [00:00<00:00, 333.46file/s, chunks=25]"
     ]
    },
    {
     "name": "stdout",
     "output_type": "stream",
     "text": [
      "Chunks saved to outputs_chunks/article_chunks02.json\n",
      "len(chunks_all) = 146\n"
     ]
    },
    {
     "name": "stderr",
     "output_type": "stream",
     "text": [
      "\n"
     ]
    }
   ],
   "source": [
    "from utils.article_chunks import gen_chunks\n",
    "article_chunks = gen_chunks(\"data\", \"outputs_chunks/article_chunks02.json\")"
   ]
  },
  {
   "cell_type": "code",
   "execution_count": null,
   "id": "6021fbd7",
   "metadata": {},
   "outputs": [
    {
     "name": "stdout",
     "output_type": "stream",
     "text": [
      "len(file_names): 277\n"
     ]
    },
    {
     "data": {
      "text/plain": [
       "'10大新显示技术_llm_correct.md'"
      ]
     },
     "execution_count": 2,
     "metadata": {},
     "output_type": "execute_result"
    }
   ],
   "source": [
    "from utils.article_chunks import read_file_names, build_or_load_chunks\n",
    "data_dir = \"data\"\n",
    "filenames = read_file_names(data_dir, ext=\".md\")\n",
    "filenames[2]"
   ]
  },
  {
   "cell_type": "code",
   "execution_count": null,
   "id": "395f732b",
   "metadata": {},
   "outputs": [],
   "source": [
    "import os\n",
    "for filename in filenames:\n",
    "    data_path = os.path.join(data_dir, filename)\n",
    "    chunks,filename = build_or_load_chunks(data_path, \"md\")"
   ]
  },
  {
   "cell_type": "code",
   "execution_count": null,
   "id": "131ba4d4",
   "metadata": {},
   "outputs": [
    {
     "name": "stderr",
     "output_type": "stream",
     "text": [
      "d:\\Miniconda3\\envs\\raft\\lib\\site-packages\\tqdm\\auto.py:21: TqdmWarning: IProgress not found. Please update jupyter and ipywidgets. See https://ipywidgets.readthedocs.io/en/stable/user_install.html\n",
      "  from .autonotebook import tqdm as notebook_tqdm\n"
     ]
    }
   ],
   "source": [
    "import os\n",
    "from utils.article_chunks import read_file_names, build_or_load_chunks\n",
    "from pathlib import Path\n",
    "def get_article_chunks(data_dir):\n",
    "    filenames = read_file_names(data_dir, ext=\".md\")\n",
    "    filenames = filenames[:5]\n",
    "    articles = []\n",
    "    count = 0\n",
    "    for idx,filename in enumerate(filenames):\n",
    "        data_path = os.path.join(data_dir, filename)\n",
    "        data_path = Path(data_path)\n",
    "        chunks_dict, filename = build_or_load_chunks(data_path, \"md\", 512)\n",
    "        article = {\n",
    "            \"doc_id\": idx,\n",
    "            \"filename\": filename,\n",
    "            \"chunks\": chunks_dict\n",
    "        }\n",
    "        articles.append(article)\n",
    "        count += len(chunks_dict)\n",
    "    print(f\"len(chunks_all) = {count}\")\n",
    "    return articles\n",
    "    "
   ]
  },
  {
   "cell_type": "code",
   "execution_count": null,
   "id": "95bfdb36",
   "metadata": {},
   "outputs": [
    {
     "name": "stdout",
     "output_type": "stream",
     "text": [
      "len(file_names): 277\n"
     ]
    },
    {
     "name": "stderr",
     "output_type": "stream",
     "text": [
      "Chunking: 100%|██████████| 1/1 [00:00<00:00, 471.01file/s, chunks=34]\n",
      "Chunking: 100%|██████████| 1/1 [00:00<00:00, 454.03file/s, chunks=26]\n",
      "Chunking: 100%|██████████| 1/1 [00:00<00:00, 500.39file/s, chunks=37]\n",
      "Chunking: 100%|██████████| 1/1 [00:00<00:00, 499.50file/s, chunks=24]\n",
      "Chunking: 100%|██████████| 1/1 [00:00<00:00, 1000.79file/s, chunks=25]"
     ]
    },
    {
     "name": "stdout",
     "output_type": "stream",
     "text": [
      "len(chunks_all) = 146\n"
     ]
    },
    {
     "name": "stderr",
     "output_type": "stream",
     "text": [
      "\n"
     ]
    },
    {
     "data": {
      "text/plain": [
       "[{'doc_id': 0,\n",
       "  'filename': '1,8-萘酰亚胺类有机小分子电致发光材料的研究进展_王启_llm_correct.md',\n",
       "  'chunks': [{'chunk': \"# 1'8－萘酰亚胺类有机小分子电致发光材料的研究进展\\n王 启 蒋 伟 王小亮 徐文连（东南大学化学化工学院，江苏南京210096）\\n摘要 综述了近年来1'8－萘酰亚胺类小分子电致发光材料的研究进展，作了结构特点和相关理论的说明。关键词 萘酰亚胺 电致发光\\n# Progress in 1,8－Naphthalimides as Organic Small Molecular Electroluminescent Materials\\nWang Qi Jiang Wei Wang Xiaoliang Xu Wenlian（College of Chemistry and Chemical Engineering, Southeast University, Jiangsu Nanjing 210096）\",\n",
       "    'source': '1,8-萘酰亚胺类有机小分子电致发光材料的研究进展_王启_llm_correct.md',\n",
       "    'chunk_id': 0},\n",
       "   {'chunk': 'Abstract The research progress of 1,8-naphthalimide as organic small molecular electroluminescent materials was reviewed and the structure features and related theory were introduced.\\nKeywords 1,8-naphthalimide electroluminescent',\n",
       "    'source': '1,8-萘酰亚胺类有机小分子电致发光材料的研究进展_王启_llm_correct.md',\n",
       "    'chunk_id': 1},\n",
       "   {'chunk': '1,8－萘酰亚胺类化合物是一类荧光材料，是很重要的功能染料的中间体，广泛用于染料、荧光增白剂、荧光涂料等方面［1～5］。由于具有良好的光化学和热稳定性及结构易修饰等特点，近年来被研究用作高灵敏度荧光标记物和对某些特定金属离子具有响应的光化学传感器［6～11］。同时因有荧光量子产率高、可通过改变取代基及其取代位置的方法来调节材料发射光谱等优点，近年来成为有机电致发光材料领域的研究重点。 萘酰亚胺类衍生物可直接作为小分子材料，也可用于聚合物材料的支链修饰进行化学掺杂［12～16］。本文仅就近年来用于小分子电致发光材料方向的研究情况进行综述。 # 1,8－萘酰亚胺衍生物的结构和性质',\n",
       "    'source': '1,8-萘酰亚胺类有机小分子电致发光材料的研究进展_王启_llm_correct.md',\n",
       "    'chunk_id': 2},\n",
       "   {'chunk': '萘酰亚胺可以由1,8－萘酐制备而来的。萘酰亚胺类材料最早作为染料被广泛研究，这类荧光材料研究和生产最早的是4－氨基－1,8－萘酰亚胺类化合物（1）。1,8－萘酐本身没有荧光，在4－位引入供电子基团（如氨基等）后形成强的推电子体系，使电子容易激发，从而发出荧光［17］。这类荧光材料一般在有机溶剂中均发出强烈的荧光，可由结构式（2）表示。 ![](images/65ce158bbf43c066c6e708d1ea3181d54b8e63a02f54459da40e03654267ee5c.jpg)',\n",
       "    'source': '1,8-萘酰亚胺类有机小分子电致发光材料的研究进展_王启_llm_correct.md',\n",
       "    'chunk_id': 3},\n",
       "   {'chunk': '萘酰亚胺发光材料之所以可作为有机电致发光材料，是其分子结构具有如下的特点［18］： $\\\\textcircled{1}$ 分子结构中4－位一端具有强的给电子基团，另一端是具有强的吸电子性的酰胺基结构，因此分子结构中存在着大的电子共轭体系。共轭体系大则离域的 $\\\\pi$ 电子容易激发，容易产生荧光。另外，推拉电子体系有利于电子传输，因而容易受到外界能量激发而发生跃迁从而产生荧光。 $\\\\textcircled{2}$ 较好的刚性和共平面性。荧光效率高的荧光体，其分子多是平面构型且具有一定的刚性。 $\\\\textcircled{3}$ 萘酰亚胺结构的可修饰性。可以通过改变4－位或萘酰亚胺氮原子上所连接的取代基得到新的化合物，获得不同波段的发光并提高荧光量子效率。 # 2 萘酰亚胺类电致发光材料的研究进展\\n# 2.1 有机电致发光材料的研究',\n",
       "    'source': '1,8-萘酰亚胺类有机小分子电致发光材料的研究进展_王启_llm_correct.md',\n",
       "    'chunk_id': 4},\n",
       "   {'chunk': '有机电致发光材料主要应用于显示领域，是当前国际上的研究热点。有机电致发光（EL）现象在20世纪60年代发现，当时的单层材料成本高，技术没有突破，因此没有引起足够重视。有机电致发光技术的根本性突破始于柯达公司的Tang C.W. 的发现［19、20］。他采用超薄膜技术，用导电玻璃（ITO）作正极，8－羟基喹啉铝（Alq3）作发光层，三芳胺作空穴传输层，Mg/Ag合金作负极，制作了工作电压低（~10 V）、发光效率高（1.5 lm/W）、高亮度（1000 cd/m²）的双层有机电致发光器件，是有机电致发光的划时代进展。这项突破性的研究工作，不仅显示了有机电致发光器件（OLED）的突出优点和巨大应用前景，而且揭示了OLED 器件设计的关键所在——正负载流子的均衡注入和有效复合，指明了OLED 材料和器件发展的努力方向，被认为是有机电致发光的里程碑贡献。',\n",
       "    'source': '1,8-萘酰亚胺类有机小分子电致发光材料的研究进展_王启_llm_correct.md',\n",
       "    'chunk_id': 5},\n",
       "   {'chunk': '有机薄膜电致发光器件，以其低功耗、高效率、高亮度、宽视角、易弯曲、驱动电压低、响应速度快、发光色彩齐全、可大面积显示、制造成本低等特点，在实现彩色平板显示方面显示出了强大的优势，因而OLED材料的研究进入了快速发展的阶段。在过去的10几年中，世界上近1000家的研究单位和企业加入到有机发光二极管的研发中，极大地促进了OLED 的快速发展。1997年，日本先锋公司（Pioneer）推出了世界上第一个商品化的OLED 产品——汽车音响显示屏，当时先锋的此项技术产品在业界引起巨大轰动。目前，相当多的手机制造商推出的彩屏手机中都应用OLED材料。有机电致发光显示技术已经开始实用化。 # 2.2 萘酰亚胺类电致发光材料的研究',\n",
       "    'source': '1,8-萘酰亚胺类有机小分子电致发光材料的研究进展_王启_llm_correct.md',\n",
       "    'chunk_id': 6},\n",
       "   {'chunk': '1997年，He 等［21］首先报道了一系列可作为有机EL 的萘酰亚胺化合物。 ![](images/bd344bbc6ca4de1731872f07fec8a0bf16e151a71fd87d7cccc84f8a58cb3cae.jpg)',\n",
       "    'source': '1,8-萘酰亚胺类有机小分子电致发光材料的研究进展_王启_llm_correct.md',\n",
       "    'chunk_id': 7},\n",
       "   {'chunk': '（3）（4）都是将电子传输、空穴传输与发光功能结合在一个分子上，以（3）为例，萘酰亚胺是发光单元，N－位取代基团的三芳胺是电子传输单元，4－位取代基的 二唑则提供空穴注入。测试表明玻璃化温度： $T_{\\\\mathrm{g}} > 200^{\\\\circ}\\\\mathrm{C}$ ，具有较宽的荧光发射区域，并制成了单层器件。由于载流子的注入、复合和激子产生都发生在分子内，保证了高荧光量子效率。以这样结构的分子为材料做成OLED 器件，可避免非均相、多层器件之间界面以及微腔效应的影响；同时是器件单层化，简化器件的制造工艺。由此提供了一种电致发光材料的新设计思路。 同年 Su 等报道了空穴单元直接与发光单元相连的双体萘酰亚胺类衍生物［22］。这类化合物具有很大的斯托克（Stokes）位移，最大可达 $254~\\\\mathrm{nm}$ ，另外还具有良好的固态荧光，成膜性好等优点。做成的OLED 器件用以光电性能测试：驱动电压 $27\\\\,\\\\mathrm{V}$ ，最大发光亮度 $800\\\\;\\\\mathrm{cd/m}^{2}$ ；驱动电压 $15\\\\:\\\\mathrm{V}$ ，发光亮度',\n",
       "    'source': '1,8-萘酰亚胺类有机小分子电致发光材料的研究进展_王启_llm_correct.md',\n",
       "    'chunk_id': 8},\n",
       "   {'chunk': '$200\\\\;\\\\mathrm{cd/m}^{2}$ ，发光效率为 $1.4\\\\;\\\\mathrm{lm}/\\\\mathrm{W}$ 。 ![](images/f733092523a094671b074589a0bb165668bc17eb158669eb9a38a6704fcc079a.jpg)',\n",
       "    'source': '1,8-萘酰亚胺类有机小分子电致发光材料的研究进展_王启_llm_correct.md',\n",
       "    'chunk_id': 9},\n",
       "   {'chunk': '对比（5）（6）（7）3种化合物，从结构上看，由于受到对位取代分子的立体位阻作用，N－位取代的芳香基平面与萘酰亚胺平面发生扭曲，形成两个 $\\\\pi$ 电子体系由一单键直接相连的内扭曲电荷传输分子。这类分子往往有着特殊的荧光性质，比如发光单元的发射波长不受影响，因存在分子内电荷转移（TICT）过程而具有更强的固体形态荧光，荧光性能增强，其制成固体薄膜有大的斯托克位移。 TICT 的概念建立了一种更有效的荧光分子模型。TICT 的电荷分离所需的最低能量发生在其分子构型垂直时，此时N－位取代的电子给体和对位电子受体的 $\\\\pi$ 电子体系彼此垂直且互相减弱，因此这种非对称的分子内扭曲结构有利于TICT 过程，从而导致了吸收和发射波长的较大程度上的分离，即有大的Stokes 位移［23、24］。 1998年报道过的具有相似分子构型的萘酰亚胺衍生物［25］由（8）、（9）和（10）表示。（8）、（9）除了具有分子内扭曲性质，分子中脂肪族侧链的引入降低了该类化合物的结晶性，有利于形成稳定的无定型态，也就有利于作成EL 器件。热分析结果显示，该类化合物具有良好的热稳定性（ $T_{\\\\mathrm{m}} >',\n",
       "    'source': '1,8-萘酰亚胺类有机小分子电致发光材料的研究进展_王启_llm_correct.md',\n",
       "    'chunk_id': 10},\n",
       "   {'chunk': '300^{\\\\circ}\\\\mathrm{C}$ ），多数具有较高的玻璃化温度（ $T_{\\\\mathrm{g}} > 100^{\\\\circ}\\\\mathrm{C}$ ），可以用来制作有机EL 器件，器件发光亮度可达到 $4000\\\\ \\\\mathrm{cd/m}^{2}$ 。（10）则是一种很好的电子传输材料［26］。 ![](images/f522e24c9f6cc113ad7c8c05541d7426e7c49d4cd7fc969425d9c240b9f11bd6.jpg)',\n",
       "    'source': '1,8-萘酰亚胺类有机小分子电致发光材料的研究进展_王启_llm_correct.md',\n",
       "    'chunk_id': 11},\n",
       "   {'chunk': \"(8)\\n![](images/28272315f190ad1544de5d1b24871a748c90be5c6c5e2aa77b79fb8725f9023d.jpg)\\nX－是哌啶基或N'N－二甲氨基；R－是乙基、己基或苯甲基\\n![](images/8e1c94c726571cd08237fdbe00ecfafeb787f28261ce06dc07714bb6a4ba0aa9.jpg)\\nYin 等［27］研究了一系列不同基团N－位取代的4－乙酰氨基－萘酰亚胺类化合物（11）并真空蒸镀制作了ITO／PVK／NA／Al 的电致发光器件，荧光范围在569nm～504nm。 ![](images/0f9a5f448d6fbde52beaf76e3ebdbb2f628122d4aaa802da3dbd9a3f89d4b49a.jpg)\",\n",
       "    'source': '1,8-萘酰亚胺类有机小分子电致发光材料的研究进展_王启_llm_correct.md',\n",
       "    'chunk_id': 12},\n",
       "   {'chunk': '研究结果表明，N－烷基取代后，荧光发射波长发生红移；芳基取代发生蓝移。但决定分子基团荧光发射光谱范围的是4－位的乙酰氨基取代基团，不同烷基取代之间相比，发射波长变化很小。另外 N－位取代基团的亲电性对于荧光强度有很大的影响。当N－位取代基团为拉电子或弱给电子基团，则整个分子的电子传输顺畅，反映在器件的荧光亮度较高；为强给电子基团，则反之。高熔点化合物制作成的器件工作寿命更长。这些结论为对这类化合物的分子设计提供了很好的理论和依据。 改变4－位取代基的供电子性以提高荧光量子效率和不同发射波长，一直是萘酰亚胺类衍生物发光材料的设计基础。4－位取代对此类化合物的吸收和发射光谱的影响 Xu 等［28］在研究中进行了细致的比较。在系列化合物（12）中，芳香环上供电子基团使吸收和荧光光谱红移，吸电子基团使荧光光谱蓝移；引入强吸电子基团－CN 或给电子基团－OCH时，荧光量子效率明显减少。与 H, CH3 相比，由0.7左右下降到0.25左右；Storkes 位移也有大幅减少，由 $134\\\\ \\\\mathrm{nm}$ 到 $56~\\\\mathrm{nm}$ 。',\n",
       "    'source': '1,8-萘酰亚胺类有机小分子电致发光材料的研究进展_王启_llm_correct.md',\n",
       "    'chunk_id': 13},\n",
       "   {'chunk': '![](images/9e4774c5852cda26fcc344363a82b91c617f2061776bb372b8caa4a5fc98d49e.jpg)',\n",
       "    'source': '1,8-萘酰亚胺类有机小分子电致发光材料的研究进展_王启_llm_correct.md',\n",
       "    'chunk_id': 14},\n",
       "   {'chunk': '台湾清华大学的Cheng 等［29］于2005年设计合成了一类特殊的萘酸酐类橙红色发光材料（ANAs），并研究了其在溶剂中的荧光性质和做成器件的光电性质。该类发光材料最大发射波长在 $602\\\\sim628~\\\\mathrm{nm}$ ，具有稳定的外量子效率。$134\\\\ \\\\mathrm{nm}$ 到 $56\\\\ \\\\mathrm{nm}$ 。 ![](images/9e4774c5852cda26fcc344363a82b91c617f2061776bb372b8caa4a5fc98d49e.jpg) 台湾清华大学的Cheng 等［29］于2005年设计合成了一类特殊的萘酸酐类橙红色发光材料（ANAs）并研究了其在溶剂中的荧光性质和做成器件的光电性质。该类发光材料最大发射波长在 $602\\\\sim628\\\\ \\\\mathrm{nm}$ ，具有稳定的外量子效率。 ![](images/c945db52edff1cc7baa0e816d7fedbfcbb75151d4a03ba690e766dc8d6ae62b9.jpg)',\n",
       "    'source': '1,8-萘酰亚胺类有机小分子电致发光材料的研究进展_王启_llm_correct.md',\n",
       "    'chunk_id': 15},\n",
       "   {'chunk': 'ANAs 在溶剂中，与电荷密度最高的胺基基团键合的氢键作用使得HOMO 能级状态更稳定，LUMO 能级不稳定，导致了吸收光谱的蓝移。在甲醇中几乎观测不到荧光，可能是氢键增强了分子非辐射过程。其中ANA－2具有最特殊的结构，分子的稳定态是3个芳香分子平面彼此接近互相垂直正交，这种构型阻碍了蒽环和萘酐的 $\\\\pi$ 电子结合，正是这点可能导致了与ANA－1、ANA－3相比有更大的蓝移。以ANA－2制作的器件结构为 $\\\\mathrm{ITO/NPB/ANAs/Alq^{3}/Mg:Ag/Ag}$ ，启动电压 $4.0\\\\ \\\\mathrm{V}$ ，器件在 $14.5\\\\ \\\\mathrm{V}$ 的最大亮度为 $4\\\\ 700\\\\ \\\\mathrm{cd/m}^{2}$ ，$10.5\\\\ \\\\mathrm{V}$ 时外量子效率为0.38。 该类发光材料虽是萘酸酐类化合物，但通过4－位修饰得到了橙红色发光材料，毫无疑问为萘酰亚胺类红色发光材料的研究提供了宝贵的经验。可以设想以萘酰亚胺结构替代萘酸酐结构，通过增加N－位取代基团修饰和对4－位基团的修饰改进，可以得到光谱范围更宽、更加理想的材料。 # 3 结束语',\n",
       "    'source': '1,8-萘酰亚胺类有机小分子电致发光材料的研究进展_王启_llm_correct.md',\n",
       "    'chunk_id': 16},\n",
       "   {'chunk': '有机电致发光材料的设计合成一直是当今国际上的研究热点。萘酰亚胺类荧光材料以其独特的性质，得到了广泛的研究。优化现有的研究成果和设计合成新型的含载流子传输的多功能团的此类电致发光材料，仍会是一个重要的研究方向和领域。的最大亮度为 $4\\\\,700\\\\ {\\\\mathrm{cd}}/\\\\mathrm{m}^{2}$，10.5 V 时外量子效率为0.38。 该类发光材料虽是萘酸酐类化合物，但通过4-位修饰得到了橙红色发光材料，毫无疑问为萘酰亚胺类红色发光材料的研究提供了宝贵的经验。可以设想以萘酰亚胺结构替代萘酸酐结构，通过增加N-位取代基团修饰和对4-位基团的修饰改进，可以得到光谱范围更宽、更加理想的材料。 # 3 结束语 有机电致发光材料的设计合成一直是当今国际上的研究热点。萘酰亚胺类荧光材料以其独特的性质，得到了广泛的研究。优化现有的研究成果和设计合成新型的含载流子传输的多功能团的此类电致发光材料，仍会是一个重要的研究方向和领域。 参考文献\\n［1］\\u3000 夏盛钦,等.1,8-萘酰亚胺类荧光染料的合成及其荧光性质的研究［J］.湖南师范大学自然科学学报,2000,23（4）： $51{\\\\sim}54$',\n",
       "    'source': '1,8-萘酰亚胺类有机小分子电致发光材料的研究进展_王启_llm_correct.md',\n",
       "    'chunk_id': 17},\n",
       "   {'chunk': '［2］\\u3000 严宏斌,沈永嘉,董黎.1,8-萘酰亚胺类阳离子荧光增白剂的合成及应用［J］.精细化工,1997,14（1）： $39\\\\!\\\\sim\\\\!40$\\n［3］\\u3000 杨建新,等.1,8-萘酰亚胺类荧光化合物的合成与应用［J］.染料与染色,2004,41（3）：165～167\\n［4］\\u3000 Vladimir B,Ivo G. A new method for synthesis of 4-allyloxy-1,8-naphthalimide derivatives for use as fluorescent brighteners［J］. Dyes and Pigments,2001,51：57～61',\n",
       "    'source': '1,8-萘酰亚胺类有机小分子电致发光材料的研究进展_王启_llm_correct.md',\n",
       "    'chunk_id': 18},\n",
       "   {'chunk': '［5］\\u3000 E Martin, J L Gu Coronado, J J Cammacho, A Pardo. Experimental and theoretical study of the intramolecular charge transfer on the derivatives 4-methoxy and 4-acetamide 1,8-naphthalimide N-substituted ［J］. Journal of Photochemistry and Photobiology A: Chemistry,2005,175：1～7\\n［6］\\u3000 郭祥峰,等.4-（氮杂-15-冠-5）-1,8-萘酰亚胺荧光探针的合成及性能研究［J］.有机化学,2006,26（4）：$504{\\\\sim}507$\\n［7］\\u3000 郭祥峰,等.水溶性萘酰亚胺氢离子荧光分子探针的合成及性能［J］.精细化工,2006,22（1）： $12\\\\!\\\\sim\\\\!14$',\n",
       "    'source': '1,8-萘酰亚胺类有机小分子电致发光材料的研究进展_王启_llm_correct.md',\n",
       "    'chunk_id': 19},\n",
       "   {'chunk': '［8］\\u3000 Vladimir B B, Danail B S, Nikolai I G. A novel blue fluorescent $4-$(1,2,2,6,6-pentamethylpiperidin-4-yloxy)-1,8-naphthalimide $\\\\mathrm{pH}$ chemosensor based on photoinduced electron transfer［J］. Dyes and Pigments,2006,（in press）：1${\\\\sim}6$\\n［9］\\u3000 B Ramachanram, G Saroja, N B Sankaran, A Samanta. Unusually High Fluorescence Enhancement of Some $1,8-$Naphthalimide Derivatives Induced by Transition Metal Salts ［J］. J. Phys. Chem.,2000,104：11824～11832',\n",
       "    'source': '1,8-萘酰亚胺类有机小分子电致发光材料的研究进展_王启_llm_correct.md',\n",
       "    'chunk_id': 20},\n",
       "   {'chunk': '［10］\\u3000 Xavier P, Andrew I B, et al. Fluorescence switching in $4-$ amino $-1,8-$ naphthalimides “on-off-on” operation controlled by solvent and cations［J］. Dyes and Pigments,2000,47：91～105\\n［11］\\u3000 Jiaan G, Kongchang Ch, Chen-Pin Ch, He T. Luminescent properties and photo-induced electron transfer of naphthalimides with piperazine substituent ［J］. Dyes and Pigments,2003,57：21～28',\n",
       "    'source': '1,8-萘酰亚胺类有机小分子电致发光材料的研究进展_王启_llm_correct.md',\n",
       "    'chunk_id': 21},\n",
       "   {'chunk': '［12］\\u3000 Ivo G, Christo P, Vladimir B. 1,8-Naphthalimides as Blue Emitting Fluorophores for Polymer Materials ［J］. Macromol. Mater. Eng.,2002,287：904～908\\n［13］\\u3000 Weihong Zh, Cheng H, Kongchang Ch, He T. Luminescent properties of copolymeric dyad compounds containing 1,8-naphthalimide and 1,3,4-oxadiazole［J］. Synthetic Metals,1998,96：151～154',\n",
       "    'source': '1,8-萘酰亚胺类有机小分子电致发光材料的研究进展_王启_llm_correct.md',\n",
       "    'chunk_id': 22},\n",
       "   {'chunk': '［14］\\u3000 I Grabchev, et al. A copolymer of 4-N,N-dimethylaminoethylene-N-allyl-1,8-naphthalimide with methylmethacrylate as a selective fluorescent chemosensor in homogeneous systems for metal cations［J］. Journal of Photochemistry and Photobiology A: Chemistry,2003,158：37～43\\n［15］ Chongyu M, Guoli T, et al. Green electroluminescent polyfluorenes containing $1,8-$ naphthalimide moieties as color tuner［J］. Polymer,2006,47：4976～4984',\n",
       "    'source': '1,8-萘酰亚胺类有机小分子电致发光材料的研究进展_王启_llm_correct.md',\n",
       "    'chunk_id': 23},\n",
       "   {'chunk': '［16］ Guoli T, et al. Highly Efficient Pure-White-Light-Emitting Diodes from a Single Polymer-Polyfluorene with Naphthalimide Moieties ［J］. Advanced Materials,2006,16（1）：101～106\\n［17］\\u3000 赵同丰,等.1,8-萘酰亚胺类荧光材料的进展［J］.染料工业,1997,34（1）： $8\\\\!\\\\sim\\\\!15$\\n［18］\\u3000 王秀玲,李亚明,张华.用于有机电致发光材料的萘酰亚胺类荧光染料的研究进展［J］.染料与染色,2005,42（3）： $1\\\\!\\\\sim\\\\!4$\\n［19］\\u3000 C W Tang, S A Van Slyke. Organic electroluminescent diodes ［J］. Appl. Phys. Lett.,1987,51（12）：913～915',\n",
       "    'source': '1,8-萘酰亚胺类有机小分子电致发光材料的研究进展_王启_llm_correct.md',\n",
       "    'chunk_id': 24},\n",
       "   {'chunk': '［20］\\u3000 C W Tang, S A Van Slyke, C H Chen. Electroluminescence of doped organic thin films［J］. J. Appl. Phys.,1989,65（9）：3610～3616\\n［21］\\u3000 He T, Weihong Zh, Kongchang Ch. Novel triad luminescent compound with an electron transporting and a hole transporting moiety［J］. Synthetic Metals,1997,91：229～231\\n［22］\\u3000 Jianhua S, Tao X, Kongchang Ch, He T. Electroluminescence properties of twisted dyad l＆naphthalic anhydride derivatives［J］. Synthetic Metals,1997,91：249～251',\n",
       "    'source': '1,8-萘酰亚胺类有机小分子电致发光材料的研究进展_王启_llm_correct.md',\n",
       "    'chunk_id': 25},\n",
       "   {'chunk': '［23］\\u3000 He T, et al. Electroluminescent property and charge separation state of bis-naphthalimides［J］. Optical Materials,2000,14：91～94\\n［24］\\u3000 Jianhua S, Tao X, Kongchang Ch, He T. Excited state properties of bis-1,8-naphthalimides［J］. Dyes and Pigments,2000,44：87～92',\n",
       "    'source': '1,8-萘酰亚胺类有机小分子电致发光材料的研究进展_王启_llm_correct.md',\n",
       "    'chunk_id': 26},\n",
       "   {'chunk': '［25］\\u3000 Weihong Zh, Meng H, Rong Y, He T. A novel family of twisted molecular luminescent materials containing carbazole unit for single-layer organic electroluminescent devices［J］. Journal of Photochemistry and Photobiology A: Chemistry,2003,154：169～177\\n［26］\\u3000 Shougen Y, et al. Electroluminescent properties of naphthalimide derivative thin film devices ［J］. Thin Solid Films,1998,325：268～270',\n",
       "    'source': '1,8-萘酰亚胺类有机小分子电致发光材料的研究进展_王启_llm_correct.md',\n",
       "    'chunk_id': 27},\n",
       "   {'chunk': '［27］\\u3000 S Wang, et al. Luminescent properties of a novel naphthalimide-fluorene molecule ［J］. Synthetic Metals,2005,150：$33\\\\!\\\\sim\\\\!38$\\n［28］\\u3000 Jian-Xin Y, Xin-Liang W, et al. The synthesis and spectral properties of novel 4-phenylacetylene-1,8-naphthalimide derivatives［J］. Dyes and Pigments,2000,44：87～92\\n［29］\\u3000 Aminul Islam, Ching-Chi Ch, et al. Aminonaphthalic Anhydrides as Red-Emitting Materials: Electroluminescence Crystal Structure, and Photophysical Properties［J］. J. Phys. Chem. B,2005,109：5509～5517\\n# 简 讯',\n",
       "    'source': '1,8-萘酰亚胺类有机小分子电致发光材料的研究进展_王启_llm_correct.md',\n",
       "    'chunk_id': 28},\n",
       "   {'chunk': '# 江苏省有机毒物研究中心通过验收\\n以江苏南大戈德环保科技有限公司为依托，由南京大学、江苏省环境科学研究院共同组建的江苏省有机毒物控制与资源化工程技术研究中心，已于日前顺利通过江苏省评审组验收。 江苏省有机毒物控制与资源化工程技术研究中心自2004年组建成立来，已承担国家“863”、国家自然科学基金等项目20项；荣获部、省级科技进步奖3项；申请国家发明专利38项；发表论文22篇，其中SCI 收集18篇。与此同时，江苏省有机毒物控制与资源化工程技术研究中心通过技术转让、技术推广、技术服务以及工程化中试平台试生产的新产品销售，在13家企业建立有机毒物控制与资源化技术示范工程17项，实现市场销售额3233万元，完成利税740万元。 # 南大南林大共建植物分子生物学研究所',\n",
       "    'source': '1,8-萘酰亚胺类有机小分子电致发光材料的研究进展_王启_llm_correct.md',\n",
       "    'chunk_id': 29},\n",
       "   {'chunk': '2007年6月15日，由南京大学与南京林业大学共同组建的植物分子生物学联合研究所在南京正式挂牌成立。简 讯 # 江苏省有机毒物研究中心通过验收 以江苏南大戈德环保科技有限公司为依托，由南京大学、江苏省环境科学研究院共同组建的江苏省有机毒物控制与资源化工程技术研究中心已于日前顺利通过江苏省评审组验收。 江苏省有机毒物控制与资源化工程技术研究中心自2004年组建成立来，已承担国家“863”、国家自然科学基金等项目20项；荣获部、省级科技进步奖3项；申请国家发明专利38项；发表论文22篇，其中SCI收录18篇。与此同时，江苏省有机毒物控制与资源化工程技术研究中心通过技术转让、技术推广、技术服务以及工程化中试平台试生产的新产品销售，在13家企业建立有机毒物控制与资源化技术示范工程17项，实现市场销售额3233万元，完成利税740万元。 # 南大南林大共建植物分子生物学研究所 2007年6月15日，由南京大学与南京林业大学共同组建的植物分子生物学联合研究所在南京正式挂牌成立。',\n",
       "    'source': '1,8-萘酰亚胺类有机小分子电致发光材料的研究进展_王启_llm_correct.md',\n",
       "    'chunk_id': 30},\n",
       "   {'chunk': '南京大学与南京林业大学共同投资约1500万元。聘请美国加州大学伯克利分校植物与微生物学科终身正教授栾升担任研究所所长。该研究所将整合南京大学的生命科学优势、南京林业大学的林木遗传和生物技术优势及美国名校的学校团队优势在作物育种与改良、病虫害防治、能源利用等方面赶超生命科学的国际前沿，实现植物分子生物学领域研究水平的快速突破，打造出一个在世界范围极具竞争力的植物分子生物学研究所。（沈镇平）',\n",
       "    'source': '1,8-萘酰亚胺类有机小分子电致发光材料的研究进展_王启_llm_correct.md',\n",
       "    'chunk_id': 31},\n",
       "   {'chunk': 'mic Journal Electronic Publishing House.',\n",
       "    'source': '1,8-萘酰亚胺类有机小分子电致发光材料的研究进展_王启_llm_correct.md',\n",
       "    'chunk_id': 32},\n",
       "   {'chunk': 'All rights reserved.\\n\\nhttp://www.cnki.net',\n",
       "    'source': '1,8-萘酰亚胺类有机小分子电致发光材料的研究进展_王启_llm_correct.md',\n",
       "    'chunk_id': 33}]},\n",
       " {'doc_id': 1,\n",
       "  'filename': '10万象素a-Si_TFT有源矩阵的优化技术_徐重阳_llm_correct.md',\n",
       "  'chunks': [{'chunk': '# 10万像素a-SiTFT 有源矩阵的优化技术\\n徐重阳，符晖，邹雪城，张少强\\n（华中理工大学薄膜电子学实验室，武汉，430074）\\n# 摘要\\n本文研究了3英寸 $372\\\\times276$ 像素a-SiTFT有源矩阵的优化设计理论，讨论了材料物理参数和器件结构参数对器件性能的影响，并对其制作工艺进行了系统研究。关键词：a-SiTFT有源矩阵，优化设计，制作工艺\\n# 1 引言',\n",
       "    'source': '10万象素a-Si_TFT有源矩阵的优化技术_徐重阳_llm_correct.md',\n",
       "    'chunk_id': 0},\n",
       "   {'chunk': '液晶显示器自问世以来，就以其鲜明的特点受到了人们的青睐。但是由于液晶材料本身的电光阈值特性不是十分理想，简单矩阵的液晶显示器存在着响应速度慢、对比度不高、视角较小等缺点。特别是当显示电极数增加时，电极间的交叉效应会使液晶的导通电压与截止电压更为接近，大大限制了显示器的信息显示容量。为了解决这一问题，人们提出了采用MIM结构或非线性电阻等二端有源器件作为液晶显示器的开关元件，从而有效地克服了电极间的交叉效应，但其存在的信号泄漏问题，限制了它在高分辨率LCD中的应用。于是人们开始致力于a-SiTFT有源矩阵寻址液晶显示器的研制，从而使液晶显示器真正进入了视频显示领域。a-Si TFT有源矩阵是一个大面积集成化的薄膜微电子器件，涉及到薄膜材料与工艺，微电子器件与工艺等诸多领域。本文对其材料的物理特性和器件的几何结构参数的最佳化设计原理和方法进行了讨论，并针对器件和材料的设计要求对其制作工艺进行了研究。![](images/6d23779faec788495e77d5def731814c3f2013332fd284c204e55016acc4178e.jpg)',\n",
       "    'source': '10万象素a-Si_TFT有源矩阵的优化技术_徐重阳_llm_correct.md',\n",
       "    'chunk_id': 1},\n",
       "   {'chunk': '图1 a-SiTFT断面结构图Fig. 1 The cross-section of a-Si TFT\\n# 2 a-SiTFT 材料物理参数优化\\n目前a-Si TFT一般采用底栅交迭型结构，其断面结构如图1所示。当 a-Si TFT处于关态时，其关态电流 $I_{\\\\mathrm{OFF}}$ 由下式决定：\\n$$\\nI_{\\\\mathrm{OFF}}\\\\approx(n\\\\mu_{\\\\mathrm{p}}+\\\\rho\\\\mu_{\\\\mathrm{n}})\\\\left(\\\\frac{W d}{L}\\\\right)V_{\\\\mathrm{th}}\\n$$',\n",
       "    'source': '10万象素a-Si_TFT有源矩阵的优化技术_徐重阳_llm_correct.md',\n",
       "    'chunk_id': 2},\n",
       "   {'chunk': '式中， $n,\\\\rho$ 为扩展态载流子浓度。由上式可见，要降低关态电流 $I_{\\\\mathrm{OFF}}$ ，则应选择宽带隙a-Si材料，通过优化淀积条件，使其本征的热平衡载流子浓度降到最低。又因为在光照下，a-Si:H 有源层中有大量的光生载流子产生，为有效抑制光照对 $I_{\\\\mathrm{OFF}}$ 的影响，采用了有源区遮光层技术，避免了光照对器件特性的影响。对于 a-Si 这类薄膜材料，其导带迁移率边和价带迁移率边之间的能隙中存在大量的局域态，这些局域态会强烈地支配 a-Si 材料的特性和TFT的器件性能。隙态密度对 a-Si TFT的 I-V 特性的影响比较复杂，研究结果表明：\\n$$\\nI_{\\\\mathrm{ns}}=\\\\frac{\\\\mu_{0}W\\\\alpha}{2L}B^{\\\\prime}(T_{1},T)C_{i}^{2}\\\\iota^{-1}\\\\left[(V_{\\\\alpha}-V_{T}-V_{s})^{\\\\frac{2}{\\\\alpha}}-(V_{\\\\alpha}-V_{T}-V_{s})^{\\\\frac{2}{\\\\alpha}}\\\\right]\\n$$\\n当 $\\\\tau>T$ 时\\n$$',\n",
       "    'source': '10万象素a-Si_TFT有源矩阵的优化技术_徐重阳_llm_correct.md',\n",
       "    'chunk_id': 3},\n",
       "   {'chunk': 'I_{\\\\mathrm{ns}}=\\\\frac{\\\\mu_{0}W\\\\alpha}{2L}B(T_{1},T)C_{i}\\\\left[(V_{\\\\alpha}-V_{T}-V_{s})^{2}-(V_{\\\\alpha}-V_{T}-V_{D})^{2}\\\\right]\\n$$\\n其中， $\\\\alpha=T/T_{1}$ ， $T_{1}$ 为 a-Si 材料的特征温度， $V$ 为 a-Si TFT的表面势，且\\n$$\\nB(T_{1},T)=\\\\frac{q N_{\\\\epsilon}\\\\left(\\\\frac{1}{k T_{1}}-\\\\frac{1}{k T}\\\\right)}{(2N)^{\\\\frac{1}{2}}\\\\left[2N_{\\\\epsilon}+2N_{\\\\epsilon}t\\\\left(\\\\frac{1}{k T_{1}}-\\\\frac{1}{k T}\\\\right)^{-1}\\\\right]^{\\\\frac{1}{2}}}\\n$$\\n$$',\n",
       "    'source': '10万象素a-Si_TFT有源矩阵的优化技术_徐重阳_llm_correct.md',\n",
       "    'chunk_id': 4},\n",
       "   {'chunk': 'B^{\\\\prime}(T_{1},T)=\\\\varepsilon N_{c}k T e^{\\\\frac{k_{F}\\\\cdot E_{\\\\omega}}{k T}}\\\\left(\\\\frac{q \\\\sin\\\\left(\\\\frac{\\\\pi T}{T_{1}}\\\\right)}{2\\\\pi\\\\varepsilon k T_{1}k T N_{F\\\\ell}}\\\\right)^{\\\\frac{1}{2}}\\n$$\\n同样，考虑了隙态密度后的场效应迁移率为：\\n$$\\n\\\\mu_{\\\\mathrm{FE}}=B^{\\\\prime}(T_{1},T)(C_{i}V_{G})^{2}\\\\mu_{0}\\\\qquad T<T_{1}\\n$$\\n$$\\n\\\\mu_{\\\\mathrm{FE}}=B(T_{1},T)\\\\mu_{0}\\\\qquad T>T_{1}\\n$$',\n",
       "    'source': '10万象素a-Si_TFT有源矩阵的优化技术_徐重阳_llm_correct.md',\n",
       "    'chunk_id': 5},\n",
       "   {'chunk': '由上可见，a-SiTFT的 $I_{\\\\mathrm{DS}}$ 和 $\\\\mu_{\\\\mathrm{FE}}$ 都与 a-Si 的材料参数有关。当 $T<T_{1}$ 时， $\\\\mu_{\\\\mathrm{FE}}$ 随着 $V_{G}$ 增加而增加，且与局域态密度有关，当 $T>T_{1}$ 时， $\\\\mu_{\\\\mathrm{FE}}$ 只与 a-Si 的局域态密度有关。值得注意的是，尽管导带中电子的迁移率为 $20\\\\,\\\\mathrm{cm}^{2}\\\\,\\\\mathrm{V}^{-1}\\\\,\\\\mathrm{s}^{-1}$ 左右，但 a-Si 中可动电子的迁移率大约为 $1\\\\,\\\\mathrm{cm}^{2}\\\\,\\\\mathrm{V}^{-1}\\\\,\\\\mathrm{s}^{-1}$ 或更小。这主要是因为，虽然 H 填补了 a-Si 中的悬挂键，但并不能使其为零。而残留的悬挂键在禁带中央附近形成能级 $(10^{16}\\\\,\\\\mathrm{cm}^{-3}$ 左右)，另外，原子间的键角和距离失去长程序，这样就在价带一侧的 $100\\\\,\\\\mathrm{meV}$ 的离导带 $60\\\\,\\\\mathrm{meV}$',\n",
       "    'source': '10万象素a-Si_TFT有源矩阵的优化技术_徐重阳_llm_correct.md',\n",
       "    'chunk_id': 6},\n",
       "   {'chunk': '处存在一个数量级的态密度变化。若最小态密度小于 $10^{16}\\\\,\\\\mathrm{cm}^{-3}$ ，则可显示较好的半导体特性。因此，要得到具有良好性能的a-Si TFT，除了在器件的几何尺寸上采用合适的 $W/L$ 外，优化 a-Si 材料的制备工艺，降低 a-Si 的隙态密度是一个最重要的因素。而高介电常数和高击穿强度的优质栅绝缘介质膜也是十分关键的。 # 3 a-Si TFT 有源矩阵器件结构参数的优化设计',\n",
       "    'source': '10万象素a-Si_TFT有源矩阵的优化技术_徐重阳_llm_correct.md',\n",
       "    'chunk_id': 7},\n",
       "   {'chunk': 'a-Si TFT 有源矩阵的设计应主要考虑如下几个方面的因素：\\n（1）TFT 的通断电流比 $I_{\\\\mathrm{ON}}/I_{\\\\mathrm{OFF}}$\\n（2）开口率\\n（3）寄生电容 $C_{\\\\mathrm{gs}},C_{\\\\mathrm{ds}}$\\n（4）TFT的频率响应特性\\n这些因素在a-Si TFT 有源矩阵的设计过程中相互制约。因此必须在满足液晶显示器性能的基础上折衷考虑。分析TFT-LCD 工作原理，可以知道，当栅电极总线 $V_{\\\\mathrm{g}}$ 为高电平时，a-Si TFT导通，源漏间呈现低阻沟道，漏总线信号通过低阻通道 $R_{\\\\mathrm{ON}}$ 对液晶电容 $C_{\\\\mathrm{li}}$ 充电，则 $C_{\\\\mathrm{li}}$ 上的信号电压为：\\n$$\\nV_{\\\\mathrm{tc}}(t)=V(1-e^{-\\\\frac{t}{\\\\tau_{\\\\mathrm{ON}}}})\\n$$',\n",
       "    'source': '10万象素a-Si_TFT有源矩阵的优化技术_徐重阳_llm_correct.md',\n",
       "    'chunk_id': 8},\n",
       "   {'chunk': '其中， $V$ 为信号电压， $\\\\tau_{\\\\mathrm{ON}}$ 为 $C_{\\\\mathrm{li}}$ 的充电时间常数。且 $\\\\tau_{\\\\mathrm{ON}}=C_{\\\\mathrm{li}}\\\\cdot R_{\\\\mathrm{ON}}$ 。其中， $\\\\boldsymbol{v}$ 为信号电压， $\\\\pmb{\\\\tau}_{\\\\mathrm{ON}}$ 为 $C_{1,\\\\mathrm{c}}$ 的充电时间常数。且 $\\\\tau_{0\\\\mathsf{N}}=C_{1,\\\\mathsf{C}}\\\\cdot R_{0\\\\mathsf{N}}$ 。 当栅电极总线的电压 $V_{G}$ 为低电平时，TFT截止，呈现高的电阻 $R_{\\\\mathrm{0FF}}$，$C_{\\\\mathrm{1},\\\\mathrm{C}}$ 上存贮的信号电压会通过 $R_{\\\\mathrm{OFF}}$ 及 $R_{\\\\mathrm{1.c}}$ 缓慢地放电，则 $C_{\\\\mathrm{t},\\\\mathrm{c}}$ 上的信号电压的变化为：\\n$$',\n",
       "    'source': '10万象素a-Si_TFT有源矩阵的优化技术_徐重阳_llm_correct.md',\n",
       "    'chunk_id': 9},\n",
       "   {'chunk': 'V_{\\\\mathrm{1.c}}(t)=V_{\\\\mathrm{1,c}}(0)e^{-\\\\frac{T}{\\\\mathfrak{r}_{\\\\mathrm{0FF}}}}\\n$$\\n其中， $\\\\pmb{\\\\tau}_{\\\\mathrm{OFF}}$ 为放电常数，且 $\\\\tau_{\\\\scriptscriptstyle{\\\\mathrm{OFF}}} = C_{\\\\scriptscriptstyle{\\\\mathrm{1:C}}} \\\\cdot \\\\left( R_{\\\\scriptscriptstyle{\\\\mathrm{OFF}}} + R_{\\\\scriptscriptstyle{\\\\mathrm{1:C}}} \\\\right)$。\\n为了保证在选通时间 $t_{1}$ 内将 $V$ 信号写入 $C_{\\\\mathrm{~}\\\\mathfrak{m}}$，则要求，\\n$$\\n\\\\tau_{\\\\mathrm{ON}} < t_{1}\\n$$\\n其中， $t = \\\\left( N f \\\\right)^{-1}$ （$f$ 为帧频， $N$ 为扫描行数），即：\\n$$',\n",
       "    'source': '10万象素a-Si_TFT有源矩阵的优化技术_徐重阳_llm_correct.md',\n",
       "    'chunk_id': 10},\n",
       "   {'chunk': 'R_{\\\\scriptscriptstyle{(\\\\imath\\\\mathsf{N}}} < \\\\frac{1}{C_{\\\\scriptscriptstyle{1,\\\\imath}}} \\\\frac{1}{N f}\\n$$\\n为了保证在非选通时间 $\\\\mathrm{T}_{2}$ 内 $\\\\mathrm{C}_{1,\\\\mathrm{c}}$ 上存贮的信号电压的 $90\\\\,\\\\%$ 不泄放掉，则要求，\\n$$\\n\\\\tau_{\\\\mathrm{OFF}} < t_{1}\\n$$\\n其中 $t_{1}=(N f)^{-1}$ ，因此，\\n$$\\n\\\\mathcal{R}_{\\\\small{(\\\\mathrm{OFF}})} > \\\\frac{\\\\mathcal{R}_{\\\\small{(\\\\mathrm{1.c}})}}{f \\\\mathcal{R}_{\\\\small{(\\\\mathrm{1.c}})} C_{\\\\small{(\\\\mathrm{1.c}})} - 1}\\n$$\\n这表明，液晶显示器对 TFT 的 $R_{\\\\mathrm{ON}}$ 和 $R_{\\\\mathrm{OFF}}$ 分别规定了上限和下限。 # 3．1 a-Si TFT 沟道的宽度和长度的选取',\n",
       "    'source': '10万象素a-Si_TFT有源矩阵的优化技术_徐重阳_llm_correct.md',\n",
       "    'chunk_id': 11},\n",
       "   {'chunk': '从以上分析不难得到\\n$$\\nR_{\\\\mathsf{ON}} = \\\\frac{L}{\\\\mathcal{W}} \\\\cdot \\\\frac{1}{\\\\mu_{\\\\mathsf{FE}} C_{\\\\mathrm{io}} (V_{\\\\mathrm{i}}, -V_{\\\\mathrm{\\\\tau}} - \\\\frac{V_{\\\\mathrm{r}}}{2})}\\n$$\\n$$\\nR_{\\\\mathrm{OFF}} = \\\\frac{L}{\\\\mathcal{W}} \\\\cdot \\\\frac{1}{\\\\mu_{\\\\mathrm{FE}} C_{\\\\mathrm{io}} (V_{\\\\mathrm{i}}, -V_{\\\\mathrm{\\\\tau}} - \\\\frac{V_{\\\\mathrm{r}}}{2})}\\n$$\\n结合上述两式，可确定TFT的沟道宽长比 $W/L$ 的大小。为了得到大的开态电流，希望 $W/L$ 尽可能大，而大的沟道宽度会减小开口率，这样，一般取尽可能小的沟道长度 $L$ 。考虑到光刻等微细加工技术的限制，一般地， $L$ 取为 $6{\\\\sim}10\\\\mu\\\\mathrm{m}$ 。 # 3.2 a-Si TFT 栅绝缘介质的设计',\n",
       "    'source': '10万象素a-Si_TFT有源矩阵的优化技术_徐重阳_llm_correct.md',\n",
       "    'chunk_id': 12},\n",
       "   {'chunk': '栅绝缘介质的设计主要涉及介质材料的选取和厚度的确定。一般来说，栅绝缘介质的厚度下限由其击穿强度决定，即：\\n$$\\nd_{i} \\\\geq \\\\frac{E_{c}}{E_{i}}\\n$$\\n其中， $\\\\pmb{E}_{i}$ 为介质的击穿电场强度， $V_{G}$ 为最大栅极电压。而栅介质的厚度的上限由 $\\\\mathrm{a-Si}$ TFT 的阀值电压 $V_{T}$ 和开态电流 $\\\\scriptstyle I_{\\\\mathrm{ON}}$ 确定。在我们的研究中， $\\\\mathrm{SiN}_{x}$ 被用作栅绝缘介质，其厚度 $d_{i}$ 的值一般在 $300\\\\,\\\\mathrm{nm}$ 左右。 # 3.3 a-Si TFT 有源层厚度的设计',\n",
       "    'source': '10万象素a-Si_TFT有源矩阵的优化技术_徐重阳_llm_correct.md',\n",
       "    'chunk_id': 13},\n",
       "   {'chunk': 'a-Si:H 薄膜的设计主要考虑如下两方面的因素。 (1) a-Si 薄膜的厚度与关断电流 $I_{\\\\mathrm{OFF}}$ 的关系。即较薄的 $\\\\mathrm{a}-\\\\mathrm{Si}$ 厚度可降低 $I_{\\\\mathrm{OFF}}$ 电流，而对于开态电流则影响不大，因而可以提高通断电流比。 （2）另一方面，我们的研究结果表明，平带电压与 $\\\\mathrm{a}-\\\\mathrm{Si}$ 膜厚有如下的关系：\\n$$\\n\\\\triangle V_{\\\\mathrm{FB}} = - \\\\frac{C_{\\\\mathrm{so}}}{C_{\\\\mathrm{st}} + C_{\\\\mathrm{v}} + C_{\\\\mathrm{so}}} V_{\\\\mathrm{FR}} e - \\\\frac{d_{\\\\mathrm{s}}}{I_{\\\\mathrm{st}}}\\n$$\\n$\\\\mathrm{a}-\\\\mathrm{Si}$ 厚度 $d$ 的减小，会显著降低平带电压 $V_{\\\\mathrm{FB}}$ 的绝对值，从而降低阈值电压。 # 3.4 寄生电容的设计考虑',\n",
       "    'source': '10万象素a-Si_TFT有源矩阵的优化技术_徐重阳_llm_correct.md',\n",
       "    'chunk_id': 14},\n",
       "   {'chunk': 'a-Si TFT 的寄生电容 $C_{\\\\mu}$ 和 $C_{\\\\mathrm{ds}}$ 在栅极脉冲电压和漏极信号电压突变时使液晶电容上的信号降低 $\\\\triangle V_{\\\\mathrm{tc}}$ 的值，即：\\n$$\\n\\\\triangle V_{\\\\mathrm{tc}} = \\\\frac{C_{\\\\mu}}{C_{\\\\mu} + C_{\\\\mathrm{tc}}} (V_{\\\\mathrm{cH}} - V_{\\\\mathrm{cL}})\\n$$\\n$$\\n\\\\triangle V_{\\\\mathrm{reg}} = \\\\frac{C_{\\\\mathrm{d}}}{C_{\\\\mathrm{ds}} + C_{\\\\mathrm{tr}}} (V_{\\\\mathrm{nH}} - V_{\\\\mathrm{nL}})\\n$$',\n",
       "    'source': '10万象素a-Si_TFT有源矩阵的优化技术_徐重阳_llm_correct.md',\n",
       "    'chunk_id': 15},\n",
       "   {'chunk': '$\\\\triangle V_{\\\\mathrm{tc}}$ 将会造成图像闪烁，甚至会严重影响液晶的工作状态，为了保证液晶显示器的正常工作，应使 $\\\\triangle V_{\\\\mathrm{tc}}$ 的最大值小于液晶材料的阈值，否则将会出现误操作。为此，在设计中，应尽量减小栅源覆盖，以减小寄生电容。 # 4 a-Si TFT 有源矩阵板的制备工艺研究\\n多色液晶显示用 a-Si TFT 有源矩阵的制备工艺流程如图 2 所示。\\n![](images/aa04c09ac7271f08bfd466f2f6bcef1b0064452a8e2d9551a9b22fdc76faf9a6.jpg)\\n图 2 a-Si TFT 有源矩阵制作工艺流程图\\nFig. 2 The diagram of a-Si TFT active matrix processing\\n从图中可知，a-Si TFT 有源矩阵的制作要淀积九层薄膜，经过七次光刻，每一道工艺都对矩阵板的性能有重要的影响。 # 4.1 非晶硅基薄膜的制备工艺研究',\n",
       "    'source': '10万象素a-Si_TFT有源矩阵的优化技术_徐重阳_llm_correct.md',\n",
       "    'chunk_id': 16},\n",
       "   {'chunk': '如前所述，在我们的 a-Si TFT 有源矩阵设计中，为了增大开口率和减小 $C_{\\\\theta}, C_{\\\\epsilon}$ 等寄生电容，我们采用了小尺寸，即小 $W/L$ 的 a-Si TFT 结构和窄的栅源覆盖。因此，为了得到大的通断电流比 $I_{\\\\mathrm{ON}}/I_{\\\\mathrm{OFF}}$，我们对 a-Si TFT 的 $\\\\mathrm{a}-\\\\mathrm{Si}/\\\\mathrm{SiN}_{x}$ 界面和 $\\\\mathrm{a}-\\\\mathrm{Si}$ 基薄膜的淀积工艺进行了更深入的研究，并取得了可喜的进展。具体而言就是：\\n（1）采用高真空的 PEVCD 淀积系统，提高 PEVCD 的本底真空度，利用无油分子泵将本底真空度从原来的 $3 \\\\times 10^{-2}$ Pa 提高到 $5 \\\\times 10^{-3}$ Pa。这样，减小了 $\\\\mathrm{a}-\\\\mathrm{Si}$ 薄膜中的氧、氮杂质含量，大大减小了缺陷态密度，提高了 a-Si TFT 的场效应迁移率，并使 TFT 的关断电流降低到 $10^{-13}$ 以下。',\n",
       "    'source': '10万象素a-Si_TFT有源矩阵的优化技术_徐重阳_llm_correct.md',\n",
       "    'chunk_id': 17},\n",
       "   {'chunk': '（2）利用富氮的 $\\\\mathrm{SiN}_{x}$ 薄膜，改善了 $\\\\mathrm{a}-\\\\mathrm{Si}/\\\\mathrm{SiN}_{x}$ 的界面态。从 $\\\\mathrm{SiN}_{x}$ / $\\\\mathrm{SiN}_{x}$ 双层结构的 a-Si 薄膜的暗电导增益与 $\\\\mathrm{SiN}_{x}$ 中的氮含量的关系可以看到，在 Si/N 比为 1 时，可得到最大的暗电导增益。这说明，这时的 $\\\\mathrm{a}-\\\\mathrm{Si}/\\\\mathrm{SiN}_{x}$ 界面处的界面态密度最低。从而提高了 a-Si TFT 的导通电流。 # 4.2 选择性刻蚀工艺的研究',\n",
       "    'source': '10万象素a-Si_TFT有源矩阵的优化技术_徐重阳_llm_correct.md',\n",
       "    'chunk_id': 18},\n",
       "   {'chunk': '在我们的研究中，a-Si TFT 有源矩阵板的刻蚀工艺中采用了干法刻蚀和湿法刻蚀相结合的技术。即采用湿法刻蚀 $\\\\mathrm{Cr}$、$\\\\mathrm{Al}$ 和 $\\\\mathrm{ITO}$ 膜，尽管刻蚀方法是常规的，但重要的是保证大面积薄膜刻蚀的均匀性。另外，采用 $\\\\mathrm{CF}_{4}$ 等离子体干法刻蚀技术刻蚀 $\\\\mathrm{a}-\\\\mathrm{Si}$ 基薄膜。我们重点研究了 $\\\\mathrm{CF}_{4}$ 等离子体刻蚀 $\\\\mathrm{SiN}_{x}$ 和 $\\\\mathrm{a}-\\\\mathrm{Si}:\\\\mathrm{H}$ 薄膜的刻蚀速率及其选择性和均匀性。 从实验中发现，刻蚀速率主要由衬底温度、射频功率和 $\\\\mathrm{CF}_{4}$ 的气体压强来控制。图 3 和图 4 分别示出 $\\\\mathrm{SiN}_{x}$、a-Si:H 膜刻蚀速率与射频功率和 $\\\\mathrm{CF}_{4}$ 气压的关系。',\n",
       "    'source': '10万象素a-Si_TFT有源矩阵的优化技术_徐重阳_llm_correct.md',\n",
       "    'chunk_id': 19},\n",
       "   {'chunk': '![](images/f6a5643f34a69b20de904d1919a94b0c2ff69e8e931866c9efe0b4a7e9cba557.jpg)\\n图 3 刻蚀速率与射频功率的关系曲线\\nFig. 3 Etching rate vs applied RF power for a-Si:H and SiN\\n![](images/6996764d86be088dec9d23ac52c8d91b11ea511157d2886c9c0ba0b9ea18cde8.jpg)\\n图 4 刻蚀速率与 $\\\\mathrm{CF}_{4}$ 气体分压的关系曲线',\n",
       "    'source': '10万象素a-Si_TFT有源矩阵的优化技术_徐重阳_llm_correct.md',\n",
       "    'chunk_id': 20},\n",
       "   {'chunk': 'Fig. 4 Etching rate vs gas pressure for a-Si:H and SiN和 $\\\\mathbf{a}\\\\!\\\\!\\\\to\\\\!\\\\!\\\\mathbf{S}\\\\!\\\\!\\\\mathrm{{i}}_{}\\\\!\\\\!\\\\!\\\\cdot\\\\!\\\\!\\\\mathrm{{~H~}}$ 薄膜的刻蚀速率及其选择性和均匀性。从实验中发现，刻蚀速率主要由衬底温度、射频功率和 $\\\\mathrm{CF_{*}}$ 的气体压强来控制。图3和图4分别示出 $\\\\mathtt{SiN}_{x}$ 、a-Si:H膜刻蚀速率与射频功率和CF气压的关系。用CF等离子体刻蚀 $\\\\mathtt{SiN}_{x}$ 薄膜时，通常要加入微量的 $\\\\mathrm{O}_{2}$ ，以提高其刻蚀速率，增大SiN和 $\\\\mathsf{a}\\\\!-\\\\!\\\\mathsf{Si}$ 膜的刻蚀速率比，而在我们的研究中，创造性地采取措施在刻蚀时适当控制衬底温度，保证这二种薄膜的最大刻蚀速率差。使用a-Si:H与 $\\\\mathtt{SiN}_{x}$ 的刻蚀速率比大于10，实现了刻蚀的选择性。并通过调整逃气方式和极板间距，实现了刻蚀的均匀性。',\n",
       "    'source': '10万象素a-Si_TFT有源矩阵的优化技术_徐重阳_llm_correct.md',\n",
       "    'chunk_id': 21},\n",
       "   {'chunk': '![](images/36039c9a81f4fbe26d9ab1b5ebda135e3b0355fda42d323d3489ac50fafb064f.jpg)\\n图5（a）a-Si TFT输出特性曲线Fig. 5 (a) The output characteristics of $\\\\mathrm{a}\\\\!-\\\\!\\\\mathrm{\\\\mathbf{S}}\\\\mathrm{i}$ TFT\\n![](images/e1322c39aff84b3b91e4b021ab3d4c1e281d01ab75d15699c5e6ebc95bdd1ae5.jpg)\\n图5（b）a-Si TFT转移特性曲线Fig. 5 (b) The transfer characteristics of $\\\\mathrm{a}\\\\!-\\\\!\\\\mathrm{\\\\mathbf{S}}\\\\mathrm{i}$ TFT\\n# 5 结论',\n",
       "    'source': '10万象素a-Si_TFT有源矩阵的优化技术_徐重阳_llm_correct.md',\n",
       "    'chunk_id': 22},\n",
       "   {'chunk': '器件的几何结构参数对a-Si TFT的性能有着最直接的影响，而降低 $\\\\mathsf{a}\\\\!-\\\\!\\\\mathrm{Si}$ 材料的局域态密度和增加其带隙宽度能有效地改善器件的性能。通过a-Si TFT有源矩阵的优化设计和薄膜材料、制备工艺的优化，研制出了a-Si TFT的通断电流比高达 $10^{6}\\\\!\\\\sim\\\\!10^{7}$ ，开口率大于 $60\\\\,\\\\%$ ，阈值电压为4V左右的3英寸 $372\\\\!\\\\times\\\\!276$ 像素的a-Si TFT有源矩阵板。图5表示出了a-Si TFT有源矩阵板中样管的输出特性曲线和转移特性曲线。',\n",
       "    'source': '10万象素a-Si_TFT有源矩阵的优化技术_徐重阳_llm_correct.md',\n",
       "    'chunk_id': 23},\n",
       "   {'chunk': '# 参考文献\\n[1] Howard W E, Proc. of the SID, 1986 27, 313\\n[2] Barafft D R et al., Digest 1980 SID, 1980, 200\\n[3] Castleberry D E. IEEE Trans. Electron Dev. ED —26, 1979, 423\\n# OPTIMUM TECHNOLOGY OF THE 372X276 PIXEL a-Si TFT ACTIVE MATRIX\\nXu Zhongyang, Fu Hui, Zou Xuecheng, Zhang Shaoqian.',\n",
       "    'source': '10万象素a-Si_TFT有源矩阵的优化技术_徐重阳_llm_correct.md',\n",
       "    'chunk_id': 24},\n",
       "   {'chunk': '(Department of Solid State Electronics, Huazhong University of Science and Technology, Wuhan, 430074)\\n# Abstract\\nThe optimum design of 3 inch $372\\\\!\\\\times\\\\!276$ pixels $\\\\mathsf{a}-\\\\mathsf{Si}$ TFT active matrix is investigated in detail in this paper.\\n\\nThe influence of the materials characteristic and device geometry parameter to the performance of the device is discussed.\\n\\nAlso the fabrication processes are studied systematically.\\n\\nKEY WORDS: a-Si TFT active matrix, optimum design, fabrication process',\n",
       "    'source': '10万象素a-Si_TFT有源矩阵的优化技术_徐重阳_llm_correct.md',\n",
       "    'chunk_id': 25}]},\n",
       " {'doc_id': 2,\n",
       "  'filename': '10大新显示技术_llm_correct.md',\n",
       "  'chunks': [{'chunk': '![](images/e4862b57a0d857dea6d5f7c318349dcfe9b11bd674f1e81a5eb688a8203d2f59.jpg)\\n“显示技术、无线技术和电池技术被认为是决定未来IT发展的三大基础技术，它们将决定IT在人们未来生活中的普及程度。”\\n正如PCWorld中国网上“新显示”博客中所说：这是一个追求体验的时代，显示技术已经成为左右体验的核心技术，它也将是未来最值得关注的IT技术。 ![](images/a1ed3b3ccdfb6b9321b60c754863b718c8d0df133c4522d54697461fcd4374e6.jpg)\\n# 平板之后是超薄\\n![](images/a193b52547e5acfe350966b6d5dda3ce047a09f54f6fab902db5f03b2f767acd.jpg)',\n",
       "    'source': '10大新显示技术_llm_correct.md',\n",
       "    'chunk_id': 0},\n",
       "   {'chunk': '在刚刚结束的2007年，显示的平板革命已经宣布完成，其主要的一个标志是LCD（液晶）取代CRT成为电视领域的龙头技术，来自DisplaySearch的一份报告显示：2007年第四季度，LCD电视的渗透率已经达到 $47\\\\%$ ，超越了CRT电视的 $46\\\\%$ ，如果再加上同样是平板显示的PDP（等离子）电视的渗透率，平板已经成为电视领域的事实主导。在这之前，桌面显示领域的平板革命早已经完成。 平板电视的优势除了平面之外，还有就是厚度小得可以壁挂，而且在大尺寸之后，体积和重量的优势更将凸显。 然而人们对于厚度的期望总是贪得无厌，在平板之后，又希望平板显示技术在厚度上再突破，所以也就有了可以更薄的OLED，同时也就有了人们对LCD技术未来的质疑。 ![](images/9894efbc5534925159544cb3b7bbcde9dfc878a837381dd59f31a9f409a1d552.jpg)',\n",
       "    'source': '10大新显示技术_llm_correct.md',\n",
       "    'chunk_id': 1},\n",
       "   {'chunk': '2007年10月“CEATEC JAPAN 2007”展会上，LCD技术首先展示了其在超薄方向的技术潜力。 在此次展会上，夏普、日立、JVC、LG Philips、三星和友达光电等各大面板生产商相继推出了超薄型LCD电视面板，厚度都在 $4\\\\mathrm{Cm}$ 以下，最薄的已经低于 $2\\\\mathrm{Cm}$ ，这样的面板厚度也为电视产品整体厚度降低奠定了基础。 夏普一款52英寸样机的厚度实现 $2.0\\\\mathrm{cm}$ （最厚的部分只有 $2.9\\\\mathrm{Cm}$ ，重量只有 $20\\\\mathrm{kg}$ ，对比度达到了 10万：1，电源消耗为 $140\\\\mathrm{KWh/}$ 年，其色域达到了 $150\\\\%$ 的NTSC色域空间）\\nLG-Philips发布了一款超薄42英寸120HzLCD面板，厚度只有约 $1.98\\\\mathrm{cm}$\\n而在夏普、LG-Philips之后，三星也推出了一款40英寸的LCD面板，采用了LED背光技术，其厚度只有 $0.99\\\\mathrm{cm}$ ，功耗低于 $90\\\\mathrm{W}$',\n",
       "    'source': '10大新显示技术_llm_correct.md',\n",
       "    'chunk_id': 2},\n",
       "   {'chunk': '在这些超薄面板中，无一例外都对背光技术进行了优化设计，改善了背光结构和背光模块的体积，在降低总体厚度的情况下，还提升了对比度、色域等性能指标。面板厚度的降低自然也为电视整体厚度的降低奠定了基础。所以在2008年初的CES上，日立和夏普都已经展出了厚度在 $4.0\\\\mathrm{cm}$ 以下的 LCD电视产品。 更为可喜的是这些面板都已经列人各大厂商的量产计划，日立、JVC和LG都会在2008年上市这种超薄LCD电视。 2008年1月的CES展会上，平板电视的另一大主流显示技术PDP也再次发力，先锋、松下都展出了厚度在 $2.0\\\\mathrm{cm}$ 左右的超薄PDP产品样机，其中先锋的50英寸PDP的厚度只有 $0.9\\\\mathrm{cm}$ ，而松下的原型机的厚度也只有约 $2.54\\\\mathrm{cm}$ 厚。（更多详细信息请参看本刊上期的《掀开消费电子大戏的帷幕一2008CES国际消费电子展掠影》大型专题报道）',\n",
       "    'source': '10大新显示技术_llm_correct.md',\n",
       "    'chunk_id': 3},\n",
       "   {'chunk': '先锋展示的厚度只有 $0.9\\\\mathrm{cm}$ 的PDP样机采用了2张 $0.28\\\\mathrm{cm}$ 厚的玻璃底板，通过将前置滤光片等底板以外部分的厚度控制在 $0.34\\\\mathrm{cm}$ ，实现了 $0.9\\\\mathrm{cm}$ 的超薄厚度。 另外柔性线缆也是对实现超薄做出贡献的另一个重要部件，先锋开发了用来连接玻璃底板（驱动器芯片）和背面配置的驱动电路底板之间的柔性线缆，从而可以进一步降低厚度。 LCD和PDP技术在超薄方面的突破将让未来平板电视走向更加轻薄的道路，如果再加上在超薄方面更具优势的OLED技术，显示从平板走向超薄正在逐渐成为现实。 # OLED可否主宰显示未来\\n![](images/4503a81a487eb575f1e471b7d75352480b6b6d26bc20ad941a3a435b6c320cf3.jpg)\\n![](images/063680e82c152649c244650fff863dea97e65dc03ce1c794927b5904b04f6d1b.jpg)',\n",
       "    'source': '10大新显示技术_llm_correct.md',\n",
       "    'chunk_id': 4},\n",
       "   {'chunk': '![](images/39437c1803fc1c62bbf4d114d027b3121e54c79686de21adeecf8da3f40a687d.jpg)\\n理论上，基于目前的材料工艺，LCD技术和PDP技术的超薄之路都有一定的局限，基于目前的显示技术，最具潜力的超薄技术还应该是OLED技术，而且OLED技术未来有望实现可弯曲和随意折叠，满足人们对显示设备终极追求一无形。 OLED是自发光技术，与LCD技术相比，OLED具有以下优势：\\n- OLED可以自身发光，而LCD则不能。所以OLED可以显示更高的亮度和对比度，色彩效果也可以更加丰富；\\n- 制造工艺简单，量产时的OLED也没有视角范围的限制，可视角度一般可达到160度，重量比LCD也轻得多；\\n- 未来OLED还可弯曲，应用范围极广。',\n",
       "    'source': '10大新显示技术_llm_correct.md',\n",
       "    'chunk_id': 5},\n",
       "   {'chunk': '正是基于以上的诸多优势，OLED技术的未来被普遍看好。在小尺寸显示领域，OLED技术已经非常成熟，在手机、数码相机、MP3等便携设备中已经得到了广泛应用。 不过要成为未来显示技术的主宰，OLED技术必须在大尺寸和电视领域取得成功，在这个方向上，OLED技术刚刚起步。 2007年12月1日，索尼正式上市了其OLED电视XEL-1,这款电视的重量低于 $2.26\\\\mathrm{kg}$ ,厚度只有 $0.3\\\\mathrm{mm}$ ，这是一款11英寸的产品，对于电视而言这是一个很小而且不标准的尺寸，其分辨率为 $940\\\\times540$ ，显示性能相关指标方面，由于对比度达到100万：1以上，“索尼拥有的测定器无法测量”。亮度为 $600\\\\mathrm{cd/m}^{2}$ ，色彩表现范围为NTSC色域的 $110\\\\%$ ，响应时间为数 $\\\\upmu$ 秒。 大新显示技术寿命方面，从初期亮度到亮度减半的时间为3万小时。耗电量为 $45\\\\mathrm{W}$ 。这款产品不仅完全实用，而且在性能等多个方面都具有很大的优势。',\n",
       "    'source': '10大新显示技术_llm_correct.md',\n",
       "    'chunk_id': 6},\n",
       "   {'chunk': '不过该产品的价格高达20万日元（约1750美元），大约是一些42英寸液晶电视的2倍，而且只在日本市场限量发售，每月只生产2000台。 在XEL-1之后，OLED技术再次引起了人们的关注，三星、东芝、松下和爱普生也都通过不同的方式公布了自己的OLED电视的策略或者路线图，从而让人们对OLED技术充满了期待。 在2008年初的CES上，索尼除了展示了11英寸的XEL-1外,还展示了一款27英寸的OLED电视样机，三星也展示了一款14英寸和1款31英寸的OLED电视样机。 目前困扰OLED在电视领域发展的主要问题有两个：一是寿命问题，这个问题从索尼的XEL-1和爱普生发布的相关消息看，已经基本得以解决；另一个问题是生产工艺问题，目前的生产工艺还无法实现OLED电视的批量生产。 目前OLED电视虽然一切看起来都很好，但如此高昂的价格，似乎离真正实用还有一定距离，所以OLED要想主宰未来显示世界还有很长的路要走。 # 头戴式显示成就个人显示',\n",
       "    'source': '10大新显示技术_llm_correct.md',\n",
       "    'chunk_id': 7},\n",
       "   {'chunk': '![](images/4b51b69465b5a17d662b6d6d0ba00a8a4757207d4da5583f33cc7cf7c17fc723.jpg)',\n",
       "    'source': '10大新显示技术_llm_correct.md',\n",
       "    'chunk_id': 8},\n",
       "   {'chunk': '飞机上、汽车上、火车上、家里、宾馆里，总之独自一个人的时候，带上一个类似于眼镜的装置，然后独自享受一下观看大屏幕的感觉，或者操纵 着手柄，沉浸在自己的游戏世界中。 以上的场景是不是很酷？这就是头戴式显示的应用场景。头戴式显示并不是新概念，不过以往的应用面向军事等特殊的应用领域，而如今越来越 多地应用于个人娱乐领域。在2008年初的CES展会上，头戴式显示器亮相的概率非常高，让人们对其普及应用充满了信心。 在CES的未来显示设备展区，一直致力于OLED微型显示设备研发的eMagin公司展示了最新的SVGA-3DS微型显示芯片。这片 $800\\\\times600$ 分辨率 的OLED芯片对角线仅有0.437英寸，每个像素仅有 $11.1\\\\,\\\\upmu\\\\mathrm{m}\\\\times11.1\\\\,\\\\upmu\\\\mathrm{m}$ ，加上驱动芯片，封装尺寸与最小的硬币相仿。此外，其亮度、效率等性能比以往的产品有明显提高，已经开始应用在军事、游戏、商业演示等行业中。本刊记者在CES上尝试了一下其原型产品，SVGA的分辨率比常见的VGA产品具备更细腻的画面感受，其独特的成像光路可以拓展视角，让观看轻松自然。',\n",
       "    'source': '10大新显示技术_llm_correct.md',\n",
       "    'chunk_id': 9},\n",
       "   {'chunk': '![](images/294594d02458f6f13ef73c42d5e75b9f2b68f7988a5a338cafff88227c7befc0.jpg)',\n",
       "    'source': '10大新显示技术_llm_correct.md',\n",
       "    'chunk_id': 10},\n",
       "   {'chunk': '另外一个抢风头的头戴显示厂商应该算是Myvu，它推出了一系列造型炫酷的头戴显示器，并打出了“更近、更个人”的口号，希望塑造个人视频娱乐空间的应用模式。它们的设计相当实用，无论造型如何，都集成了人耳式耳机和锂电池，可以连接PMP、便携DVD，甚至手机，让用户充分享受自己的视频。本刊记者现场也尝试了几款，因为目标信号源是iPod之类的产品，其显示分辨率不高，而且感觉画面比较狭小，恐怕与成像光路设计有关。 无论现状如何，头戴显示器是一个明确的未来，它可以给用户轻松带来一个完整、封闭的显示空间，让人迅速融合进虚拟世界中。从技术看，提高分辨率、改善观看舒适性将是未来的发展趋势，从而让更多的人可以沉浸在自己的显示空间中。 # 手机投影实现随身大屏梦\\n![](images/726c47d11ec8099c04aa3b4ec4ffebdf134c5760aa18728279e56691021478ae.jpg)\\n![](images/b525b47ce0afb4bcf679bf3a0c72c3d07fc8b92701640bbab3b08d6856254782.jpg)',\n",
       "    'source': '10大新显示技术_llm_correct.md',\n",
       "    'chunk_id': 11},\n",
       "   {'chunk': '显示面积小和分辨率低会降低信息的可读性并限制其应用范围，在手机上，这一点显得尤其突出。如果手机能在前面人的白衣服或是旁边的白墙上投射出VGA分辨率的A4大小画面，那无论游戏、网络浏览、GPS导航，还是视频播放都会变得更方便、更吸引人。 如今面向手机、PSP和PMP等移动设备的微型投影设备或者嵌入式投影设备正在成为投影领域的一个新的热点。而且不仅可以实现上面提到的VGA分辨率和A4画面，甚至已经出现了SVGA分辨率和20英寸以上的投影画面。 目前DLP、LCOS和3LCD这三大投影核心技术都已经推出了相应的产品，投影使用的光源既有激光固态光源，也有LED光源。 在2007年10月的“CEATEC JAPAN',\n",
       "    'source': '10大新显示技术_llm_correct.md',\n",
       "    'chunk_id': 12},\n",
       "   {'chunk': '2007”展会上也有多家厂商展出了相应的技术，其中的部分厂商还是这个领域里的新面孔。另外一个抢风头的头戴显示厂商应该算是Myvu，它推出了一系列造型炫酷的头戴显示器，并打出了“更近、更个人”的口号，希望塑造个人视频娱乐空间的应用模式。它们的设计相当实用，无论造型如何，都集成了人耳式耳机和锂电池，可以连接PMP、便携DVD，甚至手机，让用户充分享受自己的视频。本刊记者现场也尝试了几款，因为目标信号源是iPod之类的产品，其显示分辨率不高，而且感觉画面比较狭小，恐怕与成像光路设计有关。 无论现状如何，头戴显示器是一个明确的未来，它可以给用户轻松带来一个完整、封闭的显示空间，让人迅速融合进虚拟世界中。从技术看，提高分辨率、改善观看舒适性将是未来的发展趋势，从而让更多的人可以沉浸在自己的显示空间中。 # 手机投影实现随身大屏梦',\n",
       "    'source': '10大新显示技术_llm_correct.md',\n",
       "    'chunk_id': 13},\n",
       "   {'chunk': '![](images/726c47d11ec8099c04aa3b4ec4ffebdf134c5760aa18728279e56691021478ae.jpg)\\n![](images/b525b47ce0afb4bcf679bf3a0c72c3d07fc8b92701640bbab3b08d6856254782.jpg)\\n\\n显示面积小和分辨率低会降低信息的可读性并限制其应用范围，在手机上，这一点显得尤其突出。如果手机能在前面人的白衣服或是旁边的白墙上投射出VGA分辨率的A4大小画面，那无论游戏、网络浏览、GPS导航，还是视频播放都会变得更方便、更吸引人。\\n\\n如今面向手机、PSP和PMP等移动设备的微型投影设备或者嵌入式投影设备正在成为投影领域的一个新的热点。而且不仅可以实现上面提到的VGA分辨率和A4画面，甚至已经出现了SVGA分辨率和20英寸以上的投影画面。\\n\\n目前DLP、LCOS和3LCD这三大投影核心技术都已经推出了相应的产品，投影使用的光源既有激光固态光源，也有LED光源。',\n",
       "    'source': '10大新显示技术_llm_correct.md',\n",
       "    'chunk_id': 14},\n",
       "   {'chunk': '在2007年10月的“CEATEC JAPAN 2007”展会上也有多家厂商展出了相应的技术，其中的部分厂商还是这个领域里的新面孔。\\n\\n以色列Explay公司是微型投影机领域的先驱公司之一，在CEATEC上，Explay公司展示了oio的原型机，该样机大小与手掌相当，安装有电池，亮度为7流明，分辨率为QVGA（$320\\\\times240$）。oio使用了0.24英寸反射型液晶面板，红、绿色采用激光光源，蓝色采用LED光源。该公司的第2代“oio”产品样机也已经开发完成，只有口香糖大小，功耗目标为1W，可以嵌入手机使用，也可以作为独立投影机使用。\\n\\n![](images/a5bd37a79c26b949cf5bddc793bab30cdfb549ec724b857db7f299ffb0ecdf0d.jpg)\\n\\n西铁城也在CEATEC上展示了可嵌入手机的投影机模块样机，使用了西铁城开发的反射型硅基液晶（LCOS，Liquid Crystal On Silicon）面板。该样机模块高11mm，体积为$5\\\\mathsf{mm}^{3}$，可以投射A4尺寸图像，其功耗低于$1\\\\mathbf{W}$。',\n",
       "    'source': '10大新显示技术_llm_correct.md',\n",
       "    'chunk_id': 15},\n",
       "   {'chunk': '柯尼卡美能达已经研制出了用于激光投影机的MEMS反光镜，利用压电元件驱动反光镜，通过作为光源的激光器进行扫描，从而投射出图像，其水平方向上采用30kHz频率、垂直方向采用$60\\\\mathbf{Hz}$频率进行驱动扫描，其分辨率可以达到XGA（$1024\\\\times768$）。\\n\\n展出样品的亮度达到了12流明，公司还展出了用于笔记本电脑和手机的光学模块。模块的外形尺寸计划为$40\\\\mathrm{mm}\\\\times20\\\\mathrm{mm}\\\\times7\\\\mathrm{mm}$，开发目标是以30流明的亮度投射出相当于XGA的图像，目标功耗为$4\\\\mathbf{mW}$，色域达到NTSC的$135\\\\,\\\\%$，投影图像的尺寸达到A3大小。',\n",
       "    'source': '10大新显示技术_llm_correct.md',\n",
       "    'chunk_id': 16},\n",
       "   {'chunk': '在2008年1月的CES上，TI和3M的展台上，本刊记者也都看到了工作人员拿着手机模样的设备到处“招摇”，把图像投射在白纸或是别人的背上。TI展台上的DLP微型投影产品来自合作伙伴Sypro和扬明光学，体积相当小巧，已经集成到了一台通常大小的手机中。DLP微型投影机既可以作为独立产品使用，也可作为模块整合到手机等移动设备中。这次展示的DLP微型投影机采用LED光源，工作人员表示，采用激光光源的产品也在研发中。\\n\\n3M公司展示的微型投影机原型机采用LCOS成像核心，LED光源，拥有一个相当“庞大”的镜头。这个模块投射亮度很高，可以在展场明亮的光线下实现清晰锐利的画面。3M工作人员表示，这个投影模块技术已经相当成熟，其合作伙伴预计会在今年春季推出应用这项技术的手持设备。\\n\\n微型投影技术的百花齐放让人欣慰，基于各种投影核心和光源技术的微型投影方案会促使这种应用迅速走向现实。一旦这项技术在手机、手持游戏机、MID等移动终端设备上广泛应用，用手机进行小型商务演示，用手持机玩更加真实、身临其境的游戏，都将不再是梦想。手持终端的应用将得到全面拓展。',\n",
       "    'source': '10大新显示技术_llm_correct.md',\n",
       "    'chunk_id': 17},\n",
       "   {'chunk': '![](images/7b1096a849ffb760364698552a552ed7b91bcdd46ef5b08f45522db22861deba.jpg)\\n\\n# 3D显示进入立体空间\\n\\n普通显示无论如何精彩，我们仍然还停留在二维平面空间，然而在厌倦了平淡的二维世界后，人们就期望着去三维空间猎奇，这就是3D显示存在的市场空间。\\n\\n3D显示从立体电影应用中演变而来，应用最普遍、也是最常见的就是3D LCD显示器。早在1950年这项立体LCD显示技术雏形就已经被开发出来，其原理类似于立体电影，使用偏光滤光或红蓝滤光成像技术，以达到在2D平面LCD显示器上实现3D的效果。\\n\\n如今3D显示已经从单纯的桌面显示发展到了更加广泛的领域，从小型头戴式显示、大屏幕电视到公共信息显示，都有一些3D显示应用出现。\\n\\n在2008年1月的CES上，3D显示同样是一个热点，三星和三菱都分别展示了基于DLP技术的3D高清背投电视，观众佩戴“快门眼镜”，镜片上的快门每秒钟可在你察觉不到的情况下开关60次，以和显示屏发出的信号同步，观看者就可以看到逼真的3D影像。',\n",
       "    'source': '10大新显示技术_llm_correct.md',\n",
       "    'chunk_id': 18},\n",
       "   {'chunk': 'SpectronIQ推出了一个支持3D显示的LCD电视系列，其中有32英寸、42英寸和47英寸产品；另一家名为ZALMAN的公司展示了多款3D LCD显示器，其中有19英寸、22英寸和32英寸的产品；还有一家名为Pavonine的公司也推出了一款3D LCD产品，这款32英寸的产品的目标是医疗等专业应用领域。\\n\\n在CES上，三星还展出了一款可以显示3D图像的PDP电视。LCD产品需要极化眼镜来区分左右两边的图像，很像是淡颜色的塑料太阳镜。三星的PDP使用具有LCD的快门眼镜，所以厚度和重量都有所增加，但是戴起来还比较容易。\\n\\n随着3D显示技术的发展，3D显示已经从影院走出，除了一些专业应用外，越来越多地开始进入电视和游戏等个人娱乐应用领域，尤其是在游戏应用中，早已经有了一些3D素材和场景，其中的很多早在10年前就已经成为了电脑游戏的标配功能，游戏玩家也早已经在游戏系统中花了很多钱，所以让他们享受其中的3D视觉体验应该是一件非常好的事情，当然让更多的人可以在家里享受3D视频也将是3D HDTV未来发展的一个主旨。\\n\\n# 激光显示技术值得期待',\n",
       "    'source': '10大新显示技术_llm_correct.md',\n",
       "    'chunk_id': 19},\n",
       "   {'chunk': '![](images/05d9bba3aaedf0d2a5e7d0c5c5793f1142e84e86bd20d5c60c5953bfc8fd5973.jpg)\\n\\n固态激光技术的快速发展使得激光迅速成为了显示设备的光源，目前主要用在投影设备上，三菱甚至把激光光源用在了背投电视中，在多种展会上，三菱都展示过相应的产品。\\n\\n把激光头当光源来用的代表厂商还有国内的中视中科，它本身作为国家863计划的一部分，拥有很强的技术实力，固态激光头的水平已独领风骚，目前产品以大型投影设备为主，用在影院等特殊场合的投影上。这种产品直接把传统的灯泡替换掉，换成通过光纤耦合的激光头，实际投射效果也非常好。\\n\\n![](images/5881d871edaad1b20296ad1a75e3f72dc6d24939657b5442063bdc117f4d0392.jpg)\\n\\n使用激光光源的激光投影机和激光背投的色彩非常好，色域不用说，达到了NTSC定义色域的$200\\\\%$，色彩饱和度和显色性都很好，可以用不高的亮度实现很高的对比度，看上去很柔和，对于投影机而言还没有紫外线污染，的确是无与伦比。',\n",
       "    'source': '10大新显示技术_llm_correct.md',\n",
       "    'chunk_id': 20},\n",
       "   {'chunk': '这都是属于把激光作为光源来使用，并没有充分利用激光的指向性特点，实际上利用激光精确指向性特点，可以直接做出激光投影机，并且还不需要镜头，因而体积可以做到非常小，成本会降低很多。\\n\\nSymbol就推出了扫描式的激光投影机，主要用在手机上，在摩托罗拉收购它之后，已经出现在了摩托罗拉的展示手机上。\\n\\n它的核心在于首先将三色激光汇聚成一束光线，然后通过互相垂直的两个棱镜进行扫描，一个负责垂直扫描，一个负责水平扫描。它们之间扫描的速率相关性直接决定了最终输出的分辨率，因而可以很方便调整输出的分辨率，目前Symbol提供的消息是最高能够支持$2048\\\\times1536$分辨率，是拥有实际成像单元投影设备无法比拟的。\\n\\n有了这么灵活的分辨率支持模式，可以很方便用在手持设备上，并且能够提供远远超越一般手持显示设备的分辨率。从而可以用在汽车上、手机上等等，并且因为不需要镜头可以投射到不平整表面上，也不会因为镜头的焦平面的问题出现发虚的情况。\\n\\n由于显色性好而且对比度高，即便投射在暗屏上，也能得到很好的效果，从而能够提高投射画面灰度的表现，这也是传统投影设备或者显示设备做不到的。',\n",
       "    'source': '10大新显示技术_llm_correct.md',\n",
       "    'chunk_id': 21},\n",
       "   {'chunk': '激光的突出特点还在于指向性特别好，因而它的光利用率非常高，加上一般的杂向光对它的干扰很小，因而视感很舒服，画面也更耐看，惟一的缺憾可能在于因为是同频率的光，从屏幕反射的时候会改变相位从而与入射光产生干扰，产生一点或亮或暗的斑点，对此的敏感程度也要因人而异。\\n\\n# 触控屏引领人机交互革命\\n\\n苹果iPhone的成功很大程度上得益于其使用的多重触控屏带给人们的完美人机交互体验。如今触控屏已经成了一种趋势性人机交互方式，有望成为鼠标、键盘之外新一代交互方式。\\n\\n如今在银行的ATM机上，机场、医院等公共场所的信息查询系统中，触控屏的应用已经非常普及。这些设备上使用的触控屏只能接受单点输入，而在iPhone中使用的多重触控屏允许用户在多个地方同时触摸显示屏，以便能够对网页或图片进行伸缩和旋转等操作。iPhone仅允许两个手指操作（又称作“双重触控”），而在微软推出的Surface Computing电脑中使用的触控技术则可在52个触摸点上同时作出响应。',\n",
       "    'source': '10大新显示技术_llm_correct.md',\n",
       "    'chunk_id': 22},\n",
       "   {'chunk': '在2008年初的CES上，也有多种触控屏技术展示。因为易用、界面灵活、节省空间等特色，触控屏越来越多地应用在各种设备中。但触控屏与传统按键比起来也有明显的劣势，没有按键手感，输入没有确认感，很难“盲打”。一家名为Immersion的公司在CES展示了TouchSense方案，给触控屏增加了按键手感。\\n\\n![](images/27c107001e44379c67fcdcb4039e4ad808c3470fec8f169d0258c18ed80c03d3.jpg)\\n![](images/78d353d2653de9d34b2b161b1375a7146c8c2482f71cb5bfd09310c487646f53.jpg)\\n![](images/8b2a2f2d9c590b619fd0514fdd6d5e449c53aefeb73d6e0cc677813813aa9bca.jpg)',\n",
       "    'source': '10大新显示技术_llm_correct.md',\n",
       "    'chunk_id': 23},\n",
       "   {'chunk': '在TouchSense方案中，触控屏边缘增加了一组驱动器，用户点击触控屏，其位置信息经过软件判断，会迅速反馈给TouchSense控制器，由驱动器带动触控屏发生振动。由于这个过程非常快，我们的感觉就像是手指真正按在一个机械按键上。这已经是一个成熟的方案，其特殊之处在于，触控屏反馈回手指的振动频率、波形、振幅和持续时间都可以调节，从而实现不同的手感。\\n\\nImmersion的测试显示，有手感的触控屏可以显著降低输入错误，而且用户对这种手感反馈相当满意，觉得新奇而实用。这家公司表示，目前已经有包括手机、MP3、PND、固定电话、遥控器等多种产品应用了TouchSense方案。相信这种技术会和多点触控一样，成为触控屏发展的热点。\\n\\n![](images/19616bff6b5d07ca0ecd4a8380e7c5001700bffc235ef305205a1b1e7222cfec.jpg)\\n\\n# 电子书与电子纸的无纸梦\\n\\n![](images/70b211934d9a9fb62268c7f99268fefa477e18b72553331889e007b8af004159.jpg)',\n",
       "    'source': '10大新显示技术_llm_correct.md',\n",
       "    'chunk_id': 24},\n",
       "   {'chunk': '“无纸”是信息世界的梦想，而无纸的基础是显示技术的发展足够完善，可以提供完全接近或者超越纸张带给人们的阅读体验和记录体验，可以像目前纸张一样方便、灵活和可携带，电子纸技术也因此被热捧了很多年。\\n\\n2007年11月，亚马逊在美国市场上市了一款电子书阅读器Kindle，它使用了电子纸技术，虽然之前索尼、富士通等多家公司早已经推出了多款电子书阅读器产品，都没有引起Kindle般的关注和轰动，很大一个原因是基于亚马逊在图书传播中的地位，有可能将电子书的概念发扬光大，它寄托了业界对电子书的未来梦想。',\n",
       "    'source': '10大新显示技术_llm_correct.md',\n",
       "    'chunk_id': 25},\n",
       "   {'chunk': '从技术角度，Kindle算是很完善了，它采用了E-ink的6英寸电子纸显示器，分辨率为$800\\\\times600$，配备有全键盘，重量为$292\\\\mathbf{g}$，全天连接无线网络使用时，仅需隔日进行充电。不连接无线网络时，1周以内无需充电，1次充电时间为2小时。翻页使用的按钮位于机身两侧，字体大小有6种设置，可利用键盘为作品添加注解。内置内存最多可保存200册书籍，也可使用SD卡保存更多的书籍。数据接收使用EVDO高速无线数据通信，1册的下载时间不到1分钟。电子书与电子纸的无纸梦 ![](images/70b211934d9fb62268c7f99268fefa477e18b72553331889e007b8af004159.jpg)',\n",
       "    'source': '10大新显示技术_llm_correct.md',\n",
       "    'chunk_id': 26},\n",
       "   {'chunk': '“无纸”是信息世界的梦想，而无纸的基础是显示技术的发展足够完善，可以提供完全接近或者超越纸张带给人们的阅读体验和记录体验，可以像目前纸张一样方便、灵活和可携带，电子纸技术也因此被热捧了很多年。2007年11月，亚马逊在美国市场上市了一款电子书阅读器Kindle，它使用了电子纸技术，虽然之前索尼、富士通等多家公司早已经推出了多款电子书阅读器产品，都没有引起Kindle般的关注和轰动，很大一个原因是基于亚马逊在图书传播中的地位，有可能将电子书的概念发扬光大，它寄托了业界对电子书的未来梦想。从技术角度，Kindle算是很完善了，它采用了E-ink的6英寸电子纸显示器，分辨率为 $800\\\\times600$，配备有全键盘，重量为 ${}^{292\\\\mathbf{g}}$',\n",
       "    'source': '10大新显示技术_llm_correct.md',\n",
       "    'chunk_id': 27},\n",
       "   {'chunk': '全天连接无线网络使用时，仅需隔日进行充电。不连接无线网络时，1周以内无需充电，1次充电时间为2小时。翻页使用的按钮位于机身两侧，字体大小有6种设置，可利用键盘为作品添加注解。内置内存最多可保存200册书籍，也可使用SD卡保存更多的书籍。数据接收使用EVDO高速无线数据通信，1册的下载时间不到1分钟。Kindle是电子纸技术应用的一个成功案例。其实电子纸就是显示技术薄型化的一个极致。实质就是外观像纸或投影胶片的超薄型显示器，厚度多小于 $\\\\tt{1mm}$，在各种场合（尤其是户外）的显示内容辨认性上，优于普通的显示器，部分厂商推出的产品甚至可以卷曲。',\n",
       "    'source': '10大新显示技术_llm_correct.md',\n",
       "    'chunk_id': 28},\n",
       "   {'chunk': '电子纸大致可分液晶型以及非液晶型两大类。液晶型产品多半是由飞利浦、索尼、富士通等LCD厂商所开发，以不使用偏光片或彩色滤光片的方式降低厚度，或是采用特殊的液晶材料及显示方式达到目标。非液晶型的代表就是E-ink公司的电子墨水（Electronic Ink）显示器和Qualcomm公司的IMOD（干涉调制器）MEMS显示器。\\n\\n无论哪种方式的电子纸都具有以下特性：一是非常轻薄，接近普通纸张；二是显示内容具有资料保存性，只有画面异动时（例如由黑转到白）才耗电，电源关闭后信息仍可留存在显示器上，比普通显示器更省电；三是具有高反射率，更接近纸张水平，在明亮的室外或日光下，也可以辨认。\\n\\n如今电子纸技术的应用早已经不仅仅局限于电子书和电子报纸，逐渐应用于手表、手机、MP3等便携设备中，充分发挥电子纸省电等技术优势。\\n\\n电子书和电子纸是很好的技术概念，但技术完善度还没有完全达到代替纸张的水平，而且人们的阅读和记录习惯的改变也需要一个漫长的过程，所以无纸还只能是一个遥远的梦。',\n",
       "    'source': '10大新显示技术_llm_correct.md',\n",
       "    'chunk_id': 29},\n",
       "   {'chunk': '# WirelessHD让高清显示无线\\n![](images/0db3df20204dc1be473200bd887847b39f236aae7fd47162ae12ba3f3ba9ebc0.jpg)\\n\\nNEC、东芝、美国半导体等多家电子产品厂商主导成立的团体，旨在实现视听设备中广泛应用的\\n# WirelessHD 的官方网站\\n\\nHDMI接口的无线化，实现视听设备间非压缩HD高清视频传送的无线传送，并在2007年发布Wireless HD Version1.0，计划在2008年面向团体成员企业公开。\\n\\nWirelessHD是一种利用国际上无需申请许可，即可使用的60GHz频段毫米波、实现最高4Gbit/s无线数据通信的标准，可以实现1080p的全高清视频传输。平板电视无论多薄，总需要线缆连接，所以人们畅想未来如何抛弃电视的视频连接线，所以很早就开始尝试在现有的无线局域网技术上传输视频内容，虽然可以满足基本传输需求，但要满足高质量的视频传输有些困难，更不用说HD高清视频了。',\n",
       "    'source': '10大新显示技术_llm_correct.md',\n",
       "    'chunk_id': 30},\n",
       "   {'chunk': 'WirelessHD是由LG电子、松下、三星、索尼等公司使用（24bit、 $60\\\\mathrm{Hz}$）以非压缩的形式在约 $10\\\\mathrm{m}$ 范围内传送。该标准的目标是应用于高清电视、机顶盒、高清录像机等视听设备间的视频传输和连接。\\n\\n目前WirelessHD加盟企业达到40家，主导企业中增加了英特尔公司，已有10家以上旨在测试相关产品是否达到规格要求的试验评测机构和仪器厂商加盟。\\n![](images/a421e2c7b3e3307c6f36693ac17d113a90402e73960aa01a26ac7acc04059e3c.jpg)\\n\\n# 新颖显示技术应用\\n\\n有一天，你可能发现对面的穿衣镜中忽然显示出色彩缤纷的画面。MirrorImage是一种新鲜的显示概念，平板显示器被融合到镜子中，无论是商城的穿衣镜还是宾馆洗手池上的大镜子，都可以在中央显示漂亮的视频，当然，不进行显示时，它就是一面正常的镜子。',\n",
       "    'source': '10大新显示技术_llm_correct.md',\n",
       "    'chunk_id': 31},\n",
       "   {'chunk': '在如此广角的视觉环境下玩赛车游戏真是过瘾，这是TI在CES上展示的广角显示原型机，弧形的屏幕更能拓展视觉冲击力。其采用多片DLP背投拼接，屏幕分辨率为1880×900，同样采用LED背光源。\\n\\n在英特尔加入，并成为主导企业后还提议在原有标准中加入面向PC的文件传输标准，这就意味着，未来WirelessHD也有可能在PC中得以应用。\\n\\n在2008年初的CES上，松下、东芝和索尼也都演示了电视和媒体播放器间通过WirelessHD实现的高清视频传输。本刊记者也观看了现场演示，其视频的清晰度、平滑度和稳定性都与有线传输没有差别。详情请参见本刊上期杂志的《掀开消费电子大戏的帷幕—2008CES国际消费电子展掠影》大型专题报道。\\n\\n# DisplayPort接口挑战HDMI和DVI\\n![](images/61e94140c367732f130ba74455cbc69638312f24f03f0d9ec61730819ab6ca17.jpg)\\n\\nHDMI已经成为电视等数字娱乐设备的事实标准接口，而DVI也已经成了新一代桌面显示的标准接口，不过一个新的挑战者DisplayPort似乎有希望挑战它们的统治地位。',\n",
       "    'source': '10大新显示技术_llm_correct.md',\n",
       "    'chunk_id': 32},\n",
       "   {'chunk': 'DisplayPort是由戴尔、惠普、三星、飞利浦、ATI、nVIDIA、Tyco、Microchip等多家显示器、连接器、电视机、投影机和图形芯片厂商参加的视频电子标准协会任务组织开发的一个新型接口标准，该标准无需缴纳版权及专利费，旨在降低系统平台的成本，并在计算机、数字电视和组件中形成通用的数字视频／音频接口标准。2006年5月3日，DisplayPort接口标准得到VESA国际视频电子标准协会的成员公司批准。\\n\\n与HDMI和DVI相比，DisplayPort接口标准具有以下的技术优势：\\n1. 更高的带宽： DisplayPort可提供的带宽高达10.8Gb/s，而 HDMI 1.2a 的带宽为 4.95Gb/s,最新的 HDMI 1.3的带宽为 10.2Gb/s。DisplayPort可支持 $\\\\mathtt{WQXGA+}$ 、QXGA高分辨率及30/36位色深，非常适合高清晰显示需求。\\n\\n直接输出，不需要TMDS转换电路，这样就可以简化产品结构。',\n",
       "    'source': '10大新显示技术_llm_correct.md',\n",
       "    'chunk_id': 33},\n",
       "   {'chunk': '整合周边设备能力强：DisplayPort在一条线缆DisplayPort还提供了一条功能强大的辅助通道。该辅助通道的传输带宽为1Mbps，可以直接作为语音、视频等低带宽数据的传输通道，另外也可用于无延迟的游戏控制，\\n还可以作为内部接口：除实现设备与设备之间的连接外，DisplayPort还可用作设备内部的接口，甚至是芯片与芯片之间的数据接口。\\n\\n可以简化相关产品设计：HDMI和DVI都使用了TMDS（最小化传输差分信号）信号传输技术，图像传输前数字信号必须经过TMDS电路转换为TMDS信号，而采用DisplayPort，数字信号可直接输出，具备更好的可扩展性：DisplayPort具备更高的可扩展特性，可以同时传输多条视频或音频流，最高可支持6条1080i或3条1080p视频流，也可以实现画中画、分屏显示等功能。\\n\\nDisplayPort具有足够的技术优势，但是在HDMI和DVI目前的市场地位下要快速发展，也并非易事。',\n",
       "    'source': '10大新显示技术_llm_correct.md',\n",
       "    'chunk_id': 34},\n",
       "   {'chunk': \"目前戴尔和三星都已经推出了配备了DisplayPort的显示器，ATI也推出了支持DisplayPort的显卡，Genesis、Molex和Analogix也都推出了相应的芯片和附件，DisplayPort接口的应用环境已经完善，希望DisplayPort可以一路走好。\\n\\n# 10大新技术之后的畅想\\n![](images/a1ee89c601cf8e1716378043daf50615caeb61eb63d13d200d6dd0ce8eadd851.jpg)\\n\\nBig Girls Don't Cry Fergie TheDutchess\\n\\n在一个追求体验的时代，体验价值的高低将决定该技术的未来。以上10大新技术之所以被看好，就是因为它们在某一方面为人们的显示体验价值实现了突破。\\n\\n![](images/f5ed8085eee009f0702775e5de86d6810146fcfaa1a7a12db0167fb8751a2e3d.jpg)\\n\\n体验价值包括了更舒适、更完美、更方便、更灵活、更节能、更环保，这将是显示技术未来发展的总体方向。\",\n",
       "    'source': '10大新显示技术_llm_correct.md',\n",
       "    'chunk_id': 35},\n",
       "   {'chunk': '摩托罗拉ROKR E8手机采用了具有触觉反馈技术的触控屏技术，将继iPhone之后引领手机进入一场新的人机交互革命。\\n\\n不过技术的优劣有时也不一定完全决定该技术的成败，除了用户的体验价值外，生产、市场和竞争等诸多因素都会影响技术发展的前景。前几年广被看好的SED技术如今的尴尬境遇就是非技术性的。\\n\\n所以以上的10大技术中，有一些会成为未来的主流技术，也有一些未来会淡出人们的视线，显示领域一定还有更新、更富生命力的技术出现，经历市场的“大浪淘沙”“没有最好，只有更好”，这就是显示技术世界的法则，■',\n",
       "    'source': '10大新显示技术_llm_correct.md',\n",
       "    'chunk_id': 36}]},\n",
       " {'doc_id': 3,\n",
       "  'filename': '12.7cm彩色AM-OLED显示器分场驱动研究_沈亮_llm_correct.md',\n",
       "  'chunks': [{'chunk': '# 12.7cm 彩色AM-OLED 显示器分场驱动研究\\n沈 亮∗∗,尹盛,张繁,程 帅(华中科技大学电子科学与技术系,湖北武汉430074)\\n摘要：研究分场数字灰度方案,以提高低温多晶硅(LTPS)有源驱动有机电致发光显示器(AM-OLED)的亮度均匀性和灰度精确性。随着显示器尺寸和分辨率的提高,驱动频率会呈指数上升,在保证各像素发光时间的前提下,采用数字信号处理(DSP)复合乒乓结构和双通道内存输出技术,实现了16级灰度的彩色 $12.7\\\\,\\\\mathrm{cm}\\\\,\\\\mathrm{~Q~V~G~A~}$ AM-OLED的动态视频显示。 关键词：有源驱动有机电致发光显示器(AM-OLED)；分场；数字灰度中图分类号：T $\\\\mathrm{~N~}383$ 文献标识码：A文章编号：1005-0086(2006)10-1173-04\\n# A Research on Sub-field Driving Technology for 5-inch AM-OLED',\n",
       "    'source': '12.7cm彩色AM-OLED显示器分场驱动研究_沈亮_llm_correct.md',\n",
       "    'chunk_id': 0},\n",
       "   {'chunk': 'S HEN Liang ∗∗,YI N Sheng ,Z H AN G Fan ,C HEN G Shuai (Department of Electronic Science and Technology ,Huazhong University of Science and Technology ,Wuhan 430074,China )',\n",
       "    'source': '12.7cm彩色AM-OLED显示器分场驱动研究_沈亮_llm_correct.md',\n",
       "    'chunk_id': 1},\n",
       "   {'chunk': 'Abstract ：For low temperature polysilicon (LTPS)active matrix organic light emitting display (AM-OLED),the digital gray scale of sub-field can significantly improves the light uniformity and gray scale accuracy .By increasing the dimension and resolution of the display panel ,the driving frequency would increase exponentially .In this paper ,by guaranteeing the enough time of lighting for each pixel ,the composite ping-pong structure and dual-channel RAM output are introduced ,then the colorful dynamic',\n",
       "    'source': '12.7cm彩色AM-OLED显示器分场驱动研究_沈亮_llm_correct.md',\n",
       "    'chunk_id': 2},\n",
       "   {'chunk': 'video display is implemented on 12.7cm QVGA AM-OLED with 16gray scales . ：active matrix organic light emitting display (AM-OLED)；sub-field ；digital gray scale',\n",
       "    'source': '12.7cm彩色AM-OLED显示器分场驱动研究_沈亮_llm_correct.md',\n",
       "    'chunk_id': 3},\n",
       "   {'chunk': '# 1引 言\\n有机电致发光显示器(OLED)由于具有主动发光、亮度高、对比度高、可视角大及反应速度快等优势[1] ,受到了广泛的关注,低温多晶硅(LTPS)有源驱动(AM)OLED则是近年研究的重点之一。 由于多晶硅材料自身的特性[2] ,各薄膜晶体管(TFT)的阈值电压和载流子迁移率会不一致。如果 使用模拟灰度[3] ,必然会导致亮度不均匀、灰度不准确。数字灰度方案[4] 避开了多晶硅TFT的不均匀性,让其工作在截止或饱和状态,通过时间或面积比率方法显示灰度。分场驱动是时间比率灰度方案的',\n",
       "    'source': '12.7cm彩色AM-OLED显示器分场驱动研究_沈亮_llm_correct.md',\n",
       "    'chunk_id': 4},\n",
       "   {'chunk': '一般的模拟显示方案中,每一帧仅需要给每个像素单元输入1 次信息即可。但是在 $N$ 次分场显示中,每一帧需要给每个像素输入 $N$ 次信息。随着显示器尺寸和分辨率的提高,信息输入时间在整个一帧 时间中的比例会越来越高,如超过一帧时间,分场方法将失效。因此,分场驱动面临着驱动频率的瓶颈,分场方案的核心在于降低驱动频率。 本文采用数字信息处理(DSP)复合乒乓结构和双通道内存输出技术,提高了控制电路的数据吞吐能力,降低了驱动频率,成功将分场方案应用在彩色 $12.7\\\\,\\\\mathrm{cm}\\\\,\\\\mathrm{~Q~V~G~A~}$  $240\\\\times320\\\\times3$ )AM-OLED上,实现了动态视频显示,灰度为16级。 # 2像素单元电路和灰度表达方法',\n",
       "    'source': '12.7cm彩色AM-OLED显示器分场驱动研究_沈亮_llm_correct.md',\n",
       "    'chunk_id': 5},\n",
       "   {'chunk': '如图1,该显示器采用的是两管像素单元驱动电路[5] 。采用P 沟工艺,当扫描线为低,寻址TFT 打开。数据线上的电压信号通过寻址TFT加载到驱动TFT的栅极和电容 $C$ 上,完成1个像素单元的信息写入。当全屏信息写入完成后, $V_{\\\\mathrm{~C~}}$ 置低电平。如果写入的信息为0,驱动TFT打开,形成电流回路使OLED有机层发光。如果写入信息为1,驱动TFT关闭,将没有电流经过OLED有机层[5] ,该像素不发光。其工作波形如图2所示,在信息写入阶段, $V_{\\\\mathrm{~C~}}$ 为高电平,各行扫描线轮流下跳,选中该行像素写入信息。各行全部完成信息写入后, $V_{\\\\mathrm{~C~}}$ 下跳,开始显示。 ![](images/54a57395a448e0dbfd753fbb44f3ca45a98b0951b48096806de685ab00111da3.jpg)\\n图1 2管TFT 像素电路Fig .1 2 TFTs pixel circuit',\n",
       "    'source': '12.7cm彩色AM-OLED显示器分场驱动研究_沈亮_llm_correct.md',\n",
       "    'chunk_id': 6},\n",
       "   {'chunk': '![](images/a82139dbd5752030f82644cef126f8378d2bf5184815ba4117bd4199057895e4.jpg)\\n图2 数据加载波形Fig .2 Waveform of data loading\\n为了克服多晶硅基板的不均匀性,采用了4分场数字灰度显示方式：将一帧画面分为4 场,显示时间比例分别为 $1:2:4:8$ 。通过控制1个像素单位在每个分场时间中亮或者是灭,总共可以产生16 种不同的灰度搭配。加上RGB 三基色,最终实现整屏4096色显示。当 $V_{\\\\mathrm{~C~}}$ 为低电平时,OLED发光；$V_{\\\\mathrm{~C~}}$ 为高电平时,进行写屏操作。 # 3DSP 的复合乒乓结构和双通道内存输出',\n",
       "    'source': '12.7cm彩色AM-OLED显示器分场驱动研究_沈亮_llm_correct.md',\n",
       "    'chunk_id': 7},\n",
       "   {'chunk': '显示数据来源于计算机(PC)。如图3,通过数字视频接口(DVI)将已经转化好的传输最小化差分信号(TMDS)输入解码器[6] 。解码好的RGB 三原色信号再输入FPGA。FPGA全局控制整个系统的DSP、各种时序控制和信号的输入输出。DSP将输入的每一帧RGB 三原色信号分解成分场信号,结合时序按页输入内存。等到全部信号处理存储结束后,FPGA控制内存依分场次序将信号传给驱动\\n![](images/96340c3c3532bc1f74d4acd6e88aa7948144a80c6cac261c8ad96f65024831ee.jpg)\\n图3 系统框图Fig .3 System main structure',\n",
       "    'source': '12.7cm彩色AM-OLED显示器分场驱动研究_沈亮_llm_correct.md',\n",
       "    'chunk_id': 8},\n",
       "   {'chunk': '选用三星公司的驱动IC KS0796,在 $3.3\\\\mathrm{~V~}$ 供电的情况下,列驱动可以达到 $12\\\\ \\\\mathrm{M\\\\,Hz}$ 的工作频率,8bit 数据输入,240 引脚输出[7] 。该驱动既可当作列驱动,又可当作行驱动,根据实际OLED屏的分辨率,使用5片IC,其中4片作为列驱动,1片作为行驱动。 如图4所示,其中上面2 片IC负责驱动奇数列像素,下面2 片IC负责驱动偶数列像素。因此,对DSP部分提出了很高的要求：必须在分离分场信息的同时还要分离奇数列和偶数列的信息,以达到分开存储、显示的目的。为此,在FPGA程序中使用了复合乒乓结构：首先使用1个乒乓结构完成奇偶列的数据分离；在已分离的奇偶数据中,再各使用1 个乒乓结构来完成数据的调制和存储。 如图5示,先使用常见的分频移相电路,将DVI解码器输出的数据时钟分解成 $\\\\mathrm{CP01},\\\\mathrm{CP02}$ 的奇偶分离乒乓时钟信号,以供后面的调制输出使用。',\n",
       "    'source': '12.7cm彩色AM-OLED显示器分场驱动研究_沈亮_llm_correct.md',\n",
       "    'chunk_id': 9},\n",
       "   {'chunk': 'FPGA内部的寄存器资源相对不足,不可能完全依靠内部寄存器资源来做调制输出缓存。同时,片外高速缓存也存在价格昂贵和加大布线难度的问题。为此,设计了实时的乒乓调制存储模块。具体方法是设计一双功能模块,可在功能转换开关(SW)的控制下,实现数据按场分离及将已分离数据输出的功能。然后使用2个这种双功能模块,使其交替工作。一组在进行数据同步输入并且分离分场的同时,另一组将已分离调制好的数据按照分场顺序存入外部内存。如图6示,SW为1时进行分场数据分离,SW为0时输出已分离的分场数据。SW1控制模块1,SW2控制模块2。 ![](images/0357cb70e192406c1d65e0c32a28d575a8ac4c109c2b9c8ffd1e89d9e464b95e.jpg)',\n",
       "    'source': '12.7cm彩色AM-OLED显示器分场驱动研究_沈亮_llm_correct.md',\n",
       "    'chunk_id': 10},\n",
       "   {'chunk': '图4 邦定好IC的玻璃基板Fig .4 Glass panel with bonded ICs\\n![](images/fabc04b18fb060226675e0de44a068d1e19682371b92fb607ba7a97d07ef88cf.jpg)\\n图5 奇偶分离时钟\\n![](images/30f97acaa212609e6e39869bf829f7c30e22f77af2b537e5300c38eda5f7d07f.jpg)\\n图6 信号按场分离的乒乓结构波形Fig .6 Ping-pong structure waveform of signals separation by fields\\n通过KS0796 驱动IC自身串联实现IC的依次选通,将极大地简化高分辨率的情况下的数据处理以及布线难度。但是,如果在该 $\\\\mathrm{~A~M~}{\\\\mathrm{-O}}\\\\mathrm{LED}$ 屏上使用IC级联功能,同时奇偶列的数据分开写入,也就是原始的 $8\\\\,\\\\mathrm{bit}$ 输入,即便是IC工作在最大频率 $12\\\\ \\\\mathrm{M\\\\,Hz}$ ,每一帧中的写屏时间也相当长。 $$',\n",
       "    'source': '12.7cm彩色AM-OLED显示器分场驱动研究_沈亮_llm_correct.md',\n",
       "    'chunk_id': 11},\n",
       "   {'chunk': '\\\\frac{320\\\\times3\\\\times240}{12\\\\times10^{6}\\\\times8\\\\,\\\\mathrm{bit}}\\\\times4=2.4\\\\;\\\\mathrm{ms}\\\\;\\\\times4=9.6\\\\;\\\\mathrm{ms}\\n$$\\n式(1)表明,每一帧4个分场的写屏时间共需要 $9.6~\\\\mathrm{{ms}}$ 。而刷新率 $60~\\\\mathrm{Hz}$ 时,1帧时间是 $16.7~\\\\mathrm{ms}$ ,因此这种简单级联方式能够实现的发光时间占空比最同时写入的方法缩短写屏时间；结合2片 $64\\\\ \\\\mathrm{K}\\\\times16\\\\,\\\\mathrm{bit}$ 的SRAM内存,在FPGA的输出口使用双通道内存存取结合奇偶同时写入,如图7所示。 ![](images/f612956315a20e8192c11a17eba5ca859b4454f0684cc14b5e5518388e00cd76.jpg)\\n图7 奇偶位同时输入输出 Fig. 7 Parity input/output simultaneously',\n",
       "    'source': '12.7cm彩色AM-OLED显示器分场驱动研究_沈亮_llm_correct.md',\n",
       "    'chunk_id': 12},\n",
       "   {'chunk': '在数据位中,高8位为偶数列数据,低8位为奇数列数据。因此,在内存向IC输入数据时,奇偶列信息将同时输出。同时使用2片内存,通过像素的计数状态机控制2片内存的选通。将2片内存的地址线连在一起,在向内存输出每列数据时,前半列(左半列)输入到内存L,然后计数状态机改变内存选取,这样后半列(右半列)输入到内存R。最后在读取时,同时选通2片内存,就能够实现一次输出 $16\\\\,\\\\mathrm{bit}\\\\times2$ 的位长的数据。',\n",
       "    'source': '12.7cm彩色AM-OLED显示器分场驱动研究_沈亮_llm_correct.md',\n",
       "    'chunk_id': 13},\n",
       "   {'chunk': '如式(2),使用这种方式,能够将4个分场写入时间缩短到理论最低 $2.4\\\\,\\\\mathrm{ms}$,使得理论写显分离发光时间占空比能够达到 $86\\\\%$。\\n\\n$$\\n\\\\frac{320\\\\times3\\\\times240}{12\\\\times10^{6}\\\\times16\\\\,\\\\mathrm{bit}\\\\times2}\\\\times4=0.6\\\\,\\\\mathrm{ms}\\\\times4=2.4\\\\,\\\\mathrm{ms}\\n$$\\n这样就有足够的空间优化两管电路中的写屏时间,以优化图像效果。',\n",
       "    'source': '12.7cm彩色AM-OLED显示器分场驱动研究_沈亮_llm_correct.md',\n",
       "    'chunk_id': 14},\n",
       "   {'chunk': '# 4 结果\\n在FPGA内存数据输出模块采用了独立可调的时钟。同时写显状态也有自己专用的状态机精确控制时间,以达到4分场的时间比例。因此在1帧 $16.7\\\\,\\\\mathrm{ms}$ 中,可以自由改变驱动IC的写屏时间和发光时间占空比,结合TFT特征曲线的参考,调整出最佳图像,此外还可找出最短写屏时间,而最长写屏\\nDVI在输出 $800\\\\times600,60\\\\,\\\\mathrm{Hz}$ 刷新率的情况下行频是 $37.9\\\\,\\\\mathrm{k}\\\\,\\\\mathrm{Hz}^{\\\\ [8]}$,如式(3),这样发送完截取的320 $\\\\times\\\\,240$ 的数据共耗时 $6.33\\\\,\\\\mathrm{ms}$。',\n",
       "    'source': '12.7cm彩色AM-OLED显示器分场驱动研究_沈亮_llm_correct.md',\n",
       "    'chunk_id': 15},\n",
       "   {'chunk': '$$\\n\\\\frac{1}{37.9\\\\times10^{3}}\\\\times240=6.33\\\\,\\\\mathrm{ms}\\n$$\\n按照程序设定,在进行第4场显示,也就是最长场显示的同时进行RGB信号的分离和存储。因此,可得出 $6.33\\\\,\\\\mathrm{ms}$ 是在保证 $1:2:4:8$ 时间比例下最短的第4分场时间。这种情况下,写屏时间计算公式为\\n$$\\n\\\\left[16.7-6.33\\\\times\\\\frac{1+2+4+8}{8}\\\\right]\\\\times\\\\frac{1}{4}\\\\approx1.20\\\\,\\\\mathrm{ms}\\n$$\\n也就是说,写屏时间如果超过 $1.20\\\\,\\\\mathrm{ms}$,将会出现数据处理错误。表1是几组IC数据写入时间及其效果。',\n",
       "    'source': '12.7cm彩色AM-OLED显示器分场驱动研究_沈亮_llm_correct.md',\n",
       "    'chunk_id': 16},\n",
       "   {'chunk': '表1 充电时间测试 Tab. 1 Test of charging time\\n| ProgramMiami | time | Evaluation | Analysis |\\n| --- | --- | --- | --- |\\n| 533 | No image full black | Need more time for charging |  |\\n| 800 | Nice |  |  |\\n| 900 | Nice |  |  |\\n| 1066 | Acceptable | less bright | Need more time for lighting |\\n\\n经过调试,得出结论：在充电时间大于 $800\\\\,\\\\mu\\\\mathrm{s}$ 的情况下,就能得到较为不错的图像和满意的颜色。图8是在写屏时间 $800\\\\,\\\\mu\\\\mathrm{s}$ 时观察到的图像。',\n",
       "    'source': '12.7cm彩色AM-OLED显示器分场驱动研究_沈亮_llm_correct.md',\n",
       "    'chunk_id': 17},\n",
       "   {'chunk': '![](images/3b82e9c444c361da034273ba4bf7473496b07f1f274cd993702b678295e634f5.jpg)\\n图8 全彩图片显示效果 Fig. 8 Full-color image expression\\n# 5 结论\\n通过FPGA内部程序和电路设计,运用复合乒乓结构和双通道内存输出,可以有效地降低电路和驱动的运行频率。最终在 $12.7\\\\,\\\\mathrm{cm}\\\\,\\\\mathrm{QVGA}$ 分辨率显示器上运用4分场灰度方案,成功实现彩色动态显示。',\n",
       "    'source': '12.7cm彩色AM-OLED显示器分场驱动研究_沈亮_llm_correct.md',\n",
       "    'chunk_id': 18},\n",
       "   {'chunk': '# 参考文献：\\n[1] CHENG Jian-bo, JIANG Qu-an, LIN Zu-lun, et al. Design and fabrication of passive matrix organic light-emitting diodes [J]. Journal of Optoelectronics · Laser (光电子·激光), 2004, 15(11): 1315-1319. (in Chinese)\\n[2] GUO Bin, WU Chun-ya, MENG Zhi-guo, et al. Simulation on current programmed poly-Si TFT AM-OLED pixel [J]. Journal of Optoelectronics · Laser (光电子·激光), 2004, 15(2): 142-146. (in Chinese)',\n",
       "    'source': '12.7cm彩色AM-OLED显示器分场驱动研究_沈亮_llm_correct.md',\n",
       "    'chunk_id': 19},\n",
       "   {'chunk': '[3] Mayumi Mizukami, Kazutaka Inukai, Hirokazu Yamagata, et al. 6-bit digital VGA OLED [A]. Society for Information Display International Symposium 2000 DIGEST [C]. USA: Long Beach, 2000. 912-915.\\n[4] YIN Sheng, CHENG Shuai, SHEN Liang. A driving scheme for 2-inch full-color AM-OLED displays [J]. Advanced Display, 2003, (2): 43-46. (in Chinese)',\n",
       "    'source': '12.7cm彩色AM-OLED显示器分场驱动研究_沈亮_llm_correct.md',\n",
       "    'chunk_id': 20},\n",
       "   {'chunk': '[5] Zhi guo M, Man W. Active-matrix organic light-emitting diode displays realized using metal-induced unilaterally crystallized polycrystalline silicon thin-film transistors [J]. IEEE Transactions on Electron Devices, 2002, 49(6): 991-996.\\n[6] DDWG (Digital Display Working Group). Si 1141B datasheet, Revision D/[DB/OL]. http://www.silimage.com, 2001.\\n[7] Samsung Semiconductor. KS0796 datasheet [DB/OL]. http://www.samsung.com, 1999.',\n",
       "    'source': '12.7cm彩色AM-OLED显示器分场驱动研究_沈亮_llm_correct.md',\n",
       "    'chunk_id': 21},\n",
       "   {'chunk': '[8] DDWG (Digital Display Working Group). Digital Visual Interface Whitebook 1.0[DB/OL]. http://www.silim-age.com, 1999.',\n",
       "    'source': '12.7cm彩色AM-OLED显示器分场驱动研究_沈亮_llm_correct.md',\n",
       "    'chunk_id': 22},\n",
       "   {'chunk': '# 作者简介：\\n沈 亮 $(1980-)$,男,硕士研究生,主要从事平板显示驱动技术的研究.',\n",
       "    'source': '12.7cm彩色AM-OLED显示器分场驱动研究_沈亮_llm_correct.md',\n",
       "    'chunk_id': 23}]},\n",
       " {'doc_id': 4,\n",
       "  'filename': '12.7cm彩色AM-OLED显示屏的驱动模块_张繁_llm_correct.md',\n",
       "  'chunks': [{'chunk': '# 12.7cm 彩色AM-OLED 显示屏的驱动模块\\n张繁,尹盛,沈亮,程帅(华中科技大学电子科学与技术系,湖北武汉\\u3000430074 ,E-mail：zf21st@sina.com)\\n摘 要：运用分场数字灰度技术可以提高低温多晶硅(LTPS)AM-OLED 显示屏的灰度精确性和亮度均匀性。但随着屏幕尺寸及分辨率的增大,电路工作频率会呈指数上升。采用复合乒乓处理结构、驱动IC 并行工作、分场数据双通道输出等技术,使得电路的工作频率相对于原设计值降低了4倍。电路采用数字视频接口(DVI)作为视频传输接口,FPGA 作为控制核心,最终实现了 $12.7\\\\ \\\\mathrm{cm} (5\\\\ \\\\mathrm{in}) (320\\\\times240)$ 彩色AM-OLED 显示屏的实时动态视频显示；灰度为16级,帧频为 $60\\\\,\\\\mathrm{Hz}$ ,取得了较好的显示效果。 关 键 词：AM-OLED；时间比率灰度；FPGA；像素电路中图分类号：TN27；TN702文献标识码：A\\n# 1引言',\n",
       "    'source': '12.7cm彩色AM-OLED显示屏的驱动模块_张繁_llm_correct.md',\n",
       "    'chunk_id': 0},\n",
       "   {'chunk': '有机电致发光显示器(OLED)具有体积小、自主发光、可视角度大、响应时间短、制作成本低廉等优点[1～3] ,是继液晶显示器(LCD)、等离子体显示器(PDP)之后的一种极具潜力的平板显示器。而用有源驱动技术实现OLED 显示屏的高分辨率、大尺寸显示则是当前一大技术热点。 多晶硅TFT 具有较高的载流子迁移率,相比于非晶硅工艺,其特征尺寸可以做得更小,不仅可以增加OLED 像素的开口率,也使驱动全集成设计变为可能[4] 。但由于多晶硅的生长特点,阵列中薄膜晶体管(TFT)的特性参数分布不均,使得分配给每个像素的电流大小不一致[5] ,且OLED 的亮度值与数据电压呈非线性关系,用传统的模拟灰度法会造成OLED 屏的亮度不均,且 灰度显示不精确。 采用时间比率数字灰度 $\\\\mathrm{TRG}^{[6]}$ 技术,可以解决上述问题 但同时这种方法会使电路的工作频率呈几何级数上升[5] ,所以必须考虑降频设计。我们用FPGA 搭建了控制电路,配合三星STN-LCD 驱动芯片组成了一个 $12.7\\\\ \\\\mathrm{cm}$ OLED 屏的驱动模块成功实现了 $12.7\\\\ \\\\mathrm{cm}',\n",
       "    'source': '12.7cm彩色AM-OLED显示屏的驱动模块_张繁_llm_correct.md',\n",
       "    'chunk_id': 1},\n",
       "   {'chunk': '(320\\\\times240),4096$ 色, $60\\\\,\\\\mathrm{Hz}$ 动态视频显示。 # 2驱动方案',\n",
       "    'source': '12.7cm彩色AM-OLED显示屏的驱动模块_张繁_llm_correct.md',\n",
       "    'chunk_id': 2},\n",
       "   {'chunk': '# 2.1总体设计\\n像素电路为如图1 所示的两管单元[7,8] ,由一个寻址TFT、一个驱动TFT 及一个电容构成,两个TFT 均为P沟道[9] 。TRG 技术是一种数字灰度技术,因此数据线上的信号电位仅有“高”、“低”两种状态,驱动TFT 仅作为模拟开关使用[10] ,这在一定程度上解决了显示屏亮度均匀性的问题[6] 。当扫描线为低电位时(选通信号),寻址TFT 打开,数据线对电容C进行充放电；扫描线为高电位时,寻址TFT 关断,电容上记录的信息将一直保持到下一个选通信号来临,驱动TFT根据电容两端电压及公共阴极 $\\\\mathrm{V_{s}}$ 的电位输出电流。 ![](images/48952448e2e46d5ee74bedaa69397382905d3750d6dad408ba7aa92dbc0e408e.jpg)\\n图1\\u3000像素单元电路[5]',\n",
       "    'source': '12.7cm彩色AM-OLED显示屏的驱动模块_张繁_llm_correct.md',\n",
       "    'chunk_id': 3},\n",
       "   {'chunk': 'TRG 利用了人眼视觉暂留的原理,将一帧显示周期分为数个分场,每个分场中像素仅有“开”、“关”两种状态,通过分场时间组合实现多级灰度显示 所以为了实现 级灰度需要将一帧显示周期分为4个时长比为 $1:2:4:8$ 的显示子场[11] 。 TFT 像素阵列每一行的寻址时间理论上可以由行扫描线充电时间 $t_{\\\\mathrm{line}}$ 、像素电容C、充放电时间 $t_{\\\\mathrm{settle}}$ 、行扫描线放电时间t 3 部分构成[12] 。另外在整个驱动模块下还需考虑印刷电路板(PCB)布线所带来的延迟。经过理论估算及实验 测试得出行寻址时间应不小于 $4~\\\\mu_{\\\\mathrm{s}}$ ,由OLED 分辨率为 $(320\\\\times240)$ ,推出各子场的寻址时间应大于 $960~\\\\mu_{\\\\mathrm{s}}$ 。而60fps的动态画面每帧显示时长为 $16.7~\\\\mathrm{ms}$ ,由上述数据可推出各子场显示时间分别为 $0.830\\\\ \\\\mathrm{ms},1.659\\\\ \\\\mathrm{ms},3.318\\\\ \\\\mathrm{ms},6.636\\\\ \\\\mathrm{ms}$',\n",
       "    'source': '12.7cm彩色AM-OLED显示屏的驱动模块_张繁_llm_correct.md',\n",
       "    'chunk_id': 4},\n",
       "   {'chunk': '，其中寻址时间为 $1.064\\\\ \\\\mathrm{ms}$ ,图2为实测的4分场控制波形,图中的4个波谷段是寻址时段,4个波峰段分别为4个子场显示时段,而此波形求反便 是公共阴极 $\\\\mathrm{V_{s}}$ 的逻辑波形。 ![](images/5f9d357f96abd7e118c39cb22b06b688e2961a8d6b7b1389da4c16346d05009c.jpg)',\n",
       "    'source': '12.7cm彩色AM-OLED显示屏的驱动模块_张繁_llm_correct.md',\n",
       "    'chunk_id': 5},\n",
       "   {'chunk': '图 \\u3000 分场波形\\n系统总体框图如图3所示：个人电脑(PC)通过DVI接口将视频信号传输至解码器,解码器将该信号解码为24位RGB信号和时间同步信号传输至FPGA。FPGA 作为整个系统的控制与处理核心,对RGB 信号进行处理并通过片外SRAM缓存处理后的数据,并根据解码器提供的时间同步信号,将缓存数据写入驱动IC。电源模块负责提供系统的各种工作电压,并为OLED 屏的公共阴极提供驱动。 电路中解码器采用SiliconImageSil141B,\\nFPGA 采用AlteraACEXEP1K30TC144,缓冲内存采用IDT 的 $71\\\\mathrm{V}016 (64\\\\,\\\\mathrm{K}\\\\times16$ bitSRAM),行列驱动IC 采用三星公司的STN-LCD 驱动KS0796。电源模块由DM7407,TPC8201,TL084C,构建\\n![](images/816fa43da79535366f32401a39abff3dcd78d40920d1ba958327e5eea9eaae70.jpg)\\n图3\\u3000系统总体框图Fig.3\\u3000Blockdiagramofthesystem\\n# 2.2FPGA 控制器',\n",
       "    'source': '12.7cm彩色AM-OLED显示屏的驱动模块_张繁_llm_correct.md',\n",
       "    'chunk_id': 6},\n",
       "   {'chunk': 'FPGA 是整个电路系统的核心,内部程序由VerilogHDL 语言编写,其按功能可分为4 大模块,如图4所示,它们分别是数据修正模块、状态机模块、数据处理模块以及内存地址发生器模块。 ![](images/4bbb48b65ddabde25dbeb715c82275e6cecd1fedb11f08d0996ab5727bbeb82b.jpg)\\n图4FPGA 内部功能结构图Fig.4 Block diagram of FPGA\\n由于输入视频信号分辨率为 $800\\\\times600$ ,远高于OLED 屏 $320\\\\times240$ 的分辨率,所以必须对原始视频数据进行处理。由于是实验电路,在这里我们采用直接裁剪的方法。而与此同时原始的时间同步信号也做了相应的调整。除了实现上述视 频裁减功能以外数据修正模块还具有三基色可调功能。 状态机模块(StatesMachine)根据来自数据修正模块的时间同步信号,控制各显示子场的显示时间长度,并协调和控制数据处理模块与内存地址发生器模块的工作。 数据处理模块(Data Processor)是整个',\n",
       "    'source': '12.7cm彩色AM-OLED显示屏的驱动模块_张繁_llm_correct.md',\n",
       "    'chunk_id': 7},\n",
       "   {'chunk': 'FPGA的核心模块,它将输入的三基色信号实时 处理为4 分场数据存入片外静态随机存储器(SRAM)中。 三基色信号(图4 中的Original Data 与TreatedData 均为三基色信号)格式为12bit/ pixel,分别由4bit/pixel的 $\\\\mathrm{~R~},\\\\mathrm{G},\\\\mathrm{B}$ 信号构成。 为了将之转换为分场数据,规定bit位的高低即权重的高低与分场显示时间的长短相对应。定义三基色数据 $\\\\mathrm{R}_{a b}\\\\,,\\\\mathrm{G}_{a b}\\\\,,\\\\mathrm{B}_{a b}\\\\,(\\\\,a$ 为像素序号, $b$ 表示数据权重, $b$ 取值 $1,2\\\\,,3\\\\,,4$ ,权重随 $b$ 值增大依次降 低),例如三基色信号 $\\\\mathrm{R}_{11}\\\\,\\\\mathrm{R}_{12}\\\\,\\\\mathrm{R}_{13}\\\\,\\\\mathrm{R}_{14}\\\\,\\\\mathrm{G}_{11}\\\\,\\\\mathrm{G}_{12}\\\\,\\\\mathrm{G}_{13}\\\\,\\\\mathrm{G}_{14}$',\n",
       "    'source': '12.7cm彩色AM-OLED显示屏的驱动模块_张繁_llm_correct.md',\n",
       "    'chunk_id': 8},\n",
       "   {'chunk': '$\\\\mathrm{B_{11}B_{12}B_{13}B_{14}\\\\cdots}$ ,经过数据处理模块的重映射,对应 个分场的数据分别为 $\\\\mathrm{R}_{11}\\\\mathrm{G}_{11}\\\\mathrm{B}_{11}\\\\mathrm{R}_{21}\\\\mathrm{G}_{21}\\\\mathrm{B}_{21}\\\\mathrm{R}_{31}$ $\\\\mathrm{G_{31}\\\\cdots,R_{12}\\\\,G_{12}\\\\,B_{12}\\\\,R_{22}\\\\,G_{22}\\\\,B_{22}\\\\,R_{32}\\\\,G_{32}\\\\cdots,R_{13}\\\\,G_{13}\\\\,B_{13}\\\\,R_{23}\\\\cdots,}$ 3 $\\\\mathrm{G_{23}B_{23}R_{33}G_{33}\\\\cdots,R_{14}G_{14}B_{14}R_{24}G_{24}B_{24}R_{34}G_{34}\\\\cdots}_{\\\\mathrm{~,~}}$',\n",
       "    'source': '12.7cm彩色AM-OLED显示屏的驱动模块_张繁_llm_correct.md',\n",
       "    'chunk_id': 9},\n",
       "   {'chunk': '如图 所示数据处理模块由一个时序控制机构(TimingController)、4 个并行的数据映射单元(MappingModule)以及一个16位数据选择器(BusMUX)组成。其中每个映射单元的数据输入总线 为  位数据输出总线为 位与驱动芯片 的数据写入位宽一致；数据处理模块的数据输出总线为16位,与外部缓冲内存的位宽一致。每个数据 映射单元里有一个数据缓冲池,由数据输入总线对其填充数据同时数据映射单元按照分场数据的要求对输入数据进行映射。缓冲池满后,数据映射单元以 个分场数据为单位向数据输出总线输出数据,其中每个分场数据位宽为8位,即映射单元最小输出数据量32bit,将其与数据输入总线位宽12求最小公倍数,可得数据缓冲池大小应\\n![](images/536ff02d7f8809f76ad9b8c2098b1288d43137e02db4b50cebfd3253ee91cd1b.jpg)\\n图5\\u3000数据处理模块功能结构图Fig.5\\u3000Blockdiagramofdataprocessingmodule',\n",
       "    'source': '12.7cm彩色AM-OLED显示屏的驱动模块_张繁_llm_correct.md',\n",
       "    'chunk_id': 10},\n",
       "   {'chunk': '为$96~\\\\mathrm{bit}$ 。 映射单元1和3负责奇数像素数据的处理,映射单元2和4负责偶数像素数据的处理。同时映射单元1和3与映射单元2和4在时序控制机 构协调下形成“乒乓处理结构”,即单元1、3 输出数据时,单元2、4填充数据缓冲池；单元2、4缓冲池满输出数据时,单元1、3填充数据缓冲池。这种以面积换取速度的设计使得4个映射单元各自的平均处理负荷仅为输入负荷的1/4,峰值负荷为输入负荷的3/4,大大提升了该模块的数据处理能力。 内存地址发生器(AddressGenerator)作为数据处理模块的延伸,负责控制片外SRAM,片外SRAM 按逻辑地址被分成4页,对应存取4个子场的显示数据。地址发生器对应存和取拥有两套地址发生机制,实现了奇偶像素数据的双通道输出,降低了驱动IC 的工作频率,下文将详细论述。数据处理模块功能结构图 Fig.5 Block Diagram of Data Processing Module 为 $96\\\\ \\\\mathrm{bit}$ 。',\n",
       "    'source': '12.7cm彩色AM-OLED显示屏的驱动模块_张繁_llm_correct.md',\n",
       "    'chunk_id': 11},\n",
       "   {'chunk': '映射单元1和3负责奇数像素数据的处理,映射单元2和4负责偶数像素数据的处理。同时映射单元1和3与映射单元2和4在时序控制机构协调下形成“乒乓处理结构”,即单元1、3 输出数据时,单元2、4填充数据缓冲池；单元2、4缓冲池满输出数据时,单元1、3填充数据缓冲池。这种以面积换取速度的设计使得4个映射单元各自的平均处理负荷仅为输入负荷的1/4,峰值负荷为输入负荷的3/4,大大提升了该模块的数据处理能力。 内存地址发生器(Address Generator)作为数据处理模块的延伸,负责控制片外SRAM,片外SRAM 按逻辑地址被分成4页,对应存取4个子场的显示数据。地址发生器对应存和取拥有两套地址发生机制,实现了奇偶像素数据的双通道输出,降低了驱动IC 的工作频率,下文将详细论述。',\n",
       "    'source': '12.7cm彩色AM-OLED显示屏的驱动模块_张繁_llm_correct.md',\n",
       "    'chunk_id': 12},\n",
       "   {'chunk': '# 2.3 降频方法',\n",
       "    'source': '12.7cm彩色AM-OLED显示屏的驱动模块_张繁_llm_correct.md',\n",
       "    'chunk_id': 13},\n",
       "   {'chunk': '用分场显示的方式实现时间比率数字灰度,这在一定程度上解决了显示灰度精确性与屏幕亮度均匀性的问题,但分场的实现是以多次刷新屏幕为代价的,对于4分场 $60\\\\ \\\\mathrm{Hz}$ 帧频的设计而言,屏幕刷新率实际为 $60\\\\ \\\\mathrm{Hz} \\\\times 4$ 即 $240\\\\ \\\\mathrm{Hz}$ 。每一屏的数据量为 $320 \\\\times 3 \\\\times 240\\\\ \\\\mathrm{bit} = 230\\\\,400\\\\ \\\\mathrm{bit}$ ,寻址时间 $1.064\\\\ \\\\mathrm{ms}$ ,则驱动芯片的数据写入速率应为 $217\\\\ \\\\mathrm{Mbit/s}$ ,所用驱动芯片KS0796 的数据输入位宽为8bit,其在 $3.3\\\\ \\\\mathrm{V}$ 逻辑电压下的最高工作频率为 $12\\\\ \\\\mathrm{MHz}$ ,若采用传统的串联工作模式,工作频率达到 $27\\\\ \\\\mathrm{MHz}$ 才能满足需求,如果想要实现更大分辨率、更多级灰度显示,工作频率必将成几何级上升,现有的驱动芯片将很难满足这一需求,所以必须在电路中采取降频设计。让列驱动IC',\n",
       "    'source': '12.7cm彩色AM-OLED显示屏的驱动模块_张繁_llm_correct.md',\n",
       "    'chunk_id': 14},\n",
       "   {'chunk': '并行工作是降频的主要手段。整个屏幕在逻辑上被定义成左半屏和右半屏。如图6 所示,KS0796-1 负责左半屏奇像素的写入,KS0796-2负责右半屏偶像素的写入,KS0796-3和KS0796-4 则分别负责左右半屏的奇像素写入。与此同时内存地址发生器利用双通道输出技术以32bit位宽读出片外SRAM 数据,为4片IC提供所需像素信号。利用以上技术,驱动IC 的工作频率相对于串联工作模式降低了4倍。',\n",
       "    'source': '12.7cm彩色AM-OLED显示屏的驱动模块_张繁_llm_correct.md',\n",
       "    'chunk_id': 15},\n",
       "   {'chunk': '![](images/50b6cf506b49a0c5a58e874aa37208ce67d58db16cee0ef65c883d7797584716.jpg)\\n图6 并行工作示意图\\n\\n# 3 显示结果\\n测试屏为 $12.7\\\\ \\\\mathrm{cm}$ 分辨率为 $320 \\\\times 240$ ,画面为动态视频,帧频 $60\\\\ \\\\mathrm{Hz}$ ,16级灰度。图7为数码相机拍摄的显示效果,经过压缩及缩放处理,与原屏幕效果略有差别,但图中鹦鹉的轮廓清晰,色彩分明,颜色过渡自然。证明了整个驱动模块达到了预期指标。\\n\\n![](images/59726565b3e1f0d8de281d868edc2ada3acd6512fdfce9c3a34fbc0584c8295e.jpg)\\n图7 显示效果图(放大倍数0.25)',\n",
       "    'source': '12.7cm彩色AM-OLED显示屏的驱动模块_张繁_llm_correct.md',\n",
       "    'chunk_id': 16},\n",
       "   {'chunk': '# 4 结论\\n利用TRG 结合传统的STN-LCD 驱动芯片成功地实现了 $12.7\\\\ \\\\mathrm{cm} (320 \\\\times 240)$ 彩色AM-OLED 的动态视频显示。采用驱动IC 并行工作模式,数据双通道输出等手段,解决了因数字灰度而产生的驱动芯片工作频率过高的问题。从显示结果来看,图像灰度准确,色彩艳丽,亮度均匀性良好,达到了预期设计目标。\\n\\n# 参 考 文 献：\\n[1] 邵作叶,郑喜凤,陈宇.平板显示器中的OLED [J].液晶与显示,2005,20(1)：52-56.\\n\\n[2] 尹盛,程帅,沈亮.2英寸全彩色AM-OLED 显示屏的驱动方案[J].现代显示,(3)：43-46.\\n\\n[3] 赵晶,李平,王丹.单片机控制OLED 显示全彩色静态图片和动态图像的系统设计[J].液晶与显示,2006,21(1)：67-72.\\n\\n[4] 司玉娟,陈新发,杨晓萍,等.多晶硅TFT 有源OLED 两管像素电路的研究[J].发光学报,2003,24(6)：645-649.',\n",
       "    'source': '12.7cm彩色AM-OLED显示屏的驱动模块_张繁_llm_correct.md',\n",
       "    'chunk_id': 17},\n",
       "   {'chunk': '[5] Meng Zhiguo, Wong Man. Active-matrix organic light-emitting diode displays realized using metal-induced unilaterally crystallized polycrystalline silicon thin-film transistors [J]. IEEE Transactions on Electron Devices, 2002, 49.\\n\\n[6] Kazutaka Inukai, Inukai K, Kimura H, et al. 4.0-in. TFT-OLED displays and a novel digital driving method [C]// SID 00 Digest, 2000：924-927.',\n",
       "    'source': '12.7cm彩色AM-OLED显示屏的驱动模块_张繁_llm_correct.md',\n",
       "    'chunk_id': 18},\n",
       "   {'chunk': '[7] Simon W Tam, Yojiro Matsueda, Mutsumi Kimura, et al. Poly-Si driving circuits for organic EL displays [C]// Proc, SPIE, 2001, 4295：125-133.\\n\\n[8] 张志伟,荆海,邝俊峰,等.TFT-OLED 驱动电路的研究[J].液晶与显示,2004,19(6)：472-477.\\n\\n[9] Mark Stewart, Robert S Howell, Leo Pires, et al. Polysilicon VGA active matrix OLED displays—Technology and performance [C]// IEDM, 1998：871-874.\\n\\n[10] 谢强,李宏建,黄永辉,等.几种OLED 有源驱动电路中像素单元电路的分析[J].液晶与显示,2004,19(6)：462-467.',\n",
       "    'source': '12.7cm彩色AM-OLED显示屏的驱动模块_张繁_llm_correct.md',\n",
       "    'chunk_id': 19},\n",
       "   {'chunk': '[11] Mayumi Mizukami, Kazutaka Inukai, Hirokazu Yamagata, et al. 6-bit digital VGA OLED [C]// SID 00 Digest, 2000：912-915.\\n\\n[12] Arokia Nathan, Anil Kumar. Amorphous silicon back-plane electronics for OLED displays [J]. IEEE J. Selected\\n\\n# Driving Module for 12.7cm Full-color AM-OLED Display\\nZHANG Fan, YIN Sheng, SHEN Liang, CHENG Shuai (Department of Electronic Science & Technology, Huazhong University of Science & Technology, Wuhan 430074, China, E-mail：zf21st@sina.com)',\n",
       "    'source': '12.7cm彩色AM-OLED显示屏的驱动模块_张繁_llm_correct.md',\n",
       "    'chunk_id': 20},\n",
       "   {'chunk': '# Abstract\\nTime-ratio gray-scale (TRG) technology can improve the gray-scale accuracy and the brightness uniformity of low temperature poly-silicon (LTPS) active matrix organic light emitting display (AMOLED). But, as the dimension and resolution of the display panel increase, the driving frequency will raise exponentially. In this paper, multiple ping-pong structure, parallel connection of driving ICs and dual-channel RAM output technology are introduced in order to decrease the driving frequency.',\n",
       "    'source': '12.7cm彩色AM-OLED显示屏的驱动模块_张繁_llm_correct.md',\n",
       "    'chunk_id': 21},\n",
       "   {'chunk': 'With digital video interface (DVI) as the video interface and FPGA as control center, the dynamic display of $12.7\\\\ \\\\mathrm{cm} (5\\\\ \\\\mathrm{in})$ full-color AM-OLED with $320 \\\\times 240$ resolutions is realized. The gray level of the panel is 16, and the frame frequency is $60\\\\ \\\\mathrm{Hz}$ .\\n\\nKeywords：AM-OLED；time-ratio gray-scale；FPGA；pixel circuit',\n",
       "    'source': '12.7cm彩色AM-OLED显示屏的驱动模块_张繁_llm_correct.md',\n",
       "    'chunk_id': 22},\n",
       "   {'chunk': '# 《液晶与显示》诚征广告\\n《液晶与显示》是中国科学院长春光学精密机械与物理研究所和中国光学光电子行业协会液晶专业分会主办的综合性学术期刊。主要报道国内外液晶学科和显示技术领域中最新科研成果和创新技术,及时反映国内外本学科领域及产业信息动态。刊登的内容包括液晶和各类显示材料及制备方法、各类显示器件物理和制作技术、各类显示新型模式和驱动技术、显示技术应用、显示材料和器件的测试方法与技术等方面,是国内外从事液晶和显示技术工作及相关的广大科技人员必读期刊。本刊不仅是我国专业学术期刊发行量最大的期刊之一,而且参与国内外相关科技展会和交流活动。\\n\\n《液晶与显示》设有广告专栏,真诚欢迎国内外科研单位、企业、商家来此发布产品、技术和服务信息,刊登仪器、设备、材料等方面的广告。本刊有精美彩页和黑白插页可供选择。\\n\\n需要刊登广告的客户可电话告知您的Fax,我们会立即将报价单传真给您,洽商确定后即与您签定正式刊登合同。',\n",
       "    'source': '12.7cm彩色AM-OLED显示屏的驱动模块_张繁_llm_correct.md',\n",
       "    'chunk_id': 23},\n",
       "   {'chunk': '# 联系方式：\\n地 址：长春市东南湖大路16号 中国科学院长春光学精密机械与物理研究所《液晶与显示》编辑部\\n邮 编：传 真：http://www.yejingyuxianshi.org E-mail：yjxs@ciomp.ac.cn 电 话：0431-6176059 0431-4613406\\n联系人：周 哲',\n",
       "    'source': '12.7cm彩色AM-OLED显示屏的驱动模块_张繁_llm_correct.md',\n",
       "    'chunk_id': 24}]}]"
      ]
     },
     "execution_count": 2,
     "metadata": {},
     "output_type": "execute_result"
    }
   ],
   "source": [
    "articles = get_article_chunks(\"data\")"
   ]
  },
  {
   "cell_type": "code",
   "execution_count": null,
   "id": "10c306fc",
   "metadata": {},
   "outputs": [
    {
     "name": "stderr",
     "output_type": "stream",
     "text": [
      "d:\\Miniconda3\\envs\\raft\\lib\\site-packages\\tqdm\\auto.py:21: TqdmWarning: IProgress not found. Please update jupyter and ipywidgets. See https://ipywidgets.readthedocs.io/en/stable/user_install.html\n",
      "  from .autonotebook import tqdm as notebook_tqdm\n"
     ]
    },
    {
     "name": "stdout",
     "output_type": "stream",
     "text": [
      "len(file_names): 277\n"
     ]
    },
    {
     "name": "stderr",
     "output_type": "stream",
     "text": [
      "Chunking: 100%|██████████| 1/1 [00:00<00:00, 500.10file/s, chunks=34]\n",
      "Chunking: 100%|██████████| 1/1 [00:00<00:00, 1000.07file/s, chunks=26]\n",
      "Chunking: 100%|██████████| 1/1 [00:00<00:00, 499.20file/s, chunks=37]\n",
      "Chunking: 100%|██████████| 1/1 [00:00<00:00, 499.62file/s, chunks=24]\n",
      "Chunking: 100%|██████████| 1/1 [00:00<00:00, 500.10file/s, chunks=25]"
     ]
    },
    {
     "name": "stdout",
     "output_type": "stream",
     "text": [
      "len(chunks_all) = 146\n",
      "Chunks saved to outputs_chunks/article_chunks01.json\n"
     ]
    },
    {
     "name": "stderr",
     "output_type": "stream",
     "text": [
      "\n"
     ]
    }
   ],
   "source": [
    "from utils.article_chunks import get_article_chunks\n",
    "article_chunks = get_article_chunks(\"data\", \"outputs_chunks/article_chunks01.json\")"
   ]
  },
  {
   "cell_type": "code",
   "execution_count": null,
   "id": "416a1ca2",
   "metadata": {},
   "outputs": [],
   "source": [
    "import json\n",
    "def load_articles(chunks_path):\n",
    "    with open(chunks_path, \"r\", encoding=\"utf-8\") as f:\n",
    "        articles = json.load(f)\n",
    "        return articles"
   ]
  },
  {
   "cell_type": "code",
   "execution_count": null,
   "id": "91e713c9",
   "metadata": {},
   "outputs": [],
   "source": [
    "def save_questions(questions, article_name, filename):\n",
    "    # 判断 filename 是否存在，如果存在则追加写入，否则创建新文件\n",
    "    if os.path.exists(filename):\n",
    "        with open(filename, 'r', encoding=\"utf-8\") as f:\n",
    "            existing_questions = json.load(f)\n",
    "        # 检查 article_name 是否已经存在于 questions 中\n",
    "        if article_name in existing_questions:\n",
    "            existing_questions[article_name].extend(questions)\n",
    "        else:\n",
    "            existing_questions[article_name] = questions\n",
    "        with open(filename, 'w', encoding=\"utf-8\") as f:\n",
    "            json.dump(existing_questions, f, ensure_ascii=False, indent=4)\n",
    "    else:\n",
    "        with open(filename, 'w', encoding=\"utf-8\") as f:\n",
    "            json.dump({article_name: questions}, f, ensure_ascii=False, indent=4)\n",
    "    print(f\"Questions saved to {filename}\")"
   ]
  },
  {
   "cell_type": "code",
   "execution_count": null,
   "id": "e47194f9",
   "metadata": {},
   "outputs": [],
   "source": [
    "from utils.query_generation import get_chunkstr, generate_instructions_gen, build_openai_client_chat, get_chunk4\n",
    "from concurrent.futures import ThreadPoolExecutor, as_completed\n",
    "from tqdm import tqdm\n",
    "\n",
    "chat_model = build_openai_client_chat()\n",
    "\n",
    "def query_generation(chunks_path):\n",
    "    articles = load_articles(chunks_path)\n",
    "    for article in articles:\n",
    "        a_chunks = article[\"chunks\"]\n",
    "        a_name = article[\"filename\"]\n",
    "        futures = []\n",
    "        # a_chunks 除 4 上取整数\n",
    "        num_chunks = (len(a_chunks) // 4) + 1\n",
    "        with tqdm(total=num_chunks, desc=\"Chunking\", unit=\"file\") as pbar:\n",
    "            with ThreadPoolExecutor(max_workers=2) as executor:\n",
    "                for i in range(0, len(a_chunks), 4):\n",
    "                    chunk4 = get_chunk4(i, a_chunks)\n",
    "                    # questions = generate_instructions_gen(chat_model, chunk4, x=2, model=\" deepseek-r1-250120\", prompt_key=\"deepseek-v2\")\n",
    "                    futures.append(executor.submit(generate_instructions_gen, chat_model, chunk4, x=2, model=\" deepseek-r1-250120\", prompt_key=\"deepseek-v2\"))\n",
    "                for future in as_completed(futures):\n",
    "                    questions = future.result()\n",
    "                    save_questions(questions, a_name, \"outputs_questions/article_questions01.json\")\n",
    "                print(f\"done {a_name} questions.\")"
   ]
  },
  {
   "cell_type": "code",
   "execution_count": null,
   "id": "a26373b3",
   "metadata": {},
   "outputs": [],
   "source": [
    "query_generation(\"outputs_chunks/article_chunks01.json\")"
   ]
  },
  {
   "cell_type": "code",
   "execution_count": 1,
   "id": "c5fea56b",
   "metadata": {},
   "outputs": [
    {
     "name": "stdout",
     "output_type": "stream",
     "text": [
      "len(articles) = 5\n",
      "processing 1,8-萘酰亚胺类有机小分子电致发光材料的研究进展_王启_llm_correct.md\n"
     ]
    },
    {
     "name": "stderr",
     "output_type": "stream",
     "text": [
      "Chunking:  11%|█         | 1/9 [00:24<03:16, 24.57s/file, chunks=32]"
     ]
    },
    {
     "name": "stdout",
     "output_type": "stream",
     "text": [
      "processing 1,8-萘酰亚胺类有机小分子电致发光材料的研究进展_王启_llm_correct.md questions 3\n",
      "Questions saved to outputs_questions/article_questions02.json\n"
     ]
    },
    {
     "name": "stderr",
     "output_type": "stream",
     "text": [
      "Chunking:  22%|██▏       | 2/9 [00:25<01:13, 10.54s/file, chunks=32]"
     ]
    },
    {
     "name": "stdout",
     "output_type": "stream",
     "text": [
      "processing 1,8-萘酰亚胺类有机小分子电致发光材料的研究进展_王启_llm_correct.md questions 3\n",
      "Questions saved to outputs_questions/article_questions02.json\n"
     ]
    },
    {
     "name": "stderr",
     "output_type": "stream",
     "text": [
      "Chunking:  33%|███▎      | 3/9 [00:39<01:13, 12.24s/file, chunks=32]"
     ]
    },
    {
     "name": "stdout",
     "output_type": "stream",
     "text": [
      "processing 1,8-萘酰亚胺类有机小分子电致发光材料的研究进展_王启_llm_correct.md questions 2\n",
      "Questions saved to outputs_questions/article_questions02.json\n"
     ]
    },
    {
     "name": "stderr",
     "output_type": "stream",
     "text": [
      "Chunking:  44%|████▍     | 4/9 [00:41<00:41,  8.31s/file, chunks=32]"
     ]
    },
    {
     "name": "stdout",
     "output_type": "stream",
     "text": [
      "processing 1,8-萘酰亚胺类有机小分子电致发光材料的研究进展_王启_llm_correct.md questions 2\n",
      "Questions saved to outputs_questions/article_questions02.json\n"
     ]
    },
    {
     "name": "stderr",
     "output_type": "stream",
     "text": [
      "Chunking:  56%|█████▌    | 5/9 [01:03<00:52, 13.12s/file, chunks=32]"
     ]
    },
    {
     "name": "stdout",
     "output_type": "stream",
     "text": [
      "processing 1,8-萘酰亚胺类有机小分子电致发光材料的研究进展_王启_llm_correct.md questions 2\n",
      "Questions saved to outputs_questions/article_questions02.json\n"
     ]
    },
    {
     "name": "stderr",
     "output_type": "stream",
     "text": [
      "Chunking:  67%|██████▋   | 6/9 [01:17<00:40, 13.42s/file, chunks=32]"
     ]
    },
    {
     "name": "stdout",
     "output_type": "stream",
     "text": [
      "processing 1,8-萘酰亚胺类有机小分子电致发光材料的研究进展_王启_llm_correct.md questions 3\n",
      "Questions saved to outputs_questions/article_questions02.json\n"
     ]
    },
    {
     "name": "stderr",
     "output_type": "stream",
     "text": [
      "Chunking:  78%|███████▊  | 7/9 [01:26<00:23, 11.99s/file, chunks=32]"
     ]
    },
    {
     "name": "stdout",
     "output_type": "stream",
     "text": [
      "processing 1,8-萘酰亚胺类有机小分子电致发光材料的研究进展_王启_llm_correct.md questions 3\n",
      "Questions saved to outputs_questions/article_questions02.json\n"
     ]
    },
    {
     "name": "stderr",
     "output_type": "stream",
     "text": [
      "Chunking:  89%|████████▉ | 8/9 [01:48<00:15, 15.02s/file, chunks=32]"
     ]
    },
    {
     "name": "stdout",
     "output_type": "stream",
     "text": [
      "processing 1,8-萘酰亚胺类有机小分子电致发光材料的研究进展_王启_llm_correct.md questions 2\n",
      "Questions saved to outputs_questions/article_questions02.json\n"
     ]
    },
    {
     "name": "stderr",
     "output_type": "stream",
     "text": [
      "Chunking: 100%|██████████| 9/9 [01:52<00:00, 12.51s/file, chunks=32]\n"
     ]
    },
    {
     "name": "stdout",
     "output_type": "stream",
     "text": [
      "processing 1,8-萘酰亚胺类有机小分子电致发光材料的研究进展_王启_llm_correct.md questions 2\n",
      "Questions saved to outputs_questions/article_questions02.json\n",
      "done 1,8-萘酰亚胺类有机小分子电致发光材料的研究进展_王启_llm_correct.md questions.\n",
      "processing 10万象素a-Si_TFT有源矩阵的优化技术_徐重阳_llm_correct.md\n"
     ]
    },
    {
     "name": "stderr",
     "output_type": "stream",
     "text": [
      "Chunking:  14%|█▍        | 1/7 [00:22<02:13, 22.19s/file, chunks=24]"
     ]
    },
    {
     "name": "stdout",
     "output_type": "stream",
     "text": [
      "processing 10万象素a-Si_TFT有源矩阵的优化技术_徐重阳_llm_correct.md questions 2\n",
      "Questions saved to outputs_questions/article_questions02.json\n"
     ]
    },
    {
     "name": "stderr",
     "output_type": "stream",
     "text": [
      "Chunking:  29%|██▊       | 2/7 [00:29<01:06, 13.36s/file, chunks=24]"
     ]
    },
    {
     "name": "stdout",
     "output_type": "stream",
     "text": [
      "processing 10万象素a-Si_TFT有源矩阵的优化技术_徐重阳_llm_correct.md questions 3\n",
      "Questions saved to outputs_questions/article_questions02.json\n"
     ]
    },
    {
     "name": "stderr",
     "output_type": "stream",
     "text": [
      "Chunking:  43%|████▎     | 3/7 [01:12<01:47, 26.80s/file, chunks=24]"
     ]
    },
    {
     "name": "stdout",
     "output_type": "stream",
     "text": [
      "processing 10万象素a-Si_TFT有源矩阵的优化技术_徐重阳_llm_correct.md questions 3\n",
      "Questions saved to outputs_questions/article_questions02.json\n"
     ]
    },
    {
     "name": "stderr",
     "output_type": "stream",
     "text": [
      "Chunking:  57%|█████▋    | 4/7 [01:24<01:02, 20.97s/file, chunks=24]"
     ]
    },
    {
     "name": "stdout",
     "output_type": "stream",
     "text": [
      "processing 10万象素a-Si_TFT有源矩阵的优化技术_徐重阳_llm_correct.md questions 3\n",
      "Questions saved to outputs_questions/article_questions02.json\n"
     ]
    },
    {
     "name": "stderr",
     "output_type": "stream",
     "text": [
      "Chunking:  71%|███████▏  | 5/7 [01:44<00:41, 20.84s/file, chunks=24]"
     ]
    },
    {
     "name": "stdout",
     "output_type": "stream",
     "text": [
      "processing 10万象素a-Si_TFT有源矩阵的优化技术_徐重阳_llm_correct.md questions 2\n",
      "Questions saved to outputs_questions/article_questions02.json\n"
     ]
    },
    {
     "name": "stderr",
     "output_type": "stream",
     "text": [
      "Chunking:  86%|████████▌ | 6/7 [01:58<00:18, 18.35s/file, chunks=24]"
     ]
    },
    {
     "name": "stdout",
     "output_type": "stream",
     "text": [
      "processing 10万象素a-Si_TFT有源矩阵的优化技术_徐重阳_llm_correct.md questions 2\n",
      "Questions saved to outputs_questions/article_questions02.json\n"
     ]
    },
    {
     "name": "stderr",
     "output_type": "stream",
     "text": [
      "Chunking: 100%|██████████| 7/7 [02:13<00:00, 19.09s/file, chunks=24]\n"
     ]
    },
    {
     "name": "stdout",
     "output_type": "stream",
     "text": [
      "processing 10万象素a-Si_TFT有源矩阵的优化技术_徐重阳_llm_correct.md questions 2\n",
      "Questions saved to outputs_questions/article_questions02.json\n",
      "done 10万象素a-Si_TFT有源矩阵的优化技术_徐重阳_llm_correct.md questions.\n",
      "processing 10大新显示技术_llm_correct.md\n"
     ]
    },
    {
     "name": "stderr",
     "output_type": "stream",
     "text": [
      "Chunking:  10%|█         | 1/10 [00:15<02:20, 15.66s/file, chunks=36]"
     ]
    },
    {
     "name": "stdout",
     "output_type": "stream",
     "text": [
      "processing 10大新显示技术_llm_correct.md questions 2\n",
      "Questions saved to outputs_questions/article_questions02.json\n"
     ]
    },
    {
     "name": "stderr",
     "output_type": "stream",
     "text": [
      "Chunking:  20%|██        | 2/10 [00:17<01:01,  7.74s/file, chunks=36]"
     ]
    },
    {
     "name": "stdout",
     "output_type": "stream",
     "text": [
      "processing 10大新显示技术_llm_correct.md questions 2\n",
      "Questions saved to outputs_questions/article_questions02.json\n"
     ]
    },
    {
     "name": "stderr",
     "output_type": "stream",
     "text": [
      "Chunking:  30%|███       | 3/10 [00:38<01:36, 13.77s/file, chunks=36]"
     ]
    },
    {
     "name": "stdout",
     "output_type": "stream",
     "text": [
      "processing 10大新显示技术_llm_correct.md questions 2\n",
      "Questions saved to outputs_questions/article_questions02.json\n"
     ]
    },
    {
     "name": "stderr",
     "output_type": "stream",
     "text": [
      "Chunking:  40%|████      | 4/10 [00:41<00:57,  9.59s/file, chunks=36]"
     ]
    },
    {
     "name": "stdout",
     "output_type": "stream",
     "text": [
      "processing 10大新显示技术_llm_correct.md questions 2\n",
      "Questions saved to outputs_questions/article_questions02.json\n"
     ]
    },
    {
     "name": "stderr",
     "output_type": "stream",
     "text": [
      "Chunking:  50%|█████     | 5/10 [01:04<01:11, 14.29s/file, chunks=36]"
     ]
    },
    {
     "name": "stdout",
     "output_type": "stream",
     "text": [
      "processing 10大新显示技术_llm_correct.md questions 2\n",
      "Questions saved to outputs_questions/article_questions02.json\n"
     ]
    },
    {
     "name": "stderr",
     "output_type": "stream",
     "text": [
      "Chunking:  60%|██████    | 6/10 [01:09<00:44, 11.11s/file, chunks=36]"
     ]
    },
    {
     "name": "stdout",
     "output_type": "stream",
     "text": [
      "processing 10大新显示技术_llm_correct.md questions 2\n",
      "Questions saved to outputs_questions/article_questions02.json\n"
     ]
    },
    {
     "name": "stderr",
     "output_type": "stream",
     "text": [
      "Chunking:  70%|███████   | 7/10 [01:22<00:35, 11.75s/file, chunks=36]"
     ]
    },
    {
     "name": "stdout",
     "output_type": "stream",
     "text": [
      "processing 10大新显示技术_llm_correct.md questions 2\n",
      "Questions saved to outputs_questions/article_questions02.json\n"
     ]
    },
    {
     "name": "stderr",
     "output_type": "stream",
     "text": [
      "Chunking:  80%|████████  | 8/10 [01:41<00:28, 14.06s/file, chunks=36]"
     ]
    },
    {
     "name": "stdout",
     "output_type": "stream",
     "text": [
      "processing 10大新显示技术_llm_correct.md questions 2\n",
      "Questions saved to outputs_questions/article_questions02.json\n"
     ]
    },
    {
     "name": "stderr",
     "output_type": "stream",
     "text": [
      "Chunking:  90%|█████████ | 9/10 [01:59<00:15, 15.26s/file, chunks=36]"
     ]
    },
    {
     "name": "stdout",
     "output_type": "stream",
     "text": [
      "processing 10大新显示技术_llm_correct.md questions 2\n",
      "Questions saved to outputs_questions/article_questions02.json\n"
     ]
    },
    {
     "name": "stderr",
     "output_type": "stream",
     "text": [
      "Chunking: 100%|██████████| 10/10 [02:01<00:00, 12.12s/file, chunks=36]\n"
     ]
    },
    {
     "name": "stdout",
     "output_type": "stream",
     "text": [
      "processing 10大新显示技术_llm_correct.md questions 2\n",
      "Questions saved to outputs_questions/article_questions02.json\n",
      "done 10大新显示技术_llm_correct.md questions.\n",
      "processing 12.7cm彩色AM-OLED显示器分场驱动研究_沈亮_llm_correct.md\n"
     ]
    },
    {
     "name": "stderr",
     "output_type": "stream",
     "text": [
      "Chunking:  14%|█▍        | 1/7 [00:20<02:05, 20.86s/file, chunks=20]"
     ]
    },
    {
     "name": "stdout",
     "output_type": "stream",
     "text": [
      "processing 12.7cm彩色AM-OLED显示器分场驱动研究_沈亮_llm_correct.md questions 2\n",
      "Questions saved to outputs_questions/article_questions02.json\n"
     ]
    },
    {
     "name": "stderr",
     "output_type": "stream",
     "text": [
      "Chunking:  29%|██▊       | 2/7 [00:23<00:51, 10.23s/file, chunks=20]"
     ]
    },
    {
     "name": "stdout",
     "output_type": "stream",
     "text": [
      "processing 12.7cm彩色AM-OLED显示器分场驱动研究_沈亮_llm_correct.md questions 4\n",
      "Questions saved to outputs_questions/article_questions02.json\n"
     ]
    },
    {
     "name": "stderr",
     "output_type": "stream",
     "text": [
      "Chunking:  43%|████▎     | 3/7 [00:47<01:05, 16.27s/file, chunks=20]"
     ]
    },
    {
     "name": "stdout",
     "output_type": "stream",
     "text": [
      "processing 12.7cm彩色AM-OLED显示器分场驱动研究_沈亮_llm_correct.md questions 2\n",
      "Questions saved to outputs_questions/article_questions02.json\n"
     ]
    },
    {
     "name": "stderr",
     "output_type": "stream",
     "text": [
      "Chunking:  57%|█████▋    | 4/7 [00:52<00:35, 11.94s/file, chunks=20]"
     ]
    },
    {
     "name": "stdout",
     "output_type": "stream",
     "text": [
      "processing 12.7cm彩色AM-OLED显示器分场驱动研究_沈亮_llm_correct.md questions 2\n",
      "Questions saved to outputs_questions/article_questions02.json\n"
     ]
    },
    {
     "name": "stderr",
     "output_type": "stream",
     "text": [
      "Chunking:  71%|███████▏  | 5/7 [01:08<00:26, 13.39s/file, chunks=20]"
     ]
    },
    {
     "name": "stdout",
     "output_type": "stream",
     "text": [
      "processing 12.7cm彩色AM-OLED显示器分场驱动研究_沈亮_llm_correct.md questions 2\n",
      "Questions saved to outputs_questions/article_questions02.json\n"
     ]
    },
    {
     "name": "stderr",
     "output_type": "stream",
     "text": [
      "Chunking:  86%|████████▌ | 6/7 [01:13<00:12, 12.19s/file, chunks=20]\n"
     ]
    },
    {
     "name": "stdout",
     "output_type": "stream",
     "text": [
      "processing 12.7cm彩色AM-OLED显示器分场驱动研究_沈亮_llm_correct.md questions 2\n",
      "Questions saved to outputs_questions/article_questions02.json\n",
      "done 12.7cm彩色AM-OLED显示器分场驱动研究_沈亮_llm_correct.md questions.\n",
      "processing 12.7cm彩色AM-OLED显示屏的驱动模块_张繁_llm_correct.md\n"
     ]
    },
    {
     "name": "stderr",
     "output_type": "stream",
     "text": [
      "Chunking:  14%|█▍        | 1/7 [00:15<01:32, 15.40s/file, chunks=24]"
     ]
    },
    {
     "name": "stdout",
     "output_type": "stream",
     "text": [
      "processing 12.7cm彩色AM-OLED显示屏的驱动模块_张繁_llm_correct.md questions 2\n",
      "Questions saved to outputs_questions/article_questions02.json\n"
     ]
    },
    {
     "name": "stderr",
     "output_type": "stream",
     "text": [
      "Chunking:  29%|██▊       | 2/7 [00:25<01:02, 12.55s/file, chunks=24]"
     ]
    },
    {
     "name": "stdout",
     "output_type": "stream",
     "text": [
      "processing 12.7cm彩色AM-OLED显示屏的驱动模块_张繁_llm_correct.md questions 2\n",
      "Questions saved to outputs_questions/article_questions02.json\n"
     ]
    },
    {
     "name": "stderr",
     "output_type": "stream",
     "text": [
      "Chunking:  43%|████▎     | 3/7 [00:40<00:53, 13.46s/file, chunks=24]"
     ]
    },
    {
     "name": "stdout",
     "output_type": "stream",
     "text": [
      "processing 12.7cm彩色AM-OLED显示屏的驱动模块_张繁_llm_correct.md questions 3\n",
      "Questions saved to outputs_questions/article_questions02.json\n"
     ]
    },
    {
     "name": "stderr",
     "output_type": "stream",
     "text": [
      "Chunking:  57%|█████▋    | 4/7 [00:48<00:33, 11.28s/file, chunks=24]"
     ]
    },
    {
     "name": "stdout",
     "output_type": "stream",
     "text": [
      "processing 12.7cm彩色AM-OLED显示屏的驱动模块_张繁_llm_correct.md questions 2\n",
      "Questions saved to outputs_questions/article_questions02.json\n"
     ]
    },
    {
     "name": "stderr",
     "output_type": "stream",
     "text": [
      "Chunking:  71%|███████▏  | 5/7 [01:03<00:24, 12.47s/file, chunks=24]"
     ]
    },
    {
     "name": "stdout",
     "output_type": "stream",
     "text": [
      "processing 12.7cm彩色AM-OLED显示屏的驱动模块_张繁_llm_correct.md questions 2\n",
      "Questions saved to outputs_questions/article_questions02.json\n"
     ]
    },
    {
     "name": "stderr",
     "output_type": "stream",
     "text": [
      "Chunking:  86%|████████▌ | 6/7 [01:10<00:10, 10.64s/file, chunks=24]"
     ]
    },
    {
     "name": "stdout",
     "output_type": "stream",
     "text": [
      "processing 12.7cm彩色AM-OLED显示屏的驱动模块_张繁_llm_correct.md questions 2\n",
      "Questions saved to outputs_questions/article_questions02.json\n"
     ]
    },
    {
     "name": "stderr",
     "output_type": "stream",
     "text": [
      "Chunking: 100%|██████████| 7/7 [01:18<00:00, 11.23s/file, chunks=24]"
     ]
    },
    {
     "name": "stdout",
     "output_type": "stream",
     "text": [
      "processing 12.7cm彩色AM-OLED显示屏的驱动模块_张繁_llm_correct.md questions 2\n",
      "Questions saved to outputs_questions/article_questions02.json\n",
      "done 12.7cm彩色AM-OLED显示屏的驱动模块_张繁_llm_correct.md questions.\n"
     ]
    },
    {
     "name": "stderr",
     "output_type": "stream",
     "text": [
      "\n"
     ]
    }
   ],
   "source": [
    "from utils.query_generation import build_openai_client_chat, gen_query\n",
    "chunks_path = \"outputs_chunks/article_chunks01.json\"\n",
    "chat_model = build_openai_client_chat()\n",
    "questions_path = \"outputs_questions/article_questions02.json\"\n",
    "gen_query(chunks_path, chat_model, questions_path)"
   ]
  },
  {
   "cell_type": "code",
   "execution_count": 4,
   "id": "d8b14001",
   "metadata": {},
   "outputs": [
    {
     "data": {
      "text/plain": [
       "1"
      ]
     },
     "execution_count": 4,
     "metadata": {},
     "output_type": "execute_result"
    }
   ],
   "source": [
    "num_chunks = 5 // 4\n",
    "num_chunks"
   ]
  },
  {
   "cell_type": "markdown",
   "id": "0f909e22",
   "metadata": {},
   "source": [
    "# answer generation"
   ]
  },
  {
   "cell_type": "code",
   "execution_count": 1,
   "id": "e177c8e7",
   "metadata": {},
   "outputs": [
    {
     "name": "stderr",
     "output_type": "stream",
     "text": [
      "Answering:   5%|▍         | 1/22 [00:34<12:02, 34.40s/file]"
     ]
    },
    {
     "name": "stdout",
     "output_type": "stream",
     "text": [
      "Questions saved to outputs_answers/article_answers01.json\n"
     ]
    },
    {
     "name": "stderr",
     "output_type": "stream",
     "text": [
      "Answering:   9%|▉         | 2/22 [00:35<04:55, 14.78s/file]"
     ]
    },
    {
     "name": "stdout",
     "output_type": "stream",
     "text": [
      "Questions saved to outputs_answers/article_answers01.json\n"
     ]
    },
    {
     "name": "stderr",
     "output_type": "stream",
     "text": [
      "Answering:  14%|█▎        | 3/22 [01:08<07:22, 23.29s/file]"
     ]
    },
    {
     "name": "stdout",
     "output_type": "stream",
     "text": [
      "Questions saved to outputs_answers/article_answers01.json\n"
     ]
    },
    {
     "name": "stderr",
     "output_type": "stream",
     "text": [
      "Answering:  18%|█▊        | 4/22 [01:13<04:43, 15.78s/file]"
     ]
    },
    {
     "name": "stdout",
     "output_type": "stream",
     "text": [
      "Questions saved to outputs_answers/article_answers01.json\n"
     ]
    },
    {
     "name": "stderr",
     "output_type": "stream",
     "text": [
      "Answering:  23%|██▎       | 5/22 [01:38<05:28, 19.35s/file]"
     ]
    },
    {
     "name": "stdout",
     "output_type": "stream",
     "text": [
      "Questions saved to outputs_answers/article_answers01.json\n"
     ]
    },
    {
     "name": "stderr",
     "output_type": "stream",
     "text": [
      "Answering:  27%|██▋       | 6/22 [01:41<03:38, 13.63s/file]"
     ]
    },
    {
     "name": "stdout",
     "output_type": "stream",
     "text": [
      "Questions saved to outputs_answers/article_answers01.json\n"
     ]
    },
    {
     "name": "stderr",
     "output_type": "stream",
     "text": [
      "Answering:  32%|███▏      | 7/22 [02:11<04:45, 19.05s/file]"
     ]
    },
    {
     "name": "stdout",
     "output_type": "stream",
     "text": [
      "Questions saved to outputs_answers/article_answers01.json\n"
     ]
    },
    {
     "name": "stderr",
     "output_type": "stream",
     "text": [
      "Answering:  36%|███▋      | 8/22 [02:25<04:05, 17.57s/file]"
     ]
    },
    {
     "name": "stdout",
     "output_type": "stream",
     "text": [
      "Questions saved to outputs_answers/article_answers01.json\n"
     ]
    },
    {
     "name": "stderr",
     "output_type": "stream",
     "text": [
      "Answering:  41%|████      | 9/22 [02:50<04:17, 19.78s/file]"
     ]
    },
    {
     "name": "stdout",
     "output_type": "stream",
     "text": [
      "Questions saved to outputs_answers/article_answers01.json\n"
     ]
    },
    {
     "name": "stderr",
     "output_type": "stream",
     "text": [
      "Answering:  45%|████▌     | 10/22 [03:04<03:34, 17.89s/file]"
     ]
    },
    {
     "name": "stdout",
     "output_type": "stream",
     "text": [
      "Questions saved to outputs_answers/article_answers01.json\n"
     ]
    },
    {
     "name": "stderr",
     "output_type": "stream",
     "text": [
      "Answering:  50%|█████     | 11/22 [03:24<03:25, 18.67s/file]"
     ]
    },
    {
     "name": "stdout",
     "output_type": "stream",
     "text": [
      "Questions saved to outputs_answers/article_answers01.json\n"
     ]
    },
    {
     "name": "stderr",
     "output_type": "stream",
     "text": [
      "Answering:  55%|█████▍    | 12/22 [03:36<02:45, 16.55s/file]"
     ]
    },
    {
     "name": "stdout",
     "output_type": "stream",
     "text": [
      "Questions saved to outputs_answers/article_answers01.json\n"
     ]
    },
    {
     "name": "stderr",
     "output_type": "stream",
     "text": [
      "Answering:  59%|█████▉    | 13/22 [03:54<02:33, 17.06s/file]"
     ]
    },
    {
     "name": "stdout",
     "output_type": "stream",
     "text": [
      "Questions saved to outputs_answers/article_answers01.json\n"
     ]
    },
    {
     "name": "stderr",
     "output_type": "stream",
     "text": [
      "Answering:  64%|██████▎   | 14/22 [04:01<01:52, 14.10s/file]"
     ]
    },
    {
     "name": "stdout",
     "output_type": "stream",
     "text": [
      "Questions saved to outputs_answers/article_answers01.json\n"
     ]
    },
    {
     "name": "stderr",
     "output_type": "stream",
     "text": [
      "Answering:  68%|██████▊   | 15/22 [04:22<01:52, 16.06s/file]"
     ]
    },
    {
     "name": "stdout",
     "output_type": "stream",
     "text": [
      "Questions saved to outputs_answers/article_answers01.json\n"
     ]
    },
    {
     "name": "stderr",
     "output_type": "stream",
     "text": [
      "Answering:  73%|███████▎  | 16/22 [04:32<01:26, 14.39s/file]"
     ]
    },
    {
     "name": "stdout",
     "output_type": "stream",
     "text": [
      "Questions saved to outputs_answers/article_answers01.json\n"
     ]
    },
    {
     "name": "stderr",
     "output_type": "stream",
     "text": [
      "Answering:  77%|███████▋  | 17/22 [05:20<02:01, 24.34s/file]"
     ]
    },
    {
     "name": "stdout",
     "output_type": "stream",
     "text": [
      "Questions saved to outputs_answers/article_answers01.json\n"
     ]
    },
    {
     "name": "stderr",
     "output_type": "stream",
     "text": [
      "Answering:  82%|████████▏ | 18/22 [05:20<01:08, 17.10s/file]"
     ]
    },
    {
     "name": "stdout",
     "output_type": "stream",
     "text": [
      "Questions saved to outputs_answers/article_answers01.json\n"
     ]
    },
    {
     "name": "stderr",
     "output_type": "stream",
     "text": [
      "Answering:  86%|████████▋ | 19/22 [05:51<01:03, 21.24s/file]"
     ]
    },
    {
     "name": "stdout",
     "output_type": "stream",
     "text": [
      "Questions saved to outputs_answers/article_answers01.json\n"
     ]
    },
    {
     "name": "stderr",
     "output_type": "stream",
     "text": [
      "Answering:  91%|█████████ | 20/22 [06:02<00:36, 18.27s/file]"
     ]
    },
    {
     "name": "stdout",
     "output_type": "stream",
     "text": [
      "Questions saved to outputs_answers/article_answers01.json\n"
     ]
    },
    {
     "name": "stderr",
     "output_type": "stream",
     "text": [
      "Answering:  95%|█████████▌| 21/22 [06:05<00:13, 13.62s/file]"
     ]
    },
    {
     "name": "stdout",
     "output_type": "stream",
     "text": [
      "Questions saved to outputs_answers/article_answers01.json\n"
     ]
    },
    {
     "name": "stderr",
     "output_type": "stream",
     "text": [
      "Answering: 100%|██████████| 22/22 [06:20<00:00, 17.29s/file]\n"
     ]
    },
    {
     "name": "stdout",
     "output_type": "stream",
     "text": [
      "Questions saved to outputs_answers/article_answers01.json\n",
      "done 1,8-萘酰亚胺类有机小分子电致发光材料的研究进展_王启_llm_correct.md answers.\n"
     ]
    },
    {
     "name": "stderr",
     "output_type": "stream",
     "text": [
      "Answering:   6%|▌         | 1/17 [00:46<12:31, 46.99s/file]"
     ]
    },
    {
     "name": "stdout",
     "output_type": "stream",
     "text": [
      "Questions saved to outputs_answers/article_answers01.json\n"
     ]
    },
    {
     "name": "stderr",
     "output_type": "stream",
     "text": [
      "Answering:  12%|█▏        | 2/17 [00:52<05:37, 22.51s/file]"
     ]
    },
    {
     "name": "stdout",
     "output_type": "stream",
     "text": [
      "Questions saved to outputs_answers/article_answers01.json\n"
     ]
    },
    {
     "name": "stderr",
     "output_type": "stream",
     "text": [
      "Answering:  18%|█▊        | 3/17 [01:35<07:24, 31.73s/file]"
     ]
    },
    {
     "name": "stdout",
     "output_type": "stream",
     "text": [
      "Questions saved to outputs_answers/article_answers01.json\n"
     ]
    },
    {
     "name": "stderr",
     "output_type": "stream",
     "text": [
      "Answering:  24%|██▎       | 4/17 [01:44<04:56, 22.84s/file]"
     ]
    },
    {
     "name": "stdout",
     "output_type": "stream",
     "text": [
      "Questions saved to outputs_answers/article_answers01.json\n"
     ]
    },
    {
     "name": "stderr",
     "output_type": "stream",
     "text": [
      "Answering:  29%|██▉       | 5/17 [02:17<05:21, 26.75s/file]"
     ]
    },
    {
     "name": "stdout",
     "output_type": "stream",
     "text": [
      "Questions saved to outputs_answers/article_answers01.json\n"
     ]
    },
    {
     "name": "stderr",
     "output_type": "stream",
     "text": [
      "Answering:  35%|███▌      | 6/17 [02:19<03:19, 18.15s/file]"
     ]
    },
    {
     "name": "stdout",
     "output_type": "stream",
     "text": [
      "Questions saved to outputs_answers/article_answers01.json\n"
     ]
    },
    {
     "name": "stderr",
     "output_type": "stream",
     "text": [
      "Answering:  41%|████      | 7/17 [02:56<04:02, 24.22s/file]"
     ]
    },
    {
     "name": "stdout",
     "output_type": "stream",
     "text": [
      "Questions saved to outputs_answers/article_answers01.json\n"
     ]
    },
    {
     "name": "stderr",
     "output_type": "stream",
     "text": [
      "Answering:  47%|████▋     | 8/17 [03:40<04:34, 30.51s/file]"
     ]
    },
    {
     "name": "stdout",
     "output_type": "stream",
     "text": [
      "Questions saved to outputs_answers/article_answers01.json\n"
     ]
    },
    {
     "name": "stderr",
     "output_type": "stream",
     "text": [
      "Answering:  53%|█████▎    | 9/17 [04:03<03:47, 28.40s/file]"
     ]
    },
    {
     "name": "stdout",
     "output_type": "stream",
     "text": [
      "Questions saved to outputs_answers/article_answers01.json\n"
     ]
    },
    {
     "name": "stderr",
     "output_type": "stream",
     "text": [
      "Answering:  59%|█████▉    | 10/17 [04:23<02:59, 25.64s/file]"
     ]
    },
    {
     "name": "stdout",
     "output_type": "stream",
     "text": [
      "Questions saved to outputs_answers/article_answers01.json\n"
     ]
    },
    {
     "name": "stderr",
     "output_type": "stream",
     "text": [
      "Answering:  65%|██████▍   | 11/17 [04:41<02:19, 23.28s/file]"
     ]
    },
    {
     "name": "stdout",
     "output_type": "stream",
     "text": [
      "Questions saved to outputs_answers/article_answers01.json\n"
     ]
    },
    {
     "name": "stderr",
     "output_type": "stream",
     "text": [
      "Answering:  71%|███████   | 12/17 [05:09<02:04, 24.88s/file]"
     ]
    },
    {
     "name": "stdout",
     "output_type": "stream",
     "text": [
      "Questions saved to outputs_answers/article_answers01.json\n"
     ]
    },
    {
     "name": "stderr",
     "output_type": "stream",
     "text": [
      "Answering:  76%|███████▋  | 13/17 [05:27<01:30, 22.68s/file]"
     ]
    },
    {
     "name": "stdout",
     "output_type": "stream",
     "text": [
      "Questions saved to outputs_answers/article_answers01.json\n"
     ]
    },
    {
     "name": "stderr",
     "output_type": "stream",
     "text": [
      "Answering:  82%|████████▏ | 14/17 [05:51<01:08, 22.96s/file]"
     ]
    },
    {
     "name": "stdout",
     "output_type": "stream",
     "text": [
      "Questions saved to outputs_answers/article_answers01.json\n"
     ]
    },
    {
     "name": "stderr",
     "output_type": "stream",
     "text": [
      "Answering:  88%|████████▊ | 15/17 [06:08<00:42, 21.35s/file]"
     ]
    },
    {
     "name": "stdout",
     "output_type": "stream",
     "text": [
      "Questions saved to outputs_answers/article_answers01.json\n"
     ]
    },
    {
     "name": "stderr",
     "output_type": "stream",
     "text": [
      "Answering:  94%|█████████▍| 16/17 [06:15<00:17, 17.03s/file]"
     ]
    },
    {
     "name": "stdout",
     "output_type": "stream",
     "text": [
      "Questions saved to outputs_answers/article_answers01.json\n"
     ]
    },
    {
     "name": "stderr",
     "output_type": "stream",
     "text": [
      "Answering: 100%|██████████| 17/17 [06:24<00:00, 22.61s/file]\n"
     ]
    },
    {
     "name": "stdout",
     "output_type": "stream",
     "text": [
      "Questions saved to outputs_answers/article_answers01.json\n",
      "done 10万象素a-Si_TFT有源矩阵的优化技术_徐重阳_llm_correct.md answers.\n"
     ]
    },
    {
     "name": "stderr",
     "output_type": "stream",
     "text": [
      "Answering:   5%|▌         | 1/20 [00:42<13:21, 42.17s/file]"
     ]
    },
    {
     "name": "stdout",
     "output_type": "stream",
     "text": [
      "Questions saved to outputs_answers/article_answers01.json\n"
     ]
    },
    {
     "name": "stderr",
     "output_type": "stream",
     "text": [
      "Answering:  10%|█         | 2/20 [00:45<05:44, 19.13s/file]"
     ]
    },
    {
     "name": "stdout",
     "output_type": "stream",
     "text": [
      "Questions saved to outputs_answers/article_answers01.json\n"
     ]
    },
    {
     "name": "stderr",
     "output_type": "stream",
     "text": [
      "Answering:  15%|█▌        | 3/20 [01:22<07:45, 27.40s/file]"
     ]
    },
    {
     "name": "stdout",
     "output_type": "stream",
     "text": [
      "Questions saved to outputs_answers/article_answers01.json\n"
     ]
    },
    {
     "name": "stderr",
     "output_type": "stream",
     "text": [
      "Answering:  20%|██        | 4/20 [01:23<04:30, 16.89s/file]"
     ]
    },
    {
     "name": "stdout",
     "output_type": "stream",
     "text": [
      "Questions saved to outputs_answers/article_answers01.json\n"
     ]
    },
    {
     "name": "stderr",
     "output_type": "stream",
     "text": [
      "Answering:  25%|██▌       | 5/20 [01:56<05:44, 22.95s/file]"
     ]
    },
    {
     "name": "stdout",
     "output_type": "stream",
     "text": [
      "Questions saved to outputs_answers/article_answers01.json\n"
     ]
    },
    {
     "name": "stderr",
     "output_type": "stream",
     "text": [
      "Answering:  30%|███       | 6/20 [02:00<03:47, 16.27s/file]"
     ]
    },
    {
     "name": "stdout",
     "output_type": "stream",
     "text": [
      "Questions saved to outputs_answers/article_answers01.json\n"
     ]
    },
    {
     "name": "stderr",
     "output_type": "stream",
     "text": [
      "Answering:  35%|███▌      | 7/20 [02:24<04:07, 19.04s/file]"
     ]
    },
    {
     "name": "stdout",
     "output_type": "stream",
     "text": [
      "Questions saved to outputs_answers/article_answers01.json\n"
     ]
    },
    {
     "name": "stderr",
     "output_type": "stream",
     "text": [
      "Answering:  40%|████      | 8/20 [02:41<03:37, 18.12s/file]"
     ]
    },
    {
     "name": "stdout",
     "output_type": "stream",
     "text": [
      "Questions saved to outputs_answers/article_answers01.json\n"
     ]
    },
    {
     "name": "stderr",
     "output_type": "stream",
     "text": [
      "Answering:  45%|████▌     | 9/20 [03:01<03:28, 18.93s/file]"
     ]
    },
    {
     "name": "stdout",
     "output_type": "stream",
     "text": [
      "Questions saved to outputs_answers/article_answers01.json\n"
     ]
    },
    {
     "name": "stderr",
     "output_type": "stream",
     "text": [
      "Answering:  50%|█████     | 10/20 [03:08<02:32, 15.30s/file]"
     ]
    },
    {
     "name": "stdout",
     "output_type": "stream",
     "text": [
      "Questions saved to outputs_answers/article_answers01.json\n"
     ]
    },
    {
     "name": "stderr",
     "output_type": "stream",
     "text": [
      "Answering:  55%|█████▌    | 11/20 [03:59<03:56, 26.24s/file]"
     ]
    },
    {
     "name": "stdout",
     "output_type": "stream",
     "text": [
      "Questions saved to outputs_answers/article_answers01.json\n"
     ]
    },
    {
     "name": "stderr",
     "output_type": "stream",
     "text": [
      "Answering:  60%|██████    | 12/20 [04:32<03:44, 28.01s/file]"
     ]
    },
    {
     "name": "stdout",
     "output_type": "stream",
     "text": [
      "Questions saved to outputs_answers/article_answers01.json\n"
     ]
    },
    {
     "name": "stderr",
     "output_type": "stream",
     "text": [
      "Answering:  65%|██████▌   | 13/20 [04:42<02:38, 22.60s/file]"
     ]
    },
    {
     "name": "stdout",
     "output_type": "stream",
     "text": [
      "Questions saved to outputs_answers/article_answers01.json\n"
     ]
    },
    {
     "name": "stderr",
     "output_type": "stream",
     "text": [
      "Answering:  70%|███████   | 14/20 [05:06<02:18, 23.12s/file]"
     ]
    },
    {
     "name": "stdout",
     "output_type": "stream",
     "text": [
      "Questions saved to outputs_answers/article_answers01.json\n"
     ]
    },
    {
     "name": "stderr",
     "output_type": "stream",
     "text": [
      "Answering:  75%|███████▌  | 15/20 [05:22<01:44, 20.82s/file]"
     ]
    },
    {
     "name": "stdout",
     "output_type": "stream",
     "text": [
      "Questions saved to outputs_answers/article_answers01.json\n"
     ]
    },
    {
     "name": "stderr",
     "output_type": "stream",
     "text": [
      "Answering:  80%|████████  | 16/20 [05:32<01:10, 17.56s/file]"
     ]
    },
    {
     "name": "stdout",
     "output_type": "stream",
     "text": [
      "Questions saved to outputs_answers/article_answers01.json\n"
     ]
    },
    {
     "name": "stderr",
     "output_type": "stream",
     "text": [
      "Answering:  85%|████████▌ | 17/20 [05:56<00:58, 19.63s/file]"
     ]
    },
    {
     "name": "stdout",
     "output_type": "stream",
     "text": [
      "Questions saved to outputs_answers/article_answers01.json\n"
     ]
    },
    {
     "name": "stderr",
     "output_type": "stream",
     "text": [
      "Answering:  90%|█████████ | 18/20 [06:05<00:33, 16.59s/file]"
     ]
    },
    {
     "name": "stdout",
     "output_type": "stream",
     "text": [
      "Questions saved to outputs_answers/article_answers01.json\n"
     ]
    },
    {
     "name": "stderr",
     "output_type": "stream",
     "text": [
      "Answering:  95%|█████████▌| 19/20 [06:13<00:13, 13.82s/file]"
     ]
    },
    {
     "name": "stdout",
     "output_type": "stream",
     "text": [
      "Questions saved to outputs_answers/article_answers01.json\n"
     ]
    },
    {
     "name": "stderr",
     "output_type": "stream",
     "text": [
      "Answering: 100%|██████████| 20/20 [06:49<00:00, 20.46s/file]\n"
     ]
    },
    {
     "name": "stdout",
     "output_type": "stream",
     "text": [
      "Questions saved to outputs_answers/article_answers01.json\n",
      "done 10大新显示技术_llm_correct.md answers.\n"
     ]
    },
    {
     "name": "stderr",
     "output_type": "stream",
     "text": [
      "Answering:   7%|▋         | 1/14 [00:34<07:34, 34.97s/file]"
     ]
    },
    {
     "name": "stdout",
     "output_type": "stream",
     "text": [
      "Questions saved to outputs_answers/article_answers01.json\n"
     ]
    },
    {
     "name": "stderr",
     "output_type": "stream",
     "text": [
      "Answering:  14%|█▍        | 2/14 [00:45<04:04, 20.37s/file]"
     ]
    },
    {
     "name": "stdout",
     "output_type": "stream",
     "text": [
      "Questions saved to outputs_answers/article_answers01.json\n"
     ]
    },
    {
     "name": "stderr",
     "output_type": "stream",
     "text": [
      "Answering:  21%|██▏       | 3/14 [01:19<04:55, 26.91s/file]"
     ]
    },
    {
     "name": "stdout",
     "output_type": "stream",
     "text": [
      "Questions saved to outputs_answers/article_answers01.json\n"
     ]
    },
    {
     "name": "stderr",
     "output_type": "stream",
     "text": [
      "Answering:  29%|██▊       | 4/14 [01:31<03:28, 20.85s/file]"
     ]
    },
    {
     "name": "stdout",
     "output_type": "stream",
     "text": [
      "Questions saved to outputs_answers/article_answers01.json\n"
     ]
    },
    {
     "name": "stderr",
     "output_type": "stream",
     "text": [
      "Answering:  36%|███▌      | 5/14 [01:45<02:45, 18.39s/file]"
     ]
    },
    {
     "name": "stdout",
     "output_type": "stream",
     "text": [
      "Questions saved to outputs_answers/article_answers01.json\n"
     ]
    },
    {
     "name": "stderr",
     "output_type": "stream",
     "text": [
      "Answering:  43%|████▎     | 6/14 [02:12<02:49, 21.22s/file]"
     ]
    },
    {
     "name": "stdout",
     "output_type": "stream",
     "text": [
      "Questions saved to outputs_answers/article_answers01.json\n"
     ]
    },
    {
     "name": "stderr",
     "output_type": "stream",
     "text": [
      "Answering:  50%|█████     | 7/14 [02:23<02:05, 17.89s/file]"
     ]
    },
    {
     "name": "stdout",
     "output_type": "stream",
     "text": [
      "Questions saved to outputs_answers/article_answers01.json\n"
     ]
    },
    {
     "name": "stderr",
     "output_type": "stream",
     "text": [
      "Answering:  57%|█████▋    | 8/14 [02:50<02:04, 20.78s/file]"
     ]
    },
    {
     "name": "stdout",
     "output_type": "stream",
     "text": [
      "Questions saved to outputs_answers/article_answers01.json\n"
     ]
    },
    {
     "name": "stderr",
     "output_type": "stream",
     "text": [
      "Answering:  64%|██████▍   | 9/14 [03:03<01:31, 18.33s/file]"
     ]
    },
    {
     "name": "stdout",
     "output_type": "stream",
     "text": [
      "Questions saved to outputs_answers/article_answers01.json\n"
     ]
    },
    {
     "name": "stderr",
     "output_type": "stream",
     "text": [
      "Answering:  71%|███████▏  | 10/14 [03:32<01:26, 21.63s/file]"
     ]
    },
    {
     "name": "stdout",
     "output_type": "stream",
     "text": [
      "Questions saved to outputs_answers/article_answers01.json\n"
     ]
    },
    {
     "name": "stderr",
     "output_type": "stream",
     "text": [
      "Answering:  79%|███████▊  | 11/14 [03:44<00:56, 18.90s/file]"
     ]
    },
    {
     "name": "stdout",
     "output_type": "stream",
     "text": [
      "Questions saved to outputs_answers/article_answers01.json\n"
     ]
    },
    {
     "name": "stderr",
     "output_type": "stream",
     "text": [
      "Answering:  86%|████████▌ | 12/14 [04:14<00:44, 22.20s/file]"
     ]
    },
    {
     "name": "stdout",
     "output_type": "stream",
     "text": [
      "Questions saved to outputs_answers/article_answers01.json\n"
     ]
    },
    {
     "name": "stderr",
     "output_type": "stream",
     "text": [
      "Answering:  93%|█████████▎| 13/14 [04:20<00:17, 17.14s/file]"
     ]
    },
    {
     "name": "stdout",
     "output_type": "stream",
     "text": [
      "Questions saved to outputs_answers/article_answers01.json\n"
     ]
    },
    {
     "name": "stderr",
     "output_type": "stream",
     "text": [
      "Answering: 100%|██████████| 14/14 [05:00<00:00, 21.48s/file]\n"
     ]
    },
    {
     "name": "stdout",
     "output_type": "stream",
     "text": [
      "Questions saved to outputs_answers/article_answers01.json\n",
      "done 12.7cm彩色AM-OLED显示器分场驱动研究_沈亮_llm_correct.md answers.\n"
     ]
    },
    {
     "name": "stderr",
     "output_type": "stream",
     "text": [
      "Answering:   7%|▋         | 1/15 [00:46<10:52, 46.62s/file]"
     ]
    },
    {
     "name": "stdout",
     "output_type": "stream",
     "text": [
      "Questions saved to outputs_answers/article_answers01.json\n"
     ]
    },
    {
     "name": "stderr",
     "output_type": "stream",
     "text": [
      "Answering:  13%|█▎        | 2/15 [01:30<09:47, 45.21s/file]"
     ]
    },
    {
     "name": "stdout",
     "output_type": "stream",
     "text": [
      "Questions saved to outputs_answers/article_answers01.json\n"
     ]
    },
    {
     "name": "stderr",
     "output_type": "stream",
     "text": [
      "Answering:  20%|██        | 3/15 [02:11<08:34, 42.91s/file]"
     ]
    },
    {
     "name": "stdout",
     "output_type": "stream",
     "text": [
      "Questions saved to outputs_answers/article_answers01.json\n"
     ]
    },
    {
     "name": "stderr",
     "output_type": "stream",
     "text": [
      "Answering:  27%|██▋       | 4/15 [02:38<06:45, 36.83s/file]"
     ]
    },
    {
     "name": "stdout",
     "output_type": "stream",
     "text": [
      "Questions saved to outputs_answers/article_answers01.json\n"
     ]
    },
    {
     "name": "stderr",
     "output_type": "stream",
     "text": [
      "Answering:  33%|███▎      | 5/15 [03:05<05:33, 33.38s/file]"
     ]
    },
    {
     "name": "stdout",
     "output_type": "stream",
     "text": [
      "Questions saved to outputs_answers/article_answers01.json\n"
     ]
    },
    {
     "name": "stderr",
     "output_type": "stream",
     "text": [
      "Answering:  40%|████      | 6/15 [03:19<03:59, 26.63s/file]"
     ]
    },
    {
     "name": "stdout",
     "output_type": "stream",
     "text": [
      "Questions saved to outputs_answers/article_answers01.json\n"
     ]
    },
    {
     "name": "stderr",
     "output_type": "stream",
     "text": [
      "Answering:  47%|████▋     | 7/15 [03:47<03:36, 27.12s/file]"
     ]
    },
    {
     "name": "stdout",
     "output_type": "stream",
     "text": [
      "Questions saved to outputs_answers/article_answers01.json\n"
     ]
    },
    {
     "name": "stderr",
     "output_type": "stream",
     "text": [
      "Answering:  53%|█████▎    | 8/15 [04:05<02:49, 24.15s/file]"
     ]
    },
    {
     "name": "stdout",
     "output_type": "stream",
     "text": [
      "Questions saved to outputs_answers/article_answers01.json\n"
     ]
    },
    {
     "name": "stderr",
     "output_type": "stream",
     "text": [
      "Answering:  60%|██████    | 9/15 [04:21<02:09, 21.57s/file]"
     ]
    },
    {
     "name": "stdout",
     "output_type": "stream",
     "text": [
      "Questions saved to outputs_answers/article_answers01.json\n"
     ]
    },
    {
     "name": "stderr",
     "output_type": "stream",
     "text": [
      "Answering:  67%|██████▋   | 10/15 [04:52<02:02, 24.54s/file]"
     ]
    },
    {
     "name": "stdout",
     "output_type": "stream",
     "text": [
      "Questions saved to outputs_answers/article_answers01.json\n"
     ]
    },
    {
     "name": "stderr",
     "output_type": "stream",
     "text": [
      "Answering:  73%|███████▎  | 11/15 [05:16<01:37, 24.31s/file]"
     ]
    },
    {
     "name": "stdout",
     "output_type": "stream",
     "text": [
      "Questions saved to outputs_answers/article_answers01.json\n"
     ]
    },
    {
     "name": "stderr",
     "output_type": "stream",
     "text": [
      "Answering:  80%|████████  | 12/15 [05:47<01:19, 26.60s/file]"
     ]
    },
    {
     "name": "stdout",
     "output_type": "stream",
     "text": [
      "Questions saved to outputs_answers/article_answers01.json\n"
     ]
    },
    {
     "name": "stderr",
     "output_type": "stream",
     "text": [
      "Answering:  87%|████████▋ | 13/15 [06:05<00:47, 23.95s/file]"
     ]
    },
    {
     "name": "stdout",
     "output_type": "stream",
     "text": [
      "Questions saved to outputs_answers/article_answers01.json\n"
     ]
    },
    {
     "name": "stderr",
     "output_type": "stream",
     "text": [
      "Answering:  93%|█████████▎| 14/15 [06:15<00:19, 19.69s/file]"
     ]
    },
    {
     "name": "stdout",
     "output_type": "stream",
     "text": [
      "Questions saved to outputs_answers/article_answers01.json\n"
     ]
    },
    {
     "name": "stderr",
     "output_type": "stream",
     "text": [
      "Answering: 100%|██████████| 15/15 [06:29<00:00, 25.94s/file]"
     ]
    },
    {
     "name": "stdout",
     "output_type": "stream",
     "text": [
      "Questions saved to outputs_answers/article_answers01.json\n",
      "done 12.7cm彩色AM-OLED显示屏的驱动模块_张繁_llm_correct.md answers.\n"
     ]
    },
    {
     "name": "stderr",
     "output_type": "stream",
     "text": [
      "\n"
     ]
    }
   ],
   "source": [
    "from utils.answer_generation import build_openai_client_chat, gen_answer\n",
    "chat_model = build_openai_client_chat()\n",
    "questions_path = \"outputs_questions/article_questions02.json\"\n",
    "answers_path = \"outputs_answers/article_answers01.json\"\n",
    "gen_answer(questions_path, chat_model, answers_path)"
   ]
  },
  {
   "cell_type": "code",
   "execution_count": null,
   "id": "332a4463",
   "metadata": {},
   "outputs": [],
   "source": [
    "import json\n",
    "def load_questions(questions_path):\n",
    "    with open(questions_path, \"r\", encoding=\"utf-8\") as f:\n",
    "        articles = json.load(f)\n",
    "        return articles"
   ]
  },
  {
   "cell_type": "code",
   "execution_count": null,
   "id": "3de7272c",
   "metadata": {},
   "outputs": [],
   "source": [
    "articles_questions = load_questions(chunks_path)"
   ]
  },
  {
   "cell_type": "code",
   "execution_count": null,
   "id": "44d7a1a0",
   "metadata": {},
   "outputs": [],
   "source": [
    "prompt_templates = {\n",
    "    \"gpt\": \"\"\"\n",
    "        Question: {question}\\nContext: {context}\\n\n",
    "        Answer this question using the information given in the context above. Here is things to pay attention to: \n",
    "        - First provide step-by-step reasoning on how to answer the question. \n",
    "        - In the reasoning, if you need to copy paste some sentences from the context, include them in ##begin_quote## and ##end_quote##. This would mean that things outside of ##begin_quote## and ##end_quote## are not directly copy paste from the context. \n",
    "        - End your response with final answer in the form <ANSWER>: $answer, the answer should be succinct.\n",
    "        You MUST begin your final answer with the tag \"<ANSWER>:\".\n",
    "    \"\"\",\n",
    "    \"llama\": \"\"\"\n",
    "        Question: {question}\n",
    "        Context: {context}\n",
    "\n",
    "        Answer this question using the information given in the context above.\n",
    "        \n",
    "        Instructions:\n",
    "        - Provide step-by-step reasoning on how to answer the question.\n",
    "        - Explain which parts of the context are meaningful and why.\n",
    "        - Copy paste the relevant sentences from the context in ##begin_quote## and ##end_quote##.\n",
    "        - Provide a summary of how you reached your answer.\n",
    "        - End your response with the final answer in the form <ANSWER>: $answer, the answer should be succinct.\n",
    "        - You MUST begin your final answer with the tag \"<ANSWER>:\".\n",
    "\n",
    "        Here are some samples:\n",
    "\n",
    "        Example question: What movement did the arrest of Jack Weinberg in Sproul Plaza give rise to?\n",
    "        Example answer: To answer the question, we need to identify the movement that was sparked by the arrest of Jack Weinberg in Sproul Plaza. \n",
    "        The context provided gives us the necessary information to determine this.\n",
    "        First, we look for the part of the context that directly mentions Jack Weinberg's arrest. \n",
    "        We find it in the sentence: ##begin_quote##The arrest in Sproul Plaza of Jack Weinberg, a recent Berkeley alumnus and chair of Campus CORE, \n",
    "        prompted a series of student-led acts of formal remonstrance and civil disobedience that ultimately gave rise to the Free Speech Movement##end_quote##.\n",
    "        From this sentence, we understand that the arrest of Jack Weinberg led to student-led acts which then gave rise to a specific movement. \n",
    "        The name of the movement is explicitly mentioned in the same sentence as the \"Free Speech Movement.\"\n",
    "        Therefore, based on the context provided, we can conclude that the arrest of Jack Weinberg in Sproul Plaza gave rise to the Free Speech Movement.\n",
    "        <ANSWER>: Free Speech Movement\n",
    "    \"\"\",\n",
    "    \"deepseek\": \"\"\"\n",
    "        Question: {question}\\nContext: {context}\\n\n",
    "        使用上述给定的上下文，回答问题。注意：\n",
    "        - 首先，请提供有关如何回答问题的详细 reasoning。\n",
    "        - 在 reasoning 中，如果需要复制上下文中的某些句子，请将其包含在 ##begin_quote## 和 ##end_quote## 中。 这意味着 ##begin_quote## 和 ##end_quote## 之外的内容不是直接从上下文中复制的。\n",
    "        - 结束你的回答，以 final answer 的形式 <ANSWER>: $answer，答案应该简洁。\n",
    "        你必须以<Reasoning>: 开头，包含 reasoning 相关的内容；以 <ANSWER>: 开头，包含答案。\n",
    "    \"\"\",\n",
    "    \"deepseek-v2\": \"\"\"{\n",
    "        \"instruction\":\"你是一个半导体显示领域的资深专家，你掌握TFT、OLED、LCD、QLED、EE、Design等显示半导体显示领域内的相关知识。请根据输入中的切片信息和问题进行回答。切片信息是可能相关的资料，切片信息的内容庞杂，不一定会包含目标答案，请仔细阅读每个切片后再作答，不得出现错误。\",\n",
    "        \"input\": {\n",
    "            \"context\": \"{context}\",\n",
    "            \"question\": \"{question}\"\n",
    "        },\n",
    "        \"output\": {\n",
    "            \"answer\": \"根据切片中提供的有效信息对问题进行详尽的回答，推荐分点回答格式。\"\n",
    "        },\n",
    "        \"requirements\": {\n",
    "            \"criteria\": \"根据提供的切片信息提取有效信息进行回答\",\n",
    "            \"format\": \"输出内容必须用中文作答。\"\n",
    "        }\n",
    "    }\"\"\"\n",
    "}"
   ]
  },
  {
   "cell_type": "code",
   "execution_count": null,
   "id": "1aa6151a",
   "metadata": {},
   "outputs": [],
   "source": [
    "def gen_answer_prompt(question: str, chunk4: list[dict], prompt_key : str = \"gpt\") -> list[str]:\n",
    "    \"\"\"\n",
    "    Encode multiple prompt instructions into a single string for the general case (`pdf`, `json`, or `txt`).\n",
    "    \"\"\"\n",
    "    \n",
    "    messages = []\n",
    "    chunkstr = get_chunkstr(chunk4)\n",
    "    prompt = prompt_templates[prompt_key].replace(\"{question}\", question).replace(\"{context}\", chunkstr)\n",
    "    messages.append({\"role\": \"system\", \"content\": \"You are a helpful question answerer who can provide an answer given a question and relevant context.\"})\n",
    "    messages.append({\"role\": \"user\", \"content\": prompt})\n",
    "    return messages"
   ]
  },
  {
   "cell_type": "code",
   "execution_count": null,
   "id": "80dce453",
   "metadata": {},
   "outputs": [],
   "source": [
    "questions_path = \"outputs_answers/article_questions01.json\"\n",
    "answers_path = \"outputs_answers/article_answers01.json\"\n",
    "def gen_answer(questions_path, chat_model, answers_path):\n",
    "    articles = load_questions(questions_path)\n",
    "    for a_name,question_dicts in articles.items():\n",
    "        futures = []\n",
    "        with tqdm(total=num_chunks, desc=\"Chunking\", unit=\"file\") as pbar:\n",
    "            with ThreadPoolExecutor(max_workers=2) as executor:\n",
    "                for question_dict in question_dicts:\n",
    "                    chunk4 = question_dict[\"oracle_chunks\"]\n",
    "                    futures.append(executor.submit(generate_label, chat_model, chunk4, x=2, model=\" deepseek-r1-250120\", prompt_key=\"deepseek-v2\"))\n",
    "                for future in as_completed(futures):\n",
    "                    answers = future.result()\n",
    "                    save_answers(answers, a_name, answers_path)\n",
    "                print(f\"done {a_name} questions.\")\n",
    "\n",
    " \n",
    "def generate_label(chat_completer: ChatCompleter, question: str, chunk4: list[dict], doctype: DocType = \"md\", model: str = None, prompt_key : str = \"deepseek-v2\") -> str | None:\n",
    "    \"\"\"\n",
    "    Generates the label / answer to `question` using `context` and deepseek.\n",
    "    \"\"\"\n",
    "    messages = gen_answer_prompt(question, chunk4, prompt_key)\n",
    "    response = chat_completer(\n",
    "        model=model,\n",
    "        messages=messages,\n",
    "        n=1,\n",
    "        temperature=0,\n",
    "        max_tokens=2048,\n",
    "    )\n",
    "    reasoning_content = response.choices[0].message.reasoning_content\n",
    "    response = response.choices[0].message.content\n",
    "    return response, reasoning_content\n",
    "                "
   ]
  },
  {
   "cell_type": "markdown",
   "id": "cb0b3fc3",
   "metadata": {},
   "source": [
    "# data synthesis"
   ]
  },
  {
   "cell_type": "code",
   "execution_count": null,
   "id": "5380bd8d",
   "metadata": {},
   "outputs": [
    {
     "name": "stdout",
     "output_type": "stream",
     "text": [
      "Syndatas saved to outputs_syndatas/syndatas03.json\n",
      "Syndatas saved to outputs_syndatas/syndatas03_instruction.json\n",
      "done 1,8-萘酰亚胺类有机小分子电致发光材料的研究进展_王启_llm_correct.md syndata.\n",
      "Syndatas saved to outputs_syndatas/syndatas03.json\n",
      "Syndatas saved to outputs_syndatas/syndatas03_instruction.json\n",
      "done 10万象素a-Si_TFT有源矩阵的优化技术_徐重阳_llm_correct.md syndata.\n",
      "Syndatas saved to outputs_syndatas/syndatas03.json\n",
      "Syndatas saved to outputs_syndatas/syndatas03_instruction.json\n",
      "done 10大新显示技术_llm_correct.md syndata.\n",
      "Syndatas saved to outputs_syndatas/syndatas03.json\n",
      "Syndatas saved to outputs_syndatas/syndatas03_instruction.json\n",
      "done 12.7cm彩色AM-OLED显示器分场驱动研究_沈亮_llm_correct.md syndata.\n",
      "Syndatas saved to outputs_syndatas/syndatas03.json\n",
      "Syndatas saved to outputs_syndatas/syndatas03_instruction.json\n",
      "done 12.7cm彩色AM-OLED显示屏的驱动模块_张繁_llm_correct.md syndata.\n"
     ]
    }
   ],
   "source": [
    "from utils.data_synthesis import syn_data\n",
    "\n",
    "chunks_path = \"outputs_chunks/article_chunks02.json\"\n",
    "answers_path = \"outputs_answers/article_answers01.json\"\n",
    "syndatas_path = \"outputs_syndatas/syndatas03.json\"\n",
    "syn_data(chunks_path, answers_path, syndatas_path, num_distract=4)"
   ]
  },
  {
   "cell_type": "code",
   "execution_count": null,
   "id": "2cd577d0",
   "metadata": {},
   "outputs": [],
   "source": [
    "# import uuid\n",
    "import os\n",
    "import json\n",
    "import random\n",
    "from utils.common_utils import load_articles\n",
    "\n",
    "def save_syndatas(datasyn_list, filename):\n",
    "    # 判断 filename 是否存在，如果存在则追加写入，否则创建新文件\n",
    "    if os.path.exists(filename):\n",
    "        with open(filename, 'r', encoding=\"utf-8\") as f:\n",
    "            existing = json.load(f)\n",
    "        existing.extend(datasyn_list)\n",
    "        with open(filename, 'w', encoding=\"utf-8\") as f:\n",
    "            json.dump(existing, f, ensure_ascii=False, indent=4)\n",
    "    else:\n",
    "        with open(filename, 'w', encoding=\"utf-8\") as f:\n",
    "            json.dump(datasyn_list, f, ensure_ascii=False, indent=4)\n",
    "    print(f\"Syndatas saved to {filename}\")\n",
    "\n",
    "def syn_data(chunks_path, answers_path, syndatas_path, num_distract: int = 3):\n",
    "    articles_chunks = load_articles(chunks_path)\n",
    "    all_chunks = {}\n",
    "    for a_name,chunks in articles_chunks.items():\n",
    "        for chunk in chunks:\n",
    "            all_chunks[chunk[\"chunk_id\"]] = chunk\n",
    "    articles_answers = load_articles(answers_path)\n",
    "    for a_name,qa_dicts in articles_answers.items():\n",
    "        datasyn_list = []\n",
    "        for qa_dict in qa_dicts:\n",
    "            # datasyn = {\n",
    "            #     # \"id\": None,\n",
    "            #     \"type\": None,\n",
    "            #     \"question\": None,\n",
    "            #     \"noisy_chunks\": None,\n",
    "            #     \"oracle_chunks\": None,\n",
    "            #     \"reasoning_answer\": None\n",
    "            # }\n",
    "            chunk4 = qa_dict[\"oracle_chunks\"]\n",
    "            question = qa_dict[\"question\"]\n",
    "            reasoning_answer = qa_dict[\"reasoning_answer\"]\n",
    "            # datasyn[\"id\"] = str(uuid.uuid4())\n",
    "            # datasyn[\"type\"] = \"general\"\n",
    "            # datasyn[\"question\"] = question\n",
    "            # datasyn[\"oracle_chunks\"] = chunk4\n",
    "            # datasyn[\"reasoning_answer\"] = reasoning_answer\n",
    "            \n",
    "            docs = [chunk.copy() for chunk in qa_dict[\"oracle_chunks\"]]\n",
    "            indices = list(all_chunks.keys())\n",
    "            for chunk in chunk4:\n",
    "                if chunk[\"chunk_id\"] in indices:\n",
    "                    indices.remove(chunk[\"chunk_id\"])\n",
    "            for chunk_id in random.sample(indices, num_distract):\n",
    "                docs.append(all_chunks[chunk_id])\n",
    "            random.shuffle(docs)\n",
    "            # datasyn[\"noisy_chunks\"] = docs\n",
    "            # datasyn_list.append(datasyn)\n",
    "            \n",
    "            datasyn1 = {\n",
    "                \"instruction\": \"\",\n",
    "                \"input\": \"\",\n",
    "                \"output\": \"\"\n",
    "            }\n",
    "            instruction_prompt = \"\"\"{\n",
    "                \"instruction\":\"你是一个半导体显示领域的资深专家，你掌握TFT、OLED、LCD、QLED、EE、Design等显示半导体显示领域内的相关知识。请根据输入中的切片信息和问题进行回答。切片信息是可能相关的资料，切片信息的内容庞杂，不一定会包含目标答案，请仔细阅读每个切片后再作答，不得出现错误。\",\n",
    "                \"input\": {\n",
    "                    \"context\": \"{context}\",\n",
    "                    \"question\": \"{question}\"\n",
    "                },\n",
    "                \"output\": {\n",
    "                    \"answer\": \"根据切片中提供的有效信息对问题进行详尽的回答，推荐分点回答格式。\"\n",
    "                },\n",
    "                \"requirements\": {\n",
    "                    \"criteria\": \"根据提供的切片信息提取有效信息进行回答\",\n",
    "                    \"format\": \"输出内容必须用中文作答。\"\n",
    "                }\n",
    "            }\"\"\"\n",
    "            ichunkstr = get_chunkstr(docs)\n",
    "            instruction = instruction_prompt.replace(\"{context}\", ichunkstr).replace(\"{question}\", question)\n",
    "            datasyn1[\"instruction\"] = instruction\n",
    "            datasyn1[\"output\"] = reasoning_answer\n",
    "            datasyn_list.append(datasyn1)\n",
    "            \n",
    "        \n",
    "        save_syndatas(datasyn_list, syndatas_path)\n",
    "        print(f\"done {a_name} syndata.\")\n",
    "\n"
   ]
  },
  {
   "cell_type": "code",
   "execution_count": 19,
   "id": "5777063d",
   "metadata": {},
   "outputs": [
    {
     "name": "stdout",
     "output_type": "stream",
     "text": [
      "Syndatas saved to outputs_syndatas/syndatas02.json\n",
      "done 1,8-萘酰亚胺类有机小分子电致发光材料的研究进展_王启_llm_correct.md syndata.\n",
      "Syndatas saved to outputs_syndatas/syndatas02.json\n",
      "done 10万象素a-Si_TFT有源矩阵的优化技术_徐重阳_llm_correct.md syndata.\n",
      "Syndatas saved to outputs_syndatas/syndatas02.json\n",
      "done 10大新显示技术_llm_correct.md syndata.\n",
      "Syndatas saved to outputs_syndatas/syndatas02.json\n",
      "done 12.7cm彩色AM-OLED显示器分场驱动研究_沈亮_llm_correct.md syndata.\n",
      "Syndatas saved to outputs_syndatas/syndatas02.json\n",
      "done 12.7cm彩色AM-OLED显示屏的驱动模块_张繁_llm_correct.md syndata.\n"
     ]
    }
   ],
   "source": [
    "chunks_path = \"outputs_chunks/article_chunks02.json\"\n",
    "answers_path = \"outputs_answers/article_answers01.json\"\n",
    "syndatas_path = \"outputs_syndatas/syndatas02.json\"\n",
    "syn_data(chunks_path, answers_path, syndatas_path, num_distract=4)"
   ]
  },
  {
   "cell_type": "code",
   "execution_count": 14,
   "id": "33d335e8",
   "metadata": {},
   "outputs": [
    {
     "data": {
      "text/plain": [
       "[3, 10, 9, 2, 4, 6, 5, 8, 1, 7]"
      ]
     },
     "execution_count": 14,
     "metadata": {},
     "output_type": "execute_result"
    }
   ],
   "source": [
    "import random\n",
    "d1 = [1, 2, 3, 4, 5, 6, 7, 8, 9, 10]\n",
    "random.shuffle(d1)\n",
    "d1\n"
   ]
  }
 ],
 "metadata": {
  "kernelspec": {
   "display_name": "raft",
   "language": "python",
   "name": "python3"
  },
  "language_info": {
   "codemirror_mode": {
    "name": "ipython",
    "version": 3
   },
   "file_extension": ".py",
   "mimetype": "text/x-python",
   "name": "python",
   "nbconvert_exporter": "python",
   "pygments_lexer": "ipython3",
   "version": "3.10.17"
  }
 },
 "nbformat": 4,
 "nbformat_minor": 5
}

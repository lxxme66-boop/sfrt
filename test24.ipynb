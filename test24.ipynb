{
 "cells": [
  {
   "cell_type": "markdown",
   "id": "3866a26a",
   "metadata": {},
   "source": [
    "# 数据集合成 \n",
    "从 question_path 阶段开始"
   ]
  },
  {
   "cell_type": "code",
   "execution_count": null,
   "id": "dd39b285",
   "metadata": {},
   "outputs": [],
   "source": []
  },
  {
   "cell_type": "markdown",
   "id": "cebea3b6",
   "metadata": {},
   "source": [
    "# 数据集转换为excel"
   ]
  },
  {
   "cell_type": "code",
   "execution_count": 1,
   "id": "541d3cf3",
   "metadata": {},
   "outputs": [
    {
     "data": {
      "text/plain": [
       "{'id': 'a7add173-f4ab-4c73-b0c7-bfb753fc7f8d',\n",
       " 'question': '在补偿阶段，应用反向偏置到OLED如何通过AC驱动机制抑制OLED退化，进而实现高对比度？',\n",
       " 'noisy_chunks': [{'chunk': 'ratio. In this work, we propose a new top emission pixel circuit for AMOLED displays employing a voltage programmed method, which can effectively compensate for the threshold voltage variation of poly-Si TFTs and improve the aperture ratio. Meanwhile, the proposed pixel circuit offers an AC driving method for the OLED, which can suppress the degradation of the OLED, and a high contrast ratio can be achieved for AMOLED displays.',\n",
       "   'source': 'A new AC driv...ission AMOLED_张勇文_llm_correct.md',\n",
       "   'chunk_id': 'fe23afb8-98d0-4a36-a2c3-cb119768f40f',\n",
       "   'score': 4.852870464324951},\n",
       "  {'chunk': '$V_{\\\\mathrm{DATA}}$. So node A is charged up to a high specific value.node A is charged up to a high specific value. Compensation period: in this phase, $\\\\mathbf{SCAN1}(N)$ remains $V_{\\\\mathrm{GH}},$ and $\\\\mathrm{SCAN2}(N)$ is set to $V_{\\\\mathrm{GL}}$ to turn off T3, $V_{\\\\mathrm{DD}}(N-1)$ and $V_{\\\\mathrm{DD}}(N)$ remain $V_{\\\\mathrm{DD}}$ and $-V_{\\\\mathrm{c}}$ $(<0)$, respectively, so the OLED is reversed-biased. As node B is connected to the data signal line through T5, the voltage of node B is kept at',\n",
       "   'source': 'A new AC driv...ission AMOLED_张勇文_llm_correct.md',\n",
       "   'chunk_id': '12d4d3a8-6596-45df-8d49-a3eba9e96907',\n",
       "   'score': -0.1748826950788498},\n",
       "  {'chunk': '# 2. Proposed pixel circuit and operation',\n",
       "   'source': 'A new AC driv...ission AMOLED_张勇文_llm_correct.md',\n",
       "   'chunk_id': '2744b905-1e7c-4c15-be1f-5d1a3aac1a3d',\n",
       "   'score': -3.983673334121704},\n",
       "  {'chunk': 'Emission period: in the final phase, $V_{\\\\mathrm{DD}}(N)$ is set to $V_{\\\\mathrm{DD}}$ from $-V_{\\\\circ}$. To turn off T4 and T5, $\\\\mathbf{SCAN1}(N)$ is set to $V_{\\\\mathrm{GL}}$. As a result, the voltage at node A, stored in $C_{s}$, holds until the next frame. Therefore, the current flowing into the OLED is determined by the gate-source voltage of T1, which works in the saturation region.\\n$$\\n\\\\begin{array}{l}\\n{\\\\displaystyle I_{\\\\mathrm{OLED}}=\\\\frac{1}{2}k(V_{\\\\mathrm{GS1}}-V_{\\\\mathrm{TH-T1}})^{2}}\\\\\\\\',\n",
       "   'source': 'A new AC driv...ission AMOLED_张勇文_llm_correct.md',\n",
       "   'chunk_id': '3a444f36-e2f9-464f-9322-ac3ce3e86931',\n",
       "   'score': -4.324509143829346},\n",
       "  {'chunk': 'signal lines, while $V_{\\\\mathrm{data}}$ is the voltage data signal line. The operational scheme and compensation principle of the proposed circuit are described as follows. Presetting period: in this first stage, $V_{\\\\mathrm{DD}}(N-1)$ and $V_{\\\\mathrm{DD}}(N)$ are set to $V_{\\\\mathrm{DD}}$ and $-V_{\\\\mathrm{c}}\\\\ (<\\\\ 0)$, respectively, while SCAN1(N) and SCAN2(N) are set to $V_{\\\\mathrm{GH}}$ from $V_{\\\\mathrm{GL}}$ to turn on T3, T4, and T5, and $V_{\\\\mathrm{data}}$ has a certain data voltage,',\n",
       "   'source': 'A new AC driv...ission AMOLED_张勇文_llm_correct.md',\n",
       "   'chunk_id': '72fe060c-5fe8-4015-9804-9861594d268f',\n",
       "   'score': -5.409891128540039},\n",
       "  {'chunk': '![](images/98d649dbd50fe2b2dd6330d67a8782574b729e4c51f1490119ba752f599edede.jpg)\\nSchematic and control signal timing diagram. (1) Presetting period. (2) Compensation period. (3) Emission period\\nTable 1. Pixel parameters used for simulation. \\n| Parameter | Value |\\n| --- | --- |\\n| W/L(T1) | 12 μm/6 μm |\\n| W/L(T2) | 12 μm/6 μm |',\n",
       "   'source': 'A new AC driv...ission AMOLED_张勇文_llm_correct.md',\n",
       "   'chunk_id': '8e5a5f04-603d-4f7e-98d6-243e0bccbc4a',\n",
       "   'score': -6.196411609649658},\n",
       "  {'chunk': '$V_{\\\\mathrm{DATA}}$ in this period. As a result, the voltage stored in $C_{s}$ begins to discharge through T4 and T2 until T2 is turned off. Hence, at the end of this period, the voltage at node A equals $V_{\\\\mathrm{DATA}} + V_{\\\\mathrm{TH-T2}}$.',\n",
       "   'source': 'A new AC driv...ission AMOLED_张勇文_llm_correct.md',\n",
       "   'chunk_id': '7b61f353-459c-469f-89ac-8fcf1ea87b47',\n",
       "   'score': -7.202642917633057},\n",
       "  {'chunk': 'Figure 1 presents the proposed pixel circuit and its driving scheme. The proposed pixel circuit consists of five poly-Si TFTs and one capacitor: T1 determines the OLED current by analyzing the voltage stored in $C_{s}$. T2 offers the data voltage and $V_{\\\\mathrm{TH}}$ information for $C_{\\\\mathrm{s}}$. T3, T4, and T5 are switching TFTs. $V_{\\\\mathrm{DD}}(N-1)$ and $V_{\\\\mathrm{DD}}(N)$ are the pulse voltage source lines for the two adjacent rows. $\\\\mathbf{SCAN1}(N)$ and $\\\\mathbf{SCAN2}(N)$ are the control',\n",
       "   'source': 'A new AC driv...ission AMOLED_张勇文_llm_correct.md',\n",
       "   'chunk_id': 'afb214e1-ce5a-464c-93f3-c33e3f376177',\n",
       "   'score': -7.205844879150391}],\n",
       " 'oracle_chunks': [{'chunk': 'ratio. In this work, we propose a new top emission pixel circuit for AMOLED displays employing a voltage programmed method, which can effectively compensate for the threshold voltage variation of poly-Si TFTs and improve the aperture ratio. Meanwhile, the proposed pixel circuit offers an AC driving method for the OLED, which can suppress the degradation of the OLED, and a high contrast ratio can be achieved for AMOLED displays.',\n",
       "   'source': 'A new AC driv...ission AMOLED_张勇文_llm_correct.md',\n",
       "   'chunk_id': 'fe23afb8-98d0-4a36-a2c3-cb119768f40f',\n",
       "   'score': 4.852870464324951},\n",
       "  {'chunk': '# 2. Proposed pixel circuit and operation',\n",
       "   'source': 'A new AC driv...ission AMOLED_张勇文_llm_correct.md',\n",
       "   'chunk_id': '2744b905-1e7c-4c15-be1f-5d1a3aac1a3d',\n",
       "   'score': -3.983673334121704},\n",
       "  {'chunk': 'Figure 1 presents the proposed pixel circuit and its driving scheme. The proposed pixel circuit consists of five poly-Si TFTs and one capacitor: T1 determines the OLED current by analyzing the voltage stored in $C_{s}$. T2 offers the data voltage and $V_{\\\\mathrm{TH}}$ information for $C_{\\\\mathrm{s}}$. T3, T4, and T5 are switching TFTs. $V_{\\\\mathrm{DD}}(N-1)$ and $V_{\\\\mathrm{DD}}(N)$ are the pulse voltage source lines for the two adjacent rows. $\\\\mathbf{SCAN1}(N)$ and $\\\\mathbf{SCAN2}(N)$ are the control',\n",
       "   'source': 'A new AC driv...ission AMOLED_张勇文_llm_correct.md',\n",
       "   'chunk_id': 'afb214e1-ce5a-464c-93f3-c33e3f376177',\n",
       "   'score': -7.205844879150391},\n",
       "  {'chunk': 'signal lines, while $V_{\\\\mathrm{data}}$ is the voltage data signal line. The operational scheme and compensation principle of the proposed circuit are described as follows. Presetting period: in this first stage, $V_{\\\\mathrm{DD}}(N-1)$ and $V_{\\\\mathrm{DD}}(N)$ are set to $V_{\\\\mathrm{DD}}$ and $-V_{\\\\mathrm{c}}\\\\ (<\\\\ 0)$, respectively, while SCAN1(N) and SCAN2(N) are set to $V_{\\\\mathrm{GH}}$ from $V_{\\\\mathrm{GL}}$ to turn on T3, T4, and T5, and $V_{\\\\mathrm{data}}$ has a certain data voltage,',\n",
       "   'source': 'A new AC driv...ission AMOLED_张勇文_llm_correct.md',\n",
       "   'chunk_id': '72fe060c-5fe8-4015-9804-9861594d268f',\n",
       "   'score': -5.409891128540039},\n",
       "  {'chunk': '$V_{\\\\mathrm{DATA}}$. So node A is charged up to a high specific value.node A is charged up to a high specific value. Compensation period: in this phase, $\\\\mathbf{SCAN1}(N)$ remains $V_{\\\\mathrm{GH}},$ and $\\\\mathrm{SCAN2}(N)$ is set to $V_{\\\\mathrm{GL}}$ to turn off T3, $V_{\\\\mathrm{DD}}(N-1)$ and $V_{\\\\mathrm{DD}}(N)$ remain $V_{\\\\mathrm{DD}}$ and $-V_{\\\\mathrm{c}}$ $(<0)$, respectively, so the OLED is reversed-biased. As node B is connected to the data signal line through T5, the voltage of node B is kept at',\n",
       "   'source': 'A new AC driv...ission AMOLED_张勇文_llm_correct.md',\n",
       "   'chunk_id': '12d4d3a8-6596-45df-8d49-a3eba9e96907',\n",
       "   'score': -0.1748826950788498},\n",
       "  {'chunk': '$V_{\\\\mathrm{DATA}}$ in this period. As a result, the voltage stored in $C_{s}$ begins to discharge through T4 and T2 until T2 is turned off. Hence, at the end of this period, the voltage at node A equals $V_{\\\\mathrm{DATA}} + V_{\\\\mathrm{TH-T2}}$.',\n",
       "   'source': 'A new AC driv...ission AMOLED_张勇文_llm_correct.md',\n",
       "   'chunk_id': '7b61f353-459c-469f-89ac-8fcf1ea87b47',\n",
       "   'score': -7.202642917633057},\n",
       "  {'chunk': '![](images/98d649dbd50fe2b2dd6330d67a8782574b729e4c51f1490119ba752f599edede.jpg)\\nSchematic and control signal timing diagram. (1) Presetting period. (2) Compensation period. (3) Emission period\\nTable 1. Pixel parameters used for simulation. \\n| Parameter | Value |\\n| --- | --- |\\n| W/L(T1) | 12 μm/6 μm |\\n| W/L(T2) | 12 μm/6 μm |',\n",
       "   'source': 'A new AC driv...ission AMOLED_张勇文_llm_correct.md',\n",
       "   'chunk_id': '8e5a5f04-603d-4f7e-98d6-243e0bccbc4a',\n",
       "   'score': -6.196411609649658},\n",
       "  {'chunk': 'Emission period: in the final phase, $V_{\\\\mathrm{DD}}(N)$ is set to $V_{\\\\mathrm{DD}}$ from $-V_{\\\\circ}$. To turn off T4 and T5, $\\\\mathbf{SCAN1}(N)$ is set to $V_{\\\\mathrm{GL}}$. As a result, the voltage at node A, stored in $C_{s}$, holds until the next frame. Therefore, the current flowing into the OLED is determined by the gate-source voltage of T1, which works in the saturation region.\\n$$\\n\\\\begin{array}{l}\\n{\\\\displaystyle I_{\\\\mathrm{OLED}}=\\\\frac{1}{2}k(V_{\\\\mathrm{GS1}}-V_{\\\\mathrm{TH-T1}})^{2}}\\\\\\\\',\n",
       "   'source': 'A new AC driv...ission AMOLED_张勇文_llm_correct.md',\n",
       "   'chunk_id': '3a444f36-e2f9-464f-9322-ac3ce3e86931',\n",
       "   'score': -4.324509143829346}],\n",
       " 'reasoning_answer': '<think>嗯，用户的问题是关于AMOLED显示技术中AC驱动机制如何通过反向偏置抑制OLED退化并实现高对比度的。这个问题需要结合提供的切片信息和我的专业知识来回答。\\n\\n首先仔细分析切片内容。chunk0提到该像素电路采用AC驱动方法，能抑制OLED退化并实现高对比度。chunk1和chunk4描述了补偿阶段的具体操作：VDD(N)设置为负电压-Vc，使OLED处于反向偏置状态。chunk3的公式显示OLED电流仅与驱动TFT的栅源电压有关，不受阈值电压变化影响。\\n\\n从专业角度看，反向偏置的关键作用机制是：在非发光阶段给OLED施加反向电压，能中和发光阶段积累的离子电荷，避免形成不可逆的\"黑点\"。同时AC驱动通过定期反转电场方向，防止载流子单向堆积，从而延缓发光材料老化。高对比度则源于两点：一是反向偏置彻底关闭OLED消除漏光，二是补偿电路确保各像素亮度均匀。\\n\\n用户作为专业人士，可能更关注物理层面的作用机理。需要强调反向偏置对载流子运动的调节作用，以及Vth补偿对亮度一致性的保证。表格中的W/L参数也佐证了该设计的可行性。\\n\\n最后检查是否覆盖所有要点：反向偏置的作用原理、AC驱动的工作机制、高对比度的实现逻辑，以及补偿电路的关键价值。所有解释都严格基于切片数据和显示技术原理，没有添加外部假设。\\n\\n</think>\\n\\n\\n根据提供的切片信息和半导体显示专业知识，关于补偿阶段的反向偏置如何通过AC驱动抑制OLED退化并实现高对比度的机制，分析如下：\\n\\n### 一、反向偏置抑制OLED退化的机制（基于切片信息）\\n1. **消除载流子积累**（Chunk 1 & 4）  \\n   补偿阶段将 `VDD(N)` 设置为负电压 `-Vc`，使OLED阴极电压高于阳极，形成反向偏置。这迫使发光阶段残留在复合区的载流子（空穴/电子）被强制抽离，避免载流子堆积导致的材料非辐射复合，从而减缓发光层老化。\\n\\n2. **中和离子迁移效应**（专业机制补充）  \\n   反向电场可中和OLED有机层中迁移的离子杂质，防止其在界面处形成淬灭中心，维持电致发光效率的稳定性（切片中\"suppress degradation\"的物理本质）。\\n\\n---\\n\\n### 二、AC驱动实现高对比度的原理\\n1. **彻底关闭OLED**（Chunk 1 & 3）  \\n   补偿阶段的反向偏置使OLED电流截止（`I_OLED=0`），消除像素的微弱漏光。结合发光期精确的电流控制（Chunk 3公式），显著提升黑态纯净度——这是高对比度的核心基础。\\n\\n2. **阈值电压补偿保障均一性**（Chunk 0 & 7）  \\n   - 补偿期通过T2管将驱动管T1的阈值电压 `Vth-T2` 写入存储电容 `Cs`（Chunk 6）  \\n   - 发光期T1的栅源电压 `V_GS1 = V_DATA + |Vth-T2|`（Chunk 3公式）  \\n   - 电流公式 `I_OLED ∝ (V_DATA)^2` 消除TFT阈值电压漂移影响，确保全屏亮度一致性（切片中\"compensate threshold voltage variation\"的直接效果）。\\n\\n---\\n\\n### 三、AC驱动与反向偏置的协同效应\\n| 阶段        | 电源电压配置         | OLED偏置状态 | 核心作用                     |\\n|-------------|----------------------|--------------|------------------------------|\\n| **补偿期**  | `VDD(N) = -Vc`       | 反向偏置     | 清除载流子残留，抑制退化     |\\n| **发光期**  | `VDD(N) = VDD`       | 正向偏置     | 精确电流驱动，保障亮度均一   |\\n| **切换机制**| 行级脉冲控制（Chunk 7）| AC驱动      | 周期性刷新界面电荷状态       |\\n\\n> **关键结论**：AC驱动通过周期性反转OLED偏置方向，在非发光阶段主动清除导致老化的残留电荷；同时结合精准的阈值电压补偿，在发光阶段实现无偏差的电流驱动。二者协同作用，既延长OLED寿命（抑制退化），又通过消除漏光和亮度不均，最终达成高对比度显示（Chunk 0所述\"high contrast ratio\"的实现路径）。\\n\\n---\\n以上分析严格基于切片中披露的电路时序（Chunk 1/3/4）、补偿原理（Chunk 6/7）及器件行为（Chunk 3公式），并辅以OLED器件物理的专业知识完成逻辑闭环。'}"
      ]
     },
     "execution_count": 1,
     "metadata": {},
     "output_type": "execute_result"
    }
   ],
   "source": [
    "import json\n",
    "import pandas as pd\n",
    "import re\n",
    "\n",
    "# 1. 解析 JSON 数据\n",
    "with open(\"outputs_syndatas/syndatas14.json\", \"r\", encoding=\"utf-8\") as file:\n",
    "    json_data = json.load(file)\n",
    "json_data[0]"
   ]
  },
  {
   "cell_type": "code",
   "execution_count": 2,
   "id": "5736766b",
   "metadata": {},
   "outputs": [],
   "source": [
    "json_data_c = json_data[:10]"
   ]
  },
  {
   "cell_type": "code",
   "execution_count": 3,
   "id": "c8e6756e",
   "metadata": {},
   "outputs": [
    {
     "data": {
      "text/plain": [
       "{'问题': '在补偿阶段，应用反向偏置到OLED如何通过AC驱动机制抑制OLED退化，进而实现高对比度？',\n",
       " '推理': '嗯，用户的问题是关于AMOLED显示技术中AC驱动机制如何通过反向偏置抑制OLED退化并实现高对比度的。这个问题需要结合提供的切片信息和我的专业知识来回答。\\n\\n首先仔细分析切片内容。chunk0提到该像素电路采用AC驱动方法，能抑制OLED退化并实现高对比度。chunk1和chunk4描述了补偿阶段的具体操作：VDD(N)设置为负电压-Vc，使OLED处于反向偏置状态。chunk3的公式显示OLED电流仅与驱动TFT的栅源电压有关，不受阈值电压变化影响。\\n\\n从专业角度看，反向偏置的关键作用机制是：在非发光阶段给OLED施加反向电压，能中和发光阶段积累的离子电荷，避免形成不可逆的\"黑点\"。同时AC驱动通过定期反转电场方向，防止载流子单向堆积，从而延缓发光材料老化。高对比度则源于两点：一是反向偏置彻底关闭OLED消除漏光，二是补偿电路确保各像素亮度均匀。\\n\\n用户作为专业人士，可能更关注物理层面的作用机理。需要强调反向偏置对载流子运动的调节作用，以及Vth补偿对亮度一致性的保证。表格中的W/L参数也佐证了该设计的可行性。\\n\\n最后检查是否覆盖所有要点：反向偏置的作用原理、AC驱动的工作机制、高对比度的实现逻辑，以及补偿电路的关键价值。所有解释都严格基于切片数据和显示技术原理，没有添加外部假设。',\n",
       " '回答': '根据提供的切片信息和半导体显示专业知识，关于补偿阶段的反向偏置如何通过AC驱动抑制OLED退化并实现高对比度的机制，分析如下：\\n\\n### 一、反向偏置抑制OLED退化的机制（基于切片信息）\\n1. **消除载流子积累**（Chunk 1 & 4）  \\n   补偿阶段将 `VDD(N)` 设置为负电压 `-Vc`，使OLED阴极电压高于阳极，形成反向偏置。这迫使发光阶段残留在复合区的载流子（空穴/电子）被强制抽离，避免载流子堆积导致的材料非辐射复合，从而减缓发光层老化。\\n\\n2. **中和离子迁移效应**（专业机制补充）  \\n   反向电场可中和OLED有机层中迁移的离子杂质，防止其在界面处形成淬灭中心，维持电致发光效率的稳定性（切片中\"suppress degradation\"的物理本质）。\\n\\n---\\n\\n### 二、AC驱动实现高对比度的原理\\n1. **彻底关闭OLED**（Chunk 1 & 3）  \\n   补偿阶段的反向偏置使OLED电流截止（`I_OLED=0`），消除像素的微弱漏光。结合发光期精确的电流控制（Chunk 3公式），显著提升黑态纯净度——这是高对比度的核心基础。\\n\\n2. **阈值电压补偿保障均一性**（Chunk 0 & 7）  \\n   - 补偿期通过T2管将驱动管T1的阈值电压 `Vth-T2` 写入存储电容 `Cs`（Chunk 6）  \\n   - 发光期T1的栅源电压 `V_GS1 = V_DATA + |Vth-T2|`（Chunk 3公式）  \\n   - 电流公式 `I_OLED ∝ (V_DATA)^2` 消除TFT阈值电压漂移影响，确保全屏亮度一致性（切片中\"compensate threshold voltage variation\"的直接效果）。\\n\\n---\\n\\n### 三、AC驱动与反向偏置的协同效应\\n| 阶段        | 电源电压配置         | OLED偏置状态 | 核心作用                     |\\n|-------------|----------------------|--------------|------------------------------|\\n| **补偿期**  | `VDD(N) = -Vc`       | 反向偏置     | 清除载流子残留，抑制退化     |\\n| **发光期**  | `VDD(N) = VDD`       | 正向偏置     | 精确电流驱动，保障亮度均一   |\\n| **切换机制**| 行级脉冲控制（Chunk 7）| AC驱动      | 周期性刷新界面电荷状态       |\\n\\n> **关键结论**：AC驱动通过周期性反转OLED偏置方向，在非发光阶段主动清除导致老化的残留电荷；同时结合精准的阈值电压补偿，在发光阶段实现无偏差的电流驱动。二者协同作用，既延长OLED寿命（抑制退化），又通过消除漏光和亮度不均，最终达成高对比度显示（Chunk 0所述\"high contrast ratio\"的实现路径）。\\n\\n---\\n以上分析严格基于切片中披露的电路时序（Chunk 1/3/4）、补偿原理（Chunk 6/7）及器件行为（Chunk 3公式），并辅以OLED器件物理的专业知识完成逻辑闭环。'}"
      ]
     },
     "execution_count": 3,
     "metadata": {},
     "output_type": "execute_result"
    }
   ],
   "source": [
    "# 2. 处理数据提取\n",
    "processed_data = []\n",
    "\n",
    "for entry in json_data_c:\n",
    "    # 提取问题\n",
    "    question = entry[\"question\"]\n",
    "    \n",
    "    # 提取完整响应内容\n",
    "    full_content = entry[\"reasoning_answer\"]\n",
    "    \n",
    "    # 使用正则表达式分离推理和回答部分\n",
    "    reasoning_match = re.search(r'<think>(.*?)</think>', full_content, re.DOTALL)\n",
    "    reasoning = reasoning_match.group(1).strip() if reasoning_match else \"\"\n",
    "    # 提取答案部分：</think>之后的所有内容\n",
    "    answer_start = full_content.find('</think>') + len('</think>')\n",
    "    answer = full_content[answer_start:].strip()\n",
    "    \n",
    "    # 添加到处理后的数据集\n",
    "    processed_data.append({\n",
    "        \"问题\": question,\n",
    "        \"推理\": reasoning,\n",
    "        \"回答\": answer\n",
    "    })\n",
    "processed_data[0]"
   ]
  },
  {
   "cell_type": "code",
   "execution_count": 5,
   "id": "86c02bad",
   "metadata": {},
   "outputs": [
    {
     "name": "stdout",
     "output_type": "stream",
     "text": [
      "Excel文件已生成: outputs_excel/OLED_design_analysis_corrected.xlsx\n",
      "总处理条目数: 10\n"
     ]
    }
   ],
   "source": [
    "# 3. 转换为 DataFrame\n",
    "df = pd.DataFrame(processed_data)\n",
    "\n",
    "# 4. 保存为 Excel 文件\n",
    "excel_filename = \"outputs_excel/OLED_design_analysis_corrected.xlsx\"\n",
    "df.to_excel(excel_filename, index=False, engine='openpyxl')\n",
    "\n",
    "print(f\"Excel文件已生成: {excel_filename}\")\n",
    "print(f\"总处理条目数: {len(processed_data)}\")"
   ]
  },
  {
   "cell_type": "code",
   "execution_count": 6,
   "id": "cd583e44",
   "metadata": {},
   "outputs": [],
   "source": [
    "import json\n",
    "import pandas as pd\n",
    "import re\n",
    "def trans_syn2excel(syndata_path, output_path):\n",
    "    # 1. 解析 JSON 数据\n",
    "    with open(syndata_path, \"r\", encoding=\"utf-8\") as file:\n",
    "        json_data = json.load(file)\n",
    "    \n",
    "    # 2. 处理数据提取\n",
    "    processed_data = []\n",
    "    for entry in json_data:\n",
    "        # 提取问题\n",
    "        question = entry[\"question\"]\n",
    "        # 提取完整响应内容\n",
    "        full_content = entry[\"reasoning_answer\"]\n",
    "        # 使用正则表达式分离推理和回答部分\n",
    "        reasoning_match = re.search(r'<think>(.*?)</think>', full_content, re.DOTALL)\n",
    "        reasoning = reasoning_match.group(1).strip() if reasoning_match else \"\"\n",
    "        # 提取答案部分：</think>之后的所有内容\n",
    "        answer_start = full_content.find('</think>') + len('</think>')\n",
    "        answer = full_content[answer_start:].strip()\n",
    "        # 添加到处理后的数据集\n",
    "        processed_data.append({\n",
    "            \"问题\": question,\n",
    "            \"推理\": reasoning,\n",
    "            \"回答\": answer\n",
    "        })\n",
    "    \n",
    "    # 3. 转换为 DataFrame\n",
    "    df = pd.DataFrame(processed_data)\n",
    "    # 4. 保存为 Excel 文件\n",
    "    \n",
    "    df.to_excel(output_path, index=False, engine='openpyxl')\n",
    "    print(f\"Excel文件已生成: {excel_filename}\")\n",
    "    print(f\"总处理条目数: {len(processed_data)}\")"
   ]
  },
  {
   "cell_type": "code",
   "execution_count": 7,
   "id": "927685f6",
   "metadata": {},
   "outputs": [
    {
     "name": "stdout",
     "output_type": "stream",
     "text": [
      "Excel文件已生成: outputs_excel/OLED_design_analysis_corrected.xlsx\n",
      "总处理条目数: 51\n"
     ]
    }
   ],
   "source": [
    "syndata_path = \"outputs_syndatas/syndatas14.json\"\n",
    "output_path = \"outputs_excel/syndata_v1.xlsx\"\n",
    "trans_syn2excel(syndata_path, output_path)"
   ]
  },
  {
   "cell_type": "code",
   "execution_count": null,
   "id": "0a51a587",
   "metadata": {},
   "outputs": [
    {
     "name": "stdout",
     "output_type": "stream",
     "text": [
      "Excel文件已生成: outputs_excel/syndata_v2.xlsx\n",
      "总处理条目数: 42\n"
     ]
    },
    {
     "ename": "",
     "evalue": "",
     "output_type": "error",
     "traceback": [
      "\u001b[1;31mThe Kernel crashed while executing code in the current cell or a previous cell. \n",
      "\u001b[1;31mPlease review the code in the cell(s) to identify a possible cause of the failure. \n",
      "\u001b[1;31mClick <a href='https://aka.ms/vscodeJupyterKernelCrash'>here</a> for more info. \n",
      "\u001b[1;31mView Jupyter <a href='command:jupyter.viewOutput'>log</a> for further details."
     ]
    }
   ],
   "source": [
    "from utils.data_trans import trans_syn2excel\n",
    "\n",
    "syndata_path = \"outputs_syndatas/syndatas17.json\"\n",
    "output_path = \"outputs_excel/syndata_v2.xlsx\"\n",
    "trans_syn2excel(syndata_path, output_path)"
   ]
  },
  {
   "cell_type": "code",
   "execution_count": 2,
   "id": "f0898aeb",
   "metadata": {},
   "outputs": [
    {
     "data": {
      "text/plain": [
       "[5, 2, 4]"
      ]
     },
     "execution_count": 2,
     "metadata": {},
     "output_type": "execute_result"
    }
   ],
   "source": [
    "import random\n",
    "all_chunks = [1, 2, 3, 4, 5]\n",
    "# random.choice(all_chunks, 3)\n",
    "random.sample(all_chunks, 3)"
   ]
  },
  {
   "cell_type": "code",
   "execution_count": 1,
   "id": "0e1c4f37",
   "metadata": {},
   "outputs": [],
   "source": [
    "from utils.common_utils import load_articles\n",
    "def load_other_chunks(article_name, chunk4_path):\n",
    "    articles_chunks = load_articles(chunk4_path)\n",
    "    chunk4_list = []\n",
    "    for a_name, a_chunks in articles_chunks.items():\n",
    "        if a_name != article_name:\n",
    "            for chunk4 in a_chunks:\n",
    "                chunk4_list.extend(chunk4)\n",
    "    print(f\"all chunks - chunk4_list: {len(chunk4_list)}\")\n",
    "    return chunk4_list"
   ]
  },
  {
   "cell_type": "code",
   "execution_count": null,
   "id": "a4423f57",
   "metadata": {},
   "outputs": [],
   "source": [
    "from utils.retrieve_nodes import rerank_chunks\n",
    "import json\n",
    "filename = \"outputs_questions/article_question_with_topic16.json\"\n",
    "# chunk4_path = \"outputs_chunk4/article_chunk4_16.json\"\n",
    "with open(filename, 'r', encoding=\"utf-8\") as f:\n",
    "    existing_questions = json.load(f)\n",
    "    for a_name, a_topics in existing_questions.items():\n",
    "        for question_ele in a_topics:\n",
    "            question = question_ele[\"question\"]\n",
    "            noisy_chunks = question_ele[\"sorted_chunks\"]\n",
    "            sorted_chunks = rerank_chunks(question, noisy_chunks)\n",
    "            question_ele[\"sorted_chunks_2\"] = sorted_chunks\n",
    "with open(filename, 'w', encoding=\"utf-8\") as f:\n",
    "    json.dump(existing_questions, f, ensure_ascii=False, indent=4)\n",
    "    print(f\"转换sorted_chunks成功。\")"
   ]
  },
  {
   "cell_type": "code",
   "execution_count": null,
   "id": "94af02a8",
   "metadata": {},
   "outputs": [],
   "source": [
    "def sort_noisy_chunks(filename):\n",
    "    with open(filename, 'r', encoding=\"utf-8\") as f:\n",
    "        existing_questions = json.load(f)\n",
    "        for a_name, a_topics in existing_questions.items():\n",
    "            for question_ele in a_topics:\n",
    "                question = question_ele[\"question\"]\n",
    "                noisy_chunks = question_ele[\"sorted_chunks\"]\n",
    "                sorted_chunks = rerank_chunks(question, noisy_chunks)\n",
    "                question_ele[\"sorted_chunks\"] = sorted_chunks\n",
    "    with open(filename, 'w', encoding=\"utf-8\") as f:\n",
    "        json.dump(existing_questions, f, ensure_ascii=False, indent=4)\n",
    "        print(f\"转换sorted_chunks成功。\")"
   ]
  }
 ],
 "metadata": {
  "kernelspec": {
   "display_name": "raft",
   "language": "python",
   "name": "python3"
  },
  "language_info": {
   "codemirror_mode": {
    "name": "ipython",
    "version": 3
   },
   "file_extension": ".py",
   "mimetype": "text/x-python",
   "name": "python",
   "nbconvert_exporter": "python",
   "pygments_lexer": "ipython3",
   "version": "3.10.17"
  }
 },
 "nbformat": 4,
 "nbformat_minor": 5
}

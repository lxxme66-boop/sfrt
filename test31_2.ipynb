{
 "cells": [
  {
   "cell_type": "markdown",
   "id": "32dfcd1e",
   "metadata": {},
   "source": [
    "# 第二轮，从挑选论文开始   \n",
    "gen_chunk, gen_topic, gen_question, gen_answer. eval_syndata."
   ]
  },
  {
   "cell_type": "code",
   "execution_count": 1,
   "id": "d0825552",
   "metadata": {},
   "outputs": [
    {
     "name": "stdout",
     "output_type": "stream",
     "text": [
      "len(file_names): 3373\n",
      "从 embeddings.pkl 加载的 embeddings 形状: len=3373, len[0]=2560\n",
      "成功从 3373 篇可用论文中选取 397 篇新论文\n"
     ]
    }
   ],
   "source": [
    "from utils.article_filter import get_embedding_batch, balanced_sample_papers_v2, load_embeddings_pickle\n",
    "from utils.article_chunks_v2 import read_file_names\n",
    "data_dir = \"data\"\n",
    "filenames = read_file_names(data_dir, ext=\".md\")\n",
    "# 加载 embeddings\n",
    "file_path = \"embeddings.pkl\"\n",
    "embeddings = load_embeddings_pickle(file_path)\n",
    "# 改进的平衡抽样方法\n",
    "selected_papers, selected_clusters, cluster_info = balanced_sample_papers_v2(\n",
    "    filenames, embeddings, n_clusters=6, total_samples=400, min_samples=20, output_file=\"selected_papers_2.txt\"\n",
    ")"
   ]
  },
  {
   "cell_type": "code",
   "execution_count": 2,
   "id": "52783e87",
   "metadata": {},
   "outputs": [
    {
     "name": "stdout",
     "output_type": "stream",
     "text": [
      "成功从 selected_papers_2.txt 读取 397 篇论文标题\n",
      "filenames: 397\n"
     ]
    },
    {
     "name": "stderr",
     "output_type": "stream",
     "text": [
      "Chunking: 100%|██████████| 1/1 [00:00<00:00,  6.52file/s, chunks=30]\n"
     ]
    },
    {
     "name": "stdout",
     "output_type": "stream",
     "text": [
      "Chunks saved to outputs_pipeline/article1_chunks05.json\n"
     ]
    },
    {
     "name": "stderr",
     "output_type": "stream",
     "text": [
      "Chunking: 100%|██████████| 1/1 [00:00<00:00, 25.57file/s, chunks=15]\n"
     ]
    },
    {
     "name": "stdout",
     "output_type": "stream",
     "text": [
      "Chunks saved to outputs_pipeline/article1_chunks05.json\n"
     ]
    },
    {
     "name": "stderr",
     "output_type": "stream",
     "text": [
      "Chunking: 100%|██████████| 1/1 [00:00<00:00, 500.10file/s, chunks=12]\n"
     ]
    },
    {
     "name": "stdout",
     "output_type": "stream",
     "text": [
      "Chunks saved to outputs_pipeline/article1_chunks05.json\n"
     ]
    },
    {
     "name": "stderr",
     "output_type": "stream",
     "text": [
      "Chunking: 100%|██████████| 1/1 [00:00<00:00,  4.94file/s, chunks=22]\n"
     ]
    },
    {
     "name": "stdout",
     "output_type": "stream",
     "text": [
      "Chunks saved to outputs_pipeline/article1_chunks05.json\n"
     ]
    },
    {
     "name": "stderr",
     "output_type": "stream",
     "text": [
      "Chunking: 100%|██████████| 1/1 [00:00<00:00, 500.04file/s, chunks=26]\n"
     ]
    },
    {
     "name": "stdout",
     "output_type": "stream",
     "text": [
      "Chunks saved to outputs_pipeline/article1_chunks05.json\n"
     ]
    },
    {
     "name": "stderr",
     "output_type": "stream",
     "text": [
      "Chunking: 100%|██████████| 1/1 [00:00<00:00, 62.38file/s, chunks=27]\n"
     ]
    },
    {
     "name": "stdout",
     "output_type": "stream",
     "text": [
      "Chunks saved to outputs_pipeline/article1_chunks05.json\n"
     ]
    },
    {
     "name": "stderr",
     "output_type": "stream",
     "text": [
      "Chunking: 100%|██████████| 1/1 [00:00<00:00, 66.52file/s, chunks=34]\n"
     ]
    },
    {
     "name": "stdout",
     "output_type": "stream",
     "text": [
      "Chunks saved to outputs_pipeline/article1_chunks05.json\n"
     ]
    },
    {
     "name": "stderr",
     "output_type": "stream",
     "text": [
      "Chunking: 100%|██████████| 1/1 [00:00<00:00, 221.56file/s, chunks=19]\n"
     ]
    },
    {
     "name": "stdout",
     "output_type": "stream",
     "text": [
      "Chunks saved to outputs_pipeline/article1_chunks05.json\n"
     ]
    },
    {
     "name": "stderr",
     "output_type": "stream",
     "text": [
      "Chunking: 100%|██████████| 1/1 [00:00<00:00, 76.76file/s, chunks=23]\n"
     ]
    },
    {
     "name": "stdout",
     "output_type": "stream",
     "text": [
      "Chunks saved to outputs_pipeline/article1_chunks05.json\n"
     ]
    },
    {
     "name": "stderr",
     "output_type": "stream",
     "text": [
      "Chunking: 100%|██████████| 1/1 [00:00<00:00, 62.69file/s, chunks=8]\n"
     ]
    },
    {
     "name": "stdout",
     "output_type": "stream",
     "text": [
      "Chunks saved to outputs_pipeline/article1_chunks05.json\n"
     ]
    },
    {
     "name": "stderr",
     "output_type": "stream",
     "text": [
      "Chunking: 100%|██████████| 1/1 [00:00<00:00, 86.94file/s, chunks=21]\n"
     ]
    },
    {
     "name": "stdout",
     "output_type": "stream",
     "text": [
      "Chunks saved to outputs_pipeline/article1_chunks05.json\n"
     ]
    },
    {
     "name": "stderr",
     "output_type": "stream",
     "text": [
      "Chunking: 100%|██████████| 1/1 [00:00<00:00, 60.13file/s, chunks=23]\n"
     ]
    },
    {
     "name": "stdout",
     "output_type": "stream",
     "text": [
      "Chunks saved to outputs_pipeline/article1_chunks05.json\n"
     ]
    },
    {
     "name": "stderr",
     "output_type": "stream",
     "text": [
      "Chunking: 100%|██████████| 1/1 [00:00<00:00, 110.62file/s, chunks=20]\n"
     ]
    },
    {
     "name": "stdout",
     "output_type": "stream",
     "text": [
      "Chunks saved to outputs_pipeline/article1_chunks05.json\n"
     ]
    },
    {
     "name": "stderr",
     "output_type": "stream",
     "text": [
      "Chunking: 100%|██████████| 1/1 [00:00<00:00, 77.93file/s, chunks=25]\n"
     ]
    },
    {
     "name": "stdout",
     "output_type": "stream",
     "text": [
      "Chunks saved to outputs_pipeline/article1_chunks05.json\n"
     ]
    },
    {
     "name": "stderr",
     "output_type": "stream",
     "text": [
      "Chunking: 100%|██████████| 1/1 [00:00<00:00, 109.32file/s, chunks=18]"
     ]
    },
    {
     "name": "stdout",
     "output_type": "stream",
     "text": [
      "Chunks saved to outputs_pipeline/article1_chunks05.json"
     ]
    },
    {
     "name": "stderr",
     "output_type": "stream",
     "text": [
      "\n"
     ]
    },
    {
     "name": "stdout",
     "output_type": "stream",
     "text": [
      "\n"
     ]
    },
    {
     "name": "stderr",
     "output_type": "stream",
     "text": [
      "Chunking: 100%|██████████| 1/1 [00:00<00:00, 214.06file/s, chunks=16]\n"
     ]
    },
    {
     "name": "stdout",
     "output_type": "stream",
     "text": [
      "Chunks saved to outputs_pipeline/article1_chunks05.json\n"
     ]
    },
    {
     "name": "stderr",
     "output_type": "stream",
     "text": [
      "Chunking: 100%|██████████| 1/1 [00:00<00:00, 499.92file/s, chunks=29]\n"
     ]
    },
    {
     "name": "stdout",
     "output_type": "stream",
     "text": [
      "Chunks saved to outputs_pipeline/article1_chunks05.json\n"
     ]
    },
    {
     "name": "stderr",
     "output_type": "stream",
     "text": [
      "Chunking: 100%|██████████| 1/1 [00:00<00:00, 93.37file/s, chunks=40]\n"
     ]
    },
    {
     "name": "stdout",
     "output_type": "stream",
     "text": [
      "Chunks saved to outputs_pipeline/article1_chunks05.json\n"
     ]
    },
    {
     "name": "stderr",
     "output_type": "stream",
     "text": [
      "Chunking: 100%|██████████| 1/1 [00:00<00:00, 181.94file/s, chunks=16]\n"
     ]
    },
    {
     "name": "stdout",
     "output_type": "stream",
     "text": [
      "Chunks saved to outputs_pipeline/article1_chunks05.json\n"
     ]
    },
    {
     "name": "stderr",
     "output_type": "stream",
     "text": [
      "Chunking: 100%|██████████| 1/1 [00:00<00:00, 399.23file/s, chunks=33]\n"
     ]
    },
    {
     "name": "stdout",
     "output_type": "stream",
     "text": [
      "Chunks saved to outputs_pipeline/article1_chunks05.json\n"
     ]
    },
    {
     "name": "stderr",
     "output_type": "stream",
     "text": [
      "Chunking: 100%|██████████| 1/1 [00:00<00:00, 332.70file/s, chunks=20]\n"
     ]
    },
    {
     "name": "stdout",
     "output_type": "stream",
     "text": [
      "Chunks saved to outputs_pipeline/article1_chunks05.json\n"
     ]
    },
    {
     "name": "stderr",
     "output_type": "stream",
     "text": [
      "Chunking: 100%|██████████| 1/1 [00:00<00:00, 73.06file/s, chunks=33]"
     ]
    },
    {
     "name": "stdout",
     "output_type": "stream",
     "text": [
      "Chunks saved to outputs_pipeline/article1_chunks05.json"
     ]
    },
    {
     "name": "stderr",
     "output_type": "stream",
     "text": [
      "\n"
     ]
    },
    {
     "name": "stdout",
     "output_type": "stream",
     "text": [
      "\n"
     ]
    },
    {
     "name": "stderr",
     "output_type": "stream",
     "text": [
      "Chunking: 100%|██████████| 1/1 [00:00<00:00, 181.36file/s, chunks=6]"
     ]
    },
    {
     "name": "stdout",
     "output_type": "stream",
     "text": [
      "Chunks saved to outputs_pipeline/article1_chunks05.json"
     ]
    },
    {
     "name": "stderr",
     "output_type": "stream",
     "text": [
      "\n"
     ]
    },
    {
     "name": "stdout",
     "output_type": "stream",
     "text": [
      "\n"
     ]
    },
    {
     "name": "stderr",
     "output_type": "stream",
     "text": [
      "Chunking: 100%|██████████| 1/1 [00:00<00:00, 79.88file/s, chunks=24]\n"
     ]
    },
    {
     "name": "stdout",
     "output_type": "stream",
     "text": [
      "Chunks saved to outputs_pipeline/article1_chunks05.json\n"
     ]
    },
    {
     "name": "stderr",
     "output_type": "stream",
     "text": [
      "Chunking: 100%|██████████| 1/1 [00:00<00:00, 499.02file/s, chunks=25]\n"
     ]
    },
    {
     "name": "stdout",
     "output_type": "stream",
     "text": [
      "Chunks saved to outputs_pipeline/article1_chunks05.json\n"
     ]
    },
    {
     "name": "stderr",
     "output_type": "stream",
     "text": [
      "Chunking: 100%|██████████| 1/1 [00:00<00:00, 76.67file/s, chunks=20]\n"
     ]
    },
    {
     "name": "stdout",
     "output_type": "stream",
     "text": [
      "Chunks saved to outputs_pipeline/article1_chunks05.json\n"
     ]
    },
    {
     "name": "stderr",
     "output_type": "stream",
     "text": [
      "Chunking: 100%|██████████| 1/1 [00:00<00:00, 89.93file/s, chunks=15]\n"
     ]
    },
    {
     "name": "stdout",
     "output_type": "stream",
     "text": [
      "Chunks saved to outputs_pipeline/article1_chunks05.json\n"
     ]
    },
    {
     "name": "stderr",
     "output_type": "stream",
     "text": [
      "Chunking: 100%|██████████| 1/1 [00:00<00:00, 333.23file/s, chunks=14]\n"
     ]
    },
    {
     "name": "stdout",
     "output_type": "stream",
     "text": [
      "Chunks saved to outputs_pipeline/article1_chunks05.json\n"
     ]
    },
    {
     "name": "stderr",
     "output_type": "stream",
     "text": [
      "Chunking: 100%|██████████| 1/1 [00:00<00:00, 145.89file/s, chunks=32]\n"
     ]
    },
    {
     "name": "stdout",
     "output_type": "stream",
     "text": [
      "Chunks saved to outputs_pipeline/article1_chunks05.json\n"
     ]
    },
    {
     "name": "stderr",
     "output_type": "stream",
     "text": [
      "Chunking: 100%|██████████| 1/1 [00:00<00:00, 333.30file/s, chunks=20]\n"
     ]
    },
    {
     "name": "stdout",
     "output_type": "stream",
     "text": [
      "Chunks saved to outputs_pipeline/article1_chunks05.json\n"
     ]
    },
    {
     "name": "stderr",
     "output_type": "stream",
     "text": [
      "Chunking: 100%|██████████| 1/1 [00:00<00:00, 70.67file/s, chunks=13]\n"
     ]
    },
    {
     "name": "stdout",
     "output_type": "stream",
     "text": [
      "Chunks saved to outputs_pipeline/article1_chunks05.json\n"
     ]
    },
    {
     "name": "stderr",
     "output_type": "stream",
     "text": [
      "Chunking: 100%|██████████| 1/1 [00:00<00:00, 249.63file/s, chunks=43]\n"
     ]
    },
    {
     "name": "stdout",
     "output_type": "stream",
     "text": [
      "Chunks saved to outputs_pipeline/article1_chunks05.json\n"
     ]
    },
    {
     "name": "stderr",
     "output_type": "stream",
     "text": [
      "Chunking: 100%|██████████| 1/1 [00:00<00:00, 399.23file/s, chunks=14]\n"
     ]
    },
    {
     "name": "stdout",
     "output_type": "stream",
     "text": [
      "Chunks saved to outputs_pipeline/article1_chunks05.json\n"
     ]
    },
    {
     "name": "stderr",
     "output_type": "stream",
     "text": [
      "Chunking: 100%|██████████| 1/1 [00:00<00:00, 95.19file/s, chunks=24]\n"
     ]
    },
    {
     "name": "stdout",
     "output_type": "stream",
     "text": [
      "Chunks saved to outputs_pipeline/article1_chunks05.json\n"
     ]
    },
    {
     "name": "stderr",
     "output_type": "stream",
     "text": [
      "Chunking: 100%|██████████| 1/1 [00:00<00:00, 298.55file/s, chunks=23]\n"
     ]
    },
    {
     "name": "stdout",
     "output_type": "stream",
     "text": [
      "Chunks saved to outputs_pipeline/article1_chunks05.json\n"
     ]
    },
    {
     "name": "stderr",
     "output_type": "stream",
     "text": [
      "Chunking: 100%|██████████| 1/1 [00:00<00:00, 181.57file/s, chunks=46]\n"
     ]
    },
    {
     "name": "stdout",
     "output_type": "stream",
     "text": [
      "Chunks saved to outputs_pipeline/article1_chunks05.json\n"
     ]
    },
    {
     "name": "stderr",
     "output_type": "stream",
     "text": [
      "Chunking: 100%|██████████| 1/1 [00:00<00:00, 64.62file/s, chunks=5]\n"
     ]
    },
    {
     "name": "stdout",
     "output_type": "stream",
     "text": [
      "Chunks saved to outputs_pipeline/article1_chunks05.json\n"
     ]
    },
    {
     "name": "stderr",
     "output_type": "stream",
     "text": [
      "Chunking: 100%|██████████| 1/1 [00:00<00:00, 25.40file/s, chunks=11]\n"
     ]
    },
    {
     "name": "stdout",
     "output_type": "stream",
     "text": [
      "Chunks saved to outputs_pipeline/article1_chunks05.json\n"
     ]
    },
    {
     "name": "stderr",
     "output_type": "stream",
     "text": [
      "Chunking: 100%|██████████| 1/1 [00:00<00:00, 499.92file/s, chunks=16]\n"
     ]
    },
    {
     "name": "stdout",
     "output_type": "stream",
     "text": [
      "Chunks saved to outputs_pipeline/article1_chunks05.json\n"
     ]
    },
    {
     "name": "stderr",
     "output_type": "stream",
     "text": [
      "Chunking: 100%|██████████| 1/1 [00:00<00:00, 333.20file/s, chunks=20]\n"
     ]
    },
    {
     "name": "stdout",
     "output_type": "stream",
     "text": [
      "Chunks saved to outputs_pipeline/article1_chunks05.json\n"
     ]
    },
    {
     "name": "stderr",
     "output_type": "stream",
     "text": [
      "Chunking: 100%|██████████| 1/1 [00:00<00:00, 153.22file/s, chunks=4]\n"
     ]
    },
    {
     "name": "stdout",
     "output_type": "stream",
     "text": [
      "Chunks saved to outputs_pipeline/article1_chunks05.json\n"
     ]
    },
    {
     "name": "stderr",
     "output_type": "stream",
     "text": [
      "Chunking: 100%|██████████| 1/1 [00:00<00:00, 79.86file/s, chunks=19]\n"
     ]
    },
    {
     "name": "stdout",
     "output_type": "stream",
     "text": [
      "Chunks saved to outputs_pipeline/article1_chunks05.json\n"
     ]
    },
    {
     "name": "stderr",
     "output_type": "stream",
     "text": [
      "Chunking: 100%|██████████| 1/1 [00:00<00:00, 320.59file/s, chunks=13]\n"
     ]
    },
    {
     "name": "stdout",
     "output_type": "stream",
     "text": [
      "Chunks saved to outputs_pipeline/article1_chunks05.json\n"
     ]
    },
    {
     "name": "stderr",
     "output_type": "stream",
     "text": [
      "Chunking: 100%|██████████| 1/1 [00:00<00:00, 79.87file/s, chunks=7]\n"
     ]
    },
    {
     "name": "stdout",
     "output_type": "stream",
     "text": [
      "Chunks saved to outputs_pipeline/article1_chunks05.json\n"
     ]
    },
    {
     "name": "stderr",
     "output_type": "stream",
     "text": [
      "Chunking: 100%|██████████| 1/1 [00:00<00:00, 104.22file/s, chunks=25]\n"
     ]
    },
    {
     "name": "stdout",
     "output_type": "stream",
     "text": [
      "Chunks saved to outputs_pipeline/article1_chunks05.json\n"
     ]
    },
    {
     "name": "stderr",
     "output_type": "stream",
     "text": [
      "Chunking: 100%|██████████| 1/1 [00:00<00:00, 399.27file/s, chunks=9]\n"
     ]
    },
    {
     "name": "stdout",
     "output_type": "stream",
     "text": [
      "Chunks saved to outputs_pipeline/article1_chunks05.json\n"
     ]
    },
    {
     "name": "stderr",
     "output_type": "stream",
     "text": [
      "Chunking: 100%|██████████| 1/1 [00:00<00:00, 153.77file/s, chunks=17]\n"
     ]
    },
    {
     "name": "stdout",
     "output_type": "stream",
     "text": [
      "Chunks saved to outputs_pipeline/article1_chunks05.json\n"
     ]
    },
    {
     "name": "stderr",
     "output_type": "stream",
     "text": [
      "Chunking: 100%|██████████| 1/1 [00:00<00:00, 233.22file/s, chunks=6]"
     ]
    },
    {
     "name": "stdout",
     "output_type": "stream",
     "text": [
      "Chunks saved to outputs_pipeline/article1_chunks05.json"
     ]
    },
    {
     "name": "stderr",
     "output_type": "stream",
     "text": [
      "\n"
     ]
    },
    {
     "name": "stdout",
     "output_type": "stream",
     "text": [
      "\n"
     ]
    },
    {
     "name": "stderr",
     "output_type": "stream",
     "text": [
      "Chunking: 100%|██████████| 1/1 [00:00<00:00, 333.20file/s, chunks=18]\n"
     ]
    },
    {
     "name": "stdout",
     "output_type": "stream",
     "text": [
      "Chunks saved to outputs_pipeline/article1_chunks05.json\n"
     ]
    },
    {
     "name": "stderr",
     "output_type": "stream",
     "text": [
      "Chunking: 100%|██████████| 1/1 [00:00<00:00, 333.36file/s, chunks=18]\n"
     ]
    },
    {
     "name": "stdout",
     "output_type": "stream",
     "text": [
      "Chunks saved to outputs_pipeline/article1_chunks05.json\n"
     ]
    },
    {
     "name": "stderr",
     "output_type": "stream",
     "text": [
      "Chunking: 100%|██████████| 1/1 [00:00<00:00, 74.08file/s, chunks=79]"
     ]
    },
    {
     "name": "stdout",
     "output_type": "stream",
     "text": [
      "Chunks saved to outputs_pipeline/article1_chunks05.json"
     ]
    },
    {
     "name": "stderr",
     "output_type": "stream",
     "text": [
      "\n"
     ]
    },
    {
     "name": "stdout",
     "output_type": "stream",
     "text": [
      "\n"
     ]
    },
    {
     "name": "stderr",
     "output_type": "stream",
     "text": [
      "Chunking: 100%|██████████| 1/1 [00:00<00:00, 502.49file/s, chunks=3]\n"
     ]
    },
    {
     "name": "stdout",
     "output_type": "stream",
     "text": [
      "Chunks saved to outputs_pipeline/article1_chunks05.json\n"
     ]
    },
    {
     "name": "stderr",
     "output_type": "stream",
     "text": [
      "Chunking: 100%|██████████| 1/1 [00:00<00:00, 499.68file/s, chunks=8]\n"
     ]
    },
    {
     "name": "stdout",
     "output_type": "stream",
     "text": [
      "Chunks saved to outputs_pipeline/article1_chunks05.json\n"
     ]
    },
    {
     "name": "stderr",
     "output_type": "stream",
     "text": [
      "Chunking: 100%|██████████| 1/1 [00:00<00:00, 79.35file/s, chunks=38]\n"
     ]
    },
    {
     "name": "stdout",
     "output_type": "stream",
     "text": [
      "Chunks saved to outputs_pipeline/article1_chunks05.json\n"
     ]
    },
    {
     "name": "stderr",
     "output_type": "stream",
     "text": [
      "Chunking: 100%|██████████| 1/1 [00:00<00:00, 105.18file/s, chunks=32]\n"
     ]
    },
    {
     "name": "stdout",
     "output_type": "stream",
     "text": [
      "Chunks saved to outputs_pipeline/article1_chunks05.json\n"
     ]
    },
    {
     "name": "stderr",
     "output_type": "stream",
     "text": [
      "Chunking: 100%|██████████| 1/1 [00:00<00:00, 21.00file/s, chunks=29]"
     ]
    },
    {
     "name": "stdout",
     "output_type": "stream",
     "text": [
      "Chunks saved to outputs_pipeline/article1_chunks05.json\n"
     ]
    },
    {
     "name": "stderr",
     "output_type": "stream",
     "text": [
      "\n",
      "Chunking: 100%|██████████| 1/1 [00:00<00:00, 178.74file/s, chunks=11]\n"
     ]
    },
    {
     "name": "stdout",
     "output_type": "stream",
     "text": [
      "Chunks saved to outputs_pipeline/article1_chunks05.json\n"
     ]
    },
    {
     "name": "stderr",
     "output_type": "stream",
     "text": [
      "Chunking: 100%|██████████| 1/1 [00:00<00:00, 333.44file/s, chunks=26]\n"
     ]
    },
    {
     "name": "stdout",
     "output_type": "stream",
     "text": [
      "Chunks saved to outputs_pipeline/article1_chunks05.json\n"
     ]
    },
    {
     "name": "stderr",
     "output_type": "stream",
     "text": [
      "Chunking: 100%|██████████| 1/1 [00:00<00:00, 83.21file/s, chunks=87]\n"
     ]
    },
    {
     "name": "stdout",
     "output_type": "stream",
     "text": [
      "Chunks saved to outputs_pipeline/article1_chunks05.json\n"
     ]
    },
    {
     "name": "stderr",
     "output_type": "stream",
     "text": [
      "Chunking: 100%|██████████| 1/1 [00:00<00:00, 142.58file/s, chunks=29]"
     ]
    },
    {
     "name": "stdout",
     "output_type": "stream",
     "text": [
      "Chunks saved to outputs_pipeline/article1_chunks05.json"
     ]
    },
    {
     "name": "stderr",
     "output_type": "stream",
     "text": [
      "\n"
     ]
    },
    {
     "name": "stdout",
     "output_type": "stream",
     "text": [
      "\n"
     ]
    },
    {
     "name": "stderr",
     "output_type": "stream",
     "text": [
      "Chunking: 100%|██████████| 1/1 [00:00<00:00, 65.44file/s, chunks=80]\n"
     ]
    },
    {
     "name": "stdout",
     "output_type": "stream",
     "text": [
      "Chunks saved to outputs_pipeline/article1_chunks05.json\n"
     ]
    },
    {
     "name": "stderr",
     "output_type": "stream",
     "text": [
      "Chunking: 100%|██████████| 1/1 [00:00<00:00, 663.13file/s, chunks=23]\n"
     ]
    },
    {
     "name": "stdout",
     "output_type": "stream",
     "text": [
      "Chunks saved to outputs_pipeline/article1_chunks05.json\n"
     ]
    },
    {
     "name": "stderr",
     "output_type": "stream",
     "text": [
      "Chunking: 100%|██████████| 1/1 [00:00<00:00, 333.30file/s, chunks=33]\n"
     ]
    },
    {
     "name": "stdout",
     "output_type": "stream",
     "text": [
      "Chunks saved to outputs_pipeline/article1_chunks05.json\n"
     ]
    },
    {
     "name": "stderr",
     "output_type": "stream",
     "text": [
      "Chunking: 100%|██████████| 1/1 [00:00<00:00, 199.93file/s, chunks=43]\n"
     ]
    },
    {
     "name": "stdout",
     "output_type": "stream",
     "text": [
      "Chunks saved to outputs_pipeline/article1_chunks05.json\n"
     ]
    },
    {
     "name": "stderr",
     "output_type": "stream",
     "text": [
      "Chunking: 100%|██████████| 1/1 [00:00<00:00, 333.38file/s, chunks=9]\n"
     ]
    },
    {
     "name": "stdout",
     "output_type": "stream",
     "text": [
      "Chunks saved to outputs_pipeline/article1_chunks05.json\n"
     ]
    },
    {
     "name": "stderr",
     "output_type": "stream",
     "text": [
      "Chunking: 100%|██████████| 1/1 [00:00<00:00, 95.54file/s, chunks=24]\n"
     ]
    },
    {
     "name": "stdout",
     "output_type": "stream",
     "text": [
      "Chunks saved to outputs_pipeline/article1_chunks05.json\n"
     ]
    },
    {
     "name": "stderr",
     "output_type": "stream",
     "text": [
      "Chunking: 100%|██████████| 1/1 [00:00<00:00, 196.53file/s, chunks=25]\n"
     ]
    },
    {
     "name": "stdout",
     "output_type": "stream",
     "text": [
      "Chunks saved to outputs_pipeline/article1_chunks05.json\n"
     ]
    },
    {
     "name": "stderr",
     "output_type": "stream",
     "text": [
      "Chunking: 100%|██████████| 1/1 [00:00<00:00, 333.36file/s, chunks=8]\n"
     ]
    },
    {
     "name": "stdout",
     "output_type": "stream",
     "text": [
      "Chunks saved to outputs_pipeline/article1_chunks05.json\n"
     ]
    },
    {
     "name": "stderr",
     "output_type": "stream",
     "text": [
      "Chunking: 100%|██████████| 1/1 [00:00<00:00, 95.14file/s, chunks=17]\n"
     ]
    },
    {
     "name": "stdout",
     "output_type": "stream",
     "text": [
      "Chunks saved to outputs_pipeline/article1_chunks05.json\n"
     ]
    },
    {
     "name": "stderr",
     "output_type": "stream",
     "text": [
      "Chunking: 100%|██████████| 1/1 [00:00<00:00, 105.05file/s, chunks=53]\n"
     ]
    },
    {
     "name": "stdout",
     "output_type": "stream",
     "text": [
      "Chunks saved to outputs_pipeline/article1_chunks05.json\n"
     ]
    },
    {
     "name": "stderr",
     "output_type": "stream",
     "text": [
      "Chunking: 100%|██████████| 1/1 [00:00<00:00, 499.98file/s, chunks=24]\n"
     ]
    },
    {
     "name": "stdout",
     "output_type": "stream",
     "text": [
      "Chunks saved to outputs_pipeline/article1_chunks05.json\n"
     ]
    },
    {
     "name": "stderr",
     "output_type": "stream",
     "text": [
      "Chunking: 100%|██████████| 1/1 [00:00<00:00, 333.46file/s, chunks=13]\n"
     ]
    },
    {
     "name": "stdout",
     "output_type": "stream",
     "text": [
      "Chunks saved to outputs_pipeline/article1_chunks05.json\n"
     ]
    },
    {
     "name": "stderr",
     "output_type": "stream",
     "text": [
      "Chunking: 100%|██████████| 1/1 [00:00<00:00, 332.96file/s, chunks=38]"
     ]
    },
    {
     "name": "stdout",
     "output_type": "stream",
     "text": [
      "Chunks saved to outputs_pipeline/article1_chunks05.json"
     ]
    },
    {
     "name": "stderr",
     "output_type": "stream",
     "text": [
      "\n"
     ]
    },
    {
     "name": "stdout",
     "output_type": "stream",
     "text": [
      "\n"
     ]
    },
    {
     "name": "stderr",
     "output_type": "stream",
     "text": [
      "Chunking: 100%|██████████| 1/1 [00:00<00:00, 323.78file/s, chunks=24]\n"
     ]
    },
    {
     "name": "stdout",
     "output_type": "stream",
     "text": [
      "Chunks saved to outputs_pipeline/article1_chunks05.json\n"
     ]
    },
    {
     "name": "stderr",
     "output_type": "stream",
     "text": [
      "Chunking: 100%|██████████| 1/1 [00:00<00:00, 1000.55file/s, chunks=25]"
     ]
    },
    {
     "name": "stdout",
     "output_type": "stream",
     "text": [
      "Chunks saved to outputs_pipeline/article1_chunks05.json"
     ]
    },
    {
     "name": "stderr",
     "output_type": "stream",
     "text": [
      "\n"
     ]
    },
    {
     "name": "stdout",
     "output_type": "stream",
     "text": [
      "\n"
     ]
    },
    {
     "name": "stderr",
     "output_type": "stream",
     "text": [
      "Chunking: 100%|██████████| 1/1 [00:00<00:00, 39.16file/s, chunks=28]\n"
     ]
    },
    {
     "name": "stdout",
     "output_type": "stream",
     "text": [
      "Chunks saved to outputs_pipeline/article1_chunks05.json\n"
     ]
    },
    {
     "name": "stderr",
     "output_type": "stream",
     "text": [
      "Chunking: 100%|██████████| 1/1 [00:00<00:00, 62.57file/s, chunks=27]\n"
     ]
    },
    {
     "name": "stdout",
     "output_type": "stream",
     "text": [
      "Chunks saved to outputs_pipeline/article1_chunks05.json\n"
     ]
    },
    {
     "name": "stderr",
     "output_type": "stream",
     "text": [
      "Chunking: 100%|██████████| 1/1 [00:00<00:00, 76.90file/s, chunks=22]\n"
     ]
    },
    {
     "name": "stdout",
     "output_type": "stream",
     "text": [
      "Chunks saved to outputs_pipeline/article1_chunks05.json\n"
     ]
    },
    {
     "name": "stderr",
     "output_type": "stream",
     "text": [
      "Chunking: 100%|██████████| 1/1 [00:00<00:00, 333.36file/s, chunks=35]\n"
     ]
    },
    {
     "name": "stdout",
     "output_type": "stream",
     "text": [
      "Chunks saved to outputs_pipeline/article1_chunks05.json\n"
     ]
    },
    {
     "name": "stderr",
     "output_type": "stream",
     "text": [
      "Chunking: 100%|██████████| 1/1 [00:00<00:00, 333.38file/s, chunks=52]\n"
     ]
    },
    {
     "name": "stdout",
     "output_type": "stream",
     "text": [
      "Chunks saved to outputs_pipeline/article1_chunks05.json\n"
     ]
    },
    {
     "name": "stderr",
     "output_type": "stream",
     "text": [
      "Chunking: 100%|██████████| 1/1 [00:00<00:00, 58.81file/s, chunks=83]\n"
     ]
    },
    {
     "name": "stdout",
     "output_type": "stream",
     "text": [
      "Chunks saved to outputs_pipeline/article1_chunks05.json\n"
     ]
    },
    {
     "name": "stderr",
     "output_type": "stream",
     "text": [
      "Chunking: 100%|██████████| 1/1 [00:00<00:00, 500.10file/s, chunks=5]\n"
     ]
    },
    {
     "name": "stdout",
     "output_type": "stream",
     "text": [
      "Chunks saved to outputs_pipeline/article1_chunks05.json\n"
     ]
    },
    {
     "name": "stderr",
     "output_type": "stream",
     "text": [
      "Chunking: 100%|██████████| 1/1 [00:00<00:00, 62.68file/s, chunks=44]\n"
     ]
    },
    {
     "name": "stdout",
     "output_type": "stream",
     "text": [
      "Chunks saved to outputs_pipeline/article1_chunks05.json\n"
     ]
    },
    {
     "name": "stderr",
     "output_type": "stream",
     "text": [
      "Chunking: 100%|██████████| 1/1 [00:00<00:00, 332.85file/s, chunks=9]"
     ]
    },
    {
     "name": "stdout",
     "output_type": "stream",
     "text": [
      "Chunks saved to outputs_pipeline/article1_chunks05.json"
     ]
    },
    {
     "name": "stderr",
     "output_type": "stream",
     "text": [
      "\n"
     ]
    },
    {
     "name": "stdout",
     "output_type": "stream",
     "text": [
      "\n"
     ]
    },
    {
     "name": "stderr",
     "output_type": "stream",
     "text": [
      "Chunking: 100%|██████████| 1/1 [00:00<00:00, 198.36file/s, chunks=45]\n"
     ]
    },
    {
     "name": "stdout",
     "output_type": "stream",
     "text": [
      "Chunks saved to outputs_pipeline/article1_chunks05.json\n"
     ]
    },
    {
     "name": "stderr",
     "output_type": "stream",
     "text": [
      "Chunking: 100%|██████████| 1/1 [00:00<00:00, 200.06file/s, chunks=38]\n"
     ]
    },
    {
     "name": "stdout",
     "output_type": "stream",
     "text": [
      "Chunks saved to outputs_pipeline/article1_chunks05.json\n"
     ]
    },
    {
     "name": "stderr",
     "output_type": "stream",
     "text": [
      "Chunking: 100%|██████████| 1/1 [00:00<00:00, 194.96file/s, chunks=75]\n"
     ]
    },
    {
     "name": "stdout",
     "output_type": "stream",
     "text": [
      "Chunks saved to outputs_pipeline/article1_chunks05.json\n"
     ]
    },
    {
     "name": "stderr",
     "output_type": "stream",
     "text": [
      "Chunking: 100%|██████████| 1/1 [00:00<00:00, 74.54file/s, chunks=53]\n"
     ]
    },
    {
     "name": "stdout",
     "output_type": "stream",
     "text": [
      "Chunks saved to outputs_pipeline/article1_chunks05.json\n"
     ]
    },
    {
     "name": "stderr",
     "output_type": "stream",
     "text": [
      "Chunking: 100%|██████████| 1/1 [00:00<00:00, 172.06file/s, chunks=40]\n"
     ]
    },
    {
     "name": "stdout",
     "output_type": "stream",
     "text": [
      "Chunks saved to outputs_pipeline/article1_chunks05.json\n"
     ]
    },
    {
     "name": "stderr",
     "output_type": "stream",
     "text": [
      "Chunking: 100%|██████████| 1/1 [00:00<00:00, 95.21file/s, chunks=100]\n"
     ]
    },
    {
     "name": "stdout",
     "output_type": "stream",
     "text": [
      "Chunks saved to outputs_pipeline/article1_chunks05.json\n"
     ]
    },
    {
     "name": "stderr",
     "output_type": "stream",
     "text": [
      "Chunking: 100%|██████████| 1/1 [00:00<00:00, 499.98file/s, chunks=28]\n"
     ]
    },
    {
     "name": "stdout",
     "output_type": "stream",
     "text": [
      "Chunks saved to outputs_pipeline/article1_chunks05.json\n"
     ]
    },
    {
     "name": "stderr",
     "output_type": "stream",
     "text": [
      "Chunking: 100%|██████████| 1/1 [00:00<00:00, 333.36file/s, chunks=48]\n"
     ]
    },
    {
     "name": "stdout",
     "output_type": "stream",
     "text": [
      "Chunks saved to outputs_pipeline/article1_chunks05.json\n"
     ]
    },
    {
     "name": "stderr",
     "output_type": "stream",
     "text": [
      "Chunking: 100%|██████████| 1/1 [00:00<00:00, 499.74file/s, chunks=15]\n"
     ]
    },
    {
     "name": "stdout",
     "output_type": "stream",
     "text": [
      "Chunks saved to outputs_pipeline/article1_chunks05.json\n"
     ]
    },
    {
     "name": "stderr",
     "output_type": "stream",
     "text": [
      "Chunking: 100%|██████████| 1/1 [00:00<00:00, 285.21file/s, chunks=23]\n"
     ]
    },
    {
     "name": "stdout",
     "output_type": "stream",
     "text": [
      "Chunks saved to outputs_pipeline/article1_chunks05.json\n"
     ]
    },
    {
     "name": "stderr",
     "output_type": "stream",
     "text": [
      "Chunking: 100%|██████████| 1/1 [00:00<00:00, 221.66file/s, chunks=37]\n"
     ]
    },
    {
     "name": "stdout",
     "output_type": "stream",
     "text": [
      "Chunks saved to outputs_pipeline/article1_chunks05.json\n"
     ]
    },
    {
     "name": "stderr",
     "output_type": "stream",
     "text": [
      "Chunking: 100%|██████████| 1/1 [00:00<00:00, 284.73file/s, chunks=40]\n"
     ]
    },
    {
     "name": "stdout",
     "output_type": "stream",
     "text": [
      "Chunks saved to outputs_pipeline/article1_chunks05.json\n"
     ]
    },
    {
     "name": "stderr",
     "output_type": "stream",
     "text": [
      "Chunking: 100%|██████████| 1/1 [00:00<00:00, 95.19file/s, chunks=80]"
     ]
    },
    {
     "name": "stdout",
     "output_type": "stream",
     "text": [
      "Chunks saved to outputs_pipeline/article1_chunks05.json"
     ]
    },
    {
     "name": "stderr",
     "output_type": "stream",
     "text": [
      "\n"
     ]
    },
    {
     "name": "stdout",
     "output_type": "stream",
     "text": [
      "\n"
     ]
    },
    {
     "name": "stderr",
     "output_type": "stream",
     "text": [
      "Chunking: 100%|██████████| 1/1 [00:00<00:00, 485.90file/s, chunks=21]\n"
     ]
    },
    {
     "name": "stdout",
     "output_type": "stream",
     "text": [
      "Chunks saved to outputs_pipeline/article1_chunks05.json\n"
     ]
    },
    {
     "name": "stderr",
     "output_type": "stream",
     "text": [
      "Chunking: 100%|██████████| 1/1 [00:00<00:00, 221.46file/s, chunks=34]\n"
     ]
    },
    {
     "name": "stdout",
     "output_type": "stream",
     "text": [
      "Chunks saved to outputs_pipeline/article1_chunks05.json\n"
     ]
    },
    {
     "name": "stderr",
     "output_type": "stream",
     "text": [
      "Chunking: 100%|██████████| 1/1 [00:00<00:00, 499.44file/s, chunks=26]\n"
     ]
    },
    {
     "name": "stdout",
     "output_type": "stream",
     "text": [
      "Chunks saved to outputs_pipeline/article1_chunks05.json\n"
     ]
    },
    {
     "name": "stderr",
     "output_type": "stream",
     "text": [
      "Chunking: 100%|██████████| 1/1 [00:00<00:00, 333.38file/s, chunks=43]\n"
     ]
    },
    {
     "name": "stdout",
     "output_type": "stream",
     "text": [
      "Chunks saved to outputs_pipeline/article1_chunks05.json\n"
     ]
    },
    {
     "name": "stderr",
     "output_type": "stream",
     "text": [
      "Chunking: 100%|██████████| 1/1 [00:00<00:00, 95.73file/s, chunks=33]"
     ]
    },
    {
     "name": "stdout",
     "output_type": "stream",
     "text": [
      "Chunks saved to outputs_pipeline/article1_chunks05.json"
     ]
    },
    {
     "name": "stderr",
     "output_type": "stream",
     "text": [
      "\n"
     ]
    },
    {
     "name": "stdout",
     "output_type": "stream",
     "text": [
      "\n"
     ]
    },
    {
     "name": "stderr",
     "output_type": "stream",
     "text": [
      "Chunking: 100%|██████████| 1/1 [00:00<00:00, 333.30file/s, chunks=35]\n"
     ]
    },
    {
     "name": "stdout",
     "output_type": "stream",
     "text": [
      "Chunks saved to outputs_pipeline/article1_chunks05.json\n"
     ]
    },
    {
     "name": "stderr",
     "output_type": "stream",
     "text": [
      "Chunking: 100%|██████████| 1/1 [00:00<00:00, 99.88file/s, chunks=42]\n"
     ]
    },
    {
     "name": "stdout",
     "output_type": "stream",
     "text": [
      "Chunks saved to outputs_pipeline/article1_chunks05.json\n"
     ]
    },
    {
     "name": "stderr",
     "output_type": "stream",
     "text": [
      "Chunking: 100%|██████████| 1/1 [00:00<00:00, 398.62file/s, chunks=21]\n"
     ]
    },
    {
     "name": "stdout",
     "output_type": "stream",
     "text": [
      "Chunks saved to outputs_pipeline/article1_chunks05.json\n"
     ]
    },
    {
     "name": "stderr",
     "output_type": "stream",
     "text": [
      "Chunking: 100%|██████████| 1/1 [00:00<00:00, 285.29file/s, chunks=58]\n"
     ]
    },
    {
     "name": "stdout",
     "output_type": "stream",
     "text": [
      "Chunks saved to outputs_pipeline/article1_chunks05.json\n"
     ]
    },
    {
     "name": "stderr",
     "output_type": "stream",
     "text": [
      "Chunking: 100%|██████████| 1/1 [00:00<00:00, 320.91file/s, chunks=23]"
     ]
    },
    {
     "name": "stdout",
     "output_type": "stream",
     "text": [
      "Chunks saved to outputs_pipeline/article1_chunks05.json"
     ]
    },
    {
     "name": "stderr",
     "output_type": "stream",
     "text": [
      "\n"
     ]
    },
    {
     "name": "stdout",
     "output_type": "stream",
     "text": [
      "\n"
     ]
    },
    {
     "name": "stderr",
     "output_type": "stream",
     "text": [
      "Chunking: 100%|██████████| 1/1 [00:00<00:00, 181.16file/s, chunks=30]\n"
     ]
    },
    {
     "name": "stdout",
     "output_type": "stream",
     "text": [
      "Chunks saved to outputs_pipeline/article1_chunks05.json\n"
     ]
    },
    {
     "name": "stderr",
     "output_type": "stream",
     "text": [
      "Chunking: 100%|██████████| 1/1 [00:00<00:00, 43.64file/s, chunks=37]\n"
     ]
    },
    {
     "name": "stdout",
     "output_type": "stream",
     "text": [
      "Chunks saved to outputs_pipeline/article1_chunks05.json\n"
     ]
    },
    {
     "name": "stderr",
     "output_type": "stream",
     "text": [
      "Chunking: 100%|██████████| 1/1 [00:00<00:00, 499.62file/s, chunks=24]\n"
     ]
    },
    {
     "name": "stdout",
     "output_type": "stream",
     "text": [
      "Chunks saved to outputs_pipeline/article1_chunks05.json\n"
     ]
    },
    {
     "name": "stderr",
     "output_type": "stream",
     "text": [
      "Chunking: 100%|██████████| 1/1 [00:00<00:00, 499.68file/s, chunks=34]\n"
     ]
    },
    {
     "name": "stdout",
     "output_type": "stream",
     "text": [
      "Chunks saved to outputs_pipeline/article1_chunks05.json\n"
     ]
    },
    {
     "name": "stderr",
     "output_type": "stream",
     "text": [
      "Chunking: 100%|██████████| 1/1 [00:00<00:00, 500.16file/s, chunks=27]\n"
     ]
    },
    {
     "name": "stdout",
     "output_type": "stream",
     "text": [
      "Chunks saved to outputs_pipeline/article1_chunks05.json\n"
     ]
    },
    {
     "name": "stderr",
     "output_type": "stream",
     "text": [
      "Chunking: 100%|██████████| 1/1 [00:00<00:00, 999.83file/s, chunks=12]\n"
     ]
    },
    {
     "name": "stdout",
     "output_type": "stream",
     "text": [
      "Chunks saved to outputs_pipeline/article1_chunks05.json\n"
     ]
    },
    {
     "name": "stderr",
     "output_type": "stream",
     "text": [
      "Chunking: 100%|██████████| 1/1 [00:00<00:00, 499.74file/s, chunks=18]"
     ]
    },
    {
     "name": "stdout",
     "output_type": "stream",
     "text": [
      "Chunks saved to outputs_pipeline/article1_chunks05.json"
     ]
    },
    {
     "name": "stderr",
     "output_type": "stream",
     "text": [
      "\n"
     ]
    },
    {
     "name": "stdout",
     "output_type": "stream",
     "text": [
      "\n"
     ]
    },
    {
     "name": "stderr",
     "output_type": "stream",
     "text": [
      "Chunking: 100%|██████████| 1/1 [00:00<00:00, 153.36file/s, chunks=14]"
     ]
    },
    {
     "name": "stdout",
     "output_type": "stream",
     "text": [
      "Chunks saved to outputs_pipeline/article1_chunks05.json"
     ]
    },
    {
     "name": "stderr",
     "output_type": "stream",
     "text": [
      "\n"
     ]
    },
    {
     "name": "stdout",
     "output_type": "stream",
     "text": [
      "\n"
     ]
    },
    {
     "name": "stderr",
     "output_type": "stream",
     "text": [
      "Chunking: 100%|██████████| 1/1 [00:00<00:00, 58.01file/s, chunks=39]\n"
     ]
    },
    {
     "name": "stdout",
     "output_type": "stream",
     "text": [
      "Chunks saved to outputs_pipeline/article1_chunks05.json\n"
     ]
    },
    {
     "name": "stderr",
     "output_type": "stream",
     "text": [
      "Chunking: 100%|██████████| 1/1 [00:00<00:00, 500.04file/s, chunks=30]\n"
     ]
    },
    {
     "name": "stdout",
     "output_type": "stream",
     "text": [
      "Chunks saved to outputs_pipeline/article1_chunks05.json\n"
     ]
    },
    {
     "name": "stderr",
     "output_type": "stream",
     "text": [
      "Chunking: 100%|██████████| 1/1 [00:00<00:00, 89.15file/s, chunks=44]\n"
     ]
    },
    {
     "name": "stdout",
     "output_type": "stream",
     "text": [
      "Chunks saved to outputs_pipeline/article1_chunks05.json\n"
     ]
    },
    {
     "name": "stderr",
     "output_type": "stream",
     "text": [
      "Chunking: 100%|██████████| 1/1 [00:00<00:00, 90.80file/s, chunks=2]\n"
     ]
    },
    {
     "name": "stdout",
     "output_type": "stream",
     "text": [
      "Chunks saved to outputs_pipeline/article1_chunks05.json\n"
     ]
    },
    {
     "name": "stderr",
     "output_type": "stream",
     "text": [
      "Chunking: 100%|██████████| 1/1 [00:00<00:00, 181.41file/s, chunks=42]\n"
     ]
    },
    {
     "name": "stdout",
     "output_type": "stream",
     "text": [
      "Chunks saved to outputs_pipeline/article1_chunks05.json\n"
     ]
    },
    {
     "name": "stderr",
     "output_type": "stream",
     "text": [
      "Chunking: 100%|██████████| 1/1 [00:00<00:00, 485.06file/s, chunks=32]"
     ]
    },
    {
     "name": "stdout",
     "output_type": "stream",
     "text": [
      "Chunks saved to outputs_pipeline/article1_chunks05.json"
     ]
    },
    {
     "name": "stderr",
     "output_type": "stream",
     "text": [
      "\n"
     ]
    },
    {
     "name": "stdout",
     "output_type": "stream",
     "text": [
      "\n"
     ]
    },
    {
     "name": "stderr",
     "output_type": "stream",
     "text": [
      "Chunking: 100%|██████████| 1/1 [00:00<00:00, 333.46file/s, chunks=22]\n"
     ]
    },
    {
     "name": "stdout",
     "output_type": "stream",
     "text": [
      "Chunks saved to outputs_pipeline/article1_chunks05.json\n"
     ]
    },
    {
     "name": "stderr",
     "output_type": "stream",
     "text": [
      "Chunking: 100%|██████████| 1/1 [00:00<00:00, 246.07file/s, chunks=33]\n"
     ]
    },
    {
     "name": "stdout",
     "output_type": "stream",
     "text": [
      "Chunks saved to outputs_pipeline/article1_chunks05.json\n"
     ]
    },
    {
     "name": "stderr",
     "output_type": "stream",
     "text": [
      "Chunking: 100%|██████████| 1/1 [00:00<00:00, 333.49file/s, chunks=60]\n"
     ]
    },
    {
     "name": "stdout",
     "output_type": "stream",
     "text": [
      "Chunks saved to outputs_pipeline/article1_chunks05.json\n"
     ]
    },
    {
     "name": "stderr",
     "output_type": "stream",
     "text": [
      "Chunking: 100%|██████████| 1/1 [00:00<00:00, 500.10file/s, chunks=30]\n"
     ]
    },
    {
     "name": "stdout",
     "output_type": "stream",
     "text": [
      "Chunks saved to outputs_pipeline/article1_chunks05.json\n"
     ]
    },
    {
     "name": "stderr",
     "output_type": "stream",
     "text": [
      "Chunking: 100%|██████████| 1/1 [00:00<00:00, 500.04file/s, chunks=27]\n"
     ]
    },
    {
     "name": "stdout",
     "output_type": "stream",
     "text": [
      "Chunks saved to outputs_pipeline/article1_chunks05.json\n"
     ]
    },
    {
     "name": "stderr",
     "output_type": "stream",
     "text": [
      "Chunking: 100%|██████████| 1/1 [00:00<00:00, 86.89file/s, chunks=36]"
     ]
    },
    {
     "name": "stdout",
     "output_type": "stream",
     "text": [
      "Chunks saved to outputs_pipeline/article1_chunks05.json"
     ]
    },
    {
     "name": "stderr",
     "output_type": "stream",
     "text": [
      "\n"
     ]
    },
    {
     "name": "stdout",
     "output_type": "stream",
     "text": [
      "\n"
     ]
    },
    {
     "name": "stderr",
     "output_type": "stream",
     "text": [
      "Chunking: 100%|██████████| 1/1 [00:00<00:00, 115.55file/s, chunks=50]\n"
     ]
    },
    {
     "name": "stdout",
     "output_type": "stream",
     "text": [
      "Chunks saved to outputs_pipeline/article1_chunks05.json\n"
     ]
    },
    {
     "name": "stderr",
     "output_type": "stream",
     "text": [
      "Chunking: 100%|██████████| 1/1 [00:00<00:00, 245.57file/s, chunks=47]\n"
     ]
    },
    {
     "name": "stdout",
     "output_type": "stream",
     "text": [
      "Chunks saved to outputs_pipeline/article1_chunks05.json\n"
     ]
    },
    {
     "name": "stderr",
     "output_type": "stream",
     "text": [
      "Chunking: 100%|██████████| 1/1 [00:00<00:00, 399.08file/s, chunks=15]\n"
     ]
    },
    {
     "name": "stdout",
     "output_type": "stream",
     "text": [
      "Chunks saved to outputs_pipeline/article1_chunks05.json\n"
     ]
    },
    {
     "name": "stderr",
     "output_type": "stream",
     "text": [
      "Chunking: 100%|██████████| 1/1 [00:00<00:00, 138.57file/s, chunks=54]\n"
     ]
    },
    {
     "name": "stdout",
     "output_type": "stream",
     "text": [
      "Chunks saved to outputs_pipeline/article1_chunks05.json\n"
     ]
    },
    {
     "name": "stderr",
     "output_type": "stream",
     "text": [
      "Chunking: 100%|██████████| 1/1 [00:00<00:00, 500.04file/s, chunks=30]\n"
     ]
    },
    {
     "name": "stdout",
     "output_type": "stream",
     "text": [
      "Chunks saved to outputs_pipeline/article1_chunks05.json\n"
     ]
    },
    {
     "name": "stderr",
     "output_type": "stream",
     "text": [
      "Chunking: 100%|██████████| 1/1 [00:00<00:00, 499.98file/s, chunks=4]\n"
     ]
    },
    {
     "name": "stdout",
     "output_type": "stream",
     "text": [
      "Chunks saved to outputs_pipeline/article1_chunks05.json\n"
     ]
    },
    {
     "name": "stderr",
     "output_type": "stream",
     "text": [
      "Chunking: 100%|██████████| 1/1 [00:00<00:00, 125.69file/s, chunks=17]"
     ]
    },
    {
     "name": "stdout",
     "output_type": "stream",
     "text": [
      "Chunks saved to outputs_pipeline/article1_chunks05.json"
     ]
    },
    {
     "name": "stderr",
     "output_type": "stream",
     "text": [
      "\n"
     ]
    },
    {
     "name": "stdout",
     "output_type": "stream",
     "text": [
      "\n"
     ]
    },
    {
     "name": "stderr",
     "output_type": "stream",
     "text": [
      "Chunking: 100%|██████████| 1/1 [00:00<00:00, 398.51file/s, chunks=27]\n"
     ]
    },
    {
     "name": "stdout",
     "output_type": "stream",
     "text": [
      "Chunks saved to outputs_pipeline/article1_chunks05.json\n"
     ]
    },
    {
     "name": "stderr",
     "output_type": "stream",
     "text": [
      "Chunking: 100%|██████████| 1/1 [00:00<00:00, 499.80file/s, chunks=9]\n"
     ]
    },
    {
     "name": "stdout",
     "output_type": "stream",
     "text": [
      "Chunks saved to outputs_pipeline/article1_chunks05.json\n"
     ]
    },
    {
     "name": "stderr",
     "output_type": "stream",
     "text": [
      "Chunking: 100%|██████████| 1/1 [00:00<00:00, 998.64file/s, chunks=9]\n"
     ]
    },
    {
     "name": "stdout",
     "output_type": "stream",
     "text": [
      "Chunks saved to outputs_pipeline/article1_chunks05.json\n"
     ]
    },
    {
     "name": "stderr",
     "output_type": "stream",
     "text": [
      "Chunking: 100%|██████████| 1/1 [00:00<00:00, 221.91file/s, chunks=55]\n"
     ]
    },
    {
     "name": "stdout",
     "output_type": "stream",
     "text": [
      "Chunks saved to outputs_pipeline/article1_chunks05.json\n"
     ]
    },
    {
     "name": "stderr",
     "output_type": "stream",
     "text": [
      "Chunking: 100%|██████████| 1/1 [00:00<00:00, 285.11file/s, chunks=7]\n"
     ]
    },
    {
     "name": "stdout",
     "output_type": "stream",
     "text": [
      "Chunks saved to outputs_pipeline/article1_chunks05.json\n"
     ]
    },
    {
     "name": "stderr",
     "output_type": "stream",
     "text": [
      "Chunking: 100%|██████████| 1/1 [00:00<00:00, 333.33file/s, chunks=20]\n"
     ]
    },
    {
     "name": "stdout",
     "output_type": "stream",
     "text": [
      "Chunks saved to outputs_pipeline/article1_chunks05.json\n"
     ]
    },
    {
     "name": "stderr",
     "output_type": "stream",
     "text": [
      "Chunking: 100%|██████████| 1/1 [00:00<00:00, 200.01file/s, chunks=43]\n"
     ]
    },
    {
     "name": "stdout",
     "output_type": "stream",
     "text": [
      "Chunks saved to outputs_pipeline/article1_chunks05.json\n"
     ]
    },
    {
     "name": "stderr",
     "output_type": "stream",
     "text": [
      "Chunking: 100%|██████████| 1/1 [00:00<00:00, 500.33file/s, chunks=24]\n"
     ]
    },
    {
     "name": "stdout",
     "output_type": "stream",
     "text": [
      "Chunks saved to outputs_pipeline/article1_chunks05.json\n"
     ]
    },
    {
     "name": "stderr",
     "output_type": "stream",
     "text": [
      "Chunking: 100%|██████████| 1/1 [00:00<00:00, 250.11file/s, chunks=55]\n"
     ]
    },
    {
     "name": "stdout",
     "output_type": "stream",
     "text": [
      "Chunks saved to outputs_pipeline/article1_chunks05.json\n"
     ]
    },
    {
     "name": "stderr",
     "output_type": "stream",
     "text": [
      "Chunking: 100%|██████████| 1/1 [00:00<00:00, 500.10file/s, chunks=3]\n"
     ]
    },
    {
     "name": "stdout",
     "output_type": "stream",
     "text": [
      "Chunks saved to outputs_pipeline/article1_chunks05.json\n"
     ]
    },
    {
     "name": "stderr",
     "output_type": "stream",
     "text": [
      "Chunking: 100%|██████████| 1/1 [00:00<00:00, 138.80file/s, chunks=22]\n"
     ]
    },
    {
     "name": "stdout",
     "output_type": "stream",
     "text": [
      "Chunks saved to outputs_pipeline/article1_chunks05.json\n"
     ]
    },
    {
     "name": "stderr",
     "output_type": "stream",
     "text": [
      "Chunking: 100%|██████████| 1/1 [00:00<00:00, 333.41file/s, chunks=9]\n"
     ]
    },
    {
     "name": "stdout",
     "output_type": "stream",
     "text": [
      "Chunks saved to outputs_pipeline/article1_chunks05.json\n"
     ]
    },
    {
     "name": "stderr",
     "output_type": "stream",
     "text": [
      "Chunking: 100%|██████████| 1/1 [00:00<00:00, 313.99file/s, chunks=18]\n"
     ]
    },
    {
     "name": "stdout",
     "output_type": "stream",
     "text": [
      "Chunks saved to outputs_pipeline/article1_chunks05.json\n"
     ]
    },
    {
     "name": "stderr",
     "output_type": "stream",
     "text": [
      "Chunking: 100%|██████████| 1/1 [00:00<00:00, 19.57file/s, chunks=36]\n"
     ]
    },
    {
     "name": "stdout",
     "output_type": "stream",
     "text": [
      "Chunks saved to outputs_pipeline/article1_chunks05.json\n"
     ]
    },
    {
     "name": "stderr",
     "output_type": "stream",
     "text": [
      "Chunking: 100%|██████████| 1/1 [00:00<00:00, 479.40file/s, chunks=4]\n"
     ]
    },
    {
     "name": "stdout",
     "output_type": "stream",
     "text": [
      "Chunks saved to outputs_pipeline/article1_chunks05.json\n"
     ]
    },
    {
     "name": "stderr",
     "output_type": "stream",
     "text": [
      "Chunking: 100%|██████████| 1/1 [00:00<00:00, 468.69file/s, chunks=5]\n"
     ]
    },
    {
     "name": "stdout",
     "output_type": "stream",
     "text": [
      "Chunks saved to outputs_pipeline/article1_chunks05.json\n"
     ]
    },
    {
     "name": "stderr",
     "output_type": "stream",
     "text": [
      "Chunking: 100%|██████████| 1/1 [00:00<00:00, 333.54file/s, chunks=89]\n"
     ]
    },
    {
     "name": "stdout",
     "output_type": "stream",
     "text": [
      "Chunks saved to outputs_pipeline/article1_chunks05.json\n"
     ]
    },
    {
     "name": "stderr",
     "output_type": "stream",
     "text": [
      "Chunking: 100%|██████████| 1/1 [00:00<00:00, 434.96file/s, chunks=10]\n"
     ]
    },
    {
     "name": "stdout",
     "output_type": "stream",
     "text": [
      "Chunks saved to outputs_pipeline/article1_chunks05.json\n"
     ]
    },
    {
     "name": "stderr",
     "output_type": "stream",
     "text": [
      "Chunking: 100%|██████████| 1/1 [00:00<00:00, 398.62file/s, chunks=9]\n"
     ]
    },
    {
     "name": "stdout",
     "output_type": "stream",
     "text": [
      "Chunks saved to outputs_pipeline/article1_chunks05.json\n"
     ]
    },
    {
     "name": "stderr",
     "output_type": "stream",
     "text": [
      "Chunking: 100%|██████████| 1/1 [00:00<00:00, 70.73file/s, chunks=8]\n"
     ]
    },
    {
     "name": "stdout",
     "output_type": "stream",
     "text": [
      "Chunks saved to outputs_pipeline/article1_chunks05.json\n"
     ]
    },
    {
     "name": "stderr",
     "output_type": "stream",
     "text": [
      "Chunking: 100%|██████████| 1/1 [00:00<00:00, 323.71file/s, chunks=33]\n"
     ]
    },
    {
     "name": "stdout",
     "output_type": "stream",
     "text": [
      "Chunks saved to outputs_pipeline/article1_chunks05.json\n"
     ]
    },
    {
     "name": "stderr",
     "output_type": "stream",
     "text": [
      "Chunking: 100%|██████████| 1/1 [00:00<00:00, 332.80file/s, chunks=15]\n"
     ]
    },
    {
     "name": "stdout",
     "output_type": "stream",
     "text": [
      "Chunks saved to outputs_pipeline/article1_chunks05.json\n"
     ]
    },
    {
     "name": "stderr",
     "output_type": "stream",
     "text": [
      "Chunking: 100%|██████████| 1/1 [00:00<00:00, 333.28file/s, chunks=19]"
     ]
    },
    {
     "name": "stdout",
     "output_type": "stream",
     "text": [
      "Chunks saved to outputs_pipeline/article1_chunks05.json"
     ]
    },
    {
     "name": "stderr",
     "output_type": "stream",
     "text": [
      "\n"
     ]
    },
    {
     "name": "stdout",
     "output_type": "stream",
     "text": [
      "\n"
     ]
    },
    {
     "name": "stderr",
     "output_type": "stream",
     "text": [
      "Chunking: 100%|██████████| 1/1 [00:00<00:00, 499.20file/s, chunks=8]"
     ]
    },
    {
     "name": "stdout",
     "output_type": "stream",
     "text": [
      "Chunks saved to outputs_pipeline/article1_chunks05.json"
     ]
    },
    {
     "name": "stderr",
     "output_type": "stream",
     "text": [
      "\n"
     ]
    },
    {
     "name": "stdout",
     "output_type": "stream",
     "text": [
      "\n"
     ]
    },
    {
     "name": "stderr",
     "output_type": "stream",
     "text": [
      "Chunking: 100%|██████████| 1/1 [00:00<00:00, 605.24file/s, chunks=8]\n"
     ]
    },
    {
     "name": "stdout",
     "output_type": "stream",
     "text": [
      "Chunks saved to outputs_pipeline/article1_chunks05.json\n"
     ]
    },
    {
     "name": "stderr",
     "output_type": "stream",
     "text": [
      "Chunking: 100%|██████████| 1/1 [00:00<00:00, 399.34file/s, chunks=4]\n"
     ]
    },
    {
     "name": "stdout",
     "output_type": "stream",
     "text": [
      "Chunks saved to outputs_pipeline/article1_chunks05.json\n"
     ]
    },
    {
     "name": "stderr",
     "output_type": "stream",
     "text": [
      "Chunking: 100%|██████████| 1/1 [00:00<00:00, 333.30file/s, chunks=48]"
     ]
    },
    {
     "name": "stdout",
     "output_type": "stream",
     "text": [
      "Chunks saved to outputs_pipeline/article1_chunks05.json\n"
     ]
    },
    {
     "name": "stderr",
     "output_type": "stream",
     "text": [
      "\n",
      "Chunking: 100%|██████████| 1/1 [00:00<00:00, 107.30file/s, chunks=16]\n"
     ]
    },
    {
     "name": "stdout",
     "output_type": "stream",
     "text": [
      "Chunks saved to outputs_pipeline/article1_chunks05.json\n"
     ]
    },
    {
     "name": "stderr",
     "output_type": "stream",
     "text": [
      "Chunking: 100%|██████████| 1/1 [00:00<00:00, 332.56file/s, chunks=11]\n"
     ]
    },
    {
     "name": "stdout",
     "output_type": "stream",
     "text": [
      "Chunks saved to outputs_pipeline/article1_chunks05.json\n"
     ]
    },
    {
     "name": "stderr",
     "output_type": "stream",
     "text": [
      "Chunking: 100%|██████████| 1/1 [00:00<00:00, 499.92file/s, chunks=11]\n"
     ]
    },
    {
     "name": "stdout",
     "output_type": "stream",
     "text": [
      "Chunks saved to outputs_pipeline/article1_chunks05.json\n"
     ]
    },
    {
     "name": "stderr",
     "output_type": "stream",
     "text": [
      "Chunking: 100%|██████████| 1/1 [00:00<00:00, 332.80file/s, chunks=34]"
     ]
    },
    {
     "name": "stdout",
     "output_type": "stream",
     "text": [
      "Chunks saved to outputs_pipeline/article1_chunks05.json"
     ]
    },
    {
     "name": "stderr",
     "output_type": "stream",
     "text": [
      "\n"
     ]
    },
    {
     "name": "stdout",
     "output_type": "stream",
     "text": [
      "\n"
     ]
    },
    {
     "name": "stderr",
     "output_type": "stream",
     "text": [
      "Chunking: 100%|██████████| 1/1 [00:00<00:00, 312.12file/s, chunks=49]\n"
     ]
    },
    {
     "name": "stdout",
     "output_type": "stream",
     "text": [
      "Chunks saved to outputs_pipeline/article1_chunks05.json\n"
     ]
    },
    {
     "name": "stderr",
     "output_type": "stream",
     "text": [
      "Chunking: 100%|██████████| 1/1 [00:00<00:00, 60.56file/s, chunks=21]\n"
     ]
    },
    {
     "name": "stdout",
     "output_type": "stream",
     "text": [
      "Chunks saved to outputs_pipeline/article1_chunks05.json\n"
     ]
    },
    {
     "name": "stderr",
     "output_type": "stream",
     "text": [
      "Chunking: 100%|██████████| 1/1 [00:00<00:00, 500.04file/s, chunks=30]\n"
     ]
    },
    {
     "name": "stdout",
     "output_type": "stream",
     "text": [
      "Chunks saved to outputs_pipeline/article1_chunks05.json\n"
     ]
    },
    {
     "name": "stderr",
     "output_type": "stream",
     "text": [
      "Chunking: 100%|██████████| 1/1 [00:00<00:00, 500.22file/s, chunks=26]\n"
     ]
    },
    {
     "name": "stdout",
     "output_type": "stream",
     "text": [
      "Chunks saved to outputs_pipeline/article1_chunks05.json\n"
     ]
    },
    {
     "name": "stderr",
     "output_type": "stream",
     "text": [
      "Chunking: 100%|██████████| 1/1 [00:00<00:00, 60.75file/s, chunks=37]\n"
     ]
    },
    {
     "name": "stdout",
     "output_type": "stream",
     "text": [
      "Chunks saved to outputs_pipeline/article1_chunks05.json\n"
     ]
    },
    {
     "name": "stderr",
     "output_type": "stream",
     "text": [
      "Chunking: 100%|██████████| 1/1 [00:00<00:00, 1000.31file/s, chunks=3]\n"
     ]
    },
    {
     "name": "stdout",
     "output_type": "stream",
     "text": [
      "Chunks saved to outputs_pipeline/article1_chunks05.json\n"
     ]
    },
    {
     "name": "stderr",
     "output_type": "stream",
     "text": [
      "Chunking: 100%|██████████| 1/1 [00:00<00:00, 698.93file/s, chunks=12]\n"
     ]
    },
    {
     "name": "stdout",
     "output_type": "stream",
     "text": [
      "Chunks saved to outputs_pipeline/article1_chunks05.json\n"
     ]
    },
    {
     "name": "stderr",
     "output_type": "stream",
     "text": [
      "Chunking: 100%|██████████| 1/1 [00:00<00:00, 499.92file/s, chunks=11]\n"
     ]
    },
    {
     "name": "stdout",
     "output_type": "stream",
     "text": [
      "Chunks saved to outputs_pipeline/article1_chunks05.json\n"
     ]
    },
    {
     "name": "stderr",
     "output_type": "stream",
     "text": [
      "Chunking: 100%|██████████| 1/1 [00:00<00:00, 333.23file/s, chunks=4]\n"
     ]
    },
    {
     "name": "stdout",
     "output_type": "stream",
     "text": [
      "Chunks saved to outputs_pipeline/article1_chunks05.json\n"
     ]
    },
    {
     "name": "stderr",
     "output_type": "stream",
     "text": [
      "Chunking: 100%|██████████| 1/1 [00:00<00:00, 309.02file/s, chunks=16]"
     ]
    },
    {
     "name": "stdout",
     "output_type": "stream",
     "text": [
      "Chunks saved to outputs_pipeline/article1_chunks05.json"
     ]
    },
    {
     "name": "stderr",
     "output_type": "stream",
     "text": [
      "\n"
     ]
    },
    {
     "name": "stdout",
     "output_type": "stream",
     "text": [
      "\n"
     ]
    },
    {
     "name": "stderr",
     "output_type": "stream",
     "text": [
      "Chunking: 100%|██████████| 1/1 [00:00<00:00, 221.89file/s, chunks=11]\n"
     ]
    },
    {
     "name": "stdout",
     "output_type": "stream",
     "text": [
      "Chunks saved to outputs_pipeline/article1_chunks05.json\n"
     ]
    },
    {
     "name": "stderr",
     "output_type": "stream",
     "text": [
      "Chunking: 100%|██████████| 1/1 [00:00<00:00, 499.02file/s, chunks=19]\n"
     ]
    },
    {
     "name": "stdout",
     "output_type": "stream",
     "text": [
      "Chunks saved to outputs_pipeline/article1_chunks05.json\n"
     ]
    },
    {
     "name": "stderr",
     "output_type": "stream",
     "text": [
      "Chunking: 100%|██████████| 1/1 [00:00<00:00, 333.15file/s, chunks=9]\n"
     ]
    },
    {
     "name": "stdout",
     "output_type": "stream",
     "text": [
      "Chunks saved to outputs_pipeline/article1_chunks05.json\n"
     ]
    },
    {
     "name": "stderr",
     "output_type": "stream",
     "text": [
      "Chunking: 100%|██████████| 1/1 [00:00<00:00, 333.30file/s, chunks=18]\n"
     ]
    },
    {
     "name": "stdout",
     "output_type": "stream",
     "text": [
      "Chunks saved to outputs_pipeline/article1_chunks05.json\n"
     ]
    },
    {
     "name": "stderr",
     "output_type": "stream",
     "text": [
      "Chunking: 100%|██████████| 1/1 [00:00<00:00, 333.46file/s, chunks=28]\n"
     ]
    },
    {
     "name": "stdout",
     "output_type": "stream",
     "text": [
      "Chunks saved to outputs_pipeline/article1_chunks05.json\n"
     ]
    },
    {
     "name": "stderr",
     "output_type": "stream",
     "text": [
      "Chunking: 100%|██████████| 1/1 [00:00<00:00, 500.10file/s, chunks=25]\n"
     ]
    },
    {
     "name": "stdout",
     "output_type": "stream",
     "text": [
      "Chunks saved to outputs_pipeline/article1_chunks05.json\n"
     ]
    },
    {
     "name": "stderr",
     "output_type": "stream",
     "text": [
      "Chunking: 100%|██████████| 1/1 [00:00<00:00, 998.64file/s, chunks=12]\n"
     ]
    },
    {
     "name": "stdout",
     "output_type": "stream",
     "text": [
      "Chunks saved to outputs_pipeline/article1_chunks05.json\n"
     ]
    },
    {
     "name": "stderr",
     "output_type": "stream",
     "text": [
      "Chunking: 100%|██████████| 1/1 [00:00<00:00, 333.41file/s, chunks=7]\n"
     ]
    },
    {
     "name": "stdout",
     "output_type": "stream",
     "text": [
      "Chunks saved to outputs_pipeline/article1_chunks05.json\n"
     ]
    },
    {
     "name": "stderr",
     "output_type": "stream",
     "text": [
      "Chunking: 100%|██████████| 1/1 [00:00<00:00, 497.07file/s, chunks=3]\n"
     ]
    },
    {
     "name": "stdout",
     "output_type": "stream",
     "text": [
      "Chunks saved to outputs_pipeline/article1_chunks05.json\n"
     ]
    },
    {
     "name": "stderr",
     "output_type": "stream",
     "text": [
      "Chunking: 100%|██████████| 1/1 [00:00<00:00, 130.77file/s, chunks=20]\n"
     ]
    },
    {
     "name": "stdout",
     "output_type": "stream",
     "text": [
      "Chunks saved to outputs_pipeline/article1_chunks05.json\n"
     ]
    },
    {
     "name": "stderr",
     "output_type": "stream",
     "text": [
      "Chunking: 100%|██████████| 1/1 [00:00<00:00, 333.78file/s, chunks=23]\n"
     ]
    },
    {
     "name": "stdout",
     "output_type": "stream",
     "text": [
      "Chunks saved to outputs_pipeline/article1_chunks05.json\n"
     ]
    },
    {
     "name": "stderr",
     "output_type": "stream",
     "text": [
      "Chunking: 100%|██████████| 1/1 [00:00<00:00, 500.10file/s, chunks=22]\n"
     ]
    },
    {
     "name": "stdout",
     "output_type": "stream",
     "text": [
      "Chunks saved to outputs_pipeline/article1_chunks05.json\n"
     ]
    },
    {
     "name": "stderr",
     "output_type": "stream",
     "text": [
      "Chunking: 100%|██████████| 1/1 [00:00<00:00, 74.91file/s, chunks=19]\n"
     ]
    },
    {
     "name": "stdout",
     "output_type": "stream",
     "text": [
      "Chunks saved to outputs_pipeline/article1_chunks05.json\n"
     ]
    },
    {
     "name": "stderr",
     "output_type": "stream",
     "text": [
      "Chunking: 100%|██████████| 1/1 [00:00<00:00, 332.83file/s, chunks=7]\n"
     ]
    },
    {
     "name": "stdout",
     "output_type": "stream",
     "text": [
      "Chunks saved to outputs_pipeline/article1_chunks05.json\n"
     ]
    },
    {
     "name": "stderr",
     "output_type": "stream",
     "text": [
      "Chunking: 100%|██████████| 1/1 [00:00<00:00, 996.98file/s, chunks=13]\n"
     ]
    },
    {
     "name": "stdout",
     "output_type": "stream",
     "text": [
      "Chunks saved to outputs_pipeline/article1_chunks05.json\n"
     ]
    },
    {
     "name": "stderr",
     "output_type": "stream",
     "text": [
      "Chunking: 100%|██████████| 1/1 [00:00<00:00, 333.01file/s, chunks=18]\n"
     ]
    },
    {
     "name": "stdout",
     "output_type": "stream",
     "text": [
      "Chunks saved to outputs_pipeline/article1_chunks05.json\n"
     ]
    },
    {
     "name": "stderr",
     "output_type": "stream",
     "text": [
      "Chunking: 100%|██████████| 1/1 [00:00<00:00, 166.67file/s, chunks=18]\n"
     ]
    },
    {
     "name": "stdout",
     "output_type": "stream",
     "text": [
      "Chunks saved to outputs_pipeline/article1_chunks05.json\n"
     ]
    },
    {
     "name": "stderr",
     "output_type": "stream",
     "text": [
      "Chunking: 100%|██████████| 1/1 [00:00<00:00, 221.82file/s, chunks=72]\n"
     ]
    },
    {
     "name": "stdout",
     "output_type": "stream",
     "text": [
      "Chunks saved to outputs_pipeline/article1_chunks05.json\n"
     ]
    },
    {
     "name": "stderr",
     "output_type": "stream",
     "text": [
      "Chunking: 100%|██████████| 1/1 [00:00<00:00, 333.20file/s, chunks=25]\n"
     ]
    },
    {
     "name": "stdout",
     "output_type": "stream",
     "text": [
      "Chunks saved to outputs_pipeline/article1_chunks05.json\n"
     ]
    },
    {
     "name": "stderr",
     "output_type": "stream",
     "text": [
      "Chunking: 100%|██████████| 1/1 [00:00<00:00, 500.04file/s, chunks=8]\n"
     ]
    },
    {
     "name": "stdout",
     "output_type": "stream",
     "text": [
      "Chunks saved to outputs_pipeline/article1_chunks05.json\n"
     ]
    },
    {
     "name": "stderr",
     "output_type": "stream",
     "text": [
      "Chunking: 100%|██████████| 1/1 [00:00<00:00, 161.39file/s, chunks=72]\n"
     ]
    },
    {
     "name": "stdout",
     "output_type": "stream",
     "text": [
      "Chunks saved to outputs_pipeline/article1_chunks05.json\n"
     ]
    },
    {
     "name": "stderr",
     "output_type": "stream",
     "text": [
      "Chunking: 100%|██████████| 1/1 [00:00<00:00, 332.88file/s, chunks=31]\n"
     ]
    },
    {
     "name": "stdout",
     "output_type": "stream",
     "text": [
      "Chunks saved to outputs_pipeline/article1_chunks05.json\n"
     ]
    },
    {
     "name": "stderr",
     "output_type": "stream",
     "text": [
      "Chunking: 100%|██████████| 1/1 [00:00<00:00, 333.44file/s, chunks=21]\n"
     ]
    },
    {
     "name": "stdout",
     "output_type": "stream",
     "text": [
      "Chunks saved to outputs_pipeline/article1_chunks05.json\n"
     ]
    },
    {
     "name": "stderr",
     "output_type": "stream",
     "text": [
      "Chunking: 100%|██████████| 1/1 [00:00<00:00, 58.24file/s, chunks=42]\n"
     ]
    },
    {
     "name": "stdout",
     "output_type": "stream",
     "text": [
      "Chunks saved to outputs_pipeline/article1_chunks05.json\n"
     ]
    },
    {
     "name": "stderr",
     "output_type": "stream",
     "text": [
      "Chunking: 100%|██████████| 1/1 [00:00<00:00, 499.80file/s, chunks=5]\n"
     ]
    },
    {
     "name": "stdout",
     "output_type": "stream",
     "text": [
      "Chunks saved to outputs_pipeline/article1_chunks05.json\n"
     ]
    },
    {
     "name": "stderr",
     "output_type": "stream",
     "text": [
      "Chunking: 100%|██████████| 1/1 [00:00<00:00, 499.68file/s, chunks=16]\n"
     ]
    },
    {
     "name": "stdout",
     "output_type": "stream",
     "text": [
      "Chunks saved to outputs_pipeline/article1_chunks05.json\n"
     ]
    },
    {
     "name": "stderr",
     "output_type": "stream",
     "text": [
      "Chunking: 100%|██████████| 1/1 [00:00<00:00, 32.65file/s, chunks=7]\n"
     ]
    },
    {
     "name": "stdout",
     "output_type": "stream",
     "text": [
      "Chunks saved to outputs_pipeline/article1_chunks05.json\n"
     ]
    },
    {
     "name": "stderr",
     "output_type": "stream",
     "text": [
      "Chunking: 100%|██████████| 1/1 [00:00<00:00, 249.53file/s, chunks=9]\n"
     ]
    },
    {
     "name": "stdout",
     "output_type": "stream",
     "text": [
      "Chunks saved to outputs_pipeline/article1_chunks05.json\n"
     ]
    },
    {
     "name": "stderr",
     "output_type": "stream",
     "text": [
      "Chunking: 100%|██████████| 1/1 [00:00<00:00, 249.59file/s, chunks=6]\n"
     ]
    },
    {
     "name": "stdout",
     "output_type": "stream",
     "text": [
      "Chunks saved to outputs_pipeline/article1_chunks05.json\n"
     ]
    },
    {
     "name": "stderr",
     "output_type": "stream",
     "text": [
      "Chunking: 100%|██████████| 1/1 [00:00<00:00, 327.30file/s, chunks=7]\n"
     ]
    },
    {
     "name": "stdout",
     "output_type": "stream",
     "text": [
      "Chunks saved to outputs_pipeline/article1_chunks05.json\n"
     ]
    },
    {
     "name": "stderr",
     "output_type": "stream",
     "text": [
      "Chunking: 100%|██████████| 1/1 [00:00<00:00, 221.90file/s, chunks=8]"
     ]
    },
    {
     "name": "stdout",
     "output_type": "stream",
     "text": [
      "Chunks saved to outputs_pipeline/article1_chunks05.json"
     ]
    },
    {
     "name": "stderr",
     "output_type": "stream",
     "text": [
      "\n"
     ]
    },
    {
     "name": "stdout",
     "output_type": "stream",
     "text": [
      "\n"
     ]
    },
    {
     "name": "stderr",
     "output_type": "stream",
     "text": [
      "Chunking: 100%|██████████| 1/1 [00:00<00:00, 43.44file/s, chunks=69]"
     ]
    },
    {
     "name": "stdout",
     "output_type": "stream",
     "text": [
      "Chunks saved to outputs_pipeline/article1_chunks05.json"
     ]
    },
    {
     "name": "stderr",
     "output_type": "stream",
     "text": [
      "\n"
     ]
    },
    {
     "name": "stdout",
     "output_type": "stream",
     "text": [
      "\n"
     ]
    },
    {
     "name": "stderr",
     "output_type": "stream",
     "text": [
      "Chunking: 100%|██████████| 1/1 [00:00<00:00, 497.31file/s, chunks=9]"
     ]
    },
    {
     "name": "stdout",
     "output_type": "stream",
     "text": [
      "Chunks saved to outputs_pipeline/article1_chunks05.json"
     ]
    },
    {
     "name": "stderr",
     "output_type": "stream",
     "text": [
      "\n"
     ]
    },
    {
     "name": "stdout",
     "output_type": "stream",
     "text": [
      "\n"
     ]
    },
    {
     "name": "stderr",
     "output_type": "stream",
     "text": [
      "Chunking: 100%|██████████| 1/1 [00:00<00:00, 499.38file/s, chunks=7]\n"
     ]
    },
    {
     "name": "stdout",
     "output_type": "stream",
     "text": [
      "Chunks saved to outputs_pipeline/article1_chunks05.json\n"
     ]
    },
    {
     "name": "stderr",
     "output_type": "stream",
     "text": [
      "Chunking: 100%|██████████| 1/1 [00:00<00:00, 76.23file/s, chunks=6]\n"
     ]
    },
    {
     "name": "stdout",
     "output_type": "stream",
     "text": [
      "Chunks saved to outputs_pipeline/article1_chunks05.json\n"
     ]
    },
    {
     "name": "stderr",
     "output_type": "stream",
     "text": [
      "Chunking: 100%|██████████| 1/1 [00:00<00:00, 1060.51file/s, chunks=11]\n"
     ]
    },
    {
     "name": "stdout",
     "output_type": "stream",
     "text": [
      "Chunks saved to outputs_pipeline/article1_chunks05.json\n"
     ]
    },
    {
     "name": "stderr",
     "output_type": "stream",
     "text": [
      "Chunking: 100%|██████████| 1/1 [00:00<00:00, 284.86file/s, chunks=37]\n"
     ]
    },
    {
     "name": "stdout",
     "output_type": "stream",
     "text": [
      "Chunks saved to outputs_pipeline/article1_chunks05.json\n"
     ]
    },
    {
     "name": "stderr",
     "output_type": "stream",
     "text": [
      "Chunking: 100%|██████████| 1/1 [00:00<00:00, 67.20file/s, chunks=38]\n"
     ]
    },
    {
     "name": "stdout",
     "output_type": "stream",
     "text": [
      "Chunks saved to outputs_pipeline/article1_chunks05.json\n"
     ]
    },
    {
     "name": "stderr",
     "output_type": "stream",
     "text": [
      "Chunking: 100%|██████████| 1/1 [00:00<00:00, 123.30file/s, chunks=28]\n"
     ]
    },
    {
     "name": "stdout",
     "output_type": "stream",
     "text": [
      "Chunks saved to outputs_pipeline/article1_chunks05.json\n"
     ]
    },
    {
     "name": "stderr",
     "output_type": "stream",
     "text": [
      "Chunking: 100%|██████████| 1/1 [00:00<00:00, 328.60file/s, chunks=20]"
     ]
    },
    {
     "name": "stdout",
     "output_type": "stream",
     "text": [
      "Chunks saved to outputs_pipeline/article1_chunks05.json"
     ]
    },
    {
     "name": "stderr",
     "output_type": "stream",
     "text": [
      "\n"
     ]
    },
    {
     "name": "stdout",
     "output_type": "stream",
     "text": [
      "\n"
     ]
    },
    {
     "name": "stderr",
     "output_type": "stream",
     "text": [
      "Chunking: 100%|██████████| 1/1 [00:00<00:00, 416.39file/s, chunks=5]\n"
     ]
    },
    {
     "name": "stdout",
     "output_type": "stream",
     "text": [
      "Chunks saved to outputs_pipeline/article1_chunks05.json\n"
     ]
    },
    {
     "name": "stderr",
     "output_type": "stream",
     "text": [
      "Chunking: 100%|██████████| 1/1 [00:00<00:00, 249.94file/s, chunks=19]\n"
     ]
    },
    {
     "name": "stdout",
     "output_type": "stream",
     "text": [
      "Chunks saved to outputs_pipeline/article1_chunks05.json\n"
     ]
    },
    {
     "name": "stderr",
     "output_type": "stream",
     "text": [
      "Chunking: 100%|██████████| 1/1 [00:00<00:00, 500.22file/s, chunks=42]\n"
     ]
    },
    {
     "name": "stdout",
     "output_type": "stream",
     "text": [
      "Chunks saved to outputs_pipeline/article1_chunks05.json\n"
     ]
    },
    {
     "name": "stderr",
     "output_type": "stream",
     "text": [
      "Chunking: 100%|██████████| 1/1 [00:00<00:00, 250.09file/s, chunks=86]\n"
     ]
    },
    {
     "name": "stdout",
     "output_type": "stream",
     "text": [
      "Chunks saved to outputs_pipeline/article1_chunks05.json\n"
     ]
    },
    {
     "name": "stderr",
     "output_type": "stream",
     "text": [
      "Chunking: 100%|██████████| 1/1 [00:00<00:00, 499.86file/s, chunks=25]\n"
     ]
    },
    {
     "name": "stdout",
     "output_type": "stream",
     "text": [
      "Chunks saved to outputs_pipeline/article1_chunks05.json\n"
     ]
    },
    {
     "name": "stderr",
     "output_type": "stream",
     "text": [
      "Chunking: 100%|██████████| 1/1 [00:00<00:00, 503.16file/s, chunks=16]\n"
     ]
    },
    {
     "name": "stdout",
     "output_type": "stream",
     "text": [
      "Chunks saved to outputs_pipeline/article1_chunks05.json\n"
     ]
    },
    {
     "name": "stderr",
     "output_type": "stream",
     "text": [
      "Chunking: 100%|██████████| 1/1 [00:00<00:00, 250.20file/s, chunks=96]\n"
     ]
    },
    {
     "name": "stdout",
     "output_type": "stream",
     "text": [
      "Chunks saved to outputs_pipeline/article1_chunks05.json\n"
     ]
    },
    {
     "name": "stderr",
     "output_type": "stream",
     "text": [
      "Chunking: 100%|██████████| 1/1 [00:00<00:00, 500.04file/s, chunks=13]\n"
     ]
    },
    {
     "name": "stdout",
     "output_type": "stream",
     "text": [
      "Chunks saved to outputs_pipeline/article1_chunks05.json\n"
     ]
    },
    {
     "name": "stderr",
     "output_type": "stream",
     "text": [
      "Chunking: 100%|██████████| 1/1 [00:00<00:00, 284.19file/s, chunks=29]\n"
     ]
    },
    {
     "name": "stdout",
     "output_type": "stream",
     "text": [
      "Chunks saved to outputs_pipeline/article1_chunks05.json\n"
     ]
    },
    {
     "name": "stderr",
     "output_type": "stream",
     "text": [
      "Chunking: 100%|██████████| 1/1 [00:00<00:00, 249.59file/s, chunks=64]\n"
     ]
    },
    {
     "name": "stdout",
     "output_type": "stream",
     "text": [
      "Chunks saved to outputs_pipeline/article1_chunks05.json\n"
     ]
    },
    {
     "name": "stderr",
     "output_type": "stream",
     "text": [
      "Chunking: 100%|██████████| 1/1 [00:00<00:00, 61.98file/s, chunks=52]\n"
     ]
    },
    {
     "name": "stdout",
     "output_type": "stream",
     "text": [
      "Chunks saved to outputs_pipeline/article1_chunks05.json\n"
     ]
    },
    {
     "name": "stderr",
     "output_type": "stream",
     "text": [
      "Chunking: 100%|██████████| 1/1 [00:00<00:00, 665.23file/s, chunks=7]\n"
     ]
    },
    {
     "name": "stdout",
     "output_type": "stream",
     "text": [
      "Chunks saved to outputs_pipeline/article1_chunks05.json\n"
     ]
    },
    {
     "name": "stderr",
     "output_type": "stream",
     "text": [
      "Chunking: 100%|██████████| 1/1 [00:00<00:00, 249.79file/s, chunks=39]\n"
     ]
    },
    {
     "name": "stdout",
     "output_type": "stream",
     "text": [
      "Chunks saved to outputs_pipeline/article1_chunks05.json\n"
     ]
    },
    {
     "name": "stderr",
     "output_type": "stream",
     "text": [
      "Chunking: 100%|██████████| 1/1 [00:00<00:00, 500.10file/s, chunks=7]\n"
     ]
    },
    {
     "name": "stdout",
     "output_type": "stream",
     "text": [
      "Chunks saved to outputs_pipeline/article1_chunks05.json\n"
     ]
    },
    {
     "name": "stderr",
     "output_type": "stream",
     "text": [
      "Chunking: 100%|██████████| 1/1 [00:00<00:00, 246.84file/s, chunks=28]"
     ]
    },
    {
     "name": "stdout",
     "output_type": "stream",
     "text": [
      "Chunks saved to outputs_pipeline/article1_chunks05.json"
     ]
    },
    {
     "name": "stderr",
     "output_type": "stream",
     "text": [
      "\n"
     ]
    },
    {
     "name": "stdout",
     "output_type": "stream",
     "text": [
      "\n"
     ]
    },
    {
     "name": "stderr",
     "output_type": "stream",
     "text": [
      "Chunking: 100%|██████████| 1/1 [00:00<00:00, 500.10file/s, chunks=22]\n"
     ]
    },
    {
     "name": "stdout",
     "output_type": "stream",
     "text": [
      "Chunks saved to outputs_pipeline/article1_chunks05.json\n"
     ]
    },
    {
     "name": "stderr",
     "output_type": "stream",
     "text": [
      "Chunking: 100%|██████████| 1/1 [00:00<00:00, 181.62file/s, chunks=104]\n"
     ]
    },
    {
     "name": "stdout",
     "output_type": "stream",
     "text": [
      "Chunks saved to outputs_pipeline/article1_chunks05.json\n"
     ]
    },
    {
     "name": "stderr",
     "output_type": "stream",
     "text": [
      "Chunking: 100%|██████████| 1/1 [00:00<00:00, 665.13file/s, chunks=16]\n"
     ]
    },
    {
     "name": "stdout",
     "output_type": "stream",
     "text": [
      "Chunks saved to outputs_pipeline/article1_chunks05.json\n"
     ]
    },
    {
     "name": "stderr",
     "output_type": "stream",
     "text": [
      "Chunking: 100%|██████████| 1/1 [00:00<00:00, 499.74file/s, chunks=11]\n"
     ]
    },
    {
     "name": "stdout",
     "output_type": "stream",
     "text": [
      "Chunks saved to outputs_pipeline/article1_chunks05.json\n"
     ]
    },
    {
     "name": "stderr",
     "output_type": "stream",
     "text": [
      "Chunking: 100%|██████████| 1/1 [00:00<00:00, 117.41file/s, chunks=11]\n"
     ]
    },
    {
     "name": "stdout",
     "output_type": "stream",
     "text": [
      "Chunks saved to outputs_pipeline/article1_chunks05.json\n"
     ]
    },
    {
     "name": "stderr",
     "output_type": "stream",
     "text": [
      "Chunking: 100%|██████████| 1/1 [00:00<00:00, 499.98file/s, chunks=5]\n"
     ]
    },
    {
     "name": "stdout",
     "output_type": "stream",
     "text": [
      "Chunks saved to outputs_pipeline/article1_chunks05.json\n"
     ]
    },
    {
     "name": "stderr",
     "output_type": "stream",
     "text": [
      "Chunking: 100%|██████████| 1/1 [00:00<00:00, 155.41file/s, chunks=20]"
     ]
    },
    {
     "name": "stdout",
     "output_type": "stream",
     "text": [
      "Chunks saved to outputs_pipeline/article1_chunks05.json"
     ]
    },
    {
     "name": "stderr",
     "output_type": "stream",
     "text": [
      "\n"
     ]
    },
    {
     "name": "stdout",
     "output_type": "stream",
     "text": [
      "\n"
     ]
    },
    {
     "name": "stderr",
     "output_type": "stream",
     "text": [
      "Chunking: 100%|██████████| 1/1 [00:00<00:00, 999.12file/s, chunks=17]"
     ]
    },
    {
     "name": "stdout",
     "output_type": "stream",
     "text": [
      "Chunks saved to outputs_pipeline/article1_chunks05.json"
     ]
    },
    {
     "name": "stderr",
     "output_type": "stream",
     "text": [
      "\n"
     ]
    },
    {
     "name": "stdout",
     "output_type": "stream",
     "text": [
      "\n"
     ]
    },
    {
     "name": "stderr",
     "output_type": "stream",
     "text": [
      "Chunking: 100%|██████████| 1/1 [00:00<00:00, 333.07file/s, chunks=26]\n"
     ]
    },
    {
     "name": "stdout",
     "output_type": "stream",
     "text": [
      "Chunks saved to outputs_pipeline/article1_chunks05.json\n"
     ]
    },
    {
     "name": "stderr",
     "output_type": "stream",
     "text": [
      "Chunking: 100%|██████████| 1/1 [00:00<00:00, 250.05file/s, chunks=31]\n"
     ]
    },
    {
     "name": "stdout",
     "output_type": "stream",
     "text": [
      "Chunks saved to outputs_pipeline/article1_chunks05.json\n"
     ]
    },
    {
     "name": "stderr",
     "output_type": "stream",
     "text": [
      "Chunking: 100%|██████████| 1/1 [00:00<00:00, 502.37file/s, chunks=6]\n"
     ]
    },
    {
     "name": "stdout",
     "output_type": "stream",
     "text": [
      "Chunks saved to outputs_pipeline/article1_chunks05.json\n"
     ]
    },
    {
     "name": "stderr",
     "output_type": "stream",
     "text": [
      "Chunking: 100%|██████████| 1/1 [00:00<00:00, 333.17file/s, chunks=26]\n"
     ]
    },
    {
     "name": "stdout",
     "output_type": "stream",
     "text": [
      "Chunks saved to outputs_pipeline/article1_chunks05.json\n"
     ]
    },
    {
     "name": "stderr",
     "output_type": "stream",
     "text": [
      "Chunking: 100%|██████████| 1/1 [00:00<00:00, 333.41file/s, chunks=44]\n"
     ]
    },
    {
     "name": "stdout",
     "output_type": "stream",
     "text": [
      "Chunks saved to outputs_pipeline/article1_chunks05.json\n"
     ]
    },
    {
     "name": "stderr",
     "output_type": "stream",
     "text": [
      "Chunking: 100%|██████████| 1/1 [00:00<00:00, 500.10file/s, chunks=56]\n"
     ]
    },
    {
     "name": "stdout",
     "output_type": "stream",
     "text": [
      "Chunks saved to outputs_pipeline/article1_chunks05.json\n"
     ]
    },
    {
     "name": "stderr",
     "output_type": "stream",
     "text": [
      "Chunking: 100%|██████████| 1/1 [00:00<00:00, 285.06file/s, chunks=12]\n"
     ]
    },
    {
     "name": "stdout",
     "output_type": "stream",
     "text": [
      "Chunks saved to outputs_pipeline/article1_chunks05.json\n"
     ]
    },
    {
     "name": "stderr",
     "output_type": "stream",
     "text": [
      "Chunking: 100%|██████████| 1/1 [00:00<00:00, 500.04file/s, chunks=12]"
     ]
    },
    {
     "name": "stdout",
     "output_type": "stream",
     "text": [
      "Chunks saved to outputs_pipeline/article1_chunks05.json"
     ]
    },
    {
     "name": "stderr",
     "output_type": "stream",
     "text": [
      "\n"
     ]
    },
    {
     "name": "stdout",
     "output_type": "stream",
     "text": [
      "\n"
     ]
    },
    {
     "name": "stderr",
     "output_type": "stream",
     "text": [
      "Chunking: 100%|██████████| 1/1 [00:00<00:00, 250.00file/s, chunks=48]"
     ]
    },
    {
     "name": "stdout",
     "output_type": "stream",
     "text": [
      "Chunks saved to outputs_pipeline/article1_chunks05.json"
     ]
    },
    {
     "name": "stderr",
     "output_type": "stream",
     "text": [
      "\n"
     ]
    },
    {
     "name": "stdout",
     "output_type": "stream",
     "text": [
      "\n"
     ]
    },
    {
     "name": "stderr",
     "output_type": "stream",
     "text": [
      "Chunking: 100%|██████████| 1/1 [00:00<00:00, 221.99file/s, chunks=46]\n"
     ]
    },
    {
     "name": "stdout",
     "output_type": "stream",
     "text": [
      "Chunks saved to outputs_pipeline/article1_chunks05.json\n"
     ]
    },
    {
     "name": "stderr",
     "output_type": "stream",
     "text": [
      "Chunking: 100%|██████████| 1/1 [00:00<00:00, 500.04file/s, chunks=17]\n"
     ]
    },
    {
     "name": "stdout",
     "output_type": "stream",
     "text": [
      "Chunks saved to outputs_pipeline/article1_chunks05.json\n"
     ]
    },
    {
     "name": "stderr",
     "output_type": "stream",
     "text": [
      "Chunking: 100%|██████████| 1/1 [00:00<00:00, 500.04file/s, chunks=7]\n"
     ]
    },
    {
     "name": "stdout",
     "output_type": "stream",
     "text": [
      "Chunks saved to outputs_pipeline/article1_chunks05.json\n"
     ]
    },
    {
     "name": "stderr",
     "output_type": "stream",
     "text": [
      "Chunking: 100%|██████████| 1/1 [00:00<00:00, 483.16file/s, chunks=16]\n"
     ]
    },
    {
     "name": "stdout",
     "output_type": "stream",
     "text": [
      "Chunks saved to outputs_pipeline/article1_chunks05.json\n"
     ]
    },
    {
     "name": "stderr",
     "output_type": "stream",
     "text": [
      "Chunking: 100%|██████████| 1/1 [00:00<00:00, 500.39file/s, chunks=75]"
     ]
    },
    {
     "name": "stdout",
     "output_type": "stream",
     "text": [
      "Chunks saved to outputs_pipeline/article1_chunks05.json"
     ]
    },
    {
     "name": "stderr",
     "output_type": "stream",
     "text": [
      "\n"
     ]
    },
    {
     "name": "stdout",
     "output_type": "stream",
     "text": [
      "\n"
     ]
    },
    {
     "name": "stderr",
     "output_type": "stream",
     "text": [
      "Chunking: 100%|██████████| 1/1 [00:00<00:00, 500.33file/s, chunks=35]\n"
     ]
    },
    {
     "name": "stdout",
     "output_type": "stream",
     "text": [
      "Chunks saved to outputs_pipeline/article1_chunks05.json\n"
     ]
    },
    {
     "name": "stderr",
     "output_type": "stream",
     "text": [
      "Chunking: 100%|██████████| 1/1 [00:00<00:00, 121.29file/s, chunks=43]\n"
     ]
    },
    {
     "name": "stdout",
     "output_type": "stream",
     "text": [
      "Chunks saved to outputs_pipeline/article1_chunks05.json\n"
     ]
    },
    {
     "name": "stderr",
     "output_type": "stream",
     "text": [
      "Chunking: 100%|██████████| 1/1 [00:00<00:00, 96.30file/s, chunks=7]"
     ]
    },
    {
     "name": "stdout",
     "output_type": "stream",
     "text": [
      "Chunks saved to outputs_pipeline/article1_chunks05.json\n"
     ]
    },
    {
     "name": "stderr",
     "output_type": "stream",
     "text": [
      "\n",
      "Chunking: 100%|██████████| 1/1 [00:00<00:00, 333.07file/s, chunks=20]\n"
     ]
    },
    {
     "name": "stdout",
     "output_type": "stream",
     "text": [
      "Chunks saved to outputs_pipeline/article1_chunks05.json\n"
     ]
    },
    {
     "name": "stderr",
     "output_type": "stream",
     "text": [
      "Chunking: 100%|██████████| 1/1 [00:00<00:00, 199.93file/s, chunks=25]\n"
     ]
    },
    {
     "name": "stdout",
     "output_type": "stream",
     "text": [
      "Chunks saved to outputs_pipeline/article1_chunks05.json\n"
     ]
    },
    {
     "name": "stderr",
     "output_type": "stream",
     "text": [
      "Chunking: 100%|██████████| 1/1 [00:00<00:00, 371.54file/s, chunks=50]\n"
     ]
    },
    {
     "name": "stdout",
     "output_type": "stream",
     "text": [
      "Chunks saved to outputs_pipeline/article1_chunks05.json\n"
     ]
    },
    {
     "name": "stderr",
     "output_type": "stream",
     "text": [
      "Chunking: 100%|██████████| 1/1 [00:00<00:00, 399.53file/s, chunks=14]"
     ]
    },
    {
     "name": "stdout",
     "output_type": "stream",
     "text": [
      "Chunks saved to outputs_pipeline/article1_chunks05.json\n"
     ]
    },
    {
     "name": "stderr",
     "output_type": "stream",
     "text": [
      "\n",
      "Chunking: 100%|██████████| 1/1 [00:00<00:00, 499.86file/s, chunks=18]\n"
     ]
    },
    {
     "name": "stdout",
     "output_type": "stream",
     "text": [
      "Chunks saved to outputs_pipeline/article1_chunks05.json\n"
     ]
    },
    {
     "name": "stderr",
     "output_type": "stream",
     "text": [
      "Chunking: 100%|██████████| 1/1 [00:00<00:00, 333.38file/s, chunks=47]"
     ]
    },
    {
     "name": "stdout",
     "output_type": "stream",
     "text": [
      "Chunks saved to outputs_pipeline/article1_chunks05.json"
     ]
    },
    {
     "name": "stderr",
     "output_type": "stream",
     "text": [
      "\n"
     ]
    },
    {
     "name": "stdout",
     "output_type": "stream",
     "text": [
      "\n"
     ]
    },
    {
     "name": "stderr",
     "output_type": "stream",
     "text": [
      "Chunking: 100%|██████████| 1/1 [00:00<00:00, 1000.31file/s, chunks=16]\n"
     ]
    },
    {
     "name": "stdout",
     "output_type": "stream",
     "text": [
      "Chunks saved to outputs_pipeline/article1_chunks05.json\n"
     ]
    },
    {
     "name": "stderr",
     "output_type": "stream",
     "text": [
      "Chunking: 100%|██████████| 1/1 [00:00<00:00, 332.22file/s, chunks=15]\n"
     ]
    },
    {
     "name": "stdout",
     "output_type": "stream",
     "text": [
      "Chunks saved to outputs_pipeline/article1_chunks05.json\n"
     ]
    },
    {
     "name": "stderr",
     "output_type": "stream",
     "text": [
      "Chunking: 100%|██████████| 1/1 [00:00<00:00, 395.73file/s, chunks=9]"
     ]
    },
    {
     "name": "stdout",
     "output_type": "stream",
     "text": [
      "Chunks saved to outputs_pipeline/article1_chunks05.json"
     ]
    },
    {
     "name": "stderr",
     "output_type": "stream",
     "text": [
      "\n"
     ]
    },
    {
     "name": "stdout",
     "output_type": "stream",
     "text": [
      "\n"
     ]
    },
    {
     "name": "stderr",
     "output_type": "stream",
     "text": [
      "Chunking: 100%|██████████| 1/1 [00:00<00:00, 500.22file/s, chunks=16]"
     ]
    },
    {
     "name": "stdout",
     "output_type": "stream",
     "text": [
      "Chunks saved to outputs_pipeline/article1_chunks05.json"
     ]
    },
    {
     "name": "stderr",
     "output_type": "stream",
     "text": [
      "\n"
     ]
    },
    {
     "name": "stdout",
     "output_type": "stream",
     "text": [
      "\n"
     ]
    },
    {
     "name": "stderr",
     "output_type": "stream",
     "text": [
      "Chunking: 100%|██████████| 1/1 [00:00<00:00, 333.38file/s, chunks=24]"
     ]
    },
    {
     "name": "stdout",
     "output_type": "stream",
     "text": [
      "Chunks saved to outputs_pipeline/article1_chunks05.json"
     ]
    },
    {
     "name": "stderr",
     "output_type": "stream",
     "text": [
      "\n"
     ]
    },
    {
     "name": "stdout",
     "output_type": "stream",
     "text": [
      "\n"
     ]
    },
    {
     "name": "stderr",
     "output_type": "stream",
     "text": [
      "Chunking: 100%|██████████| 1/1 [00:00<00:00, 399.38file/s, chunks=59]\n"
     ]
    },
    {
     "name": "stdout",
     "output_type": "stream",
     "text": [
      "Chunks saved to outputs_pipeline/article1_chunks05.json\n"
     ]
    },
    {
     "name": "stderr",
     "output_type": "stream",
     "text": [
      "Chunking: 100%|██████████| 1/1 [00:00<00:00, 498.20file/s, chunks=48]\n"
     ]
    },
    {
     "name": "stdout",
     "output_type": "stream",
     "text": [
      "Chunks saved to outputs_pipeline/article1_chunks05.json\n"
     ]
    },
    {
     "name": "stderr",
     "output_type": "stream",
     "text": [
      "Chunking: 100%|██████████| 1/1 [00:00<00:00, 719.56file/s, chunks=4]"
     ]
    },
    {
     "name": "stdout",
     "output_type": "stream",
     "text": [
      "Chunks saved to outputs_pipeline/article1_chunks05.json"
     ]
    },
    {
     "name": "stderr",
     "output_type": "stream",
     "text": [
      "\n"
     ]
    },
    {
     "name": "stdout",
     "output_type": "stream",
     "text": [
      "\n"
     ]
    },
    {
     "name": "stderr",
     "output_type": "stream",
     "text": [
      "Chunking: 100%|██████████| 1/1 [00:00<00:00, 285.13file/s, chunks=37]\n"
     ]
    },
    {
     "name": "stdout",
     "output_type": "stream",
     "text": [
      "Chunks saved to outputs_pipeline/article1_chunks05.json\n"
     ]
    },
    {
     "name": "stderr",
     "output_type": "stream",
     "text": [
      "Chunking: 100%|██████████| 1/1 [00:00<00:00, 408.40file/s, chunks=7]\n"
     ]
    },
    {
     "name": "stdout",
     "output_type": "stream",
     "text": [
      "Chunks saved to outputs_pipeline/article1_chunks05.json\n"
     ]
    },
    {
     "name": "stderr",
     "output_type": "stream",
     "text": [
      "Chunking: 100%|██████████| 1/1 [00:00<00:00, 240.33file/s, chunks=17]\n"
     ]
    },
    {
     "name": "stdout",
     "output_type": "stream",
     "text": [
      "Chunks saved to outputs_pipeline/article1_chunks05.json\n"
     ]
    },
    {
     "name": "stderr",
     "output_type": "stream",
     "text": [
      "Chunking: 100%|██████████| 1/1 [00:00<00:00, 333.36file/s, chunks=24]"
     ]
    },
    {
     "name": "stdout",
     "output_type": "stream",
     "text": [
      "Chunks saved to outputs_pipeline/article1_chunks05.json"
     ]
    },
    {
     "name": "stderr",
     "output_type": "stream",
     "text": [
      "\n"
     ]
    },
    {
     "name": "stdout",
     "output_type": "stream",
     "text": [
      "\n"
     ]
    },
    {
     "name": "stderr",
     "output_type": "stream",
     "text": [
      "Chunking: 100%|██████████| 1/1 [00:00<00:00, 499.56file/s, chunks=6]\n"
     ]
    },
    {
     "name": "stdout",
     "output_type": "stream",
     "text": [
      "Chunks saved to outputs_pipeline/article1_chunks05.json\n"
     ]
    },
    {
     "name": "stderr",
     "output_type": "stream",
     "text": [
      "Chunking: 100%|██████████| 1/1 [00:00<00:00, 333.38file/s, chunks=38]"
     ]
    },
    {
     "name": "stdout",
     "output_type": "stream",
     "text": [
      "Chunks saved to outputs_pipeline/article1_chunks05.json"
     ]
    },
    {
     "name": "stderr",
     "output_type": "stream",
     "text": [
      "\n"
     ]
    },
    {
     "name": "stdout",
     "output_type": "stream",
     "text": [
      "\n"
     ]
    },
    {
     "name": "stderr",
     "output_type": "stream",
     "text": [
      "Chunking: 100%|██████████| 1/1 [00:00<00:00, 500.16file/s, chunks=11]\n"
     ]
    },
    {
     "name": "stdout",
     "output_type": "stream",
     "text": [
      "Chunks saved to outputs_pipeline/article1_chunks05.json\n"
     ]
    },
    {
     "name": "stderr",
     "output_type": "stream",
     "text": [
      "Chunking: 100%|██████████| 1/1 [00:00<00:00, 399.23file/s, chunks=8]\n"
     ]
    },
    {
     "name": "stdout",
     "output_type": "stream",
     "text": [
      "Chunks saved to outputs_pipeline/article1_chunks05.json\n"
     ]
    },
    {
     "name": "stderr",
     "output_type": "stream",
     "text": [
      "Chunking: 100%|██████████| 1/1 [00:00<00:00, 500.16file/s, chunks=17]\n"
     ]
    },
    {
     "name": "stdout",
     "output_type": "stream",
     "text": [
      "Chunks saved to outputs_pipeline/article1_chunks05.json\n"
     ]
    },
    {
     "name": "stderr",
     "output_type": "stream",
     "text": [
      "Chunking: 100%|██████████| 1/1 [00:00<00:00, 1000.31file/s, chunks=4]"
     ]
    },
    {
     "name": "stdout",
     "output_type": "stream",
     "text": [
      "Chunks saved to outputs_pipeline/article1_chunks05.json"
     ]
    },
    {
     "name": "stderr",
     "output_type": "stream",
     "text": [
      "\n"
     ]
    },
    {
     "name": "stdout",
     "output_type": "stream",
     "text": [
      "\n"
     ]
    },
    {
     "name": "stderr",
     "output_type": "stream",
     "text": [
      "Chunking: 100%|██████████| 1/1 [00:00<00:00, 499.86file/s, chunks=27]"
     ]
    },
    {
     "name": "stdout",
     "output_type": "stream",
     "text": [
      "Chunks saved to outputs_pipeline/article1_chunks05.json"
     ]
    },
    {
     "name": "stderr",
     "output_type": "stream",
     "text": [
      "\n"
     ]
    },
    {
     "name": "stdout",
     "output_type": "stream",
     "text": [
      "\n"
     ]
    },
    {
     "name": "stderr",
     "output_type": "stream",
     "text": [
      "Chunking: 100%|██████████| 1/1 [00:00<00:00, 1000.55file/s, chunks=8]"
     ]
    },
    {
     "name": "stdout",
     "output_type": "stream",
     "text": [
      "Chunks saved to outputs_pipeline/article1_chunks05.json"
     ]
    },
    {
     "name": "stderr",
     "output_type": "stream",
     "text": [
      "\n"
     ]
    },
    {
     "name": "stdout",
     "output_type": "stream",
     "text": [
      "\n"
     ]
    },
    {
     "name": "stderr",
     "output_type": "stream",
     "text": [
      "Chunking: 100%|██████████| 1/1 [00:00<00:00, 27.00file/s, chunks=33]\n"
     ]
    },
    {
     "name": "stdout",
     "output_type": "stream",
     "text": [
      "Chunks saved to outputs_pipeline/article1_chunks05.json\n"
     ]
    },
    {
     "name": "stderr",
     "output_type": "stream",
     "text": [
      "Chunking: 100%|██████████| 1/1 [00:00<00:00, 221.87file/s, chunks=94]\n"
     ]
    },
    {
     "name": "stdout",
     "output_type": "stream",
     "text": [
      "Chunks saved to outputs_pipeline/article1_chunks05.json\n"
     ]
    },
    {
     "name": "stderr",
     "output_type": "stream",
     "text": [
      "Chunking: 100%|██████████| 1/1 [00:00<00:00, 333.41file/s, chunks=21]\n"
     ]
    },
    {
     "name": "stdout",
     "output_type": "stream",
     "text": [
      "Chunks saved to outputs_pipeline/article1_chunks05.json\n"
     ]
    },
    {
     "name": "stderr",
     "output_type": "stream",
     "text": [
      "Chunking: 100%|██████████| 1/1 [00:00<00:00, 333.15file/s, chunks=5]\n"
     ]
    },
    {
     "name": "stdout",
     "output_type": "stream",
     "text": [
      "Chunks saved to outputs_pipeline/article1_chunks05.json\n"
     ]
    },
    {
     "name": "stderr",
     "output_type": "stream",
     "text": [
      "Chunking: 100%|██████████| 1/1 [00:00<00:00, 190.62file/s, chunks=87]\n"
     ]
    },
    {
     "name": "stdout",
     "output_type": "stream",
     "text": [
      "Chunks saved to outputs_pipeline/article1_chunks05.json\n"
     ]
    },
    {
     "name": "stderr",
     "output_type": "stream",
     "text": [
      "Chunking: 100%|██████████| 1/1 [00:00<00:00, 332.88file/s, chunks=54]"
     ]
    },
    {
     "name": "stdout",
     "output_type": "stream",
     "text": [
      "Chunks saved to outputs_pipeline/article1_chunks05.json"
     ]
    },
    {
     "name": "stderr",
     "output_type": "stream",
     "text": [
      "\n"
     ]
    },
    {
     "name": "stdout",
     "output_type": "stream",
     "text": [
      "\n"
     ]
    },
    {
     "name": "stderr",
     "output_type": "stream",
     "text": [
      "Chunking: 100%|██████████| 1/1 [00:00<00:00, 333.38file/s, chunks=38]"
     ]
    },
    {
     "name": "stdout",
     "output_type": "stream",
     "text": [
      "Chunks saved to outputs_pipeline/article1_chunks05.json"
     ]
    },
    {
     "name": "stderr",
     "output_type": "stream",
     "text": [
      "\n"
     ]
    },
    {
     "name": "stdout",
     "output_type": "stream",
     "text": [
      "\n"
     ]
    },
    {
     "name": "stderr",
     "output_type": "stream",
     "text": [
      "Chunking: 100%|██████████| 1/1 [00:00<00:00, 248.33file/s, chunks=47]\n"
     ]
    },
    {
     "name": "stdout",
     "output_type": "stream",
     "text": [
      "Chunks saved to outputs_pipeline/article1_chunks05.json\n"
     ]
    },
    {
     "name": "stderr",
     "output_type": "stream",
     "text": [
      "Chunking: 100%|██████████| 1/1 [00:00<00:00, 333.17file/s, chunks=40]\n"
     ]
    },
    {
     "name": "stdout",
     "output_type": "stream",
     "text": [
      "Chunks saved to outputs_pipeline/article1_chunks05.json\n"
     ]
    },
    {
     "name": "stderr",
     "output_type": "stream",
     "text": [
      "Chunking: 100%|██████████| 1/1 [00:00<00:00, 333.33file/s, chunks=33]\n"
     ]
    },
    {
     "name": "stdout",
     "output_type": "stream",
     "text": [
      "Chunks saved to outputs_pipeline/article1_chunks05.json\n"
     ]
    },
    {
     "name": "stderr",
     "output_type": "stream",
     "text": [
      "Chunking: 100%|██████████| 1/1 [00:00<00:00, 471.59file/s, chunks=26]\n"
     ]
    },
    {
     "name": "stdout",
     "output_type": "stream",
     "text": [
      "Chunks saved to outputs_pipeline/article1_chunks05.json\n"
     ]
    },
    {
     "name": "stderr",
     "output_type": "stream",
     "text": [
      "Chunking: 100%|██████████| 1/1 [00:00<00:00, 333.57file/s, chunks=50]\n"
     ]
    },
    {
     "name": "stdout",
     "output_type": "stream",
     "text": [
      "Chunks saved to outputs_pipeline/article1_chunks05.json\n"
     ]
    },
    {
     "name": "stderr",
     "output_type": "stream",
     "text": [
      "Chunking: 100%|██████████| 1/1 [00:00<00:00, 331.72file/s, chunks=29]"
     ]
    },
    {
     "name": "stdout",
     "output_type": "stream",
     "text": [
      "Chunks saved to outputs_pipeline/article1_chunks05.json\n"
     ]
    },
    {
     "name": "stderr",
     "output_type": "stream",
     "text": [
      "\n",
      "Chunking: 100%|██████████| 1/1 [00:00<00:00, 284.69file/s, chunks=48]\n"
     ]
    },
    {
     "name": "stdout",
     "output_type": "stream",
     "text": [
      "Chunks saved to outputs_pipeline/article1_chunks05.json\n"
     ]
    },
    {
     "name": "stderr",
     "output_type": "stream",
     "text": [
      "Chunking: 100%|██████████| 1/1 [00:00<00:00, 48.03file/s, chunks=23]\n"
     ]
    },
    {
     "name": "stdout",
     "output_type": "stream",
     "text": [
      "Chunks saved to outputs_pipeline/article1_chunks05.json\n"
     ]
    },
    {
     "name": "stderr",
     "output_type": "stream",
     "text": [
      "Chunking: 100%|██████████| 1/1 [00:00<00:00, 333.57file/s, chunks=33]\n"
     ]
    },
    {
     "name": "stdout",
     "output_type": "stream",
     "text": [
      "Chunks saved to outputs_pipeline/article1_chunks05.json\n"
     ]
    },
    {
     "name": "stderr",
     "output_type": "stream",
     "text": [
      "Chunking: 100%|██████████| 1/1 [00:00<00:00, 250.03file/s, chunks=43]"
     ]
    },
    {
     "name": "stdout",
     "output_type": "stream",
     "text": [
      "Chunks saved to outputs_pipeline/article1_chunks05.json"
     ]
    },
    {
     "name": "stderr",
     "output_type": "stream",
     "text": [
      "\n"
     ]
    },
    {
     "name": "stdout",
     "output_type": "stream",
     "text": [
      "\n"
     ]
    },
    {
     "name": "stderr",
     "output_type": "stream",
     "text": [
      "Chunking: 100%|██████████| 1/1 [00:00<00:00, 250.00file/s, chunks=33]"
     ]
    },
    {
     "name": "stdout",
     "output_type": "stream",
     "text": [
      "Chunks saved to outputs_pipeline/article1_chunks05.json"
     ]
    },
    {
     "name": "stderr",
     "output_type": "stream",
     "text": [
      "\n"
     ]
    },
    {
     "name": "stdout",
     "output_type": "stream",
     "text": [
      "\n"
     ]
    },
    {
     "name": "stderr",
     "output_type": "stream",
     "text": [
      "Chunking: 100%|██████████| 1/1 [00:00<00:00, 500.22file/s, chunks=46]"
     ]
    },
    {
     "name": "stdout",
     "output_type": "stream",
     "text": [
      "Chunks saved to outputs_pipeline/article1_chunks05.json"
     ]
    },
    {
     "name": "stderr",
     "output_type": "stream",
     "text": [
      "\n"
     ]
    },
    {
     "name": "stdout",
     "output_type": "stream",
     "text": [
      "\n"
     ]
    },
    {
     "name": "stderr",
     "output_type": "stream",
     "text": [
      "Chunking: 100%|██████████| 1/1 [00:00<00:00, 500.10file/s, chunks=33]\n"
     ]
    },
    {
     "name": "stdout",
     "output_type": "stream",
     "text": [
      "Chunks saved to outputs_pipeline/article1_chunks05.json\n"
     ]
    },
    {
     "name": "stderr",
     "output_type": "stream",
     "text": [
      "Chunking: 100%|██████████| 1/1 [00:00<00:00, 500.45file/s, chunks=40]\n"
     ]
    },
    {
     "name": "stdout",
     "output_type": "stream",
     "text": [
      "Chunks saved to outputs_pipeline/article1_chunks05.json\n"
     ]
    },
    {
     "name": "stderr",
     "output_type": "stream",
     "text": [
      "Chunking: 100%|██████████| 1/1 [00:00<00:00, 239.88file/s, chunks=28]\n"
     ]
    },
    {
     "name": "stdout",
     "output_type": "stream",
     "text": [
      "Chunks saved to outputs_pipeline/article1_chunks05.json\n"
     ]
    },
    {
     "name": "stderr",
     "output_type": "stream",
     "text": [
      "Chunking: 100%|██████████| 1/1 [00:00<00:00, 118.69file/s, chunks=45]\n"
     ]
    },
    {
     "name": "stdout",
     "output_type": "stream",
     "text": [
      "Chunks saved to outputs_pipeline/article1_chunks05.json\n"
     ]
    },
    {
     "name": "stderr",
     "output_type": "stream",
     "text": [
      "Chunking: 100%|██████████| 1/1 [00:00<00:00, 315.27file/s, chunks=12]\n"
     ]
    },
    {
     "name": "stdout",
     "output_type": "stream",
     "text": [
      "Chunks saved to outputs_pipeline/article1_chunks05.json\n"
     ]
    },
    {
     "name": "stderr",
     "output_type": "stream",
     "text": [
      "Chunking: 100%|██████████| 1/1 [00:00<00:00, 333.30file/s, chunks=27]\n"
     ]
    },
    {
     "name": "stdout",
     "output_type": "stream",
     "text": [
      "Chunks saved to outputs_pipeline/article1_chunks05.json\n"
     ]
    },
    {
     "name": "stderr",
     "output_type": "stream",
     "text": [
      "Chunking: 100%|██████████| 1/1 [00:00<00:00, 333.44file/s, chunks=31]\n"
     ]
    },
    {
     "name": "stdout",
     "output_type": "stream",
     "text": [
      "Chunks saved to outputs_pipeline/article1_chunks05.json\n"
     ]
    },
    {
     "name": "stderr",
     "output_type": "stream",
     "text": [
      "Chunking: 100%|██████████| 1/1 [00:00<00:00, 500.10file/s, chunks=20]\n"
     ]
    },
    {
     "name": "stdout",
     "output_type": "stream",
     "text": [
      "Chunks saved to outputs_pipeline/article1_chunks05.json\n"
     ]
    },
    {
     "name": "stderr",
     "output_type": "stream",
     "text": [
      "Chunking: 100%|██████████| 1/1 [00:00<00:00, 333.33file/s, chunks=38]\n"
     ]
    },
    {
     "name": "stdout",
     "output_type": "stream",
     "text": [
      "Chunks saved to outputs_pipeline/article1_chunks05.json\n"
     ]
    },
    {
     "name": "stderr",
     "output_type": "stream",
     "text": [
      "Chunking: 100%|██████████| 1/1 [00:00<00:00, 309.41file/s, chunks=25]\n"
     ]
    },
    {
     "name": "stdout",
     "output_type": "stream",
     "text": [
      "Chunks saved to outputs_pipeline/article1_chunks05.json\n"
     ]
    },
    {
     "name": "stderr",
     "output_type": "stream",
     "text": [
      "Chunking: 100%|██████████| 1/1 [00:00<00:00, 364.82file/s, chunks=42]\n"
     ]
    },
    {
     "name": "stdout",
     "output_type": "stream",
     "text": [
      "Chunks saved to outputs_pipeline/article1_chunks05.json\n"
     ]
    },
    {
     "name": "stderr",
     "output_type": "stream",
     "text": [
      "Chunking: 100%|██████████| 1/1 [00:00<00:00, 665.23file/s, chunks=21]\n"
     ]
    },
    {
     "name": "stdout",
     "output_type": "stream",
     "text": [
      "Chunks saved to outputs_pipeline/article1_chunks05.json\n"
     ]
    },
    {
     "name": "stderr",
     "output_type": "stream",
     "text": [
      "Chunking: 100%|██████████| 1/1 [00:00<00:00, 499.80file/s, chunks=16]\n"
     ]
    },
    {
     "name": "stdout",
     "output_type": "stream",
     "text": [
      "Chunks saved to outputs_pipeline/article1_chunks05.json\n"
     ]
    },
    {
     "name": "stderr",
     "output_type": "stream",
     "text": [
      "Chunking: 100%|██████████| 1/1 [00:00<00:00, 55.35file/s, chunks=60]\n"
     ]
    },
    {
     "name": "stdout",
     "output_type": "stream",
     "text": [
      "Chunks saved to outputs_pipeline/article1_chunks05.json\n"
     ]
    },
    {
     "name": "stderr",
     "output_type": "stream",
     "text": [
      "Chunking: 100%|██████████| 1/1 [00:00<00:00, 199.80file/s, chunks=15]\n"
     ]
    },
    {
     "name": "stdout",
     "output_type": "stream",
     "text": [
      "Chunks saved to outputs_pipeline/article1_chunks05.json\n"
     ]
    },
    {
     "name": "stderr",
     "output_type": "stream",
     "text": [
      "Chunking: 100%|██████████| 1/1 [00:00<00:00, 181.60file/s, chunks=86]\n"
     ]
    },
    {
     "name": "stdout",
     "output_type": "stream",
     "text": [
      "Chunks saved to outputs_pipeline/article1_chunks05.json\n"
     ]
    },
    {
     "name": "stderr",
     "output_type": "stream",
     "text": [
      "Chunking: 100%|██████████| 1/1 [00:00<00:00, 499.20file/s, chunks=37]\n"
     ]
    },
    {
     "name": "stdout",
     "output_type": "stream",
     "text": [
      "Chunks saved to outputs_pipeline/article1_chunks05.json\n"
     ]
    },
    {
     "name": "stderr",
     "output_type": "stream",
     "text": [
      "Chunking: 100%|██████████| 1/1 [00:00<00:00, 99.90file/s, chunks=13]\n"
     ]
    },
    {
     "name": "stdout",
     "output_type": "stream",
     "text": [
      "Chunks saved to outputs_pipeline/article1_chunks05.json\n"
     ]
    },
    {
     "name": "stderr",
     "output_type": "stream",
     "text": [
      "Chunking: 100%|██████████| 1/1 [00:00<00:00, 333.52file/s, chunks=41]\n"
     ]
    },
    {
     "name": "stdout",
     "output_type": "stream",
     "text": [
      "Chunks saved to outputs_pipeline/article1_chunks05.json\n"
     ]
    },
    {
     "name": "stderr",
     "output_type": "stream",
     "text": [
      "Chunking: 100%|██████████| 1/1 [00:00<00:00, 500.10file/s, chunks=34]\n"
     ]
    },
    {
     "name": "stdout",
     "output_type": "stream",
     "text": [
      "Chunks saved to outputs_pipeline/article1_chunks05.json\n"
     ]
    },
    {
     "name": "stderr",
     "output_type": "stream",
     "text": [
      "Chunking: 100%|██████████| 1/1 [00:00<00:00, 333.36file/s, chunks=30]\n"
     ]
    },
    {
     "name": "stdout",
     "output_type": "stream",
     "text": [
      "Chunks saved to outputs_pipeline/article1_chunks05.json\n"
     ]
    },
    {
     "name": "stderr",
     "output_type": "stream",
     "text": [
      "Chunking: 100%|██████████| 1/1 [00:00<00:00, 333.30file/s, chunks=27]\n"
     ]
    },
    {
     "name": "stdout",
     "output_type": "stream",
     "text": [
      "Chunks saved to outputs_pipeline/article1_chunks05.json\n"
     ]
    },
    {
     "name": "stderr",
     "output_type": "stream",
     "text": [
      "Chunking: 100%|██████████| 1/1 [00:00<00:00, 221.69file/s, chunks=96]\n"
     ]
    },
    {
     "name": "stdout",
     "output_type": "stream",
     "text": [
      "Chunks saved to outputs_pipeline/article1_chunks05.json\n"
     ]
    },
    {
     "name": "stderr",
     "output_type": "stream",
     "text": [
      "Chunking: 100%|██████████| 1/1 [00:00<00:00, 483.49file/s, chunks=24]\n"
     ]
    },
    {
     "name": "stdout",
     "output_type": "stream",
     "text": [
      "Chunks saved to outputs_pipeline/article1_chunks05.json\n"
     ]
    },
    {
     "name": "stderr",
     "output_type": "stream",
     "text": [
      "Chunking: 100%|██████████| 1/1 [00:00<00:00, 322.47file/s, chunks=54]\n"
     ]
    },
    {
     "name": "stdout",
     "output_type": "stream",
     "text": [
      "Chunks saved to outputs_pipeline/article1_chunks05.json\n"
     ]
    },
    {
     "name": "stderr",
     "output_type": "stream",
     "text": [
      "Chunking: 100%|██████████| 1/1 [00:00<00:00, 333.91file/s, chunks=24]\n"
     ]
    },
    {
     "name": "stdout",
     "output_type": "stream",
     "text": [
      "Chunks saved to outputs_pipeline/article1_chunks05.json\n"
     ]
    },
    {
     "name": "stderr",
     "output_type": "stream",
     "text": [
      "Chunking: 100%|██████████| 1/1 [00:00<00:00, 403.03file/s, chunks=24]\n"
     ]
    },
    {
     "name": "stdout",
     "output_type": "stream",
     "text": [
      "Chunks saved to outputs_pipeline/article1_chunks05.json\n"
     ]
    },
    {
     "name": "stderr",
     "output_type": "stream",
     "text": [
      "Chunking: 100%|██████████| 1/1 [00:00<00:00, 221.97file/s, chunks=29]\n"
     ]
    },
    {
     "name": "stdout",
     "output_type": "stream",
     "text": [
      "Chunks saved to outputs_pipeline/article1_chunks05.json\n"
     ]
    },
    {
     "name": "stderr",
     "output_type": "stream",
     "text": [
      "Chunking: 100%|██████████| 1/1 [00:00<00:00, 68.19file/s, chunks=41]\n"
     ]
    },
    {
     "name": "stdout",
     "output_type": "stream",
     "text": [
      "Chunks saved to outputs_pipeline/article1_chunks05.json\n"
     ]
    },
    {
     "name": "stderr",
     "output_type": "stream",
     "text": [
      "Chunking: 100%|██████████| 1/1 [00:00<00:00, 284.57file/s, chunks=40]\n"
     ]
    },
    {
     "name": "stdout",
     "output_type": "stream",
     "text": [
      "Chunks saved to outputs_pipeline/article1_chunks05.json\n"
     ]
    },
    {
     "name": "stderr",
     "output_type": "stream",
     "text": [
      "Chunking: 100%|██████████| 1/1 [00:00<00:00, 250.09file/s, chunks=47]\n"
     ]
    },
    {
     "name": "stdout",
     "output_type": "stream",
     "text": [
      "Chunks saved to outputs_pipeline/article1_chunks05.json\n"
     ]
    },
    {
     "name": "stderr",
     "output_type": "stream",
     "text": [
      "Chunking: 100%|██████████| 1/1 [00:00<00:00, 500.10file/s, chunks=13]\n"
     ]
    },
    {
     "name": "stdout",
     "output_type": "stream",
     "text": [
      "Chunks saved to outputs_pipeline/article1_chunks05.json\n"
     ]
    },
    {
     "name": "stderr",
     "output_type": "stream",
     "text": [
      "Chunking: 100%|██████████| 1/1 [00:00<00:00, 614.64file/s, chunks=11]\n"
     ]
    },
    {
     "name": "stdout",
     "output_type": "stream",
     "text": [
      "Chunks saved to outputs_pipeline/article1_chunks05.json\n"
     ]
    },
    {
     "name": "stderr",
     "output_type": "stream",
     "text": [
      "Chunking: 100%|██████████| 1/1 [00:00<00:00, 499.32file/s, chunks=29]\n"
     ]
    },
    {
     "name": "stdout",
     "output_type": "stream",
     "text": [
      "Chunks saved to outputs_pipeline/article1_chunks05.json\n"
     ]
    },
    {
     "name": "stderr",
     "output_type": "stream",
     "text": [
      "Chunking: 100%|██████████| 1/1 [00:00<00:00, 292.31file/s, chunks=52]\n"
     ]
    },
    {
     "name": "stdout",
     "output_type": "stream",
     "text": [
      "Chunks saved to outputs_pipeline/article1_chunks05.json\n"
     ]
    },
    {
     "name": "stderr",
     "output_type": "stream",
     "text": [
      "Chunking: 100%|██████████| 1/1 [00:00<00:00, 285.37file/s, chunks=87]\n"
     ]
    },
    {
     "name": "stdout",
     "output_type": "stream",
     "text": [
      "Chunks saved to outputs_pipeline/article1_chunks05.json\n"
     ]
    },
    {
     "name": "stderr",
     "output_type": "stream",
     "text": [
      "Chunking: 100%|██████████| 1/1 [00:00<00:00, 333.25file/s, chunks=27]\n"
     ]
    },
    {
     "name": "stdout",
     "output_type": "stream",
     "text": [
      "Chunks saved to outputs_pipeline/article1_chunks05.json\n"
     ]
    },
    {
     "name": "stderr",
     "output_type": "stream",
     "text": [
      "Chunking: 100%|██████████| 1/1 [00:00<00:00, 449.98file/s, chunks=13]\n"
     ]
    },
    {
     "name": "stdout",
     "output_type": "stream",
     "text": [
      "Chunks saved to outputs_pipeline/article1_chunks05.json\n"
     ]
    },
    {
     "name": "stderr",
     "output_type": "stream",
     "text": [
      "Chunking: 100%|██████████| 1/1 [00:00<00:00, 499.86file/s, chunks=9]\n"
     ]
    },
    {
     "name": "stdout",
     "output_type": "stream",
     "text": [
      "Chunks saved to outputs_pipeline/article1_chunks05.json\n"
     ]
    },
    {
     "name": "stderr",
     "output_type": "stream",
     "text": [
      "Chunking: 100%|██████████| 1/1 [00:00<00:00, 437.36file/s, chunks=21]\n"
     ]
    },
    {
     "name": "stdout",
     "output_type": "stream",
     "text": [
      "Chunks saved to outputs_pipeline/article1_chunks05.json\n"
     ]
    },
    {
     "name": "stderr",
     "output_type": "stream",
     "text": [
      "Chunking: 100%|██████████| 1/1 [00:00<00:00, 499.92file/s, chunks=11]\n"
     ]
    },
    {
     "name": "stdout",
     "output_type": "stream",
     "text": [
      "Chunks saved to outputs_pipeline/article1_chunks05.json\n"
     ]
    },
    {
     "name": "stderr",
     "output_type": "stream",
     "text": [
      "Chunking: 100%|██████████| 1/1 [00:00<00:00, 500.22file/s, chunks=9]\n"
     ]
    },
    {
     "name": "stdout",
     "output_type": "stream",
     "text": [
      "Chunks saved to outputs_pipeline/article1_chunks05.json\n"
     ]
    },
    {
     "name": "stderr",
     "output_type": "stream",
     "text": [
      "Chunking: 100%|██████████| 1/1 [00:00<00:00, 78.34file/s, chunks=52]\n"
     ]
    },
    {
     "name": "stdout",
     "output_type": "stream",
     "text": [
      "Chunks saved to outputs_pipeline/article1_chunks05.json\n"
     ]
    },
    {
     "name": "stderr",
     "output_type": "stream",
     "text": [
      "Chunking: 100%|██████████| 1/1 [00:00<00:00, 398.66file/s, chunks=24]\n"
     ]
    },
    {
     "name": "stdout",
     "output_type": "stream",
     "text": [
      "Chunks saved to outputs_pipeline/article1_chunks05.json\n"
     ]
    },
    {
     "name": "stderr",
     "output_type": "stream",
     "text": [
      "Chunking: 100%|██████████| 1/1 [00:00<00:00, 399.42file/s, chunks=20]\n"
     ]
    },
    {
     "name": "stdout",
     "output_type": "stream",
     "text": [
      "Chunks saved to outputs_pipeline/article1_chunks05.json\n"
     ]
    },
    {
     "name": "stderr",
     "output_type": "stream",
     "text": [
      "Chunking: 100%|██████████| 1/1 [00:00<00:00, 499.20file/s, chunks=26]\n"
     ]
    },
    {
     "name": "stdout",
     "output_type": "stream",
     "text": [
      "Chunks saved to outputs_pipeline/article1_chunks05.json\n"
     ]
    },
    {
     "name": "stderr",
     "output_type": "stream",
     "text": [
      "Chunking: 100%|██████████| 1/1 [00:00<00:00, 398.47file/s, chunks=18]\n"
     ]
    },
    {
     "name": "stdout",
     "output_type": "stream",
     "text": [
      "Chunks saved to outputs_pipeline/article1_chunks05.json\n"
     ]
    },
    {
     "name": "stderr",
     "output_type": "stream",
     "text": [
      "Chunking: 100%|██████████| 1/1 [00:00<00:00, 332.83file/s, chunks=24]\n"
     ]
    },
    {
     "name": "stdout",
     "output_type": "stream",
     "text": [
      "Chunks saved to outputs_pipeline/article1_chunks05.json\n"
     ]
    },
    {
     "name": "stderr",
     "output_type": "stream",
     "text": [
      "Chunking: 100%|██████████| 1/1 [00:00<00:00, 501.95file/s, chunks=11]\n"
     ]
    },
    {
     "name": "stdout",
     "output_type": "stream",
     "text": [
      "Chunks saved to outputs_pipeline/article1_chunks05.json\n"
     ]
    },
    {
     "name": "stderr",
     "output_type": "stream",
     "text": [
      "Chunking: 100%|██████████| 1/1 [00:00<00:00, 54.66file/s, chunks=56]\n"
     ]
    },
    {
     "name": "stdout",
     "output_type": "stream",
     "text": [
      "Chunks saved to outputs_pipeline/article1_chunks05.json\n"
     ]
    },
    {
     "name": "stderr",
     "output_type": "stream",
     "text": [
      "Chunking: 100%|██████████| 1/1 [00:00<00:00, 333.38file/s, chunks=30]\n"
     ]
    },
    {
     "name": "stdout",
     "output_type": "stream",
     "text": [
      "Chunks saved to outputs_pipeline/article1_chunks05.json\n"
     ]
    },
    {
     "name": "stderr",
     "output_type": "stream",
     "text": [
      "Chunking: 100%|██████████| 1/1 [00:00<00:00, 497.90file/s, chunks=14]\n"
     ]
    },
    {
     "name": "stdout",
     "output_type": "stream",
     "text": [
      "Chunks saved to outputs_pipeline/article1_chunks05.json\n"
     ]
    },
    {
     "name": "stderr",
     "output_type": "stream",
     "text": [
      "Chunking: 100%|██████████| 1/1 [00:00<00:00, 500.39file/s, chunks=8]\n"
     ]
    },
    {
     "name": "stdout",
     "output_type": "stream",
     "text": [
      "Chunks saved to outputs_pipeline/article1_chunks05.json\n"
     ]
    },
    {
     "name": "stderr",
     "output_type": "stream",
     "text": [
      "Chunking: 100%|██████████| 1/1 [00:00<00:00, 291.29file/s, chunks=7]\n"
     ]
    },
    {
     "name": "stdout",
     "output_type": "stream",
     "text": [
      "Chunks saved to outputs_pipeline/article1_chunks05.json\n"
     ]
    },
    {
     "name": "stderr",
     "output_type": "stream",
     "text": [
      "Chunking: 100%|██████████| 1/1 [00:00<00:00, 500.04file/s, chunks=26]\n"
     ]
    },
    {
     "name": "stdout",
     "output_type": "stream",
     "text": [
      "Chunks saved to outputs_pipeline/article1_chunks05.json\n"
     ]
    },
    {
     "name": "stderr",
     "output_type": "stream",
     "text": [
      "Chunking: 100%|██████████| 1/1 [00:00<00:00, 499.98file/s, chunks=26]\n"
     ]
    },
    {
     "name": "stdout",
     "output_type": "stream",
     "text": [
      "Chunks saved to outputs_pipeline/article1_chunks05.json\n"
     ]
    },
    {
     "name": "stderr",
     "output_type": "stream",
     "text": [
      "Chunking: 100%|██████████| 1/1 [00:00<00:00, 999.60file/s, chunks=5]\n"
     ]
    },
    {
     "name": "stdout",
     "output_type": "stream",
     "text": [
      "Chunks saved to outputs_pipeline/article1_chunks05.json\n"
     ]
    },
    {
     "name": "stderr",
     "output_type": "stream",
     "text": [
      "Chunking: 100%|██████████| 1/1 [00:00<00:00, 333.38file/s, chunks=25]\n"
     ]
    },
    {
     "name": "stdout",
     "output_type": "stream",
     "text": [
      "Chunks saved to outputs_pipeline/article1_chunks05.json\n"
     ]
    },
    {
     "name": "stderr",
     "output_type": "stream",
     "text": [
      "Chunking: 100%|██████████| 1/1 [00:00<00:00, 499.74file/s, chunks=28]\n"
     ]
    },
    {
     "name": "stdout",
     "output_type": "stream",
     "text": [
      "Chunks saved to outputs_pipeline/article1_chunks05.json\n"
     ]
    },
    {
     "name": "stderr",
     "output_type": "stream",
     "text": [
      "Chunking: 100%|██████████| 1/1 [00:00<00:00, 500.57file/s, chunks=8]\n"
     ]
    },
    {
     "name": "stdout",
     "output_type": "stream",
     "text": [
      "Chunks saved to outputs_pipeline/article1_chunks05.json\n"
     ]
    },
    {
     "name": "stderr",
     "output_type": "stream",
     "text": [
      "Chunking: 100%|██████████| 1/1 [00:00<00:00, 601.08file/s, chunks=9]\n"
     ]
    },
    {
     "name": "stdout",
     "output_type": "stream",
     "text": [
      "Chunks saved to outputs_pipeline/article1_chunks05.json\n"
     ]
    },
    {
     "name": "stderr",
     "output_type": "stream",
     "text": [
      "Chunking: 100%|██████████| 1/1 [00:00<00:00, 399.53file/s, chunks=23]\n"
     ]
    },
    {
     "name": "stdout",
     "output_type": "stream",
     "text": [
      "Chunks saved to outputs_pipeline/article1_chunks05.json\n"
     ]
    },
    {
     "name": "stderr",
     "output_type": "stream",
     "text": [
      "Chunking: 100%|██████████| 1/1 [00:00<00:00, 499.80file/s, chunks=26]\n"
     ]
    },
    {
     "name": "stdout",
     "output_type": "stream",
     "text": [
      "Chunks saved to outputs_pipeline/article1_chunks05.json\n"
     ]
    },
    {
     "name": "stderr",
     "output_type": "stream",
     "text": [
      "Chunking: 100%|██████████| 1/1 [00:00<00:00, 479.24file/s, chunks=26]\n"
     ]
    },
    {
     "name": "stdout",
     "output_type": "stream",
     "text": [
      "Chunks saved to outputs_pipeline/article1_chunks05.json\n"
     ]
    },
    {
     "name": "stderr",
     "output_type": "stream",
     "text": [
      "Chunking: 100%|██████████| 1/1 [00:00<00:00, 333.33file/s, chunks=19]\n"
     ]
    },
    {
     "name": "stdout",
     "output_type": "stream",
     "text": [
      "Chunks saved to outputs_pipeline/article1_chunks05.json\n"
     ]
    },
    {
     "name": "stderr",
     "output_type": "stream",
     "text": [
      "Chunking: 100%|██████████| 1/1 [00:00<00:00, 500.33file/s, chunks=26]\n"
     ]
    },
    {
     "name": "stdout",
     "output_type": "stream",
     "text": [
      "Chunks saved to outputs_pipeline/article1_chunks05.json\n"
     ]
    },
    {
     "name": "stderr",
     "output_type": "stream",
     "text": [
      "Chunking: 100%|██████████| 1/1 [00:00<00:00, 227.93file/s, chunks=18]\n"
     ]
    },
    {
     "name": "stdout",
     "output_type": "stream",
     "text": [
      "Chunks saved to outputs_pipeline/article1_chunks05.json\n"
     ]
    },
    {
     "name": "stderr",
     "output_type": "stream",
     "text": [
      "Chunking: 100%|██████████| 1/1 [00:00<00:00, 250.14file/s, chunks=36]\n"
     ]
    },
    {
     "name": "stdout",
     "output_type": "stream",
     "text": [
      "Chunks saved to outputs_pipeline/article1_chunks05.json\n"
     ]
    },
    {
     "name": "stderr",
     "output_type": "stream",
     "text": [
      "Chunking: 100%|██████████| 1/1 [00:00<00:00, 221.97file/s, chunks=24]\n"
     ]
    },
    {
     "name": "stdout",
     "output_type": "stream",
     "text": [
      "Chunks saved to outputs_pipeline/article1_chunks05.json\n"
     ]
    },
    {
     "name": "stderr",
     "output_type": "stream",
     "text": [
      "Chunking: 100%|██████████| 1/1 [00:00<00:00, 285.04file/s, chunks=24]\n"
     ]
    },
    {
     "name": "stdout",
     "output_type": "stream",
     "text": [
      "Chunks saved to outputs_pipeline/article1_chunks05.json\n"
     ]
    },
    {
     "name": "stderr",
     "output_type": "stream",
     "text": [
      "Chunking: 100%|██████████| 1/1 [00:00<00:00, 333.41file/s, chunks=31]\n"
     ]
    },
    {
     "name": "stdout",
     "output_type": "stream",
     "text": [
      "Chunks saved to outputs_pipeline/article1_chunks05.json\n"
     ]
    },
    {
     "name": "stderr",
     "output_type": "stream",
     "text": [
      "Chunking: 100%|██████████| 1/1 [00:00<00:00, 499.92file/s, chunks=34]\n"
     ]
    },
    {
     "name": "stdout",
     "output_type": "stream",
     "text": [
      "Chunks saved to outputs_pipeline/article1_chunks05.json\n"
     ]
    },
    {
     "name": "stderr",
     "output_type": "stream",
     "text": [
      "Chunking: 100%|██████████| 1/1 [00:00<00:00, 183.65file/s, chunks=29]\n"
     ]
    },
    {
     "name": "stdout",
     "output_type": "stream",
     "text": [
      "Chunks saved to outputs_pipeline/article1_chunks05.json\n"
     ]
    },
    {
     "name": "stderr",
     "output_type": "stream",
     "text": [
      "Chunking: 100%|██████████| 1/1 [00:00<00:00, 465.78file/s, chunks=34]\n"
     ]
    },
    {
     "name": "stdout",
     "output_type": "stream",
     "text": [
      "Chunks saved to outputs_pipeline/article1_chunks05.json\n"
     ]
    },
    {
     "name": "stderr",
     "output_type": "stream",
     "text": [
      "Chunking: 100%|██████████| 1/1 [00:00<00:00, 398.40file/s, chunks=23]\n"
     ]
    },
    {
     "name": "stdout",
     "output_type": "stream",
     "text": [
      "Chunks saved to outputs_pipeline/article1_chunks05.json\n"
     ]
    },
    {
     "name": "stderr",
     "output_type": "stream",
     "text": [
      "Chunking: 100%|██████████| 1/1 [00:00<00:00, 500.39file/s, chunks=33]\n"
     ]
    },
    {
     "name": "stdout",
     "output_type": "stream",
     "text": [
      "Chunks saved to outputs_pipeline/article1_chunks05.json\n"
     ]
    },
    {
     "name": "stderr",
     "output_type": "stream",
     "text": [
      "Chunking: 100%|██████████| 1/1 [00:00<00:00, 332.99file/s, chunks=95]\n"
     ]
    },
    {
     "name": "stdout",
     "output_type": "stream",
     "text": [
      "Chunks saved to outputs_pipeline/article1_chunks05.json\n"
     ]
    },
    {
     "name": "stderr",
     "output_type": "stream",
     "text": [
      "Chunking: 100%|██████████| 1/1 [00:00<00:00, 333.20file/s, chunks=77]\n"
     ]
    },
    {
     "name": "stdout",
     "output_type": "stream",
     "text": [
      "Chunks saved to outputs_pipeline/article1_chunks05.json\n"
     ]
    },
    {
     "name": "stderr",
     "output_type": "stream",
     "text": [
      "Chunking: 100%|██████████| 1/1 [00:00<00:00, 500.16file/s, chunks=22]\n"
     ]
    },
    {
     "name": "stdout",
     "output_type": "stream",
     "text": [
      "Chunks saved to outputs_pipeline/article1_chunks05.json\n"
     ]
    },
    {
     "name": "stderr",
     "output_type": "stream",
     "text": [
      "Chunking: 100%|██████████| 1/1 [00:00<00:00, 499.80file/s, chunks=15]\n"
     ]
    },
    {
     "name": "stdout",
     "output_type": "stream",
     "text": [
      "Chunks saved to outputs_pipeline/article1_chunks05.json\n"
     ]
    },
    {
     "name": "stderr",
     "output_type": "stream",
     "text": [
      "Chunking: 100%|██████████| 1/1 [00:00<00:00, 285.27file/s, chunks=18]\n"
     ]
    },
    {
     "name": "stdout",
     "output_type": "stream",
     "text": [
      "Chunks saved to outputs_pipeline/article1_chunks05.json\n"
     ]
    },
    {
     "name": "stderr",
     "output_type": "stream",
     "text": [
      "Chunking: 100%|██████████| 1/1 [00:00<00:00, 333.52file/s, chunks=9]\n"
     ]
    },
    {
     "name": "stdout",
     "output_type": "stream",
     "text": [
      "Chunks saved to outputs_pipeline/article1_chunks05.json\n"
     ]
    },
    {
     "name": "stderr",
     "output_type": "stream",
     "text": [
      "Chunking: 100%|██████████| 1/1 [00:00<00:00, 333.36file/s, chunks=4]\n"
     ]
    },
    {
     "name": "stdout",
     "output_type": "stream",
     "text": [
      "Chunks saved to outputs_pipeline/article1_chunks05.json\n"
     ]
    },
    {
     "name": "stderr",
     "output_type": "stream",
     "text": [
      "Chunking: 100%|██████████| 1/1 [00:00<00:00, 332.96file/s, chunks=24]\n"
     ]
    },
    {
     "name": "stdout",
     "output_type": "stream",
     "text": [
      "Chunks saved to outputs_pipeline/article1_chunks05.json\n"
     ]
    },
    {
     "name": "stderr",
     "output_type": "stream",
     "text": [
      "Chunking: 100%|██████████| 1/1 [00:00<00:00, 333.20file/s, chunks=36]\n"
     ]
    },
    {
     "name": "stdout",
     "output_type": "stream",
     "text": [
      "Chunks saved to outputs_pipeline/article1_chunks05.json\n"
     ]
    },
    {
     "name": "stderr",
     "output_type": "stream",
     "text": [
      "Chunking: 100%|██████████| 1/1 [00:00<00:00, 249.91file/s, chunks=39]\n"
     ]
    },
    {
     "name": "stdout",
     "output_type": "stream",
     "text": [
      "Chunks saved to outputs_pipeline/article1_chunks05.json\n"
     ]
    },
    {
     "name": "stderr",
     "output_type": "stream",
     "text": [
      "Chunking: 100%|██████████| 1/1 [00:00<00:00, 284.98file/s, chunks=32]\n"
     ]
    },
    {
     "name": "stdout",
     "output_type": "stream",
     "text": [
      "Chunks saved to outputs_pipeline/article1_chunks05.json\n"
     ]
    },
    {
     "name": "stderr",
     "output_type": "stream",
     "text": [
      "Chunking: 100%|██████████| 1/1 [00:00<00:00, 238.77file/s, chunks=33]\n"
     ]
    },
    {
     "name": "stdout",
     "output_type": "stream",
     "text": [
      "Chunks saved to outputs_pipeline/article1_chunks05.json\n"
     ]
    },
    {
     "name": "stderr",
     "output_type": "stream",
     "text": [
      "Chunking: 100%|██████████| 1/1 [00:00<00:00, 312.24file/s, chunks=20]\n"
     ]
    },
    {
     "name": "stdout",
     "output_type": "stream",
     "text": [
      "Chunks saved to outputs_pipeline/article1_chunks05.json\n"
     ]
    },
    {
     "name": "stderr",
     "output_type": "stream",
     "text": [
      "Chunking: 100%|██████████| 1/1 [00:00<00:00, 499.92file/s, chunks=26]\n"
     ]
    },
    {
     "name": "stdout",
     "output_type": "stream",
     "text": [
      "Chunks saved to outputs_pipeline/article1_chunks05.json\n"
     ]
    },
    {
     "name": "stderr",
     "output_type": "stream",
     "text": [
      "Chunking: 100%|██████████| 1/1 [00:00<00:00, 373.39file/s, chunks=22]\n"
     ]
    },
    {
     "name": "stdout",
     "output_type": "stream",
     "text": [
      "Chunks saved to outputs_pipeline/article1_chunks05.json\n"
     ]
    },
    {
     "name": "stderr",
     "output_type": "stream",
     "text": [
      "Chunking: 100%|██████████| 1/1 [00:00<00:00, 86.91file/s, chunks=39]\n"
     ]
    },
    {
     "name": "stdout",
     "output_type": "stream",
     "text": [
      "Chunks saved to outputs_pipeline/article1_chunks05.json\n"
     ]
    },
    {
     "name": "stderr",
     "output_type": "stream",
     "text": [
      "Chunking: 100%|██████████| 1/1 [00:00<00:00, 349.18file/s, chunks=22]\n"
     ]
    },
    {
     "name": "stdout",
     "output_type": "stream",
     "text": [
      "Chunks saved to outputs_pipeline/article1_chunks05.json\n"
     ]
    },
    {
     "name": "stderr",
     "output_type": "stream",
     "text": [
      "Chunking: 100%|██████████| 1/1 [00:00<00:00, 61.73file/s, chunks=41]\n"
     ]
    },
    {
     "name": "stdout",
     "output_type": "stream",
     "text": [
      "Chunks saved to outputs_pipeline/article1_chunks05.json\n"
     ]
    },
    {
     "name": "stderr",
     "output_type": "stream",
     "text": [
      "Chunking: 100%|██████████| 1/1 [00:00<00:00, 249.69file/s, chunks=22]\n"
     ]
    },
    {
     "name": "stdout",
     "output_type": "stream",
     "text": [
      "Chunks saved to outputs_pipeline/article1_chunks05.json\n"
     ]
    },
    {
     "name": "stderr",
     "output_type": "stream",
     "text": [
      "Chunking: 100%|██████████| 1/1 [00:00<00:00, 500.22file/s, chunks=32]\n"
     ]
    },
    {
     "name": "stdout",
     "output_type": "stream",
     "text": [
      "Chunks saved to outputs_pipeline/article1_chunks05.json\n"
     ]
    },
    {
     "name": "stderr",
     "output_type": "stream",
     "text": [
      "Chunking: 100%|██████████| 1/1 [00:00<00:00, 457.69file/s, chunks=4]\n"
     ]
    },
    {
     "name": "stdout",
     "output_type": "stream",
     "text": [
      "Chunks saved to outputs_pipeline/article1_chunks05.json\n",
      "all chunks: 11005\n"
     ]
    },
    {
     "data": {
      "text/plain": [
       "{}"
      ]
     },
     "execution_count": 2,
     "metadata": {},
     "output_type": "execute_result"
    }
   ],
   "source": [
    "from utils.article_chunks_v2 import gen_chunks_v2\n",
    "data_dir = \"data\"\n",
    "chunks_path = \"outputs_pipeline/article1_chunks05.json\"\n",
    "input_file=\"selected_papers_2.txt\"\n",
    "gen_chunks_v2(data_dir, chunks_path, input_file, start_idx=0, end_idx=400)"
   ]
  },
  {
   "cell_type": "code",
   "execution_count": 3,
   "id": "f1565131",
   "metadata": {},
   "outputs": [
    {
     "name": "stdout",
     "output_type": "stream",
     "text": [
      "resource module not available on Windows\n",
      "device: cuda\n",
      "Chunk4 saved to outputs_pipeline/article2_chunk4_05.json\n",
      "done 基于AM-OLED立体显示接口电路的设计_卓斌_llm_correct.md chunk4.\n",
      "Chunk4 saved to outputs_pipeline/article2_chunk4_05.json\n",
      "done 基于S3C2410驱动TFT-LCD液晶显示器的研究_高见芳_llm_correct.md chunk4.\n",
      "Chunk4 saved to outputs_pipeline/article2_chunk4_05.json\n",
      "done 基于LM3S1138的OLED寿命检测仪_党宏社_llm_correct.md chunk4.\n",
      "Chunk4 saved to outputs_pipeline/article2_chunk4_05.json\n",
      "done 一个带按键功能的LCD驱动电路设计_汪艳彬_llm_correct.md chunk4.\n",
      "Chunk4 saved to outputs_pipeline/article2_chunk4_05.json\n",
      "done 基于FPGA的OLED微显示器的IIC控制模块设计_冉峰_llm_correct.md chunk4.\n",
      "Chunk4 saved to outputs_pipeline/article2_chunk4_05.json\n",
      "done ADS双栅线结构高透像素设计_王小元_llm_correct.md chunk4.\n",
      "Chunk4 saved to outputs_pipeline/article2_chunk4_05.json\n",
      "done 一种基于ARM9的彩色TFT-LCD模块设计及实现_马舜峰_llm_correct.md chunk4.\n",
      "Chunk4 saved to outputs_pipeline/article2_chunk4_05.json\n",
      "done 基于SoPC的通用TFT-LCD控制器IP核设计_马宏锋_llm_correct.md chunk4.\n",
      "Chunk4 saved to outputs_pipeline/article2_chunk4_05.json\n",
      "done 基于MAX3100和OLED的GPS定位系统设计_李利功_llm_correct.md chunk4.\n",
      "Chunk4 saved to outputs_pipeline/article2_chunk4_05.json\n",
      "done VGA__TFT__LCD的驱动电路设计_郑春梅_llm_correct.md chunk4.\n",
      "Chunk4 saved to outputs_pipeline/article2_chunk4_05.json\n",
      "done 最新TFT源驱动器(10位...上)的测试要求以及解决方法_llm_correct.md chunk4.\n",
      "Chunk4 saved to outputs_pipeline/article2_chunk4_05.json\n",
      "done LCD驱动器的新特性_钱金维_llm_correct.md chunk4.\n",
      "Chunk4 saved to outputs_pipeline/article2_chunk4_05.json\n",
      "done 一种集成于I_O的段码式LCD驱动IP核设计_陈洁_llm_correct.md chunk4.\n",
      "Chunk4 saved to outputs_pipeline/article2_chunk4_05.json\n",
      "done 在FPGA下实现灵活的OLED灰度控制_付新虎_llm_correct.md chunk4.\n",
      "Chunk4 saved to outputs_pipeline/article2_chunk4_05.json\n",
      "done 一种液晶显示器数字源驱动电路的设计_张媛_llm_correct.md chunk4.\n",
      "Chunk4 saved to outputs_pipeline/article2_chunk4_05.json\n",
      "done 关于VGA有源OLED屏上栅源驱动电路的设计_杨佳_llm_correct.md chunk4.\n",
      "Chunk4 saved to outputs_pipeline/article2_chunk4_05.json\n",
      "done 基于CPLD的彩色模拟TFT-LCD驱动板设计_唐枋_llm_correct.md chunk4.\n",
      "Chunk4 saved to outputs_pipeline/article2_chunk4_05.json\n",
      "done TFT-OLED像素单元电路及驱动系统分析_朱儒晖_llm_correct.md chunk4.\n",
      "Chunk4 saved to outputs_pipeline/article2_chunk4_05.json\n",
      "done 一种小规模LCD驱动电路IP核的设计_李益全_llm_correct.md chunk4.\n",
      "Chunk4 saved to outputs_pipeline/article2_chunk4_05.json\n",
      "done 一种基于In-Zn-O薄膜...动的OLED行集成驱动电路_张立荣_llm_correct.md chunk4.\n",
      "Chunk4 saved to outputs_pipeline/article2_chunk4_05.json\n",
      "done 基于FPGA的液晶显示控制器的研制_覃永新_llm_correct.md chunk4.\n",
      "Chunk4 saved to outputs_pipeline/article2_chunk4_05.json\n",
      "done Poly-SiTFT有源驱...ED单元像素电路的参数设计_王丽杰_llm_correct.md chunk4.\n",
      "Chunk4 saved to outputs_pipeline/article2_chunk4_05.json\n",
      "done TFT显示驱动IC设计要求_曾宏博_llm_correct.md chunk4.\n",
      "Chunk4 saved to outputs_pipeline/article2_chunk4_05.json\n",
      "done 内藏液晶显示控制器T6963C与DSP的接口应用_何轩_llm_correct.md chunk4.\n",
      "Chunk4 saved to outputs_pipeline/article2_chunk4_05.json\n",
      "done LCD驱动控制时钟电路的设计_沃招军_llm_correct.md chunk4.\n",
      "Chunk4 saved to outputs_pipeline/article2_chunk4_05.json\n",
      "done 基于亚阈值技术的AM-OLED驱动电路研究_张慧熙_llm_correct.md chunk4.\n",
      "Chunk4 saved to outputs_pipeline/article2_chunk4_05.json\n",
      "done ISA总线实现OLED面板显示_郑方_llm_correct.md chunk4.\n",
      "Chunk4 saved to outputs_pipeline/article2_chunk4_05.json\n",
      "done CNT-FED点阵显示器件的研制及其驱动电路设计_戴丽娟_llm_correct.md chunk4.\n",
      "Chunk4 saved to outputs_pipeline/article2_chunk4_05.json\n",
      "done Dual-Gate_TFT...D抖动算法FRC研究与实现_齐郾琴_llm_correct.md chunk4.\n",
      "Chunk4 saved to outputs_pipeline/article2_chunk4_05.json\n",
      "done LCD驱动电路的设计与实现_李晓飞_llm_correct.md chunk4.\n",
      "Chunk4 saved to outputs_pipeline/article2_chunk4_05.json\n",
      "done 基于TPS65105的TFT-LCD电源设计_于春涛_llm_correct.md chunk4.\n",
      "Chunk4 saved to outputs_pipeline/article2_chunk4_05.json\n",
      "done 一种用于AMOLED驱动的多模式高效电荷泵_王晓蕾_llm_correct.md chunk4.\n",
      "Chunk4 saved to outputs_pipeline/article2_chunk4_05.json\n",
      "done 一种实用的LCD驱动电路及驱动软件_李先立_llm_correct.md chunk4.\n",
      "Chunk4 saved to outputs_pipeline/article2_chunk4_05.json\n",
      "done 基于Windows_CE的OLED驱动程序设计与实现_王星全_llm_correct.md chunk4.\n",
      "Chunk4 saved to outputs_pipeline/article2_chunk4_05.json\n",
      "done 基于Linux下的OLED显示模块设计_李想_llm_correct.md chunk4.\n",
      "Chunk4 saved to outputs_pipeline/article2_chunk4_05.json\n",
      "done 一种新的有源OLED交流驱动电路(英文)_司玉娟_llm_correct.md chunk4.\n",
      "Chunk4 saved to outputs_pipeline/article2_chunk4_05.json\n",
      "done MPC5606S在TFT彩屏显示中的应用_许峰_llm_correct.md chunk4.\n",
      "Chunk4 saved to outputs_pipeline/article2_chunk4_05.json\n",
      "done TFT-LCD驱动电路的设计_罗菊华_llm_correct.md chunk4.\n",
      "Chunk4 saved to outputs_pipeline/article2_chunk4_05.json\n",
      "done 基于SPCE061A的AC...64J液晶显示模块应用设计_杨存祥_llm_correct.md chunk4.\n",
      "Chunk4 saved to outputs_pipeline/article2_chunk4_05.json\n",
      "done UCDOS下点阵字库在嵌入式OLED应用中的移植_周建政_llm_correct.md chunk4.\n",
      "Chunk4 saved to outputs_pipeline/article2_chunk4_05.json\n",
      "done 小型主动矩阵OLED显示器之供电应用_Matthew Borne_llm_correct.md chunk4.\n",
      "Chunk4 saved to outputs_pipeline/article2_chunk4_05.json\n",
      "done 平板显示器件通用驱动电路IP核的设计_李益全_llm_correct.md chunk4.\n",
      "Chunk4 saved to outputs_pipeline/article2_chunk4_05.json\n",
      "done 基于FPGA的液晶驱动电路设计_刘晶_llm_correct.md chunk4.\n",
      "Chunk4 saved to outputs_pipeline/article2_chunk4_05.json\n",
      "done 应用于OLED驱动芯片的LDO设计_李晴_llm_correct.md chunk4.\n",
      "Chunk4 saved to outputs_pipeline/article2_chunk4_05.json\n",
      "done TFT-LCD驱动芯片内置SRAM的低功耗设计_程艳_llm_correct.md chunk4.\n",
      "Chunk4 saved to outputs_pipeline/article2_chunk4_05.json\n",
      "done PMP_LCD驱动电路设计_马涛_llm_correct.md chunk4.\n",
      "Chunk4 saved to outputs_pipeline/article2_chunk4_05.json\n",
      "done 手持设备中的无源OLED显示供电方案_llm_correct.md chunk4.\n",
      "Chunk4 saved to outputs_pipeline/article2_chunk4_05.json\n",
      "done 晶门科技保持摩托罗拉的传统发展LCD驱动集成电路_llm_correct.md chunk4.\n",
      "Chunk4 saved to outputs_pipeline/article2_chunk4_05.json\n",
      "done 基于ADSP-21161N...FT-LCD驱动电路的设计_罗菊华_llm_correct.md chunk4.\n",
      "Chunk4 saved to outputs_pipeline/article2_chunk4_05.json\n",
      "done 利用激子敏化层研究蓝色有机发光器件的激子扩散问题_王福军_llm_correct.md chunk4.\n",
      "Chunk4 saved to outputs_pipeline/article2_chunk4_05.json\n",
      "done 有机发光二极管老化机制_牛泉_llm_correct.md chunk4.\n",
      "Chunk4 saved to outputs_pipeline/article2_chunk4_05.json\n",
      "done 有机电致发光将取代液晶显示_张兆军_llm_correct.md chunk4.\n",
      "Chunk4 saved to outputs_pipeline/article2_chunk4_05.json\n",
      "done 手性剂添加浓度对液晶电光特性的影响_王晓燕_llm_correct.md chunk4.\n",
      "Chunk4 saved to outputs_pipeline/article2_chunk4_05.json\n",
      "done 有机电致发光薄膜显示器像素阵列的制作_陈敏_llm_correct.md chunk4.\n",
      "Chunk4 saved to outputs_pipeline/article2_chunk4_05.json\n",
      "done 双层有机发光二极管中复合效率和复合区域宽度的研究_李宏建_llm_correct.md chunk4.\n",
      "Chunk4 saved to outputs_pipeline/article2_chunk4_05.json\n",
      "done 双量子阱结构OLED效率和电流的磁效应_姜文龙_llm_correct.md chunk4.\n",
      "Chunk4 saved to outputs_pipeline/article2_chunk4_05.json\n",
      "done 有机电致发光器件寿命测试系统_陈志明_llm_correct.md chunk4.\n",
      "Chunk4 saved to outputs_pipeline/article2_chunk4_05.json\n",
      "done 利用磷光敏化改善聚合物白光OLED性能_林文晶_llm_correct.md chunk4.\n",
      "Chunk4 saved to outputs_pipeline/article2_chunk4_05.json\n",
      "done 含硼有机发光二极管材料与器件_杨智文_llm_correct.md chunk4.\n",
      "Chunk4 saved to outputs_pipeline/article2_chunk4_05.json\n",
      "done 有机发光材料DPVBi的空穴阻挡特性_姜文龙_llm_correct.md chunk4.\n",
      "Chunk4 saved to outputs_pipeline/article2_chunk4_05.json\n",
      "done 咔唑及其衍生物在蓝光OLED中的应用_苏玉苗_llm_correct.md chunk4.\n",
      "Chunk4 saved to outputs_pipeline/article2_chunk4_05.json\n",
      "done 有机电致发光显示彩色化技术及其发展_刘南柳_llm_correct.md chunk4.\n",
      "Chunk4 saved to outputs_pipeline/article2_chunk4_05.json\n",
      "done 有机电激光显示器件缺陷检测进展_彭骞_llm_correct.md chunk4.\n",
      "Chunk4 saved to outputs_pipeline/article2_chunk4_05.json\n",
      "done 利用变温瞬态电致发光研究OLED载流子的输运机理_袁超_llm_correct.md chunk4.\n",
      "Chunk4 saved to outputs_pipeline/article2_chunk4_05.json\n",
      "done 应用于OLED的铱类有机电致磷光材料分析_陈倩倩_llm_correct.md chunk4.\n",
      "Chunk4 saved to outputs_pipeline/article2_chunk4_05.json\n",
      "done LED背光源热设计研究_姜凤山_llm_correct.md chunk4.\n",
      "Chunk4 saved to outputs_pipeline/article2_chunk4_05.json\n",
      "done 有机电致发光的全彩色显示_李亚晖_llm_correct.md chunk4.\n",
      "Chunk4 saved to outputs_pipeline/article2_chunk4_05.json\n",
      "done 有机电致发光OLED功能层材料研究_钟建_llm_correct.md chunk4.\n",
      "Chunk4 saved to outputs_pipeline/article2_chunk4_05.json\n",
      "done 有机发光器件(OLED)界面的研究进展_邹元明_llm_correct.md chunk4.\n",
      "Chunk4 saved to outputs_pipeline/article2_chunk4_05.json\n",
      "done 一种基于二-[2',6'-...)的非掺杂蓝色磷光发光器件_骆开均_llm_correct.md chunk4.\n",
      "Chunk4 saved to outputs_pipeline/article2_chunk4_05.json\n",
      "done 有机电致发光显示及其发展_郑亮_llm_correct.md chunk4.\n",
      "Chunk4 saved to outputs_pipeline/article2_chunk4_05.json\n",
      "done 有机电致发光器件寿命测试系统的设计_李兴鳌_llm_correct.md chunk4.\n",
      "Chunk4 saved to outputs_pipeline/article2_chunk4_05.json\n",
      "done 有机酸修饰ITO对OLED器件性能的影响_胡俊涛_llm_correct.md chunk4.\n",
      "Chunk4 saved to outputs_pipeline/article2_chunk4_05.json\n",
      "done 有机电致发光器件的效率研究_何修军_llm_correct.md chunk4.\n",
      "Chunk4 saved to outputs_pipeline/article2_chunk4_05.json\n",
      "done 咔唑衍生物在有机电致发光材料中的研究进展_于涛_llm_correct.md chunk4.\n",
      "Chunk4 saved to outputs_pipeline/article2_chunk4_05.json\n",
      "done 功能层界面制备方法对OLED性能的影响_牟强_llm_correct.md chunk4.\n",
      "Chunk4 saved to outputs_pipeline/article2_chunk4_05.json\n",
      "done 双异质型蓝色OLED器件的研究_季兴桥_llm_correct.md chunk4.\n",
      "Chunk4 saved to outputs_pipeline/article2_chunk4_05.json\n",
      "done 固态发光器件前景光明_李卓_llm_correct.md chunk4.\n",
      "Chunk4 saved to outputs_pipeline/article2_chunk4_05.json\n",
      "done 微腔结构对红光磷光OLED的性能的影响研究_张麦丽_llm_correct.md chunk4.\n",
      "Chunk4 saved to outputs_pipeline/article2_chunk4_05.json\n",
      "done 有机半导体异质结电荷产生层...叠层有机发光二极管中的应用_陈永华_llm_correct.md chunk4.\n",
      "Chunk4 saved to outputs_pipeline/article2_chunk4_05.json\n",
      "done 局域和长程杂化密度泛函研究推拉结构有机发光分子_刘小君_llm_correct.md chunk4.\n",
      "Chunk4 saved to outputs_pipeline/article2_chunk4_05.json\n",
      "done 杜邦开发有机发光二极管显示器制造技术_董松_llm_correct.md chunk4.\n",
      "Chunk4 saved to outputs_pipeline/article2_chunk4_05.json\n",
      "done 低电压有机薄膜晶体管驱动顶...发光二极管的集成像素的研制_胡胜坤_llm_correct.md chunk4.\n",
      "Chunk4 saved to outputs_pipeline/article2_chunk4_05.json\n",
      "done 柔性有机发光二极管_周月_llm_correct.md chunk4.\n",
      "Chunk4 saved to outputs_pipeline/article2_chunk4_05.json\n",
      "done TADF激基复合物主体材料...色荧光有机发光二极管的效率_崔璨_llm_correct.md chunk4.\n",
      "Chunk4 saved to outputs_pipeline/article2_chunk4_05.json\n",
      "done 不同发光染料的顶发射有机电致发光器件的研制_陈星明_llm_correct.md chunk4.\n",
      "Chunk4 saved to outputs_pipeline/article2_chunk4_05.json\n",
      "done 发光层位置对白光有机发光二极管的影响（英文）_向东旭_llm_correct.md chunk4.\n",
      "Chunk4 saved to outputs_pipeline/article2_chunk4_05.json\n",
      "done Alq_3有机发光二极管中的激子湮灭过程及其磁场效应_张勇_llm_correct.md chunk4.\n",
      "Chunk4 saved to outputs_pipeline/article2_chunk4_05.json\n",
      "done 基于B_3PyMPM∶Cs高效叠层OLED器件的制备_林雯嫣_llm_correct.md chunk4.\n",
      "Chunk4 saved to outputs_pipeline/article2_chunk4_05.json\n",
      "done 小分子有机电致发光器件和材料的研究及应用_密保秀_llm_correct.md chunk4.\n",
      "Chunk4 saved to outputs_pipeline/article2_chunk4_05.json\n",
      "done 有机荧光材料DCJTB对白光LED发光特性的影响_毕长栋_llm_correct.md chunk4.\n",
      "Chunk4 saved to outputs_pipeline/article2_chunk4_05.json\n",
      "done 基于LiF_Al_F4-T...有机电致发光器件的特性研究_景姝_llm_correct.md chunk4.\n",
      "Chunk4 saved to outputs_pipeline/article2_chunk4_05.json\n",
      "done 有机电致发光产品的研发现状_尹盛_llm_correct.md chunk4.\n",
      "Chunk4 saved to outputs_pipeline/article2_chunk4_05.json\n",
      "done 有空穴传输层的双层有机薄膜电致发光器件_刘祖刚_llm_correct.md chunk4.\n",
      "Chunk4 saved to outputs_pipeline/article2_chunk4_05.json\n",
      "done 新型不对称酞菁的电致发光性质研究_夏道成_llm_correct.md chunk4.\n",
      "Chunk4 saved to outputs_pipeline/article2_chunk4_05.json\n",
      "done 有机极化电致发光进展_张迎超_llm_correct.md chunk4.\n",
      "Chunk4 saved to outputs_pipeline/article2_chunk4_05.json\n",
      "done 基于钙钛矿量子点的电致发光二极管研究进展_赵晨静_llm_correct.md chunk4.\n",
      "Chunk4 saved to outputs_pipeline/article2_chunk4_05.json\n",
      "done 差热法测定OLED材料玻璃化转变温度的不确定度评定_高姚湘_llm_correct.md chunk4.\n",
      "Chunk4 saved to outputs_pipeline/article2_chunk4_05.json\n",
      "done 带支链聚乙炔液晶高分子的合成与光学特性(英文)_薛清_llm_correct.md chunk4.\n",
      "Chunk4 saved to outputs_pipeline/article2_chunk4_05.json\n",
      "done 有机电致发光器件中几种常用组分的荧光光谱研究_彭兆快_llm_correct.md chunk4.\n",
      "Chunk4 saved to outputs_pipeline/article2_chunk4_05.json\n",
      "done 倒置QLED器件中氧化锌电子传输层的镁掺杂效应_陈幸福_llm_correct.md chunk4.\n",
      "Chunk4 saved to outputs_pipeline/article2_chunk4_05.json\n",
      "done 不同封装方式的有机发光二极管的传热特性_陈卓_llm_correct.md chunk4.\n",
      "Chunk4 saved to outputs_pipeline/article2_chunk4_05.json\n",
      "done 一种基于蓝色荧光与磷光敏化...白光有机电致发光器件的制备_张世明_llm_correct.md chunk4.\n",
      "Chunk4 saved to outputs_pipeline/article2_chunk4_05.json\n",
      "done 柔性有机发光二极管的薄膜封装研究进展_周钰卜_llm_correct.md chunk4.\n",
      "Chunk4 saved to outputs_pipeline/article2_chunk4_05.json\n",
      "done TPBTSi配合物的绿色有机发光器件研究_于军胜_llm_correct.md chunk4.\n",
      "Chunk4 saved to outputs_pipeline/article2_chunk4_05.json\n",
      "done 基于激子和电致激基复合物双重发光的白光OLED_檀康明_llm_correct.md chunk4.\n",
      "Chunk4 saved to outputs_pipeline/article2_chunk4_05.json\n",
      "done 大功率白光LED伏安特性和正向电压温度特性研究_杨亭_llm_correct.md chunk4.\n",
      "Chunk4 saved to outputs_pipeline/article2_chunk4_05.json\n",
      "done 利用STM和CV方法测定有机发光材料的能带参数_付慧英_llm_correct.md chunk4.\n",
      "Chunk4 saved to outputs_pipeline/article2_chunk4_05.json\n",
      "done MoO_3为缓冲层的高效非掺杂蓝色有机发光二极管_倪蔚德_llm_correct.md chunk4.\n",
      "Chunk4 saved to outputs_pipeline/article2_chunk4_05.json\n",
      "done 利用LiF空穴阻挡层提高有机发光二极管效率(英文)_连加荣_llm_correct.md chunk4.\n",
      "Chunk4 saved to outputs_pipeline/article2_chunk4_05.json\n",
      "done 含氮杂环类有机发光材料研究进展_孔霜霜_llm_correct.md chunk4.\n",
      "Chunk4 saved to outputs_pipeline/article2_chunk4_05.json\n",
      "done 有机电致发光器件的结构、发光机理及表面工程_任玲玲_llm_correct.md chunk4.\n",
      "Chunk4 saved to outputs_pipeline/article2_chunk4_05.json\n",
      "done 微腔对有机发光的影响的研究_初国强_llm_correct.md chunk4.\n",
      "Chunk4 saved to outputs_pipeline/article2_chunk4_05.json\n",
      "done 基于新型有机发光材料的白光照明器件的开发_周军红_llm_correct.md chunk4.\n",
      "Chunk4 saved to outputs_pipeline/article2_chunk4_05.json\n",
      "done 发光与发光器件_llm_correct.md chunk4.\n",
      "Chunk4 saved to outputs_pipeline/article2_chunk4_05.json\n",
      "done 小分子蓝光OLED材料与器件研究进展_陈旭中_llm_correct.md chunk4.\n",
      "Chunk4 saved to outputs_pipeline/article2_chunk4_05.json\n",
      "done 含微米银颗粒OLED封装胶中的湿气扩散研究_谈隆旺_llm_correct.md chunk4.\n",
      "Chunk4 saved to outputs_pipeline/article2_chunk4_05.json\n",
      "done 树形分子有机电致发光材料研究_卫秀成_llm_correct.md chunk4.\n",
      "Chunk4 saved to outputs_pipeline/article2_chunk4_05.json\n",
      "done 光电功能材料《激光与光电子学进展》_llm_correct.md chunk4.\n",
      "Chunk4 saved to outputs_pipeline/article2_chunk4_05.json\n",
      "done 有机电致发光器件中有机薄膜的制备方法_张新稳_llm_correct.md chunk4.\n",
      "Chunk4 saved to outputs_pipeline/article2_chunk4_05.json\n",
      "done 有机发光二极管中原子掺杂调控的单重态激子产率_卢秋霞_llm_correct.md chunk4.\n",
      "Chunk4 saved to outputs_pipeline/article2_chunk4_05.json\n",
      "done 有机电致发光材料研究进展_杨定宇_llm_correct.md chunk4.\n",
      "Chunk4 saved to outputs_pipeline/article2_chunk4_05.json\n",
      "done 有机吡啶盐的电致发光_徐春祥_llm_correct.md chunk4.\n",
      "Chunk4 saved to outputs_pipeline/article2_chunk4_05.json\n",
      "done 有机电致发光的研究进展及展望_李全友_llm_correct.md chunk4.\n",
      "Chunk4 saved to outputs_pipeline/article2_chunk4_05.json\n",
      "done 利用PbS量子点波长转换膜实现近红外电致发光_陈义鹏_llm_correct.md chunk4.\n",
      "Chunk4 saved to outputs_pipeline/article2_chunk4_05.json\n",
      "done 有机发光显示器件技术和产业发展情况_万博泉_llm_correct.md chunk4.\n",
      "Chunk4 saved to outputs_pipeline/article2_chunk4_05.json\n",
      "done 全无机胶体量子点显示技术_耿卫东_llm_correct.md chunk4.\n",
      "Chunk4 saved to outputs_pipeline/article2_chunk4_05.json\n",
      "done 一种可旋涂的磷光铱(Ⅲ)配...及其在OLED器件中的性能_武钰铃_llm_correct.md chunk4.\n",
      "Chunk4 saved to outputs_pipeline/article2_chunk4_05.json\n",
      "done 异质结堆叠发光层红色磷光有机发光二极管_郭方志_llm_correct.md chunk4.\n",
      "Chunk4 saved to outputs_pipeline/article2_chunk4_05.json\n",
      "done 新型均三嗪咔唑类蓝光电致发光材料的合成与性能探究_李海艳_llm_correct.md chunk4.\n",
      "Chunk4 saved to outputs_pipeline/article2_chunk4_05.json\n",
      "done 有机添加剂在钙钛矿电致发光器件中的应用_刘鑫妍_llm_correct.md chunk4.\n",
      "Chunk4 saved to outputs_pipeline/article2_chunk4_05.json\n",
      "done 插入层TmP_yPb对白色...电致发光二极管色纯度的影响_王振_llm_correct.md chunk4.\n",
      "Chunk4 saved to outputs_pipeline/article2_chunk4_05.json\n",
      "done OLED面板现状：小尺寸风...，大尺寸难以飞入寻常百姓家_邓雅静_llm_correct.md chunk4.\n",
      "Chunk4 saved to outputs_pipeline/article2_chunk4_05.json\n",
      "done 关于柔性AMOLED工厂废气的处置概述_马尚学_llm_correct.md chunk4.\n",
      "Chunk4 saved to outputs_pipeline/article2_chunk4_05.json\n",
      "done 多层氧化物复合阴极透明OLED器件_梁田静_llm_correct.md chunk4.\n",
      "Chunk4 saved to outputs_pipeline/article2_chunk4_05.json\n",
      "done OLED——平板电视的新宠儿_马晓阳_llm_correct.md chunk4.\n",
      "Chunk4 saved to outputs_pipeline/article2_chunk4_05.json\n",
      "done 中科院院士、华南理工大学曹...报纸一样印出有机发光显示屏_叶青_llm_correct.md chunk4.\n",
      "Chunk4 saved to outputs_pipeline/article2_chunk4_05.json\n",
      "done OLED-on-silic...pixel circuit_刘艳艳_llm_correct.md chunk4.\n",
      "Chunk4 saved to outputs_pipeline/article2_chunk4_05.json\n",
      "done OLED成本控制中的风险及对策_陈起_llm_correct.md chunk4.\n",
      "Chunk4 saved to outputs_pipeline/article2_chunk4_05.json\n",
      "done 印刷电子技术在OLED显示器件中的应用_郑华_llm_correct.md chunk4.\n",
      "Chunk4 saved to outputs_pipeline/article2_chunk4_05.json\n",
      "done OLED重点公司美国专利分析_罗佳秀_llm_correct.md chunk4.\n",
      "Chunk4 saved to outputs_pipeline/article2_chunk4_05.json\n",
      "done OLED封装用高性能阻隔胶粘带的研制_陈维斌_llm_correct.md chunk4.\n",
      "Chunk4 saved to outputs_pipeline/article2_chunk4_05.json\n",
      "done Effects of or... OLED devices_胡俊涛_llm_correct.md chunk4.\n",
      "Chunk4 saved to outputs_pipeline/article2_chunk4_05.json\n",
      "done 印刷OLED技术_张琪_llm_correct.md chunk4.\n",
      "Chunk4 saved to outputs_pipeline/article2_chunk4_05.json\n",
      "done OLED显示器件在车载应用上的机遇和挑战_庄筱磊_llm_correct.md chunk4.\n",
      "Chunk4 saved to outputs_pipeline/article2_chunk4_05.json\n",
      "done OLED电视产业发展趋势及前景解读_夏治文_llm_correct.md chunk4.\n",
      "Chunk4 saved to outputs_pipeline/article2_chunk4_05.json\n",
      "done OLED应用技术的进展_常天海_llm_correct.md chunk4.\n",
      "Chunk4 saved to outputs_pipeline/article2_chunk4_05.json\n",
      "done OLED显示屏下摄像技术改进研究_楼均辉_llm_correct.md chunk4.\n",
      "Chunk4 saved to outputs_pipeline/article2_chunk4_05.json\n",
      "done 康宁推出高性能显示玻璃可使用于OLED和LCD_llm_correct.md chunk4.\n",
      "Chunk4 saved to outputs_pipeline/article2_chunk4_05.json\n",
      "done 柯达被动式OLED专利授权...明年转向主动式OLED技术_llm_correct.md chunk4.\n",
      "Chunk4 saved to outputs_pipeline/article2_chunk4_05.json\n",
      "done OLEDs中的激子及其高效利用_马东阁_llm_correct.md chunk4.\n",
      "Chunk4 saved to outputs_pipeline/article2_chunk4_05.json\n",
      "done OLED技术在汽车车灯上的应用_罗杰_llm_correct.md chunk4.\n",
      "Chunk4 saved to outputs_pipeline/article2_chunk4_05.json\n",
      "done OLED显示产业渐行渐热_llm_correct.md chunk4.\n",
      "Chunk4 saved to outputs_pipeline/article2_chunk4_05.json\n",
      "done OLED概念股谁最抢眼__昝立永_llm_correct.md chunk4.\n",
      "Chunk4 saved to outputs_pipeline/article2_chunk4_05.json\n",
      "done 新时代,我国OLED产业开启新征程_余雪松_llm_correct.md chunk4.\n",
      "Chunk4 saved to outputs_pipeline/article2_chunk4_05.json\n",
      "done OLED智能显示按键设计_章鹏_llm_correct.md chunk4.\n",
      "Chunk4 saved to outputs_pipeline/article2_chunk4_05.json\n",
      "done AM_OLED_OLED的“明日之星”_王力_llm_correct.md chunk4.\n",
      "Chunk4 saved to outputs_pipeline/article2_chunk4_05.json\n",
      "done 印刷OLED产业发展现状及挑战分析_金凤_llm_correct.md chunk4.\n",
      "Chunk4 saved to outputs_pipeline/article2_chunk4_05.json\n",
      "done OLED专利申请分析_苏治平_llm_correct.md chunk4.\n",
      "Chunk4 saved to outputs_pipeline/article2_chunk4_05.json\n",
      "done NOVALED研发出全球最...的荧光白PIN_OLEDs_llm_correct.md chunk4.\n",
      "Chunk4 saved to outputs_pipeline/article2_chunk4_05.json\n",
      "done A new AC driv...ission AMOLED_张勇文_llm_correct.md chunk4.\n",
      "Chunk4 saved to outputs_pipeline/article2_chunk4_05.json\n",
      "done 广东AMOLED有机材料专利现状及发展趋势研究_陈宇萍_llm_correct.md chunk4.\n",
      "Chunk4 saved to outputs_pipeline/article2_chunk4_05.json\n",
      "done Soft Imprint ...uring in OLED_llm_correct.md chunk4.\n",
      "Chunk4 saved to outputs_pipeline/article2_chunk4_05.json\n",
      "done 方兴未艾的OLED_苏初榜_llm_correct.md chunk4.\n",
      "Chunk4 saved to outputs_pipeline/article2_chunk4_05.json\n",
      "done 半导体激光封接OLED工艺研究_李小婷_llm_correct.md chunk4.\n",
      "Chunk4 saved to outputs_pipeline/article2_chunk4_05.json\n",
      "done 数字驱动型OLED的动态假轮廓量化及改善策略_季渊_llm_correct.md chunk4.\n",
      "Chunk4 saved to outputs_pipeline/article2_chunk4_05.json\n",
      "done OLED——希望,神话及电视_Barry Young_llm_correct.md chunk4.\n",
      "Chunk4 saved to outputs_pipeline/article2_chunk4_05.json\n",
      "done 基于人眼视觉特性的硅基OLED微显示器系统_季渊_llm_correct.md chunk4.\n",
      "Chunk4 saved to outputs_pipeline/article2_chunk4_05.json\n",
      "done OLED显示屏驱动控制芯片技术分析及其应用_廖晶晶_llm_correct.md chunk4.\n",
      "Chunk4 saved to outputs_pipeline/article2_chunk4_05.json\n",
      "done 柔性OLED模组的落笔冲击仿真与模组优化分析_邹岚韬_llm_correct.md chunk4.\n",
      "Chunk4 saved to outputs_pipeline/article2_chunk4_05.json\n",
      "done 卡西欧利用非晶硅开发成功OLED面板_llm_correct.md chunk4.\n",
      "Chunk4 saved to outputs_pipeline/article2_chunk4_05.json\n",
      "done OLED电视IR遥控优化设计研究_黄油益_llm_correct.md chunk4.\n",
      "Chunk4 saved to outputs_pipeline/article2_chunk4_05.json\n",
      "done OLED电视走到岔路口_王文静_llm_correct.md chunk4.\n",
      "Chunk4 saved to outputs_pipeline/article2_chunk4_05.json\n",
      "done 大尺寸OLED或将在2020年实现喷墨打印_llm_correct.md chunk4.\n",
      "Chunk4 saved to outputs_pipeline/article2_chunk4_05.json\n",
      "done OLED显示技术的新突破_田亚平_llm_correct.md chunk4.\n",
      "Chunk4 saved to outputs_pipeline/article2_chunk4_05.json\n",
      "done OLED——固体照明的明日之星_何豪_llm_correct.md chunk4.\n",
      "Chunk4 saved to outputs_pipeline/article2_chunk4_05.json\n",
      "done OLED复合柔性封装层技术及其专利现状_何月娣_llm_correct.md chunk4.\n",
      "Chunk4 saved to outputs_pipeline/article2_chunk4_05.json\n",
      "done 折叠屏高增长利好OLED、UTG_刘吉洪_llm_correct.md chunk4.\n",
      "Chunk4 saved to outputs_pipeline/article2_chunk4_05.json\n",
      "done OLED技术与市场展望_蒋庆全_llm_correct.md chunk4.\n",
      "Chunk4 saved to outputs_pipeline/article2_chunk4_05.json\n",
      "done Digital drive...OLED displays_llm_correct.md chunk4.\n",
      "Chunk4 saved to outputs_pipeline/article2_chunk4_05.json\n",
      "done OLED柔性衬底封装材料研究进展_王杏_llm_correct.md chunk4.\n",
      "Chunk4 saved to outputs_pipeline/article2_chunk4_05.json\n",
      "done OLED能否大爆发__何莎莎_llm_correct.md chunk4.\n",
      "Chunk4 saved to outputs_pipeline/article2_chunk4_05.json\n",
      "done 携手努力__共话OLED未...新之路——OLED论坛侧记_许瑞鹏_llm_correct.md chunk4.\n",
      "Chunk4 saved to outputs_pipeline/article2_chunk4_05.json\n",
      "done 国家政策大力扶植OLED显示屏_llm_correct.md chunk4.\n",
      "Chunk4 saved to outputs_pipeline/article2_chunk4_05.json\n",
      "done OLED电视战__提前打响_郭荣村_llm_correct.md chunk4.\n",
      "Chunk4 saved to outputs_pipeline/article2_chunk4_05.json\n",
      "done OLED产业和技术发展现状_刘义鹤_llm_correct.md chunk4.\n",
      "Chunk4 saved to outputs_pipeline/article2_chunk4_05.json\n",
      "done OLED光电性能综合测试系统的设计_张玉杰_llm_correct.md chunk4.\n",
      "Chunk4 saved to outputs_pipeline/article2_chunk4_05.json\n",
      "done 柔性OLED载板玻璃中铁含...308nm紫外透过率的影响_冯磊_llm_correct.md chunk4.\n",
      "Chunk4 saved to outputs_pipeline/article2_chunk4_05.json\n",
      "done OLED的最新消息_海信_llm_correct.md chunk4.\n",
      "Chunk4 saved to outputs_pipeline/article2_chunk4_05.json\n",
      "done 比OLED技高一筹__走近MicroLED显示技术_睿智_llm_correct.md chunk4.\n",
      "Chunk4 saved to outputs_pipeline/article2_chunk4_05.json\n",
      "done OLED亮度补偿电路浅析_贺轶_llm_correct.md chunk4.\n",
      "Chunk4 saved to outputs_pipeline/article2_chunk4_05.json\n",
      "done LED和OLED的发展_陶然_llm_correct.md chunk4.\n",
      "Chunk4 saved to outputs_pipeline/article2_chunk4_05.json\n",
      "done 多维邻近性对创新网络组织间...—基于OLED产业专利数据_阮平南_llm_correct.md chunk4.\n",
      "Chunk4 saved to outputs_pipeline/article2_chunk4_05.json\n",
      "done OLED公司专利许可与诉讼情况浅析_罗佳秀_llm_correct.md chunk4.\n",
      "Chunk4 saved to outputs_pipeline/article2_chunk4_05.json\n",
      "done OLED器件的有机无机复合薄膜封装专利技术综述_丁萍_llm_correct.md chunk4.\n",
      "Chunk4 saved to outputs_pipeline/article2_chunk4_05.json\n",
      "done 喷墨打印在大尺寸OLED显示中的应用_唐兆兵_llm_correct.md chunk4.\n",
      "Chunk4 saved to outputs_pipeline/article2_chunk4_05.json\n",
      "done OLED显示技术综述_冯迪砂_llm_correct.md chunk4.\n",
      "Chunk4 saved to outputs_pipeline/article2_chunk4_05.json\n",
      "done OLED技术在民用飞机驾驶舱照明中的运用_曾艺_llm_correct.md chunk4.\n",
      "Chunk4 saved to outputs_pipeline/article2_chunk4_05.json\n",
      "done AMOLED子像素渲染算法研究_徐京_llm_correct.md chunk4.\n",
      "Chunk4 saved to outputs_pipeline/article2_chunk4_05.json\n",
      "done 三星面板分拆独立66亿嫁妆重攻OLED_郎朗_llm_correct.md chunk4.\n",
      "Chunk4 saved to outputs_pipeline/article2_chunk4_05.json\n",
      "done OLED显示的灰度控制_范雪_llm_correct.md chunk4.\n",
      "Chunk4 saved to outputs_pipeline/article2_chunk4_05.json\n",
      "done OLED电视风光不再，未来何去何从_邓雅静_llm_correct.md chunk4.\n",
      "Chunk4 saved to outputs_pipeline/article2_chunk4_05.json\n",
      "done OLED在汽车领域中的应用_田沛东_llm_correct.md chunk4.\n",
      "Chunk4 saved to outputs_pipeline/article2_chunk4_05.json\n",
      "done OLED显示开发的最新进展_李文连_llm_correct.md chunk4.\n",
      "Chunk4 saved to outputs_pipeline/article2_chunk4_05.json\n",
      "done 彩电显示技术哪家强__于璇_llm_correct.md chunk4.\n",
      "Chunk4 saved to outputs_pipeline/article2_chunk4_05.json\n",
      "done 打造国内第一块全彩色柔性A...有机发光显示技术“制高点”_冯海波_llm_correct.md chunk4.\n",
      "Chunk4 saved to outputs_pipeline/article2_chunk4_05.json\n",
      "done IGZO-based ne...piking logics_Ying ZHU_llm_correct.md chunk4.\n",
      "Chunk4 saved to outputs_pipeline/article2_chunk4_05.json\n",
      "done 数字视频和OLED微显示技术_金阳_llm_correct.md chunk4.\n",
      "Chunk4 saved to outputs_pipeline/article2_chunk4_05.json\n",
      "done 在偏振光实验中加入液晶显示器工作原理的演示_崔拴锦_llm_correct.md chunk4.\n",
      "Chunk4 saved to outputs_pipeline/article2_chunk4_05.json\n",
      "done 合工大研发新型量子点显示材料_新型_llm_correct.md chunk4.\n",
      "Chunk4 saved to outputs_pipeline/article2_chunk4_05.json\n",
      "done 最有希望成为下一代平板显示器的QLED_陈杨_llm_correct.md chunk4.\n",
      "Chunk4 saved to outputs_pipeline/article2_chunk4_05.json\n",
      "done 10大新显示技术_llm_correct.md chunk4.\n",
      "Chunk4 saved to outputs_pipeline/article2_chunk4_05.json\n",
      "done 柔性显示器件用聚酰亚胺基板的研究与应用进展_刘金刚_llm_correct.md chunk4.\n",
      "Chunk4 saved to outputs_pipeline/article2_chunk4_05.json\n",
      "done 基于“丝瓜络”3D凝胶网络...凝胶的可拉伸光散射显示器件_陈思_llm_correct.md chunk4.\n",
      "Chunk4 saved to outputs_pipeline/article2_chunk4_05.json\n",
      "done 从2004年全球五大显示会...世界显示器件技术的高速发展_段诚_llm_correct.md chunk4.\n",
      "Chunk4 saved to outputs_pipeline/article2_chunk4_05.json\n",
      "done 三星2K分辨率100%sRGB色域覆盖机型即将上市_llm_correct.md chunk4.\n",
      "Chunk4 saved to outputs_pipeline/article2_chunk4_05.json\n",
      "done 平板显示技术标准化的进展_王幼林_llm_correct.md chunk4.\n",
      "Chunk4 saved to outputs_pipeline/article2_chunk4_05.json\n",
      "done OLEDoS微型显示_吴春亚_llm_correct.md chunk4.\n",
      "Chunk4 saved to outputs_pipeline/article2_chunk4_05.json\n",
      "done 基于视觉的液晶屏_OLED屏缺陷检测方法综述_林思媛_llm_correct.md chunk4.\n",
      "Chunk4 saved to outputs_pipeline/article2_chunk4_05.json\n",
      "done 基于喷墨工艺的液晶显示用彩色滤光片_郑少瑜_llm_correct.md chunk4.\n",
      "Chunk4 saved to outputs_pipeline/article2_chunk4_05.json\n",
      "done 数码摄影师的色彩管理讲座(...色彩模式、色彩空间和色域”_吴启海_llm_correct.md chunk4.\n",
      "Chunk4 saved to outputs_pipeline/article2_chunk4_05.json\n",
      "done Micro-LED显示及其驱动技术的研究进展_周律_llm_correct.md chunk4.\n",
      "Chunk4 saved to outputs_pipeline/article2_chunk4_05.json\n",
      "done STN型液晶显示用聚酰亚胺表面取向材料的性能_梁晓_llm_correct.md chunk4.\n",
      "Chunk4 saved to outputs_pipeline/article2_chunk4_05.json\n",
      "done 平板显示的发展趋势_乔中莲_llm_correct.md chunk4.\n",
      "Chunk4 saved to outputs_pipeline/article2_chunk4_05.json\n",
      "done 基于非对称椭圆中心凹JND模型的硅基微显示器_朱毅翀_llm_correct.md chunk4.\n",
      "Chunk4 saved to outputs_pipeline/article2_chunk4_05.json\n",
      "done 图像显示技术及其最新发展趋势_雷玉堂_llm_correct.md chunk4.\n",
      "Chunk4 saved to outputs_pipeline/article2_chunk4_05.json\n",
      "done 显示技术发展与研究现状_林明祥_llm_correct.md chunk4.\n",
      "Chunk4 saved to outputs_pipeline/article2_chunk4_05.json\n",
      "done 基于人眼平滑追踪的液晶显示运动模糊研究_夏振平_llm_correct.md chunk4.\n",
      "Chunk4 saved to outputs_pipeline/article2_chunk4_05.json\n",
      "done 平板彩电液晶显示器的工作原理(下)_刘永利_llm_correct.md chunk4.\n",
      "Chunk4 saved to outputs_pipeline/article2_chunk4_05.json\n",
      "done 彩电业：平板电视时代的新技...平板电视技术趋势回顾与展望_张兵_llm_correct.md chunk4.\n",
      "Chunk4 saved to outputs_pipeline/article2_chunk4_05.json\n",
      "done AD9883在平板显示视频接口中的应用_胡建民_llm_correct.md chunk4.\n",
      "Chunk4 saved to outputs_pipeline/article2_chunk4_05.json\n",
      "done TPM在京东方液晶显示制造中的应用研究_范延江_llm_correct.md chunk4.\n",
      "Chunk4 saved to outputs_pipeline/article2_chunk4_05.json\n",
      "done IPS液晶显示技术中国专利分析_吴永丽_llm_correct.md chunk4.\n",
      "Chunk4 saved to outputs_pipeline/article2_chunk4_05.json\n",
      "done 基于TRIZ的液晶显示技术进化过程研究_仝战营_llm_correct.md chunk4.\n",
      "Chunk4 saved to outputs_pipeline/article2_chunk4_05.json\n",
      "done 印刷与柔性显示材料与器件技术发展现状与趋势_史冬梅_llm_correct.md chunk4.\n",
      "Chunk4 saved to outputs_pipeline/article2_chunk4_05.json\n",
      "done 日IBM推出16英寸TFT彩色液晶显示器_llm_correct.md chunk4.\n",
      "Chunk4 saved to outputs_pipeline/article2_chunk4_05.json\n",
      "done 广色域液晶电视你买不买_郯道宗_llm_correct.md chunk4.\n",
      "Chunk4 saved to outputs_pipeline/article2_chunk4_05.json\n",
      "done 以标准TFT模组生产的柔性电子书显示器_Ian French_llm_correct.md chunk4.\n",
      "Chunk4 saved to outputs_pipeline/article2_chunk4_05.json\n",
      "done 中国LED及其显示屏产业市场发展动向_陈苗海_llm_correct.md chunk4.\n",
      "Chunk4 saved to outputs_pipeline/article2_chunk4_05.json\n",
      "done OCB模式液晶显示器件的膜补偿模拟优化_单艾娴_llm_correct.md chunk4.\n",
      "Chunk4 saved to outputs_pipeline/article2_chunk4_05.json\n",
      "done 新显示技术：21世纪的眼睛_高明.md0000_llm_correct.md chunk4.\n",
      "Chunk4 saved to outputs_pipeline/article2_chunk4_05.json\n",
      "done 显示技术及8K超高清视频呈现_许春蕾_llm_correct.md chunk4.\n",
      "Chunk4 saved to outputs_pipeline/article2_chunk4_05.json\n",
      "done 有源矩阵液晶显示器述评_张凤翙_llm_correct.md chunk4.\n",
      "Chunk4 saved to outputs_pipeline/article2_chunk4_05.json\n",
      "done 9款38cm(15英寸)TFT_LCD显示器横向评测_张韬_llm_correct.md chunk4.\n",
      "Chunk4 saved to outputs_pipeline/article2_chunk4_05.json\n",
      "done LED矩阵显示屏实验系统的设计_漆强_llm_correct.md chunk4.\n",
      "Chunk4 saved to outputs_pipeline/article2_chunk4_05.json\n",
      "done 医疗环境中液晶显示器使用和保养_庞晏庆_llm_correct.md chunk4.\n",
      "Chunk4 saved to outputs_pipeline/article2_chunk4_05.json\n",
      "done 基于人因的液晶显示动态图像质量研究_宋玉_llm_correct.md chunk4.\n",
      "Chunk4 saved to outputs_pipeline/article2_chunk4_05.json\n",
      "done 微缩化LED显示技术的发展及应用_宋德宇_llm_correct.md chunk4.\n",
      "Chunk4 saved to outputs_pipeline/article2_chunk4_05.json\n",
      "done 平板显示技术的分析和应用趋势_郑利浩_llm_correct.md chunk4.\n",
      "Chunk4 saved to outputs_pipeline/article2_chunk4_05.json\n",
      "done 发力新型显示技术,天马备战中小屏新市场_孔文_llm_correct.md chunk4.\n",
      "Chunk4 saved to outputs_pipeline/article2_chunk4_05.json\n",
      "done 新型高分辨率三维显示器件与系统的基础研究年度报告_夏军_llm_correct.md chunk4.\n",
      "Chunk4 saved to outputs_pipeline/article2_chunk4_05.json\n",
      "done 平板显示技术的最新进展_田志仁_llm_correct.md chunk4.\n",
      "Chunk4 saved to outputs_pipeline/article2_chunk4_05.json\n",
      "done 柔性显示实现的关键技术_李天华_llm_correct.md chunk4.\n",
      "Chunk4 saved to outputs_pipeline/article2_chunk4_05.json\n",
      "done 显示器件测试技术与设备最新进展_吴涛_llm_correct.md chunk4.\n",
      "Chunk4 saved to outputs_pipeline/article2_chunk4_05.json\n",
      "done 工业控制用液晶显示模块_llm_correct.md chunk4.\n",
      "Chunk4 saved to outputs_pipeline/article2_chunk4_05.json\n",
      "done 对液晶电视动态画面响应的测试研究_徐涛_llm_correct.md chunk4.\n",
      "Chunk4 saved to outputs_pipeline/article2_chunk4_05.json\n",
      "done 平板显示器件用玻璃基板_王玉花_llm_correct.md chunk4.\n",
      "Chunk4 saved to outputs_pipeline/article2_chunk4_05.json\n",
      "done 新型相邻长支链取代的聚酰亚...用于液晶显示元件的性能表现_袁震_llm_correct.md chunk4.\n",
      "Chunk4 saved to outputs_pipeline/article2_chunk4_05.json\n",
      "done 数字整合式家用电器及新型全彩色显示技术_陈汝全_llm_correct.md chunk4.\n",
      "Chunk4 saved to outputs_pipeline/article2_chunk4_05.json\n",
      "done 显示技术在比拼中前进_金中_llm_correct.md chunk4.\n",
      "Chunk4 saved to outputs_pipeline/article2_chunk4_05.json\n",
      "done 含氟液晶材料的研究进展_谢段燕_llm_correct.md chunk4.\n",
      "Chunk4 saved to outputs_pipeline/article2_chunk4_05.json\n",
      "done 提高LED背光源质量的研究_刘毅清_llm_correct.md chunk4.\n",
      "Chunk4 saved to outputs_pipeline/article2_chunk4_05.json\n",
      "done 柔性显示器件国际标准研制进展_谢静_llm_correct.md chunk4.\n",
      "Chunk4 saved to outputs_pipeline/article2_chunk4_05.json\n",
      "done LED电子显示屏系统色彩调节参数的研究_张旸_llm_correct.md chunk4.\n",
      "Chunk4 saved to outputs_pipeline/article2_chunk4_05.json\n",
      "done 加固液晶显示器的抗振动设计_张洁_llm_correct.md chunk4.\n",
      "Chunk4 saved to outputs_pipeline/article2_chunk4_05.json\n",
      "done 大型液晶显示用COF带的细节距线路形成_蔡积庆_llm_correct.md chunk4.\n",
      "Chunk4 saved to outputs_pipeline/article2_chunk4_05.json\n",
      "done 柔性显示用改性纸质基板的表面性能及机械性能研究_易文慧_llm_correct.md chunk4.\n",
      "Chunk4 saved to outputs_pipeline/article2_chunk4_05.json\n",
      "done 可弯曲特性受瞩目__柔性显示器带动应用革命_辛隆宾_llm_correct.md chunk4.\n",
      "Chunk4 saved to outputs_pipeline/article2_chunk4_05.json\n",
      "done 日本JDI称研发出克服OL...D和LCD显示屏弱点的技术_llm_correct.md chunk4.\n",
      "Chunk4 saved to outputs_pipeline/article2_chunk4_05.json\n",
      "done 双面显示技术的进展(续)_陈禹翔.md0000_llm_correct.md chunk4.\n",
      "Chunk4 saved to outputs_pipeline/article2_chunk4_05.json\n",
      "done 信息传递的重要方式——液晶显示_关荣华_llm_correct.md chunk4.\n",
      "Chunk4 saved to outputs_pipeline/article2_chunk4_05.json\n",
      "done 异军突起的有机发光平板显示_林秀华_llm_correct.md chunk4.\n",
      "Chunk4 saved to outputs_pipeline/article2_chunk4_05.json\n",
      "done 国际化认证背景下光电子学全英教学课程建设探索_郑继红_llm_correct.md chunk4.\n",
      "Chunk4 saved to outputs_pipeline/article2_chunk4_05.json\n",
      "done 三星_SyncMaster770_TFT液晶显示器_高国栋_llm_correct.md chunk4.\n",
      "Chunk4 saved to outputs_pipeline/article2_chunk4_05.json\n",
      "done RGBW彩色滤光片技术开发与应用_姜晶晶_llm_correct.md chunk4.\n",
      "Chunk4 saved to outputs_pipeline/article2_chunk4_05.json\n",
      "done 显像争霸——OLED与LCD显示屏性能对比_汪国华_llm_correct.md chunk4.\n",
      "Chunk4 saved to outputs_pipeline/article2_chunk4_05.json\n",
      "done PHOLED显示技术_Stanley Chen_llm_correct.md chunk4.\n",
      "Chunk4 saved to outputs_pipeline/article2_chunk4_05.json\n",
      "done ’97平板显示综述_朱昌昌_llm_correct.md chunk4.\n",
      "Chunk4 saved to outputs_pipeline/article2_chunk4_05.json\n",
      "done 彩电_显示技术对垒仍是最大看点_于璇_llm_correct.md chunk4.\n",
      "Chunk4 saved to outputs_pipeline/article2_chunk4_05.json\n",
      "done 7.6cm多色有源矩阵液晶显示器_冯治兴_llm_correct.md chunk4.\n",
      "Chunk4 saved to outputs_pipeline/article2_chunk4_05.json\n",
      "done 一种窄边框的液晶显示面板设计_张怀平_llm_correct.md chunk4.\n",
      "Chunk4 saved to outputs_pipeline/article2_chunk4_05.json\n",
      "done 一种性能优越的液晶材料及显示技术_闻建勋_llm_correct.md chunk4.\n",
      "Chunk4 saved to outputs_pipeline/article2_chunk4_05.json\n",
      "done 三端子有源矩阵液晶显示器_刘洪武_llm_correct.md chunk4.\n",
      "Chunk4 saved to outputs_pipeline/article2_chunk4_05.json\n",
      "done 当前世界液晶材料的进展_张文志_llm_correct.md chunk4.\n",
      "Chunk4 saved to outputs_pipeline/article2_chunk4_05.json\n",
      "done 友达推出全系列UHD_4K广色域曲面液晶电视屏_llm_correct.md chunk4.\n",
      "Chunk4 saved to outputs_pipeline/article2_chunk4_05.json\n",
      "done 固体电介质空间电荷的光电子学测量方法研究进展_王健_llm_correct.md chunk4.\n",
      "Chunk4 saved to outputs_pipeline/article2_chunk4_05.json\n",
      "done 同步对称双栅InGaZnO薄膜晶体管电势模型研究_覃婷_llm_correct.md chunk4.\n",
      "Chunk4 saved to outputs_pipeline/article2_chunk4_05.json\n",
      "done 日本微电子和光电子工业中激光组装技术的应用及展望_王立斌_llm_correct.md chunk4.\n",
      "Chunk4 saved to outputs_pipeline/article2_chunk4_05.json\n",
      "done RF磁控溅射制备N掺杂Cu_2O薄膜及光学特性研究_自兴发_llm_correct.md chunk4.\n",
      "Chunk4 saved to outputs_pipeline/article2_chunk4_05.json\n",
      "done SiN_x介质层非晶IGZ...薄膜晶体管的光照稳定性研究_崔璨_llm_correct.md chunk4.\n",
      "Chunk4 saved to outputs_pipeline/article2_chunk4_05.json\n",
      "done 一体化触控技术用ITO薄膜的一次成膜工艺研究_徐日宏_llm_correct.md chunk4.\n",
      "Chunk4 saved to outputs_pipeline/article2_chunk4_05.json\n",
      "done 射频磁控溅射ITO薄膜中沉积温度对膜特性影响_赵透玲_llm_correct.md chunk4.\n",
      "Chunk4 saved to outputs_pipeline/article2_chunk4_05.json\n",
      "done InGaZnO薄膜晶体管背...极驱动电路静电释放失效研究_马群刚_llm_correct.md chunk4.\n",
      "Chunk4 saved to outputs_pipeline/article2_chunk4_05.json\n",
      "done 底栅微晶硅薄膜晶体管_李娟_llm_correct.md chunk4.\n",
      "Chunk4 saved to outputs_pipeline/article2_chunk4_05.json\n",
      "done InGaZnO薄膜晶体管泄漏电流模型_邓小庆_llm_correct.md chunk4.\n",
      "Chunk4 saved to outputs_pipeline/article2_chunk4_05.json\n",
      "done 新型三明治结构铝诱导非晶硅薄膜低温晶化增强_贺海晏_llm_correct.md chunk4.\n",
      "Chunk4 saved to outputs_pipeline/article2_chunk4_05.json\n",
      "done 氢气稀释比例对多晶硅薄膜微观结构和沉积特性的影响_宋莎莎_llm_correct.md chunk4.\n",
      "Chunk4 saved to outputs_pipeline/article2_chunk4_05.json\n",
      "done 新型金属氧化物半导体场效应...测器在放疗剂量监控中的应用_祁振宇_llm_correct.md chunk4.\n",
      "Chunk4 saved to outputs_pipeline/article2_chunk4_05.json\n",
      "done 不同溅射气体对a-IGZO_TFT特性的影响_张耿_llm_correct.md chunk4.\n",
      "Chunk4 saved to outputs_pipeline/article2_chunk4_05.json\n",
      "done OTFT开关比对有源层厚度...质浓度间制约关系的影响研究_陈金伙_llm_correct.md chunk4.\n",
      "Chunk4 saved to outputs_pipeline/article2_chunk4_05.json\n",
      "done 基于一维周期性金属-介质薄...收体的制备及其光学特性研究_李辉_llm_correct.md chunk4.\n",
      "Chunk4 saved to outputs_pipeline/article2_chunk4_05.json\n",
      "done a-Si∶H_TFT亚阈值区SPICE模型的研究_邵喜斌_llm_correct.md chunk4.\n",
      "Chunk4 saved to outputs_pipeline/article2_chunk4_05.json\n",
      "done 多晶硅薄膜的铝诱导晶化法制备及其晶粒的择优取向特性_于威_llm_correct.md chunk4.\n",
      "Chunk4 saved to outputs_pipeline/article2_chunk4_05.json\n",
      "done 射频磁控溅射低温制备ITO薄膜_王秀娟_llm_correct.md chunk4.\n",
      "Chunk4 saved to outputs_pipeline/article2_chunk4_05.json\n",
      "done 彩色滤光片制备方法概述_徐红梅_llm_correct.md chunk4.\n",
      "Chunk4 saved to outputs_pipeline/article2_chunk4_05.json\n",
      "done 大气环境下多晶硅薄膜的疲劳性能_吴昊_llm_correct.md chunk4.\n",
      "Chunk4 saved to outputs_pipeline/article2_chunk4_05.json\n",
      "done 快速热退火对ITO薄膜及LED芯片性能的影响_闫晓密_llm_correct.md chunk4.\n",
      "Chunk4 saved to outputs_pipeline/article2_chunk4_05.json\n",
      "done 氢化非晶硅薄膜的性能研究_叶林_llm_correct.md chunk4.\n",
      "Chunk4 saved to outputs_pipeline/article2_chunk4_05.json\n",
      "done PECVD制备富硅氮化硅薄膜的工艺条件及其性质的研究_张龙龙_llm_correct.md chunk4.\n",
      "Chunk4 saved to outputs_pipeline/article2_chunk4_05.json\n",
      "done ZnS纳米棒阵列的结构和光学特性_冯秋菊_llm_correct.md chunk4.\n",
      "Chunk4 saved to outputs_pipeline/article2_chunk4_05.json\n",
      "done 喷墨打印技术制备氧化物薄膜晶体管_杨小天_llm_correct.md chunk4.\n",
      "Chunk4 saved to outputs_pipeline/article2_chunk4_05.json\n",
      "done 多晶硅薄膜高温退火特性研究分析_赵杰_llm_correct.md chunk4.\n",
      "Chunk4 saved to outputs_pipeline/article2_chunk4_05.json\n",
      "done CPJ-1300偏光片除泡机的研制开发_刘军涛_llm_correct.md chunk4.\n",
      "Chunk4 saved to outputs_pipeline/article2_chunk4_05.json\n",
      "done 新型显示偏光片光学膜的加工-结构-性能关系_韩雪晴_llm_correct.md chunk4.\n",
      "Chunk4 saved to outputs_pipeline/article2_chunk4_05.json\n",
      "done 像素设计中沟道宽和长的选择_汪梅林_llm_correct.md chunk4.\n",
      "Chunk4 saved to outputs_pipeline/article2_chunk4_05.json\n",
      "done 柔性衬底上非晶硅薄膜太阳电池的材料研究_张延生_llm_correct.md chunk4.\n",
      "Chunk4 saved to outputs_pipeline/article2_chunk4_05.json\n",
      "done 一个非晶InGaZnO薄膜...体管线性区陷阱态的提取方法_徐飘荣_llm_correct.md chunk4.\n",
      "Chunk4 saved to outputs_pipeline/article2_chunk4_05.json\n",
      "done “战略性先进电子材料”重点...印刷TFT材料与器件的研究_张小涛_llm_correct.md chunk4.\n",
      "Chunk4 saved to outputs_pipeline/article2_chunk4_05.json\n",
      "done 准分子激光线形光束晶化非晶硅薄膜_尹广玥_llm_correct.md chunk4.\n",
      "Chunk4 saved to outputs_pipeline/article2_chunk4_05.json\n",
      "done PECVD_SiO_2-SiN_X叠层钝化膜的研究_韩培育_llm_correct.md chunk4.\n",
      "Chunk4 saved to outputs_pipeline/article2_chunk4_05.json\n",
      "done SOI材料在光电子学中的应用_陈媛媛_llm_correct.md chunk4.\n",
      "Chunk4 saved to outputs_pipeline/article2_chunk4_05.json\n",
      "done 对不同制备方法下的ZnO基薄膜晶体管透过率的研究_袁广才_llm_correct.md chunk4.\n",
      "Chunk4 saved to outputs_pipeline/article2_chunk4_05.json\n",
      "done 梯度无结型金属氧化物薄膜晶体管的制备和性能探究_刘佳_llm_correct.md chunk4.\n",
      "Chunk4 saved to outputs_pipeline/article2_chunk4_05.json\n",
      "done 叠层方式形成彩色滤光片隔垫物的研究_舒适_llm_correct.md chunk4.\n",
      "Chunk4 saved to outputs_pipeline/article2_chunk4_05.json\n",
      "done 栅极坡度角对TFT器件制程的影响_刘丹_llm_correct.md chunk4.\n",
      "Chunk4 saved to outputs_pipeline/article2_chunk4_05.json\n",
      "done PECVD_a-Si_H薄...性能的影响及其淀积工艺研究_丁晖_llm_correct.md chunk4.\n",
      "Chunk4 saved to outputs_pipeline/article2_chunk4_05.json\n",
      "done 微波退火法制备多晶硅薄膜的电学特性研究_饶瑞_llm_correct.md chunk4.\n",
      "Chunk4 saved to outputs_pipeline/article2_chunk4_05.json\n",
      "done 不同有源层厚度的多晶硅薄膜晶体管特性研究_李阳_llm_correct.md chunk4.\n",
      "Chunk4 saved to outputs_pipeline/article2_chunk4_05.json\n",
      "done 基于晶界离散分布的多晶硅薄膜晶体管直流模型_严炳辉_llm_correct.md chunk4.\n",
      "Chunk4 saved to outputs_pipeline/article2_chunk4_05.json\n",
      "done ZnO基薄膜晶体管的研究_程松华_llm_correct.md chunk4.\n",
      "Chunk4 saved to outputs_pipeline/article2_chunk4_05.json\n",
      "done The Effect of...-InGaZnO TFTs_黄晓明_llm_correct.md chunk4.\n",
      "Chunk4 saved to outputs_pipeline/article2_chunk4_05.json\n",
      "done 低温快速热退火晶化制备多晶硅薄膜_王红娟_llm_correct.md chunk4.\n",
      "Chunk4 saved to outputs_pipeline/article2_chunk4_05.json\n",
      "done TFT—LCD生产中HPMJ清洗工艺的研究_林琅_llm_correct.md chunk4.\n",
      "Chunk4 saved to outputs_pipeline/article2_chunk4_05.json\n",
      "done TFT-LCD行业液晶玻璃切割Dummy管控与改善_伍飞高_llm_correct.md chunk4.\n",
      "Chunk4 saved to outputs_pipeline/article2_chunk4_05.json\n",
      "done 基于BP神经网络的线Mura缺陷识别与定位研究_李一能_llm_correct.md chunk4.\n",
      "Chunk4 saved to outputs_pipeline/article2_chunk4_05.json\n",
      "done TFT-LCD_Mura缺陷机器视觉检测方法研究_卢小鹏_llm_correct.md chunk4.\n",
      "Chunk4 saved to outputs_pipeline/article2_chunk4_05.json\n",
      "done 大尺寸TFT_LCD产品发展趋势_张兵_llm_correct.md chunk4.\n",
      "Chunk4 saved to outputs_pipeline/article2_chunk4_05.json\n",
      "done TFT-LCD_LED背光延迟扫描技术研究_蔡明雄_llm_correct.md chunk4.\n",
      "Chunk4 saved to outputs_pipeline/article2_chunk4_05.json\n",
      "done TFT-LCD线类缺陷的检测及修正方法研究_林宁_llm_correct.md chunk4.\n",
      "Chunk4 saved to outputs_pipeline/article2_chunk4_05.json\n",
      "done TFT-LCD边缘彩点Mura解析和改善_陈帅_llm_correct.md chunk4.\n",
      "Chunk4 saved to outputs_pipeline/article2_chunk4_05.json\n",
      "done 彩色滤光片黄光制程常见工艺异常的处理_彭建中_llm_correct.md chunk4.\n",
      "Chunk4 saved to outputs_pipeline/article2_chunk4_05.json\n",
      "done LCD和TFT-LCD用玻璃基片_扈海燕_llm_correct.md chunk4.\n",
      "Chunk4 saved to outputs_pipeline/article2_chunk4_05.json\n",
      "done TFT-LCD制造cell阶段多目标绿色调度问题研究_刘庭宇_llm_correct.md chunk4.\n",
      "Chunk4 saved to outputs_pipeline/article2_chunk4_05.json\n",
      "done TFT阵列金属电极的制备与性能_王大海_llm_correct.md chunk4.\n",
      "Chunk4 saved to outputs_pipeline/article2_chunk4_05.json\n",
      "done TFT-LCD用玻璃基板的性能及检测_刘海燕_llm_correct.md chunk4.\n",
      "Chunk4 saved to outputs_pipeline/article2_chunk4_05.json\n",
      "done TFT漏电流对Flicker影响及测试方法研究_姚之晓_llm_correct.md chunk4.\n",
      "Chunk4 saved to outputs_pipeline/article2_chunk4_05.json\n",
      "done TFT_AMLCD像素矩阵电路中栅延迟的模拟研究_李牧菊_llm_correct.md chunk4.\n",
      "Chunk4 saved to outputs_pipeline/article2_chunk4_05.json\n",
      "done 应用TFT-LCD_TCON中的图像处理改进算法研究_冉峰_llm_correct.md chunk4.\n",
      "Chunk4 saved to outputs_pipeline/article2_chunk4_05.json\n",
      "done yeshiTFT-LCD玻璃基板清洗剂的应用研究_王剑_llm_correct.md chunk4.\n",
      "Chunk4 saved to outputs_pipeline/article2_chunk4_05.json\n",
      "done TFT阵列基板过孔电阻与耐流性能研究_陈运金_llm_correct.md chunk4.\n",
      "Chunk4 saved to outputs_pipeline/article2_chunk4_05.json\n",
      "done 光学信息处理中TFT-LCD像素结构衍射的干扰_陈前荣_llm_correct.md chunk4.\n",
      "Chunk4 saved to outputs_pipeline/article2_chunk4_05.json\n",
      "done TFT-LCD端子在线切割工艺及关键技术_李庆亮_llm_correct.md chunk4.\n",
      "Chunk4 saved to outputs_pipeline/article2_chunk4_05.json\n",
      "done TFT_LCD——未来主流显示技术_黄锡珉_llm_correct.md chunk4.\n",
      "Chunk4 saved to outputs_pipeline/article2_chunk4_05.json\n",
      "done 关于DOE方法在TFT-L...ura设备检出率提升的应用_蔡婷_llm_correct.md chunk4.\n",
      "Chunk4 saved to outputs_pipeline/article2_chunk4_05.json\n",
      "done TFT-LCD液晶电视的分辨率与HDTV方型像素_王富奎_llm_correct.md chunk4.\n",
      "Chunk4 saved to outputs_pipeline/article2_chunk4_05.json\n",
      "done TFT-LCD行业激光打码后面板强度改善_伍飞高_llm_correct.md chunk4.\n",
      "Chunk4 saved to outputs_pipeline/article2_chunk4_05.json\n",
      "done 昆山开建8.5G_TFT-LCD生产线_llm_correct.md chunk4.\n",
      "Chunk4 saved to outputs_pipeline/article2_chunk4_05.json\n",
      "done 关于TFT-LCD中一种偏光片相关不良的研究_刘杰_llm_correct.md chunk4.\n",
      "Chunk4 saved to outputs_pipeline/article2_chunk4_05.json\n",
      "done 周边配向膜Mura改善研究_徐长健_llm_correct.md chunk4.\n",
      "Chunk4 saved to outputs_pipeline/article2_chunk4_05.json\n",
      "done TFT-LCD背光设计策略_颜重光_llm_correct.md chunk4.\n",
      "Chunk4 saved to outputs_pipeline/article2_chunk4_05.json\n",
      "done TFT的热电特性及其在室温IRFPA中的应用_董良_llm_correct.md chunk4.\n",
      "Chunk4 saved to outputs_pipeline/article2_chunk4_05.json\n",
      "done TFT-LCD显示器显示质量评测_张敏_llm_correct.md chunk4.\n",
      "Chunk4 saved to outputs_pipeline/article2_chunk4_05.json\n",
      "done TFT液晶显示的无缺陷技术_赵伟_llm_correct.md chunk4.\n",
      "Chunk4 saved to outputs_pipeline/article2_chunk4_05.json\n",
      "done TFT器件过孔腐蚀机理研究及改善_董康旭_llm_correct.md chunk4.\n",
      "Chunk4 saved to outputs_pipeline/article2_chunk4_05.json\n",
      "done TFT-LCD残像原理与分析-加强篇二_焦峰_llm_correct.md chunk4.\n",
      "Chunk4 saved to outputs_pipeline/article2_chunk4_05.json\n",
      "done TFT-LCD制程中San...a的失效模式分析及改善研究_史高飞_llm_correct.md chunk4.\n",
      "Chunk4 saved to outputs_pipeline/article2_chunk4_05.json\n",
      "done a-Si_TFT液晶显示模块的评价概述_闫亮_llm_correct.md chunk4.\n",
      "Chunk4 saved to outputs_pipeline/article2_chunk4_05.json\n",
      "done ITO像素电极工序对于HADS产品TFT特性的影响_林致远_llm_correct.md chunk4.\n",
      "Chunk4 saved to outputs_pipeline/article2_chunk4_05.json\n",
      "done TFT-LCD背光模组光学膜关键件的开发研究_张益民_llm_correct.md chunk4.\n",
      "Chunk4 saved to outputs_pipeline/article2_chunk4_05.json\n",
      "done 从专利角度看薄膜晶体管-液晶显示器控制技术_彭海良_llm_correct.md chunk4.\n",
      "Chunk4 saved to outputs_pipeline/article2_chunk4_05.json\n",
      "done TFT-LCD发绿的研究及改善_杨宗顺_llm_correct.md chunk4.\n",
      "Chunk4 saved to outputs_pipeline/article2_chunk4_05.json\n",
      "done 基于多项式曲面拟合的TFT...LCD斑痕缺陷自动检测技术_张昱_llm_correct.md chunk4.\n",
      "Chunk4 saved to outputs_pipeline/article2_chunk4_05.json\n",
      "done a-Si_TFT寻址LCD的动态特性_Miyata_llm_correct.md chunk4.\n",
      "Chunk4 saved to outputs_pipeline/article2_chunk4_05.json\n",
      "done TFT阵列栅延迟特性研究_傅东_llm_correct.md chunk4.\n",
      "Chunk4 saved to outputs_pipeline/article2_chunk4_05.json\n",
      "done 中国台湾与韩国TFT-LC...业比较及其对中国大陆的启示_董彦良_llm_correct.md chunk4.\n",
      "Chunk4 saved to outputs_pipeline/article2_chunk4_05.json\n",
      "done 大面积TFT液晶显示屏的振动应力分析及其抗振加固_吴金华_llm_correct.md chunk4.\n",
      "Chunk4 saved to outputs_pipeline/article2_chunk4_05.json\n",
      "done 大尺寸TFT_LCD面板短路环切割质量提升研究_罗超龙_llm_correct.md chunk4.\n",
      "Chunk4 saved to outputs_pipeline/article2_chunk4_05.json\n",
      "done TFT-LCD模块组装调度问题的改进灰狼优化算法_姚远远_llm_correct.md chunk4.\n",
      "Chunk4 saved to outputs_pipeline/article2_chunk4_05.json\n",
      "done TFT-LCD玻璃基板的本构参数研究及其切割过程分析_赵靖超_llm_correct.md chunk4.\n",
      "Chunk4 saved to outputs_pipeline/article2_chunk4_05.json\n",
      "done TFT-LCD液晶显示技术与应用_李联益_llm_correct.md chunk4.\n",
      "Chunk4 saved to outputs_pipeline/article2_chunk4_05.json\n",
      "done TFT-LCD制程中ITO残留的产生与控制_毛联波_llm_correct.md chunk4.\n",
      "Chunk4 saved to outputs_pipeline/article2_chunk4_05.json\n",
      "done 彩色TFT－LCD发展现状与前景_吴雄_llm_correct.md chunk4.\n",
      "Chunk4 saved to outputs_pipeline/article2_chunk4_05.json\n",
      "done STN-LCD重整山河__勇敢叫板TFT_贾明_llm_correct.md chunk4.\n",
      "Chunk4 saved to outputs_pipeline/article2_chunk4_05.json\n",
      "done VA型液晶屏周边Mura的分析与改善_王建国_llm_correct.md chunk4.\n",
      "Chunk4 saved to outputs_pipeline/article2_chunk4_05.json\n",
      "done a-Si_H_TFT电流-电压特性研究_万新恒_llm_correct.md chunk4.\n",
      "Chunk4 saved to outputs_pipeline/article2_chunk4_05.json\n",
      "done 基于杂质离子含量评价的LTPS-LCD面板测量体系_邓文广_llm_correct.md chunk4.\n",
      "Chunk4 saved to outputs_pipeline/article2_chunk4_05.json\n",
      "done TFT-LCD_HADS显...Mura机理研究及设计优化_郑箫逸_llm_correct.md chunk4.\n",
      "Chunk4 saved to outputs_pipeline/article2_chunk4_05.json\n",
      "done TFT-LCD一种条纹Mura的研究与改善_张正林_llm_correct.md chunk4.\n",
      "Chunk4 saved to outputs_pipeline/article2_chunk4_05.json\n",
      "done TFT-LCD边角白点不良的分析和改善_许叶潞_llm_correct.md chunk4.\n",
      "Chunk4 saved to outputs_pipeline/article2_chunk4_05.json\n",
      "done 125mm彩色AMOLED的多晶硅TFT基板_孟志国_llm_correct.md chunk4.\n",
      "Chunk4 saved to outputs_pipeline/article2_chunk4_05.json\n",
      "done TFT-LCD返工IC端子腐蚀行为研究_高洪波_llm_correct.md chunk4.\n",
      "Chunk4 saved to outputs_pipeline/article2_chunk4_05.json\n",
      "done TFT-LCD切割裂片条件优化对后段制程的影响_刘倩_llm_correct.md chunk4.\n",
      "Chunk4 saved to outputs_pipeline/article2_chunk4_05.json\n",
      "done TFT-LCD中升华物组分对柱状隔垫物性能的影响_肖宇_llm_correct.md chunk4.\n",
      "Chunk4 saved to outputs_pipeline/article2_chunk4_05.json\n",
      "done a-SiTFT有源矩阵的单故障交流导纳分析_宋跃_llm_correct.md chunk4.\n",
      "Chunk4 saved to outputs_pipeline/article2_chunk4_05.json\n",
      "done 印刷型设备产生配向膜Mura研究_王丹_llm_correct.md chunk4.\n",
      "Chunk4 saved to outputs_pipeline/article2_chunk4_05.json\n",
      "done TFT液晶显示配套用化学材料的研究进展_叶孝兆_llm_correct.md chunk4.\n",
      "Chunk4 saved to outputs_pipeline/article2_chunk4_05.json\n",
      "done 东芝TFT—LCD模块_陈树民_llm_correct.md chunk4.\n"
     ]
    }
   ],
   "source": [
    "from utils.topic_concepts_v2 import trans_chunk4\n",
    "chunks_path = \"outputs_pipeline/article1_chunks05.json\"\n",
    "chunk4_path = \"outputs_pipeline/article2_chunk4_05.json\" \n",
    "trans_chunk4(chunks_path, chunk4_path)"
   ]
  },
  {
   "cell_type": "code",
   "execution_count": 4,
   "id": "b4757376",
   "metadata": {},
   "outputs": [
    {
     "name": "stdout",
     "output_type": "stream",
     "text": [
      "转换完成，结果已保存到 outputs_pipeline/request1_topic_05.jsonl\n"
     ]
    }
   ],
   "source": [
    "# 得到 gen_topic 任务的请求文件jsonl\n",
    "from utils.topic_concepts_v2 import chunk4_to_jsonl\n",
    "# 输入文件路径（假设是包含chunk4数据的JSON文件）\n",
    "input_chunk4_path = \"outputs_pipeline/article2_chunk4_05.json\" \n",
    "# 输出文件路径\n",
    "output_request_path = \"outputs_pipeline/request1_topic_05.jsonl\"\n",
    "# 执行转换\n",
    "chunk4_to_jsonl(input_chunk4_path, output_request_path)\n",
    "# 剩下的任务在 火山平台 桶列表 和 批量推理列表中完成，并取到推理结果文件"
   ]
  },
  {
   "cell_type": "code",
   "execution_count": 1,
   "id": "685193a1",
   "metadata": {},
   "outputs": [
    {
     "name": "stdout",
     "output_type": "stream",
     "text": [
      "resource module not available on Windows\n",
      "device: cuda\n"
     ]
    },
    {
     "name": "stderr",
     "output_type": "stream",
     "text": [
      "Processing responses: 100%|██████████| 1516/1516 [00:00<00:00, 208272.68it/s]\n"
     ]
    },
    {
     "name": "stdout",
     "output_type": "stream",
     "text": [
      "处理完成，结果已保存到 outputs_pipeline/article3_topics05.json\n"
     ]
    }
   ],
   "source": [
    "# 根据 gen_topic 请求任务 获取 topic_path 结果文件\n",
    "from utils.topic_concepts_v2 import process_response_file\n",
    "# 响应结果文件路径（jsonl格式）\n",
    "response_file_path = \"outputs_pipeline/response1_topic_05.jsonl\"\n",
    "# 原始chunk4数据文件路径\n",
    "chunk4_file_path = \"outputs_pipeline/article2_chunk4_05.json\" \n",
    "# 结果保存路径\n",
    "topics_output_path = \"outputs_pipeline/article3_topics05.json\" \n",
    "# 执行处理\n",
    "process_response_file(response_file_path, chunk4_file_path, topics_output_path)"
   ]
  },
  {
   "cell_type": "code",
   "execution_count": 2,
   "id": "955f4bdc",
   "metadata": {},
   "outputs": [
    {
     "name": "stderr",
     "output_type": "stream",
     "text": [
      "Processing OLED技术在汽车车灯上的应用_罗杰_llm_correct.md: 100%|██████████| 1/1 [00:00<00:00, 1913.46it/s]\n",
      "Processing a-SiTFT有源矩阵的单故障交流导纳分析_宋跃_llm_correct.md: 100%|██████████| 6/6 [00:00<00:00, 3729.38it/s]\n",
      "Processing 基于钙钛矿量子点的电致发光二极管研究进展_赵晨静_llm_correct.md: 100%|██████████| 11/11 [00:00<00:00, 5109.91it/s]\n",
      "Processing AD9883在平板显示视频接口中的应用_胡建民_llm_correct.md: 100%|██████████| 3/3 [00:00<00:00, 5693.63it/s]\n",
      "Processing 固体电介质空间电荷的光电子学测量方法研究进展_王健_llm_correct.md: 100%|██████████| 12/12 [00:00<00:00, 5973.37it/s]\n",
      "Processing 9款38cm(15英寸)TFT_LCD显示器横向评测_张韬_llm_correct.md: 100%|██████████| 8/8 [00:00<00:00, 8015.87it/s]\n",
      "Processing 不同溅射气体对a-IGZO_TFT特性的影响_张耿_llm_correct.md: 100%|██████████| 5/5 [00:00<?, ?it/s]\n",
      "Processing 一个非晶InGaZnO薄膜...体管线性区陷阱态的提取方法_徐飘荣_llm_correct.md: 100%|██████████| 5/5 [00:00<00:00, 4605.08it/s]\n",
      "Processing 有机添加剂在钙钛矿电致发光器件中的应用_刘鑫妍_llm_correct.md: 100%|██████████| 8/8 [00:00<00:00, 3706.44it/s]\n",
      "Processing ZnO基薄膜晶体管的研究_程松华_llm_correct.md: 100%|██████████| 6/6 [00:00<00:00, 3713.42it/s]\n",
      "Processing 射频磁控溅射低温制备ITO薄膜_王秀娟_llm_correct.md: 100%|██████████| 6/6 [00:00<00:00, 3807.81it/s]\n",
      "Processing 微腔对有机发光的影响的研究_初国强_llm_correct.md: 100%|██████████| 2/2 [00:00<00:00, 1825.99it/s]\n",
      "Processing TFT-LCD切割裂片条件优化对后段制程的影响_刘倩_llm_correct.md: 100%|██████████| 5/5 [00:00<00:00, 4983.73it/s]\n",
      "Processing 对不同制备方法下的ZnO基薄膜晶体管透过率的研究_袁广才_llm_correct.md: 100%|██████████| 4/4 [00:00<?, ?it/s]\n",
      "Processing 有机电致发光薄膜显示器像素阵列的制作_陈敏_llm_correct.md: 100%|██████████| 5/5 [00:00<00:00, 4993.22it/s]\n",
      "Processing 小分子蓝光OLED材料与器件研究进展_陈旭中_llm_correct.md: 100%|██████████| 5/5 [00:00<00:00, 5002.75it/s]\n",
      "Processing OLED显示屏驱动控制芯片技术分析及其应用_廖晶晶_llm_correct.md: 100%|██████████| 4/4 [00:00<00:00, 3760.02it/s]\n",
      "Processing 三端子有源矩阵液晶显示器_刘洪武_llm_correct.md: 100%|██████████| 13/13 [00:00<00:00, 4861.01it/s]\n",
      "Processing 基于激子和电致激基复合物双重发光的白光OLED_檀康明_llm_correct.md: 100%|██████████| 8/8 [00:00<00:00, 5071.71it/s]\n",
      "Processing 发光层位置对白光有机发光二极管的影响（英文）_向东旭_llm_correct.md: 100%|██████████| 11/11 [00:00<00:00, 4363.69it/s]\n",
      "Processing 新型高分辨率三维显示器件与系统的基础研究年度报告_夏军_llm_correct.md: 100%|██████████| 2/2 [00:00<00:00, 2005.40it/s]\n",
      "Processing OLED专利申请分析_苏治平_llm_correct.md: 100%|██████████| 1/1 [00:00<?, ?it/s]\n",
      "Processing 多晶硅薄膜高温退火特性研究分析_赵杰_llm_correct.md: 100%|██████████| 3/3 [00:00<00:00, 2979.61it/s]\n",
      "Processing LED背光源热设计研究_姜凤山_llm_correct.md: 100%|██████████| 3/3 [00:00<00:00, 1989.71it/s]\n",
      "Processing OLEDs中的激子及其高效利用_马东阁_llm_correct.md: 100%|██████████| 13/13 [00:00<00:00, 6476.54it/s]\n",
      "Processing 基于BP神经网络的线Mura缺陷识别与定位研究_李一能_llm_correct.md: 100%|██████████| 7/7 [00:00<00:00, 6382.64it/s]\n",
      "Processing a-Si_H_TFT电流-电压特性研究_万新恒_llm_correct.md: 100%|██████████| 5/5 [00:00<00:00, 3153.61it/s]\n",
      "Processing 基于人因的液晶显示动态图像质量研究_宋玉_llm_correct.md: 100%|██████████| 7/7 [00:00<00:00, 4377.54it/s]\n",
      "Processing 准分子激光线形光束晶化非晶硅薄膜_尹广玥_llm_correct.md: 100%|██████████| 6/6 [00:00<00:00, 2394.69it/s]\n",
      "Processing 三星面板分拆独立66亿嫁妆重攻OLED_郎朗_llm_correct.md: 100%|██████████| 1/1 [00:00<00:00, 926.51it/s]\n",
      "Processing 双面显示技术的进展(续)_陈禹翔.md0000_llm_correct.md: 100%|██████████| 5/5 [00:00<00:00, 3145.10it/s]\n",
      "Processing 利用STM和CV方法测定有机发光材料的能带参数_付慧英_llm_correct.md: 100%|██████████| 4/4 [00:00<00:00, 2441.74it/s]\n",
      "Processing 咔唑及其衍生物在蓝光OLED中的应用_苏玉苗_llm_correct.md: 100%|██████████| 11/11 [00:00<00:00, 2636.87it/s]\n",
      "Processing 栅极坡度角对TFT器件制程的影响_刘丹_llm_correct.md: 100%|██████████| 8/8 [00:00<00:00, 3549.61it/s]\n",
      "Processing AM_OLED_OLED的“明日之星”_王力_llm_correct.md: 100%|██████████| 3/3 [00:00<00:00, 2964.17it/s]\n",
      "Processing TFT-LCD_Mura缺陷机器视觉检测方法研究_卢小鹏_llm_correct.md: 100%|██████████| 12/12 [00:00<00:00, 5830.82it/s]\n",
      "Processing 广东AMOLED有机材料专利现状及发展趋势研究_陈宇萍_llm_correct.md: 100%|██████████| 2/2 [00:00<00:00, 1997.29it/s]\n",
      "Processing 梯度无结型金属氧化物薄膜晶体管的制备和性能探究_刘佳_llm_correct.md: 100%|██████████| 14/14 [00:00<00:00, 4644.85it/s]\n",
      "Processing “战略性先进电子材料”重点...印刷TFT材料与器件的研究_张小涛_llm_correct.md: 100%|██████████| 2/2 [00:00<00:00, 1478.69it/s]\n",
      "Processing 含微米银颗粒OLED封装胶中的湿气扩散研究_谈隆旺_llm_correct.md: 100%|██████████| 4/4 [00:00<00:00, 1589.35it/s]\n",
      "Processing 基于B_3PyMPM∶Cs高效叠层OLED器件的制备_林雯嫣_llm_correct.md: 100%|██████████| 6/6 [00:00<00:00, 11164.96it/s]\n",
      "Processing OTFT开关比对有源层厚度...质浓度间制约关系的影响研究_陈金伙_llm_correct.md: 100%|██████████| 6/6 [00:00<00:00, 3578.76it/s]\n",
      "Processing 一种可旋涂的磷光铱(Ⅲ)配...及其在OLED器件中的性能_武钰铃_llm_correct.md: 100%|██████████| 7/7 [00:00<00:00, 6949.14it/s]\n",
      "Processing 不同封装方式的有机发光二极管的传热特性_陈卓_llm_correct.md: 100%|██████████| 5/5 [00:00<00:00, 9580.41it/s]\n",
      "Processing 大尺寸TFT_LCD面板短路环切割质量提升研究_罗超龙_llm_correct.md: 100%|██████████| 13/13 [00:00<00:00, 4067.89it/s]\n",
      "Processing 平板显示器件通用驱动电路IP核的设计_李益全_llm_correct.md: 100%|██████████| 3/3 [00:00<00:00, 5642.56it/s]\n",
      "Processing 基于人眼平滑追踪的液晶显示运动模糊研究_夏振平_llm_correct.md: 100%|██████████| 5/5 [00:00<00:00, 4326.70it/s]\n",
      "Processing 基于视觉的液晶屏_OLED屏缺陷检测方法综述_林思媛_llm_correct.md: 100%|██████████| 12/12 [00:00<00:00, 11995.15it/s]\n",
      "Processing PECVD制备富硅氮化硅薄膜的工艺条件及其性质的研究_张龙龙_llm_correct.md: 100%|██████████| 5/5 [00:00<00:00, 5006.33it/s]\n",
      "Processing Alq_3有机发光二极管中的激子湮灭过程及其磁场效应_张勇_llm_correct.md: 100%|██████████| 7/7 [00:00<00:00, 3410.40it/s]\n",
      "Processing 柔性显示实现的关键技术_李天华_llm_correct.md: 100%|██████████| 5/5 [00:00<00:00, 2498.99it/s]\n",
      "Processing 关于TFT-LCD中一种偏光片相关不良的研究_刘杰_llm_correct.md: 100%|██████████| 3/3 [00:00<00:00, 2998.07it/s]\n",
      "Processing 医疗环境中液晶显示器使用和保养_庞晏庆_llm_correct.md: 100%|██████████| 2/2 [00:00<00:00, 3807.81it/s]\n",
      "Processing 插入层TmP_yPb对白色...电致发光二极管色纯度的影响_王振_llm_correct.md: 100%|██████████| 4/4 [00:00<00:00, 1817.68it/s]\n",
      "Processing a-Si_TFT寻址LCD的动态特性_Miyata_llm_correct.md: 100%|██████████| 4/4 [00:00<00:00, 3788.89it/s]\n",
      "Processing 彩电业：平板电视时代的新技...平板电视技术趋势回顾与展望_张兵_llm_correct.md: 100%|██████████| 4/4 [00:00<00:00, 7526.79it/s]\n",
      "Processing 基于Linux下的OLED显示模块设计_李想_llm_correct.md: 100%|██████████| 3/3 [00:00<00:00, 5678.21it/s]\n",
      "Processing 氢化非晶硅薄膜的性能研究_叶林_llm_correct.md: 100%|██████████| 3/3 [00:00<00:00, 5675.65it/s]\n",
      "Processing TFT-OLED像素单元电路及驱动系统分析_朱儒晖_llm_correct.md: 100%|██████████| 6/6 [00:00<00:00, 3752.73it/s]\n",
      "Processing 关于DOE方法在TFT-L...ura设备检出率提升的应用_蔡婷_llm_correct.md: 100%|██████████| 1/1 [00:00<00:00, 1897.88it/s]\n",
      "Processing 一种基于蓝色荧光与磷光敏化...白光有机电致发光器件的制备_张世明_llm_correct.md: 100%|██████████| 5/5 [00:00<00:00, 4599.02it/s]\n",
      "Processing 含氟液晶材料的研究进展_谢段燕_llm_correct.md: 100%|██████████| 7/7 [00:00<00:00, 6983.86it/s]\n",
      "Processing 比OLED技高一筹__走近MicroLED显示技术_睿智_llm_correct.md: 100%|██████████| 2/2 [00:00<?, ?it/s]\n",
      "Processing 有机半导体异质结电荷产生层...叠层有机发光二极管中的应用_陈永华_llm_correct.md: 100%|██████████| 7/7 [00:00<00:00, 6995.50it/s]\n",
      "Processing 倒置QLED器件中氧化锌电子传输层的镁掺杂效应_陈幸福_llm_correct.md: 100%|██████████| 6/6 [00:00<00:00, 6000.43it/s]\n",
      "Processing Digital drive...OLED displays_llm_correct.md: 100%|██████████| 4/4 [00:00<00:00, 3984.14it/s]\n",
      "Processing 同步对称双栅InGaZnO薄膜晶体管电势模型研究_覃婷_llm_correct.md: 100%|██████████| 8/8 [00:00<00:00, 5080.16it/s]\n",
      "Processing 基于杂质离子含量评价的LTPS-LCD面板测量体系_邓文广_llm_correct.md: 100%|██████████| 5/5 [00:00<00:00, 4715.88it/s]\n",
      "Processing 从2004年全球五大显示会...世界显示器件技术的高速发展_段诚_llm_correct.md: 100%|██████████| 3/3 [00:00<00:00, 2826.35it/s]\n",
      "Processing 平板彩电液晶显示器的工作原理(下)_刘永利_llm_correct.md: 100%|██████████| 1/1 [00:00<00:00, 1880.85it/s]\n",
      "Processing TFT-LCD发绿的研究及改善_杨宗顺_llm_correct.md: 100%|██████████| 4/4 [00:00<00:00, 7550.50it/s]\n",
      "Processing 射频磁控溅射ITO薄膜中沉积温度对膜特性影响_赵透玲_llm_correct.md: 100%|██████████| 4/4 [00:00<00:00, 6485.20it/s]\n",
      "Processing 新型金属氧化物半导体场效应...测器在放疗剂量监控中的应用_祁振宇_llm_correct.md: 100%|██████████| 6/6 [00:00<00:00, 3765.65it/s]\n",
      "Processing 显示技术及8K超高清视频呈现_许春蕾_llm_correct.md: 100%|██████████| 4/4 [00:00<00:00, 7355.20it/s]\n",
      "Processing TPM在京东方液晶显示制造中的应用研究_范延江_llm_correct.md: 100%|██████████| 15/15 [00:00<00:00, 15001.09it/s]\n",
      "Processing 关于柔性AMOLED工厂废气的处置概述_马尚学_llm_correct.md: 100%|██████████| 2/2 [00:00<00:00, 2002.05it/s]\n",
      "Processing TFT阵列金属电极的制备与性能_王大海_llm_correct.md: 100%|██████████| 3/3 [00:00<?, ?it/s]\n",
      "Processing 数字驱动型OLED的动态假轮廓量化及改善策略_季渊_llm_correct.md: 100%|██████████| 7/7 [00:00<00:00, 6995.50it/s]\n",
      "Processing 中国LED及其显示屏产业市场发展动向_陈苗海_llm_correct.md: 100%|██████████| 4/4 [00:00<00:00, 3696.24it/s]\n",
      "Processing TFT-LCD用玻璃基板的性能及检测_刘海燕_llm_correct.md: 100%|██████████| 3/3 [00:00<00:00, 2848.75it/s]\n",
      "Processing OLED的最新消息_海信_llm_correct.md: 100%|██████████| 1/1 [00:00<?, ?it/s]\n",
      "Processing OCB模式液晶显示器件的膜补偿模拟优化_单艾娴_llm_correct.md: 100%|██████████| 4/4 [00:00<00:00, 3716.71it/s]\n",
      "Processing 广色域液晶电视你买不买_郯道宗_llm_correct.md: 100%|██████████| 3/3 [00:00<00:00, 2976.79it/s]\n",
      "Processing 一种基于二-[2',6'-...)的非掺杂蓝色磷光发光器件_骆开均_llm_correct.md: 100%|██████████| 7/7 [00:00<00:00, 3504.01it/s]\n",
      "Processing LCD驱动电路的设计与实现_李晓飞_llm_correct.md: 100%|██████████| 3/3 [00:00<00:00, 1322.71it/s]\n",
      "Processing 基于MAX3100和OLED的GPS定位系统设计_李利功_llm_correct.md: 100%|██████████| 3/3 [00:00<?, ?it/s]\n",
      "Processing 树形分子有机电致发光材料研究_卫秀成_llm_correct.md: 100%|██████████| 6/6 [00:00<00:00, 3981.93it/s]\n",
      "Processing 基于AM-OLED立体显示接口电路的设计_卓斌_llm_correct.md: 100%|██████████| 4/4 [00:00<00:00, 2001.34it/s]\n",
      "Processing 新型不对称酞菁的电致发光性质研究_夏道成_llm_correct.md: 100%|██████████| 5/5 [00:00<00:00, 5001.55it/s]\n",
      "Processing AMOLED子像素渲染算法研究_徐京_llm_correct.md: 100%|██████████| 6/6 [00:00<00:00, 11356.42it/s]\n",
      "Processing 含硼有机发光二极管材料与器件_杨智文_llm_correct.md: 100%|██████████| 12/12 [00:00<00:00, 7590.36it/s]\n",
      "Processing 新型均三嗪咔唑类蓝光电致发光材料的合成与性能探究_李海艳_llm_correct.md: 100%|██████████| 2/2 [00:00<00:00, 1849.34it/s]\n",
      "Processing VA型液晶屏周边Mura的分析与改善_王建国_llm_correct.md: 100%|██████████| 3/3 [00:00<?, ?it/s]\n",
      "Processing TFT-LCD行业激光打码后面板强度改善_伍飞高_llm_correct.md: 100%|██████████| 4/4 [00:00<00:00, 3781.21it/s]\n",
      "Processing 功能层界面制备方法对OLED性能的影响_牟强_llm_correct.md: 100%|██████████| 4/4 [00:00<00:00, 7466.50it/s]\n",
      "Processing 有机发光二极管老化机制_牛泉_llm_correct.md: 100%|██████████| 11/11 [00:00<00:00, 10543.27it/s]\n",
      "Processing 有机电致发光的全彩色显示_李亚晖_llm_correct.md: 100%|██████████| 3/3 [00:00<00:00, 2778.91it/s]\n",
      "Processing Poly-SiTFT有源驱...ED单元像素电路的参数设计_王丽杰_llm_correct.md: 100%|██████████| 5/5 [00:00<00:00, 2133.20it/s]\n",
      "Processing OLED显示技术综述_冯迪砂_llm_correct.md: 100%|██████████| 4/4 [00:00<00:00, 3998.38it/s]\n",
      "Processing 一种基于In-Zn-O薄膜...动的OLED行集成驱动电路_张立荣_llm_correct.md: 100%|██████████| 5/5 [00:00<00:00, 4995.60it/s]\n",
      "Processing TFT-LCD返工IC端子腐蚀行为研究_高洪波_llm_correct.md: 100%|██████████| 3/3 [00:00<?, ?it/s]\n",
      "Processing Dual-Gate_TFT...D抖动算法FRC研究与实现_齐郾琴_llm_correct.md: 100%|██████████| 4/4 [00:00<00:00, 1585.45it/s]\n",
      "Processing IGZO-based ne...piking logics_Ying ZHU_llm_correct.md: 100%|██████████| 10/10 [00:00<00:00, 6329.11it/s]\n",
      "Processing 一种基于ARM9的彩色TFT-LCD模块设计及实现_马舜峰_llm_correct.md: 100%|██████████| 5/5 [00:00<00:00, 4692.67it/s]\n",
      "Processing 发光与发光器件_llm_correct.md: 100%|██████████| 2/2 [00:00<?, ?it/s]\n",
      "Processing 柔性衬底上非晶硅薄膜太阳电池的材料研究_张延生_llm_correct.md: 100%|██████████| 12/12 [00:00<00:00, 11428.62it/s]\n",
      "Processing 微缩化LED显示技术的发展及应用_宋德宇_llm_correct.md: 100%|██████████| 6/6 [00:00<00:00, 3565.57it/s]\n",
      "Processing 一种液晶显示器数字源驱动电路的设计_张媛_llm_correct.md: 100%|██████████| 2/2 [00:00<00:00, 3842.70it/s]\n",
      "Processing 多维邻近性对创新网络组织间...—基于OLED产业专利数据_阮平南_llm_correct.md: 100%|██████████| 10/10 [00:00<00:00, 9998.34it/s]\n",
      "Processing RF磁控溅射制备N掺杂Cu_2O薄膜及光学特性研究_自兴发_llm_correct.md: 100%|██████████| 7/7 [00:00<00:00, 6983.86it/s]\n",
      "Processing TFT-LCD制程中San...a的失效模式分析及改善研究_史高飞_llm_correct.md: 100%|██████████| 4/4 [00:00<00:00, 3763.40it/s]\n",
      "Processing 平板显示技术的最新进展_田志仁_llm_correct.md: 100%|██████████| 11/11 [00:00<00:00, 10528.83it/s]\n",
      "Processing 微腔结构对红光磷光OLED的性能的影响研究_张麦丽_llm_correct.md: 100%|██████████| 5/5 [00:00<00:00, 4738.26it/s]\n",
      "Processing 有机电致发光显示及其发展_郑亮_llm_correct.md: 100%|██████████| 3/3 [00:00<00:00, 5624.90it/s]\n",
      "Processing TFT-LCD行业液晶玻璃切割Dummy管控与改善_伍飞高_llm_correct.md: 100%|██████████| 4/4 [00:00<00:00, 3977.53it/s]\n",
      "Processing Micro-LED显示及其驱动技术的研究进展_周律_llm_correct.md: 100%|██████████| 14/14 [00:00<00:00, 13997.68it/s]\n",
      "Processing 快速热退火对ITO薄膜及LED芯片性能的影响_闫晓密_llm_correct.md: 100%|██████████| 4/4 [00:00<00:00, 3998.38it/s]\n",
      "Processing TFT-LCD制造cell阶段多目标绿色调度问题研究_刘庭宇_llm_correct.md: 100%|██████████| 7/7 [00:00<00:00, 7008.86it/s]\n",
      "Processing 利用磷光敏化改善聚合物白光OLED性能_林文晶_llm_correct.md: 100%|██████████| 4/4 [00:00<00:00, 3999.34it/s]\n",
      "Processing 一体化触控技术用ITO薄膜的一次成膜工艺研究_徐日宏_llm_correct.md: 100%|██████████| 5/5 [00:00<?, ?it/s]\n",
      "Processing 双层有机发光二极管中复合效率和复合区域宽度的研究_李宏建_llm_correct.md: 100%|██████████| 4/4 [00:00<?, ?it/s]\n",
      "Processing 折叠屏高增长利好OLED、UTG_刘吉洪_llm_correct.md: 100%|██████████| 1/1 [00:00<?, ?it/s]\n",
      "Processing 有机发光显示器件技术和产业发展情况_万博泉_llm_correct.md: 100%|██████████| 4/4 [00:00<00:00, 1819.65it/s]\n",
      "Processing TFT液晶显示的无缺陷技术_赵伟_llm_correct.md: 100%|██████████| 4/4 [00:00<00:00, 1997.05it/s]\n",
      "Processing 数字整合式家用电器及新型全彩色显示技术_陈汝全_llm_correct.md: 100%|██████████| 2/2 [00:00<00:00, 1000.19it/s]\n",
      "Processing 多层氧化物复合阴极透明OLED器件_梁田静_llm_correct.md: 100%|██████████| 4/4 [00:00<00:00, 2375.70it/s]\n",
      "Processing OLED重点公司美国专利分析_罗佳秀_llm_correct.md: 100%|██████████| 6/6 [00:00<00:00, 3878.83it/s]\n",
      "Processing 基于一维周期性金属-介质薄...收体的制备及其光学特性研究_李辉_llm_correct.md: 100%|██████████| 5/5 [00:00<00:00, 4742.54it/s]\n",
      "Processing 喷墨打印在大尺寸OLED显示中的应用_唐兆兵_llm_correct.md: 100%|██████████| 10/10 [00:00<00:00, 2620.95it/s]\n",
      "Processing 基于LiF_Al_F4-T...有机电致发光器件的特性研究_景姝_llm_correct.md: 100%|██████████| 7/7 [00:00<00:00, 6723.18it/s]\n",
      "Processing 图像显示技术及其最新发展趋势_雷玉堂_llm_correct.md: 100%|██████████| 7/7 [00:00<00:00, 6591.86it/s]\n",
      "Processing yeshiTFT-LCD玻璃基板清洗剂的应用研究_王剑_llm_correct.md: 100%|██████████| 1/1 [00:00<00:00, 1901.32it/s]\n",
      "Processing 中国台湾与韩国TFT-LC...业比较及其对中国大陆的启示_董彦良_llm_correct.md: 100%|██████████| 3/3 [00:00<00:00, 2798.07it/s]\n",
      "Processing 对液晶电视动态画面响应的测试研究_徐涛_llm_correct.md: 100%|██████████| 3/3 [00:00<00:00, 2580.05it/s]\n",
      "Processing TFT-LCD显示器显示质量评测_张敏_llm_correct.md: 100%|██████████| 3/3 [00:00<00:00, 3007.39it/s]\n",
      "Processing 在FPGA下实现灵活的OLED灰度控制_付新虎_llm_correct.md: 100%|██████████| 3/3 [00:00<00:00, 2848.10it/s]\n",
      "Processing 10大新显示技术_llm_correct.md: 100%|██████████| 5/5 [00:00<00:00, 4698.97it/s]\n",
      "Processing SOI材料在光电子学中的应用_陈媛媛_llm_correct.md: 100%|██████████| 4/4 [00:00<00:00, 2451.38it/s]\n",
      "Processing MoO_3为缓冲层的高效非掺杂蓝色有机发光二极管_倪蔚德_llm_correct.md: 100%|██████████| 5/5 [00:00<00:00, 9177.91it/s]\n",
      "Processing 有机电致发光显示彩色化技术及其发展_刘南柳_llm_correct.md: 100%|██████████| 3/3 [00:00<00:00, 4545.85it/s]\n",
      "Processing PMP_LCD驱动电路设计_马涛_llm_correct.md: 100%|██████████| 1/1 [00:00<00:00, 1904.77it/s]\n",
      "Processing 大气环境下多晶硅薄膜的疲劳性能_吴昊_llm_correct.md: 100%|██████████| 4/4 [00:00<00:00, 3789.75it/s]\n",
      "Processing 基于非对称椭圆中心凹JND模型的硅基微显示器_朱毅翀_llm_correct.md: 100%|██████████| 9/9 [00:00<00:00, 8608.61it/s]\n",
      "Processing 小分子有机电致发光器件和材料的研究及应用_密保秀_llm_correct.md: 100%|██████████| 14/14 [00:00<00:00, 4422.04it/s]\n",
      "Processing 有机发光材料DPVBi的空穴阻挡特性_姜文龙_llm_correct.md: 100%|██████████| 4/4 [00:00<00:00, 7476.48it/s]\n",
      "Processing 利用变温瞬态电致发光研究OLED载流子的输运机理_袁超_llm_correct.md: 100%|██████████| 6/6 [00:00<00:00, 11859.48it/s]\n",
      "Processing 不同有源层厚度的多晶硅薄膜晶体管特性研究_李阳_llm_correct.md: 100%|██████████| 4/4 [00:00<?, ?it/s]\n",
      "Processing 一种用于AMOLED驱动的多模式高效电荷泵_王晓蕾_llm_correct.md: 100%|██████████| 6/6 [00:00<00:00, 6006.16it/s]\n",
      "Processing a-Si∶H_TFT亚阈值区SPICE模型的研究_邵喜斌_llm_correct.md: 100%|██████████| 6/6 [00:00<00:00, 6009.03it/s]\n",
      "Processing a-Si_TFT液晶显示模块的评价概述_闫亮_llm_correct.md: 100%|██████████| 2/2 [00:00<00:00, 2699.91it/s]\n",
      "Processing 低电压有机薄膜晶体管驱动顶...发光二极管的集成像素的研制_胡胜坤_llm_correct.md: 100%|██████████| 6/6 [00:00<00:00, 5604.86it/s]\n",
      "Processing 柔性显示器件用聚酰亚胺基板的研究与应用进展_刘金刚_llm_correct.md: 100%|██████████| 5/5 [00:00<00:00, 9597.95it/s]\n",
      "Processing OLED-on-silic...pixel circuit_刘艳艳_llm_correct.md: 100%|██████████| 8/8 [00:00<00:00, 15196.75it/s]\n",
      "Processing 三星2K分辨率100%sRGB色域覆盖机型即将上市_llm_correct.md: 100%|██████████| 1/1 [00:00<00:00, 1860.00it/s]\n",
      "Processing 基于新型有机发光材料的白光照明器件的开发_周军红_llm_correct.md: 100%|██████████| 2/2 [00:00<00:00, 1060.10it/s]\n",
      "Processing OLED封装用高性能阻隔胶粘带的研制_陈维斌_llm_correct.md: 100%|██████████| 3/3 [00:00<00:00, 2823.18it/s]\n",
      "Processing 固态发光器件前景光明_李卓_llm_correct.md: 100%|██████████| 3/3 [00:00<00:00, 5552.92it/s]\n",
      "Processing 显示器件测试技术与设备最新进展_吴涛_llm_correct.md: 100%|██████████| 6/6 [00:00<00:00, 11549.25it/s]\n",
      "Processing TFT_LCD——未来主流显示技术_黄锡珉_llm_correct.md: 100%|██████████| 1/1 [00:00<?, ?it/s]\n",
      "Processing 基于LM3S1138的OLED寿命检测仪_党宏社_llm_correct.md: 100%|██████████| 2/2 [00:00<?, ?it/s]\n",
      "Processing TFT-LCD边缘彩点Mura解析和改善_陈帅_llm_correct.md: 100%|██████████| 3/3 [00:00<?, ?it/s]\n",
      "Processing 叠层方式形成彩色滤光片隔垫物的研究_舒适_llm_correct.md: 100%|██████████| 3/3 [00:00<?, ?it/s]\n",
      "Processing 有机电致发光器件中有机薄膜的制备方法_张新稳_llm_correct.md: 100%|██████████| 6/6 [00:00<00:00, 11853.90it/s]\n",
      "Processing LED和OLED的发展_陶然_llm_correct.md: 100%|██████████| 2/2 [00:00<00:00, 137.81it/s]\n",
      "Processing TFT-LCD模块组装调度问题的改进灰狼优化算法_姚远远_llm_correct.md: 100%|██████████| 11/11 [00:00<00:00, 7303.68it/s]\n",
      "Processing InGaZnO薄膜晶体管背...极驱动电路静电释放失效研究_马群刚_llm_correct.md: 100%|██████████| 7/7 [00:00<00:00, 3496.92it/s]\n",
      "Processing OLED在汽车领域中的应用_田沛东_llm_correct.md: 100%|██████████| 1/1 [00:00<00:00, 1000.31it/s]\n",
      "Processing 新时代,我国OLED产业开启新征程_余雪松_llm_correct.md: 100%|██████████| 5/5 [00:00<00:00, 2448.23it/s]\n",
      "Processing 氢气稀释比例对多晶硅薄膜微观结构和沉积特性的影响_宋莎莎_llm_correct.md: 100%|██████████| 5/5 [00:00<00:00, 4737.19it/s]\n",
      "Processing 信息传递的重要方式——液晶显示_关荣华_llm_correct.md: 100%|██████████| 1/1 [00:00<00:00, 1902.18it/s]\n",
      "Processing CNT-FED点阵显示器件的研制及其驱动电路设计_戴丽娟_llm_correct.md: 100%|██████████| 2/2 [00:00<00:00, 3839.18it/s]\n",
      "Processing A new AC driv...ission AMOLED_张勇文_llm_correct.md: 100%|██████████| 7/7 [00:00<00:00, 2988.92it/s]\n",
      "Processing OLED复合柔性封装层技术及其专利现状_何月娣_llm_correct.md: 100%|██████████| 3/3 [00:00<00:00, 5680.77it/s]\n",
      "Processing 异质结堆叠发光层红色磷光有机发光二极管_郭方志_llm_correct.md: 100%|██████████| 7/7 [00:00<00:00, 13083.84it/s]\n",
      "Processing TFT-LCD一种条纹Mura的研究与改善_张正林_llm_correct.md: 100%|██████████| 5/5 [00:00<00:00, 9291.77it/s]\n",
      "Processing 基于FPGA的液晶驱动电路设计_刘晶_llm_correct.md: 100%|██████████| 2/2 [00:00<00:00, 3816.47it/s]\n",
      "Processing PECVD_a-Si_H薄...性能的影响及其淀积工艺研究_丁晖_llm_correct.md: 100%|██████████| 3/3 [00:00<00:00, 5655.24it/s]\n",
      "Processing TFT液晶显示配套用化学材料的研究进展_叶孝兆_llm_correct.md: 100%|██████████| 4/4 [00:00<00:00, 2435.01it/s]\n",
      "Processing 半导体激光封接OLED工艺研究_李小婷_llm_correct.md: 100%|██████████| 5/5 [00:00<00:00, 4995.60it/s]\n",
      "Processing 平板显示的发展趋势_乔中莲_llm_correct.md: 100%|██████████| 4/4 [00:00<?, ?it/s]\n",
      "Processing 新型显示偏光片光学膜的加工-结构-性能关系_韩雪晴_llm_correct.md: 100%|██████████| 8/8 [00:00<00:00, 8015.87it/s]\n",
      "Processing 基于多项式曲面拟合的TFT...LCD斑痕缺陷自动检测技术_张昱_llm_correct.md: 100%|██████████| 5/5 [00:00<00:00, 9859.67it/s]\n",
      "Processing 手持设备中的无源OLED显示供电方案_llm_correct.md: 100%|██████████| 2/2 [00:00<00:00, 1995.86it/s]\n",
      "Processing 柔性显示器件国际标准研制进展_谢静_llm_correct.md: 100%|██████████| 2/2 [00:00<?, ?it/s]\n",
      "Processing 带支链聚乙炔液晶高分子的合成与光学特性(英文)_薛清_llm_correct.md: 100%|██████████| 5/5 [00:00<?, ?it/s]\n",
      "Processing 应用于OLED的铱类有机电致磷光材料分析_陈倩倩_llm_correct.md: 100%|██████████| 1/1 [00:00<?, ?it/s]\n",
      "Processing OLEDoS微型显示_吴春亚_llm_correct.md: 100%|██████████| 6/6 [00:00<00:00, 6003.30it/s]\n",
      "Processing 最有希望成为下一代平板显示器的QLED_陈杨_llm_correct.md: 100%|██████████| 1/1 [00:00<?, ?it/s]\n",
      "Processing TPBTSi配合物的绿色有机发光器件研究_于军胜_llm_correct.md: 100%|██████████| 3/3 [00:00<00:00, 2987.40it/s]\n",
      "Processing 关于VGA有源OLED屏上栅源驱动电路的设计_杨佳_llm_correct.md: 100%|██████████| 2/2 [00:00<00:00, 1999.67it/s]\n",
      "Processing OLED技术与市场展望_蒋庆全_llm_correct.md: 100%|██████████| 2/2 [00:00<00:00, 3799.19it/s]\n",
      "Processing 有源矩阵液晶显示器述评_张凤翙_llm_correct.md: 100%|██████████| 6/6 [00:00<00:00, 5206.00it/s]\n",
      "Processing TFT-LCD液晶电视的分辨率与HDTV方型像素_王富奎_llm_correct.md: 100%|██████████| 4/4 [00:00<00:00, 7588.07it/s]\n",
      "Processing 数码摄影师的色彩管理讲座(...色彩模式、色彩空间和色域”_吴启海_llm_correct.md: 100%|██████████| 2/2 [00:00<00:00, 3718.35it/s]\n",
      "Processing 应用于OLED驱动芯片的LDO设计_李晴_llm_correct.md: 100%|██████████| 1/1 [00:00<?, ?it/s]\n",
      "Processing 柔性有机发光二极管的薄膜封装研究进展_周钰卜_llm_correct.md: 100%|██████████| 6/6 [00:00<00:00, 2815.91it/s]\n",
      "Processing The Effect of...-InGaZnO TFTs_黄晓明_llm_correct.md: 100%|██████████| 7/7 [00:00<00:00, 6993.84it/s]\n",
      "Processing 大尺寸TFT_LCD产品发展趋势_张兵_llm_correct.md: 100%|██████████| 4/4 [00:00<00:00, 3989.83it/s]\n",
      "Processing 从专利角度看薄膜晶体管-液晶显示器控制技术_彭海良_llm_correct.md: 100%|██████████| 3/3 [00:00<?, ?it/s]\n",
      "Processing 新型三明治结构铝诱导非晶硅薄膜低温晶化增强_贺海晏_llm_correct.md: 100%|██████████| 3/3 [00:00<00:00, 1990.97it/s]\n",
      "Processing 有机吡啶盐的电致发光_徐春祥_llm_correct.md: 100%|██████████| 5/5 [00:00<00:00, 4982.54it/s]\n",
      "Processing CPJ-1300偏光片除泡机的研制开发_刘军涛_llm_correct.md: 100%|██████████| 2/2 [00:00<00:00, 1000.31it/s]\n",
      "Processing LCD驱动器的新特性_钱金维_llm_correct.md: 100%|██████████| 3/3 [00:00<00:00, 5557.82it/s]\n",
      "Processing TFT_AMLCD像素矩阵电路中栅延迟的模拟研究_李牧菊_llm_correct.md: 100%|██████████| 2/2 [00:00<?, ?it/s]\n",
      "Processing TFT阵列基板过孔电阻与耐流性能研究_陈运金_llm_correct.md: 100%|██████████| 8/8 [00:00<00:00, 8000.58it/s]\n",
      "Processing TADF激基复合物主体材料...色荧光有机发光二极管的效率_崔璨_llm_correct.md: 100%|██████████| 6/6 [00:00<00:00, 6001.87it/s]\n",
      "Processing 以标准TFT模组生产的柔性电子书显示器_Ian French_llm_correct.md: 100%|██████████| 2/2 [00:00<00:00, 1997.76it/s]\n",
      "Processing 日本微电子和光电子工业中激光组装技术的应用及展望_王立斌_llm_correct.md: 100%|██████████| 5/5 [00:00<00:00, 3730.26it/s]\n",
      "Processing 柔性OLED模组的落笔冲击仿真与模组优化分析_邹岚韬_llm_correct.md: 100%|██████████| 5/5 [00:00<00:00, 9637.65it/s]\n",
      "Processing 柔性显示用改性纸质基板的表面性能及机械性能研究_易文慧_llm_correct.md: 100%|██████████| 8/8 [00:00<00:00, 3508.41it/s]\n",
      "Processing TFT的热电特性及其在室温IRFPA中的应用_董良_llm_correct.md: 100%|██████████| 1/1 [00:00<00:00, 1867.46it/s]\n",
      "Processing SiN_x介质层非晶IGZ...薄膜晶体管的光照稳定性研究_崔璨_llm_correct.md: 100%|██████████| 6/6 [00:00<00:00, 3538.00it/s]\n",
      "Processing ’97平板显示综述_朱昌昌_llm_correct.md: 100%|██████████| 2/2 [00:00<00:00, 3718.35it/s]\n",
      "Processing InGaZnO薄膜晶体管泄漏电流模型_邓小庆_llm_correct.md: 100%|██████████| 7/7 [00:00<00:00, 13315.25it/s]\n",
      "Processing 平板显示器件用玻璃基板_王玉花_llm_correct.md: 100%|██████████| 3/3 [00:00<00:00, 5627.42it/s]\n",
      "Processing 有机电致发光的研究进展及展望_李全友_llm_correct.md: 100%|██████████| 8/8 [00:00<00:00, 7520.04it/s]\n",
      "Processing 大功率白光LED伏安特性和正向电压温度特性研究_杨亭_llm_correct.md: 100%|██████████| 3/3 [00:00<00:00, 2991.66it/s]\n",
      "Processing OLED显示器件在车载应用上的机遇和挑战_庄筱磊_llm_correct.md: 100%|██████████| 3/3 [00:00<00:00, 3008.11it/s]\n",
      "Processing 有机电激光显示器件缺陷检测进展_彭骞_llm_correct.md: 100%|██████████| 5/5 [00:00<00:00, 5012.31it/s]\n",
      "Processing 有机发光二极管中原子掺杂调控的单重态激子产率_卢秋霞_llm_correct.md: 100%|██████████| 4/4 [00:00<00:00, 4005.06it/s]\n",
      "Processing 基于SPCE061A的AC...64J液晶显示模块应用设计_杨存祥_llm_correct.md: 100%|██████████| 2/2 [00:00<00:00, 2001.10it/s]\n",
      "Processing 应用TFT-LCD_TCON中的图像处理改进算法研究_冉峰_llm_correct.md: 100%|██████████| 3/3 [00:00<00:00, 2078.79it/s]\n",
      "Processing 显像争霸——OLED与LCD显示屏性能对比_汪国华_llm_correct.md: 100%|██████████| 1/1 [00:00<00:00, 999.60it/s]\n",
      "Processing 基于“丝瓜络”3D凝胶网络...凝胶的可拉伸光散射显示器件_陈思_llm_correct.md: 100%|██████████| 4/4 [00:00<00:00, 2653.78it/s]\n",
      "Processing OLED电视产业发展趋势及前景解读_夏治文_llm_correct.md: 100%|██████████| 1/1 [00:00<00:00, 1906.50it/s]\n",
      "Processing 基于TRIZ的液晶显示技术进化过程研究_仝战营_llm_correct.md: 100%|██████████| 1/1 [00:00<00:00, 1784.81it/s]\n",
      "Processing 一种性能优越的液晶材料及显示技术_闻建勋_llm_correct.md: 100%|██████████| 5/5 [00:00<00:00, 4670.72it/s]\n",
      "Processing 加固液晶显示器的抗振动设计_张洁_llm_correct.md: 100%|██████████| 2/2 [00:00<00:00, 3770.16it/s]\n",
      "Processing 周边配向膜Mura改善研究_徐长健_llm_correct.md: 100%|██████████| 4/4 [00:00<00:00, 7598.38it/s]\n",
      "Processing 印刷电子技术在OLED显示器件中的应用_郑华_llm_correct.md: 100%|██████████| 3/3 [00:00<00:00, 5745.62it/s]\n",
      "Processing TFT-LCD中升华物组分对柱状隔垫物性能的影响_肖宇_llm_correct.md: 100%|██████████| 3/3 [00:00<00:00, 2833.35it/s]\n",
      "Processing 在偏振光实验中加入液晶显示器工作原理的演示_崔拴锦_llm_correct.md: 100%|██████████| 1/1 [00:00<00:00, 1981.25it/s]\n",
      "Processing 有机荧光材料DCJTB对白光LED发光特性的影响_毕长栋_llm_correct.md: 100%|██████████| 4/4 [00:00<00:00, 3740.74it/s]\n",
      "Processing 不同发光染料的顶发射有机电致发光器件的研制_陈星明_llm_correct.md: 100%|██████████| 5/5 [00:00<00:00, 2273.09it/s]\n",
      "Processing 利用激子敏化层研究蓝色有机发光器件的激子扩散问题_王福军_llm_correct.md: 100%|██████████| 2/2 [00:00<00:00, 3858.61it/s]\n",
      "Processing TFT-LCD背光模组光学膜关键件的开发研究_张益民_llm_correct.md: 100%|██████████| 3/3 [00:00<00:00, 3009.55it/s]\n",
      "Processing 提高LED背光源质量的研究_刘毅清_llm_correct.md: 100%|██████████| 2/2 [00:00<00:00, 2387.88it/s]\n",
      "Processing 局域和长程杂化密度泛函研究推拉结构有机发光分子_刘小君_llm_correct.md: 100%|██████████| 12/12 [00:00<00:00, 4142.18it/s]\n",
      "Processing PECVD_SiO_2-SiN_X叠层钝化膜的研究_韩培育_llm_correct.md: 100%|██████████| 5/5 [00:00<00:00, 4996.79it/s]\n",
      "Processing 有机电致发光器件中几种常用组分的荧光光谱研究_彭兆快_llm_correct.md: 100%|██████████| 4/4 [00:00<00:00, 2265.05it/s]\n",
      "Processing 基于CPLD的彩色模拟TFT-LCD驱动板设计_唐枋_llm_correct.md: 100%|██████████| 4/4 [00:00<00:00, 2003.25it/s]\n",
      "Processing Soft Imprint ...uring in OLED_llm_correct.md: 100%|██████████| 1/1 [00:00<00:00, 1867.46it/s]\n",
      "Processing 三星_SyncMaster770_TFT液晶显示器_高国栋_llm_correct.md: 100%|██████████| 1/1 [00:00<?, ?it/s]\n",
      "Processing TFT-LCD玻璃基板的本构参数研究及其切割过程分析_赵靖超_llm_correct.md: 100%|██████████| 3/3 [00:00<00:00, 2832.08it/s]\n",
      "Processing 当前世界液晶材料的进展_张文志_llm_correct.md: 100%|██████████| 3/3 [00:00<00:00, 5727.32it/s]\n",
      "Processing 手性剂添加浓度对液晶电光特性的影响_王晓燕_llm_correct.md: 100%|██████████| 1/1 [00:00<00:00, 1865.79it/s]\n",
      "Processing 昆山开建8.5G_TFT-LCD生产线_llm_correct.md: 100%|██████████| 1/1 [00:00<00:00, 999.60it/s]\n",
      "Processing 一个带按键功能的LCD驱动电路设计_汪艳彬_llm_correct.md: 100%|██████████| 3/3 [00:00<00:00, 3000.93it/s]\n",
      "Processing TFT-LCD_HADS显...Mura机理研究及设计优化_郑箫逸_llm_correct.md: 100%|██████████| 4/4 [00:00<00:00, 7449.92it/s]\n",
      "Processing 有机电致发光器件的效率研究_何修军_llm_correct.md: 100%|██████████| 3/3 [00:00<00:00, 5587.44it/s]\n",
      "Processing 最新TFT源驱动器(10位...上)的测试要求以及解决方法_llm_correct.md: 100%|██████████| 3/3 [00:00<00:00, 1842.84it/s]\n",
      "Processing 有机极化电致发光进展_张迎超_llm_correct.md: 100%|██████████| 6/6 [00:00<00:00, 3162.33it/s]\n",
      "Processing 新型相邻长支链取代的聚酰亚...用于液晶显示元件的性能表现_袁震_llm_correct.md: 100%|██████████| 7/7 [00:00<00:00, 6575.62it/s]\n",
      "Processing 利用LiF空穴阻挡层提高有机发光二极管效率(英文)_连加荣_llm_correct.md: 100%|██████████| 3/3 [00:00<00:00, 2874.12it/s]\n",
      "Processing 底栅微晶硅薄膜晶体管_李娟_llm_correct.md: 100%|██████████| 4/4 [00:00<00:00, 7605.27it/s]\n",
      "Processing 双量子阱结构OLED效率和电流的磁效应_姜文龙_llm_correct.md: 100%|██████████| 4/4 [00:00<00:00, 3212.80it/s]\n",
      "Processing 打造国内第一块全彩色柔性A...有机发光显示技术“制高点”_冯海波_llm_correct.md: 100%|██████████| 1/1 [00:00<?, ?it/s]\n",
      "Processing 有机电致发光器件寿命测试系统的设计_李兴鳌_llm_correct.md: 100%|██████████| 2/2 [00:00<00:00, 3773.55it/s]\n",
      "Processing 像素设计中沟道宽和长的选择_汪梅林_llm_correct.md: 100%|██████████| 2/2 [00:00<00:00, 1905.64it/s]\n",
      "Processing 彩色TFT－LCD发展现状与前景_吴雄_llm_correct.md: 100%|██████████| 1/1 [00:00<?, ?it/s]\n",
      "Processing TFT-LCD边角白点不良的分析和改善_许叶潞_llm_correct.md: 100%|██████████| 3/3 [00:00<00:00, 5662.88it/s]\n",
      "Processing OLED显示屏下摄像技术改进研究_楼均辉_llm_correct.md: 100%|██████████| 5/5 [00:00<00:00, 9523.85it/s]\n",
      "Processing 基于亚阈值技术的AM-OLED驱动电路研究_张慧熙_llm_correct.md: 100%|██████████| 3/3 [00:00<00:00, 5893.64it/s]\n",
      "Processing 内藏液晶显示控制器T6963C与DSP的接口应用_何轩_llm_correct.md: 100%|██████████| 3/3 [00:00<00:00, 3002.37it/s]\n",
      "Processing 显示技术在比拼中前进_金中_llm_correct.md: 100%|██████████| 2/2 [00:00<00:00, 2002.05it/s]\n",
      "Processing 一种新的有源OLED交流驱动电路(英文)_司玉娟_llm_correct.md: 100%|██████████| 6/6 [00:00<00:00, 5966.29it/s]\n",
      "Processing OLED光电性能综合测试系统的设计_张玉杰_llm_correct.md: 100%|██████████| 3/3 [00:00<?, ?it/s]\n",
      "Processing 大面积TFT液晶显示屏的振动应力分析及其抗振加固_吴金华_llm_correct.md: 100%|██████████| 5/5 [00:00<00:00, 3323.54it/s]\n",
      "Processing TFT器件过孔腐蚀机理研究及改善_董康旭_llm_correct.md: 100%|██████████| 4/4 [00:00<00:00, 2153.41it/s]\n",
      "Processing OLED能否大爆发__何莎莎_llm_correct.md: 100%|██████████| 2/2 [00:00<00:00, 3608.00it/s]\n",
      "Processing 基于FPGA的OLED微显示器的IIC控制模块设计_冉峰_llm_correct.md: 100%|██████████| 4/4 [00:00<00:00, 3738.24it/s]\n",
      "Processing ITO像素电极工序对于HADS产品TFT特性的影响_林致远_llm_correct.md: 100%|██████████| 5/5 [00:00<00:00, 9545.53it/s]\n",
      "Processing 有机电致发光材料研究进展_杨定宇_llm_correct.md: 100%|██████████| 3/3 [00:00<00:00, 2828.26it/s]\n",
      "Processing Effects of or... OLED devices_胡俊涛_llm_correct.md: 100%|██████████| 8/8 [00:00<00:00, 6644.44it/s]\n",
      "Processing 利用PbS量子点波长转换膜实现近红外电致发光_陈义鹏_llm_correct.md: 100%|██████████| 4/4 [00:00<00:00, 3955.96it/s]\n",
      "Processing OLED柔性衬底封装材料研究进展_王杏_llm_correct.md: 100%|██████████| 3/3 [00:00<?, ?it/s]\n",
      "Processing OLED电视战__提前打响_郭荣村_llm_correct.md: 100%|██████████| 3/3 [00:00<?, ?it/s]\n",
      "Processing STN型液晶显示用聚酰亚胺表面取向材料的性能_梁晓_llm_correct.md: 100%|██████████| 2/2 [00:00<?, ?it/s]\n",
      "Processing LCD驱动控制时钟电路的设计_沃招军_llm_correct.md: 100%|██████████| 3/3 [00:00<00:00, 2521.63it/s]\n",
      "Processing OLED——希望,神话及电视_Barry Young_llm_correct.md: 100%|██████████| 3/3 [00:00<00:00, 2833.35it/s]\n",
      "Processing 差热法测定OLED材料玻璃化转变温度的不确定度评定_高姚湘_llm_correct.md: 100%|██████████| 3/3 [00:00<00:00, 5709.13it/s]\n",
      "Processing UCDOS下点阵字库在嵌入式OLED应用中的移植_周建政_llm_correct.md: 100%|██████████| 3/3 [00:00<?, ?it/s]\n",
      "Processing 基于TPS65105的TFT-LCD电源设计_于春涛_llm_correct.md: 100%|██████████| 2/2 [00:00<00:00, 1988.76it/s]\n",
      "Processing ADS双栅线结构高透像素设计_王小元_llm_correct.md: 100%|██████████| 4/4 [00:00<00:00, 5282.50it/s]\n",
      "Processing TFT-LCD_LED背光延迟扫描技术研究_蔡明雄_llm_correct.md: 100%|██████████| 2/2 [00:00<00:00, 3744.91it/s]\n",
      "Processing 光学信息处理中TFT-LCD像素结构衍射的干扰_陈前荣_llm_correct.md: 100%|██████████| 4/4 [00:00<00:00, 3770.16it/s]\n",
      "Processing OLED产业和技术发展现状_刘义鹤_llm_correct.md: 100%|██████████| 3/3 [00:00<00:00, 5732.53it/s]\n",
      "Processing 喷墨打印技术制备氧化物薄膜晶体管_杨小天_llm_correct.md: 100%|██████████| 6/6 [00:00<00:00, 11465.07it/s]\n",
      "Processing 含氮杂环类有机发光材料研究进展_孔霜霜_llm_correct.md: 100%|██████████| 5/5 [00:00<00:00, 9467.95it/s]\n",
      "Processing OLED——平板电视的新宠儿_马晓阳_llm_correct.md: 100%|██████████| 1/1 [00:00<?, ?it/s]\n",
      "Processing TFT-LCD残像原理与分析-加强篇二_焦峰_llm_correct.md: 100%|██████████| 3/3 [00:00<00:00, 1500.11it/s]\n",
      "Processing 多晶硅薄膜的铝诱导晶化法制备及其晶粒的择优取向特性_于威_llm_correct.md: 100%|██████████| 4/4 [00:00<00:00, 2001.58it/s]\n",
      "Processing 彩色滤光片制备方法概述_徐红梅_llm_correct.md: 100%|██████████| 2/2 [00:00<00:00, 3962.50it/s]\n",
      "Processing LED矩阵显示屏实验系统的设计_漆强_llm_correct.md: 100%|██████████| 2/2 [00:00<00:00, 3799.19it/s]\n",
      "Processing RGBW彩色滤光片技术开发与应用_姜晶晶_llm_correct.md: 100%|██████████| 5/5 [00:00<00:00, 9567.30it/s]\n",
      "Processing 有空穴传输层的双层有机薄膜电致发光器件_刘祖刚_llm_correct.md: 100%|██████████| 3/3 [00:00<00:00, 4728.64it/s]\n",
      "Processing OLED成本控制中的风险及对策_陈起_llm_correct.md: 100%|██████████| 1/1 [00:00<00:00, 1898.73it/s]\n",
      "Processing 基于Windows_CE的OLED驱动程序设计与实现_王星全_llm_correct.md: 100%|██████████| 3/3 [00:00<00:00, 2993.79it/s]\n",
      "Processing 基于人眼视觉特性的硅基OLED微显示器系统_季渊_llm_correct.md: 100%|██████████| 4/4 [00:00<?, ?it/s]\n",
      "Processing 基于喷墨工艺的液晶显示用彩色滤光片_郑少瑜_llm_correct.md: 100%|██████████| 3/3 [00:00<?, ?it/s]\n",
      "Processing TFT漏电流对Flicker影响及测试方法研究_姚之晓_llm_correct.md: 100%|██████████| 4/4 [00:00<?, ?it/s]\n",
      "Processing 有机电致发光器件的结构、发光机理及表面工程_任玲玲_llm_correct.md: 100%|██████████| 4/4 [00:00<00:00, 3554.49it/s]\n",
      "Processing 有机电致发光OLED功能层材料研究_钟建_llm_correct.md: 100%|██████████| 1/1 [00:00<00:00, 1913.46it/s]\n",
      "Processing OLED亮度补偿电路浅析_贺轶_llm_correct.md: 100%|██████████| 2/2 [00:00<00:00, 3559.02it/s]\n",
      "Processing 基于ADSP-21161N...FT-LCD驱动电路的设计_罗菊华_llm_correct.md: 100%|██████████| 2/2 [00:00<00:00, 3825.17it/s]\n",
      "Processing OLED显示技术的新突破_田亚平_llm_correct.md: 100%|██████████| 2/2 [00:00<00:00, 3794.03it/s]\n",
      "Processing 基于S3C2410驱动TFT-LCD液晶显示器的研究_高见芳_llm_correct.md: 100%|██████████| 2/2 [00:00<00:00, 1998.72it/s]\n",
      "Processing 可弯曲特性受瞩目__柔性显示器带动应用革命_辛隆宾_llm_correct.md: 100%|██████████| 7/7 [00:00<00:00, 5443.11it/s]\n",
      "Processing 低温快速热退火晶化制备多晶硅薄膜_王红娟_llm_correct.md: 100%|██████████| 2/2 [00:00<00:00, 3800.91it/s]\n",
      "Processing 7.6cm多色有源矩阵液晶显示器_冯治兴_llm_correct.md: 100%|██████████| 4/4 [00:00<00:00, 3766.78it/s]\n",
      "Processing 柯达被动式OLED专利授权...明年转向主动式OLED技术_llm_correct.md: 100%|██████████| 1/1 [00:00<00:00, 1866.62it/s]\n",
      "Processing 双异质型蓝色OLED器件的研究_季兴桥_llm_correct.md: 100%|██████████| 4/4 [00:00<00:00, 7601.82it/s]\n",
      "Processing 微波退火法制备多晶硅薄膜的电学特性研究_饶瑞_llm_correct.md: 100%|██████████| 3/3 [00:00<00:00, 2593.35it/s]\n",
      "Processing 数字视频和OLED微显示技术_金阳_llm_correct.md: 100%|██████████| 1/1 [00:00<00:00, 1887.63it/s]\n",
      "Processing 中科院院士、华南理工大学曹...报纸一样印出有机发光显示屏_叶青_llm_correct.md: 100%|██████████| 1/1 [00:00<00:00, 1896.16it/s]\n",
      "Processing TFT-LCD制程中ITO残留的产生与控制_毛联波_llm_correct.md: 100%|██████████| 2/2 [00:00<00:00, 1889.33it/s]\n",
      "Processing OLED应用技术的进展_常天海_llm_correct.md: 100%|██████████| 2/2 [00:00<00:00, 1983.59it/s]\n",
      "Processing 日IBM推出16英寸TFT彩色液晶显示器_llm_correct.md: 100%|██████████| 1/1 [00:00<?, ?it/s]\n",
      "Processing OLED器件的有机无机复合薄膜封装专利技术综述_丁萍_llm_correct.md: 100%|██████████| 1/1 [00:00<?, ?it/s]\n",
      "Processing IPS液晶显示技术中国专利分析_吴永丽_llm_correct.md: 100%|██████████| 2/2 [00:00<?, ?it/s]\n",
      "Processing 平板显示技术标准化的进展_王幼林_llm_correct.md: 100%|██████████| 3/3 [00:00<00:00, 2996.64it/s]\n",
      "Processing 合工大研发新型量子点显示材料_新型_llm_correct.md: 100%|██████████| 1/1 [00:00<00:00, 1931.08it/s]\n",
      "Processing ZnS纳米棒阵列的结构和光学特性_冯秋菊_llm_correct.md: 100%|██████████| 3/3 [00:00<00:00, 2495.62it/s]\n",
      "Processing TFT阵列栅延迟特性研究_傅东_llm_correct.md: 100%|██████████| 5/5 [00:00<00:00, 4723.32it/s]\n",
      "Processing 有机酸修饰ITO对OLED器件性能的影响_胡俊涛_llm_correct.md: 100%|██████████| 5/5 [00:00<00:00, 9580.41it/s]\n",
      "Processing 一种小规模LCD驱动电路IP核的设计_李益全_llm_correct.md: 100%|██████████| 2/2 [00:00<?, ?it/s]\n",
      "Processing 全无机胶体量子点显示技术_耿卫东_llm_correct.md: 100%|██████████| 5/5 [00:00<00:00, 9433.88it/s]\n",
      "Processing PHOLED显示技术_Stanley Chen_llm_correct.md: 100%|██████████| 1/1 [00:00<00:00, 1846.08it/s]\n",
      "Processing OLED显示开发的最新进展_李文连_llm_correct.md: 100%|██████████| 1/1 [00:00<?, ?it/s]\n",
      "Processing 大型液晶显示用COF带的细节距线路形成_蔡积庆_llm_correct.md: 100%|██████████| 3/3 [00:00<00:00, 3000.93it/s]\n",
      "Processing VGA__TFT__LCD的驱动电路设计_郑春梅_llm_correct.md: 100%|██████████| 1/1 [00:00<?, ?it/s]\n",
      "Processing 125mm彩色AMOLED的多晶硅TFT基板_孟志国_llm_correct.md: 100%|██████████| 4/4 [00:00<00:00, 3990.77it/s]\n",
      "Processing TFT显示驱动IC设计要求_曾宏博_llm_correct.md: 100%|██████████| 1/1 [00:00<?, ?it/s]\n",
      "Processing 国际化认证背景下光电子学全英教学课程建设探索_郑继红_llm_correct.md: 100%|██████████| 3/3 [00:00<00:00, 3004.52it/s]\n",
      "Processing OLED公司专利许可与诉讼情况浅析_罗佳秀_llm_correct.md: 100%|██████████| 3/3 [00:00<00:00, 1988.45it/s]\n",
      "Processing OLED概念股谁最抢眼__昝立永_llm_correct.md: 100%|██████████| 1/1 [00:00<?, ?it/s]\n",
      "Processing 一种实用的LCD驱动电路及驱动软件_李先立_llm_correct.md: 100%|██████████| 2/2 [00:00<00:00, 2001.58it/s]\n",
      "Processing 一种集成于I_O的段码式LCD驱动IP核设计_陈洁_llm_correct.md: 100%|██████████| 3/3 [00:00<00:00, 3005.23it/s]\n",
      "Processing TFT-LCD驱动芯片内置SRAM的低功耗设计_程艳_llm_correct.md: 100%|██████████| 3/3 [00:00<00:00, 2509.06it/s]\n",
      "Processing 印刷与柔性显示材料与器件技术发展现状与趋势_史冬梅_llm_correct.md: 100%|██████████| 1/1 [00:00<?, ?it/s]\n",
      "Processing 有机发光器件(OLED)界面的研究进展_邹元明_llm_correct.md: 100%|██████████| 2/2 [00:00<00:00, 3837.42it/s]\n",
      "Processing 基于FPGA的液晶显示控制器的研制_覃永新_llm_correct.md: 100%|██████████| 3/3 [00:00<00:00, 1646.33it/s]\n",
      "Processing OLED电视IR遥控优化设计研究_黄油益_llm_correct.md: 100%|██████████| 2/2 [00:00<00:00, 3049.29it/s]\n",
      "Processing 彩电显示技术哪家强__于璇_llm_correct.md: 100%|██████████| 1/1 [00:00<00:00, 948.72it/s]\n",
      "Processing 异军突起的有机发光平板显示_林秀华_llm_correct.md: 100%|██████████| 2/2 [00:00<00:00, 3768.47it/s]\n",
      "Processing TFT-LCD液晶显示技术与应用_李联益_llm_correct.md: 100%|██████████| 2/2 [00:00<00:00, 3470.67it/s]\n",
      "Processing ISA总线实现OLED面板显示_郑方_llm_correct.md: 100%|██████████| 2/2 [00:00<00:00, 1850.56it/s]\n",
      "Processing OLED技术在民用飞机驾驶舱照明中的运用_曾艺_llm_correct.md: 100%|██████████| 3/3 [00:00<?, ?it/s]\n",
      "Processing 基于晶界离散分布的多晶硅薄膜晶体管直流模型_严炳辉_llm_correct.md: 100%|██████████| 6/6 [00:00<00:00, 6000.43it/s]\n",
      "Processing 工业控制用液晶显示模块_llm_correct.md: 100%|██████████| 1/1 [00:00<?, ?it/s]\n",
      "Processing 印刷OLED产业发展现状及挑战分析_金凤_llm_correct.md: 100%|██████████| 1/1 [00:00<?, ?it/s]\n",
      "Processing 平板显示技术的分析和应用趋势_郑利浩_llm_correct.md: 100%|██████████| 2/2 [00:00<?, ?it/s]\n",
      "Processing TFT-LCD端子在线切割工艺及关键技术_李庆亮_llm_correct.md: 100%|██████████| 2/2 [00:00<?, ?it/s]\n",
      "Processing 咔唑衍生物在有机电致发光材料中的研究进展_于涛_llm_correct.md: 100%|██████████| 3/3 [00:00<00:00, 1500.29it/s]\n",
      "Processing OLED电视走到岔路口_王文静_llm_correct.md: 100%|██████████| 1/1 [00:00<00:00, 999.60it/s]\n",
      "Processing OLED智能显示按键设计_章鹏_llm_correct.md: 100%|██████████| 2/2 [00:00<?, ?it/s]\n",
      "Processing 携手努力__共话OLED未...新之路——OLED论坛侧记_许瑞鹏_llm_correct.md: 100%|██████████| 1/1 [00:00<?, ?it/s]\n",
      "Processing 基于SoPC的通用TFT-LCD控制器IP核设计_马宏锋_llm_correct.md: 100%|██████████| 3/3 [00:00<00:00, 1191.56it/s]\n",
      "Processing OLED电视风光不再，未来何去何从_邓雅静_llm_correct.md: 100%|██████████| 1/1 [00:00<00:00, 997.93it/s]\n",
      "Processing LCD和TFT-LCD用玻璃基片_扈海燕_llm_correct.md: 100%|██████████| 1/1 [00:00<?, ?it/s]\n",
      "Processing 有机电致发光器件寿命测试系统_陈志明_llm_correct.md: 100%|██████████| 1/1 [00:00<00:00, 950.66it/s]\n",
      "Processing 彩色滤光片黄光制程常见工艺异常的处理_彭建中_llm_correct.md: 100%|██████████| 1/1 [00:00<00:00, 1001.51it/s]\n",
      "Processing LED电子显示屏系统色彩调节参数的研究_张旸_llm_correct.md: 100%|██████████| 1/1 [00:00<00:00, 1885.93it/s]\n",
      "Processing 柔性有机发光二极管_周月_llm_correct.md: 100%|██████████| 1/1 [00:00<00:00, 931.65it/s]\n",
      "Processing 杜邦开发有机发光二极管显示器制造技术_董松_llm_correct.md: 100%|██████████| 1/1 [00:00<00:00, 1845.27it/s]\n",
      "Processing 有机电致发光产品的研发现状_尹盛_llm_correct.md: 100%|██████████| 2/2 [00:00<?, ?it/s]\n",
      "Processing 方兴未艾的OLED_苏初榜_llm_correct.md: 100%|██████████| 1/1 [00:00<00:00, 998.64it/s]\n",
      "Processing 柔性OLED载板玻璃中铁含...308nm紫外透过率的影响_冯磊_llm_correct.md: 100%|██████████| 3/3 [00:00<00:00, 2995.22it/s]\n",
      "Processing 发力新型显示技术,天马备战中小屏新市场_孔文_llm_correct.md: 100%|██████████| 1/1 [00:00<?, ?it/s]\n",
      "Processing 新显示技术：21世纪的眼睛_高明.md0000_llm_correct.md: 100%|██████████| 1/1 [00:00<00:00, 1000.55it/s]\n",
      "Processing TFT-LCD背光设计策略_颜重光_llm_correct.md: 100%|██████████| 1/1 [00:00<?, ?it/s]\n",
      "Processing OLED——固体照明的明日之星_何豪_llm_correct.md: 100%|██████████| 1/1 [00:00<00:00, 990.16it/s]\n",
      "Processing TFT—LCD生产中HPMJ清洗工艺的研究_林琅_llm_correct.md: 100%|██████████| 1/1 [00:00<?, ?it/s]\n",
      "Processing 印刷型设备产生配向膜Mura研究_王丹_llm_correct.md: 100%|██████████| 3/3 [00:00<00:00, 3000.22it/s]\n",
      "Processing TFT-LCD驱动电路的设计_罗菊华_llm_correct.md: 100%|██████████| 1/1 [00:00<00:00, 1923.99it/s]\n",
      "Processing TFT-LCD线类缺陷的检测及修正方法研究_林宁_llm_correct.md: 100%|██████████| 1/1 [00:00<00:00, 893.55it/s]\n",
      "Processing OLED显示的灰度控制_范雪_llm_correct.md: 100%|██████████| 2/2 [00:00<00:00, 3724.96it/s]\n",
      "Processing 显示技术发展与研究现状_林明祥_llm_correct.md: 100%|██████████| 1/1 [00:00<00:00, 1873.29it/s]\n",
      "Processing 一种窄边框的液晶显示面板设计_张怀平_llm_correct.md: 100%|██████████| 1/1 [00:00<00:00, 1552.30it/s]\n",
      "Processing 友达推出全系列UHD_4K广色域曲面液晶电视屏_llm_correct.md: 100%|██████████| 1/1 [00:00<00:00, 1890.18it/s]\n",
      "Processing OLED显示产业渐行渐热_llm_correct.md: 100%|██████████| 1/1 [00:00<?, ?it/s]\n",
      "Processing 晶门科技保持摩托罗拉的传统发展LCD驱动集成电路_llm_correct.md: 100%|██████████| 1/1 [00:00<?, ?it/s]\n",
      "Processing MPC5606S在TFT彩屏显示中的应用_许峰_llm_correct.md: 100%|██████████| 1/1 [00:00<00:00, 1862.48it/s]"
     ]
    },
    {
     "name": "stdout",
     "output_type": "stream",
     "text": [
      "成功将 outputs_pipeline/article3_topics05.json 转换为 outputs_pipeline/request2_question_05.jsonl\n"
     ]
    },
    {
     "name": "stderr",
     "output_type": "stream",
     "text": [
      "\n"
     ]
    }
   ],
   "source": [
    "from utils.topic_concepts_v2 import convert_topics_to_jsonl\n",
    "topics_path = \"outputs_pipeline/article3_topics05.json\" \n",
    "question_request_path = \"outputs_pipeline/request2_question_05.jsonl\"\n",
    "convert_topics_to_jsonl(topics_path, question_request_path)"
   ]
  },
  {
   "cell_type": "code",
   "execution_count": 3,
   "id": "c7a98462",
   "metadata": {},
   "outputs": [
    {
     "name": "stderr",
     "output_type": "stream",
     "text": [
      "Processing responses:   3%|▎         | 43/1516 [00:02<01:36, 15.32it/s]"
     ]
    },
    {
     "name": "stdout",
     "output_type": "stream",
     "text": [
      "初始 JSON 解析错误: <string>:12 Unexpected \"-\" at column 1\n",
      "尝试修复常见问题...\n",
      "最终 JSON 解析失败: <string>:12 Unexpected \"-\" at column 1\n",
      "Failed to parse questions for request-636\n"
     ]
    },
    {
     "name": "stderr",
     "output_type": "stream",
     "text": [
      "Processing responses:  10%|█         | 158/1516 [00:15<02:19,  9.76it/s]"
     ]
    },
    {
     "name": "stdout",
     "output_type": "stream",
     "text": [
      "初始 JSON 解析错误: <string>:13 Unexpected \"1\" at column 1\n",
      "尝试修复常见问题...\n",
      "最终 JSON 解析失败: <string>:13 Unexpected \"1\" at column 1\n",
      "Failed to parse questions for request-1402\n"
     ]
    },
    {
     "name": "stderr",
     "output_type": "stream",
     "text": [
      "Processing responses:  18%|█▊        | 275/1516 [00:35<03:16,  6.31it/s]"
     ]
    },
    {
     "name": "stdout",
     "output_type": "stream",
     "text": [
      "Error processing response request-904: 'str' object is not a mapping\n"
     ]
    },
    {
     "name": "stderr",
     "output_type": "stream",
     "text": [
      "Processing responses: 100%|██████████| 1516/1516 [12:07<00:00,  2.08it/s]\n"
     ]
    }
   ],
   "source": [
    "from utils.topic_concepts_v2 import process_response_and_save\n",
    "response_path = \"outputs_pipeline/response2_question_05.jsonl\"  # 响应结果文件\n",
    "topics_path = \"outputs_pipeline/article3_topics05.json\"       # 原始topics文件\n",
    "question_path = \"outputs_pipeline/article4_question_with_topic05.json\"    # 输出question文件\n",
    "chunk4_path = \"outputs_pipeline/article2_chunk4_05.json\"             # chunk4路径\n",
    "process_response_and_save(response_path, topics_path, question_path, chunk4_path)"
   ]
  },
  {
   "cell_type": "code",
   "execution_count": 4,
   "id": "bd18deaa",
   "metadata": {},
   "outputs": [
    {
     "name": "stderr",
     "output_type": "stream",
     "text": [
      "处理文章中: 100%|██████████| 383/383 [43:57<00:00,  6.89s/article, article=OLED在汽车领域中]          "
     ]
    },
    {
     "name": "stdout",
     "output_type": "stream",
     "text": [
      "成功处理并保存文件: outputs_pipeline/article4_question_with_topic05.json\n"
     ]
    },
    {
     "name": "stderr",
     "output_type": "stream",
     "text": [
      "\n"
     ]
    }
   ],
   "source": [
    "from utils.topic_concepts_v2 import sort_noisy_chunks_v2\n",
    "question_path = \"outputs_pipeline/article4_question_with_topic05.json\" \n",
    "sort_noisy_chunks_v2(question_path)"
   ]
  },
  {
   "cell_type": "code",
   "execution_count": 5,
   "id": "32f6cd67",
   "metadata": {},
   "outputs": [
    {
     "name": "stdout",
     "output_type": "stream",
     "text": [
      "转换完成，结果已保存到 outputs_pipeline/request3_answer05_1.jsonl\n"
     ]
    }
   ],
   "source": [
    "from utils.answer_generation_v2 import convert_to_jsonl\n",
    "# 输入输出路径\n",
    "questions_path = \"outputs_pipeline/article4_question_with_topic05.json\"   # 替换为实际路径\n",
    "answer_request_path = \"outputs_pipeline/request3_answer05_1.jsonl\"\n",
    "# 执行转换\n",
    "convert_to_jsonl(questions_path, answer_request_path)"
   ]
  },
  {
   "cell_type": "code",
   "execution_count": 6,
   "id": "5f353b8b",
   "metadata": {},
   "outputs": [
    {
     "name": "stderr",
     "output_type": "stream",
     "text": [
      "Processing responses: 100%|██████████| 3026/3026 [24:56<00:00,  2.02it/s]"
     ]
    },
    {
     "name": "stdout",
     "output_type": "stream",
     "text": [
      "处理完成，结果已保存到 outputs_pipeline/article5_answers05_1.json\n"
     ]
    },
    {
     "name": "stderr",
     "output_type": "stream",
     "text": [
      "\n"
     ]
    }
   ],
   "source": [
    "from utils.answer_generation_v2 import process_response_file\n",
    "response_file_path = \"outputs_pipeline/response3_answer05_1.jsonl\"  # 响应结果文件\n",
    "questions_path = \"outputs_pipeline/article4_question_with_topic05.json\"  # 原始问题文件\n",
    "answers_path = \"outputs_pipeline/article5_answers05_1.json\"   # 结果保存路径\n",
    "# 执行处理\n",
    "process_response_file(response_file_path, questions_path, answers_path)"
   ]
  },
  {
   "cell_type": "code",
   "execution_count": 7,
   "id": "33223367",
   "metadata": {},
   "outputs": [
    {
     "name": "stdout",
     "output_type": "stream",
     "text": [
      "done TFT-OLED像素单元电路及驱动系统分析_朱儒晖_llm_correct.md syndata.\n",
      "done 准分子激光线形光束晶化非晶硅薄膜_尹广玥_llm_correct.md syndata.\n",
      "done 梯度无结型金属氧化物薄膜晶体管的制备和性能探究_刘佳_llm_correct.md syndata.\n",
      "done 固体电介质空间电荷的光电子学测量方法研究进展_王健_llm_correct.md syndata.\n",
      "done 数字驱动型OLED的动态假轮廓量化及改善策略_季渊_llm_correct.md syndata.\n",
      "done Poly-SiTFT有源驱...ED单元像素电路的参数设计_王丽杰_llm_correct.md syndata.\n",
      "done 基于视觉的液晶屏_OLED屏缺陷检测方法综述_林思媛_llm_correct.md syndata.\n",
      "done 有机电致发光器件寿命测试系统的设计_李兴鳌_llm_correct.md syndata.\n",
      "done TADF激基复合物主体材料...色荧光有机发光二极管的效率_崔璨_llm_correct.md syndata.\n",
      "done InGaZnO薄膜晶体管背...极驱动电路静电释放失效研究_马群刚_llm_correct.md syndata.\n",
      "done 利用变温瞬态电致发光研究OLED载流子的输运机理_袁超_llm_correct.md syndata.\n",
      "done OLED电视战__提前打响_郭荣村_llm_correct.md syndata.\n",
      "done 有机发光二极管老化机制_牛泉_llm_correct.md syndata.\n",
      "done 发光层位置对白光有机发光二极管的影响（英文）_向东旭_llm_correct.md syndata.\n",
      "done 125mm彩色AMOLED的多晶硅TFT基板_孟志国_llm_correct.md syndata.\n",
      "done 有机电致发光器件中有机薄膜的制备方法_张新稳_llm_correct.md syndata.\n",
      "done 栅极坡度角对TFT器件制程的影响_刘丹_llm_correct.md syndata.\n",
      "done SOI材料在光电子学中的应用_陈媛媛_llm_correct.md syndata.\n",
      "done OLED显示技术综述_冯迪砂_llm_correct.md syndata.\n",
      "done 一种集成于I_O的段码式LCD驱动IP核设计_陈洁_llm_correct.md syndata.\n",
      "done 杜邦开发有机发光二极管显示器制造技术_董松_llm_correct.md syndata.\n",
      "done 新时代,我国OLED产业开启新征程_余雪松_llm_correct.md syndata.\n",
      "done TFT-LCD切割裂片条件优化对后段制程的影响_刘倩_llm_correct.md syndata.\n",
      "done 快速热退火对ITO薄膜及LED芯片性能的影响_闫晓密_llm_correct.md syndata.\n",
      "done 一种基于蓝色荧光与磷光敏化...白光有机电致发光器件的制备_张世明_llm_correct.md syndata.\n",
      "done 平板显示技术的最新进展_田志仁_llm_correct.md syndata.\n",
      "done 柔性衬底上非晶硅薄膜太阳电池的材料研究_张延生_llm_correct.md syndata.\n",
      "done 可弯曲特性受瞩目__柔性显示器带动应用革命_辛隆宾_llm_correct.md syndata.\n",
      "done 一种性能优越的液晶材料及显示技术_闻建勋_llm_correct.md syndata.\n",
      "done 基于LiF_Al_F4-T...有机电致发光器件的特性研究_景姝_llm_correct.md syndata.\n",
      "done 一种用于AMOLED驱动的多模式高效电荷泵_王晓蕾_llm_correct.md syndata.\n",
      "done TFT阵列基板过孔电阻与耐流性能研究_陈运金_llm_correct.md syndata.\n",
      "done OLED成本控制中的风险及对策_陈起_llm_correct.md syndata.\n",
      "done OLEDoS微型显示_吴春亚_llm_correct.md syndata.\n",
      "done VA型液晶屏周边Mura的分析与改善_王建国_llm_correct.md syndata.\n",
      "done 新型显示偏光片光学膜的加工-结构-性能关系_韩雪晴_llm_correct.md syndata.\n",
      "done 基于BP神经网络的线Mura缺陷识别与定位研究_李一能_llm_correct.md syndata.\n",
      "done Micro-LED显示及其驱动技术的研究进展_周律_llm_correct.md syndata.\n",
      "done 有机电致发光显示及其发展_郑亮_llm_correct.md syndata.\n",
      "done 有机发光显示器件技术和产业发展情况_万博泉_llm_correct.md syndata.\n",
      "done PECVD制备富硅氮化硅薄膜的工艺条件及其性质的研究_张龙龙_llm_correct.md syndata.\n",
      "done 从专利角度看薄膜晶体管-液晶显示器控制技术_彭海良_llm_correct.md syndata.\n",
      "done 印刷与柔性显示材料与器件技术发展现状与趋势_史冬梅_llm_correct.md syndata.\n",
      "done 有机半导体异质结电荷产生层...叠层有机发光二极管中的应用_陈永华_llm_correct.md syndata.\n",
      "done 平板显示的发展趋势_乔中莲_llm_correct.md syndata.\n",
      "done TPM在京东方液晶显示制造中的应用研究_范延江_llm_correct.md syndata.\n",
      "done 氢化非晶硅薄膜的性能研究_叶林_llm_correct.md syndata.\n",
      "done 应用TFT-LCD_TCON中的图像处理改进算法研究_冉峰_llm_correct.md syndata.\n",
      "done 新型相邻长支链取代的聚酰亚...用于液晶显示元件的性能表现_袁震_llm_correct.md syndata.\n",
      "done 有机电致发光器件的结构、发光机理及表面工程_任玲玲_llm_correct.md syndata.\n",
      "done 一种小规模LCD驱动电路IP核的设计_李益全_llm_correct.md syndata.\n",
      "done TFT-LCD线类缺陷的检测及修正方法研究_林宁_llm_correct.md syndata.\n",
      "done 光学信息处理中TFT-LCD像素结构衍射的干扰_陈前荣_llm_correct.md syndata.\n",
      "done 树形分子有机电致发光材料研究_卫秀成_llm_correct.md syndata.\n",
      "done TFT-LCD_Mura缺陷机器视觉检测方法研究_卢小鹏_llm_correct.md syndata.\n",
      "done OLEDs中的激子及其高效利用_马东阁_llm_correct.md syndata.\n",
      "done 含氟液晶材料的研究进展_谢段燕_llm_correct.md syndata.\n",
      "done 有机吡啶盐的电致发光_徐春祥_llm_correct.md syndata.\n",
      "done 基于人眼平滑追踪的液晶显示运动模糊研究_夏振平_llm_correct.md syndata.\n",
      "done 关于柔性AMOLED工厂废气的处置概述_马尚学_llm_correct.md syndata.\n",
      "done 应用于OLED的铱类有机电致磷光材料分析_陈倩倩_llm_correct.md syndata.\n",
      "done TFT-LCD制造cell阶段多目标绿色调度问题研究_刘庭宇_llm_correct.md syndata.\n",
      "done 一种实用的LCD驱动电路及驱动软件_李先立_llm_correct.md syndata.\n",
      "done 有机发光材料DPVBi的空穴阻挡特性_姜文龙_llm_correct.md syndata.\n",
      "done 基于FPGA的液晶显示控制器的研制_覃永新_llm_correct.md syndata.\n",
      "done OLED电视IR遥控优化设计研究_黄油益_llm_correct.md syndata.\n",
      "done 微波退火法制备多晶硅薄膜的电学特性研究_饶瑞_llm_correct.md syndata.\n",
      "done 晶门科技保持摩托罗拉的传统发展LCD驱动集成电路_llm_correct.md syndata.\n",
      "done 咔唑及其衍生物在蓝光OLED中的应用_苏玉苗_llm_correct.md syndata.\n",
      "done 基于Windows_CE的OLED驱动程序设计与实现_王星全_llm_correct.md syndata.\n",
      "done 射频磁控溅射低温制备ITO薄膜_王秀娟_llm_correct.md syndata.\n",
      "done TFT-LCD边缘彩点Mura解析和改善_陈帅_llm_correct.md syndata.\n",
      "done 氢气稀释比例对多晶硅薄膜微观结构和沉积特性的影响_宋莎莎_llm_correct.md syndata.\n",
      "done LED矩阵显示屏实验系统的设计_漆强_llm_correct.md syndata.\n",
      "done 大尺寸TFT_LCD面板短路环切割质量提升研究_罗超龙_llm_correct.md syndata.\n",
      "done 插入层TmP_yPb对白色...电致发光二极管色纯度的影响_王振_llm_correct.md syndata.\n",
      "done TFT-LCD行业液晶玻璃切割Dummy管控与改善_伍飞高_llm_correct.md syndata.\n",
      "done TFT液晶显示的无缺陷技术_赵伟_llm_correct.md syndata.\n",
      "done 微缩化LED显示技术的发展及应用_宋德宇_llm_correct.md syndata.\n",
      "done 异质结堆叠发光层红色磷光有机发光二极管_郭方志_llm_correct.md syndata.\n",
      "done TFT阵列金属电极的制备与性能_王大海_llm_correct.md syndata.\n",
      "done 数码摄影师的色彩管理讲座(...色彩模式、色彩空间和色域”_吴启海_llm_correct.md syndata.\n",
      "done 含氮杂环类有机发光材料研究进展_孔霜霜_llm_correct.md syndata.\n",
      "done 基于SPCE061A的AC...64J液晶显示模块应用设计_杨存祥_llm_correct.md syndata.\n",
      "done SiN_x介质层非晶IGZ...薄膜晶体管的光照稳定性研究_崔璨_llm_correct.md syndata.\n",
      "done TFT阵列栅延迟特性研究_傅东_llm_correct.md syndata.\n",
      "done 喷墨打印技术制备氧化物薄膜晶体管_杨小天_llm_correct.md syndata.\n",
      "done TFT器件过孔腐蚀机理研究及改善_董康旭_llm_correct.md syndata.\n",
      "done 有机电致发光薄膜显示器像素阵列的制作_陈敏_llm_correct.md syndata.\n",
      "done 含微米银颗粒OLED封装胶中的湿气扩散研究_谈隆旺_llm_correct.md syndata.\n",
      "done 柔性OLED模组的落笔冲击仿真与模组优化分析_邹岚韬_llm_correct.md syndata.\n",
      "done 柔性显示用改性纸质基板的表面性能及机械性能研究_易文慧_llm_correct.md syndata.\n",
      "done 大气环境下多晶硅薄膜的疲劳性能_吴昊_llm_correct.md syndata.\n",
      "done OLED显示屏驱动控制芯片技术分析及其应用_廖晶晶_llm_correct.md syndata.\n",
      "done MoO_3为缓冲层的高效非掺杂蓝色有机发光二极管_倪蔚德_llm_correct.md syndata.\n",
      "done 新型金属氧化物半导体场效应...测器在放疗剂量监控中的应用_祁振宇_llm_correct.md syndata.\n",
      "done 平板显示器件通用驱动电路IP核的设计_李益全_llm_correct.md syndata.\n",
      "done 加固液晶显示器的抗振动设计_张洁_llm_correct.md syndata.\n",
      "done 基于杂质离子含量评价的LTPS-LCD面板测量体系_邓文广_llm_correct.md syndata.\n",
      "done 日本微电子和光电子工业中激光组装技术的应用及展望_王立斌_llm_correct.md syndata.\n",
      "done AMOLED子像素渲染算法研究_徐京_llm_correct.md syndata.\n",
      "done InGaZnO薄膜晶体管泄漏电流模型_邓小庆_llm_correct.md syndata.\n",
      "done 双层有机发光二极管中复合效率和复合区域宽度的研究_李宏建_llm_correct.md syndata.\n",
      "done 内藏液晶显示控制器T6963C与DSP的接口应用_何轩_llm_correct.md syndata.\n",
      "done 同步对称双栅InGaZnO薄膜晶体管电势模型研究_覃婷_llm_correct.md syndata.\n",
      "done ITO像素电极工序对于HADS产品TFT特性的影响_林致远_llm_correct.md syndata.\n",
      "done OLED复合柔性封装层技术及其专利现状_何月娣_llm_correct.md syndata.\n",
      "done 有机电致发光器件的效率研究_何修军_llm_correct.md syndata.\n",
      "done 一种基于In-Zn-O薄膜...动的OLED行集成驱动电路_张立荣_llm_correct.md syndata.\n",
      "done TFT-LCD驱动芯片内置SRAM的低功耗设计_程艳_llm_correct.md syndata.\n",
      "done 全无机胶体量子点显示技术_耿卫东_llm_correct.md syndata.\n",
      "done 有机极化电致发光进展_张迎超_llm_correct.md syndata.\n",
      "done OLED重点公司美国专利分析_罗佳秀_llm_correct.md syndata.\n",
      "done 携手努力__共话OLED未...新之路——OLED论坛侧记_许瑞鹏_llm_correct.md syndata.\n",
      "done TFT-LCD玻璃基板的本构参数研究及其切割过程分析_赵靖超_llm_correct.md syndata.\n",
      "done 射频磁控溅射ITO薄膜中沉积温度对膜特性影响_赵透玲_llm_correct.md syndata.\n",
      "done 基于MAX3100和OLED的GPS定位系统设计_李利功_llm_correct.md syndata.\n",
      "done OLED产业和技术发展现状_刘义鹤_llm_correct.md syndata.\n",
      "done 提高LED背光源质量的研究_刘毅清_llm_correct.md syndata.\n",
      "done LCD驱动控制时钟电路的设计_沃招军_llm_correct.md syndata.\n",
      "done 国际化认证背景下光电子学全英教学课程建设探索_郑继红_llm_correct.md syndata.\n",
      "done 有机电致发光的研究进展及展望_李全友_llm_correct.md syndata.\n",
      "done OLED公司专利许可与诉讼情况浅析_罗佳秀_llm_correct.md syndata.\n",
      "done RGBW彩色滤光片技术开发与应用_姜晶晶_llm_correct.md syndata.\n",
      "done 功能层界面制备方法对OLED性能的影响_牟强_llm_correct.md syndata.\n",
      "done 异军突起的有机发光平板显示_林秀华_llm_correct.md syndata.\n",
      "done 一个非晶InGaZnO薄膜...体管线性区陷阱态的提取方法_徐飘荣_llm_correct.md syndata.\n",
      "done 从2004年全球五大显示会...世界显示器件技术的高速发展_段诚_llm_correct.md syndata.\n",
      "done 有机电致发光产品的研发现状_尹盛_llm_correct.md syndata.\n",
      "done 中国LED及其显示屏产业市场发展动向_陈苗海_llm_correct.md syndata.\n",
      "done TFT_LCD——未来主流显示技术_黄锡珉_llm_correct.md syndata.\n",
      "done 手持设备中的无源OLED显示供电方案_llm_correct.md syndata.\n",
      "done 多维邻近性对创新网络组织间...—基于OLED产业专利数据_阮平南_llm_correct.md syndata.\n",
      "done yeshiTFT-LCD玻璃基板清洗剂的应用研究_王剑_llm_correct.md syndata.\n",
      "done OLED显示产业渐行渐热_llm_correct.md syndata.\n",
      "done LCD驱动电路的设计与实现_李晓飞_llm_correct.md syndata.\n",
      "done Effects of or... OLED devices_胡俊涛_llm_correct.md syndata.\n",
      "done OCB模式液晶显示器件的膜补偿模拟优化_单艾娴_llm_correct.md syndata.\n",
      "done 局域和长程杂化密度泛函研究推拉结构有机发光分子_刘小君_llm_correct.md syndata.\n",
      "done 柔性显示器件用聚酰亚胺基板的研究与应用进展_刘金刚_llm_correct.md syndata.\n",
      "done 中国台湾与韩国TFT-LC...业比较及其对中国大陆的启示_董彦良_llm_correct.md syndata.\n",
      "done 新型不对称酞菁的电致发光性质研究_夏道成_llm_correct.md syndata.\n",
      "done a-Si_H_TFT电流-电压特性研究_万新恒_llm_correct.md syndata.\n",
      "done RF磁控溅射制备N掺杂Cu_2O薄膜及光学特性研究_自兴发_llm_correct.md syndata.\n",
      "done a-SiTFT有源矩阵的单故障交流导纳分析_宋跃_llm_correct.md syndata.\n",
      "done 双面显示技术的进展(续)_陈禹翔.md0000_llm_correct.md syndata.\n",
      "done 基于多项式曲面拟合的TFT...LCD斑痕缺陷自动检测技术_张昱_llm_correct.md syndata.\n",
      "done TFT-LCD一种条纹Mura的研究与改善_张正林_llm_correct.md syndata.\n",
      "done OLED技术在民用飞机驾驶舱照明中的运用_曾艺_llm_correct.md syndata.\n",
      "done 新型均三嗪咔唑类蓝光电致发光材料的合成与性能探究_李海艳_llm_correct.md syndata.\n",
      "done OLED柔性衬底封装材料研究进展_王杏_llm_correct.md syndata.\n",
      "done 基于AM-OLED立体显示接口电路的设计_卓斌_llm_correct.md syndata.\n",
      "done 基于CPLD的彩色模拟TFT-LCD驱动板设计_唐枋_llm_correct.md syndata.\n",
      "done 以标准TFT模组生产的柔性电子书显示器_Ian French_llm_correct.md syndata.\n",
      "done 小分子有机电致发光器件和材料的研究及应用_密保秀_llm_correct.md syndata.\n",
      "done a-Si∶H_TFT亚阈值区SPICE模型的研究_邵喜斌_llm_correct.md syndata.\n",
      "done Alq_3有机发光二极管中的激子湮灭过程及其磁场效应_张勇_llm_correct.md syndata.\n",
      "done 柔性有机发光二极管的薄膜封装研究进展_周钰卜_llm_correct.md syndata.\n",
      "done 有机电激光显示器件缺陷检测进展_彭骞_llm_correct.md syndata.\n",
      "done Dual-Gate_TFT...D抖动算法FRC研究与实现_齐郾琴_llm_correct.md syndata.\n",
      "done OLED技术在汽车车灯上的应用_罗杰_llm_correct.md syndata.\n",
      "done TFT-LCD模块组装调度问题的改进灰狼优化算法_姚远远_llm_correct.md syndata.\n",
      "done 基于Linux下的OLED显示模块设计_李想_llm_correct.md syndata.\n",
      "done OLED光电性能综合测试系统的设计_张玉杰_llm_correct.md syndata.\n",
      "done 最新TFT源驱动器(10位...上)的测试要求以及解决方法_llm_correct.md syndata.\n",
      "done 多层氧化物复合阴极透明OLED器件_梁田静_llm_correct.md syndata.\n",
      "done TFT的热电特性及其在室温IRFPA中的应用_董良_llm_correct.md syndata.\n",
      "done 喷墨打印在大尺寸OLED显示中的应用_唐兆兵_llm_correct.md syndata.\n",
      "done 三端子有源矩阵液晶显示器_刘洪武_llm_correct.md syndata.\n",
      "done 印刷电子技术在OLED显示器件中的应用_郑华_llm_correct.md syndata.\n",
      "done 半导体激光封接OLED工艺研究_李小婷_llm_correct.md syndata.\n",
      "done OLED-on-silic...pixel circuit_刘艳艳_llm_correct.md syndata.\n",
      "done 数字视频和OLED微显示技术_金阳_llm_correct.md syndata.\n",
      "done 一种基于二-[2',6'-...)的非掺杂蓝色磷光发光器件_骆开均_llm_correct.md syndata.\n",
      "done 昆山开建8.5G_TFT-LCD生产线_llm_correct.md syndata.\n",
      "done 基于非对称椭圆中心凹JND模型的硅基微显示器_朱毅翀_llm_correct.md syndata.\n",
      "done TFT-LCD制程中ITO残留的产生与控制_毛联波_llm_correct.md syndata.\n",
      "done 基于B_3PyMPM∶Cs高效叠层OLED器件的制备_林雯嫣_llm_correct.md syndata.\n",
      "done LED和OLED的发展_陶然_llm_correct.md syndata.\n",
      "done 7.6cm多色有源矩阵液晶显示器_冯治兴_llm_correct.md syndata.\n",
      "done 微腔对有机发光的影响的研究_初国强_llm_correct.md syndata.\n",
      "done 平板显示技术的分析和应用趋势_郑利浩_llm_correct.md syndata.\n",
      "done 一体化触控技术用ITO薄膜的一次成膜工艺研究_徐日宏_llm_correct.md syndata.\n",
      "done 彩电业：平板电视时代的新技...平板电视技术趋势回顾与展望_张兵_llm_correct.md syndata.\n",
      "done 10大新显示技术_llm_correct.md syndata.\n",
      "done TFT-LCD液晶显示技术与应用_李联益_llm_correct.md syndata.\n",
      "done 显示技术及8K超高清视频呈现_许春蕾_llm_correct.md syndata.\n",
      "done 有机酸修饰ITO对OLED器件性能的影响_胡俊涛_llm_correct.md syndata.\n",
      "done 利用PbS量子点波长转换膜实现近红外电致发光_陈义鹏_llm_correct.md syndata.\n",
      "done 有源矩阵液晶显示器述评_张凤翙_llm_correct.md syndata.\n",
      "done 平板显示技术标准化的进展_王幼林_llm_correct.md syndata.\n",
      "done 利用STM和CV方法测定有机发光材料的能带参数_付慧英_llm_correct.md syndata.\n",
      "done LCD驱动器的新特性_钱金维_llm_correct.md syndata.\n",
      "done 数字整合式家用电器及新型全彩色显示技术_陈汝全_llm_correct.md syndata.\n",
      "done TFT-LCD_LED背光延迟扫描技术研究_蔡明雄_llm_correct.md syndata.\n",
      "done TFT-LCD用玻璃基板的性能及检测_刘海燕_llm_correct.md syndata.\n",
      "done CPJ-1300偏光片除泡机的研制开发_刘军涛_llm_correct.md syndata.\n",
      "done TFT-LCD液晶电视的分辨率与HDTV方型像素_王富奎_llm_correct.md syndata.\n",
      "done 不同有源层厚度的多晶硅薄膜晶体管特性研究_李阳_llm_correct.md syndata.\n",
      "done ’97平板显示综述_朱昌昌_llm_correct.md syndata.\n",
      "done 像素设计中沟道宽和长的选择_汪梅林_llm_correct.md syndata.\n",
      "done 有机电致发光显示彩色化技术及其发展_刘南柳_llm_correct.md syndata.\n",
      "done PECVD_a-Si_H薄...性能的影响及其淀积工艺研究_丁晖_llm_correct.md syndata.\n",
      "done 基于一维周期性金属-介质薄...收体的制备及其光学特性研究_李辉_llm_correct.md syndata.\n",
      "done TFT-LCD制程中San...a的失效模式分析及改善研究_史高飞_llm_correct.md syndata.\n",
      "done 大尺寸TFT_LCD产品发展趋势_张兵_llm_correct.md syndata.\n",
      "done TFT-LCD_HADS显...Mura机理研究及设计优化_郑箫逸_llm_correct.md syndata.\n",
      "done PHOLED显示技术_Stanley Chen_llm_correct.md syndata.\n",
      "done “战略性先进电子材料”重点...印刷TFT材料与器件的研究_张小涛_llm_correct.md syndata.\n",
      "done 多晶硅薄膜的铝诱导晶化法制备及其晶粒的择优取向特性_于威_llm_correct.md syndata.\n",
      "done 微腔结构对红光磷光OLED的性能的影响研究_张麦丽_llm_correct.md syndata.\n",
      "done 彩色滤光片黄光制程常见工艺异常的处理_彭建中_llm_correct.md syndata.\n",
      "done 图像显示技术及其最新发展趋势_雷玉堂_llm_correct.md syndata.\n",
      "done 当前世界液晶材料的进展_张文志_llm_correct.md syndata.\n",
      "done 广东AMOLED有机材料专利现状及发展趋势研究_陈宇萍_llm_correct.md syndata.\n",
      "done TFT-LCD残像原理与分析-加强篇二_焦峰_llm_correct.md syndata.\n",
      "done OLED——平板电视的新宠儿_马晓阳_llm_correct.md syndata.\n",
      "done PECVD_SiO_2-SiN_X叠层钝化膜的研究_韩培育_llm_correct.md syndata.\n",
      "done 柔性OLED载板玻璃中铁含...308nm紫外透过率的影响_冯磊_llm_correct.md syndata.\n",
      "done 一种可旋涂的磷光铱(Ⅲ)配...及其在OLED器件中的性能_武钰铃_llm_correct.md syndata.\n",
      "done OLED显示器件在车载应用上的机遇和挑战_庄筱磊_llm_correct.md syndata.\n",
      "done 关于DOE方法在TFT-L...ura设备检出率提升的应用_蔡婷_llm_correct.md syndata.\n",
      "done 有机添加剂在钙钛矿电致发光器件中的应用_刘鑫妍_llm_correct.md syndata.\n",
      "done 新显示技术：21世纪的眼睛_高明.md0000_llm_correct.md syndata.\n",
      "done 手性剂添加浓度对液晶电光特性的影响_王晓燕_llm_correct.md syndata.\n",
      "done 在FPGA下实现灵活的OLED灰度控制_付新虎_llm_correct.md syndata.\n",
      "done 一个带按键功能的LCD驱动电路设计_汪艳彬_llm_correct.md syndata.\n",
      "done TFT-LCD边角白点不良的分析和改善_许叶潞_llm_correct.md syndata.\n",
      "done TFT漏电流对Flicker影响及测试方法研究_姚之晓_llm_correct.md syndata.\n",
      "done ZnO基薄膜晶体管的研究_程松华_llm_correct.md syndata.\n",
      "done UCDOS下点阵字库在嵌入式OLED应用中的移植_周建政_llm_correct.md syndata.\n",
      "done 低电压有机薄膜晶体管驱动顶...发光二极管的集成像素的研制_胡胜坤_llm_correct.md syndata.\n",
      "done 印刷OLED产业发展现状及挑战分析_金凤_llm_correct.md syndata.\n",
      "done 基于钙钛矿量子点的电致发光二极管研究进展_赵晨静_llm_correct.md syndata.\n",
      "done 大面积TFT液晶显示屏的振动应力分析及其抗振加固_吴金华_llm_correct.md syndata.\n",
      "done OLED——希望,神话及电视_Barry Young_llm_correct.md syndata.\n",
      "done 小分子蓝光OLED材料与器件研究进展_陈旭中_llm_correct.md syndata.\n",
      "done TFT-LCD显示器显示质量评测_张敏_llm_correct.md syndata.\n",
      "done 倒置QLED器件中氧化锌电子传输层的镁掺杂效应_陈幸福_llm_correct.md syndata.\n",
      "done 三星面板分拆独立66亿嫁妆重攻OLED_郎朗_llm_correct.md syndata.\n",
      "done 柯达被动式OLED专利授权...明年转向主动式OLED技术_llm_correct.md syndata.\n",
      "done 印刷型设备产生配向膜Mura研究_王丹_llm_correct.md syndata.\n",
      "done OLED能否大爆发__何莎莎_llm_correct.md syndata.\n",
      "done 双量子阱结构OLED效率和电流的磁效应_姜文龙_llm_correct.md syndata.\n",
      "done 显示器件测试技术与设备最新进展_吴涛_llm_correct.md syndata.\n",
      "done 对不同制备方法下的ZnO基薄膜晶体管透过率的研究_袁广才_llm_correct.md syndata.\n",
      "done 多晶硅薄膜高温退火特性研究分析_赵杰_llm_correct.md syndata.\n",
      "done 基于激子和电致激基复合物双重发光的白光OLED_檀康明_llm_correct.md syndata.\n",
      "done 差热法测定OLED材料玻璃化转变温度的不确定度评定_高姚湘_llm_correct.md syndata.\n",
      "done 基于人眼视觉特性的硅基OLED微显示器系统_季渊_llm_correct.md syndata.\n",
      "done 不同溅射气体对a-IGZO_TFT特性的影响_张耿_llm_correct.md syndata.\n",
      "done 带支链聚乙炔液晶高分子的合成与光学特性(英文)_薛清_llm_correct.md syndata.\n",
      "done 底栅微晶硅薄膜晶体管_李娟_llm_correct.md syndata.\n",
      "done 广色域液晶电视你买不买_郯道宗_llm_correct.md syndata.\n",
      "done 含硼有机发光二极管材料与器件_杨智文_llm_correct.md syndata.\n",
      "done a-Si_TFT寻址LCD的动态特性_Miyata_llm_correct.md syndata.\n",
      "done OTFT开关比对有源层厚度...质浓度间制约关系的影响研究_陈金伙_llm_correct.md syndata.\n",
      "done 比OLED技高一筹__走近MicroLED显示技术_睿智_llm_correct.md syndata.\n",
      "done Digital drive...OLED displays_llm_correct.md syndata.\n",
      "done 基于SoPC的通用TFT-LCD控制器IP核设计_马宏锋_llm_correct.md syndata.\n",
      "done 彩色滤光片制备方法概述_徐红梅_llm_correct.md syndata.\n",
      "done 基于亚阈值技术的AM-OLED驱动电路研究_张慧熙_llm_correct.md syndata.\n",
      "done OLED的最新消息_海信_llm_correct.md syndata.\n",
      "done A new AC driv...ission AMOLED_张勇文_llm_correct.md syndata.\n",
      "done AM_OLED_OLED的“明日之星”_王力_llm_correct.md syndata.\n",
      "done 基于FPGA的OLED微显示器的IIC控制模块设计_冉峰_llm_correct.md syndata.\n",
      "done 叠层方式形成彩色滤光片隔垫物的研究_舒适_llm_correct.md syndata.\n",
      "done AD9883在平板显示视频接口中的应用_胡建民_llm_correct.md syndata.\n",
      "done IGZO-based ne...piking logics_Ying ZHU_llm_correct.md syndata.\n",
      "done TFT-LCD返工IC端子腐蚀行为研究_高洪波_llm_correct.md syndata.\n",
      "done 基于喷墨工艺的液晶显示用彩色滤光片_郑少瑜_llm_correct.md syndata.\n",
      "done OLED电视走到岔路口_王文静_llm_correct.md syndata.\n",
      "done 工业控制用液晶显示模块_llm_correct.md syndata.\n",
      "done 9款38cm(15英寸)TFT_LCD显示器横向评测_张韬_llm_correct.md syndata.\n",
      "done 发光与发光器件_llm_correct.md syndata.\n",
      "done 不同封装方式的有机发光二极管的传热特性_陈卓_llm_correct.md syndata.\n",
      "done 大功率白光LED伏安特性和正向电压温度特性研究_杨亭_llm_correct.md syndata.\n",
      "done TFT-LCD背光模组光学膜关键件的开发研究_张益民_llm_correct.md syndata.\n",
      "done 一种新的有源OLED交流驱动电路(英文)_司玉娟_llm_correct.md syndata.\n",
      "done 新型三明治结构铝诱导非晶硅薄膜低温晶化增强_贺海晏_llm_correct.md syndata.\n",
      "done 柔性显示实现的关键技术_李天华_llm_correct.md syndata.\n",
      "done TFT_AMLCD像素矩阵电路中栅延迟的模拟研究_李牧菊_llm_correct.md syndata.\n",
      "done TFT-LCD发绿的研究及改善_杨宗顺_llm_correct.md syndata.\n",
      "done 不同发光染料的顶发射有机电致发光器件的研制_陈星明_llm_correct.md syndata.\n",
      "done 有机电致发光OLED功能层材料研究_钟建_llm_correct.md syndata.\n",
      "done 基于“丝瓜络”3D凝胶网络...凝胶的可拉伸光散射显示器件_陈思_llm_correct.md syndata.\n",
      "done 医疗环境中液晶显示器使用和保养_庞晏庆_llm_correct.md syndata.\n",
      "done 大型液晶显示用COF带的细节距线路形成_蔡积庆_llm_correct.md syndata.\n",
      "done TFT-LCD行业激光打码后面板强度改善_伍飞高_llm_correct.md syndata.\n",
      "done 基于新型有机发光材料的白光照明器件的开发_周军红_llm_correct.md syndata.\n",
      "done 平板显示器件用玻璃基板_王玉花_llm_correct.md syndata.\n",
      "done 有机荧光材料DCJTB对白光LED发光特性的影响_毕长栋_llm_correct.md syndata.\n",
      "done OLED应用技术的进展_常天海_llm_correct.md syndata.\n",
      "done 咔唑衍生物在有机电致发光材料中的研究进展_于涛_llm_correct.md syndata.\n",
      "done 有机发光器件(OLED)界面的研究进展_邹元明_llm_correct.md syndata.\n",
      "done 显示技术在比拼中前进_金中_llm_correct.md syndata.\n",
      "done 有机电致发光的全彩色显示_李亚晖_llm_correct.md syndata.\n",
      "done MPC5606S在TFT彩屏显示中的应用_许峰_llm_correct.md syndata.\n",
      "done 关于TFT-LCD中一种偏光片相关不良的研究_刘杰_llm_correct.md syndata.\n",
      "done The Effect of...-InGaZnO TFTs_黄晓明_llm_correct.md syndata.\n",
      "done 柔性显示器件国际标准研制进展_谢静_llm_correct.md syndata.\n",
      "done 一种基于ARM9的彩色TFT-LCD模块设计及实现_马舜峰_llm_correct.md syndata.\n",
      "done 在偏振光实验中加入液晶显示器工作原理的演示_崔拴锦_llm_correct.md syndata.\n",
      "done CNT-FED点阵显示器件的研制及其驱动电路设计_戴丽娟_llm_correct.md syndata.\n",
      "done a-Si_TFT液晶显示模块的评价概述_闫亮_llm_correct.md syndata.\n",
      "done 基于ADSP-21161N...FT-LCD驱动电路的设计_罗菊华_llm_correct.md syndata.\n",
      "done OLED概念股谁最抢眼__昝立永_llm_correct.md syndata.\n",
      "done LED背光源热设计研究_姜凤山_llm_correct.md syndata.\n",
      "done 方兴未艾的OLED_苏初榜_llm_correct.md syndata.\n",
      "done 利用LiF空穴阻挡层提高有机发光二极管效率(英文)_连加荣_llm_correct.md syndata.\n",
      "done 有机电致发光材料研究进展_杨定宇_llm_correct.md syndata.\n",
      "done 双异质型蓝色OLED器件的研究_季兴桥_llm_correct.md syndata.\n",
      "done OLED技术与市场展望_蒋庆全_llm_correct.md syndata.\n",
      "done TFT-LCD端子在线切割工艺及关键技术_李庆亮_llm_correct.md syndata.\n",
      "done 低温快速热退火晶化制备多晶硅薄膜_王红娟_llm_correct.md syndata.\n",
      "done IPS液晶显示技术中国专利分析_吴永丽_llm_correct.md syndata.\n",
      "done TFT-LCD驱动电路的设计_罗菊华_llm_correct.md syndata.\n",
      "done OLED显示的灰度控制_范雪_llm_correct.md syndata.\n",
      "done PMP_LCD驱动电路设计_马涛_llm_correct.md syndata.\n",
      "done OLED智能显示按键设计_章鹏_llm_correct.md syndata.\n",
      "done 显示技术发展与研究现状_林明祥_llm_correct.md syndata.\n",
      "done 基于FPGA的液晶驱动电路设计_刘晶_llm_correct.md syndata.\n",
      "done OLED亮度补偿电路浅析_贺轶_llm_correct.md syndata.\n",
      "done 基于人因的液晶显示动态图像质量研究_宋玉_llm_correct.md syndata.\n",
      "done 折叠屏高增长利好OLED、UTG_刘吉洪_llm_correct.md syndata.\n",
      "done 有机发光二极管中原子掺杂调控的单重态激子产率_卢秋霞_llm_correct.md syndata.\n",
      "done 一种液晶显示器数字源驱动电路的设计_张媛_llm_correct.md syndata.\n",
      "done OLED专利申请分析_苏治平_llm_correct.md syndata.\n",
      "done 有空穴传输层的双层有机薄膜电致发光器件_刘祖刚_llm_correct.md syndata.\n",
      "done TFT—LCD生产中HPMJ清洗工艺的研究_林琅_llm_correct.md syndata.\n",
      "done 固态发光器件前景光明_李卓_llm_correct.md syndata.\n",
      "done 基于TPS65105的TFT-LCD电源设计_于春涛_llm_correct.md syndata.\n",
      "done 利用激子敏化层研究蓝色有机发光器件的激子扩散问题_王福军_llm_correct.md syndata.\n",
      "done 基于LM3S1138的OLED寿命检测仪_党宏社_llm_correct.md syndata.\n",
      "done OLED显示技术的新突破_田亚平_llm_correct.md syndata.\n",
      "done ZnS纳米棒阵列的结构和光学特性_冯秋菊_llm_correct.md syndata.\n",
      "done LCD和TFT-LCD用玻璃基片_扈海燕_llm_correct.md syndata.\n",
      "done ADS双栅线结构高透像素设计_王小元_llm_correct.md syndata.\n",
      "done STN型液晶显示用聚酰亚胺表面取向材料的性能_梁晓_llm_correct.md syndata.\n",
      "done 基于晶界离散分布的多晶硅薄膜晶体管直流模型_严炳辉_llm_correct.md syndata.\n",
      "done OLED显示屏下摄像技术改进研究_楼均辉_llm_correct.md syndata.\n",
      "done 对液晶电视动态画面响应的测试研究_徐涛_llm_correct.md syndata.\n",
      "done OLED封装用高性能阻隔胶粘带的研制_陈维斌_llm_correct.md syndata.\n",
      "done 利用磷光敏化改善聚合物白光OLED性能_林文晶_llm_correct.md syndata.\n",
      "done 信息传递的重要方式——液晶显示_关荣华_llm_correct.md syndata.\n",
      "done 有机电致发光器件中几种常用组分的荧光光谱研究_彭兆快_llm_correct.md syndata.\n",
      "done 友达推出全系列UHD_4K广色域曲面液晶电视屏_llm_correct.md syndata.\n",
      "done TFT液晶显示配套用化学材料的研究进展_叶孝兆_llm_correct.md syndata.\n",
      "done 中科院院士、华南理工大学曹...报纸一样印出有机发光显示屏_叶青_llm_correct.md syndata.\n",
      "done VGA__TFT__LCD的驱动电路设计_郑春梅_llm_correct.md syndata.\n",
      "done 新型高分辨率三维显示器件与系统的基础研究年度报告_夏军_llm_correct.md syndata.\n",
      "done ISA总线实现OLED面板显示_郑方_llm_correct.md syndata.\n",
      "done TFT-LCD中升华物组分对柱状隔垫物性能的影响_肖宇_llm_correct.md syndata.\n",
      "done 有机电致发光器件寿命测试系统_陈志明_llm_correct.md syndata.\n",
      "done 发力新型显示技术,天马备战中小屏新市场_孔文_llm_correct.md syndata.\n",
      "done TPBTSi配合物的绿色有机发光器件研究_于军胜_llm_correct.md syndata.\n",
      "done 柔性有机发光二极管_周月_llm_correct.md syndata.\n",
      "done 三星_SyncMaster770_TFT液晶显示器_高国栋_llm_correct.md syndata.\n",
      "done OLED——固体照明的明日之星_何豪_llm_correct.md syndata.\n",
      "done 关于VGA有源OLED屏上栅源驱动电路的设计_杨佳_llm_correct.md syndata.\n",
      "done 显像争霸——OLED与LCD显示屏性能对比_汪国华_llm_correct.md syndata.\n",
      "done TFT显示驱动IC设计要求_曾宏博_llm_correct.md syndata.\n",
      "done 基于S3C2410驱动TFT-LCD液晶显示器的研究_高见芳_llm_correct.md syndata.\n",
      "done 一种窄边框的液晶显示面板设计_张怀平_llm_correct.md syndata.\n",
      "done OLED电视风光不再，未来何去何从_邓雅静_llm_correct.md syndata.\n",
      "done LED电子显示屏系统色彩调节参数的研究_张旸_llm_correct.md syndata.\n",
      "done 打造国内第一块全彩色柔性A...有机发光显示技术“制高点”_冯海波_llm_correct.md syndata.\n",
      "done OLED器件的有机无机复合薄膜封装专利技术综述_丁萍_llm_correct.md syndata.\n",
      "done 基于TRIZ的液晶显示技术进化过程研究_仝战营_llm_correct.md syndata.\n",
      "done OLED显示开发的最新进展_李文连_llm_correct.md syndata.\n",
      "done 日IBM推出16英寸TFT彩色液晶显示器_llm_correct.md syndata.\n",
      "done OLED电视产业发展趋势及前景解读_夏治文_llm_correct.md syndata.\n",
      "done 最有希望成为下一代平板显示器的QLED_陈杨_llm_correct.md syndata.\n",
      "done TFT-LCD背光设计策略_颜重光_llm_correct.md syndata.\n",
      "done 周边配向膜Mura改善研究_徐长健_llm_correct.md syndata.\n",
      "done 三星2K分辨率100%sRGB色域覆盖机型即将上市_llm_correct.md syndata.\n",
      "done 平板彩电液晶显示器的工作原理(下)_刘永利_llm_correct.md syndata.\n",
      "done 彩色TFT－LCD发展现状与前景_吴雄_llm_correct.md syndata.\n",
      "done 合工大研发新型量子点显示材料_新型_llm_correct.md syndata.\n",
      "done 彩电显示技术哪家强__于璇_llm_correct.md syndata.\n",
      "done OLED在汽车领域中的应用_田沛东_llm_correct.md syndata.\n",
      "done Soft Imprint ...uring in OLED_llm_correct.md syndata.\n",
      "done 应用于OLED驱动芯片的LDO设计_李晴_llm_correct.md syndata.\n"
     ]
    }
   ],
   "source": [
    "from utils.data_synthesis_v2 import syn_data_v3\n",
    "answers_path = \"outputs_pipeline/article5_answers05_1.json\" \n",
    "syndatas_path = \"outputs_pipeline/syndatas05_1.json\" \n",
    "syn_data_v3(answers_path, syndatas_path)"
   ]
  },
  {
   "cell_type": "code",
   "execution_count": 1,
   "id": "9c5860dd",
   "metadata": {},
   "outputs": [
    {
     "name": "stdout",
     "output_type": "stream",
     "text": [
      "resource module not available on Windows\n",
      "device: cuda\n",
      "done TFT-OLED像素单元电路及驱动系统分析_朱儒晖_llm_correct.md syndata.\n",
      "done 准分子激光线形光束晶化非晶硅薄膜_尹广玥_llm_correct.md syndata.\n",
      "done 梯度无结型金属氧化物薄膜晶体管的制备和性能探究_刘佳_llm_correct.md syndata.\n",
      "done 固体电介质空间电荷的光电子学测量方法研究进展_王健_llm_correct.md syndata.\n",
      "done 数字驱动型OLED的动态假轮廓量化及改善策略_季渊_llm_correct.md syndata.\n",
      "done Poly-SiTFT有源驱...ED单元像素电路的参数设计_王丽杰_llm_correct.md syndata.\n",
      "done 基于视觉的液晶屏_OLED屏缺陷检测方法综述_林思媛_llm_correct.md syndata.\n",
      "done 有机电致发光器件寿命测试系统的设计_李兴鳌_llm_correct.md syndata.\n",
      "done TADF激基复合物主体材料...色荧光有机发光二极管的效率_崔璨_llm_correct.md syndata.\n",
      "done InGaZnO薄膜晶体管背...极驱动电路静电释放失效研究_马群刚_llm_correct.md syndata.\n",
      "done 利用变温瞬态电致发光研究OLED载流子的输运机理_袁超_llm_correct.md syndata.\n",
      "done OLED电视战__提前打响_郭荣村_llm_correct.md syndata.\n",
      "done 有机发光二极管老化机制_牛泉_llm_correct.md syndata.\n",
      "done 发光层位置对白光有机发光二极管的影响（英文）_向东旭_llm_correct.md syndata.\n",
      "done 125mm彩色AMOLED的多晶硅TFT基板_孟志国_llm_correct.md syndata.\n",
      "done 有机电致发光器件中有机薄膜的制备方法_张新稳_llm_correct.md syndata.\n",
      "done 栅极坡度角对TFT器件制程的影响_刘丹_llm_correct.md syndata.\n",
      "done SOI材料在光电子学中的应用_陈媛媛_llm_correct.md syndata.\n",
      "done OLED显示技术综述_冯迪砂_llm_correct.md syndata.\n",
      "done 一种集成于I_O的段码式LCD驱动IP核设计_陈洁_llm_correct.md syndata.\n",
      "done 杜邦开发有机发光二极管显示器制造技术_董松_llm_correct.md syndata.\n",
      "done 新时代,我国OLED产业开启新征程_余雪松_llm_correct.md syndata.\n",
      "done TFT-LCD切割裂片条件优化对后段制程的影响_刘倩_llm_correct.md syndata.\n",
      "done 快速热退火对ITO薄膜及LED芯片性能的影响_闫晓密_llm_correct.md syndata.\n",
      "done 一种基于蓝色荧光与磷光敏化...白光有机电致发光器件的制备_张世明_llm_correct.md syndata.\n",
      "done 平板显示技术的最新进展_田志仁_llm_correct.md syndata.\n",
      "done 柔性衬底上非晶硅薄膜太阳电池的材料研究_张延生_llm_correct.md syndata.\n",
      "done 可弯曲特性受瞩目__柔性显示器带动应用革命_辛隆宾_llm_correct.md syndata.\n",
      "done 一种性能优越的液晶材料及显示技术_闻建勋_llm_correct.md syndata.\n",
      "done 基于LiF_Al_F4-T...有机电致发光器件的特性研究_景姝_llm_correct.md syndata.\n",
      "done 一种用于AMOLED驱动的多模式高效电荷泵_王晓蕾_llm_correct.md syndata.\n",
      "done TFT阵列基板过孔电阻与耐流性能研究_陈运金_llm_correct.md syndata.\n",
      "done OLED成本控制中的风险及对策_陈起_llm_correct.md syndata.\n",
      "done OLEDoS微型显示_吴春亚_llm_correct.md syndata.\n",
      "done VA型液晶屏周边Mura的分析与改善_王建国_llm_correct.md syndata.\n",
      "done 新型显示偏光片光学膜的加工-结构-性能关系_韩雪晴_llm_correct.md syndata.\n",
      "done 基于BP神经网络的线Mura缺陷识别与定位研究_李一能_llm_correct.md syndata.\n",
      "done Micro-LED显示及其驱动技术的研究进展_周律_llm_correct.md syndata.\n",
      "done 有机电致发光显示及其发展_郑亮_llm_correct.md syndata.\n",
      "done 有机发光显示器件技术和产业发展情况_万博泉_llm_correct.md syndata.\n",
      "done PECVD制备富硅氮化硅薄膜的工艺条件及其性质的研究_张龙龙_llm_correct.md syndata.\n",
      "done 从专利角度看薄膜晶体管-液晶显示器控制技术_彭海良_llm_correct.md syndata.\n",
      "done 印刷与柔性显示材料与器件技术发展现状与趋势_史冬梅_llm_correct.md syndata.\n",
      "done 有机半导体异质结电荷产生层...叠层有机发光二极管中的应用_陈永华_llm_correct.md syndata.\n",
      "done 平板显示的发展趋势_乔中莲_llm_correct.md syndata.\n",
      "done TPM在京东方液晶显示制造中的应用研究_范延江_llm_correct.md syndata.\n",
      "done 氢化非晶硅薄膜的性能研究_叶林_llm_correct.md syndata.\n",
      "done 应用TFT-LCD_TCON中的图像处理改进算法研究_冉峰_llm_correct.md syndata.\n",
      "done 新型相邻长支链取代的聚酰亚...用于液晶显示元件的性能表现_袁震_llm_correct.md syndata.\n",
      "done 有机电致发光器件的结构、发光机理及表面工程_任玲玲_llm_correct.md syndata.\n",
      "done 一种小规模LCD驱动电路IP核的设计_李益全_llm_correct.md syndata.\n",
      "done TFT-LCD线类缺陷的检测及修正方法研究_林宁_llm_correct.md syndata.\n",
      "done 光学信息处理中TFT-LCD像素结构衍射的干扰_陈前荣_llm_correct.md syndata.\n",
      "done 树形分子有机电致发光材料研究_卫秀成_llm_correct.md syndata.\n",
      "done TFT-LCD_Mura缺陷机器视觉检测方法研究_卢小鹏_llm_correct.md syndata.\n",
      "done OLEDs中的激子及其高效利用_马东阁_llm_correct.md syndata.\n",
      "done 含氟液晶材料的研究进展_谢段燕_llm_correct.md syndata.\n",
      "done 有机吡啶盐的电致发光_徐春祥_llm_correct.md syndata.\n",
      "done 基于人眼平滑追踪的液晶显示运动模糊研究_夏振平_llm_correct.md syndata.\n",
      "done 关于柔性AMOLED工厂废气的处置概述_马尚学_llm_correct.md syndata.\n",
      "done 应用于OLED的铱类有机电致磷光材料分析_陈倩倩_llm_correct.md syndata.\n",
      "done TFT-LCD制造cell阶段多目标绿色调度问题研究_刘庭宇_llm_correct.md syndata.\n",
      "done 一种实用的LCD驱动电路及驱动软件_李先立_llm_correct.md syndata.\n",
      "done 有机发光材料DPVBi的空穴阻挡特性_姜文龙_llm_correct.md syndata.\n",
      "done 基于FPGA的液晶显示控制器的研制_覃永新_llm_correct.md syndata.\n",
      "done OLED电视IR遥控优化设计研究_黄油益_llm_correct.md syndata.\n",
      "done 微波退火法制备多晶硅薄膜的电学特性研究_饶瑞_llm_correct.md syndata.\n",
      "done 晶门科技保持摩托罗拉的传统发展LCD驱动集成电路_llm_correct.md syndata.\n",
      "done 咔唑及其衍生物在蓝光OLED中的应用_苏玉苗_llm_correct.md syndata.\n",
      "done 基于Windows_CE的OLED驱动程序设计与实现_王星全_llm_correct.md syndata.\n",
      "done 射频磁控溅射低温制备ITO薄膜_王秀娟_llm_correct.md syndata.\n",
      "done TFT-LCD边缘彩点Mura解析和改善_陈帅_llm_correct.md syndata.\n",
      "done 氢气稀释比例对多晶硅薄膜微观结构和沉积特性的影响_宋莎莎_llm_correct.md syndata.\n",
      "done LED矩阵显示屏实验系统的设计_漆强_llm_correct.md syndata.\n",
      "done 大尺寸TFT_LCD面板短路环切割质量提升研究_罗超龙_llm_correct.md syndata.\n",
      "done 插入层TmP_yPb对白色...电致发光二极管色纯度的影响_王振_llm_correct.md syndata.\n",
      "done TFT-LCD行业液晶玻璃切割Dummy管控与改善_伍飞高_llm_correct.md syndata.\n",
      "done TFT液晶显示的无缺陷技术_赵伟_llm_correct.md syndata.\n",
      "done 微缩化LED显示技术的发展及应用_宋德宇_llm_correct.md syndata.\n",
      "done 异质结堆叠发光层红色磷光有机发光二极管_郭方志_llm_correct.md syndata.\n",
      "done TFT阵列金属电极的制备与性能_王大海_llm_correct.md syndata.\n",
      "done 数码摄影师的色彩管理讲座(...色彩模式、色彩空间和色域”_吴启海_llm_correct.md syndata.\n",
      "done 含氮杂环类有机发光材料研究进展_孔霜霜_llm_correct.md syndata.\n",
      "done 基于SPCE061A的AC...64J液晶显示模块应用设计_杨存祥_llm_correct.md syndata.\n",
      "done SiN_x介质层非晶IGZ...薄膜晶体管的光照稳定性研究_崔璨_llm_correct.md syndata.\n",
      "done TFT阵列栅延迟特性研究_傅东_llm_correct.md syndata.\n",
      "done 喷墨打印技术制备氧化物薄膜晶体管_杨小天_llm_correct.md syndata.\n",
      "done TFT器件过孔腐蚀机理研究及改善_董康旭_llm_correct.md syndata.\n",
      "done 有机电致发光薄膜显示器像素阵列的制作_陈敏_llm_correct.md syndata.\n",
      "done 含微米银颗粒OLED封装胶中的湿气扩散研究_谈隆旺_llm_correct.md syndata.\n",
      "done 柔性OLED模组的落笔冲击仿真与模组优化分析_邹岚韬_llm_correct.md syndata.\n",
      "done 柔性显示用改性纸质基板的表面性能及机械性能研究_易文慧_llm_correct.md syndata.\n",
      "done 大气环境下多晶硅薄膜的疲劳性能_吴昊_llm_correct.md syndata.\n",
      "done OLED显示屏驱动控制芯片技术分析及其应用_廖晶晶_llm_correct.md syndata.\n",
      "done MoO_3为缓冲层的高效非掺杂蓝色有机发光二极管_倪蔚德_llm_correct.md syndata.\n",
      "done 新型金属氧化物半导体场效应...测器在放疗剂量监控中的应用_祁振宇_llm_correct.md syndata.\n",
      "done 平板显示器件通用驱动电路IP核的设计_李益全_llm_correct.md syndata.\n",
      "done 加固液晶显示器的抗振动设计_张洁_llm_correct.md syndata.\n",
      "done 基于杂质离子含量评价的LTPS-LCD面板测量体系_邓文广_llm_correct.md syndata.\n",
      "done 日本微电子和光电子工业中激光组装技术的应用及展望_王立斌_llm_correct.md syndata.\n",
      "done AMOLED子像素渲染算法研究_徐京_llm_correct.md syndata.\n",
      "done InGaZnO薄膜晶体管泄漏电流模型_邓小庆_llm_correct.md syndata.\n",
      "done 双层有机发光二极管中复合效率和复合区域宽度的研究_李宏建_llm_correct.md syndata.\n",
      "done 内藏液晶显示控制器T6963C与DSP的接口应用_何轩_llm_correct.md syndata.\n",
      "done 同步对称双栅InGaZnO薄膜晶体管电势模型研究_覃婷_llm_correct.md syndata.\n",
      "done ITO像素电极工序对于HADS产品TFT特性的影响_林致远_llm_correct.md syndata.\n",
      "done OLED复合柔性封装层技术及其专利现状_何月娣_llm_correct.md syndata.\n",
      "done 有机电致发光器件的效率研究_何修军_llm_correct.md syndata.\n",
      "done 一种基于In-Zn-O薄膜...动的OLED行集成驱动电路_张立荣_llm_correct.md syndata.\n",
      "done TFT-LCD驱动芯片内置SRAM的低功耗设计_程艳_llm_correct.md syndata.\n",
      "done 全无机胶体量子点显示技术_耿卫东_llm_correct.md syndata.\n",
      "done 有机极化电致发光进展_张迎超_llm_correct.md syndata.\n",
      "done OLED重点公司美国专利分析_罗佳秀_llm_correct.md syndata.\n",
      "done 携手努力__共话OLED未...新之路——OLED论坛侧记_许瑞鹏_llm_correct.md syndata.\n",
      "done TFT-LCD玻璃基板的本构参数研究及其切割过程分析_赵靖超_llm_correct.md syndata.\n",
      "done 射频磁控溅射ITO薄膜中沉积温度对膜特性影响_赵透玲_llm_correct.md syndata.\n",
      "done 基于MAX3100和OLED的GPS定位系统设计_李利功_llm_correct.md syndata.\n",
      "done OLED产业和技术发展现状_刘义鹤_llm_correct.md syndata.\n",
      "done 提高LED背光源质量的研究_刘毅清_llm_correct.md syndata.\n",
      "done LCD驱动控制时钟电路的设计_沃招军_llm_correct.md syndata.\n",
      "done 国际化认证背景下光电子学全英教学课程建设探索_郑继红_llm_correct.md syndata.\n",
      "done 有机电致发光的研究进展及展望_李全友_llm_correct.md syndata.\n",
      "done OLED公司专利许可与诉讼情况浅析_罗佳秀_llm_correct.md syndata.\n",
      "done RGBW彩色滤光片技术开发与应用_姜晶晶_llm_correct.md syndata.\n",
      "done 功能层界面制备方法对OLED性能的影响_牟强_llm_correct.md syndata.\n",
      "done 异军突起的有机发光平板显示_林秀华_llm_correct.md syndata.\n",
      "done 一个非晶InGaZnO薄膜...体管线性区陷阱态的提取方法_徐飘荣_llm_correct.md syndata.\n",
      "done 从2004年全球五大显示会...世界显示器件技术的高速发展_段诚_llm_correct.md syndata.\n",
      "done 有机电致发光产品的研发现状_尹盛_llm_correct.md syndata.\n",
      "done 中国LED及其显示屏产业市场发展动向_陈苗海_llm_correct.md syndata.\n",
      "done TFT_LCD——未来主流显示技术_黄锡珉_llm_correct.md syndata.\n",
      "done 手持设备中的无源OLED显示供电方案_llm_correct.md syndata.\n",
      "done 多维邻近性对创新网络组织间...—基于OLED产业专利数据_阮平南_llm_correct.md syndata.\n",
      "done yeshiTFT-LCD玻璃基板清洗剂的应用研究_王剑_llm_correct.md syndata.\n",
      "done OLED显示产业渐行渐热_llm_correct.md syndata.\n",
      "done LCD驱动电路的设计与实现_李晓飞_llm_correct.md syndata.\n",
      "done Effects of or... OLED devices_胡俊涛_llm_correct.md syndata.\n",
      "done OCB模式液晶显示器件的膜补偿模拟优化_单艾娴_llm_correct.md syndata.\n",
      "done 局域和长程杂化密度泛函研究推拉结构有机发光分子_刘小君_llm_correct.md syndata.\n",
      "done 柔性显示器件用聚酰亚胺基板的研究与应用进展_刘金刚_llm_correct.md syndata.\n",
      "done 中国台湾与韩国TFT-LC...业比较及其对中国大陆的启示_董彦良_llm_correct.md syndata.\n",
      "done 新型不对称酞菁的电致发光性质研究_夏道成_llm_correct.md syndata.\n",
      "done a-Si_H_TFT电流-电压特性研究_万新恒_llm_correct.md syndata.\n",
      "done RF磁控溅射制备N掺杂Cu_2O薄膜及光学特性研究_自兴发_llm_correct.md syndata.\n",
      "done a-SiTFT有源矩阵的单故障交流导纳分析_宋跃_llm_correct.md syndata.\n",
      "done 双面显示技术的进展(续)_陈禹翔.md0000_llm_correct.md syndata.\n",
      "done 基于多项式曲面拟合的TFT...LCD斑痕缺陷自动检测技术_张昱_llm_correct.md syndata.\n",
      "done TFT-LCD一种条纹Mura的研究与改善_张正林_llm_correct.md syndata.\n",
      "done OLED技术在民用飞机驾驶舱照明中的运用_曾艺_llm_correct.md syndata.\n",
      "done 新型均三嗪咔唑类蓝光电致发光材料的合成与性能探究_李海艳_llm_correct.md syndata.\n",
      "done OLED柔性衬底封装材料研究进展_王杏_llm_correct.md syndata.\n",
      "done 基于AM-OLED立体显示接口电路的设计_卓斌_llm_correct.md syndata.\n",
      "done 基于CPLD的彩色模拟TFT-LCD驱动板设计_唐枋_llm_correct.md syndata.\n",
      "done 以标准TFT模组生产的柔性电子书显示器_Ian French_llm_correct.md syndata.\n",
      "done 小分子有机电致发光器件和材料的研究及应用_密保秀_llm_correct.md syndata.\n",
      "done a-Si∶H_TFT亚阈值区SPICE模型的研究_邵喜斌_llm_correct.md syndata.\n",
      "done Alq_3有机发光二极管中的激子湮灭过程及其磁场效应_张勇_llm_correct.md syndata.\n",
      "done 柔性有机发光二极管的薄膜封装研究进展_周钰卜_llm_correct.md syndata.\n",
      "done 有机电激光显示器件缺陷检测进展_彭骞_llm_correct.md syndata.\n",
      "done Dual-Gate_TFT...D抖动算法FRC研究与实现_齐郾琴_llm_correct.md syndata.\n",
      "done OLED技术在汽车车灯上的应用_罗杰_llm_correct.md syndata.\n",
      "done TFT-LCD模块组装调度问题的改进灰狼优化算法_姚远远_llm_correct.md syndata.\n",
      "done 基于Linux下的OLED显示模块设计_李想_llm_correct.md syndata.\n",
      "done OLED光电性能综合测试系统的设计_张玉杰_llm_correct.md syndata.\n",
      "done 最新TFT源驱动器(10位...上)的测试要求以及解决方法_llm_correct.md syndata.\n",
      "done 多层氧化物复合阴极透明OLED器件_梁田静_llm_correct.md syndata.\n",
      "done TFT的热电特性及其在室温IRFPA中的应用_董良_llm_correct.md syndata.\n",
      "done 喷墨打印在大尺寸OLED显示中的应用_唐兆兵_llm_correct.md syndata.\n",
      "done 三端子有源矩阵液晶显示器_刘洪武_llm_correct.md syndata.\n",
      "done 印刷电子技术在OLED显示器件中的应用_郑华_llm_correct.md syndata.\n",
      "done 半导体激光封接OLED工艺研究_李小婷_llm_correct.md syndata.\n",
      "done OLED-on-silic...pixel circuit_刘艳艳_llm_correct.md syndata.\n",
      "done 数字视频和OLED微显示技术_金阳_llm_correct.md syndata.\n",
      "done 一种基于二-[2',6'-...)的非掺杂蓝色磷光发光器件_骆开均_llm_correct.md syndata.\n",
      "done 昆山开建8.5G_TFT-LCD生产线_llm_correct.md syndata.\n",
      "done 基于非对称椭圆中心凹JND模型的硅基微显示器_朱毅翀_llm_correct.md syndata.\n",
      "done TFT-LCD制程中ITO残留的产生与控制_毛联波_llm_correct.md syndata.\n",
      "done 基于B_3PyMPM∶Cs高效叠层OLED器件的制备_林雯嫣_llm_correct.md syndata.\n",
      "done LED和OLED的发展_陶然_llm_correct.md syndata.\n",
      "done 7.6cm多色有源矩阵液晶显示器_冯治兴_llm_correct.md syndata.\n",
      "done 微腔对有机发光的影响的研究_初国强_llm_correct.md syndata.\n",
      "done 平板显示技术的分析和应用趋势_郑利浩_llm_correct.md syndata.\n",
      "done 一体化触控技术用ITO薄膜的一次成膜工艺研究_徐日宏_llm_correct.md syndata.\n",
      "done 彩电业：平板电视时代的新技...平板电视技术趋势回顾与展望_张兵_llm_correct.md syndata.\n",
      "done 10大新显示技术_llm_correct.md syndata.\n",
      "done TFT-LCD液晶显示技术与应用_李联益_llm_correct.md syndata.\n",
      "done 显示技术及8K超高清视频呈现_许春蕾_llm_correct.md syndata.\n",
      "done 有机酸修饰ITO对OLED器件性能的影响_胡俊涛_llm_correct.md syndata.\n",
      "done 利用PbS量子点波长转换膜实现近红外电致发光_陈义鹏_llm_correct.md syndata.\n",
      "done 有源矩阵液晶显示器述评_张凤翙_llm_correct.md syndata.\n",
      "done 平板显示技术标准化的进展_王幼林_llm_correct.md syndata.\n",
      "done 利用STM和CV方法测定有机发光材料的能带参数_付慧英_llm_correct.md syndata.\n",
      "done LCD驱动器的新特性_钱金维_llm_correct.md syndata.\n",
      "done 数字整合式家用电器及新型全彩色显示技术_陈汝全_llm_correct.md syndata.\n",
      "done TFT-LCD_LED背光延迟扫描技术研究_蔡明雄_llm_correct.md syndata.\n",
      "done TFT-LCD用玻璃基板的性能及检测_刘海燕_llm_correct.md syndata.\n",
      "done CPJ-1300偏光片除泡机的研制开发_刘军涛_llm_correct.md syndata.\n",
      "done TFT-LCD液晶电视的分辨率与HDTV方型像素_王富奎_llm_correct.md syndata.\n",
      "done 不同有源层厚度的多晶硅薄膜晶体管特性研究_李阳_llm_correct.md syndata.\n",
      "done ’97平板显示综述_朱昌昌_llm_correct.md syndata.\n",
      "done 像素设计中沟道宽和长的选择_汪梅林_llm_correct.md syndata.\n",
      "done 有机电致发光显示彩色化技术及其发展_刘南柳_llm_correct.md syndata.\n",
      "done PECVD_a-Si_H薄...性能的影响及其淀积工艺研究_丁晖_llm_correct.md syndata.\n",
      "done 基于一维周期性金属-介质薄...收体的制备及其光学特性研究_李辉_llm_correct.md syndata.\n",
      "done TFT-LCD制程中San...a的失效模式分析及改善研究_史高飞_llm_correct.md syndata.\n",
      "done 大尺寸TFT_LCD产品发展趋势_张兵_llm_correct.md syndata.\n",
      "done TFT-LCD_HADS显...Mura机理研究及设计优化_郑箫逸_llm_correct.md syndata.\n",
      "done PHOLED显示技术_Stanley Chen_llm_correct.md syndata.\n",
      "done “战略性先进电子材料”重点...印刷TFT材料与器件的研究_张小涛_llm_correct.md syndata.\n",
      "done 多晶硅薄膜的铝诱导晶化法制备及其晶粒的择优取向特性_于威_llm_correct.md syndata.\n",
      "done 微腔结构对红光磷光OLED的性能的影响研究_张麦丽_llm_correct.md syndata.\n",
      "done 彩色滤光片黄光制程常见工艺异常的处理_彭建中_llm_correct.md syndata.\n",
      "done 图像显示技术及其最新发展趋势_雷玉堂_llm_correct.md syndata.\n",
      "done 当前世界液晶材料的进展_张文志_llm_correct.md syndata.\n",
      "done 广东AMOLED有机材料专利现状及发展趋势研究_陈宇萍_llm_correct.md syndata.\n",
      "done TFT-LCD残像原理与分析-加强篇二_焦峰_llm_correct.md syndata.\n",
      "done OLED——平板电视的新宠儿_马晓阳_llm_correct.md syndata.\n",
      "done PECVD_SiO_2-SiN_X叠层钝化膜的研究_韩培育_llm_correct.md syndata.\n",
      "done 柔性OLED载板玻璃中铁含...308nm紫外透过率的影响_冯磊_llm_correct.md syndata.\n",
      "done 一种可旋涂的磷光铱(Ⅲ)配...及其在OLED器件中的性能_武钰铃_llm_correct.md syndata.\n",
      "done OLED显示器件在车载应用上的机遇和挑战_庄筱磊_llm_correct.md syndata.\n",
      "done 关于DOE方法在TFT-L...ura设备检出率提升的应用_蔡婷_llm_correct.md syndata.\n",
      "done 有机添加剂在钙钛矿电致发光器件中的应用_刘鑫妍_llm_correct.md syndata.\n",
      "done 新显示技术：21世纪的眼睛_高明.md0000_llm_correct.md syndata.\n",
      "done 手性剂添加浓度对液晶电光特性的影响_王晓燕_llm_correct.md syndata.\n",
      "done 在FPGA下实现灵活的OLED灰度控制_付新虎_llm_correct.md syndata.\n",
      "done 一个带按键功能的LCD驱动电路设计_汪艳彬_llm_correct.md syndata.\n",
      "done TFT-LCD边角白点不良的分析和改善_许叶潞_llm_correct.md syndata.\n",
      "done TFT漏电流对Flicker影响及测试方法研究_姚之晓_llm_correct.md syndata.\n",
      "done ZnO基薄膜晶体管的研究_程松华_llm_correct.md syndata.\n",
      "done UCDOS下点阵字库在嵌入式OLED应用中的移植_周建政_llm_correct.md syndata.\n",
      "done 低电压有机薄膜晶体管驱动顶...发光二极管的集成像素的研制_胡胜坤_llm_correct.md syndata.\n",
      "done 印刷OLED产业发展现状及挑战分析_金凤_llm_correct.md syndata.\n",
      "done 基于钙钛矿量子点的电致发光二极管研究进展_赵晨静_llm_correct.md syndata.\n",
      "done 大面积TFT液晶显示屏的振动应力分析及其抗振加固_吴金华_llm_correct.md syndata.\n",
      "done OLED——希望,神话及电视_Barry Young_llm_correct.md syndata.\n",
      "done 小分子蓝光OLED材料与器件研究进展_陈旭中_llm_correct.md syndata.\n",
      "done TFT-LCD显示器显示质量评测_张敏_llm_correct.md syndata.\n",
      "done 倒置QLED器件中氧化锌电子传输层的镁掺杂效应_陈幸福_llm_correct.md syndata.\n",
      "done 三星面板分拆独立66亿嫁妆重攻OLED_郎朗_llm_correct.md syndata.\n",
      "done 柯达被动式OLED专利授权...明年转向主动式OLED技术_llm_correct.md syndata.\n",
      "done 印刷型设备产生配向膜Mura研究_王丹_llm_correct.md syndata.\n",
      "done OLED能否大爆发__何莎莎_llm_correct.md syndata.\n",
      "done 双量子阱结构OLED效率和电流的磁效应_姜文龙_llm_correct.md syndata.\n",
      "done 显示器件测试技术与设备最新进展_吴涛_llm_correct.md syndata.\n",
      "done 对不同制备方法下的ZnO基薄膜晶体管透过率的研究_袁广才_llm_correct.md syndata.\n",
      "done 多晶硅薄膜高温退火特性研究分析_赵杰_llm_correct.md syndata.\n",
      "done 基于激子和电致激基复合物双重发光的白光OLED_檀康明_llm_correct.md syndata.\n",
      "done 差热法测定OLED材料玻璃化转变温度的不确定度评定_高姚湘_llm_correct.md syndata.\n",
      "done 基于人眼视觉特性的硅基OLED微显示器系统_季渊_llm_correct.md syndata.\n",
      "done 不同溅射气体对a-IGZO_TFT特性的影响_张耿_llm_correct.md syndata.\n",
      "done 带支链聚乙炔液晶高分子的合成与光学特性(英文)_薛清_llm_correct.md syndata.\n",
      "done 底栅微晶硅薄膜晶体管_李娟_llm_correct.md syndata.\n",
      "done 广色域液晶电视你买不买_郯道宗_llm_correct.md syndata.\n",
      "done 含硼有机发光二极管材料与器件_杨智文_llm_correct.md syndata.\n",
      "done a-Si_TFT寻址LCD的动态特性_Miyata_llm_correct.md syndata.\n",
      "done OTFT开关比对有源层厚度...质浓度间制约关系的影响研究_陈金伙_llm_correct.md syndata.\n",
      "done 比OLED技高一筹__走近MicroLED显示技术_睿智_llm_correct.md syndata.\n",
      "done Digital drive...OLED displays_llm_correct.md syndata.\n",
      "done 基于SoPC的通用TFT-LCD控制器IP核设计_马宏锋_llm_correct.md syndata.\n",
      "done 彩色滤光片制备方法概述_徐红梅_llm_correct.md syndata.\n",
      "done 基于亚阈值技术的AM-OLED驱动电路研究_张慧熙_llm_correct.md syndata.\n",
      "done OLED的最新消息_海信_llm_correct.md syndata.\n",
      "done A new AC driv...ission AMOLED_张勇文_llm_correct.md syndata.\n",
      "done AM_OLED_OLED的“明日之星”_王力_llm_correct.md syndata.\n",
      "done 基于FPGA的OLED微显示器的IIC控制模块设计_冉峰_llm_correct.md syndata.\n",
      "done 叠层方式形成彩色滤光片隔垫物的研究_舒适_llm_correct.md syndata.\n",
      "done AD9883在平板显示视频接口中的应用_胡建民_llm_correct.md syndata.\n",
      "done IGZO-based ne...piking logics_Ying ZHU_llm_correct.md syndata.\n",
      "done TFT-LCD返工IC端子腐蚀行为研究_高洪波_llm_correct.md syndata.\n",
      "done 基于喷墨工艺的液晶显示用彩色滤光片_郑少瑜_llm_correct.md syndata.\n",
      "done OLED电视走到岔路口_王文静_llm_correct.md syndata.\n",
      "done 工业控制用液晶显示模块_llm_correct.md syndata.\n",
      "done 9款38cm(15英寸)TFT_LCD显示器横向评测_张韬_llm_correct.md syndata.\n",
      "done 发光与发光器件_llm_correct.md syndata.\n",
      "done 不同封装方式的有机发光二极管的传热特性_陈卓_llm_correct.md syndata.\n",
      "done 大功率白光LED伏安特性和正向电压温度特性研究_杨亭_llm_correct.md syndata.\n",
      "done TFT-LCD背光模组光学膜关键件的开发研究_张益民_llm_correct.md syndata.\n",
      "done 一种新的有源OLED交流驱动电路(英文)_司玉娟_llm_correct.md syndata.\n",
      "done 新型三明治结构铝诱导非晶硅薄膜低温晶化增强_贺海晏_llm_correct.md syndata.\n",
      "done 柔性显示实现的关键技术_李天华_llm_correct.md syndata.\n",
      "done TFT_AMLCD像素矩阵电路中栅延迟的模拟研究_李牧菊_llm_correct.md syndata.\n",
      "done TFT-LCD发绿的研究及改善_杨宗顺_llm_correct.md syndata.\n",
      "done 不同发光染料的顶发射有机电致发光器件的研制_陈星明_llm_correct.md syndata.\n",
      "done 有机电致发光OLED功能层材料研究_钟建_llm_correct.md syndata.\n",
      "done 基于“丝瓜络”3D凝胶网络...凝胶的可拉伸光散射显示器件_陈思_llm_correct.md syndata.\n",
      "done 医疗环境中液晶显示器使用和保养_庞晏庆_llm_correct.md syndata.\n",
      "done 大型液晶显示用COF带的细节距线路形成_蔡积庆_llm_correct.md syndata.\n",
      "done TFT-LCD行业激光打码后面板强度改善_伍飞高_llm_correct.md syndata.\n",
      "done 基于新型有机发光材料的白光照明器件的开发_周军红_llm_correct.md syndata.\n",
      "done 平板显示器件用玻璃基板_王玉花_llm_correct.md syndata.\n",
      "done 有机荧光材料DCJTB对白光LED发光特性的影响_毕长栋_llm_correct.md syndata.\n",
      "done OLED应用技术的进展_常天海_llm_correct.md syndata.\n",
      "done 咔唑衍生物在有机电致发光材料中的研究进展_于涛_llm_correct.md syndata.\n",
      "done 有机发光器件(OLED)界面的研究进展_邹元明_llm_correct.md syndata.\n",
      "done 显示技术在比拼中前进_金中_llm_correct.md syndata.\n",
      "done 有机电致发光的全彩色显示_李亚晖_llm_correct.md syndata.\n",
      "done MPC5606S在TFT彩屏显示中的应用_许峰_llm_correct.md syndata.\n",
      "done 关于TFT-LCD中一种偏光片相关不良的研究_刘杰_llm_correct.md syndata.\n",
      "done The Effect of...-InGaZnO TFTs_黄晓明_llm_correct.md syndata.\n",
      "done 柔性显示器件国际标准研制进展_谢静_llm_correct.md syndata.\n",
      "done 一种基于ARM9的彩色TFT-LCD模块设计及实现_马舜峰_llm_correct.md syndata.\n",
      "done 在偏振光实验中加入液晶显示器工作原理的演示_崔拴锦_llm_correct.md syndata.\n",
      "done CNT-FED点阵显示器件的研制及其驱动电路设计_戴丽娟_llm_correct.md syndata.\n",
      "done a-Si_TFT液晶显示模块的评价概述_闫亮_llm_correct.md syndata.\n",
      "done 基于ADSP-21161N...FT-LCD驱动电路的设计_罗菊华_llm_correct.md syndata.\n",
      "done OLED概念股谁最抢眼__昝立永_llm_correct.md syndata.\n",
      "done LED背光源热设计研究_姜凤山_llm_correct.md syndata.\n",
      "done 方兴未艾的OLED_苏初榜_llm_correct.md syndata.\n",
      "done 利用LiF空穴阻挡层提高有机发光二极管效率(英文)_连加荣_llm_correct.md syndata.\n",
      "done 有机电致发光材料研究进展_杨定宇_llm_correct.md syndata.\n",
      "done 双异质型蓝色OLED器件的研究_季兴桥_llm_correct.md syndata.\n",
      "done OLED技术与市场展望_蒋庆全_llm_correct.md syndata.\n",
      "done TFT-LCD端子在线切割工艺及关键技术_李庆亮_llm_correct.md syndata.\n",
      "done 低温快速热退火晶化制备多晶硅薄膜_王红娟_llm_correct.md syndata.\n",
      "done IPS液晶显示技术中国专利分析_吴永丽_llm_correct.md syndata.\n",
      "done TFT-LCD驱动电路的设计_罗菊华_llm_correct.md syndata.\n",
      "done OLED显示的灰度控制_范雪_llm_correct.md syndata.\n",
      "done PMP_LCD驱动电路设计_马涛_llm_correct.md syndata.\n",
      "done OLED智能显示按键设计_章鹏_llm_correct.md syndata.\n",
      "done 显示技术发展与研究现状_林明祥_llm_correct.md syndata.\n",
      "done 基于FPGA的液晶驱动电路设计_刘晶_llm_correct.md syndata.\n",
      "done OLED亮度补偿电路浅析_贺轶_llm_correct.md syndata.\n",
      "done 基于人因的液晶显示动态图像质量研究_宋玉_llm_correct.md syndata.\n",
      "done 折叠屏高增长利好OLED、UTG_刘吉洪_llm_correct.md syndata.\n",
      "done 有机发光二极管中原子掺杂调控的单重态激子产率_卢秋霞_llm_correct.md syndata.\n",
      "done 一种液晶显示器数字源驱动电路的设计_张媛_llm_correct.md syndata.\n",
      "done OLED专利申请分析_苏治平_llm_correct.md syndata.\n",
      "done 有空穴传输层的双层有机薄膜电致发光器件_刘祖刚_llm_correct.md syndata.\n",
      "done TFT—LCD生产中HPMJ清洗工艺的研究_林琅_llm_correct.md syndata.\n",
      "done 固态发光器件前景光明_李卓_llm_correct.md syndata.\n",
      "done 基于TPS65105的TFT-LCD电源设计_于春涛_llm_correct.md syndata.\n",
      "done 利用激子敏化层研究蓝色有机发光器件的激子扩散问题_王福军_llm_correct.md syndata.\n",
      "done 基于LM3S1138的OLED寿命检测仪_党宏社_llm_correct.md syndata.\n",
      "done OLED显示技术的新突破_田亚平_llm_correct.md syndata.\n",
      "done ZnS纳米棒阵列的结构和光学特性_冯秋菊_llm_correct.md syndata.\n",
      "done LCD和TFT-LCD用玻璃基片_扈海燕_llm_correct.md syndata.\n",
      "done ADS双栅线结构高透像素设计_王小元_llm_correct.md syndata.\n",
      "done STN型液晶显示用聚酰亚胺表面取向材料的性能_梁晓_llm_correct.md syndata.\n",
      "done 基于晶界离散分布的多晶硅薄膜晶体管直流模型_严炳辉_llm_correct.md syndata.\n",
      "done OLED显示屏下摄像技术改进研究_楼均辉_llm_correct.md syndata.\n",
      "done 对液晶电视动态画面响应的测试研究_徐涛_llm_correct.md syndata.\n",
      "done OLED封装用高性能阻隔胶粘带的研制_陈维斌_llm_correct.md syndata.\n",
      "done 利用磷光敏化改善聚合物白光OLED性能_林文晶_llm_correct.md syndata.\n",
      "done 信息传递的重要方式——液晶显示_关荣华_llm_correct.md syndata.\n",
      "done 有机电致发光器件中几种常用组分的荧光光谱研究_彭兆快_llm_correct.md syndata.\n",
      "done 友达推出全系列UHD_4K广色域曲面液晶电视屏_llm_correct.md syndata.\n",
      "done TFT液晶显示配套用化学材料的研究进展_叶孝兆_llm_correct.md syndata.\n",
      "done 中科院院士、华南理工大学曹...报纸一样印出有机发光显示屏_叶青_llm_correct.md syndata.\n",
      "done VGA__TFT__LCD的驱动电路设计_郑春梅_llm_correct.md syndata.\n",
      "done 新型高分辨率三维显示器件与系统的基础研究年度报告_夏军_llm_correct.md syndata.\n",
      "done ISA总线实现OLED面板显示_郑方_llm_correct.md syndata.\n",
      "done TFT-LCD中升华物组分对柱状隔垫物性能的影响_肖宇_llm_correct.md syndata.\n",
      "done 有机电致发光器件寿命测试系统_陈志明_llm_correct.md syndata.\n",
      "done 发力新型显示技术,天马备战中小屏新市场_孔文_llm_correct.md syndata.\n",
      "done TPBTSi配合物的绿色有机发光器件研究_于军胜_llm_correct.md syndata.\n",
      "done 柔性有机发光二极管_周月_llm_correct.md syndata.\n",
      "done 三星_SyncMaster770_TFT液晶显示器_高国栋_llm_correct.md syndata.\n",
      "done OLED——固体照明的明日之星_何豪_llm_correct.md syndata.\n",
      "done 关于VGA有源OLED屏上栅源驱动电路的设计_杨佳_llm_correct.md syndata.\n",
      "done 显像争霸——OLED与LCD显示屏性能对比_汪国华_llm_correct.md syndata.\n",
      "done TFT显示驱动IC设计要求_曾宏博_llm_correct.md syndata.\n",
      "done 基于S3C2410驱动TFT-LCD液晶显示器的研究_高见芳_llm_correct.md syndata.\n",
      "done 一种窄边框的液晶显示面板设计_张怀平_llm_correct.md syndata.\n",
      "done OLED电视风光不再，未来何去何从_邓雅静_llm_correct.md syndata.\n",
      "done LED电子显示屏系统色彩调节参数的研究_张旸_llm_correct.md syndata.\n",
      "done 打造国内第一块全彩色柔性A...有机发光显示技术“制高点”_冯海波_llm_correct.md syndata.\n",
      "done OLED器件的有机无机复合薄膜封装专利技术综述_丁萍_llm_correct.md syndata.\n",
      "done 基于TRIZ的液晶显示技术进化过程研究_仝战营_llm_correct.md syndata.\n",
      "done OLED显示开发的最新进展_李文连_llm_correct.md syndata.\n",
      "done 日IBM推出16英寸TFT彩色液晶显示器_llm_correct.md syndata.\n",
      "done OLED电视产业发展趋势及前景解读_夏治文_llm_correct.md syndata.\n",
      "done 最有希望成为下一代平板显示器的QLED_陈杨_llm_correct.md syndata.\n",
      "done TFT-LCD背光设计策略_颜重光_llm_correct.md syndata.\n",
      "done 周边配向膜Mura改善研究_徐长健_llm_correct.md syndata.\n",
      "done 三星2K分辨率100%sRGB色域覆盖机型即将上市_llm_correct.md syndata.\n",
      "done 平板彩电液晶显示器的工作原理(下)_刘永利_llm_correct.md syndata.\n",
      "done 彩色TFT－LCD发展现状与前景_吴雄_llm_correct.md syndata.\n",
      "done 合工大研发新型量子点显示材料_新型_llm_correct.md syndata.\n",
      "done 彩电显示技术哪家强__于璇_llm_correct.md syndata.\n",
      "done OLED在汽车领域中的应用_田沛东_llm_correct.md syndata.\n",
      "done Soft Imprint ...uring in OLED_llm_correct.md syndata.\n",
      "done 应用于OLED驱动芯片的LDO设计_李晴_llm_correct.md syndata.\n"
     ]
    }
   ],
   "source": [
    "from utils.data_synthesis_v2 import syn_data_v3\n",
    "answers_path = \"outputs_pipeline/article5_answers05_1.json\" \n",
    "syndatas_path = \"outputs_pipeline/syndatas05_2.json\" \n",
    "syn_data_v3(answers_path, syndatas_path)"
   ]
  },
  {
   "cell_type": "code",
   "execution_count": 1,
   "id": "4b5fa3c7",
   "metadata": {},
   "outputs": [
    {
     "name": "stdout",
     "output_type": "stream",
     "text": [
      "resource module not available on Windows\n",
      "device: cuda\n",
      "done TFT-OLED像素单元电路及驱动系统分析_朱儒晖_llm_correct.md syndata.\n",
      "done 准分子激光线形光束晶化非晶硅薄膜_尹广玥_llm_correct.md syndata.\n",
      "done 梯度无结型金属氧化物薄膜晶体管的制备和性能探究_刘佳_llm_correct.md syndata.\n",
      "done 固体电介质空间电荷的光电子学测量方法研究进展_王健_llm_correct.md syndata.\n",
      "done 数字驱动型OLED的动态假轮廓量化及改善策略_季渊_llm_correct.md syndata.\n",
      "done Poly-SiTFT有源驱...ED单元像素电路的参数设计_王丽杰_llm_correct.md syndata.\n",
      "done 基于视觉的液晶屏_OLED屏缺陷检测方法综述_林思媛_llm_correct.md syndata.\n",
      "done 有机电致发光器件寿命测试系统的设计_李兴鳌_llm_correct.md syndata.\n",
      "done TADF激基复合物主体材料...色荧光有机发光二极管的效率_崔璨_llm_correct.md syndata.\n",
      "done InGaZnO薄膜晶体管背...极驱动电路静电释放失效研究_马群刚_llm_correct.md syndata.\n",
      "done 利用变温瞬态电致发光研究OLED载流子的输运机理_袁超_llm_correct.md syndata.\n",
      "done OLED电视战__提前打响_郭荣村_llm_correct.md syndata.\n",
      "done 有机发光二极管老化机制_牛泉_llm_correct.md syndata.\n",
      "done 发光层位置对白光有机发光二极管的影响（英文）_向东旭_llm_correct.md syndata.\n",
      "done 125mm彩色AMOLED的多晶硅TFT基板_孟志国_llm_correct.md syndata.\n",
      "done 有机电致发光器件中有机薄膜的制备方法_张新稳_llm_correct.md syndata.\n",
      "done 栅极坡度角对TFT器件制程的影响_刘丹_llm_correct.md syndata.\n",
      "done SOI材料在光电子学中的应用_陈媛媛_llm_correct.md syndata.\n",
      "done OLED显示技术综述_冯迪砂_llm_correct.md syndata.\n",
      "done 一种集成于I_O的段码式LCD驱动IP核设计_陈洁_llm_correct.md syndata.\n",
      "done 杜邦开发有机发光二极管显示器制造技术_董松_llm_correct.md syndata.\n",
      "done 新时代,我国OLED产业开启新征程_余雪松_llm_correct.md syndata.\n",
      "done TFT-LCD切割裂片条件优化对后段制程的影响_刘倩_llm_correct.md syndata.\n",
      "done 快速热退火对ITO薄膜及LED芯片性能的影响_闫晓密_llm_correct.md syndata.\n",
      "done 一种基于蓝色荧光与磷光敏化...白光有机电致发光器件的制备_张世明_llm_correct.md syndata.\n",
      "done 平板显示技术的最新进展_田志仁_llm_correct.md syndata.\n",
      "done 柔性衬底上非晶硅薄膜太阳电池的材料研究_张延生_llm_correct.md syndata.\n",
      "done 可弯曲特性受瞩目__柔性显示器带动应用革命_辛隆宾_llm_correct.md syndata.\n",
      "done 一种性能优越的液晶材料及显示技术_闻建勋_llm_correct.md syndata.\n",
      "done 基于LiF_Al_F4-T...有机电致发光器件的特性研究_景姝_llm_correct.md syndata.\n",
      "done 一种用于AMOLED驱动的多模式高效电荷泵_王晓蕾_llm_correct.md syndata.\n",
      "done TFT阵列基板过孔电阻与耐流性能研究_陈运金_llm_correct.md syndata.\n",
      "done OLED成本控制中的风险及对策_陈起_llm_correct.md syndata.\n",
      "done OLEDoS微型显示_吴春亚_llm_correct.md syndata.\n",
      "done VA型液晶屏周边Mura的分析与改善_王建国_llm_correct.md syndata.\n",
      "done 新型显示偏光片光学膜的加工-结构-性能关系_韩雪晴_llm_correct.md syndata.\n",
      "done 基于BP神经网络的线Mura缺陷识别与定位研究_李一能_llm_correct.md syndata.\n",
      "done Micro-LED显示及其驱动技术的研究进展_周律_llm_correct.md syndata.\n",
      "done 有机电致发光显示及其发展_郑亮_llm_correct.md syndata.\n",
      "done 有机发光显示器件技术和产业发展情况_万博泉_llm_correct.md syndata.\n",
      "done PECVD制备富硅氮化硅薄膜的工艺条件及其性质的研究_张龙龙_llm_correct.md syndata.\n",
      "done 从专利角度看薄膜晶体管-液晶显示器控制技术_彭海良_llm_correct.md syndata.\n",
      "done 印刷与柔性显示材料与器件技术发展现状与趋势_史冬梅_llm_correct.md syndata.\n",
      "done 有机半导体异质结电荷产生层...叠层有机发光二极管中的应用_陈永华_llm_correct.md syndata.\n",
      "done 平板显示的发展趋势_乔中莲_llm_correct.md syndata.\n",
      "done TPM在京东方液晶显示制造中的应用研究_范延江_llm_correct.md syndata.\n",
      "done 氢化非晶硅薄膜的性能研究_叶林_llm_correct.md syndata.\n",
      "done 应用TFT-LCD_TCON中的图像处理改进算法研究_冉峰_llm_correct.md syndata.\n",
      "done 新型相邻长支链取代的聚酰亚...用于液晶显示元件的性能表现_袁震_llm_correct.md syndata.\n",
      "done 有机电致发光器件的结构、发光机理及表面工程_任玲玲_llm_correct.md syndata.\n",
      "done 一种小规模LCD驱动电路IP核的设计_李益全_llm_correct.md syndata.\n",
      "done TFT-LCD线类缺陷的检测及修正方法研究_林宁_llm_correct.md syndata.\n",
      "done 光学信息处理中TFT-LCD像素结构衍射的干扰_陈前荣_llm_correct.md syndata.\n",
      "done 树形分子有机电致发光材料研究_卫秀成_llm_correct.md syndata.\n",
      "done TFT-LCD_Mura缺陷机器视觉检测方法研究_卢小鹏_llm_correct.md syndata.\n",
      "done OLEDs中的激子及其高效利用_马东阁_llm_correct.md syndata.\n",
      "done 含氟液晶材料的研究进展_谢段燕_llm_correct.md syndata.\n",
      "done 有机吡啶盐的电致发光_徐春祥_llm_correct.md syndata.\n",
      "done 基于人眼平滑追踪的液晶显示运动模糊研究_夏振平_llm_correct.md syndata.\n",
      "done 关于柔性AMOLED工厂废气的处置概述_马尚学_llm_correct.md syndata.\n",
      "done 应用于OLED的铱类有机电致磷光材料分析_陈倩倩_llm_correct.md syndata.\n",
      "done TFT-LCD制造cell阶段多目标绿色调度问题研究_刘庭宇_llm_correct.md syndata.\n",
      "done 一种实用的LCD驱动电路及驱动软件_李先立_llm_correct.md syndata.\n",
      "done 有机发光材料DPVBi的空穴阻挡特性_姜文龙_llm_correct.md syndata.\n",
      "done 基于FPGA的液晶显示控制器的研制_覃永新_llm_correct.md syndata.\n",
      "done OLED电视IR遥控优化设计研究_黄油益_llm_correct.md syndata.\n",
      "done 微波退火法制备多晶硅薄膜的电学特性研究_饶瑞_llm_correct.md syndata.\n",
      "done 晶门科技保持摩托罗拉的传统发展LCD驱动集成电路_llm_correct.md syndata.\n",
      "done 咔唑及其衍生物在蓝光OLED中的应用_苏玉苗_llm_correct.md syndata.\n",
      "done 基于Windows_CE的OLED驱动程序设计与实现_王星全_llm_correct.md syndata.\n",
      "done 射频磁控溅射低温制备ITO薄膜_王秀娟_llm_correct.md syndata.\n",
      "done TFT-LCD边缘彩点Mura解析和改善_陈帅_llm_correct.md syndata.\n",
      "done 氢气稀释比例对多晶硅薄膜微观结构和沉积特性的影响_宋莎莎_llm_correct.md syndata.\n",
      "done LED矩阵显示屏实验系统的设计_漆强_llm_correct.md syndata.\n",
      "done 大尺寸TFT_LCD面板短路环切割质量提升研究_罗超龙_llm_correct.md syndata.\n",
      "done 插入层TmP_yPb对白色...电致发光二极管色纯度的影响_王振_llm_correct.md syndata.\n",
      "done TFT-LCD行业液晶玻璃切割Dummy管控与改善_伍飞高_llm_correct.md syndata.\n",
      "done TFT液晶显示的无缺陷技术_赵伟_llm_correct.md syndata.\n",
      "done 微缩化LED显示技术的发展及应用_宋德宇_llm_correct.md syndata.\n",
      "done 异质结堆叠发光层红色磷光有机发光二极管_郭方志_llm_correct.md syndata.\n",
      "done TFT阵列金属电极的制备与性能_王大海_llm_correct.md syndata.\n",
      "done 数码摄影师的色彩管理讲座(...色彩模式、色彩空间和色域”_吴启海_llm_correct.md syndata.\n",
      "done 含氮杂环类有机发光材料研究进展_孔霜霜_llm_correct.md syndata.\n",
      "done 基于SPCE061A的AC...64J液晶显示模块应用设计_杨存祥_llm_correct.md syndata.\n",
      "done SiN_x介质层非晶IGZ...薄膜晶体管的光照稳定性研究_崔璨_llm_correct.md syndata.\n",
      "done TFT阵列栅延迟特性研究_傅东_llm_correct.md syndata.\n",
      "done 喷墨打印技术制备氧化物薄膜晶体管_杨小天_llm_correct.md syndata.\n",
      "done TFT器件过孔腐蚀机理研究及改善_董康旭_llm_correct.md syndata.\n",
      "done 有机电致发光薄膜显示器像素阵列的制作_陈敏_llm_correct.md syndata.\n",
      "done 含微米银颗粒OLED封装胶中的湿气扩散研究_谈隆旺_llm_correct.md syndata.\n",
      "done 柔性OLED模组的落笔冲击仿真与模组优化分析_邹岚韬_llm_correct.md syndata.\n",
      "done 柔性显示用改性纸质基板的表面性能及机械性能研究_易文慧_llm_correct.md syndata.\n",
      "done 大气环境下多晶硅薄膜的疲劳性能_吴昊_llm_correct.md syndata.\n",
      "done OLED显示屏驱动控制芯片技术分析及其应用_廖晶晶_llm_correct.md syndata.\n",
      "done MoO_3为缓冲层的高效非掺杂蓝色有机发光二极管_倪蔚德_llm_correct.md syndata.\n",
      "done 新型金属氧化物半导体场效应...测器在放疗剂量监控中的应用_祁振宇_llm_correct.md syndata.\n",
      "done 平板显示器件通用驱动电路IP核的设计_李益全_llm_correct.md syndata.\n",
      "done 加固液晶显示器的抗振动设计_张洁_llm_correct.md syndata.\n",
      "done 基于杂质离子含量评价的LTPS-LCD面板测量体系_邓文广_llm_correct.md syndata.\n",
      "done 日本微电子和光电子工业中激光组装技术的应用及展望_王立斌_llm_correct.md syndata.\n",
      "done AMOLED子像素渲染算法研究_徐京_llm_correct.md syndata.\n",
      "done InGaZnO薄膜晶体管泄漏电流模型_邓小庆_llm_correct.md syndata.\n",
      "done 双层有机发光二极管中复合效率和复合区域宽度的研究_李宏建_llm_correct.md syndata.\n",
      "done 内藏液晶显示控制器T6963C与DSP的接口应用_何轩_llm_correct.md syndata.\n",
      "done 同步对称双栅InGaZnO薄膜晶体管电势模型研究_覃婷_llm_correct.md syndata.\n",
      "done ITO像素电极工序对于HADS产品TFT特性的影响_林致远_llm_correct.md syndata.\n",
      "done OLED复合柔性封装层技术及其专利现状_何月娣_llm_correct.md syndata.\n",
      "done 有机电致发光器件的效率研究_何修军_llm_correct.md syndata.\n",
      "done 一种基于In-Zn-O薄膜...动的OLED行集成驱动电路_张立荣_llm_correct.md syndata.\n",
      "done TFT-LCD驱动芯片内置SRAM的低功耗设计_程艳_llm_correct.md syndata.\n",
      "done 全无机胶体量子点显示技术_耿卫东_llm_correct.md syndata.\n",
      "done 有机极化电致发光进展_张迎超_llm_correct.md syndata.\n",
      "done OLED重点公司美国专利分析_罗佳秀_llm_correct.md syndata.\n",
      "done 携手努力__共话OLED未...新之路——OLED论坛侧记_许瑞鹏_llm_correct.md syndata.\n",
      "done TFT-LCD玻璃基板的本构参数研究及其切割过程分析_赵靖超_llm_correct.md syndata.\n",
      "done 射频磁控溅射ITO薄膜中沉积温度对膜特性影响_赵透玲_llm_correct.md syndata.\n",
      "done 基于MAX3100和OLED的GPS定位系统设计_李利功_llm_correct.md syndata.\n",
      "done OLED产业和技术发展现状_刘义鹤_llm_correct.md syndata.\n",
      "done 提高LED背光源质量的研究_刘毅清_llm_correct.md syndata.\n",
      "done LCD驱动控制时钟电路的设计_沃招军_llm_correct.md syndata.\n",
      "done 国际化认证背景下光电子学全英教学课程建设探索_郑继红_llm_correct.md syndata.\n",
      "done 有机电致发光的研究进展及展望_李全友_llm_correct.md syndata.\n",
      "done OLED公司专利许可与诉讼情况浅析_罗佳秀_llm_correct.md syndata.\n",
      "done RGBW彩色滤光片技术开发与应用_姜晶晶_llm_correct.md syndata.\n",
      "done 功能层界面制备方法对OLED性能的影响_牟强_llm_correct.md syndata.\n",
      "done 异军突起的有机发光平板显示_林秀华_llm_correct.md syndata.\n",
      "done 一个非晶InGaZnO薄膜...体管线性区陷阱态的提取方法_徐飘荣_llm_correct.md syndata.\n",
      "done 从2004年全球五大显示会...世界显示器件技术的高速发展_段诚_llm_correct.md syndata.\n",
      "done 有机电致发光产品的研发现状_尹盛_llm_correct.md syndata.\n",
      "done 中国LED及其显示屏产业市场发展动向_陈苗海_llm_correct.md syndata.\n",
      "done TFT_LCD——未来主流显示技术_黄锡珉_llm_correct.md syndata.\n",
      "done 手持设备中的无源OLED显示供电方案_llm_correct.md syndata.\n",
      "done 多维邻近性对创新网络组织间...—基于OLED产业专利数据_阮平南_llm_correct.md syndata.\n",
      "done yeshiTFT-LCD玻璃基板清洗剂的应用研究_王剑_llm_correct.md syndata.\n",
      "done OLED显示产业渐行渐热_llm_correct.md syndata.\n",
      "done LCD驱动电路的设计与实现_李晓飞_llm_correct.md syndata.\n",
      "done Effects of or... OLED devices_胡俊涛_llm_correct.md syndata.\n",
      "done OCB模式液晶显示器件的膜补偿模拟优化_单艾娴_llm_correct.md syndata.\n",
      "done 局域和长程杂化密度泛函研究推拉结构有机发光分子_刘小君_llm_correct.md syndata.\n",
      "done 柔性显示器件用聚酰亚胺基板的研究与应用进展_刘金刚_llm_correct.md syndata.\n",
      "done 中国台湾与韩国TFT-LC...业比较及其对中国大陆的启示_董彦良_llm_correct.md syndata.\n",
      "done 新型不对称酞菁的电致发光性质研究_夏道成_llm_correct.md syndata.\n",
      "done a-Si_H_TFT电流-电压特性研究_万新恒_llm_correct.md syndata.\n",
      "done RF磁控溅射制备N掺杂Cu_2O薄膜及光学特性研究_自兴发_llm_correct.md syndata.\n",
      "done a-SiTFT有源矩阵的单故障交流导纳分析_宋跃_llm_correct.md syndata.\n",
      "done 双面显示技术的进展(续)_陈禹翔.md0000_llm_correct.md syndata.\n",
      "done 基于多项式曲面拟合的TFT...LCD斑痕缺陷自动检测技术_张昱_llm_correct.md syndata.\n",
      "done TFT-LCD一种条纹Mura的研究与改善_张正林_llm_correct.md syndata.\n",
      "done OLED技术在民用飞机驾驶舱照明中的运用_曾艺_llm_correct.md syndata.\n",
      "done 新型均三嗪咔唑类蓝光电致发光材料的合成与性能探究_李海艳_llm_correct.md syndata.\n",
      "done OLED柔性衬底封装材料研究进展_王杏_llm_correct.md syndata.\n",
      "done 基于AM-OLED立体显示接口电路的设计_卓斌_llm_correct.md syndata.\n",
      "done 基于CPLD的彩色模拟TFT-LCD驱动板设计_唐枋_llm_correct.md syndata.\n",
      "done 以标准TFT模组生产的柔性电子书显示器_Ian French_llm_correct.md syndata.\n",
      "done 小分子有机电致发光器件和材料的研究及应用_密保秀_llm_correct.md syndata.\n",
      "done a-Si∶H_TFT亚阈值区SPICE模型的研究_邵喜斌_llm_correct.md syndata.\n",
      "done Alq_3有机发光二极管中的激子湮灭过程及其磁场效应_张勇_llm_correct.md syndata.\n",
      "done 柔性有机发光二极管的薄膜封装研究进展_周钰卜_llm_correct.md syndata.\n",
      "done 有机电激光显示器件缺陷检测进展_彭骞_llm_correct.md syndata.\n",
      "done Dual-Gate_TFT...D抖动算法FRC研究与实现_齐郾琴_llm_correct.md syndata.\n",
      "done OLED技术在汽车车灯上的应用_罗杰_llm_correct.md syndata.\n",
      "done TFT-LCD模块组装调度问题的改进灰狼优化算法_姚远远_llm_correct.md syndata.\n",
      "done 基于Linux下的OLED显示模块设计_李想_llm_correct.md syndata.\n",
      "done OLED光电性能综合测试系统的设计_张玉杰_llm_correct.md syndata.\n",
      "done 最新TFT源驱动器(10位...上)的测试要求以及解决方法_llm_correct.md syndata.\n",
      "done 多层氧化物复合阴极透明OLED器件_梁田静_llm_correct.md syndata.\n",
      "done TFT的热电特性及其在室温IRFPA中的应用_董良_llm_correct.md syndata.\n",
      "done 喷墨打印在大尺寸OLED显示中的应用_唐兆兵_llm_correct.md syndata.\n",
      "done 三端子有源矩阵液晶显示器_刘洪武_llm_correct.md syndata.\n",
      "done 印刷电子技术在OLED显示器件中的应用_郑华_llm_correct.md syndata.\n",
      "done 半导体激光封接OLED工艺研究_李小婷_llm_correct.md syndata.\n",
      "done OLED-on-silic...pixel circuit_刘艳艳_llm_correct.md syndata.\n",
      "done 数字视频和OLED微显示技术_金阳_llm_correct.md syndata.\n",
      "done 一种基于二-[2',6'-...)的非掺杂蓝色磷光发光器件_骆开均_llm_correct.md syndata.\n",
      "done 昆山开建8.5G_TFT-LCD生产线_llm_correct.md syndata.\n",
      "done 基于非对称椭圆中心凹JND模型的硅基微显示器_朱毅翀_llm_correct.md syndata.\n",
      "done TFT-LCD制程中ITO残留的产生与控制_毛联波_llm_correct.md syndata.\n",
      "done 基于B_3PyMPM∶Cs高效叠层OLED器件的制备_林雯嫣_llm_correct.md syndata.\n",
      "done LED和OLED的发展_陶然_llm_correct.md syndata.\n",
      "done 7.6cm多色有源矩阵液晶显示器_冯治兴_llm_correct.md syndata.\n",
      "done 微腔对有机发光的影响的研究_初国强_llm_correct.md syndata.\n",
      "done 平板显示技术的分析和应用趋势_郑利浩_llm_correct.md syndata.\n",
      "done 一体化触控技术用ITO薄膜的一次成膜工艺研究_徐日宏_llm_correct.md syndata.\n",
      "done 彩电业：平板电视时代的新技...平板电视技术趋势回顾与展望_张兵_llm_correct.md syndata.\n",
      "done 10大新显示技术_llm_correct.md syndata.\n",
      "done TFT-LCD液晶显示技术与应用_李联益_llm_correct.md syndata.\n",
      "done 显示技术及8K超高清视频呈现_许春蕾_llm_correct.md syndata.\n",
      "done 有机酸修饰ITO对OLED器件性能的影响_胡俊涛_llm_correct.md syndata.\n",
      "done 利用PbS量子点波长转换膜实现近红外电致发光_陈义鹏_llm_correct.md syndata.\n",
      "done 有源矩阵液晶显示器述评_张凤翙_llm_correct.md syndata.\n",
      "done 平板显示技术标准化的进展_王幼林_llm_correct.md syndata.\n",
      "done 利用STM和CV方法测定有机发光材料的能带参数_付慧英_llm_correct.md syndata.\n",
      "done LCD驱动器的新特性_钱金维_llm_correct.md syndata.\n",
      "done 数字整合式家用电器及新型全彩色显示技术_陈汝全_llm_correct.md syndata.\n",
      "done TFT-LCD_LED背光延迟扫描技术研究_蔡明雄_llm_correct.md syndata.\n",
      "done TFT-LCD用玻璃基板的性能及检测_刘海燕_llm_correct.md syndata.\n",
      "done CPJ-1300偏光片除泡机的研制开发_刘军涛_llm_correct.md syndata.\n",
      "done TFT-LCD液晶电视的分辨率与HDTV方型像素_王富奎_llm_correct.md syndata.\n",
      "done 不同有源层厚度的多晶硅薄膜晶体管特性研究_李阳_llm_correct.md syndata.\n",
      "done ’97平板显示综述_朱昌昌_llm_correct.md syndata.\n",
      "done 像素设计中沟道宽和长的选择_汪梅林_llm_correct.md syndata.\n",
      "done 有机电致发光显示彩色化技术及其发展_刘南柳_llm_correct.md syndata.\n",
      "done PECVD_a-Si_H薄...性能的影响及其淀积工艺研究_丁晖_llm_correct.md syndata.\n",
      "done 基于一维周期性金属-介质薄...收体的制备及其光学特性研究_李辉_llm_correct.md syndata.\n",
      "done TFT-LCD制程中San...a的失效模式分析及改善研究_史高飞_llm_correct.md syndata.\n",
      "done 大尺寸TFT_LCD产品发展趋势_张兵_llm_correct.md syndata.\n",
      "done TFT-LCD_HADS显...Mura机理研究及设计优化_郑箫逸_llm_correct.md syndata.\n",
      "done PHOLED显示技术_Stanley Chen_llm_correct.md syndata.\n",
      "done “战略性先进电子材料”重点...印刷TFT材料与器件的研究_张小涛_llm_correct.md syndata.\n",
      "done 多晶硅薄膜的铝诱导晶化法制备及其晶粒的择优取向特性_于威_llm_correct.md syndata.\n",
      "done 微腔结构对红光磷光OLED的性能的影响研究_张麦丽_llm_correct.md syndata.\n",
      "done 彩色滤光片黄光制程常见工艺异常的处理_彭建中_llm_correct.md syndata.\n",
      "done 图像显示技术及其最新发展趋势_雷玉堂_llm_correct.md syndata.\n",
      "done 当前世界液晶材料的进展_张文志_llm_correct.md syndata.\n",
      "done 广东AMOLED有机材料专利现状及发展趋势研究_陈宇萍_llm_correct.md syndata.\n",
      "done TFT-LCD残像原理与分析-加强篇二_焦峰_llm_correct.md syndata.\n",
      "done OLED——平板电视的新宠儿_马晓阳_llm_correct.md syndata.\n",
      "done PECVD_SiO_2-SiN_X叠层钝化膜的研究_韩培育_llm_correct.md syndata.\n",
      "done 柔性OLED载板玻璃中铁含...308nm紫外透过率的影响_冯磊_llm_correct.md syndata.\n",
      "done 一种可旋涂的磷光铱(Ⅲ)配...及其在OLED器件中的性能_武钰铃_llm_correct.md syndata.\n",
      "done OLED显示器件在车载应用上的机遇和挑战_庄筱磊_llm_correct.md syndata.\n",
      "done 关于DOE方法在TFT-L...ura设备检出率提升的应用_蔡婷_llm_correct.md syndata.\n",
      "done 有机添加剂在钙钛矿电致发光器件中的应用_刘鑫妍_llm_correct.md syndata.\n",
      "done 新显示技术：21世纪的眼睛_高明.md0000_llm_correct.md syndata.\n",
      "done 手性剂添加浓度对液晶电光特性的影响_王晓燕_llm_correct.md syndata.\n",
      "done 在FPGA下实现灵活的OLED灰度控制_付新虎_llm_correct.md syndata.\n",
      "done 一个带按键功能的LCD驱动电路设计_汪艳彬_llm_correct.md syndata.\n",
      "done TFT-LCD边角白点不良的分析和改善_许叶潞_llm_correct.md syndata.\n",
      "done TFT漏电流对Flicker影响及测试方法研究_姚之晓_llm_correct.md syndata.\n",
      "done ZnO基薄膜晶体管的研究_程松华_llm_correct.md syndata.\n",
      "done UCDOS下点阵字库在嵌入式OLED应用中的移植_周建政_llm_correct.md syndata.\n",
      "done 低电压有机薄膜晶体管驱动顶...发光二极管的集成像素的研制_胡胜坤_llm_correct.md syndata.\n",
      "done 印刷OLED产业发展现状及挑战分析_金凤_llm_correct.md syndata.\n",
      "done 基于钙钛矿量子点的电致发光二极管研究进展_赵晨静_llm_correct.md syndata.\n",
      "done 大面积TFT液晶显示屏的振动应力分析及其抗振加固_吴金华_llm_correct.md syndata.\n",
      "done OLED——希望,神话及电视_Barry Young_llm_correct.md syndata.\n",
      "done 小分子蓝光OLED材料与器件研究进展_陈旭中_llm_correct.md syndata.\n",
      "done TFT-LCD显示器显示质量评测_张敏_llm_correct.md syndata.\n",
      "done 倒置QLED器件中氧化锌电子传输层的镁掺杂效应_陈幸福_llm_correct.md syndata.\n",
      "done 三星面板分拆独立66亿嫁妆重攻OLED_郎朗_llm_correct.md syndata.\n",
      "done 柯达被动式OLED专利授权...明年转向主动式OLED技术_llm_correct.md syndata.\n",
      "done 印刷型设备产生配向膜Mura研究_王丹_llm_correct.md syndata.\n",
      "done OLED能否大爆发__何莎莎_llm_correct.md syndata.\n",
      "done 双量子阱结构OLED效率和电流的磁效应_姜文龙_llm_correct.md syndata.\n",
      "done 显示器件测试技术与设备最新进展_吴涛_llm_correct.md syndata.\n",
      "done 对不同制备方法下的ZnO基薄膜晶体管透过率的研究_袁广才_llm_correct.md syndata.\n",
      "done 多晶硅薄膜高温退火特性研究分析_赵杰_llm_correct.md syndata.\n",
      "done 基于激子和电致激基复合物双重发光的白光OLED_檀康明_llm_correct.md syndata.\n",
      "done 差热法测定OLED材料玻璃化转变温度的不确定度评定_高姚湘_llm_correct.md syndata.\n",
      "done 基于人眼视觉特性的硅基OLED微显示器系统_季渊_llm_correct.md syndata.\n",
      "done 不同溅射气体对a-IGZO_TFT特性的影响_张耿_llm_correct.md syndata.\n",
      "done 带支链聚乙炔液晶高分子的合成与光学特性(英文)_薛清_llm_correct.md syndata.\n",
      "done 底栅微晶硅薄膜晶体管_李娟_llm_correct.md syndata.\n",
      "done 广色域液晶电视你买不买_郯道宗_llm_correct.md syndata.\n",
      "done 含硼有机发光二极管材料与器件_杨智文_llm_correct.md syndata.\n",
      "done a-Si_TFT寻址LCD的动态特性_Miyata_llm_correct.md syndata.\n",
      "done OTFT开关比对有源层厚度...质浓度间制约关系的影响研究_陈金伙_llm_correct.md syndata.\n",
      "done 比OLED技高一筹__走近MicroLED显示技术_睿智_llm_correct.md syndata.\n",
      "done Digital drive...OLED displays_llm_correct.md syndata.\n",
      "done 基于SoPC的通用TFT-LCD控制器IP核设计_马宏锋_llm_correct.md syndata.\n",
      "done 彩色滤光片制备方法概述_徐红梅_llm_correct.md syndata.\n",
      "done 基于亚阈值技术的AM-OLED驱动电路研究_张慧熙_llm_correct.md syndata.\n",
      "done OLED的最新消息_海信_llm_correct.md syndata.\n",
      "done A new AC driv...ission AMOLED_张勇文_llm_correct.md syndata.\n",
      "done AM_OLED_OLED的“明日之星”_王力_llm_correct.md syndata.\n",
      "done 基于FPGA的OLED微显示器的IIC控制模块设计_冉峰_llm_correct.md syndata.\n",
      "done 叠层方式形成彩色滤光片隔垫物的研究_舒适_llm_correct.md syndata.\n",
      "done AD9883在平板显示视频接口中的应用_胡建民_llm_correct.md syndata.\n",
      "done IGZO-based ne...piking logics_Ying ZHU_llm_correct.md syndata.\n",
      "done TFT-LCD返工IC端子腐蚀行为研究_高洪波_llm_correct.md syndata.\n",
      "done 基于喷墨工艺的液晶显示用彩色滤光片_郑少瑜_llm_correct.md syndata.\n",
      "done OLED电视走到岔路口_王文静_llm_correct.md syndata.\n",
      "done 工业控制用液晶显示模块_llm_correct.md syndata.\n",
      "done 9款38cm(15英寸)TFT_LCD显示器横向评测_张韬_llm_correct.md syndata.\n",
      "done 发光与发光器件_llm_correct.md syndata.\n",
      "done 不同封装方式的有机发光二极管的传热特性_陈卓_llm_correct.md syndata.\n",
      "done 大功率白光LED伏安特性和正向电压温度特性研究_杨亭_llm_correct.md syndata.\n",
      "done TFT-LCD背光模组光学膜关键件的开发研究_张益民_llm_correct.md syndata.\n",
      "done 一种新的有源OLED交流驱动电路(英文)_司玉娟_llm_correct.md syndata.\n",
      "done 新型三明治结构铝诱导非晶硅薄膜低温晶化增强_贺海晏_llm_correct.md syndata.\n",
      "done 柔性显示实现的关键技术_李天华_llm_correct.md syndata.\n",
      "done TFT_AMLCD像素矩阵电路中栅延迟的模拟研究_李牧菊_llm_correct.md syndata.\n",
      "done TFT-LCD发绿的研究及改善_杨宗顺_llm_correct.md syndata.\n",
      "done 不同发光染料的顶发射有机电致发光器件的研制_陈星明_llm_correct.md syndata.\n",
      "done 有机电致发光OLED功能层材料研究_钟建_llm_correct.md syndata.\n",
      "done 基于“丝瓜络”3D凝胶网络...凝胶的可拉伸光散射显示器件_陈思_llm_correct.md syndata.\n",
      "done 医疗环境中液晶显示器使用和保养_庞晏庆_llm_correct.md syndata.\n",
      "done 大型液晶显示用COF带的细节距线路形成_蔡积庆_llm_correct.md syndata.\n",
      "done TFT-LCD行业激光打码后面板强度改善_伍飞高_llm_correct.md syndata.\n",
      "done 基于新型有机发光材料的白光照明器件的开发_周军红_llm_correct.md syndata.\n",
      "done 平板显示器件用玻璃基板_王玉花_llm_correct.md syndata.\n",
      "done 有机荧光材料DCJTB对白光LED发光特性的影响_毕长栋_llm_correct.md syndata.\n",
      "done OLED应用技术的进展_常天海_llm_correct.md syndata.\n",
      "done 咔唑衍生物在有机电致发光材料中的研究进展_于涛_llm_correct.md syndata.\n",
      "done 有机发光器件(OLED)界面的研究进展_邹元明_llm_correct.md syndata.\n",
      "done 显示技术在比拼中前进_金中_llm_correct.md syndata.\n",
      "done 有机电致发光的全彩色显示_李亚晖_llm_correct.md syndata.\n",
      "done MPC5606S在TFT彩屏显示中的应用_许峰_llm_correct.md syndata.\n",
      "done 关于TFT-LCD中一种偏光片相关不良的研究_刘杰_llm_correct.md syndata.\n",
      "done The Effect of...-InGaZnO TFTs_黄晓明_llm_correct.md syndata.\n",
      "done 柔性显示器件国际标准研制进展_谢静_llm_correct.md syndata.\n",
      "done 一种基于ARM9的彩色TFT-LCD模块设计及实现_马舜峰_llm_correct.md syndata.\n",
      "done 在偏振光实验中加入液晶显示器工作原理的演示_崔拴锦_llm_correct.md syndata.\n",
      "done CNT-FED点阵显示器件的研制及其驱动电路设计_戴丽娟_llm_correct.md syndata.\n",
      "done a-Si_TFT液晶显示模块的评价概述_闫亮_llm_correct.md syndata.\n",
      "done 基于ADSP-21161N...FT-LCD驱动电路的设计_罗菊华_llm_correct.md syndata.\n",
      "done OLED概念股谁最抢眼__昝立永_llm_correct.md syndata.\n",
      "done LED背光源热设计研究_姜凤山_llm_correct.md syndata.\n",
      "done 方兴未艾的OLED_苏初榜_llm_correct.md syndata.\n",
      "done 利用LiF空穴阻挡层提高有机发光二极管效率(英文)_连加荣_llm_correct.md syndata.\n",
      "done 有机电致发光材料研究进展_杨定宇_llm_correct.md syndata.\n",
      "done 双异质型蓝色OLED器件的研究_季兴桥_llm_correct.md syndata.\n",
      "done OLED技术与市场展望_蒋庆全_llm_correct.md syndata.\n",
      "done TFT-LCD端子在线切割工艺及关键技术_李庆亮_llm_correct.md syndata.\n",
      "done 低温快速热退火晶化制备多晶硅薄膜_王红娟_llm_correct.md syndata.\n",
      "done IPS液晶显示技术中国专利分析_吴永丽_llm_correct.md syndata.\n",
      "done TFT-LCD驱动电路的设计_罗菊华_llm_correct.md syndata.\n",
      "done OLED显示的灰度控制_范雪_llm_correct.md syndata.\n",
      "done PMP_LCD驱动电路设计_马涛_llm_correct.md syndata.\n",
      "done OLED智能显示按键设计_章鹏_llm_correct.md syndata.\n",
      "done 显示技术发展与研究现状_林明祥_llm_correct.md syndata.\n",
      "done 基于FPGA的液晶驱动电路设计_刘晶_llm_correct.md syndata.\n",
      "done OLED亮度补偿电路浅析_贺轶_llm_correct.md syndata.\n",
      "done 基于人因的液晶显示动态图像质量研究_宋玉_llm_correct.md syndata.\n",
      "done 折叠屏高增长利好OLED、UTG_刘吉洪_llm_correct.md syndata.\n",
      "done 有机发光二极管中原子掺杂调控的单重态激子产率_卢秋霞_llm_correct.md syndata.\n",
      "done 一种液晶显示器数字源驱动电路的设计_张媛_llm_correct.md syndata.\n",
      "done OLED专利申请分析_苏治平_llm_correct.md syndata.\n",
      "done 有空穴传输层的双层有机薄膜电致发光器件_刘祖刚_llm_correct.md syndata.\n",
      "done TFT—LCD生产中HPMJ清洗工艺的研究_林琅_llm_correct.md syndata.\n",
      "done 固态发光器件前景光明_李卓_llm_correct.md syndata.\n",
      "done 基于TPS65105的TFT-LCD电源设计_于春涛_llm_correct.md syndata.\n",
      "done 利用激子敏化层研究蓝色有机发光器件的激子扩散问题_王福军_llm_correct.md syndata.\n",
      "done 基于LM3S1138的OLED寿命检测仪_党宏社_llm_correct.md syndata.\n",
      "done OLED显示技术的新突破_田亚平_llm_correct.md syndata.\n",
      "done ZnS纳米棒阵列的结构和光学特性_冯秋菊_llm_correct.md syndata.\n",
      "done LCD和TFT-LCD用玻璃基片_扈海燕_llm_correct.md syndata.\n",
      "done ADS双栅线结构高透像素设计_王小元_llm_correct.md syndata.\n",
      "done STN型液晶显示用聚酰亚胺表面取向材料的性能_梁晓_llm_correct.md syndata.\n",
      "done 基于晶界离散分布的多晶硅薄膜晶体管直流模型_严炳辉_llm_correct.md syndata.\n",
      "done OLED显示屏下摄像技术改进研究_楼均辉_llm_correct.md syndata.\n",
      "done 对液晶电视动态画面响应的测试研究_徐涛_llm_correct.md syndata.\n",
      "done OLED封装用高性能阻隔胶粘带的研制_陈维斌_llm_correct.md syndata.\n",
      "done 利用磷光敏化改善聚合物白光OLED性能_林文晶_llm_correct.md syndata.\n",
      "done 信息传递的重要方式——液晶显示_关荣华_llm_correct.md syndata.\n",
      "done 有机电致发光器件中几种常用组分的荧光光谱研究_彭兆快_llm_correct.md syndata.\n",
      "done 友达推出全系列UHD_4K广色域曲面液晶电视屏_llm_correct.md syndata.\n",
      "done TFT液晶显示配套用化学材料的研究进展_叶孝兆_llm_correct.md syndata.\n",
      "done 中科院院士、华南理工大学曹...报纸一样印出有机发光显示屏_叶青_llm_correct.md syndata.\n",
      "done VGA__TFT__LCD的驱动电路设计_郑春梅_llm_correct.md syndata.\n",
      "done 新型高分辨率三维显示器件与系统的基础研究年度报告_夏军_llm_correct.md syndata.\n",
      "done ISA总线实现OLED面板显示_郑方_llm_correct.md syndata.\n",
      "done TFT-LCD中升华物组分对柱状隔垫物性能的影响_肖宇_llm_correct.md syndata.\n",
      "done 有机电致发光器件寿命测试系统_陈志明_llm_correct.md syndata.\n",
      "done 发力新型显示技术,天马备战中小屏新市场_孔文_llm_correct.md syndata.\n",
      "done TPBTSi配合物的绿色有机发光器件研究_于军胜_llm_correct.md syndata.\n",
      "done 柔性有机发光二极管_周月_llm_correct.md syndata.\n",
      "done 三星_SyncMaster770_TFT液晶显示器_高国栋_llm_correct.md syndata.\n",
      "done OLED——固体照明的明日之星_何豪_llm_correct.md syndata.\n",
      "done 关于VGA有源OLED屏上栅源驱动电路的设计_杨佳_llm_correct.md syndata.\n",
      "done 显像争霸——OLED与LCD显示屏性能对比_汪国华_llm_correct.md syndata.\n",
      "done TFT显示驱动IC设计要求_曾宏博_llm_correct.md syndata.\n",
      "done 基于S3C2410驱动TFT-LCD液晶显示器的研究_高见芳_llm_correct.md syndata.\n",
      "done 一种窄边框的液晶显示面板设计_张怀平_llm_correct.md syndata.\n",
      "done OLED电视风光不再，未来何去何从_邓雅静_llm_correct.md syndata.\n",
      "done LED电子显示屏系统色彩调节参数的研究_张旸_llm_correct.md syndata.\n",
      "done 打造国内第一块全彩色柔性A...有机发光显示技术“制高点”_冯海波_llm_correct.md syndata.\n",
      "done OLED器件的有机无机复合薄膜封装专利技术综述_丁萍_llm_correct.md syndata.\n",
      "done 基于TRIZ的液晶显示技术进化过程研究_仝战营_llm_correct.md syndata.\n",
      "done OLED显示开发的最新进展_李文连_llm_correct.md syndata.\n",
      "done 日IBM推出16英寸TFT彩色液晶显示器_llm_correct.md syndata.\n",
      "done OLED电视产业发展趋势及前景解读_夏治文_llm_correct.md syndata.\n",
      "done 最有希望成为下一代平板显示器的QLED_陈杨_llm_correct.md syndata.\n",
      "done TFT-LCD背光设计策略_颜重光_llm_correct.md syndata.\n",
      "done 周边配向膜Mura改善研究_徐长健_llm_correct.md syndata.\n",
      "done 三星2K分辨率100%sRGB色域覆盖机型即将上市_llm_correct.md syndata.\n",
      "done 平板彩电液晶显示器的工作原理(下)_刘永利_llm_correct.md syndata.\n",
      "done 彩色TFT－LCD发展现状与前景_吴雄_llm_correct.md syndata.\n",
      "done 合工大研发新型量子点显示材料_新型_llm_correct.md syndata.\n",
      "done 彩电显示技术哪家强__于璇_llm_correct.md syndata.\n",
      "done OLED在汽车领域中的应用_田沛东_llm_correct.md syndata.\n",
      "done Soft Imprint ...uring in OLED_llm_correct.md syndata.\n",
      "done 应用于OLED驱动芯片的LDO设计_李晴_llm_correct.md syndata.\n"
     ]
    }
   ],
   "source": [
    "from utils.data_synthesis_v2 import syn_data_v3\n",
    "answers_path = \"outputs_pipeline/article5_answers05_1.json\" \n",
    "syndatas_path = \"outputs_pipeline/syndatas05_3.json\" \n",
    "syn_data_v3(answers_path, syndatas_path)"
   ]
  }
 ],
 "metadata": {
  "kernelspec": {
   "display_name": "raft",
   "language": "python",
   "name": "python3"
  },
  "language_info": {
   "codemirror_mode": {
    "name": "ipython",
    "version": 3
   },
   "file_extension": ".py",
   "mimetype": "text/x-python",
   "name": "python",
   "nbconvert_exporter": "python",
   "pygments_lexer": "ipython3",
   "version": "3.10.17"
  }
 },
 "nbformat": 4,
 "nbformat_minor": 5
}

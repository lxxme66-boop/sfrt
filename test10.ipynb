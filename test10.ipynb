{
 "cells": [
  {
   "cell_type": "markdown",
   "id": "1929f396",
   "metadata": {},
   "source": [
    "# 加载 hf格式 数据"
   ]
  },
  {
   "cell_type": "code",
   "execution_count": 3,
   "id": "1e9de379",
   "metadata": {},
   "outputs": [],
   "source": [
    "from datasets import load_from_disk\n",
    "\n",
    "dataset = load_from_disk(\"outputs\")"
   ]
  },
  {
   "cell_type": "code",
   "execution_count": null,
   "id": "305f2371",
   "metadata": {},
   "outputs": [],
   "source": []
  },
  {
   "cell_type": "code",
   "execution_count": 4,
   "id": "b881d8b6",
   "metadata": {},
   "outputs": [
    {
     "data": {
      "text/plain": [
       "{'id': '88fe5b32-9cff-440b-968e-589a4e5f06ba',\n",
       " 'type': 'general',\n",
       " 'question': 'What is RAFT?  ',\n",
       " 'context': {'sentences': [['ÎÒÃÇÉè¼ÆÊµÑé£¬Ö¼ÔÚÆÀ¹ÀRAFTÓë¶àÖÖ»ùÏßÄ£ÐÍÏà±ÈµÄ±íÏÖ¡£ÑÐ¾¿·¢ÏÖ£¬¾\\xad¹ýÎ¢µ÷µÄLlaMA-2\\n°æ±¾¡ª¡ªRAFT-7B£¬ÔÚÔÄ¶ÁºÍÌáÈ¡ÁìÓòÄÚÎÄµµÐÅÏ¢·½Ãæ±íÏÖ¸ü¼Ñ£¬ÓÅÓÚÌØ¶¨ÁìÓòµÄÎ¢µ÷Ä£ÐÍ\\nºÍ½áºÏRAGµÄÍ¨ÓÃÄ£ÐÍ¡£´ËÍâ£¬ÎÒÃÇ»¹Í¨¹ýÏûÈÚÊµÑéÕ¹Ê¾ÁËÁ´Ê½Ë¼Î¬ÏìÓ¦¶ÔÄ£ÐÍÑ§Ï°µÄÖØÒª\\nÐÔ¡£ÔÚ±¾½ÚÖÐ£¬ÎÒÃÇ½«Ê×ÏÈ½éÉÜÊµÑéÖÐÊ¹ÓÃµÄËùÓÐÊý¾Ý¼¯£¬È»ºóÁÐ³öËùÓÐÓÃÓÚ¶Ô±ÈµÄ»ùÏß\\nÄ£ÐÍ¼°Î¢µ÷¼¼Êõ¡£\\n4Ô¤Ó¡±¾£¬ÕýÔÚÉó²éÖÐ\\n--------------------------------------------------------------------------------------ÎÊÌâ£ºOberoi¼Ò×åÊÇÄ³¾Æµê¹«Ë¾µÄ³ÉÔ±£¬¸Ã¹«Ë¾×Ü²¿Î»ÓÚÄÄ¸ö³ÇÊÐ£¿',\n",
       "    'Brown,T.,Mann,B.,Ryder,N.,Subbiah,M.,Kaplan,J.D.,Dhariwal,P.,\\nNeelakantan,A.,Shyam,P.,Sastry,G.,Askell,A.,µÈ.ÓïÑÔÄ£ÐÍÊÇÉÙÑù±¾Ñ§Ï°Õß.\\nÉñ¾\\xadÐÅÏ¢´¦ÀíÏµÍ³½øÕ¹,33:1877-1901,2020.\\nCarlini£¬N.£¬Liu£¬C.£¬Erlingsson£¬U.£¬Kos£¬J.ºÍSong£¬D.¡¶ÃØÃÜ·ÖÏíÕß£ºÆÀ¹ÀºÍ²âÊÔ\\nÉñ¾\\xadÍøÂçÖÐµÄ·ÇÔ¤ÆÚ¼ÇÒä¡·¡£µÚ28½ìUSENIX°²È«ÑÐÌÖ»á£¨USENIXSecurity19£©£¬µÚ267\\n-284Ò³£¬2019Äê¡£\\nCarlini,N.,Tramer,F.,Wallace,E.,Jagielski,M.,Herbert-Voss,A.,Lee,K.,\\nRoberts,A.,Brown,T.,Song,D.,Erlingsson,U.,etal.´Ó´óÐÍÓïÑÔÄ£ÐÍÖÐÌáÈ¡Ñµ',\n",
       "    'Ô¤Ó¡±¾£¬ÕýÔÚÉó²é\\nRAFT£ºÊÊÓ¦ÌØ¶¨ÁìÓòµÄÓïÑÔÄ£ÐÍ\\nÕÅÌì¾ü*\\n¼ÓÖÝ´óÑ§²®¿ËÀû·ÖÐ£¼ÆËã»ú¿ÆÑ§\\nÏµ\\nÃÀ¹ú¼ÓÀû¸£ÄáÑÇÖÝ²®¿ËÀû\\nÊÐ£¬ÓÊ±à£º94720£¬µç×ÓÓÊ\\nÏä£º{tianjunz}@berkeley.\\neduShishirG.Patil¡¢NamanJain¡¢ShengShen\\n¼ÓÖÝ´óÑ§²®¿ËÀû·ÖÐ£¼ÆËã»ú¿ÆÑ§\\nÏµ\\nÃÀ¹ú¼ÓÀû¸£ÄáÑÇÖÝ²®¿ËÀûÊÐ£¬ÓÊ±à£º94720\\n{shishirpatil£¬naman_jain£¬sheng.s}@berkeley.\\nedu\\nMateiZaharia¡¢IonStoica¡¢JosephE.Gonzalez\\n¼ÓÖÝ´óÑ§²®¿ËÀû·ÖÐ£¼ÆËã»ú¿ÆÑ§\\nÏµ\\nÃÀ¹ú¼ÓÀû¸£ÄáÑÇÖÝ²®¿ËÀûÊÐ£¬ÓÊ±à£º94720\\n{matei,istoica,jegonzal}@berkeley.edu\\nÕªÒª',\n",
       "    'D.Hotpotqa£ºÒ»¸öÓÃÓÚ¶àÑù»¯¡¢¿É½âÊÍµÄ¶àÌøÎÊ´ðµÄÊý¾Ý¼¯¡£arXivÔ¤Ó¡±¾\\narXiv:1809.09600,2018.\\nZhou,C.,Liu,P.,Xu,P.,Iyer,S.,Sun,J.,Mao,Y.,Ma,X.,Efrat,A.,Yu,\\nP.,Yu,L.,µÈ.ÀûÂí:¶ÔÆëÊ±ÉÙ¼´ÊÇ¶à.arXivÔ¤Ó¡±¾arXiv:2305.11206,2023.\\n12']],\n",
       "  'title': [['placeholder_title',\n",
       "    'placeholder_title',\n",
       "    'placeholder_title',\n",
       "    'placeholder_title']]},\n",
       " 'oracle_context': 'Ô¤Ó¡±¾£¬ÕýÔÚÉó²é\\nRAFT£ºÊÊÓ¦ÌØ¶¨ÁìÓòµÄÓïÑÔÄ£ÐÍ\\nÕÅÌì¾ü*\\n¼ÓÖÝ´óÑ§²®¿ËÀû·ÖÐ£¼ÆËã»ú¿ÆÑ§\\nÏµ\\nÃÀ¹ú¼ÓÀû¸£ÄáÑÇÖÝ²®¿ËÀû\\nÊÐ£¬ÓÊ±à£º94720£¬µç×ÓÓÊ\\nÏä£º{tianjunz}@berkeley.\\neduShishirG.Patil¡¢NamanJain¡¢ShengShen\\n¼ÓÖÝ´óÑ§²®¿ËÀû·ÖÐ£¼ÆËã»ú¿ÆÑ§\\nÏµ\\nÃÀ¹ú¼ÓÀû¸£ÄáÑÇÖÝ²®¿ËÀûÊÐ£¬ÓÊ±à£º94720\\n{shishirpatil£¬naman_jain£¬sheng.s}@berkeley.\\nedu\\nMateiZaharia¡¢IonStoica¡¢JosephE.Gonzalez\\n¼ÓÖÝ´óÑ§²®¿ËÀû·ÖÐ£¼ÆËã»ú¿ÆÑ§\\nÏµ\\nÃÀ¹ú¼ÓÀû¸£ÄáÑÇÖÝ²®¿ËÀûÊÐ£¬ÓÊ±à£º94720\\n{matei,istoica,jegonzal}@berkeley.edu\\nÕªÒª',\n",
       " 'cot_answer': 'To answer the question about what RAFT is, we need to analyze the context provided. \\n\\nFirst, let\\'s identify any direct mention of RAFT in the context:\\n##begin_quote##RAFT:ÊÊÓ¦ÌØ¶¨ÁìÓòµÄÓïÑÔÄ£ÐÍ##end_quote##\\nThis line indicates that RAFT is described as a specific type of language model.\\n\\nNext, we can infer more details by examining the surrounding information. The context seems to be related to research or an academic setting, mentioning names and email addresses from UC Berkeley. However, there is no further elaboration on RAFT beyond its definition as a \"specific domain language model.\"\\n\\nBased on this analysis, we conclude that RAFT refers to a language model tailored for a particular domain.\\n\\n<ANSWER>: RAFT is a specific domain language model.',\n",
       " 'instruction': '<DOCUMENT>ÎÒÃÇÉè¼ÆÊµÑé£¬Ö¼ÔÚÆÀ¹ÀRAFTÓë¶àÖÖ»ùÏßÄ£ÐÍÏà±ÈµÄ±íÏÖ¡£ÑÐ¾¿·¢ÏÖ£¬¾\\xad¹ýÎ¢µ÷µÄLlaMA-2\\n°æ±¾¡ª¡ªRAFT-7B£¬ÔÚÔÄ¶ÁºÍÌáÈ¡ÁìÓòÄÚÎÄµµÐÅÏ¢·½Ãæ±íÏÖ¸ü¼Ñ£¬ÓÅÓÚÌØ¶¨ÁìÓòµÄÎ¢µ÷Ä£ÐÍ\\nºÍ½áºÏRAGµÄÍ¨ÓÃÄ£ÐÍ¡£´ËÍâ£¬ÎÒÃÇ»¹Í¨¹ýÏûÈÚÊµÑéÕ¹Ê¾ÁËÁ´Ê½Ë¼Î¬ÏìÓ¦¶ÔÄ£ÐÍÑ§Ï°µÄÖØÒª\\nÐÔ¡£ÔÚ±¾½ÚÖÐ£¬ÎÒÃÇ½«Ê×ÏÈ½éÉÜÊµÑéÖÐÊ¹ÓÃµÄËùÓÐÊý¾Ý¼¯£¬È»ºóÁÐ³öËùÓÐÓÃÓÚ¶Ô±ÈµÄ»ùÏß\\nÄ£ÐÍ¼°Î¢µ÷¼¼Êõ¡£\\n4Ô¤Ó¡±¾£¬ÕýÔÚÉó²éÖÐ\\n--------------------------------------------------------------------------------------ÎÊÌâ£ºOberoi¼Ò×åÊÇÄ³¾Æµê¹«Ë¾µÄ³ÉÔ±£¬¸Ã¹«Ë¾×Ü²¿Î»ÓÚÄÄ¸ö³ÇÊÐ£¿</DOCUMENT>\\n<DOCUMENT>Brown,T.,Mann,B.,Ryder,N.,Subbiah,M.,Kaplan,J.D.,Dhariwal,P.,\\nNeelakantan,A.,Shyam,P.,Sastry,G.,Askell,A.,µÈ.ÓïÑÔÄ£ÐÍÊÇÉÙÑù±¾Ñ§Ï°Õß.\\nÉñ¾\\xadÐÅÏ¢´¦ÀíÏµÍ³½øÕ¹,33:1877-1901,2020.\\nCarlini£¬N.£¬Liu£¬C.£¬Erlingsson£¬U.£¬Kos£¬J.ºÍSong£¬D.¡¶ÃØÃÜ·ÖÏíÕß£ºÆÀ¹ÀºÍ²âÊÔ\\nÉñ¾\\xadÍøÂçÖÐµÄ·ÇÔ¤ÆÚ¼ÇÒä¡·¡£µÚ28½ìUSENIX°²È«ÑÐÌÖ»á£¨USENIXSecurity19£©£¬µÚ267\\n-284Ò³£¬2019Äê¡£\\nCarlini,N.,Tramer,F.,Wallace,E.,Jagielski,M.,Herbert-Voss,A.,Lee,K.,\\nRoberts,A.,Brown,T.,Song,D.,Erlingsson,U.,etal.´Ó´óÐÍÓïÑÔÄ£ÐÍÖÐÌáÈ¡Ñµ</DOCUMENT>\\n<DOCUMENT>Ô¤Ó¡±¾£¬ÕýÔÚÉó²é\\nRAFT£ºÊÊÓ¦ÌØ¶¨ÁìÓòµÄÓïÑÔÄ£ÐÍ\\nÕÅÌì¾ü*\\n¼ÓÖÝ´óÑ§²®¿ËÀû·ÖÐ£¼ÆËã»ú¿ÆÑ§\\nÏµ\\nÃÀ¹ú¼ÓÀû¸£ÄáÑÇÖÝ²®¿ËÀû\\nÊÐ£¬ÓÊ±à£º94720£¬µç×ÓÓÊ\\nÏä£º{tianjunz}@berkeley.\\neduShishirG.Patil¡¢NamanJain¡¢ShengShen\\n¼ÓÖÝ´óÑ§²®¿ËÀû·ÖÐ£¼ÆËã»ú¿ÆÑ§\\nÏµ\\nÃÀ¹ú¼ÓÀû¸£ÄáÑÇÖÝ²®¿ËÀûÊÐ£¬ÓÊ±à£º94720\\n{shishirpatil£¬naman_jain£¬sheng.s}@berkeley.\\nedu\\nMateiZaharia¡¢IonStoica¡¢JosephE.Gonzalez\\n¼ÓÖÝ´óÑ§²®¿ËÀû·ÖÐ£¼ÆËã»ú¿ÆÑ§\\nÏµ\\nÃÀ¹ú¼ÓÀû¸£ÄáÑÇÖÝ²®¿ËÀûÊÐ£¬ÓÊ±à£º94720\\n{matei,istoica,jegonzal}@berkeley.edu\\nÕªÒª</DOCUMENT>\\n<DOCUMENT>D.Hotpotqa£ºÒ»¸öÓÃÓÚ¶àÑù»¯¡¢¿É½âÊÍµÄ¶àÌøÎÊ´ðµÄÊý¾Ý¼¯¡£arXivÔ¤Ó¡±¾\\narXiv:1809.09600,2018.\\nZhou,C.,Liu,P.,Xu,P.,Iyer,S.,Sun,J.,Mao,Y.,Ma,X.,Efrat,A.,Yu,\\nP.,Yu,L.,µÈ.ÀûÂí:¶ÔÆëÊ±ÉÙ¼´ÊÇ¶à.arXivÔ¤Ó¡±¾arXiv:2305.11206,2023.\\n12</DOCUMENT>\\nWhat is RAFT?  '}"
      ]
     },
     "execution_count": 4,
     "metadata": {},
     "output_type": "execute_result"
    }
   ],
   "source": [
    "dataset[0]"
   ]
  },
  {
   "cell_type": "code",
   "execution_count": 5,
   "id": "c634c27d",
   "metadata": {},
   "outputs": [
    {
     "data": {
      "text/plain": [
       "111"
      ]
     },
     "execution_count": 5,
     "metadata": {},
     "output_type": "execute_result"
    }
   ],
   "source": [
    "len(dataset)"
   ]
  },
  {
   "cell_type": "code",
   "execution_count": 6,
   "id": "6cff1901",
   "metadata": {},
   "outputs": [
    {
     "data": {
      "text/plain": [
       "{'id': '9967f23b-91ef-4b18-80ea-527d8f566a6b',\n",
       " 'type': 'general',\n",
       " 'question': '2. Xiong等人在2023年的研究主要关于什么？',\n",
       " 'context': {'sentences': [['Í¼4£ºRAFTÓëDSFµÄ¶Ô±È£ºÔÚHotPotQAÊý¾Ý¼¯ÉÏ£¬ÎÒÃÇ¿ÉÒÔ¿´µ½µ±ÎÊÌâÎÊµÄÊÇË\\xadÊÇ±à¾çÊ±£¬\\nDSFÄ£ÐÍ´ÓÉÏÏÂÎÄÖÐÌáÈ¡ÁË´íÎóµÄÐÅÏ¢£¬²¢»Ø´ðÁËÒ»¸öµçÓ°Ãû³Æ¡£¶øRAFTÔò³É¹¦µØ»ñµÃÁË×¼\\nÈ·µÄ½á¹û¡£\\n4.4ÎÒÃÇÊÇ·ñÓ¦¸ÃÊ¼ÖÕÊ¹ÓÃ»Æ½ðÉÏÏÂÎÄÀ´ÑµÁ·ÓÃÓÚRAGµÄLLM£¿\\nÔÚÌ½ÌÖ´óÐÍÓïÑÔÄ£ÐÍ£¨LLM£©ÊÇ·ñÓ¦Ê¼ÖÕÊ¹ÓÃ»Æ½ðÉÏÏÂÎÄ½øÐÐ¼ìË÷ÔöÇ¿Éú³É£¨RAG£©ÑµÁ·\\nÊ±£¬ÎÒÃÇ¹Ø×¢Ò»¸ö¹Ø¼üÎÊÌâ£ºÑµÁ·Êý¾ÝÖÐÓ¦°üº¬¶àÉÙ±ÈÀý£¨p%£©µÄ»Æ½ðÎÄµµ£¿Ö±¹ÛÉÏ£¬ÈË\\nÃÇ¿ÉÄÜ»áÈÏÎªÎªÁËÓÐÐ§ÑµÁ·ÔÄ¶ÁºÍ´ÓÉÏÏÂÎÄÖÐÌáÈ¡ÐÅÏ¢£¨ÀýÈç£¬RAGÈÎÎñ£©£¬ÑµÁ·¹ý³ÌÖÐÓ¦',\n",
       "    'ÖÐ¾ùÓÅÓÚ¼à¶½Î¢µ÷¡££¨2018£©£¬ÒÔ¼°HuggingFaceHub¡¢TorchHubºÍTensorflowHubGo-\\nrillaÊý¾Ý¼¯PatilµÈÈË£¨2023£©£¬Ìá³öÁËÒ»ÖÖÐÂÓ±¶ø¼òµ¥µÄ¼¼Êõ£¬ÒÔ¸Ä½øÔ¤ÑµÁ·µÄLLMÓÃÓÚ\\nÁìÓòÄÚRAG¡£ÎÒÃÇµÄ´úÂë¿ÉÔÚhttps://github.com/ShishirPatil/gorilla»ñÈ¡¡£\\n2¿ª·Å¿¼ÊÔµÄLLM\\nÎªÁË¸üºÃµØÀí½âÎÒÃÇµÄÄ¿±ê£¬ÎÒÃÇÀ©Õ¹ÁËÔÚ×¼±¸¿¼ÊÔµÄÏÖÊµÊÀ½ç»·¾³ÖÐÑµÁ·LLMµÄÀà±È¡£\\n±Õ¾í¿¼ÊÔÍ¨³£Ö¸µÄÊÇLLMµÄ¿¼ÊÔ\\nÔÚ´ËÆÚ¼ä£¬ÎÞ·¨·ÃÎÊÈÎºÎÆäËûÎÄ¼þ»ò²Î¿¼×ÊÁÏÀ´»Ø´ðÕâÐ©ÎÊÌâ\\n2Ô¤Ó¡±¾£¬ÕýÔÚÉó²éÖÐ\\nÍ¼2£ºÎÒÃÇµÄRAFT·½·¨¸ÅÀÀ¡£×óÉÏ½ÇµÄÍ¼Õ¹Ê¾ÁËÎÒÃÇÈçºÎ½«´óÓïÑÔÄ£ÐÍÊÊÓ¦ÓÚ´ÓÒ»×éÕýÎÄµµ',\n",
       "    '×¼±¸Ä£ÐÍÓ¦¶ÔÏÖÊµÊÀ½çÖÐ¿ÉÄÜÓöµ½µÄ¸÷ÖÖ³¡¾°µÄÖØÒªÐÔ¡£\\n6Ïà¹Ø×÷Æ·\\n¼ìË÷ÔöÇ¿ÓïÑÔÄ£ÐÍ£¨RALMs£©Í¨¹ý¼¯³ÉÒ»¸ö¼ìË÷Ä£¿é£¬¸ÃÄ£¿é´ÓÍâ²¿ÖªÊ¶¿âÖÐ»ñÈ¡Ïà¹ØÐÅ\\nÏ¢£¬ÏÔÖøÌáÉýÁË¸÷ÖÖ×ÔÈ»ÓïÑÔ´¦ÀíÈÎÎñµÄÐÔÄÜ£¬°üÀ¨ÓïÑÔ½¨Ä£(GuuµÈÈË£¬2020£»Borgeaud\\nµÈÈË£¬2022£»KhandelwalµÈÈË£¬2019£»ShiµÈÈË£¬2023d£»LinµÈÈË£¬2023b£»ShiµÈÈË£¬2023\\nc£»AsaiµÈÈË£¬2023£»XuµÈÈË£¬2023£»WangµÈÈË¡££¬2023)ºÍ¿ª·ÅÁìÓòÎÊ´ð£¨IzacardµÈ£¬\\n2023£»LewisµÈ£¬2020£©¡£ÀýÈç£¬Atlas£¨IzacardµÈ£¬2023£©Ê¹ÓÃ¼ìË÷Æ÷Î¢µ÷T5Ä£ÐÍ£¬½«ÎÄ',\n",
       "    'Î¤Ë¹¶Ù£¬J.ºÍËÕºÕ°ÍËþ¶û£¬S.¡¶ÏµÍ³2×¢ÒâÁ¦£¨Äã¿ÉÄÜÒ²ÐèÒª£©¡·¡£arXivÔ¤Ó¡±¾arXiv£º\\n2311.11829,2023Äê¡£\\nXiong,W.,Liu,J.,Molybog,I.,Zhang,H.,Bhargava,P.,Hou,R.,Martin,L.,\\nRungta,R.,Sankararaman,K.A.,Oguz,B.,etal.»ù´¡Ä£ÐÍµÄÓÐÐ§³¤ÉÏÏÂÎÄÀ©Õ¹.\\narXivÔ¤Ó¡±¾arXiv:2309.16039,2023.\\nÐìÅô£¬Æ½Î°£¬ÎâÏè£¬Âó¿¨·Æ£¬Öì³¿£¬ÁõÕñ£¬ËÕ²¼À\\xadÂíÄá°²£¬°ÍºÕÍ¼ÀïÄÈ£¬Ð¤ÒÁ±È£¬¿¨Ì¹Ôú\\nÂÞ¡£¼ìË÷Óë³¤ÉÏÏÂÎÄ´óÓïÑÔÄ£ÐÍµÄ½áºÏ¡£arXivÔ¤Ó¡±¾arXiv£º2310.03025,2023¡£\\nÑî£¬Z.£¬Æë£¬P.£¬ÕÅ£¬S.£¬±¾¼ª°Â£¬Y.£¬¿Æ¶÷£¬W.W.£¬ÈøÀ\\xadºÕ¶¡Åµ·ò£¬R.£¬ºÍÂüÄþ£¬C.']],\n",
       "  'title': [['placeholder_title',\n",
       "    'placeholder_title',\n",
       "    'placeholder_title',\n",
       "    'placeholder_title']]},\n",
       " 'oracle_context': 'Î¤Ë¹¶Ù£¬J.ºÍËÕºÕ°ÍËþ¶û£¬S.¡¶ÏµÍ³2×¢ÒâÁ¦£¨Äã¿ÉÄÜÒ²ÐèÒª£©¡·¡£arXivÔ¤Ó¡±¾arXiv£º\\n2311.11829,2023Äê¡£\\nXiong,W.,Liu,J.,Molybog,I.,Zhang,H.,Bhargava,P.,Hou,R.,Martin,L.,\\nRungta,R.,Sankararaman,K.A.,Oguz,B.,etal.»ù´¡Ä£ÐÍµÄÓÐÐ§³¤ÉÏÏÂÎÄÀ©Õ¹.\\narXivÔ¤Ó¡±¾arXiv:2309.16039,2023.\\nÐìÅô£¬Æ½Î°£¬ÎâÏè£¬Âó¿¨·Æ£¬Öì³¿£¬ÁõÕñ£¬ËÕ²¼À\\xadÂíÄá°²£¬°ÍºÕÍ¼ÀïÄÈ£¬Ð¤ÒÁ±È£¬¿¨Ì¹Ôú\\nÂÞ¡£¼ìË÷Óë³¤ÉÏÏÂÎÄ´óÓïÑÔÄ£ÐÍµÄ½áºÏ¡£arXivÔ¤Ó¡±¾arXiv£º2310.03025,2023¡£\\nÑî£¬Z.£¬Æë£¬P.£¬ÕÅ£¬S.£¬±¾¼ª°Â£¬Y.£¬¿Æ¶÷£¬W.W.£¬ÈøÀ\\xadºÕ¶¡Åµ·ò£¬R.£¬ºÍÂüÄþ£¬C.',\n",
       " 'cot_answer': 'To answer the question about Xiong and colleagues\\' 2023 research focus, we need to identify the relevant information from the context provided. \\n\\nStep 1: Locate the specific reference to Xiong\\'s work in the context.\\n- In the context, there is a clear mention of Xiong\\'s research: ##begin_quote## Xiong,W.,Liu,J.,Molybog,I.,Zhang,H.,Bhargava,P.,Hou,R.,Martin,L., Rungta,R.,Sankararaman,K.A.,Oguz,B.,etal.»ù´¡Ä£ÐÍµÄÓÐÐ§³¤ÉÏÏÂÎÄÀ©Õ¹. arXivÔ¤Ó¡±¾arXiv:2309.16039,2023. ##end_quote##\\n\\nStep 2: Translate and interpret the key phrase describing the research topic.\\n- The description \"»ù´¡Ä£ÐÍµÄÓÐÐ§³¤ÉÏÏÂÎÄÀ©Õ¹\" can be roughly translated as \"Effective expansion of long-range contextual models based on fundamental patterns.\" This suggests that the study focuses on expanding or improving models related to long-range contexts using foundational patterns.\\n\\nStep 3: Summarize the main theme of their research.\\n- Based on the interpretation, Xiong and colleagues\\' 2023 research primarily revolves around enhancing or extending models for long-range contextual understanding, likely within the domain of machine learning or natural language processing (NLP).\\n\\n<ANSWER>: Xiong and colleagues\\' 2023 research primarily focuses on the effective expansion of long-range contextual models based on fundamental patterns.',\n",
       " 'instruction': '<DOCUMENT>Í¼4£ºRAFTÓëDSFµÄ¶Ô±È£ºÔÚHotPotQAÊý¾Ý¼¯ÉÏ£¬ÎÒÃÇ¿ÉÒÔ¿´µ½µ±ÎÊÌâÎÊµÄÊÇË\\xadÊÇ±à¾çÊ±£¬\\nDSFÄ£ÐÍ´ÓÉÏÏÂÎÄÖÐÌáÈ¡ÁË´íÎóµÄÐÅÏ¢£¬²¢»Ø´ðÁËÒ»¸öµçÓ°Ãû³Æ¡£¶øRAFTÔò³É¹¦µØ»ñµÃÁË×¼\\nÈ·µÄ½á¹û¡£\\n4.4ÎÒÃÇÊÇ·ñÓ¦¸ÃÊ¼ÖÕÊ¹ÓÃ»Æ½ðÉÏÏÂÎÄÀ´ÑµÁ·ÓÃÓÚRAGµÄLLM£¿\\nÔÚÌ½ÌÖ´óÐÍÓïÑÔÄ£ÐÍ£¨LLM£©ÊÇ·ñÓ¦Ê¼ÖÕÊ¹ÓÃ»Æ½ðÉÏÏÂÎÄ½øÐÐ¼ìË÷ÔöÇ¿Éú³É£¨RAG£©ÑµÁ·\\nÊ±£¬ÎÒÃÇ¹Ø×¢Ò»¸ö¹Ø¼üÎÊÌâ£ºÑµÁ·Êý¾ÝÖÐÓ¦°üº¬¶àÉÙ±ÈÀý£¨p%£©µÄ»Æ½ðÎÄµµ£¿Ö±¹ÛÉÏ£¬ÈË\\nÃÇ¿ÉÄÜ»áÈÏÎªÎªÁËÓÐÐ§ÑµÁ·ÔÄ¶ÁºÍ´ÓÉÏÏÂÎÄÖÐÌáÈ¡ÐÅÏ¢£¨ÀýÈç£¬RAGÈÎÎñ£©£¬ÑµÁ·¹ý³ÌÖÐÓ¦</DOCUMENT>\\n<DOCUMENT>ÖÐ¾ùÓÅÓÚ¼à¶½Î¢µ÷¡££¨2018£©£¬ÒÔ¼°HuggingFaceHub¡¢TorchHubºÍTensorflowHubGo-\\nrillaÊý¾Ý¼¯PatilµÈÈË£¨2023£©£¬Ìá³öÁËÒ»ÖÖÐÂÓ±¶ø¼òµ¥µÄ¼¼Êõ£¬ÒÔ¸Ä½øÔ¤ÑµÁ·µÄLLMÓÃÓÚ\\nÁìÓòÄÚRAG¡£ÎÒÃÇµÄ´úÂë¿ÉÔÚhttps://github.com/ShishirPatil/gorilla»ñÈ¡¡£\\n2¿ª·Å¿¼ÊÔµÄLLM\\nÎªÁË¸üºÃµØÀí½âÎÒÃÇµÄÄ¿±ê£¬ÎÒÃÇÀ©Õ¹ÁËÔÚ×¼±¸¿¼ÊÔµÄÏÖÊµÊÀ½ç»·¾³ÖÐÑµÁ·LLMµÄÀà±È¡£\\n±Õ¾í¿¼ÊÔÍ¨³£Ö¸µÄÊÇLLMµÄ¿¼ÊÔ\\nÔÚ´ËÆÚ¼ä£¬ÎÞ·¨·ÃÎÊÈÎºÎÆäËûÎÄ¼þ»ò²Î¿¼×ÊÁÏÀ´»Ø´ðÕâÐ©ÎÊÌâ\\n2Ô¤Ó¡±¾£¬ÕýÔÚÉó²éÖÐ\\nÍ¼2£ºÎÒÃÇµÄRAFT·½·¨¸ÅÀÀ¡£×óÉÏ½ÇµÄÍ¼Õ¹Ê¾ÁËÎÒÃÇÈçºÎ½«´óÓïÑÔÄ£ÐÍÊÊÓ¦ÓÚ´ÓÒ»×éÕýÎÄµµ</DOCUMENT>\\n<DOCUMENT>×¼±¸Ä£ÐÍÓ¦¶ÔÏÖÊµÊÀ½çÖÐ¿ÉÄÜÓöµ½µÄ¸÷ÖÖ³¡¾°µÄÖØÒªÐÔ¡£\\n6Ïà¹Ø×÷Æ·\\n¼ìË÷ÔöÇ¿ÓïÑÔÄ£ÐÍ£¨RALMs£©Í¨¹ý¼¯³ÉÒ»¸ö¼ìË÷Ä£¿é£¬¸ÃÄ£¿é´ÓÍâ²¿ÖªÊ¶¿âÖÐ»ñÈ¡Ïà¹ØÐÅ\\nÏ¢£¬ÏÔÖøÌáÉýÁË¸÷ÖÖ×ÔÈ»ÓïÑÔ´¦ÀíÈÎÎñµÄÐÔÄÜ£¬°üÀ¨ÓïÑÔ½¨Ä£(GuuµÈÈË£¬2020£»Borgeaud\\nµÈÈË£¬2022£»KhandelwalµÈÈË£¬2019£»ShiµÈÈË£¬2023d£»LinµÈÈË£¬2023b£»ShiµÈÈË£¬2023\\nc£»AsaiµÈÈË£¬2023£»XuµÈÈË£¬2023£»WangµÈÈË¡££¬2023)ºÍ¿ª·ÅÁìÓòÎÊ´ð£¨IzacardµÈ£¬\\n2023£»LewisµÈ£¬2020£©¡£ÀýÈç£¬Atlas£¨IzacardµÈ£¬2023£©Ê¹ÓÃ¼ìË÷Æ÷Î¢µ÷T5Ä£ÐÍ£¬½«ÎÄ</DOCUMENT>\\n<DOCUMENT>Î¤Ë¹¶Ù£¬J.ºÍËÕºÕ°ÍËþ¶û£¬S.¡¶ÏµÍ³2×¢ÒâÁ¦£¨Äã¿ÉÄÜÒ²ÐèÒª£©¡·¡£arXivÔ¤Ó¡±¾arXiv£º\\n2311.11829,2023Äê¡£\\nXiong,W.,Liu,J.,Molybog,I.,Zhang,H.,Bhargava,P.,Hou,R.,Martin,L.,\\nRungta,R.,Sankararaman,K.A.,Oguz,B.,etal.»ù´¡Ä£ÐÍµÄÓÐÐ§³¤ÉÏÏÂÎÄÀ©Õ¹.\\narXivÔ¤Ó¡±¾arXiv:2309.16039,2023.\\nÐìÅô£¬Æ½Î°£¬ÎâÏè£¬Âó¿¨·Æ£¬Öì³¿£¬ÁõÕñ£¬ËÕ²¼À\\xadÂíÄá°²£¬°ÍºÕÍ¼ÀïÄÈ£¬Ð¤ÒÁ±È£¬¿¨Ì¹Ôú\\nÂÞ¡£¼ìË÷Óë³¤ÉÏÏÂÎÄ´óÓïÑÔÄ£ÐÍµÄ½áºÏ¡£arXivÔ¤Ó¡±¾arXiv£º2310.03025,2023¡£\\nÑî£¬Z.£¬Æë£¬P.£¬ÕÅ£¬S.£¬±¾¼ª°Â£¬Y.£¬¿Æ¶÷£¬W.W.£¬ÈøÀ\\xadºÕ¶¡Åµ·ò£¬R.£¬ºÍÂüÄþ£¬C.</DOCUMENT>\\n2. Xiong等人在2023年的研究主要关于什么？'}"
      ]
     },
     "execution_count": 6,
     "metadata": {},
     "output_type": "execute_result"
    }
   ],
   "source": [
    "dataset[100]"
   ]
  },
  {
   "cell_type": "code",
   "execution_count": 1,
   "id": "3c12e983",
   "metadata": {},
   "outputs": [
    {
     "name": "stderr",
     "output_type": "stream",
     "text": [
      "d:\\Miniconda3\\envs\\raft\\lib\\site-packages\\tqdm\\auto.py:21: TqdmWarning: IProgress not found. Please update jupyter and ipywidgets. See https://ipywidgets.readthedocs.io/en/stable/user_install.html\n",
      "  from .autonotebook import tqdm as notebook_tqdm\n"
     ]
    }
   ],
   "source": [
    "from datasets import load_from_disk\n",
    "dataset_chunks = load_from_disk(\"outputs-checkpoints/chunks\")"
   ]
  },
  {
   "cell_type": "code",
   "execution_count": 26,
   "id": "5cf6f58e",
   "metadata": {},
   "outputs": [
    {
     "data": {
      "text/plain": [
       "56"
      ]
     },
     "execution_count": 26,
     "metadata": {},
     "output_type": "execute_result"
    }
   ],
   "source": [
    "len(dataset_chunks)"
   ]
  },
  {
   "cell_type": "code",
   "execution_count": null,
   "id": "07d4f8e9",
   "metadata": {},
   "outputs": [],
   "source": [
    "import chardet\n",
    "\n",
    "result = chardet.detect(bytes_data)\n",
    "encoding = result['encoding']\n",
    "print(encoding)\n",
    "decoded_text = bytes_data.decode(encoding)"
   ]
  },
  {
   "cell_type": "code",
   "execution_count": 43,
   "id": "1b055018",
   "metadata": {},
   "outputs": [
    {
     "name": "stdout",
     "output_type": "stream",
     "text": [
      "Error decoding chunk 29: 'latin-1' codec can't encode characters in position 131-167: ordinal not in range(256)\n"
     ]
    },
    {
     "data": {
      "text/plain": [
       "(55,\n",
       " '预印本，正在审查\\nRAFT：适应特定领域的语言模型\\n张天军*\\n加州大学伯克利分校计算机科学\\n系\\n美国加利福尼亚州伯克利\\n市，邮编：94720，电子邮\\n箱：{tianjunz}@berkeley.\\neduShishirG.Patil、NamanJain、ShengShen\\n加州大学伯克利分校计算机科学\\n系\\n美国加利福尼亚州伯克利市，邮编：94720\\n{shishirpatil，naman_jain，sheng.s}@berkeley.\\nedu\\nMateiZaharia、IonStoica、JosephE.Gonzalez\\n加州大学伯克利分校计算机科学\\n系\\n美国加利福尼亚州伯克利市，邮编：94720\\n{matei,istoica,jegonzal}@berkeley.edu\\n摘要')"
      ]
     },
     "execution_count": 43,
     "metadata": {},
     "output_type": "execute_result"
    }
   ],
   "source": [
    "import chardet\n",
    "chunks_trans = []\n",
    "for idx, dataset_chunk in enumerate(dataset_chunks):\n",
    "    chunk = dataset_chunk[\"chunk\"]\n",
    "    # print(f\"chunk idx:  {idx}\")\n",
    "    try:\n",
    "        if isinstance(chunk, str):\n",
    "            # chunk_bytes = chunk.encode('utf-8', errors='ignore')\n",
    "            chunk_bytes = chunk.encode('ISO-8859-1')\n",
    "            # chunk_bytes = chunk.encode('ISO-8859-1', errors='ignore')\n",
    "        result = chardet.detect(chunk_bytes)    \n",
    "        encoding = result['encoding']\n",
    "        decoded_text = chunk_bytes.decode(encoding or \"utf-8\", errors='ignore')\n",
    "        chunks_trans.append(decoded_text)\n",
    "        # bytes_data = chunk.encode('ISO-8859-1')\n",
    "        # result = chardet.detect(bytes_data)\n",
    "        # decoded_text = bytes_data.decode('GB2312')\n",
    "        # utf8_bytes = decoded_text.encode('UTF-8')\n",
    "        # decoded_chunk = utf8_bytes.decode('UTF-8')\n",
    "        # chunks_trans.append(decoded_chunk)\n",
    "    except Exception as e:\n",
    "        print(f\"Error decoding chunk {idx}: {e}\")\n",
    "        # chunks_trans.append(chunk)\n",
    "len(chunks_trans), chunks_trans[0]"
   ]
  },
  {
   "cell_type": "code",
   "execution_count": null,
   "id": "d532ec33",
   "metadata": {},
   "outputs": [
    {
     "data": {
      "text/plain": [
       "'GB2312'"
      ]
     },
     "execution_count": 40,
     "metadata": {},
     "output_type": "execute_result"
    }
   ],
   "source": [
    "chunk28 = dataset_chunks[28][\"chunk\"]\n",
    "chunk29 = dataset_chunks[29][\"chunk\"]\n",
    "chunk45 = dataset_chunks[45][\"chunk\"]\n",
    "chunk_bytes28 = chunk28.encode('ISO-8859-1')\n",
    "result = chardet.detect(chunk_bytes28) \n",
    "result['encoding'] "
   ]
  },
  {
   "cell_type": "code",
   "execution_count": 42,
   "id": "06b1863c",
   "metadata": {},
   "outputs": [
    {
     "data": {
      "text/plain": [
       "'名，而是错误地引用了该编剧所写的其中一部电影。相比之下，RAFT模型准确地回答了问\\n题。这种差异表明，仅用问答对训练模型可能会削弱其从提供的文档中提取相关上下文的\\n能力。这一对比强调了在训练数据集中结合标准指令调优和上下文理解的重要性，以保持\\n并增强模型有效处理文本的能力。\\nHotPot质量保证部\\n问题：哪位编剧曾为尼古拉斯房奇和蒂娅防嘲履嶂餮莸牡缬啊督化》[0/1879]写\\n过剧本？\\n文件：...David魏斯曼是一名编剧和导演。他的电影作品包括《家庭男人》（2000\\n年）、《进化》（2001年），和《当我在罗马》（2010年）。\\n...'"
      ]
     },
     "execution_count": 42,
     "metadata": {},
     "output_type": "execute_result"
    }
   ],
   "source": [
    "chunk_decode = chunk_bytes.decode('GB2312', errors='ignore')\n",
    "chunk_decode"
   ]
  },
  {
   "cell_type": "code",
   "execution_count": 48,
   "id": "e3f5fd37",
   "metadata": {},
   "outputs": [
    {
     "data": {
      "text/plain": [
       "'utf-8'"
      ]
     },
     "execution_count": 48,
     "metadata": {},
     "output_type": "execute_result"
    }
   ],
   "source": [
    "chunk_bytes29 = chunk29.encode('utf-8')\n",
    "result = chardet.detect(chunk_bytes29) \n",
    "result['encoding'] "
   ]
  },
  {
   "cell_type": "code",
   "execution_count": 55,
   "id": "a112b7f0",
   "metadata": {},
   "outputs": [
    {
     "ename": "UnicodeDecodeError",
     "evalue": "'gb2312' codec can't decode byte 0xc3 in position 6: illegal multibyte sequence",
     "output_type": "error",
     "traceback": [
      "\u001b[1;31m---------------------------------------------------------------------------\u001b[0m",
      "\u001b[1;31mUnicodeDecodeError\u001b[0m                        Traceback (most recent call last)",
      "Cell \u001b[1;32mIn[55], line 2\u001b[0m\n\u001b[0;32m      1\u001b[0m \u001b[38;5;66;03m# chunk_decode = chunk_bytes29.decode('utf-8')\u001b[39;00m\n\u001b[1;32m----> 2\u001b[0m chunk_decode \u001b[38;5;241m=\u001b[39m \u001b[43mchunk_bytes29\u001b[49m\u001b[38;5;241;43m.\u001b[39;49m\u001b[43mdecode\u001b[49m\u001b[43m(\u001b[49m\u001b[38;5;124;43m'\u001b[39;49m\u001b[38;5;124;43mGB2312\u001b[39;49m\u001b[38;5;124;43m'\u001b[39;49m\u001b[43m)\u001b[49m\n\u001b[0;32m      3\u001b[0m \u001b[38;5;66;03m# chunk_decode = chunk_bytes29.decode('ISO-8859-1')\u001b[39;00m\n\u001b[0;32m      4\u001b[0m \u001b[38;5;66;03m# chunk_decode = chunk_bytes29.decode('ISO-8859-1', errors='ignore')\u001b[39;00m\n\u001b[0;32m      5\u001b[0m chunk_decode\n",
      "\u001b[1;31mUnicodeDecodeError\u001b[0m: 'gb2312' codec can't decode byte 0xc3 in position 6: illegal multibyte sequence"
     ]
    }
   ],
   "source": [
    "# chunk_decode = chunk_bytes29.decode('utf-8')\n",
    "chunk_decode = chunk_bytes29.decode('GB2312')\n",
    "# chunk_decode = chunk_bytes29.decode('ISO-8859-1')\n",
    "# chunk_decode = chunk_bytes29.decode('ISO-8859-1', errors='ignore')\n",
    "chunk_decode"
   ]
  },
  {
   "cell_type": "code",
   "execution_count": 35,
   "id": "c15ea7b5",
   "metadata": {},
   "outputs": [
    {
     "data": {
      "text/plain": [
       "'在大型文本数据集上预训练大型语言模型（LLMs）已成为标准做法。在将\\n这些模型应用于多种下游应用时，通常会通过基于RAG的提示或微调来向预\\n训练模型中添加新信息。然而，如何最有效地整合这些信息仍然是一个未\\n解之谜。本文介绍了一种名为检索增强微调（RAFT）的新方法，该方法能\\n够提升模型在‘开放书’领域内回答问题的能力。在训练RAFT时，给定一\\n个问题和一组检索到的文档，模型会被训练忽略那些无助于解答问题的文\\n档，即所谓的干扰文档。RAFT通过逐字引用相关文档中的正确序列来帮助\\n回答问题。'"
      ]
     },
     "execution_count": 35,
     "metadata": {},
     "output_type": "execute_result"
    }
   ],
   "source": [
    "chunks_trans[1]"
   ]
  },
  {
   "cell_type": "code",
   "execution_count": 21,
   "id": "3b35ca76",
   "metadata": {},
   "outputs": [
    {
     "name": "stderr",
     "output_type": "stream",
     "text": [
      "Creating CSV from Arrow format: 100%|██████████| 1/1 [00:00<00:00,  2.77ba/s]\n"
     ]
    }
   ],
   "source": [
    "# 转换为 csv格式\n",
    "import json\n",
    "import csv\n",
    "\n",
    "dataset_chunks_csv = dataset_chunks.to_csv(\"temp/dataset_chunks.csv\")"
   ]
  },
  {
   "cell_type": "code",
   "execution_count": 8,
   "id": "e49cb961",
   "metadata": {},
   "outputs": [
    {
     "data": {
      "text/plain": [
       "{'chunk': 'Ô¤Ó¡±¾£¬ÕýÔÚÉó²é\\nRAFT£ºÊÊÓ¦ÌØ¶¨ÁìÓòµÄÓïÑÔÄ£ÐÍ\\nÕÅÌì¾ü*\\n¼ÓÖÝ´óÑ§²®¿ËÀû·ÖÐ£¼ÆËã»ú¿ÆÑ§\\nÏµ\\nÃÀ¹ú¼ÓÀû¸£ÄáÑÇÖÝ²®¿ËÀû\\nÊÐ£¬ÓÊ±à£º94720£¬µç×ÓÓÊ\\nÏä£º{tianjunz}@berkeley.\\neduShishirG.Patil¡¢NamanJain¡¢ShengShen\\n¼ÓÖÝ´óÑ§²®¿ËÀû·ÖÐ£¼ÆËã»ú¿ÆÑ§\\nÏµ\\nÃÀ¹ú¼ÓÀû¸£ÄáÑÇÖÝ²®¿ËÀûÊÐ£¬ÓÊ±à£º94720\\n{shishirpatil£¬naman_jain£¬sheng.s}@berkeley.\\nedu\\nMateiZaharia¡¢IonStoica¡¢JosephE.Gonzalez\\n¼ÓÖÝ´óÑ§²®¿ËÀû·ÖÐ£¼ÆËã»ú¿ÆÑ§\\nÏµ\\nÃÀ¹ú¼ÓÀû¸£ÄáÑÇÖÝ²®¿ËÀûÊÐ£¬ÓÊ±à£º94720\\n{matei,istoica,jegonzal}@berkeley.edu\\nÕªÒª'}"
      ]
     },
     "execution_count": 8,
     "metadata": {},
     "output_type": "execute_result"
    }
   ],
   "source": [
    "dataset_chunks[0]"
   ]
  },
  {
   "cell_type": "code",
   "execution_count": 20,
   "id": "497fc4f6",
   "metadata": {},
   "outputs": [
    {
     "data": {
      "text/plain": [
       "dict_keys(['chunk'])"
      ]
     },
     "execution_count": 20,
     "metadata": {},
     "output_type": "execute_result"
    }
   ],
   "source": [
    "dataset_chunks[0].keys()"
   ]
  },
  {
   "cell_type": "code",
   "execution_count": 2,
   "id": "47432c30",
   "metadata": {},
   "outputs": [],
   "source": [
    "chunk = dataset_chunks[0][\"chunk\"]"
   ]
  },
  {
   "cell_type": "code",
   "execution_count": 10,
   "id": "20226ecf",
   "metadata": {},
   "outputs": [
    {
     "data": {
      "text/plain": [
       "'Ô¤Ó¡±¾£¬ÕýÔÚÉó²é\\nRAFT£ºÊÊÓ¦ÌØ¶¨ÁìÓòµÄÓïÑÔÄ£ÐÍ\\nÕÅÌì¾ü*\\n¼ÓÖÝ´óÑ§²®¿ËÀû·ÖÐ£¼ÆËã»ú¿ÆÑ§\\nÏµ\\nÃÀ¹ú¼ÓÀû¸£ÄáÑÇÖÝ²®¿ËÀû\\nÊÐ£¬ÓÊ±à£º94720£¬µç×ÓÓÊ\\nÏä£º{tianjunz}@berkeley.\\neduShishirG.Patil¡¢NamanJain¡¢ShengShen\\n¼ÓÖÝ´óÑ§²®¿ËÀû·ÖÐ£¼ÆËã»ú¿ÆÑ§\\nÏµ\\nÃÀ¹ú¼ÓÀû¸£ÄáÑÇÖÝ²®¿ËÀûÊÐ£¬ÓÊ±à£º94720\\n{shishirpatil£¬naman_jain£¬sheng.s}@berkeley.\\nedu\\nMateiZaharia¡¢IonStoica¡¢JosephE.Gonzalez\\n¼ÓÖÝ´óÑ§²®¿ËÀû·ÖÐ£¼ÆËã»ú¿ÆÑ§\\nÏµ\\nÃÀ¹ú¼ÓÀû¸£ÄáÑÇÖÝ²®¿ËÀûÊÐ£¬ÓÊ±à£º94720\\n{matei,istoica,jegonzal}@berkeley.edu\\nÕªÒª'"
      ]
     },
     "execution_count": 10,
     "metadata": {},
     "output_type": "execute_result"
    }
   ],
   "source": [
    "chunk"
   ]
  },
  {
   "cell_type": "code",
   "execution_count": 15,
   "id": "cab1a618",
   "metadata": {},
   "outputs": [
    {
     "name": "stdout",
     "output_type": "stream",
     "text": [
      "预印本，正在审查\n",
      "RAFT：适应特定领域的语言模型\n",
      "张天军*\n",
      "加州大学伯克利分校计算机科学\n",
      "系\n",
      "美国加利福尼亚州伯克利\n",
      "市，邮编：94720，电子邮\n",
      "箱：{tianjunz}@berkeley.\n",
      "eduShishirG.Patil、NamanJain、ShengShen\n",
      "加州大学伯克利分校计算机科学\n",
      "系\n",
      "美国加利福尼亚州伯克利市，邮编：94720\n",
      "{shishirpatil，naman_jain，sheng.s}@berkeley.\n",
      "edu\n",
      "MateiZaharia、IonStoica、JosephE.Gonzalez\n",
      "加州大学伯克利分校计算机科学\n",
      "系\n",
      "美国加利福尼亚州伯克利市，邮编：94720\n",
      "{matei,istoica,jegonzal}@berkeley.edu\n",
      "摘要\n"
     ]
    }
   ],
   "source": [
    "bytes_data = chunk.encode('ISO-8859-1')\n",
    "decoded_text = bytes_data.decode('GB2312')\n",
    "print(decoded_text)"
   ]
  },
  {
   "cell_type": "code",
   "execution_count": 16,
   "id": "e58bf64a",
   "metadata": {},
   "outputs": [],
   "source": [
    "# bytes_data = chunk.encode('ISO-8859-1')\n",
    "# unicode_str = bytes_data.decode('ISO-8859-1')\n",
    "# utf8_bytes = unicode_str.encode('UTF-8')\n",
    "utf8_bytes = decoded_text.encode('UTF-8')"
   ]
  },
  {
   "cell_type": "code",
   "execution_count": 17,
   "id": "e841291c",
   "metadata": {},
   "outputs": [
    {
     "data": {
      "text/plain": [
       "b'\\xe9\\xa2\\x84\\xe5\\x8d\\xb0\\xe6\\x9c\\xac\\xef\\xbc\\x8c\\xe6\\xad\\xa3\\xe5\\x9c\\xa8\\xe5\\xae\\xa1\\xe6\\x9f\\xa5\\nRAFT\\xef\\xbc\\x9a\\xe9\\x80\\x82\\xe5\\xba\\x94\\xe7\\x89\\xb9\\xe5\\xae\\x9a\\xe9\\xa2\\x86\\xe5\\x9f\\x9f\\xe7\\x9a\\x84\\xe8\\xaf\\xad\\xe8\\xa8\\x80\\xe6\\xa8\\xa1\\xe5\\x9e\\x8b\\n\\xe5\\xbc\\xa0\\xe5\\xa4\\xa9\\xe5\\x86\\x9b*\\n\\xe5\\x8a\\xa0\\xe5\\xb7\\x9e\\xe5\\xa4\\xa7\\xe5\\xad\\xa6\\xe4\\xbc\\xaf\\xe5\\x85\\x8b\\xe5\\x88\\xa9\\xe5\\x88\\x86\\xe6\\xa0\\xa1\\xe8\\xae\\xa1\\xe7\\xae\\x97\\xe6\\x9c\\xba\\xe7\\xa7\\x91\\xe5\\xad\\xa6\\n\\xe7\\xb3\\xbb\\n\\xe7\\xbe\\x8e\\xe5\\x9b\\xbd\\xe5\\x8a\\xa0\\xe5\\x88\\xa9\\xe7\\xa6\\x8f\\xe5\\xb0\\xbc\\xe4\\xba\\x9a\\xe5\\xb7\\x9e\\xe4\\xbc\\xaf\\xe5\\x85\\x8b\\xe5\\x88\\xa9\\n\\xe5\\xb8\\x82\\xef\\xbc\\x8c\\xe9\\x82\\xae\\xe7\\xbc\\x96\\xef\\xbc\\x9a94720\\xef\\xbc\\x8c\\xe7\\x94\\xb5\\xe5\\xad\\x90\\xe9\\x82\\xae\\n\\xe7\\xae\\xb1\\xef\\xbc\\x9a{tianjunz}@berkeley.\\neduShishirG.Patil\\xe3\\x80\\x81NamanJain\\xe3\\x80\\x81ShengShen\\n\\xe5\\x8a\\xa0\\xe5\\xb7\\x9e\\xe5\\xa4\\xa7\\xe5\\xad\\xa6\\xe4\\xbc\\xaf\\xe5\\x85\\x8b\\xe5\\x88\\xa9\\xe5\\x88\\x86\\xe6\\xa0\\xa1\\xe8\\xae\\xa1\\xe7\\xae\\x97\\xe6\\x9c\\xba\\xe7\\xa7\\x91\\xe5\\xad\\xa6\\n\\xe7\\xb3\\xbb\\n\\xe7\\xbe\\x8e\\xe5\\x9b\\xbd\\xe5\\x8a\\xa0\\xe5\\x88\\xa9\\xe7\\xa6\\x8f\\xe5\\xb0\\xbc\\xe4\\xba\\x9a\\xe5\\xb7\\x9e\\xe4\\xbc\\xaf\\xe5\\x85\\x8b\\xe5\\x88\\xa9\\xe5\\xb8\\x82\\xef\\xbc\\x8c\\xe9\\x82\\xae\\xe7\\xbc\\x96\\xef\\xbc\\x9a94720\\n{shishirpatil\\xef\\xbc\\x8cnaman_jain\\xef\\xbc\\x8csheng.s}@berkeley.\\nedu\\nMateiZaharia\\xe3\\x80\\x81IonStoica\\xe3\\x80\\x81JosephE.Gonzalez\\n\\xe5\\x8a\\xa0\\xe5\\xb7\\x9e\\xe5\\xa4\\xa7\\xe5\\xad\\xa6\\xe4\\xbc\\xaf\\xe5\\x85\\x8b\\xe5\\x88\\xa9\\xe5\\x88\\x86\\xe6\\xa0\\xa1\\xe8\\xae\\xa1\\xe7\\xae\\x97\\xe6\\x9c\\xba\\xe7\\xa7\\x91\\xe5\\xad\\xa6\\n\\xe7\\xb3\\xbb\\n\\xe7\\xbe\\x8e\\xe5\\x9b\\xbd\\xe5\\x8a\\xa0\\xe5\\x88\\xa9\\xe7\\xa6\\x8f\\xe5\\xb0\\xbc\\xe4\\xba\\x9a\\xe5\\xb7\\x9e\\xe4\\xbc\\xaf\\xe5\\x85\\x8b\\xe5\\x88\\xa9\\xe5\\xb8\\x82\\xef\\xbc\\x8c\\xe9\\x82\\xae\\xe7\\xbc\\x96\\xef\\xbc\\x9a94720\\n{matei,istoica,jegonzal}@berkeley.edu\\n\\xe6\\x91\\x98\\xe8\\xa6\\x81'"
      ]
     },
     "execution_count": 17,
     "metadata": {},
     "output_type": "execute_result"
    }
   ],
   "source": [
    "utf8_bytes"
   ]
  },
  {
   "cell_type": "code",
   "execution_count": 18,
   "id": "af4e9a9f",
   "metadata": {},
   "outputs": [
    {
     "data": {
      "text/plain": [
       "'预印本，正在审查\\nRAFT：适应特定领域的语言模型\\n张天军*\\n加州大学伯克利分校计算机科学\\n系\\n美国加利福尼亚州伯克利\\n市，邮编：94720，电子邮\\n箱：{tianjunz}@berkeley.\\neduShishirG.Patil、NamanJain、ShengShen\\n加州大学伯克利分校计算机科学\\n系\\n美国加利福尼亚州伯克利市，邮编：94720\\n{shishirpatil，naman_jain，sheng.s}@berkeley.\\nedu\\nMateiZaharia、IonStoica、JosephE.Gonzalez\\n加州大学伯克利分校计算机科学\\n系\\n美国加利福尼亚州伯克利市，邮编：94720\\n{matei,istoica,jegonzal}@berkeley.edu\\n摘要'"
      ]
     },
     "execution_count": 18,
     "metadata": {},
     "output_type": "execute_result"
    }
   ],
   "source": [
    "utf8_bytes.decode(\"utf-8\")"
   ]
  },
  {
   "cell_type": "code",
   "execution_count": 11,
   "id": "e7250df3",
   "metadata": {},
   "outputs": [
    {
     "data": {
      "text/plain": [
       "'Ԥӡ\\nRAFTӦضģ\\n*\\nݴѧУѧ\\nϵ\\nݲ\\nУʱࣺ94720\\n䣺{tianjunz}@berkeley.\\neduShishirG.PatilNamanJainShengShen\\nݴѧУѧ\\nϵ\\nݲУʱࣺ94720\\n{shishirpatilnaman_jainsheng.s}@berkeley.\\nedu\\nMateiZahariaIonStoicaJosephE.Gonzalez\\nݴѧУѧ\\nϵ\\nݲУʱࣺ94720\\n{matei,istoica,jegonzal}@berkeley.edu\\nժҪ'"
      ]
     },
     "execution_count": 11,
     "metadata": {},
     "output_type": "execute_result"
    }
   ],
   "source": [
    "decoded_text = bytes_data.decode('UTF-8', errors='ignore')\n",
    "decoded_text"
   ]
  },
  {
   "cell_type": "code",
   "execution_count": 14,
   "id": "1881825a",
   "metadata": {},
   "outputs": [
    {
     "data": {
      "text/plain": [
       "'预印本，正在审查\\nRAFT：适应特定领域的语言模型\\n张天军*\\n加州大学伯克利分校计算机科学\\n系\\n美国加利福尼亚州伯克利\\n市，邮编：94720，电子邮\\n箱：{tianjunz}@berkeley.\\neduShishirG.Patil、NamanJain、ShengShen\\n加州大学伯克利分校计算机科学\\n系\\n美国加利福尼亚州伯克利市，邮编：94720\\n{shishirpatil，naman_jain，sheng.s}@berkeley.\\nedu\\nMateiZaharia、IonStoica、JosephE.Gonzalez\\n加州大学伯克利分校计算机科学\\n系\\n美国加利福尼亚州伯克利市，邮编：94720\\n{matei,istoica,jegonzal}@berkeley.edu\\n摘要'"
      ]
     },
     "execution_count": 14,
     "metadata": {},
     "output_type": "execute_result"
    }
   ],
   "source": [
    "decoded_text = bytes_data.decode('GB2312', errors='ignore')\n",
    "decoded_text"
   ]
  },
  {
   "cell_type": "code",
   "execution_count": 4,
   "id": "a1c390a3",
   "metadata": {},
   "outputs": [
    {
     "name": "stdout",
     "output_type": "stream",
     "text": [
      "GB2312\n"
     ]
    }
   ],
   "source": [
    "import chardet\n",
    "\n",
    "result = chardet.detect(bytes_data)\n",
    "encoding = result['encoding']\n",
    "print(encoding)\n",
    "decoded_text = bytes_data.decode(encoding)"
   ]
  },
  {
   "cell_type": "code",
   "execution_count": 13,
   "id": "1aed3fdc",
   "metadata": {},
   "outputs": [
    {
     "ename": "UnicodeEncodeError",
     "evalue": "'gb2312' codec can't encode character '\\xd4' in position 0: illegal multibyte sequence",
     "output_type": "error",
     "traceback": [
      "\u001b[1;31m---------------------------------------------------------------------------\u001b[0m",
      "\u001b[1;31mUnicodeEncodeError\u001b[0m                        Traceback (most recent call last)",
      "Cell \u001b[1;32mIn[13], line 1\u001b[0m\n\u001b[1;32m----> 1\u001b[0m bytes_data \u001b[38;5;241m=\u001b[39m \u001b[43mchunk\u001b[49m\u001b[38;5;241;43m.\u001b[39;49m\u001b[43mencode\u001b[49m\u001b[43m(\u001b[49m\u001b[38;5;124;43m'\u001b[39;49m\u001b[38;5;124;43mGB2312\u001b[39;49m\u001b[38;5;124;43m'\u001b[39;49m\u001b[43m)\u001b[49m\n",
      "\u001b[1;31mUnicodeEncodeError\u001b[0m: 'gb2312' codec can't encode character '\\xd4' in position 0: illegal multibyte sequence"
     ]
    }
   ],
   "source": [
    "bytes_data = chunk.encode('GB2312')\n"
   ]
  },
  {
   "cell_type": "code",
   "execution_count": 22,
   "id": "4c02505a",
   "metadata": {},
   "outputs": [],
   "source": [
    "from datasets import load_from_disk\n",
    "dataset_questions_0 = load_from_disk(\"outputs-checkpoints/questions/checkpoint-0\")"
   ]
  },
  {
   "cell_type": "code",
   "execution_count": 23,
   "id": "395fd465",
   "metadata": {},
   "outputs": [
    {
     "data": {
      "text/plain": [
       "{'chunk': 'Ô¤Ó¡±¾£¬ÕýÔÚÉó²é\\nRAFT£ºÊÊÓ¦ÌØ¶¨ÁìÓòµÄÓïÑÔÄ£ÐÍ\\nÕÅÌì¾ü*\\n¼ÓÖÝ´óÑ§²®¿ËÀû·ÖÐ£¼ÆËã»ú¿ÆÑ§\\nÏµ\\nÃÀ¹ú¼ÓÀû¸£ÄáÑÇÖÝ²®¿ËÀû\\nÊÐ£¬ÓÊ±à£º94720£¬µç×ÓÓÊ\\nÏä£º{tianjunz}@berkeley.\\neduShishirG.Patil¡¢NamanJain¡¢ShengShen\\n¼ÓÖÝ´óÑ§²®¿ËÀû·ÖÐ£¼ÆËã»ú¿ÆÑ§\\nÏµ\\nÃÀ¹ú¼ÓÀû¸£ÄáÑÇÖÝ²®¿ËÀûÊÐ£¬ÓÊ±à£º94720\\n{shishirpatil£¬naman_jain£¬sheng.s}@berkeley.\\nedu\\nMateiZaharia¡¢IonStoica¡¢JosephE.Gonzalez\\n¼ÓÖÝ´óÑ§²®¿ËÀû·ÖÐ£¼ÆËã»ú¿ÆÑ§\\nÏµ\\nÃÀ¹ú¼ÓÀû¸£ÄáÑÇÖÝ²®¿ËÀûÊÐ£¬ÓÊ±à£º94720\\n{matei,istoica,jegonzal}@berkeley.edu\\nÕªÒª',\n",
       " 'chunk_id': 0,\n",
       " 'question': 'What is RAFT?  '}"
      ]
     },
     "execution_count": 23,
     "metadata": {},
     "output_type": "execute_result"
    }
   ],
   "source": [
    "dataset_questions_0[0]"
   ]
  },
  {
   "cell_type": "code",
   "execution_count": 24,
   "id": "4e7ebce4",
   "metadata": {},
   "outputs": [
    {
     "data": {
      "text/plain": [
       "{'chunk': 'Ô¤Ó¡±¾£¬ÕýÔÚÉó²é\\nRAFT£ºÊÊÓ¦ÌØ¶¨ÁìÓòµÄÓïÑÔÄ£ÐÍ\\nÕÅÌì¾ü*\\n¼ÓÖÝ´óÑ§²®¿ËÀû·ÖÐ£¼ÆËã»ú¿ÆÑ§\\nÏµ\\nÃÀ¹ú¼ÓÀû¸£ÄáÑÇÖÝ²®¿ËÀû\\nÊÐ£¬ÓÊ±à£º94720£¬µç×ÓÓÊ\\nÏä£º{tianjunz}@berkeley.\\neduShishirG.Patil¡¢NamanJain¡¢ShengShen\\n¼ÓÖÝ´óÑ§²®¿ËÀû·ÖÐ£¼ÆËã»ú¿ÆÑ§\\nÏµ\\nÃÀ¹ú¼ÓÀû¸£ÄáÑÇÖÝ²®¿ËÀûÊÐ£¬ÓÊ±à£º94720\\n{shishirpatil£¬naman_jain£¬sheng.s}@berkeley.\\nedu\\nMateiZaharia¡¢IonStoica¡¢JosephE.Gonzalez\\n¼ÓÖÝ´óÑ§²®¿ËÀû·ÖÐ£¼ÆËã»ú¿ÆÑ§\\nÏµ\\nÃÀ¹ú¼ÓÀû¸£ÄáÑÇÖÝ²®¿ËÀûÊÐ£¬ÓÊ±à£º94720\\n{matei,istoica,jegonzal}@berkeley.edu\\nÕªÒª',\n",
       " 'chunk_id': 0,\n",
       " 'question': 'Who are the researchers from UC Berkeley mentioned in the text?'}"
      ]
     },
     "execution_count": 24,
     "metadata": {},
     "output_type": "execute_result"
    }
   ],
   "source": [
    "dataset_questions_0[1]\n"
   ]
  },
  {
   "cell_type": "code",
   "execution_count": 25,
   "id": "67328f27",
   "metadata": {},
   "outputs": [
    {
     "ename": "IndexError",
     "evalue": "Invalid key: 2 is out of bounds for size 2",
     "output_type": "error",
     "traceback": [
      "\u001b[1;31m---------------------------------------------------------------------------\u001b[0m",
      "\u001b[1;31mIndexError\u001b[0m                                Traceback (most recent call last)",
      "Cell \u001b[1;32mIn[25], line 1\u001b[0m\n\u001b[1;32m----> 1\u001b[0m \u001b[43mdataset_questions_0\u001b[49m\u001b[43m[\u001b[49m\u001b[38;5;241;43m2\u001b[39;49m\u001b[43m]\u001b[49m\n",
      "File \u001b[1;32md:\\Miniconda3\\envs\\raft\\lib\\site-packages\\datasets\\arrow_dataset.py:2800\u001b[0m, in \u001b[0;36mDataset.__getitem__\u001b[1;34m(self, key)\u001b[0m\n\u001b[0;32m   2798\u001b[0m \u001b[38;5;28;01mdef\u001b[39;00m\u001b[38;5;250m \u001b[39m\u001b[38;5;21m__getitem__\u001b[39m(\u001b[38;5;28mself\u001b[39m, key):  \u001b[38;5;66;03m# noqa: F811\u001b[39;00m\n\u001b[0;32m   2799\u001b[0m \u001b[38;5;250m    \u001b[39m\u001b[38;5;124;03m\"\"\"Can be used to index columns (by string names) or rows (by integer index or iterable of indices or bools).\"\"\"\u001b[39;00m\n\u001b[1;32m-> 2800\u001b[0m     \u001b[38;5;28;01mreturn\u001b[39;00m \u001b[38;5;28;43mself\u001b[39;49m\u001b[38;5;241;43m.\u001b[39;49m\u001b[43m_getitem\u001b[49m\u001b[43m(\u001b[49m\u001b[43mkey\u001b[49m\u001b[43m)\u001b[49m\n",
      "File \u001b[1;32md:\\Miniconda3\\envs\\raft\\lib\\site-packages\\datasets\\arrow_dataset.py:2784\u001b[0m, in \u001b[0;36mDataset._getitem\u001b[1;34m(self, key, **kwargs)\u001b[0m\n\u001b[0;32m   2782\u001b[0m format_kwargs \u001b[38;5;241m=\u001b[39m format_kwargs \u001b[38;5;28;01mif\u001b[39;00m format_kwargs \u001b[38;5;129;01mis\u001b[39;00m \u001b[38;5;129;01mnot\u001b[39;00m \u001b[38;5;28;01mNone\u001b[39;00m \u001b[38;5;28;01melse\u001b[39;00m {}\n\u001b[0;32m   2783\u001b[0m formatter \u001b[38;5;241m=\u001b[39m get_formatter(format_type, features\u001b[38;5;241m=\u001b[39m\u001b[38;5;28mself\u001b[39m\u001b[38;5;241m.\u001b[39m_info\u001b[38;5;241m.\u001b[39mfeatures, \u001b[38;5;241m*\u001b[39m\u001b[38;5;241m*\u001b[39mformat_kwargs)\n\u001b[1;32m-> 2784\u001b[0m pa_subtable \u001b[38;5;241m=\u001b[39m \u001b[43mquery_table\u001b[49m\u001b[43m(\u001b[49m\u001b[38;5;28;43mself\u001b[39;49m\u001b[38;5;241;43m.\u001b[39;49m\u001b[43m_data\u001b[49m\u001b[43m,\u001b[49m\u001b[43m \u001b[49m\u001b[43mkey\u001b[49m\u001b[43m,\u001b[49m\u001b[43m \u001b[49m\u001b[43mindices\u001b[49m\u001b[38;5;241;43m=\u001b[39;49m\u001b[38;5;28;43mself\u001b[39;49m\u001b[38;5;241;43m.\u001b[39;49m\u001b[43m_indices\u001b[49m\u001b[43m \u001b[49m\u001b[38;5;28;43;01mif\u001b[39;49;00m\u001b[43m \u001b[49m\u001b[38;5;28;43mself\u001b[39;49m\u001b[38;5;241;43m.\u001b[39;49m\u001b[43m_indices\u001b[49m\u001b[43m \u001b[49m\u001b[38;5;129;43;01mis\u001b[39;49;00m\u001b[43m \u001b[49m\u001b[38;5;129;43;01mnot\u001b[39;49;00m\u001b[43m \u001b[49m\u001b[38;5;28;43;01mNone\u001b[39;49;00m\u001b[43m \u001b[49m\u001b[38;5;28;43;01melse\u001b[39;49;00m\u001b[43m \u001b[49m\u001b[38;5;28;43;01mNone\u001b[39;49;00m\u001b[43m)\u001b[49m\n\u001b[0;32m   2785\u001b[0m formatted_output \u001b[38;5;241m=\u001b[39m format_table(\n\u001b[0;32m   2786\u001b[0m     pa_subtable, key, formatter\u001b[38;5;241m=\u001b[39mformatter, format_columns\u001b[38;5;241m=\u001b[39mformat_columns, output_all_columns\u001b[38;5;241m=\u001b[39moutput_all_columns\n\u001b[0;32m   2787\u001b[0m )\n\u001b[0;32m   2788\u001b[0m \u001b[38;5;28;01mreturn\u001b[39;00m formatted_output\n",
      "File \u001b[1;32md:\\Miniconda3\\envs\\raft\\lib\\site-packages\\datasets\\formatting\\formatting.py:583\u001b[0m, in \u001b[0;36mquery_table\u001b[1;34m(table, key, indices)\u001b[0m\n\u001b[0;32m    581\u001b[0m \u001b[38;5;28;01melse\u001b[39;00m:\n\u001b[0;32m    582\u001b[0m     size \u001b[38;5;241m=\u001b[39m indices\u001b[38;5;241m.\u001b[39mnum_rows \u001b[38;5;28;01mif\u001b[39;00m indices \u001b[38;5;129;01mis\u001b[39;00m \u001b[38;5;129;01mnot\u001b[39;00m \u001b[38;5;28;01mNone\u001b[39;00m \u001b[38;5;28;01melse\u001b[39;00m table\u001b[38;5;241m.\u001b[39mnum_rows\n\u001b[1;32m--> 583\u001b[0m     \u001b[43m_check_valid_index_key\u001b[49m\u001b[43m(\u001b[49m\u001b[43mkey\u001b[49m\u001b[43m,\u001b[49m\u001b[43m \u001b[49m\u001b[43msize\u001b[49m\u001b[43m)\u001b[49m\n\u001b[0;32m    584\u001b[0m \u001b[38;5;66;03m# Query the main table\u001b[39;00m\n\u001b[0;32m    585\u001b[0m \u001b[38;5;28;01mif\u001b[39;00m indices \u001b[38;5;129;01mis\u001b[39;00m \u001b[38;5;28;01mNone\u001b[39;00m:\n",
      "File \u001b[1;32md:\\Miniconda3\\envs\\raft\\lib\\site-packages\\datasets\\formatting\\formatting.py:526\u001b[0m, in \u001b[0;36m_check_valid_index_key\u001b[1;34m(key, size)\u001b[0m\n\u001b[0;32m    524\u001b[0m \u001b[38;5;28;01mif\u001b[39;00m \u001b[38;5;28misinstance\u001b[39m(key, \u001b[38;5;28mint\u001b[39m):\n\u001b[0;32m    525\u001b[0m     \u001b[38;5;28;01mif\u001b[39;00m (key \u001b[38;5;241m<\u001b[39m \u001b[38;5;241m0\u001b[39m \u001b[38;5;129;01mand\u001b[39;00m key \u001b[38;5;241m+\u001b[39m size \u001b[38;5;241m<\u001b[39m \u001b[38;5;241m0\u001b[39m) \u001b[38;5;129;01mor\u001b[39;00m (key \u001b[38;5;241m>\u001b[39m\u001b[38;5;241m=\u001b[39m size):\n\u001b[1;32m--> 526\u001b[0m         \u001b[38;5;28;01mraise\u001b[39;00m \u001b[38;5;167;01mIndexError\u001b[39;00m(\u001b[38;5;124mf\u001b[39m\u001b[38;5;124m\"\u001b[39m\u001b[38;5;124mInvalid key: \u001b[39m\u001b[38;5;132;01m{\u001b[39;00mkey\u001b[38;5;132;01m}\u001b[39;00m\u001b[38;5;124m is out of bounds for size \u001b[39m\u001b[38;5;132;01m{\u001b[39;00msize\u001b[38;5;132;01m}\u001b[39;00m\u001b[38;5;124m\"\u001b[39m)\n\u001b[0;32m    527\u001b[0m     \u001b[38;5;28;01mreturn\u001b[39;00m\n\u001b[0;32m    528\u001b[0m \u001b[38;5;28;01melif\u001b[39;00m \u001b[38;5;28misinstance\u001b[39m(key, \u001b[38;5;28mslice\u001b[39m):\n",
      "\u001b[1;31mIndexError\u001b[0m: Invalid key: 2 is out of bounds for size 2"
     ]
    }
   ],
   "source": [
    "dataset_questions_0[2]"
   ]
  },
  {
   "cell_type": "code",
   "execution_count": 27,
   "id": "0da22ac9",
   "metadata": {},
   "outputs": [],
   "source": [
    "from datasets import load_from_disk\n",
    "dataset_answers_0 = load_from_disk(\"outputs-checkpoints/answers/checkpoint-0\")"
   ]
  },
  {
   "cell_type": "code",
   "execution_count": 28,
   "id": "0f4bc4a7",
   "metadata": {},
   "outputs": [
    {
     "data": {
      "text/plain": [
       "{'id': '88fe5b32-9cff-440b-968e-589a4e5f06ba',\n",
       " 'type': 'general',\n",
       " 'question': 'What is RAFT?  ',\n",
       " 'context': {'sentences': [['ÎÒÃÇÉè¼ÆÊµÑé£¬Ö¼ÔÚÆÀ¹ÀRAFTÓë¶àÖÖ»ùÏßÄ£ÐÍÏà±ÈµÄ±íÏÖ¡£ÑÐ¾¿·¢ÏÖ£¬¾\\xad¹ýÎ¢µ÷µÄLlaMA-2\\n°æ±¾¡ª¡ªRAFT-7B£¬ÔÚÔÄ¶ÁºÍÌáÈ¡ÁìÓòÄÚÎÄµµÐÅÏ¢·½Ãæ±íÏÖ¸ü¼Ñ£¬ÓÅÓÚÌØ¶¨ÁìÓòµÄÎ¢µ÷Ä£ÐÍ\\nºÍ½áºÏRAGµÄÍ¨ÓÃÄ£ÐÍ¡£´ËÍâ£¬ÎÒÃÇ»¹Í¨¹ýÏûÈÚÊµÑéÕ¹Ê¾ÁËÁ´Ê½Ë¼Î¬ÏìÓ¦¶ÔÄ£ÐÍÑ§Ï°µÄÖØÒª\\nÐÔ¡£ÔÚ±¾½ÚÖÐ£¬ÎÒÃÇ½«Ê×ÏÈ½éÉÜÊµÑéÖÐÊ¹ÓÃµÄËùÓÐÊý¾Ý¼¯£¬È»ºóÁÐ³öËùÓÐÓÃÓÚ¶Ô±ÈµÄ»ùÏß\\nÄ£ÐÍ¼°Î¢µ÷¼¼Êõ¡£\\n4Ô¤Ó¡±¾£¬ÕýÔÚÉó²éÖÐ\\n--------------------------------------------------------------------------------------ÎÊÌâ£ºOberoi¼Ò×åÊÇÄ³¾Æµê¹«Ë¾µÄ³ÉÔ±£¬¸Ã¹«Ë¾×Ü²¿Î»ÓÚÄÄ¸ö³ÇÊÐ£¿',\n",
       "    'Brown,T.,Mann,B.,Ryder,N.,Subbiah,M.,Kaplan,J.D.,Dhariwal,P.,\\nNeelakantan,A.,Shyam,P.,Sastry,G.,Askell,A.,µÈ.ÓïÑÔÄ£ÐÍÊÇÉÙÑù±¾Ñ§Ï°Õß.\\nÉñ¾\\xadÐÅÏ¢´¦ÀíÏµÍ³½øÕ¹,33:1877-1901,2020.\\nCarlini£¬N.£¬Liu£¬C.£¬Erlingsson£¬U.£¬Kos£¬J.ºÍSong£¬D.¡¶ÃØÃÜ·ÖÏíÕß£ºÆÀ¹ÀºÍ²âÊÔ\\nÉñ¾\\xadÍøÂçÖÐµÄ·ÇÔ¤ÆÚ¼ÇÒä¡·¡£µÚ28½ìUSENIX°²È«ÑÐÌÖ»á£¨USENIXSecurity19£©£¬µÚ267\\n-284Ò³£¬2019Äê¡£\\nCarlini,N.,Tramer,F.,Wallace,E.,Jagielski,M.,Herbert-Voss,A.,Lee,K.,\\nRoberts,A.,Brown,T.,Song,D.,Erlingsson,U.,etal.´Ó´óÐÍÓïÑÔÄ£ÐÍÖÐÌáÈ¡Ñµ',\n",
       "    'Ô¤Ó¡±¾£¬ÕýÔÚÉó²é\\nRAFT£ºÊÊÓ¦ÌØ¶¨ÁìÓòµÄÓïÑÔÄ£ÐÍ\\nÕÅÌì¾ü*\\n¼ÓÖÝ´óÑ§²®¿ËÀû·ÖÐ£¼ÆËã»ú¿ÆÑ§\\nÏµ\\nÃÀ¹ú¼ÓÀû¸£ÄáÑÇÖÝ²®¿ËÀû\\nÊÐ£¬ÓÊ±à£º94720£¬µç×ÓÓÊ\\nÏä£º{tianjunz}@berkeley.\\neduShishirG.Patil¡¢NamanJain¡¢ShengShen\\n¼ÓÖÝ´óÑ§²®¿ËÀû·ÖÐ£¼ÆËã»ú¿ÆÑ§\\nÏµ\\nÃÀ¹ú¼ÓÀû¸£ÄáÑÇÖÝ²®¿ËÀûÊÐ£¬ÓÊ±à£º94720\\n{shishirpatil£¬naman_jain£¬sheng.s}@berkeley.\\nedu\\nMateiZaharia¡¢IonStoica¡¢JosephE.Gonzalez\\n¼ÓÖÝ´óÑ§²®¿ËÀû·ÖÐ£¼ÆËã»ú¿ÆÑ§\\nÏµ\\nÃÀ¹ú¼ÓÀû¸£ÄáÑÇÖÝ²®¿ËÀûÊÐ£¬ÓÊ±à£º94720\\n{matei,istoica,jegonzal}@berkeley.edu\\nÕªÒª',\n",
       "    'D.Hotpotqa£ºÒ»¸öÓÃÓÚ¶àÑù»¯¡¢¿É½âÊÍµÄ¶àÌøÎÊ´ðµÄÊý¾Ý¼¯¡£arXivÔ¤Ó¡±¾\\narXiv:1809.09600,2018.\\nZhou,C.,Liu,P.,Xu,P.,Iyer,S.,Sun,J.,Mao,Y.,Ma,X.,Efrat,A.,Yu,\\nP.,Yu,L.,µÈ.ÀûÂí:¶ÔÆëÊ±ÉÙ¼´ÊÇ¶à.arXivÔ¤Ó¡±¾arXiv:2305.11206,2023.\\n12']],\n",
       "  'title': [['placeholder_title',\n",
       "    'placeholder_title',\n",
       "    'placeholder_title',\n",
       "    'placeholder_title']]},\n",
       " 'oracle_context': 'Ô¤Ó¡±¾£¬ÕýÔÚÉó²é\\nRAFT£ºÊÊÓ¦ÌØ¶¨ÁìÓòµÄÓïÑÔÄ£ÐÍ\\nÕÅÌì¾ü*\\n¼ÓÖÝ´óÑ§²®¿ËÀû·ÖÐ£¼ÆËã»ú¿ÆÑ§\\nÏµ\\nÃÀ¹ú¼ÓÀû¸£ÄáÑÇÖÝ²®¿ËÀû\\nÊÐ£¬ÓÊ±à£º94720£¬µç×ÓÓÊ\\nÏä£º{tianjunz}@berkeley.\\neduShishirG.Patil¡¢NamanJain¡¢ShengShen\\n¼ÓÖÝ´óÑ§²®¿ËÀû·ÖÐ£¼ÆËã»ú¿ÆÑ§\\nÏµ\\nÃÀ¹ú¼ÓÀû¸£ÄáÑÇÖÝ²®¿ËÀûÊÐ£¬ÓÊ±à£º94720\\n{shishirpatil£¬naman_jain£¬sheng.s}@berkeley.\\nedu\\nMateiZaharia¡¢IonStoica¡¢JosephE.Gonzalez\\n¼ÓÖÝ´óÑ§²®¿ËÀû·ÖÐ£¼ÆËã»ú¿ÆÑ§\\nÏµ\\nÃÀ¹ú¼ÓÀû¸£ÄáÑÇÖÝ²®¿ËÀûÊÐ£¬ÓÊ±à£º94720\\n{matei,istoica,jegonzal}@berkeley.edu\\nÕªÒª',\n",
       " 'cot_answer': 'To answer the question about what RAFT is, we need to analyze the context provided. \\n\\nFirst, let\\'s identify any direct mention of RAFT in the context:\\n##begin_quote##RAFT:ÊÊÓ¦ÌØ¶¨ÁìÓòµÄÓïÑÔÄ£ÐÍ##end_quote##\\nThis line indicates that RAFT is described as a specific type of language model.\\n\\nNext, we can infer more details by examining the surrounding information. The context seems to be related to research or an academic setting, mentioning names and email addresses from UC Berkeley. However, there is no further elaboration on RAFT beyond its definition as a \"specific domain language model.\"\\n\\nBased on this analysis, we conclude that RAFT refers to a language model tailored for a particular domain.\\n\\n<ANSWER>: RAFT is a specific domain language model.',\n",
       " 'instruction': '<DOCUMENT>ÎÒÃÇÉè¼ÆÊµÑé£¬Ö¼ÔÚÆÀ¹ÀRAFTÓë¶àÖÖ»ùÏßÄ£ÐÍÏà±ÈµÄ±íÏÖ¡£ÑÐ¾¿·¢ÏÖ£¬¾\\xad¹ýÎ¢µ÷µÄLlaMA-2\\n°æ±¾¡ª¡ªRAFT-7B£¬ÔÚÔÄ¶ÁºÍÌáÈ¡ÁìÓòÄÚÎÄµµÐÅÏ¢·½Ãæ±íÏÖ¸ü¼Ñ£¬ÓÅÓÚÌØ¶¨ÁìÓòµÄÎ¢µ÷Ä£ÐÍ\\nºÍ½áºÏRAGµÄÍ¨ÓÃÄ£ÐÍ¡£´ËÍâ£¬ÎÒÃÇ»¹Í¨¹ýÏûÈÚÊµÑéÕ¹Ê¾ÁËÁ´Ê½Ë¼Î¬ÏìÓ¦¶ÔÄ£ÐÍÑ§Ï°µÄÖØÒª\\nÐÔ¡£ÔÚ±¾½ÚÖÐ£¬ÎÒÃÇ½«Ê×ÏÈ½éÉÜÊµÑéÖÐÊ¹ÓÃµÄËùÓÐÊý¾Ý¼¯£¬È»ºóÁÐ³öËùÓÐÓÃÓÚ¶Ô±ÈµÄ»ùÏß\\nÄ£ÐÍ¼°Î¢µ÷¼¼Êõ¡£\\n4Ô¤Ó¡±¾£¬ÕýÔÚÉó²éÖÐ\\n--------------------------------------------------------------------------------------ÎÊÌâ£ºOberoi¼Ò×åÊÇÄ³¾Æµê¹«Ë¾µÄ³ÉÔ±£¬¸Ã¹«Ë¾×Ü²¿Î»ÓÚÄÄ¸ö³ÇÊÐ£¿</DOCUMENT>\\n<DOCUMENT>Brown,T.,Mann,B.,Ryder,N.,Subbiah,M.,Kaplan,J.D.,Dhariwal,P.,\\nNeelakantan,A.,Shyam,P.,Sastry,G.,Askell,A.,µÈ.ÓïÑÔÄ£ÐÍÊÇÉÙÑù±¾Ñ§Ï°Õß.\\nÉñ¾\\xadÐÅÏ¢´¦ÀíÏµÍ³½øÕ¹,33:1877-1901,2020.\\nCarlini£¬N.£¬Liu£¬C.£¬Erlingsson£¬U.£¬Kos£¬J.ºÍSong£¬D.¡¶ÃØÃÜ·ÖÏíÕß£ºÆÀ¹ÀºÍ²âÊÔ\\nÉñ¾\\xadÍøÂçÖÐµÄ·ÇÔ¤ÆÚ¼ÇÒä¡·¡£µÚ28½ìUSENIX°²È«ÑÐÌÖ»á£¨USENIXSecurity19£©£¬µÚ267\\n-284Ò³£¬2019Äê¡£\\nCarlini,N.,Tramer,F.,Wallace,E.,Jagielski,M.,Herbert-Voss,A.,Lee,K.,\\nRoberts,A.,Brown,T.,Song,D.,Erlingsson,U.,etal.´Ó´óÐÍÓïÑÔÄ£ÐÍÖÐÌáÈ¡Ñµ</DOCUMENT>\\n<DOCUMENT>Ô¤Ó¡±¾£¬ÕýÔÚÉó²é\\nRAFT£ºÊÊÓ¦ÌØ¶¨ÁìÓòµÄÓïÑÔÄ£ÐÍ\\nÕÅÌì¾ü*\\n¼ÓÖÝ´óÑ§²®¿ËÀû·ÖÐ£¼ÆËã»ú¿ÆÑ§\\nÏµ\\nÃÀ¹ú¼ÓÀû¸£ÄáÑÇÖÝ²®¿ËÀû\\nÊÐ£¬ÓÊ±à£º94720£¬µç×ÓÓÊ\\nÏä£º{tianjunz}@berkeley.\\neduShishirG.Patil¡¢NamanJain¡¢ShengShen\\n¼ÓÖÝ´óÑ§²®¿ËÀû·ÖÐ£¼ÆËã»ú¿ÆÑ§\\nÏµ\\nÃÀ¹ú¼ÓÀû¸£ÄáÑÇÖÝ²®¿ËÀûÊÐ£¬ÓÊ±à£º94720\\n{shishirpatil£¬naman_jain£¬sheng.s}@berkeley.\\nedu\\nMateiZaharia¡¢IonStoica¡¢JosephE.Gonzalez\\n¼ÓÖÝ´óÑ§²®¿ËÀû·ÖÐ£¼ÆËã»ú¿ÆÑ§\\nÏµ\\nÃÀ¹ú¼ÓÀû¸£ÄáÑÇÖÝ²®¿ËÀûÊÐ£¬ÓÊ±à£º94720\\n{matei,istoica,jegonzal}@berkeley.edu\\nÕªÒª</DOCUMENT>\\n<DOCUMENT>D.Hotpotqa£ºÒ»¸öÓÃÓÚ¶àÑù»¯¡¢¿É½âÊÍµÄ¶àÌøÎÊ´ðµÄÊý¾Ý¼¯¡£arXivÔ¤Ó¡±¾\\narXiv:1809.09600,2018.\\nZhou,C.,Liu,P.,Xu,P.,Iyer,S.,Sun,J.,Mao,Y.,Ma,X.,Efrat,A.,Yu,\\nP.,Yu,L.,µÈ.ÀûÂí:¶ÔÆëÊ±ÉÙ¼´ÊÇ¶à.arXivÔ¤Ó¡±¾arXiv:2305.11206,2023.\\n12</DOCUMENT>\\nWhat is RAFT?  '}"
      ]
     },
     "execution_count": 28,
     "metadata": {},
     "output_type": "execute_result"
    }
   ],
   "source": [
    "dataset_answers_0[0]"
   ]
  },
  {
   "cell_type": "code",
   "execution_count": 56,
   "id": "8992dbdc",
   "metadata": {},
   "outputs": [],
   "source": [
    "from datasets import load_from_disk\n",
    "\n",
    "dataset = load_from_disk(\"outputs_test\")"
   ]
  },
  {
   "cell_type": "code",
   "execution_count": 57,
   "id": "53c53f24",
   "metadata": {},
   "outputs": [
    {
     "data": {
      "text/plain": [
       "{'id': '85b5f76f-81f6-4492-b906-986a1018d621',\n",
       " 'type': 'general',\n",
       " 'question': '1. 谁是《光电子技术》的主编？  ',\n",
       " 'context': {'sentences': [['# OPTOELECTRONIC TECHNOLOGY\\n# 光电子技术\\nGUANGDIANZI JISHU\\n# 1998 1\\n第18卷第1期\\nVol.18No.1\\nISSN 1005-488X\\nJournal Electronic Publishing House. All rights reserved. http://www.cnki.net\\n# 《光电子技术》编辑委员会\\n# 主编\\n王秀浦（教授级高工，南京电子器件研究所）\\n# 副主编\\n朱昌昌（教授级高工，南京电子器件研究所）黄敏（教授级高工，南京电子器件研究所）陈向真（教授级高工，南京电子器件研究所）\\n# 编委（以姓氏拼音为序）',\n",
       "    '（4）低温p-Si TFT，已有 $14\\\\ \\\\mathrm{cm}$ 产品。',\n",
       "    \"陈祖平（教授级高工，南京电子器件研究所）冯治兴（教授级高工，南京电子器件研究所）黄锡珉（研究员，中科院长春物理所）李熹霖（总工程师，南京洛普公司）刘广荣（工程师，南京电子器件研究所）刘永智（教授，电子科技大学）毛灵光（高级工程师，南京电子器件研究所）梅遂生（教授级高工，电子部11所）孙政民（教授，深圳天马公司/南京大学）正才（高级工程师，南京电子器件研究所）徐重阳（教授，华中理工大学）徐寿颐（副教授，清华大学）薛文进（高级工程师，南京电子器件研究所）张保民（教授，南京理工大学）\\n# 目次\\n'97 平板显示综述 ·朱昌昌(1)彩色等离子体显示技术——原理与现状正才(8)真空微电子平板显示器(FED)进展述评廖复疆(18)国内外LCD发展动向万博泉张百哲高鸿锦刘培正(23)浅析我国发展彩色等离子体壁挂电视的途径韩凌云(39)交流等离子体显示器寿命问题的探讨·张中玉(46)ACPDP 驱动波形的研究刘加海黄有兴顾智企章爱民(50)等离子体活性氮源的研制\",\n",
       "    'LCD产业近年来每 $1\\\\sim2$ 年发生一次供 大于求和供不应求的循环。当供大于求发生时，厂家转而生产屏幕尺寸较大的产品，以降低产量，提高产品档次，从而在较高的档次上进人供不应求的情况。这种良性的周期波动，有力地促进了产品的更新和老产品的降价。到1997年3月，东京市场上， $26\\\\ \\\\mathrm{{\\\\Omega}{\\\\Omega}^{\\\\dag}}$ 彩色TFT-LCD（VGA）已降到不到400美元一块。 $25~\\\\mathrm{cm}$ 彩色STN-LCD只有180美元一块。而 $\\\\mathtt{30\\\\,cm}$ 的彩色TFT-LCD(SVGA)可卖780美元一块。 在需求的牵引和上述周期性波动的刺激下,LCD产品迅速向大尺寸发展。目前LCD产品的构成如图5所示， $30\\\\ \\\\mathrm{cm}$ SVGA已成为主流产品。由于笔记本电脑市场容量有限，LCD 产业已瞄准台式PC机监视器为下一个目标。$25\\\\ \\\\mathrm{cm}$ 彩色STN-LCD只有180美元一块。而 $30\\\\ \\\\mathrm{cm}$']],\n",
       "  'title': [['placeholder_title',\n",
       "    'placeholder_title',\n",
       "    'placeholder_title',\n",
       "    'placeholder_title']]},\n",
       " 'oracle_context': '# OPTOELECTRONIC TECHNOLOGY\\n# 光电子技术\\nGUANGDIANZI JISHU\\n# 1998 1\\n第18卷第1期\\nVol.18No.1\\nISSN 1005-488X\\nJournal Electronic Publishing House. All rights reserved. http://www.cnki.net\\n# 《光电子技术》编辑委员会\\n# 主编\\n王秀浦（教授级高工，南京电子器件研究所）\\n# 副主编\\n朱昌昌（教授级高工，南京电子器件研究所）黄敏（教授级高工，南京电子器件研究所）陈向真（教授级高工，南京电子器件研究所）\\n# 编委（以姓氏拼音为序）',\n",
       " 'cot_answer': 'To answer the question about who is the主编 (chief editor) of《光电子技术》(Optoelectronic Technology), let\\'s go through the context step-by-step:\\n\\n1. First, we identify the relevant section in the provided context that mentions editorial information. This section is clearly labeled as \"《光电子技术》编辑委员会\" which translates to \"Editorial Committee of Optoelectronic Technology.\"\\n\\n2. Next, we look for the specific role of 主编 within this section. The context provides the following information:  \\n   ##begin_quote##主编 王秀浦（教授级高工，南京电子器件研究所）##end_quote##\\n\\n3. From this quote, it is clear that the person holding the position of 主编 (chief editor) is 王秀浦 (Wang Xiupu). His credentials and affiliation are also provided, but they are not necessary for answering the question directly.\\n\\nThus, based on the context, the answer to the question is straightforward.\\n\\n<ANSWER>: 王秀浦 (Wang Xiupu)',\n",
       " 'instruction': \"<DOCUMENT># OPTOELECTRONIC TECHNOLOGY\\n# 光电子技术\\nGUANGDIANZI JISHU\\n# 1998 1\\n第18卷第1期\\nVol.18No.1\\nISSN 1005-488X\\nJournal Electronic Publishing House. All rights reserved. http://www.cnki.net\\n# 《光电子技术》编辑委员会\\n# 主编\\n王秀浦（教授级高工，南京电子器件研究所）\\n# 副主编\\n朱昌昌（教授级高工，南京电子器件研究所）黄敏（教授级高工，南京电子器件研究所）陈向真（教授级高工，南京电子器件研究所）\\n# 编委（以姓氏拼音为序）</DOCUMENT>\\n<DOCUMENT>（4）低温p-Si TFT，已有 $14\\\\ \\\\mathrm{cm}$ 产品。</DOCUMENT>\\n<DOCUMENT>陈祖平（教授级高工，南京电子器件研究所）冯治兴（教授级高工，南京电子器件研究所）黄锡珉（研究员，中科院长春物理所）李熹霖（总工程师，南京洛普公司）刘广荣（工程师，南京电子器件研究所）刘永智（教授，电子科技大学）毛灵光（高级工程师，南京电子器件研究所）梅遂生（教授级高工，电子部11所）孙政民（教授，深圳天马公司/南京大学）正才（高级工程师，南京电子器件研究所）徐重阳（教授，华中理工大学）徐寿颐（副教授，清华大学）薛文进（高级工程师，南京电子器件研究所）张保民（教授，南京理工大学）\\n# 目次\\n'97 平板显示综述 ·朱昌昌(1)彩色等离子体显示技术——原理与现状正才(8)真空微电子平板显示器(FED)进展述评廖复疆(18)国内外LCD发展动向万博泉张百哲高鸿锦刘培正(23)浅析我国发展彩色等离子体壁挂电视的途径韩凌云(39)交流等离子体显示器寿命问题的探讨·张中玉(46)ACPDP 驱动波形的研究刘加海黄有兴顾智企章爱民(50)等离子体活性氮源的研制</DOCUMENT>\\n<DOCUMENT>LCD产业近年来每 $1\\\\sim2$ 年发生一次供 大于求和供不应求的循环。当供大于求发生时，厂家转而生产屏幕尺寸较大的产品，以降低产量，提高产品档次，从而在较高的档次上进人供不应求的情况。这种良性的周期波动，有力地促进了产品的更新和老产品的降价。到1997年3月，东京市场上， $26\\\\ \\\\mathrm{{\\\\Omega}{\\\\Omega}^{\\\\dag}}$ 彩色TFT-LCD（VGA）已降到不到400美元一块。 $25~\\\\mathrm{cm}$ 彩色STN-LCD只有180美元一块。而 $\\\\mathtt{30\\\\,cm}$ 的彩色TFT-LCD(SVGA)可卖780美元一块。 在需求的牵引和上述周期性波动的刺激下,LCD产品迅速向大尺寸发展。目前LCD产品的构成如图5所示， $30\\\\ \\\\mathrm{cm}$ SVGA已成为主流产品。由于笔记本电脑市场容量有限，LCD 产业已瞄准台式PC机监视器为下一个目标。$25\\\\ \\\\mathrm{cm}$ 彩色STN-LCD只有180美元一块。而 $30\\\\ \\\\mathrm{cm}$</DOCUMENT>\\n1. 谁是《光电子技术》的主编？  \"}"
      ]
     },
     "execution_count": 57,
     "metadata": {},
     "output_type": "execute_result"
    }
   ],
   "source": [
    "dataset[0]"
   ]
  }
 ],
 "metadata": {
  "kernelspec": {
   "display_name": "raft",
   "language": "python",
   "name": "python3"
  },
  "language_info": {
   "codemirror_mode": {
    "name": "ipython",
    "version": 3
   },
   "file_extension": ".py",
   "mimetype": "text/x-python",
   "name": "python",
   "nbconvert_exporter": "python",
   "pygments_lexer": "ipython3",
   "version": "3.10.17"
  }
 },
 "nbformat": 4,
 "nbformat_minor": 5
}

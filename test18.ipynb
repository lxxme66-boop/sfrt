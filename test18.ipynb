{
 "cells": [
  {
   "cell_type": "markdown",
   "id": "422d7607",
   "metadata": {},
   "source": [
    "# level2 \n",
    "1.  提取topic，key_concept\n",
    "2.  根据topic，key_concept，docs进行问题生成"
   ]
  },
  {
   "cell_type": "code",
   "execution_count": null,
   "id": "eb729c8b",
   "metadata": {},
   "outputs": [],
   "source": [
    "# 提取topic，key_concept\n",
    "prompt_extract_question_level1 = \"\"\"Here is an article crawl from the web, which our classifier has identified as having significant educational value for\n",
    "    students learning math.\n",
    "    As a senior **math** instructor, your task is to create **challenging computation-based math questions**. These\n",
    "    questions should be suitable for various contexts, such as homework assignments, exams, interview preparations,\n",
    "    classroom activities, competitions, and tutoring sessions while enhancing students’ reasoning and critical-thinking\n",
    "    skills. Ensure that questions are **non-redundant**, precise, and engaging.\n",
    "    ### Guidelines for Creating Computation-based Questions:\n",
    "    1. **Assess Suitability**: If this article does not contain math-related content that can be used to generate engaging\n",
    "    and solvable questions, please directly output \"NOT SUITABLE for creating questions.\"\n",
    "    2. **Generate Questions**: If the article is suitable for creating math questions, generate **1 to 5** questions\n",
    "    based on the richness and depth of the article content. For articles covering multiple topics, aim to generate more\n",
    "    questions to ensure coverage:\n",
    "    - Each question must be solvable independently and should not rely on answers from previous questions.\n",
    "    - If a question closely resembles the original text, append \"<original_question>\" at the end of the question.\n",
    "    - If a question is newly created, append \"<newly_created>\" at the end of the question.\n",
    "    3. **Content Alignment**: Your math questions must exclusively draw from the content of the article, ensuring\n",
    "    they are directly aligned with the concepts presented.\n",
    "    4. **Use Original Questions**: Use original questions from the article whenever possible. However, feel free to\n",
    "    rephrase them for clarity and improved understanding.\n",
    "    5. **Create New Questions**: Attempt to formulate **newly diverse and challenging questions** that explore\n",
    "    different aspects of the content presented in the article.\n",
    "    6. **Self-Contained Questions**: Ensure that each question is self-contained, meaning students do not need to\n",
    "    read the article to answer them.\n",
    "    7. **Logical Consistency**: Verify that the questions are **logically sound and directly aligned with the\n",
    "    mathematical principles** in the article. You MUST minimize the use of **sub-questions**, unless they are\n",
    "    essential to the problem’s complexity.\n",
    "    8. **Clarity and Precision**:\n",
    "    - Use precise and unambiguous language.\n",
    "    - Write all mathematical expressions or formulas in LaTeX for clarity.\n",
    "    - Clearly state all assumptions or conditions.\n",
    "    - The answer should either be exact, or if not possible, then the question should clearly say the\n",
    "    answer is only expected to be approximately correct.\n",
    "    #### Article\n",
    "    {{ text }}\n",
    "    #### Output Format For each question, provide the following information:\n",
    "    - **Question Content**: The actual math question.\n",
    "    - **School Level**: Specify the school level (e.g., <elementary>, <middle_school>, <high_school>, <college>,\n",
    "    <grad_school>, <competition>).\n",
    "    - **Originality Tag**: Append \"<original_question>\" for original questions from the article or\"<newly_created>\"\n",
    "    for newly created questions.\n",
    "    Example Output:\n",
    "    <Q1>\n",
    "    Question: Content\n",
    "    Orig_tag:<original_question>\n",
    "    Level:<high_school>\n",
    "    </Q1>\n",
    "    <Q2>\n",
    "    Question: Content\n",
    "    Orig_tag:<newly_created>\n",
    "    Level:<college>\n",
    "    </Q2>\"\"\"\n",
    "prompt_extract_topic = \"\"\"Here is an article crawl from the web, which our classifier has identified as having significant educational value for\n",
    "    students learning math.\n",
    "    Your task is to analyze this article and extract educational materials, specifically focusing on topics and key\n",
    "    concepts that can enhance students’ understanding of mathematics and improve their problem-solving skills.\n",
    "    Pay special attention to uncommon but important mathematical concepts that are crucial for a deeper understanding.\n",
    "    ## Tasks\n",
    "    1. **Determine Educational Level:**\n",
    "    - Identify the appropriate educational level for the article based on its content. Choose from the\n",
    "    following options:\n",
    "    - Primary School\n",
    "    - Middle School\n",
    "    - High School\n",
    "    - College\n",
    "    - Graduate School\n",
    "    - Competition\n",
    "    - Other\n",
    "    2. **Identify Subject Area:**\n",
    "    - Specify the primary subject area of mathematics to which the article belongs (e.g., Calculus,\n",
    "    Geometry, Algebra, etc.).\n",
    "    3. **Extract Topics and Key Concepts:**\n",
    "    - **Topics:**\n",
    "    - List **1 to 5** main topics covered in the article.\n",
    "    - Use terms commonly recognized in academia or industry.\n",
    "    - **Key Concepts:**\n",
    "    - For each identified topic, list **5 to 20** related key concepts.\n",
    "    - Ensure these concepts are clearly articulated using standard academic or industry terms.\n",
    "    ## Guidelines:\n",
    "    - **Terminology:** Use precise and widely recognized academic or industry terminology for subjects, topics, and\n",
    "    key concepts to maintain consistency and clarity.\n",
    "    - **Educational Level Selection:** If appropriate, restrict the educational level to one of the following: \"Primary\n",
    "    School\", \"Middle School\", \"High School\", \"College\", \"Graduate School\", or \"Competition\" to ensure accurate\n",
    "    categorization.\n",
    "    ## Text\n",
    "    {{ text }}\n",
    "    ## Output Format\n",
    "    <level>Educational Level</level>\n",
    "    <subject>Subject Area</subject>\n",
    "    <topic> Topics:\n",
    "    1. topic 1\n",
    "    2. topic 2\n",
    "    </topic>\n",
    "    <key_concept>\n",
    "    Key Concepts:\n",
    "    1. topic 1:\n",
    "    1.1. key concept\n",
    "    1.2. key concept\n",
    "    ...\n",
    "    2. topic 2:\n",
    "    2.1. key concept\n",
    "    ... ...\n",
    "    </key_concept>\n",
    "    ## Output\"\"\"\n",
    "prompt_extract_question = \"\"\"As a senior **math** instructor, your task is to create **diverse and challenging computation-based math\n",
    "    questions**. These questions should demonstrate the application of the provided topics and key concepts while\n",
    "    enhancing students’ reasoning and critical-thinking skills. Ensure that questions are **non-redundant**, precise,\n",
    "    and engaging.\n",
    "    ### Guidelines for Creating Diverse and Challenging Computation-based Questions:\n",
    "    1. **Concept Selection**:\n",
    "    - Randomly select **up to 2-3 distinct key concepts** from the provided list for each question.\n",
    "    - Ensure **broad coverage** of the provided concepts across the generated questions, avoiding over-reliance\n",
    "    on a limited subset of concepts.\n",
    "    - Avoid repeating the same **concept combinations** or **computational approach** across questions.\n",
    "    2. **Diversity and Challenge**:\n",
    "    - Ensure that each question explores **different combinations of key concepts** and is **sufficiently\n",
    "    challenging** (e.g., requiring multi-step computations, integrating real-world scenarios, involving abstract or\n",
    "    advanced reasoning.).\n",
    "    3. **Clarity and Precision**:\n",
    "    - Verify that the questions are **logically sound**.\n",
    "    - Use precise and unambiguous language.\n",
    "    - Write all mathematical expressions or formulas in LaTeX for clarity.\n",
    "    - Clearly state all assumptions or conditions.\n",
    "    4. **Reference Material**:\n",
    "    - Use the provided **reference article** as a source of inspiration for generating **unique, diverse, and\n",
    "    challenging questions**.\n",
    "    - The reference material is intended to:\n",
    "    - Supplement the concept list by introducing **novel perspectives**, **contexts**, or **applications**.\n",
    "    - Help create questions that are **more complex, realistic, or uncommon** in traditional teaching scenarios.\n",
    "    - Serve as a resource to craft **real-world scenarios** or **abstract extensions** beyond the given concepts.\n",
    "    5. **Output Diversity**:\n",
    "    - Create between **1 to 5 questions**.\n",
    "    - Ensure each question is unique in **structure**, **approach**, and **concept usage**.\n",
    "    - Minimize the use of **sub-questions**, unless they are essential to the problem’s complexity.\n",
    "    - The answer should either be exact, or if not possible, then the question should clearly say the answer is only\n",
    "    expected to be approximately correct.\n",
    "    ### Inputs:\n",
    "    - **Article**:\n",
    "    {{ text }}\n",
    "    - **Concept List**:\n",
    "    {{ concept }}\n",
    "    #### Output Format:\n",
    "    <Q1>\n",
    "    Selected Concepts: [Only insert 2-3 concepts here]\n",
    "    Question: [Only insert question here]\n",
    "    </Q1>\n",
    "    <Q2>\n",
    "    Selected Concepts: [Only insert 2-3 concepts here]\n",
    "    Question: [Only insert question here]\n",
    "    </Q2>\"\"\""
   ]
  },
  {
   "cell_type": "code",
   "execution_count": 5,
   "id": "d11498ef",
   "metadata": {},
   "outputs": [
    {
     "name": "stdout",
     "output_type": "stream",
     "text": [
      "Chunk4 saved to outputs_chunk4/article_chunkf03.json\n",
      "done 400×640象素液晶显示的研制_杨兆芳_llm_correct.md chunk4.\n",
      "Chunk4 saved to outputs_chunk4/article_chunkf03.json\n",
      "done 5G时代新型先进显示技术发...—访中国科学院院士欧阳钟灿_张莹_llm_correct.md chunk4.\n",
      "Chunk4 saved to outputs_chunk4/article_chunkf03.json\n",
      "done 5种液晶显示优劣谈_llm_correct.md chunk4.\n"
     ]
    }
   ],
   "source": [
    "from utils.topic_concepts import trans_chunk4\n",
    "chunks_path = \"outputs_chunks/article_chunks11.json\"\n",
    "chunk4_path = \"outputs_chunk4/article_chunkf03.json\"\n",
    "trans_chunk4(chunks_path, chunk4_path)"
   ]
  },
  {
   "cell_type": "code",
   "execution_count": 6,
   "id": "f47edd6b",
   "metadata": {},
   "outputs": [
    {
     "name": "stderr",
     "output_type": "stream",
     "text": [
      "Topicing:  50%|█████     | 1/2 [00:36<00:36, 36.10s/file]"
     ]
    },
    {
     "name": "stdout",
     "output_type": "stream",
     "text": [
      "Topics saved to outputs_topics/article_topics03.json\n"
     ]
    },
    {
     "name": "stderr",
     "output_type": "stream",
     "text": [
      "Topicing: 100%|██████████| 2/2 [00:39<00:00, 19.87s/file]\n"
     ]
    },
    {
     "name": "stdout",
     "output_type": "stream",
     "text": [
      "Topics saved to outputs_topics/article_topics03.json\n",
      "done 400×640象素液晶显示的研制_杨兆芳_llm_correct.md topics.\n"
     ]
    },
    {
     "name": "stderr",
     "output_type": "stream",
     "text": [
      "Topicing:  17%|█▋        | 1/6 [00:45<03:47, 45.48s/file]"
     ]
    },
    {
     "name": "stdout",
     "output_type": "stream",
     "text": [
      "Topics saved to outputs_topics/article_topics03.json\n"
     ]
    },
    {
     "name": "stderr",
     "output_type": "stream",
     "text": [
      "Topicing:  33%|███▎      | 2/6 [01:20<02:37, 39.38s/file]"
     ]
    },
    {
     "name": "stdout",
     "output_type": "stream",
     "text": [
      "Topics saved to outputs_topics/article_topics03.json\n"
     ]
    },
    {
     "name": "stderr",
     "output_type": "stream",
     "text": [
      "Topicing:  50%|█████     | 3/6 [01:22<01:06, 22.30s/file]"
     ]
    },
    {
     "name": "stdout",
     "output_type": "stream",
     "text": [
      "Topics saved to outputs_topics/article_topics03.json\n"
     ]
    },
    {
     "name": "stderr",
     "output_type": "stream",
     "text": [
      "Topicing:  67%|██████▋   | 4/6 [01:54<00:52, 26.00s/file]"
     ]
    },
    {
     "name": "stdout",
     "output_type": "stream",
     "text": [
      "Topics saved to outputs_topics/article_topics03.json\n"
     ]
    },
    {
     "name": "stderr",
     "output_type": "stream",
     "text": [
      "Topicing:  83%|████████▎ | 5/6 [02:06<00:21, 21.14s/file]"
     ]
    },
    {
     "name": "stdout",
     "output_type": "stream",
     "text": [
      "Topics saved to outputs_topics/article_topics03.json\n"
     ]
    },
    {
     "name": "stderr",
     "output_type": "stream",
     "text": [
      "Topicing: 100%|██████████| 6/6 [02:26<00:00, 24.39s/file]\n"
     ]
    },
    {
     "name": "stdout",
     "output_type": "stream",
     "text": [
      "Topics saved to outputs_topics/article_topics03.json\n",
      "done 5G时代新型先进显示技术发...—访中国科学院院士欧阳钟灿_张莹_llm_correct.md topics.\n"
     ]
    },
    {
     "name": "stderr",
     "output_type": "stream",
     "text": [
      "Topicing: 100%|██████████| 1/1 [00:39<00:00, 39.41s/file]"
     ]
    },
    {
     "name": "stdout",
     "output_type": "stream",
     "text": [
      "Topics saved to outputs_topics/article_topics03.json\n",
      "done 5种液晶显示优劣谈_llm_correct.md topics.\n"
     ]
    },
    {
     "name": "stderr",
     "output_type": "stream",
     "text": [
      "\n"
     ]
    }
   ],
   "source": [
    "from utils.common_utils import build_openai_client_chat\n",
    "from utils.topic_concepts import gen_topics\n",
    "chunk4_path = \"outputs_chunk4/article_chunkf03.json\"\n",
    "topics_path = \"outputs_topics/article_topics03.json\"\n",
    "chat_model = build_openai_client_chat()\n",
    "gen_topics(chunk4_path, topics_path, chat_model)"
   ]
  },
  {
   "cell_type": "code",
   "execution_count": 1,
   "id": "fdc93ef4",
   "metadata": {},
   "outputs": [
    {
     "name": "stdout",
     "output_type": "stream",
     "text": [
      "question: ['<Q>\\nSelected Concepts: [Only insert 2-3 concepts here]\\nQuestion: [Only insert question here]\\n', '\\n<Q>\\nSelected Concepts: [Only insert 2-3 concepts here]\\nQuestion: [Only insert question here]\\n']\n",
      "question: ['[Only insert question here]\\n', '[Only insert question here]\\n']\n",
      "question: ['[Only insert question here]\\n', '[Only insert question here]\\n']\n"
     ]
    },
    {
     "data": {
      "text/plain": [
       "['[Only insert question here]', '[Only insert question here]']"
      ]
     },
     "execution_count": 1,
     "metadata": {},
     "output_type": "execute_result"
    }
   ],
   "source": [
    "output = \"\"\"<Q>\n",
    "Selected Concepts: [Only insert 2-3 concepts here]\n",
    "Question: [Only insert question here]\n",
    "</Q>\n",
    "<Q>\n",
    "Selected Concepts: [Only insert 2-3 concepts here]\n",
    "Question: [Only insert question here]\n",
    "</Q>\"\"\"\n",
    "def parse_questions(questions):\n",
    "    questions = questions.split(\"</Q>\")[:-1]\n",
    "    print(f\"question: {questions}\")\n",
    "    questions = [q.split(\"Question: \")[1] for q in questions]\n",
    "    print(f\"question: {questions}\")\n",
    "    questions = [q.split(\"Selected Concepts: \")[0] for q in questions]\n",
    "    print(f\"question: {questions}\")\n",
    "    questions = [q.strip() for q in questions]\n",
    "    return questions\n",
    "questions = parse_questions(output)\n",
    "questions"
   ]
  },
  {
   "cell_type": "code",
   "execution_count": 5,
   "id": "57311266",
   "metadata": {},
   "outputs": [
    {
     "data": {
      "text/plain": [
       "[{'concepts': ['Only insert 2-3 concepts here'],\n",
       "  'question': 'Only insert question here'},\n",
       " {'concept': ['Only insert 2-3 concepts here'],\n",
       "  'question': 'Only insert question here'}]"
      ]
     },
     "execution_count": 5,
     "metadata": {},
     "output_type": "execute_result"
    }
   ],
   "source": [
    "import json\n",
    "output_questions = \"\"\"[\n",
    "            {\n",
    "                \"concepts\": [\"Only insert 2-3 concepts here\"],\n",
    "            \"question\": \"Only insert question here\"\n",
    "        },\n",
    "        {\n",
    "            \"concept\": [\"Only insert 2-3 concepts here\"],\n",
    "            \"question\": \"Only insert question here\"\n",
    "        }\n",
    "    ]\"\"\"\n",
    "# 将上述输出进行解析，并返回\n",
    "output_questions = json.loads(output_questions)\n",
    "output_questions"
   ]
  },
  {
   "cell_type": "code",
   "execution_count": 1,
   "id": "febbf10f",
   "metadata": {},
   "outputs": [
    {
     "name": "stderr",
     "output_type": "stream",
     "text": [
      "Questioning:  50%|█████     | 1/2 [01:24<01:24, 84.74s/file]"
     ]
    },
    {
     "name": "stdout",
     "output_type": "stream",
     "text": [
      "Questions saved to outputs_questions/article_question_with_topic04.json\n"
     ]
    },
    {
     "name": "stderr",
     "output_type": "stream",
     "text": [
      "Questioning: 100%|██████████| 2/2 [02:11<00:00, 65.52s/file]\n"
     ]
    },
    {
     "name": "stdout",
     "output_type": "stream",
     "text": [
      "Questions saved to outputs_questions/article_question_with_topic04.json\n",
      "done 400×640象素液晶显示的研制_杨兆芳_llm_correct.md questions.\n"
     ]
    },
    {
     "name": "stderr",
     "output_type": "stream",
     "text": [
      "Questioning:  17%|█▋        | 1/6 [01:24<07:04, 84.84s/file]"
     ]
    },
    {
     "name": "stdout",
     "output_type": "stream",
     "text": [
      "Questions saved to outputs_questions/article_question_with_topic04.json\n"
     ]
    },
    {
     "name": "stderr",
     "output_type": "stream",
     "text": [
      "Questioning:  33%|███▎      | 2/6 [02:01<03:44, 56.21s/file]"
     ]
    },
    {
     "name": "stdout",
     "output_type": "stream",
     "text": [
      "Questions saved to outputs_questions/article_question_with_topic04.json\n"
     ]
    },
    {
     "name": "stderr",
     "output_type": "stream",
     "text": [
      "Questioning:  50%|█████     | 3/6 [02:53<02:44, 54.71s/file]"
     ]
    },
    {
     "name": "stdout",
     "output_type": "stream",
     "text": [
      "Questions saved to outputs_questions/article_question_with_topic04.json\n"
     ]
    },
    {
     "name": "stderr",
     "output_type": "stream",
     "text": [
      "Questioning:  67%|██████▋   | 4/6 [03:10<01:19, 39.69s/file]"
     ]
    },
    {
     "name": "stdout",
     "output_type": "stream",
     "text": [
      "Questions saved to outputs_questions/article_question_with_topic04.json\n"
     ]
    },
    {
     "name": "stderr",
     "output_type": "stream",
     "text": [
      "Questioning:  83%|████████▎ | 5/6 [04:18<00:49, 49.69s/file]"
     ]
    },
    {
     "name": "stdout",
     "output_type": "stream",
     "text": [
      "Questions saved to outputs_questions/article_question_with_topic04.json\n"
     ]
    },
    {
     "name": "stderr",
     "output_type": "stream",
     "text": [
      "Questioning: 100%|██████████| 6/6 [04:19<00:00, 43.20s/file]\n"
     ]
    },
    {
     "name": "stdout",
     "output_type": "stream",
     "text": [
      "Questions saved to outputs_questions/article_question_with_topic04.json\n",
      "done 5G时代新型先进显示技术发...—访中国科学院院士欧阳钟灿_张莹_llm_correct.md questions.\n"
     ]
    },
    {
     "name": "stderr",
     "output_type": "stream",
     "text": [
      "Questioning: 100%|██████████| 1/1 [03:22<00:00, 202.57s/file]"
     ]
    },
    {
     "name": "stdout",
     "output_type": "stream",
     "text": [
      "Questions saved to outputs_questions/article_question_with_topic04.json\n",
      "done 5种液晶显示优劣谈_llm_correct.md questions.\n"
     ]
    },
    {
     "name": "stderr",
     "output_type": "stream",
     "text": [
      "\n"
     ]
    }
   ],
   "source": [
    "from utils.common_utils import build_openai_client_chat\n",
    "from utils.topic_concepts import gen_questions_with_topic\n",
    "topics_path = \"outputs_topics/article_topics03.json\"\n",
    "question_path = \"outputs_questions/article_question_with_topic04.json\"\n",
    "chat_model = build_openai_client_chat()\n",
    "gen_questions_with_topic(topics_path, question_path, chat_model)"
   ]
  },
  {
   "cell_type": "code",
   "execution_count": 1,
   "id": "25005437",
   "metadata": {},
   "outputs": [
    {
     "name": "stderr",
     "output_type": "stream",
     "text": [
      "Answering:  25%|██▌       | 1/4 [01:04<03:14, 64.77s/file]"
     ]
    },
    {
     "name": "stdout",
     "output_type": "stream",
     "text": [
      "Answers saved to outputs_answers/article_answers_02.json\n"
     ]
    },
    {
     "name": "stderr",
     "output_type": "stream",
     "text": [
      "Answering:  50%|█████     | 2/4 [01:16<01:07, 33.51s/file]"
     ]
    },
    {
     "name": "stdout",
     "output_type": "stream",
     "text": [
      "Answers saved to outputs_answers/article_answers_02.json\n"
     ]
    },
    {
     "name": "stderr",
     "output_type": "stream",
     "text": [
      "Answering:  75%|███████▌  | 3/4 [02:06<00:41, 41.11s/file]"
     ]
    },
    {
     "name": "stdout",
     "output_type": "stream",
     "text": [
      "Answers saved to outputs_answers/article_answers_02.json\n"
     ]
    },
    {
     "name": "stderr",
     "output_type": "stream",
     "text": [
      "Answering: 100%|██████████| 4/4 [02:29<00:00, 37.29s/file]\n"
     ]
    },
    {
     "name": "stdout",
     "output_type": "stream",
     "text": [
      "Answers saved to outputs_answers/article_answers_02.json\n",
      "done 400×640象素液晶显示的研制_杨兆芳_llm_correct.md answers.\n"
     ]
    },
    {
     "name": "stderr",
     "output_type": "stream",
     "text": [
      "Answering:   8%|▊         | 1/12 [01:05<12:01, 65.58s/file]"
     ]
    },
    {
     "name": "stdout",
     "output_type": "stream",
     "text": [
      "Answers saved to outputs_answers/article_answers_02.json\n"
     ]
    },
    {
     "name": "stderr",
     "output_type": "stream",
     "text": [
      "Answering:  17%|█▋        | 2/12 [01:54<09:17, 55.74s/file]"
     ]
    },
    {
     "name": "stdout",
     "output_type": "stream",
     "text": [
      "Answers saved to outputs_answers/article_answers_02.json\n"
     ]
    },
    {
     "name": "stderr",
     "output_type": "stream",
     "text": [
      "Answering:  25%|██▌       | 3/12 [02:39<07:39, 51.09s/file]"
     ]
    },
    {
     "name": "stdout",
     "output_type": "stream",
     "text": [
      "Answers saved to outputs_answers/article_answers_02.json\n"
     ]
    },
    {
     "name": "stderr",
     "output_type": "stream",
     "text": [
      "Answering:  33%|███▎      | 4/12 [03:36<07:06, 53.36s/file]"
     ]
    },
    {
     "name": "stdout",
     "output_type": "stream",
     "text": [
      "Answers saved to outputs_answers/article_answers_02.json\n"
     ]
    },
    {
     "name": "stderr",
     "output_type": "stream",
     "text": [
      "Answering:  42%|████▏     | 5/12 [04:10<05:23, 46.21s/file]"
     ]
    },
    {
     "name": "stdout",
     "output_type": "stream",
     "text": [
      "Answers saved to outputs_answers/article_answers_02.json\n"
     ]
    },
    {
     "name": "stderr",
     "output_type": "stream",
     "text": [
      "Answering:  50%|█████     | 6/12 [05:34<05:55, 59.20s/file]"
     ]
    },
    {
     "name": "stdout",
     "output_type": "stream",
     "text": [
      "Answers saved to outputs_answers/article_answers_02.json\n"
     ]
    },
    {
     "name": "stderr",
     "output_type": "stream",
     "text": [
      "Answering:  58%|█████▊    | 7/12 [06:11<04:19, 51.80s/file]"
     ]
    },
    {
     "name": "stdout",
     "output_type": "stream",
     "text": [
      "Answers saved to outputs_answers/article_answers_02.json\n"
     ]
    },
    {
     "name": "stderr",
     "output_type": "stream",
     "text": [
      "Answering:  67%|██████▋   | 8/12 [07:22<03:52, 58.09s/file]"
     ]
    },
    {
     "name": "stdout",
     "output_type": "stream",
     "text": [
      "Answers saved to outputs_answers/article_answers_02.json\n"
     ]
    },
    {
     "name": "stderr",
     "output_type": "stream",
     "text": [
      "Answering:  75%|███████▌  | 9/12 [07:48<02:23, 47.86s/file]"
     ]
    },
    {
     "name": "stdout",
     "output_type": "stream",
     "text": [
      "Answers saved to outputs_answers/article_answers_02.json\n"
     ]
    },
    {
     "name": "stderr",
     "output_type": "stream",
     "text": [
      "Answering:  83%|████████▎ | 10/12 [08:17<01:24, 42.26s/file]"
     ]
    },
    {
     "name": "stdout",
     "output_type": "stream",
     "text": [
      "Answers saved to outputs_answers/article_answers_02.json\n"
     ]
    },
    {
     "name": "stderr",
     "output_type": "stream",
     "text": [
      "Answering:  92%|█████████▏| 11/12 [09:06<00:44, 44.29s/file]"
     ]
    },
    {
     "name": "stdout",
     "output_type": "stream",
     "text": [
      "Answers saved to outputs_answers/article_answers_02.json\n"
     ]
    },
    {
     "name": "stderr",
     "output_type": "stream",
     "text": [
      "Answering: 100%|██████████| 12/12 [09:38<00:00, 48.19s/file]\n"
     ]
    },
    {
     "name": "stdout",
     "output_type": "stream",
     "text": [
      "Answers saved to outputs_answers/article_answers_02.json\n",
      "done 5G时代新型先进显示技术发...—访中国科学院院士欧阳钟灿_张莹_llm_correct.md answers.\n"
     ]
    },
    {
     "name": "stderr",
     "output_type": "stream",
     "text": [
      "Answering:  50%|█████     | 1/2 [01:56<01:56, 116.31s/file]"
     ]
    },
    {
     "name": "stdout",
     "output_type": "stream",
     "text": [
      "Answers saved to outputs_answers/article_answers_02.json\n"
     ]
    },
    {
     "name": "stderr",
     "output_type": "stream",
     "text": [
      "Answering: 100%|██████████| 2/2 [02:14<00:00, 67.12s/file] "
     ]
    },
    {
     "name": "stdout",
     "output_type": "stream",
     "text": [
      "Answers saved to outputs_answers/article_answers_02.json\n",
      "done 5种液晶显示优劣谈_llm_correct.md answers.\n"
     ]
    },
    {
     "name": "stderr",
     "output_type": "stream",
     "text": [
      "\n"
     ]
    }
   ],
   "source": [
    "from utils.common_utils import build_openai_client_chat\n",
    "from utils.answer_generation import gen_answer\n",
    "questions_path = \"outputs_questions/article_question_with_topic04.json\"\n",
    "answers_path = \"outputs_answers/article_answers_02.json\"\n",
    "chat_model = build_openai_client_chat()\n",
    "gen_answer(questions_path, chat_model, answers_path)"
   ]
  },
  {
   "cell_type": "code",
   "execution_count": 9,
   "id": "bd4a7917",
   "metadata": {},
   "outputs": [
    {
     "name": "stdout",
     "output_type": "stream",
     "text": [
      "Demjson decode error: Can not decode value starting with character '`'\n"
     ]
    }
   ],
   "source": [
    "import demjson\n",
    "questions = \"\"\"```json\n",
    "[\n",
    "    {\n",
    "        \"concepts\": [\"RGB subpixel addressing\", \"Current mirror matching\", \"Dynamic power management\"],\n",
    "        \"question\": \"A PM-OLED driver must produce 65,000 colors using 8-bit RGB subpixel intensities. Calculate the required number of matched current mirrors per column driver if each RGB subpixel requires 256 discrete current levels, considering a maximum allowable current mismatch of 0.4% between adjacent intensity levels. How does dynamic voltage scaling in power management affect the mirror matching requirements during screen saver activation?\"\n",
    "    },\n",
    "    {\n",
    "        \"concepts\": [\"Parasitic capacitance compensation\", \"Pre-charge circuit optimization\", \"Energy-efficient driving waveforms\"],\n",
    "        \"question\": \"For a 96×64 OLED panel with 15pF column line capacitance, determine the optimal pre-charge voltage (V_pre) and timing duration (t_pre) required to achieve 90% settling within 1μs frame time. The driver uses a switched-resistor precharge circuit with 5kΩ impedance. How would triangular vs rectangular driving waveforms impact both capacitance compensation effectiveness and power consumption?\"\n",
    "    },\n",
    "    {\n",
    "        \"concepts\": [\"256-level contrast adjustment\", \"Negative feedback current stabilization\", \"Leakage current reduction\"],\n",
    "        \"question\": \"A contrast adjustment DAC uses negative feedback to maintain 1.2mA full-scale current with ±0.25% stability. Calculate the required open-loop gain of the error amplifier when process variations cause 8% resistance mismatch in current mirrors. How does subthreshold biasing in standby mode affect the DAC's startup settling characteristics?\"\n",
    "    },\n",
    "    {\n",
    "        \"concepts\": [\"Screen saver implementation\", \"Display uniformity maintenance\", \"Battery-operated system optimization\"],\n",
    "        \"question\": \"A portable medical device displays static ECG waveforms 60% of the time. Compare total system current consumption between always-on and screen saver modes (30% display duty cycle) when the 96×64 panel draws 18mA active current and 150μA standby current. What pixel refresh rate reduction strategy would maintain acceptable waveform visibility while maximizing battery life?\"\n",
    "    },\n",
    "    {\n",
    "        \"concepts\": [\"Signal timing synchronization\", \"Analog current source design\", \"Portable device display integration\"],\n",
    "        \"question\": \"Calculate the maximum tolerable clock skew between row and column drivers in a 96×64 PM-OLED system operating at 85Hz refresh rate, given that pixel current must stabilize within 12% of the 1.8μs line time. How does temperature-induced mobility variation in analog current sources affect this timing margin across -20°C to 60°C operation?\"\n",
    "    }\n",
    "]\n",
    "```\"\"\"\n",
    "\n",
    "try:\n",
    "    output_questions = demjson.decode(questions, strict=False)\n",
    "except demjson.JSONDecodeError as e:\n",
    "    print(f\"Demjson decode error: {e}\")\n",
    "    output_questions = []"
   ]
  },
  {
   "cell_type": "code",
   "execution_count": null,
   "id": "dd743ba9",
   "metadata": {},
   "outputs": [
    {
     "name": "stdout",
     "output_type": "stream",
     "text": [
      "[{'concepts': ['RGB subpixel addressing', 'Current mirror matching', 'Dynamic power management'], 'question': 'A PM-OLED driver must produce 65,000 colors using 8-bit RGB subpixel intensities. Calculate the required number of matched current mirrors per column driver if each RGB subpixel requires 256 discrete current levels, considering a maximum allowable current mismatch of 0.4% between adjacent intensity levels. How does dynamic voltage scaling in power management affect the mirror matching requirements during screen saver activation?'}, {'concepts': ['Parasitic capacitance compensation', 'Pre-charge circuit optimization', 'Energy-efficient driving waveforms'], 'question': 'For a 96×64 OLED panel with 15pF column line capacitance, determine the optimal pre-charge voltage (V_pre) and timing duration (t_pre) required to achieve 90% settling within 1μs frame time. The driver uses a switched-resistor precharge circuit with 5kΩ impedance. How would triangular vs rectangular driving waveforms impact both capacitance compensation effectiveness and power consumption?'}, {'concepts': ['256-level contrast adjustment', 'Negative feedback current stabilization', 'Leakage current reduction'], 'question': \"A contrast adjustment DAC uses negative feedback to maintain 1.2mA full-scale current with ±0.25% stability. Calculate the required open-loop gain of the error amplifier when process variations cause 8% resistance mismatch in current mirrors. How does subthreshold biasing in standby mode affect the DAC's startup settling characteristics?\"}, {'concepts': ['Screen saver implementation', 'Display uniformity maintenance', 'Battery-operated system optimization'], 'question': 'A portable medical device displays static ECG waveforms 60% of the time. Compare total system current consumption between always-on and screen saver modes (30% display duty cycle) when the 96×64 panel draws 18mA active current and 150μA standby current. What pixel refresh rate reduction strategy would maintain acceptable waveform visibility while maximizing battery life?'}, {'concepts': ['Signal timing synchronization', 'Analog current source design', 'Portable device display integration'], 'question': 'Calculate the maximum tolerable clock skew between row and column drivers in a 96×64 PM-OLED system operating at 85Hz refresh rate, given that pixel current must stabilize within 12% of the 1.8μs line time. How does temperature-induced mobility variation in analog current sources affect this timing margin across -20°C to 60°C operation?'}]\n"
     ]
    }
   ],
   "source": [
    "import re\n",
    "import regex\n",
    "import json\n",
    "\n",
    "def extract_and_parse_json(text):\n",
    "    # 使用 regex 提取 JSON 部分\n",
    "    match = regex.search(r'\\$$(?:[^\\$$]|(?R))*\\$$|{(?:[^{]|(?R))*}|\\[(?:[^\\$$]|(?R))*]', text, flags=regex.DOTALL)\n",
    "    if match:\n",
    "        try:\n",
    "            return json.loads(match.group())\n",
    "        except json.JSONDecodeError as e:\n",
    "            print(f\"无法解析提取的 JSON 内容: {e}\")\n",
    "    else:\n",
    "        print(\"未找到有效的 JSON 内容。\")\n",
    "    return None\n",
    "questions = \"\"\"```json\n",
    "[\n",
    "    {\n",
    "        \"concepts\": [\"RGB subpixel addressing\", \"Current mirror matching\", \"Dynamic power management\"],\n",
    "        \"question\": \"A PM-OLED driver must produce 65,000 colors using 8-bit RGB subpixel intensities. Calculate the required number of matched current mirrors per column driver if each RGB subpixel requires 256 discrete current levels, considering a maximum allowable current mismatch of 0.4% between adjacent intensity levels. How does dynamic voltage scaling in power management affect the mirror matching requirements during screen saver activation?\"\n",
    "    },\n",
    "    {\n",
    "        \"concepts\": [\"Parasitic capacitance compensation\", \"Pre-charge circuit optimization\", \"Energy-efficient driving waveforms\"],\n",
    "        \"question\": \"For a 96×64 OLED panel with 15pF column line capacitance, determine the optimal pre-charge voltage (V_pre) and timing duration (t_pre) required to achieve 90% settling within 1μs frame time. The driver uses a switched-resistor precharge circuit with 5kΩ impedance. How would triangular vs rectangular driving waveforms impact both capacitance compensation effectiveness and power consumption?\"\n",
    "    },\n",
    "    {\n",
    "        \"concepts\": [\"256-level contrast adjustment\", \"Negative feedback current stabilization\", \"Leakage current reduction\"],\n",
    "        \"question\": \"A contrast adjustment DAC uses negative feedback to maintain 1.2mA full-scale current with ±0.25% stability. Calculate the required open-loop gain of the error amplifier when process variations cause 8% resistance mismatch in current mirrors. How does subthreshold biasing in standby mode affect the DAC's startup settling characteristics?\"\n",
    "    },\n",
    "    {\n",
    "        \"concepts\": [\"Screen saver implementation\", \"Display uniformity maintenance\", \"Battery-operated system optimization\"],\n",
    "        \"question\": \"A portable medical device displays static ECG waveforms 60% of the time. Compare total system current consumption between always-on and screen saver modes (30% display duty cycle) when the 96×64 panel draws 18mA active current and 150μA standby current. What pixel refresh rate reduction strategy would maintain acceptable waveform visibility while maximizing battery life?\"\n",
    "    },\n",
    "    {\n",
    "        \"concepts\": [\"Signal timing synchronization\", \"Analog current source design\", \"Portable device display integration\"],\n",
    "        \"question\": \"Calculate the maximum tolerable clock skew between row and column drivers in a 96×64 PM-OLED system operating at 85Hz refresh rate, given that pixel current must stabilize within 12% of the 1.8μs line time. How does temperature-induced mobility variation in analog current sources affect this timing margin across -20°C to 60°C operation?\"\n",
    "    }\n",
    "]\n",
    "```\"\"\"\n",
    "# 使用通用函数解析\n",
    "parsed_data = extract_and_parse_json(questions)\n",
    "if parsed_data:\n",
    "    print(parsed_data)"
   ]
  },
  {
   "cell_type": "code",
   "execution_count": 6,
   "id": "4fc845f5",
   "metadata": {},
   "outputs": [
    {
     "name": "stdout",
     "output_type": "stream",
     "text": [
      "无法解析提取的 JSON 内容: Invalid \\escape: line 4 column 92 (char 235)\n"
     ]
    }
   ],
   "source": [
    "questions1 = \"\"\"\n",
    "\n",
    "[\n",
    "    {\n",
    "        \"concepts\": [\"Operational amplifiers (Op-Amps) in voltage-to-current conversion\", \"Subthreshold conduction exponential model\"],\n",
    "        \"question\": \"A voltage-to-current (V/I) converter uses a bandgap reference voltage \\( V_{\\mathrm{bg}} = 1.2~\\mathrm{V} \\) and an external resistor \\( R_0 = 15~\\mathrm{k\\Omega} \\). The resulting current drives a MOSFET operating in the subthreshold region with parameters \\( I_{\\mathrm{d0}} = 10~\\mathrm{nA} \\), \\( \\zeta = 1.5 \\), and \\( V_{\\mathrm{th}} = 0.4~\\mathrm{V} \\). Calculate the required \\( W/L \\) ratio to achieve a drain current of \\( 75~\\mathrm{nA} \\) at \\( V_{\\mathrm{gs}} = 0.45~\\mathrm{V} \\). Assume thermal voltage \\( V_{\\mathrm{th,thermal}} = 26~\\mathrm{mV} \\).\"\n",
    "    },\n",
    "    {\n",
    "        \"concepts\": [\"N-bit current-steering DAC architecture\", \"Binary-weighted current sources\"],\n",
    "        \"question\": \"A 5-bit brightness control DAC uses binary-weighted current sources with a maximum output current of \\( 680~\\mathrm{\\mu A} \\). If the MSB current source corresponds to \\( 16 \\times I_{\\mathrm{LSB}} \\), determine (a) the LSB current value and (b) the total current range when all bits are activated. Verify if this matches the specified \\( 5~\\mathrm{\\mu A} \\) to \\( 680~\\mathrm{\\mu A} \\) range mentioned in the system.\"\n",
    "    },\n",
    "    {\n",
    "        \"concepts\": [\"Charge pump circuits for negative voltage generation\", \"Power dissipation trade-offs in conduction regimes\"],\n",
    "        \"question\": \"A charge pump generates a -9V cathode voltage with 85% efficiency. If the display operates at 30 MHz with a total switched capacitance of \\( 150~\\mathrm{pF} \\) and draws \\( 2.8~\\mathrm{mA} \\) from a 3.3V supply, calculate the total power dissipation considering both switching losses and DC current consumption.\"\n",
    "    },\n",
    "    {\n",
    "        \"concepts\": [\"Non-overlapping clock circuits for dynamic power reduction\", \"Frequency response optimization\"],\n",
    "        \"question\": \"A non-overlapping clock circuit operates at 25 MHz with 1.2V swing and 5 pF load capacitance per phase. Calculate the dynamic power saved per cycle compared to a standard clock, assuming the non-overlapping design eliminates 80% of the crowbar current that normally occurs during 15% of the transition period in a conventional clock.\"\n",
    "    },\n",
    "    {\n",
    "        \"concepts\": [\"Saturation region square law relationship\", \"Threshold voltage mismatch sensitivity\"],\n",
    "        \"question\": \"A saturated nMOS constant current source must maintain \\( I_d = 120~\\mathrm{\\mu A} \\) despite \\( \\pm 8\\% \\) \\( V_{\\mathrm{th}} \\) variation. Using the square law equation \\( I_d = \\frac{1}{2} \\mu_n C_{\\mathrm{ox}} (W/L) (V_{\\mathrm{gs}} - V_{\\mathrm{th}})^2 \\), determine the minimum \\( V_{\\mathrm{gs}} \\) that guarantees \\( I_d \\geq 100~\\mathrm{\\mu A} \\) under worst-case threshold voltage conditions. Assume \\( \\mu_n C_{\\mathrm{ox}} (W/L) = 0.5~\\mathrm{mA/V^2} \\).\"\n",
    "    }\n",
    "]\"\"\"\n",
    "# 使用通用函数解析\n",
    "parsed_data = extract_and_parse_json(questions1)\n",
    "if parsed_data:\n",
    "    print(parsed_data)"
   ]
  },
  {
   "cell_type": "code",
   "execution_count": 1,
   "id": "0b9c9174",
   "metadata": {},
   "outputs": [],
   "source": [
    "questions1 = \"\"\"```json\n",
    "[\n",
    "    {\n",
    "        \"concepts\": [\"RGB subpixel addressing\", \"Current mirror matching\", \"Dynamic power management\"],\n",
    "        \"question\": \"A PM-OLED driver must produce 65,000 colors using 8-bit RGB subpixel intensities. Calculate the required number of matched current mirrors per column driver if each RGB subpixel requires 256 discrete current levels, considering a maximum allowable current mismatch of 0.4% between adjacent intensity levels. How does dynamic voltage scaling in power management affect the mirror matching requirements during screen saver activation?\"\n",
    "    },\n",
    "    {\n",
    "        \"concepts\": [\"Parasitic capacitance compensation\", \"Pre-charge circuit optimization\", \"Energy-efficient driving waveforms\"],\n",
    "        \"question\": \"For a 96×64 OLED panel with 15pF column line capacitance, determine the optimal pre-charge voltage (V_pre) and timing duration (t_pre) required to achieve 90% settling within 1μs frame time. The driver uses a switched-resistor precharge circuit with 5kΩ impedance. How would triangular vs rectangular driving waveforms impact both capacitance compensation effectiveness and power consumption?\"\n",
    "    },\n",
    "    {\n",
    "        \"concepts\": [\"256-level contrast adjustment\", \"Negative feedback current stabilization\", \"Leakage current reduction\"],\n",
    "        \"question\": \"A contrast adjustment DAC uses negative feedback to maintain 1.2mA full-scale current with ±0.25% stability. Calculate the required open-loop gain of the error amplifier when process variations cause 8% resistance mismatch in current mirrors. How does subthreshold biasing in standby mode affect the DAC's startup settling characteristics?\"\n",
    "    },\n",
    "    {\n",
    "        \"concepts\": [\"Screen saver implementation\", \"Display uniformity maintenance\", \"Battery-operated system optimization\"],\n",
    "        \"question\": \"A portable medical device displays static ECG waveforms 60% of the time. Compare total system current consumption between always-on and screen saver modes (30% display duty cycle) when the 96×64 panel draws 18mA active current and 150μA standby current. What pixel refresh rate reduction strategy would maintain acceptable waveform visibility while maximizing battery life?\"\n",
    "    },\n",
    "    {\n",
    "        \"concepts\": [\"Signal timing synchronization\", \"Analog current source design\", \"Portable device display integration\"],\n",
    "        \"question\": \"Calculate the maximum tolerable clock skew between row and column drivers in a 96×64 PM-OLED system operating at 85Hz refresh rate, given that pixel current must stabilize within 12% of the 1.8μs line time. How does temperature-induced mobility variation in analog current sources affect this timing margin across -20°C to 60°C operation?\"\n",
    "    }\n",
    "]\n",
    "```\"\"\"\n",
    "questions2 = \"\"\"\n",
    "\n",
    "[\n",
    "    {\n",
    "        \"concepts\": [\"Operational amplifiers (Op-Amps) in voltage-to-current conversion\", \"Subthreshold conduction exponential model\"],\n",
    "        \"question\": \"A voltage-to-current (V/I) converter uses a bandgap reference voltage \\( V_{\\mathrm{bg}} = 1.2~\\mathrm{V} \\) and an external resistor \\( R_0 = 15~\\mathrm{k\\Omega} \\). The resulting current drives a MOSFET operating in the subthreshold region with parameters \\( I_{\\mathrm{d0}} = 10~\\mathrm{nA} \\), \\( \\zeta = 1.5 \\), and \\( V_{\\mathrm{th}} = 0.4~\\mathrm{V} \\). Calculate the required \\( W/L \\) ratio to achieve a drain current of \\( 75~\\mathrm{nA} \\) at \\( V_{\\mathrm{gs}} = 0.45~\\mathrm{V} \\). Assume thermal voltage \\( V_{\\mathrm{th,thermal}} = 26~\\mathrm{mV} \\).\"\n",
    "    },\n",
    "    {\n",
    "        \"concepts\": [\"N-bit current-steering DAC architecture\", \"Binary-weighted current sources\"],\n",
    "        \"question\": \"A 5-bit brightness control DAC uses binary-weighted current sources with a maximum output current of \\( 680~\\mathrm{\\mu A} \\). If the MSB current source corresponds to \\( 16 \\times I_{\\mathrm{LSB}} \\), determine (a) the LSB current value and (b) the total current range when all bits are activated. Verify if this matches the specified \\( 5~\\mathrm{\\mu A} \\) to \\( 680~\\mathrm{\\mu A} \\) range mentioned in the system.\"\n",
    "    },\n",
    "    {\n",
    "        \"concepts\": [\"Charge pump circuits for negative voltage generation\", \"Power dissipation trade-offs in conduction regimes\"],\n",
    "        \"question\": \"A charge pump generates a -9V cathode voltage with 85% efficiency. If the display operates at 30 MHz with a total switched capacitance of \\( 150~\\mathrm{pF} \\) and draws \\( 2.8~\\mathrm{mA} \\) from a 3.3V supply, calculate the total power dissipation considering both switching losses and DC current consumption.\"\n",
    "    },\n",
    "    {\n",
    "        \"concepts\": [\"Non-overlapping clock circuits for dynamic power reduction\", \"Frequency response optimization\"],\n",
    "        \"question\": \"A non-overlapping clock circuit operates at 25 MHz with 1.2V swing and 5 pF load capacitance per phase. Calculate the dynamic power saved per cycle compared to a standard clock, assuming the non-overlapping design eliminates 80% of the crowbar current that normally occurs during 15% of the transition period in a conventional clock.\"\n",
    "    },\n",
    "    {\n",
    "        \"concepts\": [\"Saturation region square law relationship\", \"Threshold voltage mismatch sensitivity\"],\n",
    "        \"question\": \"A saturated nMOS constant current source must maintain \\( I_d = 120~\\mathrm{\\mu A} \\) despite \\( \\pm 8\\% \\) \\( V_{\\mathrm{th}} \\) variation. Using the square law equation \\( I_d = \\frac{1}{2} \\mu_n C_{\\mathrm{ox}} (W/L) (V_{\\mathrm{gs}} - V_{\\mathrm{th}})^2 \\), determine the minimum \\( V_{\\mathrm{gs}} \\) that guarantees \\( I_d \\geq 100~\\mathrm{\\mu A} \\) under worst-case threshold voltage conditions. Assume \\( \\mu_n C_{\\mathrm{ox}} (W/L) = 0.5~\\mathrm{mA/V^2} \\).\"\n",
    "    }\n",
    "]\"\"\""
   ]
  },
  {
   "cell_type": "code",
   "execution_count": null,
   "id": "cc0add0c",
   "metadata": {},
   "outputs": [
    {
     "name": "stdout",
     "output_type": "stream",
     "text": [
      "[{'concepts': ['RGB subpixel addressing', 'Current mirror matching', 'Dynamic power management'], 'question': 'A PM-OLED driver must produce 65,000 colors using 8-bit RGB subpixel intensities. Calculate the required number of matched current mirrors per column driver if each RGB subpixel requires 256 discrete current levels, considering a maximum allowable current mismatch of 0.4% between adjacent intensity levels. How does dynamic voltage scaling in power management affect the mirror matching requirements during screen saver activation?'}, {'concepts': ['Parasitic capacitance compensation', 'Pre-charge circuit optimization', 'Energy-efficient driving waveforms'], 'question': 'For a 96×64 OLED panel with 15pF column line capacitance, determine the optimal pre-charge voltage (V_pre) and timing duration (t_pre) required to achieve 90% settling within 1μs frame time. The driver uses a switched-resistor precharge circuit with 5kΩ impedance. How would triangular vs rectangular driving waveforms impact both capacitance compensation effectiveness and power consumption?'}, {'concepts': ['256-level contrast adjustment', 'Negative feedback current stabilization', 'Leakage current reduction'], 'question': \"A contrast adjustment DAC uses negative feedback to maintain 1.2mA full-scale current with ±0.25% stability. Calculate the required open-loop gain of the error amplifier when process variations cause 8% resistance mismatch in current mirrors. How does subthreshold biasing in standby mode affect the DAC's startup settling characteristics?\"}, {'concepts': ['Screen saver implementation', 'Display uniformity maintenance', 'Battery-operated system optimization'], 'question': 'A portable medical device displays static ECG waveforms 60% of the time. Compare total system current consumption between always-on and screen saver modes (30% display duty cycle) when the 96×64 panel draws 18mA active current and 150μA standby current. What pixel refresh rate reduction strategy would maintain acceptable waveform visibility while maximizing battery life?'}, {'concepts': ['Signal timing synchronization', 'Analog current source design', 'Portable device display integration'], 'question': 'Calculate the maximum tolerable clock skew between row and column drivers in a 96×64 PM-OLED system operating at 85Hz refresh rate, given that pixel current must stabilize within 12% of the 1.8μs line time. How does temperature-induced mobility variation in analog current sources affect this timing margin across -20°C to 60°C operation?'}]\n",
      "[{'concepts': ['Operational amplifiers (Op-Amps) in voltage-to-current conversion', 'Subthreshold conduction exponential model'], 'question': 'A voltage-to-current (V/I) converter uses a bandgap reference voltage ( V_{mathrm{bg}} = 1.2~mathrm{V} ) and an external resistor ( R_0 = 15~mathrm{kOmega} ). The resulting current drives a MOSFET operating in the subthreshold region with parameters ( I_{mathrm{d0}} = 10~mathrm{nA} ), ( zeta = 1.5 ), and ( V_{mathrm{th}} = 0.4~mathrm{V} ). Calculate the required ( W/L ) ratio to achieve a drain current of ( 75~mathrm{nA} ) at ( V_{mathrm{gs}} = 0.45~mathrm{V} ). Assume thermal voltage ( V_{mathrm{th,thermal}} = 26~mathrm{mV} ).'}, {'concepts': ['N-bit current-steering DAC architecture', 'Binary-weighted current sources'], 'question': 'A 5-bit brightness control DAC uses binary-weighted current sources with a maximum output current of ( 680~mathrm{mu A} ). If the MSB current source corresponds to ( 16 \\times I_{mathrm{LSB}} ), determine (a) the LSB current value and (b) the total current range when all bits are activated. Verify if this matches the specified ( 5~mathrm{mu A} ) to ( 680~mathrm{mu A} ) range mentioned in the system.'}, {'concepts': ['Charge pump circuits for negative voltage generation', 'Power dissipation trade-offs in conduction regimes'], 'question': 'A charge pump generates a -9V cathode voltage with 85% efficiency. If the display operates at 30 MHz with a total switched capacitance of ( 150~mathrm{pF} ) and draws ( 2.8~mathrm{mA} ) from a 3.3V supply, calculate the total power dissipation considering both switching losses and DC current consumption.'}, {'concepts': ['Non-overlapping clock circuits for dynamic power reduction', 'Frequency response optimization'], 'question': 'A non-overlapping clock circuit operates at 25 MHz with 1.2V swing and 5 pF load capacitance per phase. Calculate the dynamic power saved per cycle compared to a standard clock, assuming the non-overlapping design eliminates 80% of the crowbar current that normally occurs during 15% of the transition period in a conventional clock.'}, {'concepts': ['Saturation region square law relationship', 'Threshold voltage mismatch sensitivity'], 'question': 'A saturated nMOS constant current source must maintain ( I_d = 120~mathrm{mu A} ) despite ( pm 8% ) ( V_{mathrm{th}} ) variation. Using the square law equation ( I_d = \\x0crac{1}{2} mu_n C_{mathrm{ox}} (W/L) (V_{mathrm{gs}} - V_{mathrm{th}})^2 ), determine the minimum ( V_{mathrm{gs}} ) that guarantees ( I_d geq 100~mathrm{mu A} ) under worst-case threshold voltage conditions. Assume ( mu_n C_{mathrm{ox}} (W/L) = 0.5~mathrm{mA/V^2} ).'}]\n"
     ]
    }
   ],
   "source": [
    "import json\n",
    "import demjson\n",
    "def clean_and_parse(json_str):\n",
    "    # 去除 Markdown 的 ```json 和 ```\n",
    "    cleaned = json_str.strip().removeprefix('```json').removesuffix('```').strip()\n",
    "    try:\n",
    "        return demjson.decode(cleaned)\n",
    "    except demjson.JSONDecodeError as e:\n",
    "        print(f\"JSON 解码错误: {e}\")\n",
    "        return None\n",
    "# 调用示例\n",
    "parsed_data = clean_and_parse(questions1)\n",
    "if parsed_data:\n",
    "    print(parsed_data)\n",
    "parsed_data = clean_and_parse(questions2)\n",
    "if parsed_data:\n",
    "    print(parsed_data)"
   ]
  },
  {
   "cell_type": "code",
   "execution_count": 1,
   "id": "2f1112e1",
   "metadata": {},
   "outputs": [
    {
     "name": "stdout",
     "output_type": "stream",
     "text": [
      "2.5.1\n"
     ]
    }
   ],
   "source": [
    "import torch\n",
    "print(torch.__version__)  # 应该能正常执行"
   ]
  },
  {
   "cell_type": "code",
   "execution_count": null,
   "id": "0bf8a12f",
   "metadata": {},
   "outputs": [],
   "source": [
    "str1 = \"asd\"\n",
    "print(f\"dddd {'aa' if str1 == 'asd' else ''}\")"
   ]
  }
 ],
 "metadata": {
  "kernelspec": {
   "display_name": "raft",
   "language": "python",
   "name": "python3"
  },
  "language_info": {
   "codemirror_mode": {
    "name": "ipython",
    "version": 3
   },
   "file_extension": ".py",
   "mimetype": "text/x-python",
   "name": "python",
   "nbconvert_exporter": "python",
   "pygments_lexer": "ipython3",
   "version": "3.10.17"
  }
 },
 "nbformat": 4,
 "nbformat_minor": 5
}

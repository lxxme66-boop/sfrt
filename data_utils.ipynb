{
 "cells": [
  {
   "cell_type": "markdown",
   "id": "54d665b2",
   "metadata": {},
   "source": [
    "# 数据格式转换"
   ]
  },
  {
   "cell_type": "code",
   "execution_count": 15,
   "id": "661f5b41",
   "metadata": {},
   "outputs": [],
   "source": [
    "# 将 jsonl 文件转换为 json 文件\n",
    "# jsonl {\"instruction\": \"text\", \"input\": \"\", \"output\": \"text\"} 转换为 json [{\"instruction\": \"text\", \"input\": \"\", \"output\": \"text\"}]\n",
    "import json\n",
    "def get_jsonl(file_path):\n",
    "    data = []\n",
    "    with open(file_path, 'r', encoding='utf-8') as file:\n",
    "        for line in file:\n",
    "            data.append(json.loads(line.strip()))\n",
    "    return data"
   ]
  },
  {
   "cell_type": "code",
   "execution_count": 9,
   "id": "f93fb6e7",
   "metadata": {},
   "outputs": [],
   "source": [
    "import os\n",
    "def get_filenames(dir):\n",
    "    filenames = [filename for filename in os.listdir(dir) if \"_sft\" in filename]\n",
    "    print(f\"filenames: {filenames}\")\n",
    "    return filenames"
   ]
  },
  {
   "cell_type": "code",
   "execution_count": 8,
   "id": "8f5ce911",
   "metadata": {},
   "outputs": [
    {
     "name": "stdout",
     "output_type": "stream",
     "text": [
      "filenames: ['outputs_test08_sft.jsonl', 'outputs_test09_sft.jsonl']\n"
     ]
    }
   ],
   "source": [
    "get_filenames(\"outputs_jsonl/outputs_jsonl/\")"
   ]
  },
  {
   "cell_type": "code",
   "execution_count": 18,
   "id": "930a68e1",
   "metadata": {},
   "outputs": [],
   "source": [
    "from collections import OrderedDict\n",
    "def ordered_json_data(json_data):\n",
    "    ordered_data = []\n",
    "    for item in json_data:\n",
    "        ordered_item = OrderedDict([\n",
    "            (\"instruction\", item[\"instruction\"]),\n",
    "            (\"input\", item[\"input\"]),\n",
    "            (\"output\", item[\"output\"])\n",
    "        ])\n",
    "        ordered_data.append(ordered_item)\n",
    "    return ordered_data\n",
    "    \n",
    "def jsonl2json(mydir, json_path):\n",
    "    filenames = get_filenames(mydir)\n",
    "    json_data = []\n",
    "    for filename in filenames:\n",
    "        filepath = os.path.join(mydir, filename)\n",
    "        json_data.extend(get_jsonl(filepath))\n",
    "\n",
    "    # 在保存前调用这个函数\n",
    "    json_data = ordered_json_data(json_data)\n",
    "    \n",
    "    with open(json_path, 'w', encoding='utf-8') as file:\n",
    "        file.write(json.dumps(json_data, ensure_ascii=False, indent=4))\n",
    "        print(\"JSONL file converted to JSON\")"
   ]
  },
  {
   "cell_type": "code",
   "execution_count": 19,
   "id": "071be94f",
   "metadata": {},
   "outputs": [
    {
     "name": "stdout",
     "output_type": "stream",
     "text": [
      "filenames: ['outputs_test08_sft.jsonl', 'outputs_test09_sft.jsonl']\n",
      "JSONL file converted to JSON\n"
     ]
    }
   ],
   "source": [
    "jsonl2json(\"outputs_jsonl/outputs_jsonl/\", \"outputs_jsonl/outputs_jsonl/outputs_01.json\")"
   ]
  }
 ],
 "metadata": {
  "kernelspec": {
   "display_name": "raft",
   "language": "python",
   "name": "python3"
  },
  "language_info": {
   "codemirror_mode": {
    "name": "ipython",
    "version": 3
   },
   "file_extension": ".py",
   "mimetype": "text/x-python",
   "name": "python",
   "nbconvert_exporter": "python",
   "pygments_lexer": "ipython3",
   "version": "3.10.17"
  }
 },
 "nbformat": 4,
 "nbformat_minor": 5
}

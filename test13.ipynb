{
 "cells": [
  {
   "cell_type": "markdown",
   "id": "717ed0ad",
   "metadata": {},
   "source": [
    "# 阿里的 RAFT\n",
    "1. Alpaca Intruction Dataset\n",
    "2. query-generation: few-shots, query-type, 3 query examples, context chunk\n",
    "2. prompt + qwen-110b/llama3-70b -> query-generation\n",
    "3. answer-generation: prompt_tmpl, query, chunks(positive)\n",
    "3. query,chunk,raw-answer + qwen-110b -> answer-rewritting -> advanced-answer\n",
    "4. data synthesis: query, chunk, answer, retrieved negative chunks\n",
    "4. query -> negatives retrieval -> retrieved negative chunks\n",
    "4. advanced-answer, retrieved negative chunks, query, positive chunk -> data synthesis\n",
    "5. sft instruction: prompt_tmpl, query, chunks(positive, negative)  -> output: reasoning_content, answer\n",
    "\n",
    "# 关于阿里流程的疑问\n",
    "1. answer-rewritting的作用是？提升是？为什么要重写答案？raw-answer和answer-rewritting有什么区别？raw-answer存在什么问题？\n",
    "2. raw-answer是怎么来的？raw-answer是直接从chunk中抽取的答案，然后进行重写，重写后的答案作为最终的答案。\n",
    "3. query generation的prompt_tmpl是什么？chunk,few shots(q_type,3 query examples)\n",
    "# 对比现有的方法\n",
    "1. query generation: prompt_tmpl/messages:[]\n",
    "[\n",
    "    {\"role\": \"system\", \"content\": \"You are a helpful assistant.\"},\n",
    "    {\"role\": \"user\", \"content\": f\"\"\"半导体专家，{num_questions}个问题。\n",
    "        【核心要求】：问题设计准则，科学严谨性\n",
    "        【禁止事项】\n",
    "        【格式要求】\n",
    "        论文开始{chunk_*4}论文结束\"\"\"\n",
    "    }\n",
    "]\n",
    "2. cot_answer generation: prompt_tmpl/messages:[]\n",
    "[\n",
    "    {\"role\": \"system\", \"content\": \"You are a helpful assistant.\"},\n",
    "    {\"role\": \"user\", \"content\": f\"\"\"{\n",
    "            \"instruction\": \"你是半导体专家\",\n",
    "            \"input\": {\n",
    "                \"context\": \"{chunk_*4,chunk_id,source}\",\n",
    "                \"question\": \"{question}\"\n",
    "            },\n",
    "            \"output\": \"{\n",
    "                \"answer\": \"根据切片信息中文作答。\"\n",
    "            }\",\n",
    "            \"requirements\": [\n",
    "                \"根据切片信息中文作答。\"\n",
    "            ]\n",
    "        }\"\"\"\n",
    "    }\n",
    "]\n",
    "3. data synthesis:\n",
    "{\n",
    "    \"instruction\": \"\"\"{\n",
    "        \"instruction\": \"你是半导体专家\",\n",
    "        \"input\": {\n",
    "            \"context\": \"{chunk_*4,chunk_d4,chunk_id,source}\",\n",
    "            \"question\": \"{question}\"\n",
    "        },\n",
    "        \"output\": \"{\n",
    "            \"answer\": \"根据切片信息中文作答。\"\n",
    "        }\",\n",
    "        \"requirements\": [\n",
    "            \"根据切片信息中文作答。\"\n",
    "        ]\n",
    "    }\"\"\", \n",
    "    \"input\": \"\", \n",
    "    \"output\": <think>reasoning_content\\n</think>\\n\\nanswer\n",
    "}"
   ]
  },
  {
   "cell_type": "markdown",
   "id": "90a325eb",
   "metadata": {},
   "source": [
    "# 当下的 RAFT 数据构造流程\n",
    "1. 单篇文档\n",
    "1. 获取单篇文档的 chunks\n",
    "1. 获取单篇文档的 chunks 的 questions\n",
    "1. 获取单篇文档的 questions 的 answers\n",
    "1. 构建 RAFT 数据集"
   ]
  },
  {
   "cell_type": "markdown",
   "id": "b19586e2",
   "metadata": {},
   "source": [
    "# 新版本 RAFT 数据集构建流程\n",
    "1. 读取 文本源文件，分块，得到所有的文本块；\n",
    "2. query generation  阶段，对每四个文本块进行 query 生成；\n",
    "2. 在单篇文章中，选择连续4个文本块，对这四个文本块进行 query 生成；doc_id\n",
    "2. 按照 文章为单位，进行遍历，对每篇文章/每四个文本块进行 query 生成；\n",
    "3. answer generation 阶段，对每四个文本块/query进行 answer 生成；\n",
    "3. [{chunk_*4, chunk_id, source}], question + prompt -> content, reasoning_content -> 推理数据；\n",
    "4. 数据合成：RAFT数据集，sft数据集，推理数据集；\n",
    "4. 推理数据集 instruction,input,output;\n",
    "4. instruction -> context(chunk_*4+chunk_d4, chunk_id, source),question,prompt\n",
    "4. output -> reasoning_content,answer"
   ]
  },
  {
   "cell_type": "code",
   "execution_count": 1,
   "id": "1ebced0e",
   "metadata": {},
   "outputs": [],
   "source": [
    "from utils.query_generation import read_file_names"
   ]
  },
  {
   "cell_type": "code",
   "execution_count": 2,
   "id": "25e097dd",
   "metadata": {},
   "outputs": [
    {
     "name": "stdout",
     "output_type": "stream",
     "text": [
      "len(file_names): 277\n"
     ]
    }
   ],
   "source": [
    "filenames = read_file_names(\"data/\", ext=\".md\")"
   ]
  },
  {
   "cell_type": "code",
   "execution_count": 4,
   "id": "60e6a15c",
   "metadata": {},
   "outputs": [
    {
     "data": {
      "text/plain": [
       "'10大新显示技术_llm_correct.md'"
      ]
     },
     "execution_count": 4,
     "metadata": {},
     "output_type": "execute_result"
    }
   ],
   "source": [
    "filenames[2]"
   ]
  }
 ],
 "metadata": {
  "kernelspec": {
   "display_name": "raft",
   "language": "python",
   "name": "python3"
  },
  "language_info": {
   "codemirror_mode": {
    "name": "ipython",
    "version": 3
   },
   "file_extension": ".py",
   "mimetype": "text/x-python",
   "name": "python",
   "nbconvert_exporter": "python",
   "pygments_lexer": "ipython3",
   "version": "3.10.17"
  }
 },
 "nbformat": 4,
 "nbformat_minor": 5
}
